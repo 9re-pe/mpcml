{
 "cells": [
  {
   "cell_type": "markdown",
   "id": "d2a48031-491b-49ff-8899-4e2b2755584d",
   "metadata": {
    "tags": []
   },
   "source": [
    "# Import"
   ]
  },
  {
   "cell_type": "code",
   "execution_count": 1,
   "id": "4b3f4f0b-e5fe-4e01-a088-8633a9a32a9c",
   "metadata": {
    "tags": []
   },
   "outputs": [],
   "source": [
    "import sys\n",
    "\n",
    "root_dir = '../../'\n",
    "if root_dir not in sys.path:\n",
    "    sys.path.append(root_dir)\n",
    "\n",
    "import torch\n",
    "from torch import nn, optim\n",
    "import numpy as np\n",
    "from sklearn.decomposition import TruncatedSVD\n",
    "from scipy.sparse import csr_matrix\n",
    "\n",
    "from modules import losses, models, samplers, regularizers, evaluators, trainers, datasets, distributions"
   ]
  },
  {
   "cell_type": "markdown",
   "id": "26c764ee-b02d-4c63-bfe8-f3761caeca83",
   "metadata": {
    "tags": []
   },
   "source": [
    "# DataSet"
   ]
  },
  {
   "cell_type": "code",
   "execution_count": 2,
   "id": "0b0f76a4-6de1-441e-95bf-3cbce34ba7b4",
   "metadata": {
    "tags": []
   },
   "outputs": [],
   "source": [
    "dataset = datasets.ML100k()\n",
    "n_user = dataset.n_user\n",
    "n_item = dataset.n_item\n",
    "train_set, test_set = dataset.get_train_and_test_set()\n",
    "\n",
    "# device setting\n",
    "device = torch.device(\"cuda:0\" if torch.cuda.is_available() else \"cpu\")\n",
    "train_set = torch.LongTensor(train_set).to(device)\n",
    "test_set = torch.LongTensor(test_set).to(device)"
   ]
  },
  {
   "cell_type": "markdown",
   "id": "e5890c22-5a53-4954-b3c1-a7f0c92c4977",
   "metadata": {
    "tags": []
   },
   "source": [
    "# Evaluator"
   ]
  },
  {
   "cell_type": "code",
   "execution_count": 3,
   "id": "32edd550-d71b-49d8-9410-e80bafc8cbd5",
   "metadata": {
    "tags": []
   },
   "outputs": [],
   "source": [
    "# k\n",
    "ks = [5, 10, 50]\n",
    "\n",
    "# Accuracy\n",
    "recall = evaluators.RecallEvaluator(test_set, ks)\n",
    "\n",
    "# Unpopularity\n",
    "unpopularity = evaluators.UnpopularityEvaluator(test_set, ks)\n",
    "\n",
    "# F1-Score (Recall-Unpopularity)\n",
    "f1_score = evaluators.F1ScoreEvaluator(test_set, ks)\n",
    "\n",
    "# Coverage\n",
    "coverage = evaluators.CoverageEvaluator(test_set, ks)\n",
    "\n",
    "# Hubness\n",
    "hubness = evaluators.HubnessEvaluator(test_set, ks)"
   ]
  },
  {
   "cell_type": "markdown",
   "id": "e7f08835-4edb-4111-8a66-2015442516fd",
   "metadata": {
    "tags": []
   },
   "source": [
    "# Sampler"
   ]
  },
  {
   "cell_type": "code",
   "execution_count": 4,
   "id": "bb75d206-b691-4cbe-b616-fc37cad91993",
   "metadata": {
    "tags": []
   },
   "outputs": [],
   "source": [
    "sampler = samplers.BaseSampler(train_set, n_user, n_item, device=device, strict_negative=False)"
   ]
  },
  {
   "cell_type": "markdown",
   "id": "3f817d5f-625f-468e-ba87-80cb4f962c77",
   "metadata": {
    "tags": []
   },
   "source": [
    "# Model"
   ]
  },
  {
   "cell_type": "code",
   "execution_count": 5,
   "id": "845147ca-242a-44c6-9a74-a1c0e624f37b",
   "metadata": {
    "tags": []
   },
   "outputs": [],
   "source": [
    "# Hyperparameters\n",
    "lr = 1e-3\n",
    "n_dim = 10\n",
    "n_batch = 256\n",
    "n_epoch = 50\n",
    "valid_per_epoch = 10\n",
    "n_item_sample = 30\n",
    "n_user_sample = 30\n",
    "no_progressbar = True\n",
    "\n",
    "# distributiuons\n",
    "dist1 = distributions.Empirical()\n",
    "dist2 = distributions.Gaussian()\n",
    "dist3 = distributions.Gamma()\n",
    "\n",
    "# models\n",
    "model0 = models.CollaborativeMetricLearning(n_user, n_item, n_dim).to(device)\n",
    "model1 = models.MutualProximityCML(n_user, n_item, dist1, n_dim, n_item_sample, n_user_sample).to(device)\n",
    "model2 = models.MutualProximityCML(n_user, n_item, dist2, n_dim, n_item_sample, n_user_sample).to(device)\n",
    "model3 = models.MutualProximityCML(n_user, n_item, dist3, n_dim, n_item_sample, n_user_sample).to(device)\n",
    "\n",
    "# learning late optimizer\n",
    "optimizer0 = optim.Adam(model0.parameters(), lr=lr)\n",
    "optimizer1 = optim.Adam(model1.parameters(), lr=lr)\n",
    "optimizer2 = optim.Adam(model2.parameters(), lr=lr)\n",
    "optimizer3 = optim.Adam(model3.parameters(), lr=lr)\n",
    "\n",
    "# loss function\n",
    "criterion = losses.SumTripletLoss(margin=1).to(device)\n",
    "\n",
    "# trainer\n",
    "trainer0 = trainers.BaseTrainer(model0, optimizer0, criterion, sampler, no_progressbar)\n",
    "trainer1 = trainers.BaseTrainer(model1, optimizer1, criterion, sampler, no_progressbar)\n",
    "trainer2 = trainers.BaseTrainer(model2, optimizer2, criterion, sampler, no_progressbar)\n",
    "trainer3 = trainers.BaseTrainer(model3, optimizer3, criterion, sampler, no_progressbar)"
   ]
  },
  {
   "cell_type": "markdown",
   "id": "530e0738-4912-4f4c-8806-311fb0374054",
   "metadata": {
    "tags": []
   },
   "source": [
    "# Recall"
   ]
  },
  {
   "cell_type": "code",
   "execution_count": 6,
   "id": "8e020304-6dbc-490d-8ba7-123073e3c6fb",
   "metadata": {},
   "outputs": [],
   "source": [
    "# train0\n",
    "trainer0.fit(n_batch, n_epoch, recall, valid_per_epoch)"
   ]
  },
  {
   "cell_type": "code",
   "execution_count": 7,
   "id": "bf6874e6-2869-44c7-86f7-0c2627806840",
   "metadata": {},
   "outputs": [],
   "source": [
    "# train3\n",
    "trainer3.fit(n_batch, n_epoch, recall, valid_per_epoch)"
   ]
  },
  {
   "cell_type": "code",
   "execution_count": 8,
   "id": "8c83b363-3189-4322-a97d-9478e149659b",
   "metadata": {},
   "outputs": [
    {
     "data": {
      "text/html": [
       "<div>\n",
       "<style scoped>\n",
       "    .dataframe tbody tr th:only-of-type {\n",
       "        vertical-align: middle;\n",
       "    }\n",
       "\n",
       "    .dataframe tbody tr th {\n",
       "        vertical-align: top;\n",
       "    }\n",
       "\n",
       "    .dataframe thead th {\n",
       "        text-align: right;\n",
       "    }\n",
       "</style>\n",
       "<table border=\"1\" class=\"dataframe\">\n",
       "  <thead>\n",
       "    <tr style=\"text-align: right;\">\n",
       "      <th></th>\n",
       "      <th>Recall@5</th>\n",
       "      <th>Recall@10</th>\n",
       "      <th>Recall@50</th>\n",
       "      <th>epoch</th>\n",
       "      <th>losses</th>\n",
       "    </tr>\n",
       "  </thead>\n",
       "  <tbody>\n",
       "    <tr>\n",
       "      <th>0</th>\n",
       "      <td>0.024178</td>\n",
       "      <td>0.045491</td>\n",
       "      <td>0.220621</td>\n",
       "      <td>0</td>\n",
       "      <td>NaN</td>\n",
       "    </tr>\n",
       "    <tr>\n",
       "      <th>0</th>\n",
       "      <td>0.068695</td>\n",
       "      <td>0.164495</td>\n",
       "      <td>0.599927</td>\n",
       "      <td>10</td>\n",
       "      <td>0.471252</td>\n",
       "    </tr>\n",
       "    <tr>\n",
       "      <th>0</th>\n",
       "      <td>0.205409</td>\n",
       "      <td>0.335468</td>\n",
       "      <td>0.693551</td>\n",
       "      <td>20</td>\n",
       "      <td>0.302992</td>\n",
       "    </tr>\n",
       "    <tr>\n",
       "      <th>0</th>\n",
       "      <td>0.254930</td>\n",
       "      <td>0.395895</td>\n",
       "      <td>0.736429</td>\n",
       "      <td>30</td>\n",
       "      <td>0.258581</td>\n",
       "    </tr>\n",
       "    <tr>\n",
       "      <th>0</th>\n",
       "      <td>0.276803</td>\n",
       "      <td>0.414089</td>\n",
       "      <td>0.751590</td>\n",
       "      <td>40</td>\n",
       "      <td>0.247828</td>\n",
       "    </tr>\n",
       "    <tr>\n",
       "      <th>0</th>\n",
       "      <td>0.283693</td>\n",
       "      <td>0.428971</td>\n",
       "      <td>0.762588</td>\n",
       "      <td>50</td>\n",
       "      <td>0.236332</td>\n",
       "    </tr>\n",
       "  </tbody>\n",
       "</table>\n",
       "</div>"
      ],
      "text/plain": [
       "   Recall@5  Recall@10  Recall@50  epoch    losses\n",
       "0  0.024178   0.045491   0.220621      0       NaN\n",
       "0  0.068695   0.164495   0.599927     10  0.471252\n",
       "0  0.205409   0.335468   0.693551     20  0.302992\n",
       "0  0.254930   0.395895   0.736429     30  0.258581\n",
       "0  0.276803   0.414089   0.751590     40  0.247828\n",
       "0  0.283693   0.428971   0.762588     50  0.236332"
      ]
     },
     "execution_count": 8,
     "metadata": {},
     "output_type": "execute_result"
    }
   ],
   "source": [
    "# CML\n",
    "trainer0.valid_scores"
   ]
  },
  {
   "cell_type": "code",
   "execution_count": 9,
   "id": "23cfd3f3-e5c7-4b50-9356-d89a74e27706",
   "metadata": {
    "tags": []
   },
   "outputs": [
    {
     "data": {
      "text/html": [
       "<div>\n",
       "<style scoped>\n",
       "    .dataframe tbody tr th:only-of-type {\n",
       "        vertical-align: middle;\n",
       "    }\n",
       "\n",
       "    .dataframe tbody tr th {\n",
       "        vertical-align: top;\n",
       "    }\n",
       "\n",
       "    .dataframe thead th {\n",
       "        text-align: right;\n",
       "    }\n",
       "</style>\n",
       "<table border=\"1\" class=\"dataframe\">\n",
       "  <thead>\n",
       "    <tr style=\"text-align: right;\">\n",
       "      <th></th>\n",
       "      <th>Recall@5</th>\n",
       "      <th>Recall@10</th>\n",
       "      <th>Recall@50</th>\n",
       "      <th>epoch</th>\n",
       "      <th>losses</th>\n",
       "    </tr>\n",
       "  </thead>\n",
       "  <tbody>\n",
       "    <tr>\n",
       "      <th>0</th>\n",
       "      <td>0.023771</td>\n",
       "      <td>0.044100</td>\n",
       "      <td>0.224758</td>\n",
       "      <td>0</td>\n",
       "      <td>NaN</td>\n",
       "    </tr>\n",
       "    <tr>\n",
       "      <th>0</th>\n",
       "      <td>0.034684</td>\n",
       "      <td>0.073519</td>\n",
       "      <td>0.412869</td>\n",
       "      <td>10</td>\n",
       "      <td>0.468369</td>\n",
       "    </tr>\n",
       "    <tr>\n",
       "      <th>0</th>\n",
       "      <td>0.127036</td>\n",
       "      <td>0.239308</td>\n",
       "      <td>0.606317</td>\n",
       "      <td>20</td>\n",
       "      <td>0.295796</td>\n",
       "    </tr>\n",
       "    <tr>\n",
       "      <th>0</th>\n",
       "      <td>0.175331</td>\n",
       "      <td>0.295733</td>\n",
       "      <td>0.654436</td>\n",
       "      <td>30</td>\n",
       "      <td>0.256107</td>\n",
       "    </tr>\n",
       "    <tr>\n",
       "      <th>0</th>\n",
       "      <td>0.189891</td>\n",
       "      <td>0.313664</td>\n",
       "      <td>0.669141</td>\n",
       "      <td>40</td>\n",
       "      <td>0.243503</td>\n",
       "    </tr>\n",
       "    <tr>\n",
       "      <th>0</th>\n",
       "      <td>0.206497</td>\n",
       "      <td>0.321491</td>\n",
       "      <td>0.680281</td>\n",
       "      <td>50</td>\n",
       "      <td>0.236839</td>\n",
       "    </tr>\n",
       "  </tbody>\n",
       "</table>\n",
       "</div>"
      ],
      "text/plain": [
       "   Recall@5  Recall@10  Recall@50  epoch    losses\n",
       "0  0.023771   0.044100   0.224758      0       NaN\n",
       "0  0.034684   0.073519   0.412869     10  0.468369\n",
       "0  0.127036   0.239308   0.606317     20  0.295796\n",
       "0  0.175331   0.295733   0.654436     30  0.256107\n",
       "0  0.189891   0.313664   0.669141     40  0.243503\n",
       "0  0.206497   0.321491   0.680281     50  0.236839"
      ]
     },
     "execution_count": 9,
     "metadata": {},
     "output_type": "execute_result"
    }
   ],
   "source": [
    "# MPCML\n",
    "trainer3.valid_scores"
   ]
  },
  {
   "cell_type": "markdown",
   "id": "89ec9ef7-bf05-4e35-8fd1-5a528f306ab8",
   "metadata": {
    "tags": []
   },
   "source": [
    "# Unpopularity"
   ]
  },
  {
   "cell_type": "code",
   "execution_count": 10,
   "id": "00d49941-bb8c-4ea0-9182-4526f7f33957",
   "metadata": {},
   "outputs": [],
   "source": [
    "# train0\n",
    "trainer0.fit(n_batch, n_epoch, unpopularity, valid_per_epoch)"
   ]
  },
  {
   "cell_type": "code",
   "execution_count": 11,
   "id": "ff918b4a-63c8-412c-89c3-1120b6151b44",
   "metadata": {},
   "outputs": [],
   "source": [
    "# train3\n",
    "trainer3.fit(n_batch, n_epoch, unpopularity, valid_per_epoch)"
   ]
  },
  {
   "cell_type": "code",
   "execution_count": 12,
   "id": "7f68008c-ae67-4131-a2e6-d710e1addad3",
   "metadata": {},
   "outputs": [
    {
     "data": {
      "text/html": [
       "<div>\n",
       "<style scoped>\n",
       "    .dataframe tbody tr th:only-of-type {\n",
       "        vertical-align: middle;\n",
       "    }\n",
       "\n",
       "    .dataframe tbody tr th {\n",
       "        vertical-align: top;\n",
       "    }\n",
       "\n",
       "    .dataframe thead th {\n",
       "        text-align: right;\n",
       "    }\n",
       "</style>\n",
       "<table border=\"1\" class=\"dataframe\">\n",
       "  <thead>\n",
       "    <tr style=\"text-align: right;\">\n",
       "      <th></th>\n",
       "      <th>Unpopularity@5</th>\n",
       "      <th>Unpopularity@10</th>\n",
       "      <th>Unpopularity@50</th>\n",
       "      <th>epoch</th>\n",
       "      <th>losses</th>\n",
       "    </tr>\n",
       "  </thead>\n",
       "  <tbody>\n",
       "    <tr>\n",
       "      <th>0</th>\n",
       "      <td>0.003724</td>\n",
       "      <td>0.011857</td>\n",
       "      <td>0.139126</td>\n",
       "      <td>0</td>\n",
       "      <td>NaN</td>\n",
       "    </tr>\n",
       "    <tr>\n",
       "      <th>0</th>\n",
       "      <td>0.003832</td>\n",
       "      <td>0.011998</td>\n",
       "      <td>0.138413</td>\n",
       "      <td>10</td>\n",
       "      <td>0.234547</td>\n",
       "    </tr>\n",
       "    <tr>\n",
       "      <th>0</th>\n",
       "      <td>0.004073</td>\n",
       "      <td>0.012260</td>\n",
       "      <td>0.138781</td>\n",
       "      <td>20</td>\n",
       "      <td>0.230923</td>\n",
       "    </tr>\n",
       "    <tr>\n",
       "      <th>0</th>\n",
       "      <td>0.004251</td>\n",
       "      <td>0.012310</td>\n",
       "      <td>0.138488</td>\n",
       "      <td>30</td>\n",
       "      <td>0.228357</td>\n",
       "    </tr>\n",
       "    <tr>\n",
       "      <th>0</th>\n",
       "      <td>0.004261</td>\n",
       "      <td>0.012338</td>\n",
       "      <td>0.138763</td>\n",
       "      <td>40</td>\n",
       "      <td>0.227455</td>\n",
       "    </tr>\n",
       "    <tr>\n",
       "      <th>0</th>\n",
       "      <td>0.004332</td>\n",
       "      <td>0.012576</td>\n",
       "      <td>0.139163</td>\n",
       "      <td>50</td>\n",
       "      <td>0.226170</td>\n",
       "    </tr>\n",
       "  </tbody>\n",
       "</table>\n",
       "</div>"
      ],
      "text/plain": [
       "   Unpopularity@5  Unpopularity@10  Unpopularity@50  epoch    losses\n",
       "0        0.003724         0.011857         0.139126      0       NaN\n",
       "0        0.003832         0.011998         0.138413     10  0.234547\n",
       "0        0.004073         0.012260         0.138781     20  0.230923\n",
       "0        0.004251         0.012310         0.138488     30  0.228357\n",
       "0        0.004261         0.012338         0.138763     40  0.227455\n",
       "0        0.004332         0.012576         0.139163     50  0.226170"
      ]
     },
     "execution_count": 12,
     "metadata": {},
     "output_type": "execute_result"
    }
   ],
   "source": [
    "# CML\n",
    "trainer0.valid_scores"
   ]
  },
  {
   "cell_type": "code",
   "execution_count": 13,
   "id": "32a353de-e8bf-496b-816b-551a88b54b20",
   "metadata": {},
   "outputs": [
    {
     "data": {
      "text/html": [
       "<div>\n",
       "<style scoped>\n",
       "    .dataframe tbody tr th:only-of-type {\n",
       "        vertical-align: middle;\n",
       "    }\n",
       "\n",
       "    .dataframe tbody tr th {\n",
       "        vertical-align: top;\n",
       "    }\n",
       "\n",
       "    .dataframe thead th {\n",
       "        text-align: right;\n",
       "    }\n",
       "</style>\n",
       "<table border=\"1\" class=\"dataframe\">\n",
       "  <thead>\n",
       "    <tr style=\"text-align: right;\">\n",
       "      <th></th>\n",
       "      <th>Unpopularity@5</th>\n",
       "      <th>Unpopularity@10</th>\n",
       "      <th>Unpopularity@50</th>\n",
       "      <th>epoch</th>\n",
       "      <th>losses</th>\n",
       "    </tr>\n",
       "  </thead>\n",
       "  <tbody>\n",
       "    <tr>\n",
       "      <th>0</th>\n",
       "      <td>0.012348</td>\n",
       "      <td>0.028158</td>\n",
       "      <td>0.183710</td>\n",
       "      <td>0</td>\n",
       "      <td>NaN</td>\n",
       "    </tr>\n",
       "    <tr>\n",
       "      <th>0</th>\n",
       "      <td>0.012347</td>\n",
       "      <td>0.028288</td>\n",
       "      <td>0.184143</td>\n",
       "      <td>10</td>\n",
       "      <td>0.234458</td>\n",
       "    </tr>\n",
       "    <tr>\n",
       "      <th>0</th>\n",
       "      <td>0.012241</td>\n",
       "      <td>0.028594</td>\n",
       "      <td>0.184313</td>\n",
       "      <td>20</td>\n",
       "      <td>0.232117</td>\n",
       "    </tr>\n",
       "    <tr>\n",
       "      <th>0</th>\n",
       "      <td>0.012159</td>\n",
       "      <td>0.028672</td>\n",
       "      <td>0.184796</td>\n",
       "      <td>30</td>\n",
       "      <td>0.229655</td>\n",
       "    </tr>\n",
       "    <tr>\n",
       "      <th>0</th>\n",
       "      <td>0.012155</td>\n",
       "      <td>0.028525</td>\n",
       "      <td>0.184562</td>\n",
       "      <td>40</td>\n",
       "      <td>0.228865</td>\n",
       "    </tr>\n",
       "    <tr>\n",
       "      <th>0</th>\n",
       "      <td>0.012646</td>\n",
       "      <td>0.028809</td>\n",
       "      <td>0.185499</td>\n",
       "      <td>50</td>\n",
       "      <td>0.226187</td>\n",
       "    </tr>\n",
       "  </tbody>\n",
       "</table>\n",
       "</div>"
      ],
      "text/plain": [
       "   Unpopularity@5  Unpopularity@10  Unpopularity@50  epoch    losses\n",
       "0        0.012348         0.028158         0.183710      0       NaN\n",
       "0        0.012347         0.028288         0.184143     10  0.234458\n",
       "0        0.012241         0.028594         0.184313     20  0.232117\n",
       "0        0.012159         0.028672         0.184796     30  0.229655\n",
       "0        0.012155         0.028525         0.184562     40  0.228865\n",
       "0        0.012646         0.028809         0.185499     50  0.226187"
      ]
     },
     "execution_count": 13,
     "metadata": {},
     "output_type": "execute_result"
    }
   ],
   "source": [
    "# MPCML\n",
    "trainer3.valid_scores"
   ]
  },
  {
   "cell_type": "markdown",
   "id": "c2ce0375-bd79-49df-b539-5d048c7dea13",
   "metadata": {
    "tags": []
   },
   "source": [
    "# F1-sorce"
   ]
  },
  {
   "cell_type": "code",
   "execution_count": 14,
   "id": "4cafda5d-624f-4ea4-bed4-51a559456c40",
   "metadata": {},
   "outputs": [],
   "source": [
    "# train0\n",
    "trainer0.fit(n_batch, n_epoch, f1_score, valid_per_epoch)"
   ]
  },
  {
   "cell_type": "code",
   "execution_count": 15,
   "id": "16ea1000-1874-4f30-8347-64bd6dc5b18c",
   "metadata": {},
   "outputs": [],
   "source": [
    "# train3\n",
    "trainer3.fit(n_batch, n_epoch, f1_score, valid_per_epoch)"
   ]
  },
  {
   "cell_type": "code",
   "execution_count": 16,
   "id": "e98585ca-aaa4-4336-bb6e-db09750ae69e",
   "metadata": {},
   "outputs": [
    {
     "data": {
      "text/html": [
       "<div>\n",
       "<style scoped>\n",
       "    .dataframe tbody tr th:only-of-type {\n",
       "        vertical-align: middle;\n",
       "    }\n",
       "\n",
       "    .dataframe tbody tr th {\n",
       "        vertical-align: top;\n",
       "    }\n",
       "\n",
       "    .dataframe thead th {\n",
       "        text-align: right;\n",
       "    }\n",
       "</style>\n",
       "<table border=\"1\" class=\"dataframe\">\n",
       "  <thead>\n",
       "    <tr style=\"text-align: right;\">\n",
       "      <th></th>\n",
       "      <th>F1-score@5</th>\n",
       "      <th>F1-score@10</th>\n",
       "      <th>F1-score@50</th>\n",
       "      <th>epoch</th>\n",
       "      <th>losses</th>\n",
       "    </tr>\n",
       "  </thead>\n",
       "  <tbody>\n",
       "    <tr>\n",
       "      <th>0</th>\n",
       "      <td>0.007664</td>\n",
       "      <td>0.023177</td>\n",
       "      <td>0.207467</td>\n",
       "      <td>0</td>\n",
       "      <td>NaN</td>\n",
       "    </tr>\n",
       "    <tr>\n",
       "      <th>0</th>\n",
       "      <td>0.007543</td>\n",
       "      <td>0.023981</td>\n",
       "      <td>0.207280</td>\n",
       "      <td>10</td>\n",
       "      <td>0.227361</td>\n",
       "    </tr>\n",
       "    <tr>\n",
       "      <th>0</th>\n",
       "      <td>0.007616</td>\n",
       "      <td>0.023807</td>\n",
       "      <td>0.206290</td>\n",
       "      <td>20</td>\n",
       "      <td>0.226160</td>\n",
       "    </tr>\n",
       "    <tr>\n",
       "      <th>0</th>\n",
       "      <td>0.007803</td>\n",
       "      <td>0.023857</td>\n",
       "      <td>0.207063</td>\n",
       "      <td>30</td>\n",
       "      <td>0.227062</td>\n",
       "    </tr>\n",
       "    <tr>\n",
       "      <th>0</th>\n",
       "      <td>0.007862</td>\n",
       "      <td>0.023596</td>\n",
       "      <td>0.206317</td>\n",
       "      <td>40</td>\n",
       "      <td>0.224930</td>\n",
       "    </tr>\n",
       "    <tr>\n",
       "      <th>0</th>\n",
       "      <td>0.007777</td>\n",
       "      <td>0.023522</td>\n",
       "      <td>0.206609</td>\n",
       "      <td>50</td>\n",
       "      <td>0.224523</td>\n",
       "    </tr>\n",
       "  </tbody>\n",
       "</table>\n",
       "</div>"
      ],
      "text/plain": [
       "   F1-score@5  F1-score@10  F1-score@50  epoch    losses\n",
       "0    0.007664     0.023177     0.207467      0       NaN\n",
       "0    0.007543     0.023981     0.207280     10  0.227361\n",
       "0    0.007616     0.023807     0.206290     20  0.226160\n",
       "0    0.007803     0.023857     0.207063     30  0.227062\n",
       "0    0.007862     0.023596     0.206317     40  0.224930\n",
       "0    0.007777     0.023522     0.206609     50  0.224523"
      ]
     },
     "execution_count": 16,
     "metadata": {},
     "output_type": "execute_result"
    }
   ],
   "source": [
    "# CML\n",
    "trainer0.valid_scores"
   ]
  },
  {
   "cell_type": "code",
   "execution_count": 17,
   "id": "40eb2773-1bbb-4ba4-aa1b-df37f5fb444b",
   "metadata": {},
   "outputs": [
    {
     "data": {
      "text/html": [
       "<div>\n",
       "<style scoped>\n",
       "    .dataframe tbody tr th:only-of-type {\n",
       "        vertical-align: middle;\n",
       "    }\n",
       "\n",
       "    .dataframe tbody tr th {\n",
       "        vertical-align: top;\n",
       "    }\n",
       "\n",
       "    .dataframe thead th {\n",
       "        text-align: right;\n",
       "    }\n",
       "</style>\n",
       "<table border=\"1\" class=\"dataframe\">\n",
       "  <thead>\n",
       "    <tr style=\"text-align: right;\">\n",
       "      <th></th>\n",
       "      <th>F1-score@5</th>\n",
       "      <th>F1-score@10</th>\n",
       "      <th>F1-score@50</th>\n",
       "      <th>epoch</th>\n",
       "      <th>losses</th>\n",
       "    </tr>\n",
       "  </thead>\n",
       "  <tbody>\n",
       "    <tr>\n",
       "      <th>0</th>\n",
       "      <td>0.016928</td>\n",
       "      <td>0.046277</td>\n",
       "      <td>0.264841</td>\n",
       "      <td>0</td>\n",
       "      <td>NaN</td>\n",
       "    </tr>\n",
       "    <tr>\n",
       "      <th>0</th>\n",
       "      <td>0.017228</td>\n",
       "      <td>0.046560</td>\n",
       "      <td>0.265271</td>\n",
       "      <td>10</td>\n",
       "      <td>0.226630</td>\n",
       "    </tr>\n",
       "    <tr>\n",
       "      <th>0</th>\n",
       "      <td>0.018173</td>\n",
       "      <td>0.046538</td>\n",
       "      <td>0.265818</td>\n",
       "      <td>20</td>\n",
       "      <td>0.224798</td>\n",
       "    </tr>\n",
       "    <tr>\n",
       "      <th>0</th>\n",
       "      <td>0.018508</td>\n",
       "      <td>0.046722</td>\n",
       "      <td>0.266324</td>\n",
       "      <td>30</td>\n",
       "      <td>0.224187</td>\n",
       "    </tr>\n",
       "    <tr>\n",
       "      <th>0</th>\n",
       "      <td>0.017487</td>\n",
       "      <td>0.046959</td>\n",
       "      <td>0.266888</td>\n",
       "      <td>40</td>\n",
       "      <td>0.222776</td>\n",
       "    </tr>\n",
       "    <tr>\n",
       "      <th>0</th>\n",
       "      <td>0.018720</td>\n",
       "      <td>0.047257</td>\n",
       "      <td>0.266019</td>\n",
       "      <td>50</td>\n",
       "      <td>0.221397</td>\n",
       "    </tr>\n",
       "  </tbody>\n",
       "</table>\n",
       "</div>"
      ],
      "text/plain": [
       "   F1-score@5  F1-score@10  F1-score@50  epoch    losses\n",
       "0    0.016928     0.046277     0.264841      0       NaN\n",
       "0    0.017228     0.046560     0.265271     10  0.226630\n",
       "0    0.018173     0.046538     0.265818     20  0.224798\n",
       "0    0.018508     0.046722     0.266324     30  0.224187\n",
       "0    0.017487     0.046959     0.266888     40  0.222776\n",
       "0    0.018720     0.047257     0.266019     50  0.221397"
      ]
     },
     "execution_count": 17,
     "metadata": {},
     "output_type": "execute_result"
    }
   ],
   "source": [
    "# MPCML\n",
    "trainer3.valid_scores"
   ]
  },
  {
   "cell_type": "markdown",
   "id": "2be3a7a2-c2d2-469d-9670-31c319d4d98e",
   "metadata": {
    "tags": []
   },
   "source": [
    "# Coverage"
   ]
  },
  {
   "cell_type": "code",
   "execution_count": 18,
   "id": "d448518e-35f9-4b78-b7f0-0dd05f38cbb8",
   "metadata": {
    "tags": []
   },
   "outputs": [],
   "source": [
    "# train0\n",
    "trainer0.fit(n_batch, n_epoch, coverage, valid_per_epoch)"
   ]
  },
  {
   "cell_type": "code",
   "execution_count": 19,
   "id": "9843018e-9a45-4141-9d5d-97c9025b039c",
   "metadata": {
    "tags": []
   },
   "outputs": [],
   "source": [
    "# train3\n",
    "trainer3.fit(n_batch, n_epoch, coverage, valid_per_epoch)"
   ]
  },
  {
   "cell_type": "code",
   "execution_count": 20,
   "id": "1cad8bbe-44ed-4d3d-bb25-a10707993a28",
   "metadata": {
    "tags": []
   },
   "outputs": [
    {
     "data": {
      "text/html": [
       "<div>\n",
       "<style scoped>\n",
       "    .dataframe tbody tr th:only-of-type {\n",
       "        vertical-align: middle;\n",
       "    }\n",
       "\n",
       "    .dataframe tbody tr th {\n",
       "        vertical-align: top;\n",
       "    }\n",
       "\n",
       "    .dataframe thead th {\n",
       "        text-align: right;\n",
       "    }\n",
       "</style>\n",
       "<table border=\"1\" class=\"dataframe\">\n",
       "  <thead>\n",
       "    <tr style=\"text-align: right;\">\n",
       "      <th></th>\n",
       "      <th>coverage@5</th>\n",
       "      <th>coverage@10</th>\n",
       "      <th>coverage@50</th>\n",
       "      <th>epoch</th>\n",
       "      <th>losses</th>\n",
       "    </tr>\n",
       "  </thead>\n",
       "  <tbody>\n",
       "    <tr>\n",
       "      <th>0</th>\n",
       "      <td>0.365584</td>\n",
       "      <td>0.465791</td>\n",
       "      <td>0.650311</td>\n",
       "      <td>0</td>\n",
       "      <td>NaN</td>\n",
       "    </tr>\n",
       "    <tr>\n",
       "      <th>0</th>\n",
       "      <td>0.364893</td>\n",
       "      <td>0.468556</td>\n",
       "      <td>0.646856</td>\n",
       "      <td>10</td>\n",
       "      <td>0.224617</td>\n",
       "    </tr>\n",
       "    <tr>\n",
       "      <th>0</th>\n",
       "      <td>0.365584</td>\n",
       "      <td>0.467865</td>\n",
       "      <td>0.648929</td>\n",
       "      <td>20</td>\n",
       "      <td>0.223832</td>\n",
       "    </tr>\n",
       "    <tr>\n",
       "      <th>0</th>\n",
       "      <td>0.370422</td>\n",
       "      <td>0.467173</td>\n",
       "      <td>0.648238</td>\n",
       "      <td>30</td>\n",
       "      <td>0.223049</td>\n",
       "    </tr>\n",
       "    <tr>\n",
       "      <th>0</th>\n",
       "      <td>0.364893</td>\n",
       "      <td>0.463027</td>\n",
       "      <td>0.648238</td>\n",
       "      <td>40</td>\n",
       "      <td>0.223822</td>\n",
       "    </tr>\n",
       "    <tr>\n",
       "      <th>0</th>\n",
       "      <td>0.369039</td>\n",
       "      <td>0.467173</td>\n",
       "      <td>0.650311</td>\n",
       "      <td>50</td>\n",
       "      <td>0.222853</td>\n",
       "    </tr>\n",
       "  </tbody>\n",
       "</table>\n",
       "</div>"
      ],
      "text/plain": [
       "   coverage@5  coverage@10  coverage@50  epoch    losses\n",
       "0    0.365584     0.465791     0.650311      0       NaN\n",
       "0    0.364893     0.468556     0.646856     10  0.224617\n",
       "0    0.365584     0.467865     0.648929     20  0.223832\n",
       "0    0.370422     0.467173     0.648238     30  0.223049\n",
       "0    0.364893     0.463027     0.648238     40  0.223822\n",
       "0    0.369039     0.467173     0.650311     50  0.222853"
      ]
     },
     "execution_count": 20,
     "metadata": {},
     "output_type": "execute_result"
    }
   ],
   "source": [
    "# CML\n",
    "trainer0.valid_scores"
   ]
  },
  {
   "cell_type": "code",
   "execution_count": 21,
   "id": "26513501-8ae2-4df6-8d85-d17696a26842",
   "metadata": {
    "tags": []
   },
   "outputs": [
    {
     "data": {
      "text/html": [
       "<div>\n",
       "<style scoped>\n",
       "    .dataframe tbody tr th:only-of-type {\n",
       "        vertical-align: middle;\n",
       "    }\n",
       "\n",
       "    .dataframe tbody tr th {\n",
       "        vertical-align: top;\n",
       "    }\n",
       "\n",
       "    .dataframe thead th {\n",
       "        text-align: right;\n",
       "    }\n",
       "</style>\n",
       "<table border=\"1\" class=\"dataframe\">\n",
       "  <thead>\n",
       "    <tr style=\"text-align: right;\">\n",
       "      <th></th>\n",
       "      <th>coverage@5</th>\n",
       "      <th>coverage@10</th>\n",
       "      <th>coverage@50</th>\n",
       "      <th>epoch</th>\n",
       "      <th>losses</th>\n",
       "    </tr>\n",
       "  </thead>\n",
       "  <tbody>\n",
       "    <tr>\n",
       "      <th>0</th>\n",
       "      <td>0.400829</td>\n",
       "      <td>0.488597</td>\n",
       "      <td>0.664824</td>\n",
       "      <td>0</td>\n",
       "      <td>NaN</td>\n",
       "    </tr>\n",
       "    <tr>\n",
       "      <th>0</th>\n",
       "      <td>0.407049</td>\n",
       "      <td>0.494817</td>\n",
       "      <td>0.664824</td>\n",
       "      <td>10</td>\n",
       "      <td>0.223702</td>\n",
       "    </tr>\n",
       "    <tr>\n",
       "      <th>0</th>\n",
       "      <td>0.399447</td>\n",
       "      <td>0.494126</td>\n",
       "      <td>0.660677</td>\n",
       "      <td>20</td>\n",
       "      <td>0.222840</td>\n",
       "    </tr>\n",
       "    <tr>\n",
       "      <th>0</th>\n",
       "      <td>0.408431</td>\n",
       "      <td>0.486524</td>\n",
       "      <td>0.655840</td>\n",
       "      <td>30</td>\n",
       "      <td>0.222643</td>\n",
       "    </tr>\n",
       "    <tr>\n",
       "      <th>0</th>\n",
       "      <td>0.410504</td>\n",
       "      <td>0.487906</td>\n",
       "      <td>0.664133</td>\n",
       "      <td>40</td>\n",
       "      <td>0.224808</td>\n",
       "    </tr>\n",
       "    <tr>\n",
       "      <th>0</th>\n",
       "      <td>0.405667</td>\n",
       "      <td>0.498272</td>\n",
       "      <td>0.662059</td>\n",
       "      <td>50</td>\n",
       "      <td>0.222756</td>\n",
       "    </tr>\n",
       "  </tbody>\n",
       "</table>\n",
       "</div>"
      ],
      "text/plain": [
       "   coverage@5  coverage@10  coverage@50  epoch    losses\n",
       "0    0.400829     0.488597     0.664824      0       NaN\n",
       "0    0.407049     0.494817     0.664824     10  0.223702\n",
       "0    0.399447     0.494126     0.660677     20  0.222840\n",
       "0    0.408431     0.486524     0.655840     30  0.222643\n",
       "0    0.410504     0.487906     0.664133     40  0.224808\n",
       "0    0.405667     0.498272     0.662059     50  0.222756"
      ]
     },
     "execution_count": 21,
     "metadata": {},
     "output_type": "execute_result"
    }
   ],
   "source": [
    "# MPCML\n",
    "trainer3.valid_scores"
   ]
  },
  {
   "cell_type": "markdown",
   "id": "c16c3900-53cc-4ec3-b332-49eabb344e6d",
   "metadata": {
    "tags": []
   },
   "source": [
    "# Hubness "
   ]
  },
  {
   "cell_type": "code",
   "execution_count": 22,
   "id": "f02f6664-63c1-4468-bd56-8efa8bdf4304",
   "metadata": {
    "tags": []
   },
   "outputs": [],
   "source": [
    "# train0\n",
    "trainer0.fit(n_batch, n_epoch, hubness, valid_per_epoch)"
   ]
  },
  {
   "cell_type": "code",
   "execution_count": 23,
   "id": "828831ba-8bb2-4792-b46c-86726e608a60",
   "metadata": {
    "tags": []
   },
   "outputs": [],
   "source": [
    "# train3\n",
    "trainer3.fit(n_batch, n_epoch, hubness, valid_per_epoch)"
   ]
  },
  {
   "cell_type": "code",
   "execution_count": 24,
   "id": "c8c0e138-1c2e-4d56-990a-676f2b0c187d",
   "metadata": {
    "tags": []
   },
   "outputs": [
    {
     "data": {
      "text/html": [
       "<div>\n",
       "<style scoped>\n",
       "    .dataframe tbody tr th:only-of-type {\n",
       "        vertical-align: middle;\n",
       "    }\n",
       "\n",
       "    .dataframe tbody tr th {\n",
       "        vertical-align: top;\n",
       "    }\n",
       "\n",
       "    .dataframe thead th {\n",
       "        text-align: right;\n",
       "    }\n",
       "</style>\n",
       "<table border=\"1\" class=\"dataframe\">\n",
       "  <thead>\n",
       "    <tr style=\"text-align: right;\">\n",
       "      <th></th>\n",
       "      <th>hubness@5</th>\n",
       "      <th>hubness@10</th>\n",
       "      <th>hubness@50</th>\n",
       "      <th>epoch</th>\n",
       "      <th>losses</th>\n",
       "    </tr>\n",
       "  </thead>\n",
       "  <tbody>\n",
       "    <tr>\n",
       "      <th>0</th>\n",
       "      <td>7.758143</td>\n",
       "      <td>7.624306</td>\n",
       "      <td>3.746958</td>\n",
       "      <td>0</td>\n",
       "      <td>NaN</td>\n",
       "    </tr>\n",
       "    <tr>\n",
       "      <th>0</th>\n",
       "      <td>7.796405</td>\n",
       "      <td>7.663681</td>\n",
       "      <td>3.754555</td>\n",
       "      <td>10</td>\n",
       "      <td>0.223330</td>\n",
       "    </tr>\n",
       "    <tr>\n",
       "      <th>0</th>\n",
       "      <td>7.799108</td>\n",
       "      <td>7.677076</td>\n",
       "      <td>3.740463</td>\n",
       "      <td>20</td>\n",
       "      <td>0.224788</td>\n",
       "    </tr>\n",
       "    <tr>\n",
       "      <th>0</th>\n",
       "      <td>7.807956</td>\n",
       "      <td>7.695854</td>\n",
       "      <td>3.749341</td>\n",
       "      <td>30</td>\n",
       "      <td>0.221935</td>\n",
       "    </tr>\n",
       "    <tr>\n",
       "      <th>0</th>\n",
       "      <td>7.871783</td>\n",
       "      <td>7.735982</td>\n",
       "      <td>3.758146</td>\n",
       "      <td>40</td>\n",
       "      <td>0.224688</td>\n",
       "    </tr>\n",
       "    <tr>\n",
       "      <th>0</th>\n",
       "      <td>7.780044</td>\n",
       "      <td>7.688562</td>\n",
       "      <td>3.742610</td>\n",
       "      <td>50</td>\n",
       "      <td>0.222000</td>\n",
       "    </tr>\n",
       "  </tbody>\n",
       "</table>\n",
       "</div>"
      ],
      "text/plain": [
       "   hubness@5  hubness@10  hubness@50  epoch    losses\n",
       "0   7.758143    7.624306    3.746958      0       NaN\n",
       "0   7.796405    7.663681    3.754555     10  0.223330\n",
       "0   7.799108    7.677076    3.740463     20  0.224788\n",
       "0   7.807956    7.695854    3.749341     30  0.221935\n",
       "0   7.871783    7.735982    3.758146     40  0.224688\n",
       "0   7.780044    7.688562    3.742610     50  0.222000"
      ]
     },
     "execution_count": 24,
     "metadata": {},
     "output_type": "execute_result"
    }
   ],
   "source": [
    "# CML\n",
    "trainer0.valid_scores"
   ]
  },
  {
   "cell_type": "code",
   "execution_count": 25,
   "id": "fb55a51a-f373-4850-82b8-3c291f70bc87",
   "metadata": {
    "tags": []
   },
   "outputs": [
    {
     "data": {
      "text/html": [
       "<div>\n",
       "<style scoped>\n",
       "    .dataframe tbody tr th:only-of-type {\n",
       "        vertical-align: middle;\n",
       "    }\n",
       "\n",
       "    .dataframe tbody tr th {\n",
       "        vertical-align: top;\n",
       "    }\n",
       "\n",
       "    .dataframe thead th {\n",
       "        text-align: right;\n",
       "    }\n",
       "</style>\n",
       "<table border=\"1\" class=\"dataframe\">\n",
       "  <thead>\n",
       "    <tr style=\"text-align: right;\">\n",
       "      <th></th>\n",
       "      <th>hubness@5</th>\n",
       "      <th>hubness@10</th>\n",
       "      <th>hubness@50</th>\n",
       "      <th>epoch</th>\n",
       "      <th>losses</th>\n",
       "    </tr>\n",
       "  </thead>\n",
       "  <tbody>\n",
       "    <tr>\n",
       "      <th>0</th>\n",
       "      <td>7.285082</td>\n",
       "      <td>6.839575</td>\n",
       "      <td>3.350861</td>\n",
       "      <td>0</td>\n",
       "      <td>NaN</td>\n",
       "    </tr>\n",
       "    <tr>\n",
       "      <th>0</th>\n",
       "      <td>7.196412</td>\n",
       "      <td>6.805711</td>\n",
       "      <td>3.363574</td>\n",
       "      <td>10</td>\n",
       "      <td>0.221685</td>\n",
       "    </tr>\n",
       "    <tr>\n",
       "      <th>0</th>\n",
       "      <td>7.251024</td>\n",
       "      <td>6.979063</td>\n",
       "      <td>3.368696</td>\n",
       "      <td>20</td>\n",
       "      <td>0.222977</td>\n",
       "    </tr>\n",
       "    <tr>\n",
       "      <th>0</th>\n",
       "      <td>7.150867</td>\n",
       "      <td>6.913954</td>\n",
       "      <td>3.353275</td>\n",
       "      <td>30</td>\n",
       "      <td>0.221374</td>\n",
       "    </tr>\n",
       "    <tr>\n",
       "      <th>0</th>\n",
       "      <td>7.217352</td>\n",
       "      <td>6.876462</td>\n",
       "      <td>3.372398</td>\n",
       "      <td>40</td>\n",
       "      <td>0.221679</td>\n",
       "    </tr>\n",
       "    <tr>\n",
       "      <th>0</th>\n",
       "      <td>7.053827</td>\n",
       "      <td>6.852306</td>\n",
       "      <td>3.380050</td>\n",
       "      <td>50</td>\n",
       "      <td>0.221504</td>\n",
       "    </tr>\n",
       "  </tbody>\n",
       "</table>\n",
       "</div>"
      ],
      "text/plain": [
       "   hubness@5  hubness@10  hubness@50  epoch    losses\n",
       "0   7.285082    6.839575    3.350861      0       NaN\n",
       "0   7.196412    6.805711    3.363574     10  0.221685\n",
       "0   7.251024    6.979063    3.368696     20  0.222977\n",
       "0   7.150867    6.913954    3.353275     30  0.221374\n",
       "0   7.217352    6.876462    3.372398     40  0.221679\n",
       "0   7.053827    6.852306    3.380050     50  0.221504"
      ]
     },
     "execution_count": 25,
     "metadata": {},
     "output_type": "execute_result"
    }
   ],
   "source": [
    "# MPCML\n",
    "trainer3.valid_scores"
   ]
  }
 ],
 "metadata": {
  "kernelspec": {
   "display_name": "bachelor2",
   "language": "python",
   "name": "bachelor2"
  },
  "language_info": {
   "codemirror_mode": {
    "name": "ipython",
    "version": 3
   },
   "file_extension": ".py",
   "mimetype": "text/x-python",
   "name": "python",
   "nbconvert_exporter": "python",
   "pygments_lexer": "ipython3",
   "version": "3.8.17"
  }
 },
 "nbformat": 4,
 "nbformat_minor": 5
}
