{
 "cells": [
  {
   "cell_type": "markdown",
   "id": "d2a48031-491b-49ff-8899-4e2b2755584d",
   "metadata": {
    "tags": []
   },
   "source": [
    "# Import"
   ]
  },
  {
   "cell_type": "code",
   "execution_count": 1,
   "id": "4b3f4f0b-e5fe-4e01-a088-8633a9a32a9c",
   "metadata": {
    "tags": []
   },
   "outputs": [],
   "source": [
    "import sys\n",
    "\n",
    "root_dir = '../../'\n",
    "if root_dir not in sys.path:\n",
    "    sys.path.append(root_dir)\n",
    "\n",
    "import torch\n",
    "from torch import nn, optim\n",
    "import numpy as np\n",
    "from sklearn.decomposition import TruncatedSVD\n",
    "from scipy.sparse import csr_matrix\n",
    "\n",
    "from modules import losses, models, samplers, regularizers, evaluators, trainers, datasets, distributions"
   ]
  },
  {
   "cell_type": "markdown",
   "id": "26c764ee-b02d-4c63-bfe8-f3761caeca83",
   "metadata": {
    "tags": []
   },
   "source": [
    "# DataSet"
   ]
  },
  {
   "cell_type": "code",
   "execution_count": 2,
   "id": "0b0f76a4-6de1-441e-95bf-3cbce34ba7b4",
   "metadata": {
    "tags": []
   },
   "outputs": [],
   "source": [
    "dataset = datasets.ML20m()\n",
    "n_user = dataset.n_user\n",
    "n_item = dataset.n_item\n",
    "train_set, test_set = dataset.get_train_and_test_set()\n",
    "\n",
    "# device setting\n",
    "device = torch.device(\"cuda:0\" if torch.cuda.is_available() else \"cpu\")\n",
    "train_set = torch.LongTensor(train_set).to(device)\n",
    "test_set = torch.LongTensor(test_set).to(device)"
   ]
  },
  {
   "cell_type": "markdown",
   "id": "e5890c22-5a53-4954-b3c1-a7f0c92c4977",
   "metadata": {
    "tags": []
   },
   "source": [
    "# Evaluator"
   ]
  },
  {
   "cell_type": "code",
   "execution_count": 3,
   "id": "32edd550-d71b-49d8-9410-e80bafc8cbd5",
   "metadata": {
    "tags": []
   },
   "outputs": [],
   "source": [
    "# k\n",
    "ks = [5, 10, 50]\n",
    "\n",
    "# Accuracy\n",
    "recall = evaluators.RecallEvaluator(test_set, ks)\n",
    "\n",
    "# Unpopularity\n",
    "unpopularity = evaluators.UnpopularityEvaluator(test_set, ks)\n",
    "\n",
    "# F1-Score (Recall-Unpopularity)\n",
    "f1_score = evaluators.F1ScoreEvaluator(test_set, ks)\n",
    "\n",
    "# Coverage\n",
    "coverage = evaluators.CoverageEvaluator(test_set, ks)\n",
    "\n",
    "# Hubness\n",
    "hubness = evaluators.HubnessEvaluator(test_set, ks)"
   ]
  },
  {
   "cell_type": "markdown",
   "id": "e7f08835-4edb-4111-8a66-2015442516fd",
   "metadata": {
    "tags": []
   },
   "source": [
    "# Sampler"
   ]
  },
  {
   "cell_type": "code",
   "execution_count": 4,
   "id": "bb75d206-b691-4cbe-b616-fc37cad91993",
   "metadata": {
    "tags": []
   },
   "outputs": [],
   "source": [
    "sampler = samplers.BaseSampler(train_set, n_user, n_item, device=device, strict_negative=False)"
   ]
  },
  {
   "cell_type": "markdown",
   "id": "3f817d5f-625f-468e-ba87-80cb4f962c77",
   "metadata": {
    "tags": []
   },
   "source": [
    "# Model"
   ]
  },
  {
   "cell_type": "code",
   "execution_count": 5,
   "id": "845147ca-242a-44c6-9a74-a1c0e624f37b",
   "metadata": {
    "tags": []
   },
   "outputs": [],
   "source": [
    "# Hyperparameters\n",
    "lr = 1e-3\n",
    "n_dim = 10\n",
    "n_batch = 256\n",
    "n_epoch = 50\n",
    "valid_per_epoch = 10\n",
    "n_item_sample = 30\n",
    "n_user_sample = 30\n",
    "no_progressbar = True\n",
    "\n",
    "# distributiuons\n",
    "dist1 = distributions.Empirical()\n",
    "dist2 = distributions.Gaussian()\n",
    "dist3 = distributions.Gamma()\n",
    "\n",
    "# models\n",
    "model0 = models.CollaborativeMetricLearning(n_user, n_item, n_dim).to(device)\n",
    "model1 = models.MutualProximityCML(n_user, n_item, dist1, n_dim, n_item_sample, n_user_sample).to(device)\n",
    "model2 = models.MutualProximityCML(n_user, n_item, dist2, n_dim, n_item_sample, n_user_sample).to(device)\n",
    "model3 = models.MutualProximityCML(n_user, n_item, dist3, n_dim, n_item_sample, n_user_sample).to(device)\n",
    "\n",
    "# learning late optimizer\n",
    "optimizer0 = optim.Adam(model0.parameters(), lr=lr)\n",
    "optimizer1 = optim.Adam(model1.parameters(), lr=lr)\n",
    "optimizer2 = optim.Adam(model2.parameters(), lr=lr)\n",
    "optimizer3 = optim.Adam(model3.parameters(), lr=lr)\n",
    "\n",
    "# loss function\n",
    "criterion = losses.SumTripletLoss(margin=1).to(device)\n",
    "\n",
    "# trainer\n",
    "trainer0 = trainers.BaseTrainer(model0, optimizer0, criterion, sampler, no_progressbar)\n",
    "trainer1 = trainers.BaseTrainer(model1, optimizer1, criterion, sampler, no_progressbar)\n",
    "trainer2 = trainers.BaseTrainer(model2, optimizer2, criterion, sampler, no_progressbar)\n",
    "trainer3 = trainers.BaseTrainer(model3, optimizer3, criterion, sampler, no_progressbar)"
   ]
  },
  {
   "cell_type": "markdown",
   "id": "530e0738-4912-4f4c-8806-311fb0374054",
   "metadata": {
    "tags": []
   },
   "source": [
    "# Recall"
   ]
  },
  {
   "cell_type": "code",
   "execution_count": 6,
   "id": "8e020304-6dbc-490d-8ba7-123073e3c6fb",
   "metadata": {},
   "outputs": [],
   "source": [
    "# train0\n",
    "trainer0.fit(n_batch, n_epoch, recall, valid_per_epoch)"
   ]
  },
  {
   "cell_type": "code",
   "execution_count": 7,
   "id": "bf6874e6-2869-44c7-86f7-0c2627806840",
   "metadata": {},
   "outputs": [],
   "source": [
    "# train3\n",
    "trainer3.fit(n_batch, n_epoch, recall, valid_per_epoch)"
   ]
  },
  {
   "cell_type": "code",
   "execution_count": 8,
   "id": "8c83b363-3189-4322-a97d-9478e149659b",
   "metadata": {},
   "outputs": [
    {
     "data": {
      "text/html": [
       "<div>\n",
       "<style scoped>\n",
       "    .dataframe tbody tr th:only-of-type {\n",
       "        vertical-align: middle;\n",
       "    }\n",
       "\n",
       "    .dataframe tbody tr th {\n",
       "        vertical-align: top;\n",
       "    }\n",
       "\n",
       "    .dataframe thead th {\n",
       "        text-align: right;\n",
       "    }\n",
       "</style>\n",
       "<table border=\"1\" class=\"dataframe\">\n",
       "  <thead>\n",
       "    <tr style=\"text-align: right;\">\n",
       "      <th></th>\n",
       "      <th>Recall@5</th>\n",
       "      <th>Recall@10</th>\n",
       "      <th>Recall@50</th>\n",
       "      <th>epoch</th>\n",
       "      <th>losses</th>\n",
       "    </tr>\n",
       "  </thead>\n",
       "  <tbody>\n",
       "    <tr>\n",
       "      <th>0</th>\n",
       "      <td>0.022550</td>\n",
       "      <td>0.044883</td>\n",
       "      <td>0.221410</td>\n",
       "      <td>0</td>\n",
       "      <td>NaN</td>\n",
       "    </tr>\n",
       "    <tr>\n",
       "      <th>0</th>\n",
       "      <td>0.040394</td>\n",
       "      <td>0.136241</td>\n",
       "      <td>0.633027</td>\n",
       "      <td>10</td>\n",
       "      <td>0.453970</td>\n",
       "    </tr>\n",
       "    <tr>\n",
       "      <th>0</th>\n",
       "      <td>0.033942</td>\n",
       "      <td>0.132032</td>\n",
       "      <td>0.687985</td>\n",
       "      <td>20</td>\n",
       "      <td>0.398651</td>\n",
       "    </tr>\n",
       "    <tr>\n",
       "      <th>0</th>\n",
       "      <td>0.037469</td>\n",
       "      <td>0.146726</td>\n",
       "      <td>0.729746</td>\n",
       "      <td>30</td>\n",
       "      <td>0.366123</td>\n",
       "    </tr>\n",
       "    <tr>\n",
       "      <th>0</th>\n",
       "      <td>0.045345</td>\n",
       "      <td>0.169216</td>\n",
       "      <td>0.755495</td>\n",
       "      <td>40</td>\n",
       "      <td>0.342996</td>\n",
       "    </tr>\n",
       "    <tr>\n",
       "      <th>0</th>\n",
       "      <td>0.055679</td>\n",
       "      <td>0.192778</td>\n",
       "      <td>0.771479</td>\n",
       "      <td>50</td>\n",
       "      <td>0.320181</td>\n",
       "    </tr>\n",
       "  </tbody>\n",
       "</table>\n",
       "</div>"
      ],
      "text/plain": [
       "   Recall@5  Recall@10  Recall@50  epoch    losses\n",
       "0  0.022550   0.044883   0.221410      0       NaN\n",
       "0  0.040394   0.136241   0.633027     10  0.453970\n",
       "0  0.033942   0.132032   0.687985     20  0.398651\n",
       "0  0.037469   0.146726   0.729746     30  0.366123\n",
       "0  0.045345   0.169216   0.755495     40  0.342996\n",
       "0  0.055679   0.192778   0.771479     50  0.320181"
      ]
     },
     "execution_count": 8,
     "metadata": {},
     "output_type": "execute_result"
    }
   ],
   "source": [
    "# CML\n",
    "trainer0.valid_scores"
   ]
  },
  {
   "cell_type": "code",
   "execution_count": 9,
   "id": "23cfd3f3-e5c7-4b50-9356-d89a74e27706",
   "metadata": {
    "tags": []
   },
   "outputs": [
    {
     "data": {
      "text/html": [
       "<div>\n",
       "<style scoped>\n",
       "    .dataframe tbody tr th:only-of-type {\n",
       "        vertical-align: middle;\n",
       "    }\n",
       "\n",
       "    .dataframe tbody tr th {\n",
       "        vertical-align: top;\n",
       "    }\n",
       "\n",
       "    .dataframe thead th {\n",
       "        text-align: right;\n",
       "    }\n",
       "</style>\n",
       "<table border=\"1\" class=\"dataframe\">\n",
       "  <thead>\n",
       "    <tr style=\"text-align: right;\">\n",
       "      <th></th>\n",
       "      <th>Recall@5</th>\n",
       "      <th>Recall@10</th>\n",
       "      <th>Recall@50</th>\n",
       "      <th>epoch</th>\n",
       "      <th>losses</th>\n",
       "    </tr>\n",
       "  </thead>\n",
       "  <tbody>\n",
       "    <tr>\n",
       "      <th>0</th>\n",
       "      <td>0.022333</td>\n",
       "      <td>0.044723</td>\n",
       "      <td>0.221810</td>\n",
       "      <td>0</td>\n",
       "      <td>NaN</td>\n",
       "    </tr>\n",
       "    <tr>\n",
       "      <th>0</th>\n",
       "      <td>0.009933</td>\n",
       "      <td>0.026437</td>\n",
       "      <td>0.271256</td>\n",
       "      <td>10</td>\n",
       "      <td>0.456218</td>\n",
       "    </tr>\n",
       "    <tr>\n",
       "      <th>0</th>\n",
       "      <td>0.004295</td>\n",
       "      <td>0.011029</td>\n",
       "      <td>0.235511</td>\n",
       "      <td>20</td>\n",
       "      <td>0.398094</td>\n",
       "    </tr>\n",
       "    <tr>\n",
       "      <th>0</th>\n",
       "      <td>0.004150</td>\n",
       "      <td>0.010899</td>\n",
       "      <td>0.242258</td>\n",
       "      <td>30</td>\n",
       "      <td>0.368253</td>\n",
       "    </tr>\n",
       "    <tr>\n",
       "      <th>0</th>\n",
       "      <td>0.005745</td>\n",
       "      <td>0.014142</td>\n",
       "      <td>0.261137</td>\n",
       "      <td>40</td>\n",
       "      <td>0.341678</td>\n",
       "    </tr>\n",
       "    <tr>\n",
       "      <th>0</th>\n",
       "      <td>0.007846</td>\n",
       "      <td>0.017991</td>\n",
       "      <td>0.282896</td>\n",
       "      <td>50</td>\n",
       "      <td>0.318371</td>\n",
       "    </tr>\n",
       "  </tbody>\n",
       "</table>\n",
       "</div>"
      ],
      "text/plain": [
       "   Recall@5  Recall@10  Recall@50  epoch    losses\n",
       "0  0.022333   0.044723   0.221810      0       NaN\n",
       "0  0.009933   0.026437   0.271256     10  0.456218\n",
       "0  0.004295   0.011029   0.235511     20  0.398094\n",
       "0  0.004150   0.010899   0.242258     30  0.368253\n",
       "0  0.005745   0.014142   0.261137     40  0.341678\n",
       "0  0.007846   0.017991   0.282896     50  0.318371"
      ]
     },
     "execution_count": 9,
     "metadata": {},
     "output_type": "execute_result"
    }
   ],
   "source": [
    "# MPCML\n",
    "trainer3.valid_scores"
   ]
  },
  {
   "cell_type": "markdown",
   "id": "89ec9ef7-bf05-4e35-8fd1-5a528f306ab8",
   "metadata": {
    "tags": []
   },
   "source": [
    "# Unpopularity"
   ]
  },
  {
   "cell_type": "code",
   "execution_count": 10,
   "id": "00d49941-bb8c-4ea0-9182-4526f7f33957",
   "metadata": {},
   "outputs": [],
   "source": [
    "# train0\n",
    "trainer0.fit(n_batch, n_epoch, unpopularity, valid_per_epoch)"
   ]
  },
  {
   "cell_type": "code",
   "execution_count": 11,
   "id": "ff918b4a-63c8-412c-89c3-1120b6151b44",
   "metadata": {},
   "outputs": [],
   "source": [
    "# train3\n",
    "trainer3.fit(n_batch, n_epoch, unpopularity, valid_per_epoch)"
   ]
  },
  {
   "cell_type": "code",
   "execution_count": 12,
   "id": "7f68008c-ae67-4131-a2e6-d710e1addad3",
   "metadata": {},
   "outputs": [
    {
     "data": {
      "text/html": [
       "<div>\n",
       "<style scoped>\n",
       "    .dataframe tbody tr th:only-of-type {\n",
       "        vertical-align: middle;\n",
       "    }\n",
       "\n",
       "    .dataframe tbody tr th {\n",
       "        vertical-align: top;\n",
       "    }\n",
       "\n",
       "    .dataframe thead th {\n",
       "        text-align: right;\n",
       "    }\n",
       "</style>\n",
       "<table border=\"1\" class=\"dataframe\">\n",
       "  <thead>\n",
       "    <tr style=\"text-align: right;\">\n",
       "      <th></th>\n",
       "      <th>Unpopularity@5</th>\n",
       "      <th>Unpopularity@10</th>\n",
       "      <th>Unpopularity@50</th>\n",
       "      <th>epoch</th>\n",
       "      <th>losses</th>\n",
       "    </tr>\n",
       "  </thead>\n",
       "  <tbody>\n",
       "    <tr>\n",
       "      <th>0</th>\n",
       "      <td>0.011426</td>\n",
       "      <td>0.016841</td>\n",
       "      <td>0.129914</td>\n",
       "      <td>0</td>\n",
       "      <td>NaN</td>\n",
       "    </tr>\n",
       "    <tr>\n",
       "      <th>0</th>\n",
       "      <td>0.009787</td>\n",
       "      <td>0.014348</td>\n",
       "      <td>0.127376</td>\n",
       "      <td>10</td>\n",
       "      <td>0.302819</td>\n",
       "    </tr>\n",
       "    <tr>\n",
       "      <th>0</th>\n",
       "      <td>0.008404</td>\n",
       "      <td>0.012374</td>\n",
       "      <td>0.125829</td>\n",
       "      <td>20</td>\n",
       "      <td>0.288428</td>\n",
       "    </tr>\n",
       "    <tr>\n",
       "      <th>0</th>\n",
       "      <td>0.007252</td>\n",
       "      <td>0.010798</td>\n",
       "      <td>0.124514</td>\n",
       "      <td>30</td>\n",
       "      <td>0.277582</td>\n",
       "    </tr>\n",
       "    <tr>\n",
       "      <th>0</th>\n",
       "      <td>0.006309</td>\n",
       "      <td>0.009546</td>\n",
       "      <td>0.123621</td>\n",
       "      <td>40</td>\n",
       "      <td>0.269619</td>\n",
       "    </tr>\n",
       "    <tr>\n",
       "      <th>0</th>\n",
       "      <td>0.005468</td>\n",
       "      <td>0.008551</td>\n",
       "      <td>0.123000</td>\n",
       "      <td>50</td>\n",
       "      <td>0.260907</td>\n",
       "    </tr>\n",
       "  </tbody>\n",
       "</table>\n",
       "</div>"
      ],
      "text/plain": [
       "   Unpopularity@5  Unpopularity@10  Unpopularity@50  epoch    losses\n",
       "0        0.011426         0.016841         0.129914      0       NaN\n",
       "0        0.009787         0.014348         0.127376     10  0.302819\n",
       "0        0.008404         0.012374         0.125829     20  0.288428\n",
       "0        0.007252         0.010798         0.124514     30  0.277582\n",
       "0        0.006309         0.009546         0.123621     40  0.269619\n",
       "0        0.005468         0.008551         0.123000     50  0.260907"
      ]
     },
     "execution_count": 12,
     "metadata": {},
     "output_type": "execute_result"
    }
   ],
   "source": [
    "# CML\n",
    "trainer0.valid_scores"
   ]
  },
  {
   "cell_type": "code",
   "execution_count": 13,
   "id": "32a353de-e8bf-496b-816b-551a88b54b20",
   "metadata": {},
   "outputs": [
    {
     "data": {
      "text/html": [
       "<div>\n",
       "<style scoped>\n",
       "    .dataframe tbody tr th:only-of-type {\n",
       "        vertical-align: middle;\n",
       "    }\n",
       "\n",
       "    .dataframe tbody tr th {\n",
       "        vertical-align: top;\n",
       "    }\n",
       "\n",
       "    .dataframe thead th {\n",
       "        text-align: right;\n",
       "    }\n",
       "</style>\n",
       "<table border=\"1\" class=\"dataframe\">\n",
       "  <thead>\n",
       "    <tr style=\"text-align: right;\">\n",
       "      <th></th>\n",
       "      <th>Unpopularity@5</th>\n",
       "      <th>Unpopularity@10</th>\n",
       "      <th>Unpopularity@50</th>\n",
       "      <th>epoch</th>\n",
       "      <th>losses</th>\n",
       "    </tr>\n",
       "  </thead>\n",
       "  <tbody>\n",
       "    <tr>\n",
       "      <th>0</th>\n",
       "      <td>0.024176</td>\n",
       "      <td>0.048045</td>\n",
       "      <td>0.206618</td>\n",
       "      <td>0</td>\n",
       "      <td>NaN</td>\n",
       "    </tr>\n",
       "    <tr>\n",
       "      <th>0</th>\n",
       "      <td>0.023904</td>\n",
       "      <td>0.047542</td>\n",
       "      <td>0.203368</td>\n",
       "      <td>10</td>\n",
       "      <td>0.300831</td>\n",
       "    </tr>\n",
       "    <tr>\n",
       "      <th>0</th>\n",
       "      <td>0.023527</td>\n",
       "      <td>0.046818</td>\n",
       "      <td>0.199598</td>\n",
       "      <td>20</td>\n",
       "      <td>0.284859</td>\n",
       "    </tr>\n",
       "    <tr>\n",
       "      <th>0</th>\n",
       "      <td>0.022985</td>\n",
       "      <td>0.045811</td>\n",
       "      <td>0.195307</td>\n",
       "      <td>30</td>\n",
       "      <td>0.273380</td>\n",
       "    </tr>\n",
       "    <tr>\n",
       "      <th>0</th>\n",
       "      <td>0.021909</td>\n",
       "      <td>0.043910</td>\n",
       "      <td>0.189434</td>\n",
       "      <td>40</td>\n",
       "      <td>0.254377</td>\n",
       "    </tr>\n",
       "    <tr>\n",
       "      <th>0</th>\n",
       "      <td>0.020242</td>\n",
       "      <td>0.040998</td>\n",
       "      <td>0.182867</td>\n",
       "      <td>50</td>\n",
       "      <td>0.235325</td>\n",
       "    </tr>\n",
       "  </tbody>\n",
       "</table>\n",
       "</div>"
      ],
      "text/plain": [
       "   Unpopularity@5  Unpopularity@10  Unpopularity@50  epoch    losses\n",
       "0        0.024176         0.048045         0.206618      0       NaN\n",
       "0        0.023904         0.047542         0.203368     10  0.300831\n",
       "0        0.023527         0.046818         0.199598     20  0.284859\n",
       "0        0.022985         0.045811         0.195307     30  0.273380\n",
       "0        0.021909         0.043910         0.189434     40  0.254377\n",
       "0        0.020242         0.040998         0.182867     50  0.235325"
      ]
     },
     "execution_count": 13,
     "metadata": {},
     "output_type": "execute_result"
    }
   ],
   "source": [
    "# MPCML\n",
    "trainer3.valid_scores"
   ]
  },
  {
   "cell_type": "markdown",
   "id": "c2ce0375-bd79-49df-b539-5d048c7dea13",
   "metadata": {
    "tags": []
   },
   "source": [
    "# F1-score"
   ]
  },
  {
   "cell_type": "code",
   "execution_count": 14,
   "id": "4cafda5d-624f-4ea4-bed4-51a559456c40",
   "metadata": {},
   "outputs": [],
   "source": [
    "# train0\n",
    "trainer0.fit(n_batch, n_epoch, f1_score, valid_per_epoch)"
   ]
  },
  {
   "cell_type": "code",
   "execution_count": 15,
   "id": "16ea1000-1874-4f30-8347-64bd6dc5b18c",
   "metadata": {},
   "outputs": [],
   "source": [
    "# train3\n",
    "trainer3.fit(n_batch, n_epoch, f1_score, valid_per_epoch)"
   ]
  },
  {
   "cell_type": "code",
   "execution_count": 16,
   "id": "e98585ca-aaa4-4336-bb6e-db09750ae69e",
   "metadata": {},
   "outputs": [
    {
     "data": {
      "text/html": [
       "<div>\n",
       "<style scoped>\n",
       "    .dataframe tbody tr th:only-of-type {\n",
       "        vertical-align: middle;\n",
       "    }\n",
       "\n",
       "    .dataframe tbody tr th {\n",
       "        vertical-align: top;\n",
       "    }\n",
       "\n",
       "    .dataframe thead th {\n",
       "        text-align: right;\n",
       "    }\n",
       "</style>\n",
       "<table border=\"1\" class=\"dataframe\">\n",
       "  <thead>\n",
       "    <tr style=\"text-align: right;\">\n",
       "      <th></th>\n",
       "      <th>F1-score@5</th>\n",
       "      <th>F1-score@10</th>\n",
       "      <th>F1-score@50</th>\n",
       "      <th>epoch</th>\n",
       "      <th>losses</th>\n",
       "    </tr>\n",
       "  </thead>\n",
       "  <tbody>\n",
       "    <tr>\n",
       "      <th>0</th>\n",
       "      <td>0.003046</td>\n",
       "      <td>0.011915</td>\n",
       "      <td>0.176734</td>\n",
       "      <td>0</td>\n",
       "      <td>NaN</td>\n",
       "    </tr>\n",
       "    <tr>\n",
       "      <th>0</th>\n",
       "      <td>0.002719</td>\n",
       "      <td>0.010800</td>\n",
       "      <td>0.175154</td>\n",
       "      <td>10</td>\n",
       "      <td>0.251044</td>\n",
       "    </tr>\n",
       "    <tr>\n",
       "      <th>0</th>\n",
       "      <td>0.002292</td>\n",
       "      <td>0.009761</td>\n",
       "      <td>0.172362</td>\n",
       "      <td>20</td>\n",
       "      <td>0.230319</td>\n",
       "    </tr>\n",
       "    <tr>\n",
       "      <th>0</th>\n",
       "      <td>0.002202</td>\n",
       "      <td>0.009474</td>\n",
       "      <td>0.170730</td>\n",
       "      <td>30</td>\n",
       "      <td>0.216744</td>\n",
       "    </tr>\n",
       "    <tr>\n",
       "      <th>0</th>\n",
       "      <td>0.002136</td>\n",
       "      <td>0.009460</td>\n",
       "      <td>0.170061</td>\n",
       "      <td>40</td>\n",
       "      <td>0.202274</td>\n",
       "    </tr>\n",
       "    <tr>\n",
       "      <th>0</th>\n",
       "      <td>0.002081</td>\n",
       "      <td>0.009443</td>\n",
       "      <td>0.169073</td>\n",
       "      <td>50</td>\n",
       "      <td>0.188081</td>\n",
       "    </tr>\n",
       "  </tbody>\n",
       "</table>\n",
       "</div>"
      ],
      "text/plain": [
       "   F1-score@5  F1-score@10  F1-score@50  epoch    losses\n",
       "0    0.003046     0.011915     0.176734      0       NaN\n",
       "0    0.002719     0.010800     0.175154     10  0.251044\n",
       "0    0.002292     0.009761     0.172362     20  0.230319\n",
       "0    0.002202     0.009474     0.170730     30  0.216744\n",
       "0    0.002136     0.009460     0.170061     40  0.202274\n",
       "0    0.002081     0.009443     0.169073     50  0.188081"
      ]
     },
     "execution_count": 16,
     "metadata": {},
     "output_type": "execute_result"
    }
   ],
   "source": [
    "# CML\n",
    "trainer0.valid_scores"
   ]
  },
  {
   "cell_type": "code",
   "execution_count": 17,
   "id": "40eb2773-1bbb-4ba4-aa1b-df37f5fb444b",
   "metadata": {},
   "outputs": [
    {
     "data": {
      "text/html": [
       "<div>\n",
       "<style scoped>\n",
       "    .dataframe tbody tr th:only-of-type {\n",
       "        vertical-align: middle;\n",
       "    }\n",
       "\n",
       "    .dataframe tbody tr th {\n",
       "        vertical-align: top;\n",
       "    }\n",
       "\n",
       "    .dataframe thead th {\n",
       "        text-align: right;\n",
       "    }\n",
       "</style>\n",
       "<table border=\"1\" class=\"dataframe\">\n",
       "  <thead>\n",
       "    <tr style=\"text-align: right;\">\n",
       "      <th></th>\n",
       "      <th>F1-score@5</th>\n",
       "      <th>F1-score@10</th>\n",
       "      <th>F1-score@50</th>\n",
       "      <th>epoch</th>\n",
       "      <th>losses</th>\n",
       "    </tr>\n",
       "  </thead>\n",
       "  <tbody>\n",
       "    <tr>\n",
       "      <th>0</th>\n",
       "      <td>0.000701</td>\n",
       "      <td>0.003440</td>\n",
       "      <td>0.152301</td>\n",
       "      <td>0</td>\n",
       "      <td>NaN</td>\n",
       "    </tr>\n",
       "    <tr>\n",
       "      <th>0</th>\n",
       "      <td>0.000732</td>\n",
       "      <td>0.003669</td>\n",
       "      <td>0.148938</td>\n",
       "      <td>10</td>\n",
       "      <td>0.220538</td>\n",
       "    </tr>\n",
       "    <tr>\n",
       "      <th>0</th>\n",
       "      <td>0.000801</td>\n",
       "      <td>0.003957</td>\n",
       "      <td>0.146970</td>\n",
       "      <td>20</td>\n",
       "      <td>0.209839</td>\n",
       "    </tr>\n",
       "    <tr>\n",
       "      <th>0</th>\n",
       "      <td>0.000922</td>\n",
       "      <td>0.004458</td>\n",
       "      <td>0.145910</td>\n",
       "      <td>30</td>\n",
       "      <td>0.193505</td>\n",
       "    </tr>\n",
       "    <tr>\n",
       "      <th>0</th>\n",
       "      <td>0.001082</td>\n",
       "      <td>0.005039</td>\n",
       "      <td>0.146076</td>\n",
       "      <td>40</td>\n",
       "      <td>0.180939</td>\n",
       "    </tr>\n",
       "    <tr>\n",
       "      <th>0</th>\n",
       "      <td>0.001199</td>\n",
       "      <td>0.005641</td>\n",
       "      <td>0.147935</td>\n",
       "      <td>50</td>\n",
       "      <td>0.168949</td>\n",
       "    </tr>\n",
       "  </tbody>\n",
       "</table>\n",
       "</div>"
      ],
      "text/plain": [
       "   F1-score@5  F1-score@10  F1-score@50  epoch    losses\n",
       "0    0.000701     0.003440     0.152301      0       NaN\n",
       "0    0.000732     0.003669     0.148938     10  0.220538\n",
       "0    0.000801     0.003957     0.146970     20  0.209839\n",
       "0    0.000922     0.004458     0.145910     30  0.193505\n",
       "0    0.001082     0.005039     0.146076     40  0.180939\n",
       "0    0.001199     0.005641     0.147935     50  0.168949"
      ]
     },
     "execution_count": 17,
     "metadata": {},
     "output_type": "execute_result"
    }
   ],
   "source": [
    "# MPCML\n",
    "trainer3.valid_scores"
   ]
  },
  {
   "cell_type": "markdown",
   "id": "2be3a7a2-c2d2-469d-9670-31c319d4d98e",
   "metadata": {
    "tags": []
   },
   "source": [
    "# Coverage"
   ]
  },
  {
   "cell_type": "code",
   "execution_count": 18,
   "id": "d448518e-35f9-4b78-b7f0-0dd05f38cbb8",
   "metadata": {
    "tags": []
   },
   "outputs": [],
   "source": [
    "# train0\n",
    "trainer0.fit(n_batch, n_epoch, coverage, valid_per_epoch)"
   ]
  },
  {
   "cell_type": "code",
   "execution_count": 19,
   "id": "9843018e-9a45-4141-9d5d-97c9025b039c",
   "metadata": {
    "tags": []
   },
   "outputs": [],
   "source": [
    "# train3\n",
    "trainer3.fit(n_batch, n_epoch, coverage, valid_per_epoch)"
   ]
  },
  {
   "cell_type": "code",
   "execution_count": 20,
   "id": "1cad8bbe-44ed-4d3d-bb25-a10707993a28",
   "metadata": {
    "tags": []
   },
   "outputs": [
    {
     "data": {
      "text/html": [
       "<div>\n",
       "<style scoped>\n",
       "    .dataframe tbody tr th:only-of-type {\n",
       "        vertical-align: middle;\n",
       "    }\n",
       "\n",
       "    .dataframe tbody tr th {\n",
       "        vertical-align: top;\n",
       "    }\n",
       "\n",
       "    .dataframe thead th {\n",
       "        text-align: right;\n",
       "    }\n",
       "</style>\n",
       "<table border=\"1\" class=\"dataframe\">\n",
       "  <thead>\n",
       "    <tr style=\"text-align: right;\">\n",
       "      <th></th>\n",
       "      <th>coverage@5</th>\n",
       "      <th>coverage@10</th>\n",
       "      <th>coverage@50</th>\n",
       "      <th>epoch</th>\n",
       "      <th>losses</th>\n",
       "    </tr>\n",
       "  </thead>\n",
       "  <tbody>\n",
       "    <tr>\n",
       "      <th>0</th>\n",
       "      <td>0.181853</td>\n",
       "      <td>0.212500</td>\n",
       "      <td>0.293002</td>\n",
       "      <td>0</td>\n",
       "      <td>NaN</td>\n",
       "    </tr>\n",
       "    <tr>\n",
       "      <th>0</th>\n",
       "      <td>0.180840</td>\n",
       "      <td>0.209846</td>\n",
       "      <td>0.290637</td>\n",
       "      <td>10</td>\n",
       "      <td>0.172399</td>\n",
       "    </tr>\n",
       "    <tr>\n",
       "      <th>0</th>\n",
       "      <td>0.175965</td>\n",
       "      <td>0.206564</td>\n",
       "      <td>0.287790</td>\n",
       "      <td>20</td>\n",
       "      <td>0.160447</td>\n",
       "    </tr>\n",
       "    <tr>\n",
       "      <th>0</th>\n",
       "      <td>0.174180</td>\n",
       "      <td>0.203475</td>\n",
       "      <td>0.285714</td>\n",
       "      <td>30</td>\n",
       "      <td>0.150913</td>\n",
       "    </tr>\n",
       "    <tr>\n",
       "      <th>0</th>\n",
       "      <td>0.169546</td>\n",
       "      <td>0.199421</td>\n",
       "      <td>0.283012</td>\n",
       "      <td>40</td>\n",
       "      <td>0.141397</td>\n",
       "    </tr>\n",
       "    <tr>\n",
       "      <th>0</th>\n",
       "      <td>0.169208</td>\n",
       "      <td>0.198986</td>\n",
       "      <td>0.280598</td>\n",
       "      <td>50</td>\n",
       "      <td>0.133952</td>\n",
       "    </tr>\n",
       "  </tbody>\n",
       "</table>\n",
       "</div>"
      ],
      "text/plain": [
       "   coverage@5  coverage@10  coverage@50  epoch    losses\n",
       "0    0.181853     0.212500     0.293002      0       NaN\n",
       "0    0.180840     0.209846     0.290637     10  0.172399\n",
       "0    0.175965     0.206564     0.287790     20  0.160447\n",
       "0    0.174180     0.203475     0.285714     30  0.150913\n",
       "0    0.169546     0.199421     0.283012     40  0.141397\n",
       "0    0.169208     0.198986     0.280598     50  0.133952"
      ]
     },
     "execution_count": 20,
     "metadata": {},
     "output_type": "execute_result"
    }
   ],
   "source": [
    "# CML\n",
    "trainer0.valid_scores"
   ]
  },
  {
   "cell_type": "code",
   "execution_count": 21,
   "id": "26513501-8ae2-4df6-8d85-d17696a26842",
   "metadata": {
    "tags": []
   },
   "outputs": [
    {
     "data": {
      "text/html": [
       "<div>\n",
       "<style scoped>\n",
       "    .dataframe tbody tr th:only-of-type {\n",
       "        vertical-align: middle;\n",
       "    }\n",
       "\n",
       "    .dataframe tbody tr th {\n",
       "        vertical-align: top;\n",
       "    }\n",
       "\n",
       "    .dataframe thead th {\n",
       "        text-align: right;\n",
       "    }\n",
       "</style>\n",
       "<table border=\"1\" class=\"dataframe\">\n",
       "  <thead>\n",
       "    <tr style=\"text-align: right;\">\n",
       "      <th></th>\n",
       "      <th>coverage@5</th>\n",
       "      <th>coverage@10</th>\n",
       "      <th>coverage@50</th>\n",
       "      <th>epoch</th>\n",
       "      <th>losses</th>\n",
       "    </tr>\n",
       "  </thead>\n",
       "  <tbody>\n",
       "    <tr>\n",
       "      <th>0</th>\n",
       "      <td>0.197732</td>\n",
       "      <td>0.229537</td>\n",
       "      <td>0.312645</td>\n",
       "      <td>0</td>\n",
       "      <td>NaN</td>\n",
       "    </tr>\n",
       "    <tr>\n",
       "      <th>0</th>\n",
       "      <td>0.193726</td>\n",
       "      <td>0.225724</td>\n",
       "      <td>0.309604</td>\n",
       "      <td>10</td>\n",
       "      <td>0.159935</td>\n",
       "    </tr>\n",
       "    <tr>\n",
       "      <th>0</th>\n",
       "      <td>0.190734</td>\n",
       "      <td>0.223456</td>\n",
       "      <td>0.305888</td>\n",
       "      <td>20</td>\n",
       "      <td>0.149264</td>\n",
       "    </tr>\n",
       "    <tr>\n",
       "      <th>0</th>\n",
       "      <td>0.190251</td>\n",
       "      <td>0.221477</td>\n",
       "      <td>0.306226</td>\n",
       "      <td>30</td>\n",
       "      <td>0.141393</td>\n",
       "    </tr>\n",
       "    <tr>\n",
       "      <th>0</th>\n",
       "      <td>0.187693</td>\n",
       "      <td>0.219884</td>\n",
       "      <td>0.304488</td>\n",
       "      <td>40</td>\n",
       "      <td>0.132857</td>\n",
       "    </tr>\n",
       "    <tr>\n",
       "      <th>0</th>\n",
       "      <td>0.186245</td>\n",
       "      <td>0.215734</td>\n",
       "      <td>0.303475</td>\n",
       "      <td>50</td>\n",
       "      <td>0.126404</td>\n",
       "    </tr>\n",
       "  </tbody>\n",
       "</table>\n",
       "</div>"
      ],
      "text/plain": [
       "   coverage@5  coverage@10  coverage@50  epoch    losses\n",
       "0    0.197732     0.229537     0.312645      0       NaN\n",
       "0    0.193726     0.225724     0.309604     10  0.159935\n",
       "0    0.190734     0.223456     0.305888     20  0.149264\n",
       "0    0.190251     0.221477     0.306226     30  0.141393\n",
       "0    0.187693     0.219884     0.304488     40  0.132857\n",
       "0    0.186245     0.215734     0.303475     50  0.126404"
      ]
     },
     "execution_count": 21,
     "metadata": {},
     "output_type": "execute_result"
    }
   ],
   "source": [
    "# MPCML\n",
    "trainer3.valid_scores"
   ]
  },
  {
   "cell_type": "markdown",
   "id": "c16c3900-53cc-4ec3-b332-49eabb344e6d",
   "metadata": {
    "tags": []
   },
   "source": [
    "# Hubness "
   ]
  },
  {
   "cell_type": "code",
   "execution_count": 22,
   "id": "f02f6664-63c1-4468-bd56-8efa8bdf4304",
   "metadata": {
    "tags": []
   },
   "outputs": [],
   "source": [
    "# train0\n",
    "trainer0.fit(n_batch, n_epoch, hubness, valid_per_epoch)"
   ]
  },
  {
   "cell_type": "code",
   "execution_count": 23,
   "id": "828831ba-8bb2-4792-b46c-86726e608a60",
   "metadata": {
    "tags": []
   },
   "outputs": [],
   "source": [
    "# train3\n",
    "trainer3.fit(n_batch, n_epoch, hubness, valid_per_epoch)"
   ]
  },
  {
   "cell_type": "code",
   "execution_count": 24,
   "id": "c8c0e138-1c2e-4d56-990a-676f2b0c187d",
   "metadata": {
    "tags": []
   },
   "outputs": [
    {
     "data": {
      "text/html": [
       "<div>\n",
       "<style scoped>\n",
       "    .dataframe tbody tr th:only-of-type {\n",
       "        vertical-align: middle;\n",
       "    }\n",
       "\n",
       "    .dataframe tbody tr th {\n",
       "        vertical-align: top;\n",
       "    }\n",
       "\n",
       "    .dataframe thead th {\n",
       "        text-align: right;\n",
       "    }\n",
       "</style>\n",
       "<table border=\"1\" class=\"dataframe\">\n",
       "  <thead>\n",
       "    <tr style=\"text-align: right;\">\n",
       "      <th></th>\n",
       "      <th>hubness@5</th>\n",
       "      <th>hubness@10</th>\n",
       "      <th>hubness@50</th>\n",
       "      <th>epoch</th>\n",
       "      <th>losses</th>\n",
       "    </tr>\n",
       "  </thead>\n",
       "  <tbody>\n",
       "    <tr>\n",
       "      <th>0</th>\n",
       "      <td>19.418478</td>\n",
       "      <td>18.817209</td>\n",
       "      <td>10.523655</td>\n",
       "      <td>0</td>\n",
       "      <td>NaN</td>\n",
       "    </tr>\n",
       "    <tr>\n",
       "      <th>0</th>\n",
       "      <td>19.168588</td>\n",
       "      <td>18.666126</td>\n",
       "      <td>10.533925</td>\n",
       "      <td>10</td>\n",
       "      <td>0.128500</td>\n",
       "    </tr>\n",
       "    <tr>\n",
       "      <th>0</th>\n",
       "      <td>19.215548</td>\n",
       "      <td>18.624022</td>\n",
       "      <td>10.548410</td>\n",
       "      <td>20</td>\n",
       "      <td>0.122754</td>\n",
       "    </tr>\n",
       "    <tr>\n",
       "      <th>0</th>\n",
       "      <td>19.236827</td>\n",
       "      <td>18.635435</td>\n",
       "      <td>10.570516</td>\n",
       "      <td>30</td>\n",
       "      <td>0.120914</td>\n",
       "    </tr>\n",
       "    <tr>\n",
       "      <th>0</th>\n",
       "      <td>19.316187</td>\n",
       "      <td>18.542071</td>\n",
       "      <td>10.556330</td>\n",
       "      <td>40</td>\n",
       "      <td>0.117164</td>\n",
       "    </tr>\n",
       "    <tr>\n",
       "      <th>0</th>\n",
       "      <td>19.202115</td>\n",
       "      <td>18.524127</td>\n",
       "      <td>10.582302</td>\n",
       "      <td>50</td>\n",
       "      <td>0.115143</td>\n",
       "    </tr>\n",
       "  </tbody>\n",
       "</table>\n",
       "</div>"
      ],
      "text/plain": [
       "   hubness@5  hubness@10  hubness@50  epoch    losses\n",
       "0  19.418478   18.817209   10.523655      0       NaN\n",
       "0  19.168588   18.666126   10.533925     10  0.128500\n",
       "0  19.215548   18.624022   10.548410     20  0.122754\n",
       "0  19.236827   18.635435   10.570516     30  0.120914\n",
       "0  19.316187   18.542071   10.556330     40  0.117164\n",
       "0  19.202115   18.524127   10.582302     50  0.115143"
      ]
     },
     "execution_count": 24,
     "metadata": {},
     "output_type": "execute_result"
    }
   ],
   "source": [
    "# CML\n",
    "trainer0.valid_scores"
   ]
  },
  {
   "cell_type": "code",
   "execution_count": 25,
   "id": "fb55a51a-f373-4850-82b8-3c291f70bc87",
   "metadata": {
    "tags": []
   },
   "outputs": [
    {
     "data": {
      "text/html": [
       "<div>\n",
       "<style scoped>\n",
       "    .dataframe tbody tr th:only-of-type {\n",
       "        vertical-align: middle;\n",
       "    }\n",
       "\n",
       "    .dataframe tbody tr th {\n",
       "        vertical-align: top;\n",
       "    }\n",
       "\n",
       "    .dataframe thead th {\n",
       "        text-align: right;\n",
       "    }\n",
       "</style>\n",
       "<table border=\"1\" class=\"dataframe\">\n",
       "  <thead>\n",
       "    <tr style=\"text-align: right;\">\n",
       "      <th></th>\n",
       "      <th>hubness@5</th>\n",
       "      <th>hubness@10</th>\n",
       "      <th>hubness@50</th>\n",
       "      <th>epoch</th>\n",
       "      <th>losses</th>\n",
       "    </tr>\n",
       "  </thead>\n",
       "  <tbody>\n",
       "    <tr>\n",
       "      <th>0</th>\n",
       "      <td>12.065602</td>\n",
       "      <td>12.555527</td>\n",
       "      <td>9.367167</td>\n",
       "      <td>0</td>\n",
       "      <td>NaN</td>\n",
       "    </tr>\n",
       "    <tr>\n",
       "      <th>0</th>\n",
       "      <td>12.686494</td>\n",
       "      <td>13.044404</td>\n",
       "      <td>9.428207</td>\n",
       "      <td>10</td>\n",
       "      <td>0.122185</td>\n",
       "    </tr>\n",
       "    <tr>\n",
       "      <th>0</th>\n",
       "      <td>13.129875</td>\n",
       "      <td>13.414740</td>\n",
       "      <td>9.492376</td>\n",
       "      <td>20</td>\n",
       "      <td>0.115691</td>\n",
       "    </tr>\n",
       "    <tr>\n",
       "      <th>0</th>\n",
       "      <td>13.488672</td>\n",
       "      <td>13.721875</td>\n",
       "      <td>9.547273</td>\n",
       "      <td>30</td>\n",
       "      <td>0.114222</td>\n",
       "    </tr>\n",
       "    <tr>\n",
       "      <th>0</th>\n",
       "      <td>13.944389</td>\n",
       "      <td>14.031944</td>\n",
       "      <td>9.545630</td>\n",
       "      <td>40</td>\n",
       "      <td>0.109680</td>\n",
       "    </tr>\n",
       "    <tr>\n",
       "      <th>0</th>\n",
       "      <td>14.208301</td>\n",
       "      <td>14.356333</td>\n",
       "      <td>9.622226</td>\n",
       "      <td>50</td>\n",
       "      <td>0.108083</td>\n",
       "    </tr>\n",
       "  </tbody>\n",
       "</table>\n",
       "</div>"
      ],
      "text/plain": [
       "   hubness@5  hubness@10  hubness@50  epoch    losses\n",
       "0  12.065602   12.555527    9.367167      0       NaN\n",
       "0  12.686494   13.044404    9.428207     10  0.122185\n",
       "0  13.129875   13.414740    9.492376     20  0.115691\n",
       "0  13.488672   13.721875    9.547273     30  0.114222\n",
       "0  13.944389   14.031944    9.545630     40  0.109680\n",
       "0  14.208301   14.356333    9.622226     50  0.108083"
      ]
     },
     "execution_count": 25,
     "metadata": {},
     "output_type": "execute_result"
    }
   ],
   "source": [
    "# MPCML\n",
    "trainer3.valid_scores"
   ]
  }
 ],
 "metadata": {
  "kernelspec": {
   "display_name": "bachelor2",
   "language": "python",
   "name": "bachelor2"
  },
  "language_info": {
   "codemirror_mode": {
    "name": "ipython",
    "version": 3
   },
   "file_extension": ".py",
   "mimetype": "text/x-python",
   "name": "python",
   "nbconvert_exporter": "python",
   "pygments_lexer": "ipython3",
   "version": "3.8.17"
  }
 },
 "nbformat": 4,
 "nbformat_minor": 5
}
