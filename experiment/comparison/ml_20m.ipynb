{
 "cells": [
  {
   "cell_type": "markdown",
   "id": "d2a48031-491b-49ff-8899-4e2b2755584d",
   "metadata": {
    "tags": []
   },
   "source": [
    "# Import"
   ]
  },
  {
   "cell_type": "code",
   "execution_count": 1,
   "id": "4b3f4f0b-e5fe-4e01-a088-8633a9a32a9c",
   "metadata": {
    "tags": []
   },
   "outputs": [],
   "source": [
    "import sys\n",
    "\n",
    "root_dir = '../../'\n",
    "if root_dir not in sys.path:\n",
    "    sys.path.append(root_dir)\n",
    "\n",
    "import torch\n",
    "from torch import nn, optim\n",
    "import numpy as np\n",
    "from sklearn.decomposition import TruncatedSVD\n",
    "from scipy.sparse import csr_matrix\n",
    "\n",
    "from modules import losses, models, samplers, regularizers, evaluators, trainers, datasets, distributions"
   ]
  },
  {
   "cell_type": "markdown",
   "id": "26c764ee-b02d-4c63-bfe8-f3761caeca83",
   "metadata": {
    "tags": []
   },
   "source": [
    "# DataSet"
   ]
  },
  {
   "cell_type": "code",
   "execution_count": null,
   "id": "0b0f76a4-6de1-441e-95bf-3cbce34ba7b4",
   "metadata": {
    "tags": []
   },
   "outputs": [
    {
     "name": "stdout",
     "output_type": "stream",
     "text": [
      "start\n"
     ]
    }
   ],
   "source": [
    "dataset = datasets.ML20m()\n",
    "n_user = dataset.n_user\n",
    "n_item = dataset.n_item\n",
    "train_set, test_set = dataset.implicit_feedback_data(tail_threshold=20)\n",
    "\n",
    "# device setting\n",
    "device = torch.device(\"cuda:0\" if torch.cuda.is_available() else \"cpu\")\n",
    "train_set = torch.LongTensor(train_set).to(device)\n",
    "test_set = torch.LongTensor(test_set).to(device)"
   ]
  },
  {
   "cell_type": "markdown",
   "id": "e5890c22-5a53-4954-b3c1-a7f0c92c4977",
   "metadata": {
    "tags": []
   },
   "source": [
    "# Evaluator"
   ]
  },
  {
   "cell_type": "code",
   "execution_count": null,
   "id": "32edd550-d71b-49d8-9410-e80bafc8cbd5",
   "metadata": {
    "tags": []
   },
   "outputs": [],
   "source": [
    "# k\n",
    "ks = [50, 100]\n",
    "\n",
    "# Accuracy\n",
    "score_function_dict = {\n",
    "    # \"nDCG\" : evaluators.ndcg,\n",
    "    # \"MAP\" : evaluators.average_precision,\n",
    "    \"Recall\": evaluators.recall\n",
    "}\n",
    "accuracy_evaluator = evaluators.AccuracyEvaluator(test_set, score_function_dict, ks)\n",
    "\n",
    "# Unpopularity\n",
    "unpopularity_evaluator = evaluators.UnpopularityEvaluator(test_set, ks)\n",
    "\n",
    "# F1-Score (Recall-Unpopularity)\n",
    "f1_score_evaluator = evaluators.F1ScoreEvaluator(test_set, ks)\n",
    "\n",
    "# Coverage\n",
    "coverage_evaluator = evaluators.CoverageEvaluator(test_set, ks)\n",
    "\n",
    "# Hubness\n",
    "hubness_evaluator = evaluators.HubnessEvaluator(test_set, ks)"
   ]
  },
  {
   "cell_type": "markdown",
   "id": "e7f08835-4edb-4111-8a66-2015442516fd",
   "metadata": {
    "tags": []
   },
   "source": [
    "# Sampler"
   ]
  },
  {
   "cell_type": "code",
   "execution_count": null,
   "id": "bb75d206-b691-4cbe-b616-fc37cad91993",
   "metadata": {
    "tags": []
   },
   "outputs": [],
   "source": [
    "sampler = samplers.BaseSampler(train_set, n_user, n_item, device=device, strict_negative=False)"
   ]
  },
  {
   "cell_type": "markdown",
   "id": "3f817d5f-625f-468e-ba87-80cb4f962c77",
   "metadata": {
    "tags": []
   },
   "source": [
    "# Model"
   ]
  },
  {
   "cell_type": "code",
   "execution_count": null,
   "id": "845147ca-242a-44c6-9a74-a1c0e624f37b",
   "metadata": {
    "tags": []
   },
   "outputs": [],
   "source": [
    "# Hyperparameters\n",
    "lr = 1e-3\n",
    "n_dim = 50\n",
    "n_batch = 256\n",
    "n_epoch = 30\n",
    "valid_per_epoch = 15\n",
    "n_item_sample = 30\n",
    "n_user_sample = 30\n",
    "\n",
    "# distributiuons\n",
    "dist1 = distributions.Empirical()\n",
    "dist2 = distributions.Gaussian()\n",
    "dist3 = distributions.Gamma()\n",
    "\n",
    "# models\n",
    "model0 = models.CollaborativeMetricLearning(n_user, n_item, n_dim).to(device)\n",
    "model1 = models.MutualProximityCML(n_user, n_item, dist1, n_dim).to(device)\n",
    "model2 = models.MutualProximityCML(n_user, n_item, dist2, n_dim).to(device)\n",
    "model3 = models.MutualProximityCML(n_user, n_item, dist3, n_dim).to(device)\n",
    "\n",
    "# learning late optimizer\n",
    "optimizer0 = optim.Adam(model0.parameters(), lr=lr)\n",
    "optimizer1 = optim.Adam(model1.parameters(), lr=lr)\n",
    "optimizer2 = optim.Adam(model2.parameters(), lr=lr)\n",
    "optimizer3 = optim.Adam(model3.parameters(), lr=lr)\n",
    "\n",
    "# loss function\n",
    "criterion = losses.SumTripletLoss(margin=1).to(device)\n",
    "\n",
    "# trainer\n",
    "trainer0 = trainers.BaseTrainer(model0, optimizer0, criterion, sampler)\n",
    "trainer1 = trainers.BaseTrainer(model1, optimizer1, criterion, sampler)\n",
    "trainer2 = trainers.BaseTrainer(model2, optimizer2, criterion, sampler)\n",
    "trainer3 = trainers.BaseTrainer(model3, optimizer3, criterion, sampler)"
   ]
  },
  {
   "cell_type": "markdown",
   "id": "530e0738-4912-4f4c-8806-311fb0374054",
   "metadata": {
    "tags": []
   },
   "source": [
    "# Accuracy"
   ]
  },
  {
   "cell_type": "code",
   "execution_count": null,
   "id": "8e020304-6dbc-490d-8ba7-123073e3c6fb",
   "metadata": {},
   "outputs": [],
   "source": [
    "# train0\n",
    "trainer0.fit(n_batch, n_epoch, accuracy_evaluator, valid_per_epoch)"
   ]
  },
  {
   "cell_type": "code",
   "execution_count": null,
   "id": "bf6874e6-2869-44c7-86f7-0c2627806840",
   "metadata": {},
   "outputs": [],
   "source": [
    "# train3\n",
    "trainer3.fit(n_batch, n_epoch, accuracy_evaluator, valid_per_epoch)"
   ]
  },
  {
   "cell_type": "code",
   "execution_count": null,
   "id": "8c83b363-3189-4322-a97d-9478e149659b",
   "metadata": {},
   "outputs": [],
   "source": [
    "# CML\n",
    "trainer0.valid_scores"
   ]
  },
  {
   "cell_type": "code",
   "execution_count": null,
   "id": "23cfd3f3-e5c7-4b50-9356-d89a74e27706",
   "metadata": {
    "tags": []
   },
   "outputs": [],
   "source": [
    "# MPCML\n",
    "trainer3.valid_scores"
   ]
  },
  {
   "cell_type": "markdown",
   "id": "89ec9ef7-bf05-4e35-8fd1-5a528f306ab8",
   "metadata": {
    "tags": []
   },
   "source": [
    "# Unpopularity"
   ]
  },
  {
   "cell_type": "code",
   "execution_count": null,
   "id": "00d49941-bb8c-4ea0-9182-4526f7f33957",
   "metadata": {},
   "outputs": [],
   "source": [
    "# train0\n",
    "trainer0.fit(n_batch, n_epoch, unpopularity_evaluator, valid_per_epoch)"
   ]
  },
  {
   "cell_type": "code",
   "execution_count": null,
   "id": "ff918b4a-63c8-412c-89c3-1120b6151b44",
   "metadata": {},
   "outputs": [],
   "source": [
    "# train3\n",
    "trainer3.fit(n_batch, n_epoch, unpopularity_evaluator, valid_per_epoch)"
   ]
  },
  {
   "cell_type": "code",
   "execution_count": null,
   "id": "7f68008c-ae67-4131-a2e6-d710e1addad3",
   "metadata": {},
   "outputs": [],
   "source": [
    "# CML\n",
    "trainer0.valid_scores"
   ]
  },
  {
   "cell_type": "code",
   "execution_count": null,
   "id": "32a353de-e8bf-496b-816b-551a88b54b20",
   "metadata": {},
   "outputs": [],
   "source": [
    "# MPCML\n",
    "trainer3.valid_scores"
   ]
  },
  {
   "cell_type": "markdown",
   "id": "c2ce0375-bd79-49df-b539-5d048c7dea13",
   "metadata": {
    "tags": []
   },
   "source": [
    "# F1-Force"
   ]
  },
  {
   "cell_type": "code",
   "execution_count": null,
   "id": "4cafda5d-624f-4ea4-bed4-51a559456c40",
   "metadata": {},
   "outputs": [],
   "source": [
    "# train0\n",
    "trainer0.fit(n_batch, n_epoch, f1_score_evaluator, valid_per_epoch)"
   ]
  },
  {
   "cell_type": "code",
   "execution_count": null,
   "id": "16ea1000-1874-4f30-8347-64bd6dc5b18c",
   "metadata": {},
   "outputs": [],
   "source": [
    "# train3\n",
    "trainer3.fit(n_batch, n_epoch, f1_score_evaluator, valid_per_epoch)"
   ]
  },
  {
   "cell_type": "code",
   "execution_count": null,
   "id": "e98585ca-aaa4-4336-bb6e-db09750ae69e",
   "metadata": {},
   "outputs": [],
   "source": [
    "# CML\n",
    "trainer0.valid_scores"
   ]
  },
  {
   "cell_type": "code",
   "execution_count": null,
   "id": "40eb2773-1bbb-4ba4-aa1b-df37f5fb444b",
   "metadata": {},
   "outputs": [],
   "source": [
    "# MPCML\n",
    "trainer3.valid_scores"
   ]
  },
  {
   "cell_type": "markdown",
   "id": "2be3a7a2-c2d2-469d-9670-31c319d4d98e",
   "metadata": {
    "tags": []
   },
   "source": [
    "# Coverage"
   ]
  },
  {
   "cell_type": "code",
   "execution_count": null,
   "id": "d448518e-35f9-4b78-b7f0-0dd05f38cbb8",
   "metadata": {
    "tags": []
   },
   "outputs": [],
   "source": [
    "# train0\n",
    "trainer0.fit(n_batch, n_epoch, coverage_evaluator, valid_per_epoch)"
   ]
  },
  {
   "cell_type": "code",
   "execution_count": null,
   "id": "9843018e-9a45-4141-9d5d-97c9025b039c",
   "metadata": {
    "tags": []
   },
   "outputs": [],
   "source": [
    "# train3\n",
    "trainer3.fit(n_batch, n_epoch, coverage_evaluator, valid_per_epoch)"
   ]
  },
  {
   "cell_type": "code",
   "execution_count": null,
   "id": "1cad8bbe-44ed-4d3d-bb25-a10707993a28",
   "metadata": {
    "tags": []
   },
   "outputs": [],
   "source": [
    "# CML\n",
    "trainer0.valid_scores"
   ]
  },
  {
   "cell_type": "code",
   "execution_count": null,
   "id": "26513501-8ae2-4df6-8d85-d17696a26842",
   "metadata": {
    "tags": []
   },
   "outputs": [],
   "source": [
    "# MPCML\n",
    "trainer3.valid_scores"
   ]
  },
  {
   "cell_type": "markdown",
   "id": "c16c3900-53cc-4ec3-b332-49eabb344e6d",
   "metadata": {
    "tags": []
   },
   "source": [
    "# Hubness "
   ]
  },
  {
   "cell_type": "code",
   "execution_count": null,
   "id": "f02f6664-63c1-4468-bd56-8efa8bdf4304",
   "metadata": {
    "tags": []
   },
   "outputs": [],
   "source": [
    "# train0\n",
    "trainer0.fit(n_batch, n_epoch, hubness_evaluator, valid_per_epoch)"
   ]
  },
  {
   "cell_type": "code",
   "execution_count": null,
   "id": "828831ba-8bb2-4792-b46c-86726e608a60",
   "metadata": {
    "tags": []
   },
   "outputs": [],
   "source": [
    "# train3\n",
    "trainer3.fit(n_batch, n_epoch, hubness_evaluator, valid_per_epoch)"
   ]
  },
  {
   "cell_type": "code",
   "execution_count": null,
   "id": "c8c0e138-1c2e-4d56-990a-676f2b0c187d",
   "metadata": {
    "tags": []
   },
   "outputs": [],
   "source": [
    "# CML\n",
    "trainer0.valid_scores"
   ]
  },
  {
   "cell_type": "code",
   "execution_count": null,
   "id": "fb55a51a-f373-4850-82b8-3c291f70bc87",
   "metadata": {
    "tags": []
   },
   "outputs": [],
   "source": [
    "# MPCML\n",
    "trainer3.valid_scores"
   ]
  }
 ],
 "metadata": {
  "kernelspec": {
   "display_name": "bachelor2",
   "language": "python",
   "name": "bachelor2"
  },
  "language_info": {
   "codemirror_mode": {
    "name": "ipython",
    "version": 3
   },
   "file_extension": ".py",
   "mimetype": "text/x-python",
   "name": "python",
   "nbconvert_exporter": "python",
   "pygments_lexer": "ipython3",
   "version": "3.8.17"
  }
 },
 "nbformat": 4,
 "nbformat_minor": 5
}
