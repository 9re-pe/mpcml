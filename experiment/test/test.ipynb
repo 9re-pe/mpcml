{
 "cells": [
  {
   "cell_type": "code",
   "execution_count": 1,
   "id": "a8ae7784-e462-4737-bcdf-48cfbc491826",
   "metadata": {
    "tags": []
   },
   "outputs": [],
   "source": [
    "import sys\n",
    "\n",
    "root_dir = '../../'\n",
    "if root_dir not in sys.path:\n",
    "    sys.path.append(root_dir)\n",
    "\n",
    "import torch\n",
    "from torch import nn, optim\n",
    "import numpy as np\n",
    "import matplotlib.pyplot as plt\n",
    "from sklearn.decomposition import TruncatedSVD\n",
    "from scipy.sparse import csr_matrix\n",
    "\n",
    "from modules import losses, models, samplers, searches, regularizers, evaluators, trainers, datasets, distributions"
   ]
  },
  {
   "cell_type": "code",
   "execution_count": 2,
   "id": "fd101d48-f229-4fcc-9e7d-a0c458da3fb9",
   "metadata": {
    "tags": []
   },
   "outputs": [],
   "source": [
    "dataset = datasets.ML100k()\n",
    "n_user = dataset.n_user\n",
    "n_item = dataset.n_item\n",
    "train_set, test_set = dataset.get_train_and_test_set()\n",
    "\n",
    "# device setting\n",
    "device = torch.device(\"cuda:0\" if torch.cuda.is_available() else \"cpu\")\n",
    "train_set = torch.LongTensor(train_set).to(device)\n",
    "test_set = torch.FloatTensor(test_set).to(device)"
   ]
  },
  {
   "cell_type": "code",
   "execution_count": 3,
   "id": "51d01c4e-69bc-4728-a8f0-227353137f9d",
   "metadata": {
    "tags": []
   },
   "outputs": [],
   "source": [
    "# k\n",
    "ks = [5, 10, 50]\n",
    "\n",
    "score_function_dict = {\n",
    "    \"Recall\"      : evaluators.recall,\n",
    "    \"Unpopularity\": evaluators.unpopularity,\n",
    "    \"Unpopularity2\": evaluators.unpopularity2,\n",
    "    \"Unpopularity3\": evaluators.unpopularity3,\n",
    "    \"F1-score\"    : evaluators.f1_score,\n",
    "    \"F1-score2\"    : evaluators.f1_score2,\n",
    "    \"F1-score3\"    : evaluators.f1_score3\n",
    "}\n",
    "userwise = evaluators.UserwiseEvaluator(test_set, score_function_dict, ks)\n",
    "# coverage = evaluators.CoverageEvaluator(test_set, ks)\n",
    "# hubness = evaluators.HubnessEvaluator(test_set, ks)"
   ]
  },
  {
   "cell_type": "code",
   "execution_count": 4,
   "id": "81e30c11-a001-4ca2-95ff-878cbba30cbe",
   "metadata": {
    "tags": []
   },
   "outputs": [],
   "source": [
    "sampler = samplers.BaseSampler(train_set, n_user, n_item, device=device, strict_negative=False)"
   ]
  },
  {
   "cell_type": "code",
   "execution_count": 5,
   "id": "800a4df2-468c-43c2-b0c1-70231299903c",
   "metadata": {
    "tags": []
   },
   "outputs": [],
   "source": [
    "# Hyperparameters\n",
    "lr = 1e-3\n",
    "n_dim = 10\n",
    "n_batch = 256\n",
    "n_epoch = 30\n",
    "valid_per_epoch = 10\n",
    "n_item_sample = 30\n",
    "n_user_sample = 30\n",
    "no_progressbar = False\n",
    "\n",
    "search_range = 30\n",
    "\n",
    "# models\n",
    "model = models.CollaborativeMetricLearning(n_user, n_item, n_dim).to(device)\n",
    "\n",
    "# distributiuons\n",
    "gaussian = distributions.Gaussian()\n",
    "gamma = distributions.Gamma()\n",
    "\n",
    "# search\n",
    "knn = searches.NearestNeighborhood(model)\n",
    "mp = searches.MutualProximity(model, gamma)\n",
    "mymp = searches.Mymp(model, search_range)\n",
    "\n",
    "# learning late optimizer\n",
    "optimizer = optim.Adam(model.parameters(), lr=lr)\n",
    "\n",
    "# loss function\n",
    "criterion = losses.SumTripletLoss(margin=1).to(device)\n",
    "\n",
    "# trainer\n",
    "trainer = trainers.BaseTrainer(model, optimizer, criterion, sampler, no_progressbar)"
   ]
  },
  {
   "cell_type": "code",
   "execution_count": 6,
   "id": "d7c67a27-64d1-450b-937c-90e5ed1bb4be",
   "metadata": {
    "tags": []
   },
   "outputs": [
    {
     "name": "stderr",
     "output_type": "stream",
     "text": [
      "epoch1 avg_loss:0.937: 100%|█████████████████████████████████████████████████████████████████████████████████████████████████████████████████████████████████████████████████████████████████████| 256/256 [00:04<00:00, 61.95it/s]\n",
      "epoch2 avg_loss:0.779: 100%|█████████████████████████████████████████████████████████████████████████████████████████████████████████████████████████████████████████████████████████████████████| 256/256 [00:04<00:00, 61.11it/s]\n",
      "epoch3 avg_loss:0.684: 100%|█████████████████████████████████████████████████████████████████████████████████████████████████████████████████████████████████████████████████████████████████████| 256/256 [00:04<00:00, 56.37it/s]\n",
      "epoch4 avg_loss:0.629: 100%|█████████████████████████████████████████████████████████████████████████████████████████████████████████████████████████████████████████████████████████████████████| 256/256 [00:03<00:00, 74.27it/s]\n",
      "epoch5 avg_loss:0.592: 100%|█████████████████████████████████████████████████████████████████████████████████████████████████████████████████████████████████████████████████████████████████████| 256/256 [00:03<00:00, 80.19it/s]\n",
      "epoch6 avg_loss:0.559: 100%|█████████████████████████████████████████████████████████████████████████████████████████████████████████████████████████████████████████████████████████████████████| 256/256 [00:03<00:00, 72.28it/s]\n",
      "epoch7 avg_loss:0.539: 100%|█████████████████████████████████████████████████████████████████████████████████████████████████████████████████████████████████████████████████████████████████████| 256/256 [00:03<00:00, 69.75it/s]\n",
      "epoch8 avg_loss:0.523: 100%|█████████████████████████████████████████████████████████████████████████████████████████████████████████████████████████████████████████████████████████████████████| 256/256 [00:03<00:00, 71.34it/s]\n",
      "epoch9 avg_loss:0.505: 100%|█████████████████████████████████████████████████████████████████████████████████████████████████████████████████████████████████████████████████████████████████████| 256/256 [00:03<00:00, 75.69it/s]\n",
      "epoch10 avg_loss:0.492: 100%|████████████████████████████████████████████████████████████████████████████████████████████████████████████████████████████████████████████████████████████████████| 256/256 [00:03<00:00, 79.89it/s]\n",
      "epoch11 avg_loss:0.476: 100%|████████████████████████████████████████████████████████████████████████████████████████████████████████████████████████████████████████████████████████████████████| 256/256 [00:03<00:00, 81.49it/s]\n",
      "epoch12 avg_loss:0.457: 100%|████████████████████████████████████████████████████████████████████████████████████████████████████████████████████████████████████████████████████████████████████| 256/256 [00:03<00:00, 82.86it/s]\n",
      "epoch13 avg_loss:0.439: 100%|████████████████████████████████████████████████████████████████████████████████████████████████████████████████████████████████████████████████████████████████████| 256/256 [00:03<00:00, 83.36it/s]\n",
      "epoch14 avg_loss:0.421: 100%|████████████████████████████████████████████████████████████████████████████████████████████████████████████████████████████████████████████████████████████████████| 256/256 [00:03<00:00, 82.39it/s]\n",
      "epoch15 avg_loss:0.400: 100%|████████████████████████████████████████████████████████████████████████████████████████████████████████████████████████████████████████████████████████████████████| 256/256 [00:03<00:00, 80.76it/s]\n",
      "epoch16 avg_loss:0.376: 100%|████████████████████████████████████████████████████████████████████████████████████████████████████████████████████████████████████████████████████████████████████| 256/256 [00:03<00:00, 78.95it/s]\n",
      "epoch17 avg_loss:0.355: 100%|████████████████████████████████████████████████████████████████████████████████████████████████████████████████████████████████████████████████████████████████████| 256/256 [00:03<00:00, 76.92it/s]\n",
      "epoch18 avg_loss:0.338: 100%|████████████████████████████████████████████████████████████████████████████████████████████████████████████████████████████████████████████████████████████████████| 256/256 [00:03<00:00, 76.63it/s]\n",
      "epoch19 avg_loss:0.321: 100%|████████████████████████████████████████████████████████████████████████████████████████████████████████████████████████████████████████████████████████████████████| 256/256 [00:03<00:00, 76.70it/s]\n",
      "epoch20 avg_loss:0.309: 100%|████████████████████████████████████████████████████████████████████████████████████████████████████████████████████████████████████████████████████████████████████| 256/256 [00:03<00:00, 77.43it/s]\n",
      "epoch21 avg_loss:0.298: 100%|████████████████████████████████████████████████████████████████████████████████████████████████████████████████████████████████████████████████████████████████████| 256/256 [00:03<00:00, 77.73it/s]\n",
      "epoch22 avg_loss:0.289: 100%|████████████████████████████████████████████████████████████████████████████████████████████████████████████████████████████████████████████████████████████████████| 256/256 [00:03<00:00, 77.78it/s]\n",
      "epoch23 avg_loss:0.282: 100%|████████████████████████████████████████████████████████████████████████████████████████████████████████████████████████████████████████████████████████████████████| 256/256 [00:03<00:00, 78.05it/s]\n",
      "epoch24 avg_loss:0.276: 100%|████████████████████████████████████████████████████████████████████████████████████████████████████████████████████████████████████████████████████████████████████| 256/256 [00:03<00:00, 68.38it/s]\n",
      "epoch25 avg_loss:0.271: 100%|████████████████████████████████████████████████████████████████████████████████████████████████████████████████████████████████████████████████████████████████████| 256/256 [00:03<00:00, 72.57it/s]\n",
      "epoch26 avg_loss:0.267: 100%|████████████████████████████████████████████████████████████████████████████████████████████████████████████████████████████████████████████████████████████████████| 256/256 [00:03<00:00, 72.82it/s]\n",
      "epoch27 avg_loss:0.266: 100%|████████████████████████████████████████████████████████████████████████████████████████████████████████████████████████████████████████████████████████████████████| 256/256 [00:03<00:00, 72.07it/s]\n",
      "epoch28 avg_loss:0.262: 100%|████████████████████████████████████████████████████████████████████████████████████████████████████████████████████████████████████████████████████████████████████| 256/256 [00:03<00:00, 72.82it/s]\n",
      "epoch29 avg_loss:0.259: 100%|████████████████████████████████████████████████████████████████████████████████████████████████████████████████████████████████████████████████████████████████████| 256/256 [00:03<00:00, 72.71it/s]\n",
      "epoch30 avg_loss:0.257: 100%|████████████████████████████████████████████████████████████████████████████████████████████████████████████████████████████████████████████████████████████████████| 256/256 [00:03<00:00, 74.25it/s]\n"
     ]
    }
   ],
   "source": [
    "trainer.fit(n_batch, n_epoch)"
   ]
  },
  {
   "cell_type": "code",
   "execution_count": null,
   "id": "ced7876b-81d7-4751-aa46-60b7763d1296",
   "metadata": {},
   "outputs": [],
   "source": [
    "display(trainer.valid_scores)"
   ]
  },
  {
   "cell_type": "code",
   "execution_count": 7,
   "id": "1e9356a3-9039-4c70-b0b2-ce5b8b57c624",
   "metadata": {},
   "outputs": [
    {
     "name": "stderr",
     "output_type": "stream",
     "text": [
      "  1%|█▏                                                                                                                                                                                            | 6/940 [00:00<00:32, 28.61it/s]"
     ]
    },
    {
     "name": "stdout",
     "output_type": "stream",
     "text": [
      "[tensor(17), tensor(41), tensor(123), tensor(130), tensor(97), tensor(55), tensor(178), tensor(14), tensor(230), tensor(103), tensor(153), tensor(238), tensor(171), tensor(265), tensor(100), tensor(165), tensor(74), tensor(167), tensor(136), tensor(67), tensor(224), tensor(92), tensor(158), tensor(54), tensor(185), tensor(141), tensor(373), tensor(277), tensor(277), tensor(277)]\n",
      "[tensor(142), tensor(175), tensor(215), tensor(220), tensor(204), tensor(136), tensor(101), tensor(248), tensor(293), tensor(285), tensor(400), tensor(378), tensor(89), tensor(273), tensor(65), tensor(142), tensor(608), tensor(308), tensor(308), tensor(364), tensor(253), tensor(145), tensor(252), tensor(466), tensor(289), tensor(191), tensor(197), tensor(207), tensor(114), tensor(38)]\n",
      "[tensor(23), tensor(183), tensor(390), tensor(1), tensor(28), tensor(603), tensor(47), tensor(3), tensor(543), tensor(543), tensor(543), tensor(23), tensor(23), tensor(505), tensor(593), tensor(52), tensor(533), tensor(533), tensor(571), tensor(44), tensor(634), tensor(595), tensor(530), tensor(33), tensor(592), tensor(347), tensor(59), tensor(519), tensor(127), tensor(434)]\n",
      "[tensor(18), tensor(41), tensor(61), tensor(174), tensor(138), tensor(138), tensor(138), tensor(25), tensor(71), tensor(11), tensor(152), tensor(116), tensor(46), tensor(22), tensor(351), tensor(3), tensor(10), tensor(6), tensor(24), tensor(42), tensor(521), tensor(529), tensor(87), tensor(8), tensor(33), tensor(33), tensor(470), tensor(110), tensor(301), tensor(123)]\n",
      "[tensor(13), tensor(95), tensor(77), tensor(79), tensor(274), tensor(274), tensor(60), tensor(31), tensor(42), tensor(312), tensor(146), tensor(36), tensor(36), tensor(672), tensor(8), tensor(258), tensor(67), tensor(53), tensor(85), tensor(428), tensor(428), tensor(825), tensor(236), tensor(89), tensor(40), tensor(212), tensor(808), tensor(57), tensor(196), tensor(813)]\n",
      "[tensor(16), tensor(27), tensor(1), tensor(16), tensor(168), tensor(419), tensor(172), tensor(450), tensor(110), tensor(14), tensor(15), tensor(15), tensor(419), tensor(194), tensor(40), tensor(16), tensor(211), tensor(469), tensor(33), tensor(33), tensor(442), tensor(196), tensor(727), tensor(470), tensor(408), tensor(448), tensor(294), tensor(294), tensor(260), tensor(250)]\n"
     ]
    },
    {
     "name": "stderr",
     "output_type": "stream",
     "text": [
      "  1%|█▊                                                                                                                                                                                            | 9/940 [00:00<00:33, 27.65it/s]"
     ]
    },
    {
     "name": "stdout",
     "output_type": "stream",
     "text": [
      "[tensor(174), tensor(219), tensor(180), tensor(185), tensor(171), tensor(349), tensor(359), tensor(281), tensor(165), tensor(165), tensor(269), tensor(469), tensor(358), tensor(439), tensor(167), tensor(222), tensor(65), tensor(187), tensor(287), tensor(325), tensor(154), tensor(199), tensor(199), tensor(577), tensor(52), tensor(321), tensor(558), tensor(317), tensor(209), tensor(539)]\n",
      "[tensor(96), tensor(76), tensor(207), tensor(243), tensor(87), tensor(366), tensor(174), tensor(195), tensor(531), tensor(35), tensor(454), tensor(52), tensor(236), tensor(100), tensor(99), tensor(524), tensor(409), tensor(29), tensor(146), tensor(342), tensor(179), tensor(919), tensor(242), tensor(28), tensor(710), tensor(30), tensor(312), tensor(312), tensor(141), tensor(21)]\n",
      "[tensor(18), tensor(18), tensor(77), tensor(43), tensor(226), tensor(92), tensor(84), tensor(210), tensor(12), tensor(227), tensor(159), tensor(77), tensor(447), tensor(484), tensor(338), tensor(338), tensor(147), tensor(70), tensor(129), tensor(422), tensor(94), tensor(94), tensor(10), tensor(474), tensor(474), tensor(203), tensor(96), tensor(475), tensor(29), tensor(15)]\n",
      "[tensor(4), tensor(39), tensor(144), tensor(107), tensor(42), tensor(3), tensor(17), tensor(217), tensor(133), tensor(131), tensor(75), tensor(116), tensor(273), tensor(5), tensor(83), tensor(43), tensor(43), tensor(56), tensor(335), tensor(66), tensor(16), tensor(16), tensor(129), tensor(27), tensor(439), tensor(16), tensor(69), tensor(69), tensor(69), tensor(365)]\n",
      "[tensor(1), tensor(1), tensor(9), tensor(103), tensor(143), tensor(223), tensor(177), tensor(160), tensor(14), tensor(452), tensor(2), tensor(531), tensor(681), tensor(271), tensor(481), tensor(641), tensor(67), tensor(22), tensor(469), tensor(94), tensor(40), tensor(2), tensor(6), tensor(6), tensor(556), tensor(259), tensor(4), tensor(455), tensor(455), tensor(308)]\n",
      "[tensor(38), tensor(90), tensor(25), tensor(73), tensor(26), tensor(185), tensor(102), tensor(539), tensor(299), tensor(54), tensor(479), tensor(295), tensor(209), tensor(153), tensor(244), tensor(270), tensor(349), tensor(136), tensor(277), tensor(548), tensor(578), tensor(536), tensor(609), tensor(343), tensor(660), tensor(246), tensor(553), tensor(824), tensor(672), tensor(692)]\n"
     ]
    },
    {
     "name": "stderr",
     "output_type": "stream",
     "text": [
      "  2%|███▍                                                                                                                                                                                         | 17/940 [00:00<00:29, 31.02it/s]"
     ]
    },
    {
     "name": "stdout",
     "output_type": "stream",
     "text": [
      "[tensor(16), tensor(11), tensor(232), tensor(29), tensor(61), tensor(251), tensor(10), tensor(456), tensor(397), tensor(171), tensor(425), tensor(37), tensor(395), tensor(515), tensor(266), tensor(266), tensor(440), tensor(30), tensor(271), tensor(800), tensor(479), tensor(367), tensor(53), tensor(138), tensor(382), tensor(496), tensor(410), tensor(572), tensor(604), tensor(161)]\n",
      "[tensor(48), tensor(70), tensor(173), tensor(189), tensor(213), tensor(251), tensor(274), tensor(96), tensor(118), tensor(170), tensor(41), tensor(14), tensor(137), tensor(67), tensor(28), tensor(36), tensor(189), tensor(29), tensor(82), tensor(19), tensor(583), tensor(118), tensor(320), tensor(26), tensor(26), tensor(47), tensor(294), tensor(120), tensor(227), tensor(10)]\n",
      "[tensor(1), tensor(39), tensor(10), tensor(42), tensor(168), tensor(68), tensor(158), tensor(14), tensor(4), tensor(431), tensor(541), tensor(197), tensor(585), tensor(5), tensor(342), tensor(28), tensor(58), tensor(170), tensor(143), tensor(53), tensor(77), tensor(175), tensor(566), tensor(561), tensor(202), tensor(106), tensor(337), tensor(532), tensor(631), tensor(56)]\n",
      "[tensor(7), tensor(55), tensor(78), tensor(147), tensor(162), tensor(127), tensor(12), tensor(108), tensor(211), tensor(287), tensor(27), tensor(180), tensor(400), tensor(249), tensor(18), tensor(25), tensor(58), tensor(193), tensor(310), tensor(14), tensor(323), tensor(42), tensor(84), tensor(485), tensor(480), tensor(17), tensor(12), tensor(322), tensor(16), tensor(137)]\n",
      "[tensor(89), tensor(150), tensor(133), tensor(304), tensor(8), tensor(444), tensor(668), tensor(17), tensor(715), tensor(17), tensor(65), tensor(431), tensor(139), tensor(772), tensor(9), tensor(511), tensor(660), tensor(97), tensor(10), tensor(10), tensor(60), tensor(34), tensor(164), tensor(90), tensor(201), tensor(499), tensor(615), tensor(121), tensor(354), tensor(765)]\n",
      "[tensor(4), tensor(86), tensor(583), tensor(86), tensor(405), tensor(199), tensor(461), tensor(461), tensor(451), tensor(655), tensor(246), tensor(144), tensor(344), tensor(486), tensor(640), tensor(173), tensor(684), tensor(439), tensor(427), tensor(759), tensor(552), tensor(611), tensor(473), tensor(572), tensor(442), tensor(404), tensor(392), tensor(493), tensor(232), tensor(271)]\n",
      "[tensor(58), tensor(76), tensor(152), tensor(188), tensor(88), tensor(172), tensor(175), tensor(202), tensor(276), tensor(41), tensor(168), tensor(9), tensor(61), tensor(166), tensor(224), tensor(83), tensor(88), tensor(222), tensor(222), tensor(163), tensor(85), tensor(227), tensor(221), tensor(72), tensor(72), tensor(42), tensor(8), tensor(646), tensor(226), tensor(34)]\n"
     ]
    },
    {
     "name": "stderr",
     "output_type": "stream",
     "text": [
      "  3%|█████                                                                                                                                                                                        | 25/940 [00:00<00:28, 31.69it/s]"
     ]
    },
    {
     "name": "stdout",
     "output_type": "stream",
     "text": [
      "[tensor(2), tensor(5), tensor(10), tensor(16), tensor(17), tensor(25), tensor(4), tensor(60), tensor(35), tensor(38), tensor(31), tensor(141), tensor(38), tensor(87), tensor(96), tensor(60), tensor(145), tensor(92), tensor(70), tensor(116), tensor(241), tensor(27), tensor(63), tensor(89), tensor(89), tensor(298), tensor(298), tensor(305), tensor(142), tensor(37)]\n",
      "[tensor(19), tensor(120), tensor(9), tensor(197), tensor(148), tensor(560), tensor(269), tensor(275), tensor(166), tensor(799), tensor(74), tensor(869), tensor(39), tensor(520), tensor(214), tensor(28), tensor(184), tensor(62), tensor(30), tensor(38), tensor(404), tensor(385), tensor(505), tensor(32), tensor(902), tensor(512), tensor(485), tensor(754), tensor(60), tensor(31)]\n",
      "[tensor(16), tensor(30), tensor(134), tensor(292), tensor(275), tensor(283), tensor(6), tensor(247), tensor(328), tensor(573), tensor(282), tensor(224), tensor(100), tensor(411), tensor(356), tensor(326), tensor(629), tensor(134), tensor(556), tensor(108), tensor(414), tensor(414), tensor(463), tensor(474), tensor(354), tensor(153), tensor(364), tensor(364), tensor(419), tensor(260)]\n",
      "[tensor(4), tensor(66), tensor(1), tensor(4), tensor(30), tensor(334), tensor(507), tensor(503), tensor(127), tensor(485), tensor(455), tensor(8), tensor(37), tensor(574), tensor(574), tensor(574), tensor(8), tensor(14), tensor(156), tensor(10), tensor(504), tensor(101), tensor(360), tensor(115), tensor(423), tensor(510), tensor(290), tensor(68), tensor(178), tensor(202)]\n",
      "[tensor(2), tensor(690), tensor(5), tensor(714), tensor(121), tensor(93), tensor(185), tensor(8), tensor(910), tensor(82), tensor(74), tensor(8), tensor(745), tensor(477), tensor(461), tensor(13), tensor(253), tensor(529), tensor(569), tensor(17), tensor(49), tensor(460), tensor(12), tensor(344), tensor(673), tensor(51), tensor(108), tensor(525), tensor(527), tensor(864)]\n",
      "[tensor(2), tensor(5), tensor(33), tensor(33), tensor(95), tensor(123), tensor(112), tensor(108), tensor(219), tensor(240), tensor(117), tensor(48), tensor(48), tensor(31), tensor(262), tensor(157), tensor(157), tensor(43), tensor(311), tensor(335), tensor(292), tensor(486), tensor(174), tensor(160), tensor(327), tensor(36), tensor(121), tensor(306), tensor(122), tensor(126)]\n",
      "[tensor(5), tensor(8), tensor(41), tensor(29), tensor(10), tensor(162), tensor(149), tensor(254), tensor(396), tensor(255), tensor(312), tensor(451), tensor(523), tensor(241), tensor(367), tensor(284), tensor(75), tensor(181), tensor(595), tensor(330), tensor(147), tensor(299), tensor(576), tensor(43), tensor(285), tensor(225), tensor(605), tensor(605), tensor(419), tensor(116)]\n"
     ]
    },
    {
     "name": "stderr",
     "output_type": "stream",
     "text": [
      "  3%|█████▊                                                                                                                                                                                       | 29/940 [00:00<00:28, 32.16it/s]"
     ]
    },
    {
     "name": "stdout",
     "output_type": "stream",
     "text": [
      "[tensor(84), tensor(162), tensor(157), tensor(61), tensor(141), tensor(139), tensor(255), tensor(367), tensor(329), tensor(323), tensor(417), tensor(328), tensor(225), tensor(230), tensor(302), tensor(336), tensor(197), tensor(252), tensor(227), tensor(513), tensor(434), tensor(145), tensor(437), tensor(237), tensor(525), tensor(131), tensor(320), tensor(278), tensor(511), tensor(454)]\n",
      "[tensor(89), tensor(173), tensor(38), tensor(52), tensor(143), tensor(75), tensor(796), tensor(203), tensor(869), tensor(78), tensor(514), tensor(165), tensor(182), tensor(347), tensor(281), tensor(53), tensor(557), tensor(518), tensor(95), tensor(401), tensor(144), tensor(230), tensor(697), tensor(676), tensor(146), tensor(73), tensor(151), tensor(753), tensor(62), tensor(768)]\n",
      "[tensor(69), tensor(87), tensor(31), tensor(169), tensor(148), tensor(70), tensor(139), tensor(217), tensor(187), tensor(172), tensor(51), tensor(51), tensor(40), tensor(418), tensor(64), tensor(72), tensor(580), tensor(417), tensor(142), tensor(199), tensor(199), tensor(394), tensor(493), tensor(195), tensor(344), tensor(344), tensor(159), tensor(270), tensor(85), tensor(120)]\n",
      "[tensor(30), tensor(28), tensor(110), tensor(98), tensor(106), tensor(97), tensor(145), tensor(59), tensor(101), tensor(39), tensor(97), tensor(102), tensor(132), tensor(183), tensor(111), tensor(111), tensor(132), tensor(158), tensor(44), tensor(195), tensor(178), tensor(187), tensor(81), tensor(337), tensor(356), tensor(79), tensor(40), tensor(132), tensor(132), tensor(386)]\n",
      "[tensor(1), tensor(5), tensor(96), tensor(134), tensor(90), tensor(21), tensor(185), tensor(132), tensor(211), tensor(314), tensor(329), tensor(117), tensor(240), tensor(28), tensor(48), tensor(109), tensor(22), tensor(85), tensor(475), tensor(31), tensor(167), tensor(457), tensor(94), tensor(71), tensor(28), tensor(37), tensor(449), tensor(52), tensor(13), tensor(21)]\n",
      "[tensor(21), tensor(53), tensor(133), tensor(152), tensor(171), tensor(156), tensor(159), tensor(137), tensor(276), tensor(162), tensor(16), tensor(213), tensor(73), tensor(85), tensor(24), tensor(13), tensor(196), tensor(83), tensor(433), tensor(416), tensor(51), tensor(533), tensor(364), tensor(140), tensor(35), tensor(24), tensor(731), tensor(83), tensor(93), tensor(606)]\n",
      "[tensor(144), tensor(168), tensor(77), tensor(89), tensor(65), tensor(156), tensor(282), tensor(141), tensor(142), tensor(64), tensor(236), tensor(331), tensor(278), tensor(147), tensor(261), tensor(56), tensor(114), tensor(398), tensor(89), tensor(277), tensor(408), tensor(391), tensor(515), tensor(442), tensor(461), tensor(424), tensor(207), tensor(425), tensor(397), tensor(413)]\n"
     ]
    },
    {
     "name": "stderr",
     "output_type": "stream",
     "text": [
      "  4%|███████▍                                                                                                                                                                                     | 37/940 [00:01<00:28, 31.83it/s]"
     ]
    },
    {
     "name": "stdout",
     "output_type": "stream",
     "text": [
      "[tensor(45), tensor(286), tensor(275), tensor(148), tensor(115), tensor(115), tensor(306), tensor(550), tensor(431), tensor(445), tensor(184), tensor(490), tensor(190), tensor(384), tensor(192), tensor(541), tensor(68), tensor(324), tensor(124), tensor(449), tensor(60), tensor(60), tensor(122), tensor(683), tensor(350), tensor(545), tensor(37), tensor(360), tensor(360), tensor(444)]\n",
      "[tensor(61), tensor(123), tensor(95), tensor(76), tensor(153), tensor(126), tensor(136), tensor(56), tensor(225), tensor(212), tensor(245), tensor(367), tensor(424), tensor(224), tensor(463), tensor(152), tensor(446), tensor(339), tensor(448), tensor(387), tensor(289), tensor(239), tensor(100), tensor(380), tensor(217), tensor(77), tensor(725), tensor(160), tensor(420), tensor(187)]\n",
      "[tensor(2), tensor(2), tensor(42), tensor(5), tensor(58), tensor(35), tensor(6), tensor(89), tensor(47), tensor(5), tensor(74), tensor(57), tensor(141), tensor(259), tensor(118), tensor(67), tensor(160), tensor(320), tensor(28), tensor(10), tensor(42), tensor(115), tensor(26), tensor(235), tensor(81), tensor(81), tensor(441), tensor(122), tensor(404), tensor(25)]\n",
      "[tensor(14), tensor(25), tensor(10), tensor(75), tensor(35), tensor(79), tensor(227), tensor(277), tensor(416), tensor(44), tensor(439), tensor(265), tensor(165), tensor(477), tensor(143), tensor(137), tensor(230), tensor(316), tensor(542), tensor(224), tensor(589), tensor(548), tensor(372), tensor(342), tensor(200), tensor(458), tensor(256), tensor(175), tensor(195), tensor(76)]\n",
      "[tensor(152), tensor(157), tensor(132), tensor(208), tensor(41), tensor(297), tensor(59), tensor(546), tensor(477), tensor(472), tensor(515), tensor(63), tensor(843), tensor(605), tensor(91), tensor(611), tensor(129), tensor(689), tensor(120), tensor(98), tensor(158), tensor(47), tensor(31), tensor(92), tensor(764), tensor(54), tensor(213), tensor(139), tensor(105), tensor(50)]\n",
      "[tensor(74), tensor(56), tensor(31), tensor(192), tensor(35), tensor(35), tensor(79), tensor(18), tensor(165), tensor(205), tensor(148), tensor(148), tensor(303), tensor(26), tensor(389), tensor(48), tensor(16), tensor(135), tensor(480), tensor(27), tensor(27), tensor(204), tensor(106), tensor(290), tensor(311), tensor(449), tensor(504), tensor(41), tensor(41), tensor(10)]\n",
      "[tensor(1), tensor(2), tensor(23), tensor(9), tensor(34), tensor(45), tensor(22), tensor(74), tensor(89), tensor(137), tensor(75), tensor(75), tensor(75), tensor(109), tensor(112), tensor(217), tensor(257), tensor(10), tensor(73), tensor(353), tensor(101), tensor(387), tensor(151), tensor(77), tensor(105), tensor(501), tensor(64), tensor(6), tensor(52), tensor(259)]\n"
     ]
    },
    {
     "name": "stderr",
     "output_type": "stream",
     "text": [
      "  5%|█████████                                                                                                                                                                                    | 45/940 [00:01<00:27, 32.53it/s]"
     ]
    },
    {
     "name": "stdout",
     "output_type": "stream",
     "text": [
      "[tensor(11), tensor(53), tensor(17), tensor(62), tensor(36), tensor(66), tensor(34), tensor(88), tensor(166), tensor(23), tensor(76), tensor(172), tensor(305), tensor(177), tensor(41), tensor(73), tensor(76), tensor(201), tensor(461), tensor(90), tensor(273), tensor(369), tensor(50), tensor(338), tensor(269), tensor(358), tensor(318), tensor(311), tensor(131), tensor(419)]\n",
      "[tensor(198), tensor(258), tensor(229), tensor(22), tensor(715), tensor(126), tensor(75), tensor(245), tensor(98), tensor(36), tensor(238), tensor(160), tensor(243), tensor(226), tensor(115), tensor(120), tensor(236), tensor(367), tensor(37), tensor(699), tensor(363), tensor(264), tensor(678), tensor(485), tensor(485), tensor(436), tensor(93), tensor(632), tensor(554), tensor(793)]\n",
      "[tensor(24), tensor(32), tensor(69), tensor(58), tensor(106), tensor(51), tensor(76), tensor(62), tensor(114), tensor(159), tensor(113), tensor(49), tensor(137), tensor(106), tensor(399), tensor(322), tensor(112), tensor(97), tensor(224), tensor(65), tensor(432), tensor(56), tensor(147), tensor(381), tensor(415), tensor(445), tensor(445), tensor(82), tensor(457), tensor(115)]\n",
      "[tensor(6), tensor(149), tensor(141), tensor(243), tensor(292), tensor(88), tensor(110), tensor(251), tensor(290), tensor(36), tensor(225), tensor(239), tensor(389), tensor(36), tensor(544), tensor(153), tensor(324), tensor(343), tensor(232), tensor(261), tensor(416), tensor(450), tensor(450), tensor(8), tensor(286), tensor(316), tensor(384), tensor(195), tensor(156), tensor(121)]\n",
      "[tensor(26), tensor(27), tensor(31), tensor(51), tensor(60), tensor(56), tensor(114), tensor(56), tensor(128), tensor(94), tensor(74), tensor(26), tensor(158), tensor(112), tensor(153), tensor(111), tensor(97), tensor(207), tensor(76), tensor(259), tensor(86), tensor(180), tensor(233), tensor(139), tensor(191), tensor(115), tensor(201), tensor(205), tensor(567), tensor(171)]\n",
      "[tensor(10), tensor(38), tensor(121), tensor(101), tensor(26), tensor(60), tensor(16), tensor(69), tensor(47), tensor(41), tensor(87), tensor(117), tensor(254), tensor(56), tensor(68), tensor(34), tensor(275), tensor(275), tensor(275), tensor(30), tensor(408), tensor(450), tensor(86), tensor(61), tensor(52), tensor(40), tensor(16), tensor(75), tensor(406), tensor(530)]\n",
      "[tensor(145), tensor(121), tensor(157), tensor(271), tensor(220), tensor(169), tensor(278), tensor(165), tensor(186), tensor(190), tensor(187), tensor(556), tensor(238), tensor(183), tensor(388), tensor(151), tensor(424), tensor(424), tensor(432), tensor(649), tensor(451), tensor(345), tensor(527), tensor(480), tensor(466), tensor(94), tensor(552), tensor(259), tensor(523), tensor(351)]\n"
     ]
    },
    {
     "name": "stderr",
     "output_type": "stream",
     "text": [
      "  6%|██████████▋                                                                                                                                                                                  | 53/940 [00:01<00:27, 32.65it/s]"
     ]
    },
    {
     "name": "stdout",
     "output_type": "stream",
     "text": [
      "[tensor(18), tensor(37), tensor(55), tensor(166), tensor(45), tensor(418), tensor(75), tensor(461), tensor(277), tensor(2), tensor(542), tensor(194), tensor(184), tensor(382), tensor(478), tensor(86), tensor(299), tensor(644), tensor(644), tensor(456), tensor(747), tensor(154), tensor(321), tensor(263), tensor(372), tensor(218), tensor(97), tensor(263), tensor(315), tensor(635)]\n",
      "[tensor(1), tensor(2), tensor(3), tensor(3), tensor(4), tensor(19), tensor(19), tensor(417), tensor(159), tensor(5), tensor(57), tensor(122), tensor(359), tensor(359), tensor(257), tensor(6), tensor(6), tensor(233), tensor(22), tensor(682), tensor(138), tensor(138), tensor(41), tensor(592), tensor(16), tensor(15), tensor(812), tensor(267), tensor(17), tensor(501)]\n",
      "[tensor(74), tensor(48), tensor(133), tensor(109), tensor(86), tensor(108), tensor(74), tensor(56), tensor(255), tensor(229), tensor(46), tensor(181), tensor(145), tensor(274), tensor(239), tensor(163), tensor(92), tensor(92), tensor(45), tensor(158), tensor(356), tensor(361), tensor(50), tensor(401), tensor(434), tensor(232), tensor(228), tensor(228), tensor(229), tensor(521)]\n",
      "[tensor(164), tensor(133), tensor(203), tensor(265), tensor(117), tensor(262), tensor(257), tensor(393), tensor(271), tensor(259), tensor(9), tensor(694), tensor(28), tensor(11), tensor(653), tensor(331), tensor(228), tensor(231), tensor(763), tensor(568), tensor(103), tensor(456), tensor(508), tensor(38), tensor(12), tensor(93), tensor(519), tensor(519), tensor(746), tensor(261)]\n",
      "[tensor(20), tensor(13), tensor(18), tensor(50), tensor(72), tensor(65), tensor(143), tensor(172), tensor(94), tensor(230), tensor(286), tensor(307), tensor(350), tensor(60), tensor(271), tensor(243), tensor(269), tensor(86), tensor(82), tensor(138), tensor(488), tensor(289), tensor(228), tensor(626), tensor(381), tensor(377), tensor(327), tensor(353), tensor(223), tensor(361)]\n",
      "[tensor(9), tensor(50), tensor(71), tensor(27), tensor(4), tensor(42), tensor(72), tensor(91), tensor(109), tensor(294), tensor(17), tensor(34), tensor(127), tensor(5), tensor(274), tensor(21), tensor(284), tensor(87), tensor(419), tensor(303), tensor(501), tensor(65), tensor(66), tensor(464), tensor(39), tensor(440), tensor(440), tensor(440), tensor(520), tensor(520)]\n",
      "[tensor(12), tensor(35), tensor(95), tensor(80), tensor(87), tensor(29), tensor(109), tensor(193), tensor(108), tensor(146), tensor(158), tensor(92), tensor(166), tensor(134), tensor(134), tensor(321), tensor(37), tensor(122), tensor(343), tensor(332), tensor(216), tensor(422), tensor(366), tensor(217), tensor(217), tensor(300), tensor(190), tensor(378), tensor(578), tensor(89)]\n"
     ]
    },
    {
     "name": "stderr",
     "output_type": "stream",
     "text": [
      "  6%|███████████▍                                                                                                                                                                                 | 57/940 [00:01<00:27, 32.69it/s]"
     ]
    },
    {
     "name": "stdout",
     "output_type": "stream",
     "text": [
      "[tensor(12), tensor(227), tensor(52), tensor(132), tensor(594), tensor(177), tensor(199), tensor(93), tensor(631), tensor(440), tensor(32), tensor(634), tensor(325), tensor(491), tensor(795), tensor(147), tensor(528), tensor(197), tensor(235), tensor(200), tensor(339), tensor(239), tensor(300), tensor(332), tensor(170), tensor(227), tensor(686), tensor(841), tensor(329), tensor(502)]\n",
      "[tensor(131), tensor(141), tensor(215), tensor(215), tensor(112), tensor(31), tensor(324), tensor(247), tensor(81), tensor(182), tensor(218), tensor(293), tensor(11), tensor(34), tensor(287), tensor(277), tensor(353), tensor(350), tensor(352), tensor(398), tensor(104), tensor(247), tensor(414), tensor(353), tensor(317), tensor(382), tensor(246), tensor(227), tensor(89), tensor(382)]\n",
      "[tensor(3), tensor(3), tensor(7), tensor(3), tensor(15), tensor(11), tensor(20), tensor(21), tensor(50), tensor(59), tensor(82), tensor(89), tensor(33), tensor(37), tensor(38), tensor(81), tensor(85), tensor(160), tensor(146), tensor(41), tensor(59), tensor(104), tensor(137), tensor(149), tensor(57), tensor(192), tensor(189), tensor(46), tensor(148), tensor(148)]\n",
      "[tensor(14), tensor(47), tensor(41), tensor(323), tensor(87), tensor(24), tensor(61), tensor(217), tensor(159), tensor(697), tensor(705), tensor(38), tensor(113), tensor(94), tensor(244), tensor(698), tensor(46), tensor(140), tensor(256), tensor(86), tensor(39), tensor(52), tensor(823), tensor(434), tensor(764), tensor(680), tensor(879), tensor(23), tensor(686), tensor(51)]\n",
      "[tensor(3), tensor(32), tensor(44), tensor(15), tensor(15), tensor(26), tensor(60), tensor(44), tensor(46), tensor(24), tensor(702), tensor(628), tensor(299), tensor(135), tensor(425), tensor(124), tensor(42), tensor(390), tensor(93), tensor(198), tensor(162), tensor(159), tensor(761), tensor(305), tensor(319), tensor(150), tensor(92), tensor(210), tensor(316), tensor(245)]\n",
      "[tensor(121), tensor(196), tensor(70), tensor(55), tensor(276), tensor(81), tensor(40), tensor(203), tensor(203), tensor(378), tensor(292), tensor(320), tensor(108), tensor(116), tensor(476), tensor(359), tensor(716), tensor(27), tensor(23), tensor(189), tensor(249), tensor(91), tensor(393), tensor(97), tensor(379), tensor(170), tensor(442), tensor(120), tensor(621), tensor(374)]\n",
      "[tensor(61), tensor(94), tensor(32), tensor(231), tensor(211), tensor(294), tensor(348), tensor(293), tensor(332), tensor(371), tensor(297), tensor(358), tensor(431), tensor(163), tensor(370), tensor(374), tensor(391), tensor(448), tensor(431), tensor(15), tensor(186), tensor(263), tensor(464), tensor(417), tensor(515), tensor(149), tensor(239), tensor(239), tensor(219), tensor(245)]\n"
     ]
    },
    {
     "name": "stderr",
     "output_type": "stream",
     "text": [
      "  7%|█████████████                                                                                                                                                                                | 65/940 [00:02<00:27, 32.02it/s]"
     ]
    },
    {
     "name": "stdout",
     "output_type": "stream",
     "text": [
      "[tensor(4), tensor(6), tensor(2), tensor(23), tensor(58), tensor(36), tensor(26), tensor(87), tensor(198), tensor(178), tensor(197), tensor(533), tensor(378), tensor(45), tensor(45), tensor(108), tensor(80), tensor(67), tensor(48), tensor(174), tensor(119), tensor(52), tensor(115), tensor(80), tensor(152), tensor(82), tensor(326), tensor(120), tensor(339), tensor(320)]\n",
      "[tensor(109), tensor(53), tensor(42), tensor(148), tensor(141), tensor(208), tensor(166), tensor(247), tensor(168), tensor(214), tensor(101), tensor(257), tensor(191), tensor(333), tensor(276), tensor(315), tensor(171), tensor(230), tensor(230), tensor(153), tensor(239), tensor(263), tensor(259), tensor(251), tensor(239), tensor(239), tensor(110), tensor(244), tensor(223), tensor(209)]\n",
      "[tensor(16), tensor(9), tensor(13), tensor(68), tensor(160), tensor(40), tensor(46), tensor(114), tensor(266), tensor(210), tensor(242), tensor(96), tensor(41), tensor(227), tensor(55), tensor(109), tensor(182), tensor(57), tensor(185), tensor(326), tensor(496), tensor(100), tensor(100), tensor(62), tensor(441), tensor(118), tensor(314), tensor(352), tensor(130), tensor(50)]\n",
      "[tensor(9), tensor(3), tensor(3), tensor(16), tensor(41), tensor(21), tensor(40), tensor(120), tensor(260), tensor(394), tensor(227), tensor(251), tensor(36), tensor(37), tensor(469), tensor(13), tensor(461), tensor(475), tensor(512), tensor(20), tensor(553), tensor(246), tensor(339), tensor(27), tensor(343), tensor(50), tensor(433), tensor(23), tensor(579), tensor(183)]\n",
      "[tensor(52), tensor(52), tensor(55), tensor(68), tensor(63), tensor(59), tensor(36), tensor(129), tensor(106), tensor(96), tensor(34), tensor(112), tensor(129), tensor(90), tensor(128), tensor(199), tensor(246), tensor(55), tensor(32), tensor(185), tensor(268), tensor(212), tensor(212), tensor(163), tensor(180), tensor(292), tensor(194), tensor(177), tensor(198), tensor(198)]\n",
      "[tensor(268), tensor(268), tensor(268), tensor(126), tensor(290), tensor(242), tensor(370), tensor(409), tensor(366), tensor(99), tensor(456), tensor(576), tensor(200), tensor(207), tensor(358), tensor(358), tensor(532), tensor(179), tensor(52), tensor(79), tensor(393), tensor(381), tensor(236), tensor(493), tensor(493), tensor(248), tensor(370), tensor(512), tensor(190), tensor(230)]\n",
      "[tensor(199), tensor(225), tensor(87), tensor(206), tensor(232), tensor(258), tensor(327), tensor(227), tensor(204), tensor(272), tensor(272), tensor(118), tensor(365), tensor(241), tensor(101), tensor(417), tensor(238), tensor(238), tensor(435), tensor(435), tensor(456), tensor(158), tensor(538), tensor(306), tensor(318), tensor(365), tensor(310), tensor(343), tensor(223), tensor(447)]\n"
     ]
    },
    {
     "name": "stderr",
     "output_type": "stream",
     "text": [
      "  8%|██████████████▋                                                                                                                                                                              | 73/940 [00:02<00:27, 31.83it/s]"
     ]
    },
    {
     "name": "stdout",
     "output_type": "stream",
     "text": [
      "[tensor(50), tensor(50), tensor(323), tensor(323), tensor(174), tensor(271), tensor(237), tensor(51), tensor(109), tensor(446), tensor(8), tensor(431), tensor(288), tensor(490), tensor(341), tensor(76), tensor(278), tensor(442), tensor(442), tensor(454), tensor(148), tensor(57), tensor(88), tensor(568), tensor(262), tensor(482), tensor(147), tensor(453), tensor(189), tensor(57)]\n",
      "[tensor(18), tensor(72), tensor(34), tensor(41), tensor(260), tensor(92), tensor(145), tensor(368), tensor(305), tensor(52), tensor(241), tensor(24), tensor(24), tensor(337), tensor(337), tensor(38), tensor(288), tensor(703), tensor(563), tensor(237), tensor(498), tensor(38), tensor(702), tensor(737), tensor(81), tensor(32), tensor(79), tensor(86), tensor(418), tensor(343)]\n",
      "[tensor(18), tensor(8), tensor(11), tensor(11), tensor(15), tensor(26), tensor(3), tensor(26), tensor(26), tensor(182), tensor(3), tensor(3), tensor(154), tensor(47), tensor(21), tensor(248), tensor(92), tensor(92), tensor(135), tensor(219), tensor(7), tensor(252), tensor(3), tensor(22), tensor(218), tensor(52), tensor(52), tensor(52), tensor(52), tensor(355)]\n",
      "[tensor(104), tensor(146), tensor(344), tensor(408), tensor(239), tensor(431), tensor(104), tensor(412), tensor(253), tensor(449), tensor(270), tensor(280), tensor(241), tensor(241), tensor(356), tensor(187), tensor(180), tensor(493), tensor(492), tensor(134), tensor(155), tensor(514), tensor(170), tensor(575), tensor(282), tensor(315), tensor(606), tensor(548), tensor(333), tensor(464)]\n",
      "[tensor(53), tensor(70), tensor(51), tensor(130), tensor(101), tensor(163), tensor(128), tensor(265), tensor(237), tensor(296), tensor(322), tensor(269), tensor(207), tensor(265), tensor(265), tensor(189), tensor(287), tensor(226), tensor(174), tensor(363), tensor(363), tensor(343), tensor(404), tensor(297), tensor(262), tensor(74), tensor(362), tensor(369), tensor(239), tensor(96)]\n",
      "[tensor(20), tensor(66), tensor(153), tensor(159), tensor(124), tensor(119), tensor(268), tensor(173), tensor(202), tensor(264), tensor(184), tensor(147), tensor(253), tensor(71), tensor(280), tensor(342), tensor(268), tensor(268), tensor(348), tensor(366), tensor(279), tensor(513), tensor(229), tensor(343), tensor(329), tensor(365), tensor(412), tensor(312), tensor(312), tensor(243)]\n",
      "[tensor(120), tensor(139), tensor(93), tensor(138), tensor(347), tensor(511), tensor(461), tensor(489), tensor(513), tensor(93), tensor(258), tensor(399), tensor(595), tensor(489), tensor(309), tensor(613), tensor(135), tensor(251), tensor(364), tensor(658), tensor(591), tensor(652), tensor(427), tensor(603), tensor(503), tensor(333), tensor(352), tensor(771), tensor(812), tensor(377)]\n"
     ]
    },
    {
     "name": "stderr",
     "output_type": "stream",
     "text": [
      "  9%|████████████████▎                                                                                                                                                                            | 81/940 [00:02<00:26, 32.26it/s]"
     ]
    },
    {
     "name": "stdout",
     "output_type": "stream",
     "text": [
      "[tensor(272), tensor(84), tensor(44), tensor(3), tensor(390), tensor(258), tensor(73), tensor(736), tensor(288), tensor(144), tensor(180), tensor(487), tensor(444), tensor(36), tensor(726), tensor(861), tensor(539), tensor(25), tensor(258), tensor(803), tensor(256), tensor(198), tensor(526), tensor(572), tensor(202), tensor(862), tensor(560), tensor(857), tensor(785), tensor(294)]\n",
      "[tensor(159), tensor(126), tensor(423), tensor(197), tensor(353), tensor(291), tensor(238), tensor(332), tensor(359), tensor(484), tensor(402), tensor(659), tensor(531), tensor(419), tensor(629), tensor(732), tensor(443), tensor(520), tensor(294), tensor(591), tensor(693), tensor(415), tensor(778), tensor(721), tensor(800), tensor(508), tensor(423), tensor(608), tensor(752), tensor(800)]\n",
      "[tensor(59), tensor(9), tensor(164), tensor(164), tensor(30), tensor(246), tensor(120), tensor(183), tensor(44), tensor(254), tensor(322), tensor(250), tensor(3), tensor(3), tensor(350), tensor(179), tensor(318), tensor(264), tensor(59), tensor(386), tensor(308), tensor(20), tensor(423), tensor(618), tensor(327), tensor(22), tensor(441), tensor(10), tensor(332), tensor(313)]\n",
      "[tensor(51), tensor(47), tensor(37), tensor(154), tensor(150), tensor(59), tensor(79), tensor(105), tensor(168), tensor(65), tensor(94), tensor(122), tensor(122), tensor(205), tensor(313), tensor(280), tensor(271), tensor(125), tensor(97), tensor(64), tensor(337), tensor(337), tensor(337), tensor(98), tensor(159), tensor(159), tensor(422), tensor(156), tensor(405), tensor(317)]\n",
      "[tensor(61), tensor(50), tensor(150), tensor(364), tensor(69), tensor(142), tensor(354), tensor(610), tensor(320), tensor(419), tensor(419), tensor(495), tensor(167), tensor(287), tensor(141), tensor(265), tensor(402), tensor(800), tensor(207), tensor(492), tensor(502), tensor(397), tensor(534), tensor(346), tensor(404), tensor(621), tensor(681), tensor(843), tensor(759), tensor(509)]\n",
      "[tensor(12), tensor(27), tensor(312), tensor(246), tensor(23), tensor(378), tensor(230), tensor(27), tensor(249), tensor(414), tensor(465), tensor(407), tensor(368), tensor(312), tensor(77), tensor(77), tensor(250), tensor(401), tensor(5), tensor(755), tensor(95), tensor(501), tensor(131), tensor(351), tensor(351), tensor(16), tensor(41), tensor(351), tensor(41), tensor(40)]\n",
      "[tensor(291), tensor(266), tensor(48), tensor(343), tensor(229), tensor(454), tensor(590), tensor(637), tensor(636), tensor(609), tensor(201), tensor(76), tensor(131), tensor(132), tensor(10), tensor(526), tensor(14), tensor(672), tensor(288), tensor(290), tensor(41), tensor(377), tensor(98), tensor(489), tensor(395), tensor(202), tensor(826), tensor(220), tensor(149), tensor(230)]\n"
     ]
    },
    {
     "name": "stderr",
     "output_type": "stream",
     "text": [
      "  9%|█████████████████                                                                                                                                                                            | 85/940 [00:02<00:27, 31.50it/s]"
     ]
    },
    {
     "name": "stdout",
     "output_type": "stream",
     "text": [
      "[tensor(21), tensor(55), tensor(18), tensor(71), tensor(81), tensor(177), tensor(302), tensor(306), tensor(221), tensor(221), tensor(221), tensor(221), tensor(11), tensor(145), tensor(18), tensor(108), tensor(323), tensor(500), tensor(29), tensor(12), tensor(292), tensor(407), tensor(492), tensor(218), tensor(48), tensor(543), tensor(33), tensor(213), tensor(74), tensor(246)]\n",
      "[tensor(44), tensor(60), tensor(79), tensor(130), tensor(130), tensor(20), tensor(341), tensor(149), tensor(111), tensor(27), tensor(601), tensor(140), tensor(198), tensor(198), tensor(12), tensor(532), tensor(91), tensor(21), tensor(61), tensor(407), tensor(142), tensor(641), tensor(15), tensor(98), tensor(487), tensor(11), tensor(114), tensor(642), tensor(14), tensor(599)]\n",
      "[tensor(16), tensor(96), tensor(80), tensor(167), tensor(176), tensor(211), tensor(193), tensor(83), tensor(43), tensor(166), tensor(256), tensor(168), tensor(164), tensor(231), tensor(104), tensor(146), tensor(50), tensor(258), tensor(255), tensor(148), tensor(103), tensor(82), tensor(296), tensor(345), tensor(290), tensor(315), tensor(50), tensor(378), tensor(240), tensor(141)]\n",
      "[tensor(38), tensor(49), tensor(92), tensor(124), tensor(105), tensor(240), tensor(219), tensor(126), tensor(124), tensor(273), tensor(267), tensor(131), tensor(144), tensor(155), tensor(370), tensor(77), tensor(222), tensor(77), tensor(217), tensor(163), tensor(641), tensor(127), tensor(107), tensor(326), tensor(288), tensor(169), tensor(184), tensor(140), tensor(215), tensor(148)]\n",
      "[tensor(99), tensor(195), tensor(158), tensor(51), tensor(687), tensor(160), tensor(738), tensor(638), tensor(27), tensor(278), tensor(158), tensor(308), tensor(123), tensor(493), tensor(160), tensor(164), tensor(577), tensor(206), tensor(113), tensor(492), tensor(132), tensor(196), tensor(713), tensor(189), tensor(774), tensor(684), tensor(469), tensor(363), tensor(727), tensor(542)]\n",
      "[tensor(31), tensor(114), tensor(276), tensor(315), tensor(220), tensor(365), tensor(371), tensor(224), tensor(436), tensor(482), tensor(496), tensor(526), tensor(432), tensor(509), tensor(745), tensor(557), tensor(537), tensor(551), tensor(616), tensor(612), tensor(637), tensor(695), tensor(681), tensor(671), tensor(781), tensor(865), tensor(609), tensor(736), tensor(918), tensor(933)]\n",
      "[tensor(192), tensor(188), tensor(105), tensor(218), tensor(235), tensor(404), tensor(240), tensor(272), tensor(224), tensor(88), tensor(3), tensor(89), tensor(636), tensor(188), tensor(531), tensor(698), tensor(703), tensor(307), tensor(194), tensor(190), tensor(107), tensor(234), tensor(59), tensor(120), tensor(367), tensor(50), tensor(215), tensor(124), tensor(692), tensor(205)]\n"
     ]
    },
    {
     "name": "stderr",
     "output_type": "stream",
     "text": [
      " 10%|██████████████████▋                                                                                                                                                                          | 93/940 [00:02<00:27, 31.05it/s]"
     ]
    },
    {
     "name": "stdout",
     "output_type": "stream",
     "text": [
      "[tensor(15), tensor(89), tensor(97), tensor(161), tensor(139), tensor(65), tensor(138), tensor(172), tensor(461), tensor(208), tensor(6), tensor(160), tensor(197), tensor(165), tensor(78), tensor(226), tensor(130), tensor(473), tensor(60), tensor(299), tensor(137), tensor(635), tensor(181), tensor(99), tensor(122), tensor(291), tensor(264), tensor(106), tensor(346), tensor(256)]\n",
      "[tensor(23), tensor(38), tensor(32), tensor(80), tensor(138), tensor(11), tensor(56), tensor(18), tensor(18), tensor(16), tensor(144), tensor(144), tensor(144), tensor(17), tensor(2), tensor(97), tensor(318), tensor(387), tensor(130), tensor(46), tensor(44), tensor(65), tensor(483), tensor(77), tensor(757), tensor(435), tensor(5), tensor(11), tensor(133), tensor(447)]\n",
      "[tensor(6), tensor(23), tensor(77), tensor(151), tensor(57), tensor(203), tensor(189), tensor(100), tensor(128), tensor(60), tensor(124), tensor(163), tensor(162), tensor(202), tensor(102), tensor(371), tensor(425), tensor(164), tensor(258), tensor(141), tensor(165), tensor(306), tensor(675), tensor(77), tensor(652), tensor(624), tensor(574), tensor(300), tensor(687), tensor(210)]\n",
      "[tensor(53), tensor(75), tensor(152), tensor(125), tensor(80), tensor(33), tensor(88), tensor(231), tensor(33), tensor(153), tensor(32), tensor(254), tensor(177), tensor(365), tensor(192), tensor(192), tensor(483), tensor(130), tensor(140), tensor(334), tensor(71), tensor(298), tensor(79), tensor(599), tensor(77), tensor(77), tensor(326), tensor(443), tensor(311), tensor(7)]\n",
      "[tensor(40), tensor(8), tensor(27), tensor(53), tensor(114), tensor(173), tensor(127), tensor(102), tensor(82), tensor(159), tensor(306), tensor(190), tensor(11), tensor(14), tensor(216), tensor(212), tensor(381), tensor(104), tensor(97), tensor(44), tensor(246), tensor(114), tensor(46), tensor(19), tensor(19), tensor(40), tensor(318), tensor(60), tensor(355), tensor(355)]\n",
      "[tensor(1), tensor(3), tensor(2), tensor(3), tensor(16), tensor(21), tensor(7), tensor(34), tensor(36), tensor(69), tensor(49), tensor(70), tensor(14), tensor(72), tensor(151), tensor(52), tensor(63), tensor(37), tensor(375), tensor(427), tensor(161), tensor(363), tensor(342), tensor(407), tensor(27), tensor(27), tensor(290), tensor(134), tensor(134), tensor(327)]\n"
     ]
    },
    {
     "name": "stderr",
     "output_type": "stream",
     "text": [
      " 11%|████████████████████▏                                                                                                                                                                       | 101/940 [00:03<00:27, 30.10it/s]"
     ]
    },
    {
     "name": "stdout",
     "output_type": "stream",
     "text": [
      "[tensor(64), tensor(101), tensor(39), tensor(419), tensor(215), tensor(95), tensor(436), tensor(262), tensor(130), tensor(94), tensor(78), tensor(561), tensor(46), tensor(154), tensor(627), tensor(618), tensor(668), tensor(192), tensor(658), tensor(260), tensor(45), tensor(72), tensor(656), tensor(656), tensor(177), tensor(654), tensor(244), tensor(106), tensor(291), tensor(144)]\n",
      "[tensor(24), tensor(6), tensor(75), tensor(83), tensor(111), tensor(51), tensor(72), tensor(178), tensor(37), tensor(84), tensor(224), tensor(290), tensor(275), tensor(242), tensor(19), tensor(204), tensor(270), tensor(270), tensor(348), tensor(312), tensor(312), tensor(450), tensor(290), tensor(20), tensor(20), tensor(214), tensor(274), tensor(459), tensor(512), tensor(378)]\n",
      "[tensor(1), tensor(1), tensor(12), tensor(29), tensor(3), tensor(2), tensor(57), tensor(597), tensor(810), tensor(657), tensor(161), tensor(5), tensor(146), tensor(2), tensor(66), tensor(19), tensor(21), tensor(70), tensor(593), tensor(42), tensor(347), tensor(851), tensor(312), tensor(150), tensor(110), tensor(59), tensor(34), tensor(372), tensor(193), tensor(526)]\n",
      "[tensor(37), tensor(274), tensor(46), tensor(136), tensor(62), tensor(25), tensor(142), tensor(356), tensor(287), tensor(255), tensor(175), tensor(208), tensor(170), tensor(56), tensor(200), tensor(200), tensor(200), tensor(279), tensor(496), tensor(176), tensor(160), tensor(91), tensor(392), tensor(10), tensor(10), tensor(10), tensor(305), tensor(390), tensor(256), tensor(157)]\n",
      "[tensor(10), tensor(53), tensor(46), tensor(88), tensor(24), tensor(91), tensor(91), tensor(139), tensor(55), tensor(140), tensor(73), tensor(108), tensor(138), tensor(207), tensor(296), tensor(296), tensor(121), tensor(46), tensor(41), tensor(131), tensor(19), tensor(116), tensor(625), tensor(168), tensor(406), tensor(22), tensor(84), tensor(352), tensor(81), tensor(112)]\n",
      "[tensor(1), tensor(103), tensor(84), tensor(5), tensor(166), tensor(72), tensor(18), tensor(97), tensor(284), tensor(172), tensor(524), tensor(14), tensor(12), tensor(41), tensor(401), tensor(397), tensor(235), tensor(265), tensor(635), tensor(703), tensor(473), tensor(252), tensor(880), tensor(569), tensor(765), tensor(423), tensor(176), tensor(235), tensor(768), tensor(549)]\n",
      "[tensor(79), tensor(50), tensor(89), tensor(35), tensor(170), tensor(73), tensor(284), tensor(177), tensor(241), tensor(316), tensor(126), tensor(248), tensor(140), tensor(429), tensor(275), tensor(205), tensor(83), tensor(659), tensor(266), tensor(218), tensor(50), tensor(462), tensor(462), tensor(269), tensor(729), tensor(377), tensor(264), tensor(377), tensor(274), tensor(446)]\n"
     ]
    },
    {
     "name": "stderr",
     "output_type": "stream",
     "text": [
      " 11%|█████████████████████                                                                                                                                                                       | 105/940 [00:03<00:27, 30.81it/s]"
     ]
    },
    {
     "name": "stdout",
     "output_type": "stream",
     "text": [
      "[tensor(2), tensor(26), tensor(88), tensor(17), tensor(112), tensor(123), tensor(213), tensor(213), tensor(183), tensor(204), tensor(254), tensor(225), tensor(206), tensor(224), tensor(300), tensor(229), tensor(178), tensor(314), tensor(248), tensor(134), tensor(134), tensor(357), tensor(357), tensor(261), tensor(261), tensor(326), tensor(323), tensor(390), tensor(96), tensor(256)]\n",
      "[tensor(1), tensor(43), tensor(36), tensor(23), tensor(20), tensor(57), tensor(16), tensor(16), tensor(113), tensor(174), tensor(174), tensor(217), tensor(81), tensor(185), tensor(209), tensor(114), tensor(149), tensor(101), tensor(40), tensor(21), tensor(63), tensor(14), tensor(226), tensor(226), tensor(403), tensor(15), tensor(30), tensor(274), tensor(146), tensor(33)]\n",
      "[tensor(6), tensor(119), tensor(114), tensor(338), tensor(223), tensor(179), tensor(66), tensor(2), tensor(677), tensor(161), tensor(836), tensor(45), tensor(69), tensor(7), tensor(302), tensor(38), tensor(136), tensor(365), tensor(16), tensor(86), tensor(39), tensor(213), tensor(61), tensor(149), tensor(45), tensor(457), tensor(891), tensor(86), tensor(468), tensor(138)]\n",
      "[tensor(24), tensor(28), tensor(7), tensor(55), tensor(261), tensor(202), tensor(212), tensor(127), tensor(460), tensor(225), tensor(521), tensor(334), tensor(306), tensor(496), tensor(516), tensor(352), tensor(582), tensor(562), tensor(457), tensor(402), tensor(391), tensor(333), tensor(373), tensor(544), tensor(555), tensor(452), tensor(629), tensor(256), tensor(274), tensor(346)]\n",
      "[tensor(53), tensor(4), tensor(244), tensor(358), tensor(339), tensor(570), tensor(248), tensor(85), tensor(328), tensor(430), tensor(21), tensor(21), tensor(87), tensor(231), tensor(94), tensor(458), tensor(297), tensor(354), tensor(104), tensor(279), tensor(449), tensor(768), tensor(195), tensor(42), tensor(545), tensor(212), tensor(569), tensor(679), tensor(473), tensor(417)]\n",
      "[tensor(66), tensor(163), tensor(176), tensor(52), tensor(137), tensor(305), tensor(156), tensor(259), tensor(189), tensor(372), tensor(169), tensor(281), tensor(316), tensor(384), tensor(384), tensor(148), tensor(292), tensor(371), tensor(258), tensor(252), tensor(141), tensor(305), tensor(67), tensor(512), tensor(106), tensor(398), tensor(207), tensor(251), tensor(231), tensor(415)]\n",
      "[tensor(64), tensor(104), tensor(231), tensor(157), tensor(120), tensor(120), tensor(62), tensor(369), tensor(301), tensor(82), tensor(420), tensor(185), tensor(464), tensor(263), tensor(405), tensor(178), tensor(178), tensor(438), tensor(510), tensor(289), tensor(247), tensor(354), tensor(156), tensor(189), tensor(531), tensor(278), tensor(483), tensor(128), tensor(31), tensor(557)]\n"
     ]
    },
    {
     "name": "stderr",
     "output_type": "stream",
     "text": [
      " 12%|██████████████████████▌                                                                                                                                                                     | 113/940 [00:03<00:26, 31.03it/s]"
     ]
    },
    {
     "name": "stdout",
     "output_type": "stream",
     "text": [
      "[tensor(146), tensor(248), tensor(272), tensor(157), tensor(264), tensor(261), tensor(350), tensor(205), tensor(267), tensor(220), tensor(261), tensor(299), tensor(284), tensor(223), tensor(133), tensor(199), tensor(572), tensor(245), tensor(220), tensor(137), tensor(242), tensor(533), tensor(335), tensor(335), tensor(191), tensor(237), tensor(21), tensor(352), tensor(260), tensor(249)]\n",
      "[tensor(18), tensor(50), tensor(14), tensor(248), tensor(254), tensor(69), tensor(237), tensor(170), tensor(171), tensor(262), tensor(284), tensor(301), tensor(393), tensor(378), tensor(46), tensor(364), tensor(316), tensor(137), tensor(437), tensor(389), tensor(493), tensor(183), tensor(183), tensor(171), tensor(410), tensor(135), tensor(396), tensor(153), tensor(249), tensor(377)]\n",
      "[tensor(2), tensor(4), tensor(12), tensor(19), tensor(10), tensor(55), tensor(41), tensor(61), tensor(93), tensor(93), tensor(96), tensor(96), tensor(142), tensor(201), tensor(170), tensor(87), tensor(199), tensor(132), tensor(324), tensor(138), tensor(220), tensor(429), tensor(124), tensor(161), tensor(624), tensor(192), tensor(208), tensor(36), tensor(331), tensor(614)]\n",
      "[tensor(28), tensor(139), tensor(111), tensor(97), tensor(166), tensor(69), tensor(29), tensor(262), tensor(99), tensor(99), tensor(352), tensor(190), tensor(376), tensor(376), tensor(133), tensor(163), tensor(394), tensor(354), tensor(436), tensor(122), tensor(205), tensor(340), tensor(290), tensor(272), tensor(49), tensor(125), tensor(86), tensor(803), tensor(410), tensor(742)]\n",
      "[tensor(1), tensor(15), tensor(13), tensor(27), tensor(72), tensor(17), tensor(168), tensor(186), tensor(204), tensor(144), tensor(144), tensor(244), tensor(132), tensor(202), tensor(106), tensor(164), tensor(123), tensor(693), tensor(130), tensor(197), tensor(583), tensor(205), tensor(159), tensor(763), tensor(264), tensor(152), tensor(210), tensor(631), tensor(138), tensor(144)]\n",
      "[tensor(98), tensor(76), tensor(3), tensor(14), tensor(265), tensor(403), tensor(8), tensor(408), tensor(270), tensor(74), tensor(497), tensor(16), tensor(657), tensor(654), tensor(18), tensor(455), tensor(455), tensor(26), tensor(194), tensor(79), tensor(3), tensor(399), tensor(48), tensor(48), tensor(256), tensor(100), tensor(530), tensor(498), tensor(698), tensor(622)]\n",
      "[tensor(55), tensor(58), tensor(52), tensor(93), tensor(118), tensor(299), tensor(308), tensor(219), tensor(367), tensor(386), tensor(220), tensor(93), tensor(62), tensor(22), tensor(299), tensor(159), tensor(46), tensor(98), tensor(699), tensor(254), tensor(101), tensor(323), tensor(18), tensor(836), tensor(616), tensor(342), tensor(150), tensor(382), tensor(521), tensor(22)]\n"
     ]
    },
    {
     "name": "stderr",
     "output_type": "stream",
     "text": [
      " 13%|████████████████████████▏                                                                                                                                                                   | 121/940 [00:03<00:26, 31.14it/s]"
     ]
    },
    {
     "name": "stdout",
     "output_type": "stream",
     "text": [
      "[tensor(229), tensor(48), tensor(167), tensor(6), tensor(22), tensor(12), tensor(11), tensor(69), tensor(68), tensor(22), tensor(55), tensor(42), tensor(38), tensor(34), tensor(547), tensor(21), tensor(629), tensor(116), tensor(98), tensor(35), tensor(911), tensor(86), tensor(430), tensor(722), tensor(360), tensor(891), tensor(372), tensor(917), tensor(890), tensor(134)]\n",
      "[tensor(64), tensor(94), tensor(147), tensor(186), tensor(190), tensor(76), tensor(92), tensor(143), tensor(143), tensor(36), tensor(280), tensor(280), tensor(221), tensor(189), tensor(307), tensor(31), tensor(253), tensor(178), tensor(229), tensor(292), tensor(431), tensor(291), tensor(422), tensor(241), tensor(94), tensor(352), tensor(71), tensor(516), tensor(100), tensor(71)]\n",
      "[tensor(83), tensor(53), tensor(33), tensor(94), tensor(143), tensor(68), tensor(183), tensor(74), tensor(310), tensor(127), tensor(10), tensor(87), tensor(153), tensor(9), tensor(282), tensor(84), tensor(578), tensor(415), tensor(117), tensor(380), tensor(638), tensor(401), tensor(287), tensor(220), tensor(7), tensor(116), tensor(207), tensor(395), tensor(631), tensor(791)]\n",
      "[tensor(24), tensor(15), tensor(164), tensor(132), tensor(56), tensor(478), tensor(61), tensor(291), tensor(249), tensor(526), tensor(280), tensor(375), tensor(21), tensor(602), tensor(598), tensor(551), tensor(321), tensor(279), tensor(90), tensor(233), tensor(380), tensor(205), tensor(592), tensor(471), tensor(345), tensor(180), tensor(132), tensor(176), tensor(543), tensor(63)]\n",
      "[tensor(6), tensor(5), tensor(10), tensor(21), tensor(100), tensor(184), tensor(134), tensor(92), tensor(40), tensor(307), tensor(179), tensor(363), tensor(297), tensor(316), tensor(368), tensor(106), tensor(380), tensor(312), tensor(311), tensor(30), tensor(237), tensor(197), tensor(86), tensor(104), tensor(47), tensor(509), tensor(79), tensor(297), tensor(382), tensor(382)]\n",
      "[tensor(4), tensor(4), tensor(7), tensor(18), tensor(18), tensor(12), tensor(152), tensor(54), tensor(6), tensor(80), tensor(41), tensor(57), tensor(2), tensor(12), tensor(48), tensor(252), tensor(45), tensor(43), tensor(410), tensor(493), tensor(125), tensor(468), tensor(435), tensor(339), tensor(135), tensor(43), tensor(364), tensor(514), tensor(400), tensor(309)]\n",
      "[tensor(7), tensor(50), tensor(95), tensor(7), tensor(290), tensor(97), tensor(353), tensor(353), tensor(50), tensor(841), tensor(95), tensor(486), tensor(634), tensor(199), tensor(100), tensor(120), tensor(325), tensor(85), tensor(741), tensor(764), tensor(764), tensor(239), tensor(129), tensor(185), tensor(140), tensor(649), tensor(723), tensor(764), tensor(873), tensor(873)]\n"
     ]
    },
    {
     "name": "stderr",
     "output_type": "stream",
     "text": [
      " 14%|█████████████████████████▊                                                                                                                                                                  | 129/940 [00:04<00:26, 30.64it/s]"
     ]
    },
    {
     "name": "stdout",
     "output_type": "stream",
     "text": [
      "[tensor(81), tensor(36), tensor(78), tensor(245), tensor(128), tensor(300), tensor(337), tensor(365), tensor(147), tensor(160), tensor(550), tensor(226), tensor(327), tensor(469), tensor(387), tensor(456), tensor(351), tensor(501), tensor(400), tensor(413), tensor(557), tensor(557), tensor(299), tensor(558), tensor(364), tensor(598), tensor(516), tensor(467), tensor(573), tensor(608)]\n",
      "[tensor(15), tensor(153), tensor(147), tensor(165), tensor(190), tensor(140), tensor(105), tensor(215), tensor(212), tensor(268), tensor(222), tensor(166), tensor(11), tensor(261), tensor(221), tensor(197), tensor(375), tensor(304), tensor(476), tensor(237), tensor(543), tensor(243), tensor(324), tensor(164), tensor(181), tensor(304), tensor(294), tensor(339), tensor(377), tensor(377)]\n",
      "[tensor(43), tensor(35), tensor(13), tensor(116), tensor(187), tensor(111), tensor(272), tensor(17), tensor(338), tensor(289), tensor(186), tensor(185), tensor(124), tensor(154), tensor(15), tensor(305), tensor(375), tensor(371), tensor(78), tensor(50), tensor(331), tensor(34), tensor(69), tensor(215), tensor(63), tensor(285), tensor(81), tensor(368), tensor(500), tensor(215)]\n",
      "[tensor(95), tensor(367), tensor(28), tensor(83), tensor(640), tensor(91), tensor(415), tensor(622), tensor(126), tensor(529), tensor(85), tensor(548), tensor(604), tensor(683), tensor(82), tensor(200), tensor(80), tensor(53), tensor(186), tensor(40), tensor(462), tensor(771), tensor(97), tensor(119), tensor(707), tensor(456), tensor(597), tensor(120), tensor(452), tensor(79)]\n",
      "[tensor(160), tensor(228), tensor(183), tensor(180), tensor(327), tensor(107), tensor(296), tensor(349), tensor(273), tensor(112), tensor(90), tensor(189), tensor(386), tensor(303), tensor(407), tensor(214), tensor(409), tensor(31), tensor(176), tensor(263), tensor(66), tensor(407), tensor(297), tensor(779), tensor(54), tensor(436), tensor(337), tensor(86), tensor(400), tensor(370)]\n",
      "[tensor(35), tensor(62), tensor(168), tensor(144), tensor(89), tensor(191), tensor(109), tensor(19), tensor(313), tensor(66), tensor(10), tensor(20), tensor(35), tensor(328), tensor(65), tensor(124), tensor(19), tensor(328), tensor(242), tensor(22), tensor(179), tensor(1), tensor(16), tensor(274), tensor(143), tensor(266), tensor(441), tensor(93), tensor(108), tensor(4)]\n"
     ]
    },
    {
     "name": "stderr",
     "output_type": "stream",
     "text": [
      " 14%|██████████████████████████▌                                                                                                                                                                 | 133/940 [00:04<00:26, 30.72it/s]"
     ]
    },
    {
     "name": "stdout",
     "output_type": "stream",
     "text": [
      "[tensor(188), tensor(453), tensor(394), tensor(3), tensor(381), tensor(384), tensor(402), tensor(119), tensor(239), tensor(470), tensor(210), tensor(182), tensor(209), tensor(197), tensor(73), tensor(6), tensor(509), tensor(9), tensor(21), tensor(280), tensor(97), tensor(185), tensor(140), tensor(361), tensor(75), tensor(139), tensor(247), tensor(38), tensor(484), tensor(23)]\n",
      "[tensor(1), tensor(18), tensor(34), tensor(59), tensor(57), tensor(11), tensor(9), tensor(206), tensor(244), tensor(304), tensor(284), tensor(89), tensor(177), tensor(289), tensor(196), tensor(107), tensor(21), tensor(193), tensor(31), tensor(250), tensor(44), tensor(63), tensor(185), tensor(390), tensor(631), tensor(171), tensor(579), tensor(91), tensor(84), tensor(488)]\n",
      "[tensor(77), tensor(52), tensor(113), tensor(113), tensor(222), tensor(164), tensor(97), tensor(121), tensor(121), tensor(159), tensor(77), tensor(252), tensor(277), tensor(255), tensor(300), tensor(205), tensor(182), tensor(77), tensor(332), tensor(218), tensor(315), tensor(297), tensor(323), tensor(247), tensor(247), tensor(163), tensor(184), tensor(409), tensor(191), tensor(312)]\n",
      "[tensor(37), tensor(27), tensor(43), tensor(87), tensor(13), tensor(21), tensor(154), tensor(152), tensor(162), tensor(131), tensor(91), tensor(71), tensor(224), tensor(76), tensor(59), tensor(59), tensor(125), tensor(60), tensor(178), tensor(171), tensor(98), tensor(98), tensor(5), tensor(5), tensor(150), tensor(135), tensor(86), tensor(86), tensor(244), tensor(88)]\n",
      "[tensor(77), tensor(342), tensor(384), tensor(280), tensor(264), tensor(492), tensor(173), tensor(539), tensor(464), tensor(325), tensor(357), tensor(35), tensor(38), tensor(38), tensor(635), tensor(349), tensor(288), tensor(348), tensor(241), tensor(527), tensor(282), tensor(326), tensor(419), tensor(401), tensor(401), tensor(93), tensor(245), tensor(434), tensor(434), tensor(25)]\n",
      "[tensor(140), tensor(353), tensor(203), tensor(341), tensor(477), tensor(464), tensor(299), tensor(118), tensor(337), tensor(338), tensor(468), tensor(37), tensor(293), tensor(395), tensor(75), tensor(342), tensor(481), tensor(237), tensor(299), tensor(513), tensor(580), tensor(504), tensor(514), tensor(531), tensor(531), tensor(376), tensor(340), tensor(263), tensor(417), tensor(354)]\n",
      "[tensor(6), tensor(28), tensor(29), tensor(52), tensor(80), tensor(97), tensor(17), tensor(23), tensor(73), tensor(127), tensor(154), tensor(126), tensor(21), tensor(47), tensor(73), tensor(83), tensor(424), tensor(469), tensor(437), tensor(17), tensor(444), tensor(29), tensor(67), tensor(232), tensor(138), tensor(17), tensor(98), tensor(398), tensor(33), tensor(82)]\n"
     ]
    },
    {
     "name": "stderr",
     "output_type": "stream",
     "text": [
      " 15%|████████████████████████████▏                                                                                                                                                               | 141/940 [00:04<00:25, 31.05it/s]"
     ]
    },
    {
     "name": "stdout",
     "output_type": "stream",
     "text": [
      "[tensor(56), tensor(196), tensor(246), tensor(75), tensor(35), tensor(565), tensor(630), tensor(528), tensor(421), tensor(37), tensor(51), tensor(145), tensor(73), tensor(711), tensor(54), tensor(737), tensor(416), tensor(106), tensor(694), tensor(76), tensor(554), tensor(399), tensor(158), tensor(777), tensor(91), tensor(133), tensor(687), tensor(98), tensor(80), tensor(439)]\n",
      "[tensor(160), tensor(165), tensor(30), tensor(506), tensor(106), tensor(174), tensor(524), tensor(616), tensor(552), tensor(610), tensor(232), tensor(27), tensor(90), tensor(78), tensor(735), tensor(735), tensor(108), tensor(265), tensor(51), tensor(730), tensor(736), tensor(90), tensor(275), tensor(209), tensor(417), tensor(36), tensor(483), tensor(37), tensor(205), tensor(205)]\n",
      "[tensor(28), tensor(4), tensor(112), tensor(98), tensor(42), tensor(193), tensor(419), tensor(63), tensor(73), tensor(65), tensor(7), tensor(515), tensor(867), tensor(198), tensor(128), tensor(11), tensor(532), tensor(347), tensor(94), tensor(94), tensor(144), tensor(877), tensor(95), tensor(210), tensor(47), tensor(199), tensor(277), tensor(483), tensor(509), tensor(204)]\n",
      "[tensor(38), tensor(21), tensor(32), tensor(20), tensor(293), tensor(329), tensor(176), tensor(179), tensor(635), tensor(456), tensor(53), tensor(589), tensor(295), tensor(253), tensor(179), tensor(57), tensor(381), tensor(561), tensor(811), tensor(97), tensor(818), tensor(218), tensor(627), tensor(304), tensor(714), tensor(560), tensor(121), tensor(101), tensor(96), tensor(225)]\n",
      "[tensor(5), tensor(114), tensor(316), tensor(342), tensor(166), tensor(265), tensor(230), tensor(363), tensor(275), tensor(390), tensor(265), tensor(217), tensor(312), tensor(98), tensor(337), tensor(255), tensor(541), tensor(421), tensor(414), tensor(456), tensor(510), tensor(454), tensor(391), tensor(311), tensor(267), tensor(398), tensor(493), tensor(431), tensor(513), tensor(426)]\n",
      "[tensor(11), tensor(11), tensor(22), tensor(6), tensor(34), tensor(36), tensor(70), tensor(69), tensor(75), tensor(30), tensor(103), tensor(76), tensor(225), tensor(223), tensor(271), tensor(269), tensor(514), tensor(273), tensor(107), tensor(520), tensor(97), tensor(224), tensor(509), tensor(589), tensor(90), tensor(208), tensor(144), tensor(202), tensor(759), tensor(77)]\n",
      "[tensor(29), tensor(140), tensor(90), tensor(67), tensor(244), tensor(211), tensor(104), tensor(197), tensor(45), tensor(50), tensor(236), tensor(174), tensor(110), tensor(15), tensor(215), tensor(215), tensor(325), tensor(71), tensor(261), tensor(261), tensor(253), tensor(395), tensor(467), tensor(467), tensor(168), tensor(153), tensor(701), tensor(332), tensor(321), tensor(362)]\n"
     ]
    },
    {
     "name": "stderr",
     "output_type": "stream",
     "text": [
      " 16%|█████████████████████████████▊                                                                                                                                                              | 149/940 [00:04<00:25, 31.13it/s]"
     ]
    },
    {
     "name": "stdout",
     "output_type": "stream",
     "text": [
      "[tensor(140), tensor(208), tensor(265), tensor(243), tensor(366), tensor(280), tensor(236), tensor(147), tensor(301), tensor(426), tensor(347), tensor(219), tensor(40), tensor(338), tensor(266), tensor(429), tensor(168), tensor(168), tensor(349), tensor(288), tensor(136), tensor(351), tensor(351), tensor(52), tensor(144), tensor(436), tensor(368), tensor(345), tensor(218), tensor(394)]\n",
      "[tensor(10), tensor(12), tensor(75), tensor(146), tensor(94), tensor(76), tensor(91), tensor(240), tensor(178), tensor(319), tensor(275), tensor(134), tensor(62), tensor(531), tensor(176), tensor(67), tensor(398), tensor(136), tensor(136), tensor(345), tensor(114), tensor(344), tensor(174), tensor(158), tensor(270), tensor(259), tensor(158), tensor(636), tensor(345), tensor(259)]\n",
      "[tensor(65), tensor(150), tensor(238), tensor(79), tensor(104), tensor(338), tensor(244), tensor(305), tensor(256), tensor(371), tensor(135), tensor(135), tensor(286), tensor(90), tensor(35), tensor(191), tensor(30), tensor(341), tensor(378), tensor(367), tensor(143), tensor(391), tensor(92), tensor(123), tensor(52), tensor(327), tensor(95), tensor(68), tensor(166), tensor(436)]\n",
      "[tensor(119), tensor(169), tensor(175), tensor(115), tensor(270), tensor(168), tensor(87), tensor(367), tensor(87), tensor(265), tensor(265), tensor(448), tensor(160), tensor(354), tensor(381), tensor(207), tensor(21), tensor(616), tensor(112), tensor(39), tensor(305), tensor(408), tensor(281), tensor(320), tensor(327), tensor(824), tensor(375), tensor(375), tensor(786), tensor(433)]\n",
      "[tensor(12), tensor(26), tensor(61), tensor(91), tensor(91), tensor(152), tensor(165), tensor(333), tensor(280), tensor(395), tensor(450), tensor(117), tensor(72), tensor(426), tensor(471), tensor(207), tensor(118), tensor(382), tensor(318), tensor(461), tensor(461), tensor(343), tensor(462), tensor(297), tensor(419), tensor(419), tensor(170), tensor(170), tensor(66), tensor(404)]\n",
      "[tensor(29), tensor(24), tensor(42), tensor(83), tensor(42), tensor(45), tensor(275), tensor(74), tensor(190), tensor(99), tensor(17), tensor(242), tensor(291), tensor(64), tensor(30), tensor(46), tensor(52), tensor(212), tensor(16), tensor(519), tensor(51), tensor(528), tensor(545), tensor(43), tensor(294), tensor(38), tensor(218), tensor(111), tensor(83), tensor(310)]\n",
      "[tensor(54), tensor(93), tensor(109), tensor(50), tensor(80), tensor(168), tensor(184), tensor(269), tensor(383), tensor(141), tensor(120), tensor(77), tensor(75), tensor(393), tensor(44), tensor(55), tensor(592), tensor(592), tensor(176), tensor(93), tensor(180), tensor(698), tensor(168), tensor(120), tensor(81), tensor(68), tensor(79), tensor(637), tensor(727), tensor(610)]\n"
     ]
    },
    {
     "name": "stderr",
     "output_type": "stream",
     "text": [
      " 16%|██████████████████████████████▌                                                                                                                                                             | 153/940 [00:04<00:25, 31.13it/s]"
     ]
    },
    {
     "name": "stdout",
     "output_type": "stream",
     "text": [
      "[tensor(35), tensor(72), tensor(60), tensor(27), tensor(193), tensor(164), tensor(107), tensor(189), tensor(349), tensor(252), tensor(77), tensor(498), tensor(348), tensor(323), tensor(533), tensor(239), tensor(528), tensor(206), tensor(203), tensor(294), tensor(186), tensor(214), tensor(574), tensor(419), tensor(361), tensor(106), tensor(293), tensor(293), tensor(228), tensor(202)]\n",
      "[tensor(13), tensor(70), tensor(81), tensor(117), tensor(225), tensor(18), tensor(34), tensor(298), tensor(257), tensor(252), tensor(330), tensor(454), tensor(86), tensor(18), tensor(40), tensor(323), tensor(65), tensor(384), tensor(28), tensor(532), tensor(253), tensor(256), tensor(331), tensor(78), tensor(860), tensor(207), tensor(51), tensor(228), tensor(161), tensor(161)]\n",
      "[tensor(1), tensor(1), tensor(3), tensor(3), tensor(27), tensor(35), tensor(48), tensor(20), tensor(43), tensor(35), tensor(68), tensor(103), tensor(93), tensor(93), tensor(106), tensor(70), tensor(172), tensor(114), tensor(143), tensor(55), tensor(155), tensor(144), tensor(157), tensor(138), tensor(364), tensor(548), tensor(548), tensor(38), tensor(120), tensor(421)]\n",
      "[tensor(47), tensor(71), tensor(148), tensor(332), tensor(139), tensor(342), tensor(22), tensor(7), tensor(673), tensor(53), tensor(83), tensor(17), tensor(517), tensor(706), tensor(278), tensor(131), tensor(733), tensor(756), tensor(395), tensor(111), tensor(86), tensor(326), tensor(342), tensor(187), tensor(272), tensor(234), tensor(738), tensor(552), tensor(521), tensor(158)]\n",
      "[tensor(97), tensor(443), tensor(82), tensor(279), tensor(692), tensor(510), tensor(10), tensor(828), tensor(17), tensor(434), tensor(483), tensor(233), tensor(724), tensor(589), tensor(12), tensor(721), tensor(491), tensor(23), tensor(441), tensor(441), tensor(446), tensor(92), tensor(720), tensor(378), tensor(426), tensor(61), tensor(475), tensor(801), tensor(523), tensor(656)]\n",
      "[tensor(14), tensor(71), tensor(80), tensor(128), tensor(175), tensor(175), tensor(175), tensor(141), tensor(194), tensor(243), tensor(77), tensor(221), tensor(84), tensor(106), tensor(285), tensor(125), tensor(19), tensor(276), tensor(329), tensor(61), tensor(331), tensor(128), tensor(342), tensor(342), tensor(330), tensor(206), tensor(217), tensor(217), tensor(402), tensor(398)]\n",
      "[tensor(34), tensor(110), tensor(407), tensor(122), tensor(151), tensor(509), tensor(564), tensor(26), tensor(261), tensor(75), tensor(123), tensor(499), tensor(332), tensor(151), tensor(151), tensor(302), tensor(227), tensor(90), tensor(660), tensor(707), tensor(533), tensor(668), tensor(428), tensor(534), tensor(701), tensor(245), tensor(93), tensor(428), tensor(537), tensor(150)]\n"
     ]
    },
    {
     "name": "stderr",
     "output_type": "stream",
     "text": [
      " 17%|████████████████████████████████▏                                                                                                                                                           | 161/940 [00:05<00:24, 31.22it/s]"
     ]
    },
    {
     "name": "stdout",
     "output_type": "stream",
     "text": [
      "[tensor(381), tensor(402), tensor(370), tensor(429), tensor(34), tensor(400), tensor(544), tensor(588), tensor(465), tensor(99), tensor(256), tensor(437), tensor(656), tensor(426), tensor(359), tensor(616), tensor(214), tensor(153), tensor(54), tensor(479), tensor(500), tensor(737), tensor(107), tensor(374), tensor(345), tensor(389), tensor(484), tensor(115), tensor(217), tensor(104)]\n",
      "[tensor(90), tensor(36), tensor(36), tensor(96), tensor(153), tensor(679), tensor(295), tensor(48), tensor(137), tensor(374), tensor(499), tensor(143), tensor(31), tensor(376), tensor(300), tensor(155), tensor(132), tensor(279), tensor(89), tensor(587), tensor(83), tensor(367), tensor(69), tensor(364), tensor(185), tensor(185), tensor(671), tensor(349), tensor(672), tensor(523)]\n",
      "[tensor(8), tensor(98), tensor(64), tensor(166), tensor(136), tensor(136), tensor(80), tensor(82), tensor(300), tensor(120), tensor(62), tensor(33), tensor(56), tensor(91), tensor(243), tensor(242), tensor(298), tensor(197), tensor(34), tensor(425), tensor(67), tensor(327), tensor(350), tensor(601), tensor(176), tensor(56), tensor(73), tensor(218), tensor(167), tensor(448)]\n",
      "[tensor(95), tensor(57), tensor(259), tensor(210), tensor(431), tensor(46), tensor(19), tensor(280), tensor(463), tensor(36), tensor(194), tensor(70), tensor(54), tensor(45), tensor(890), tensor(66), tensor(419), tensor(718), tensor(654), tensor(25), tensor(84), tensor(30), tensor(225), tensor(38), tensor(78), tensor(131), tensor(614), tensor(401), tensor(654), tensor(233)]\n",
      "[tensor(191), tensor(165), tensor(10), tensor(81), tensor(603), tensor(94), tensor(105), tensor(78), tensor(45), tensor(21), tensor(321), tensor(241), tensor(423), tensor(563), tensor(139), tensor(158), tensor(172), tensor(734), tensor(587), tensor(520), tensor(293), tensor(234), tensor(429), tensor(141), tensor(180), tensor(70), tensor(743), tensor(163), tensor(93), tensor(174)]\n",
      "[tensor(564), tensor(788), tensor(27), tensor(710), tensor(357), tensor(572), tensor(43), tensor(608), tensor(30), tensor(792), tensor(401), tensor(310), tensor(278), tensor(205), tensor(145), tensor(167), tensor(492), tensor(492), tensor(360), tensor(211), tensor(299), tensor(247), tensor(553), tensor(911), tensor(420), tensor(326), tensor(584), tensor(834), tensor(834), tensor(686)]\n",
      "[tensor(260), tensor(245), tensor(191), tensor(370), tensor(113), tensor(261), tensor(186), tensor(614), tensor(430), tensor(64), tensor(389), tensor(43), tensor(10), tensor(396), tensor(173), tensor(54), tensor(60), tensor(253), tensor(216), tensor(154), tensor(80), tensor(751), tensor(421), tensor(325), tensor(116), tensor(144), tensor(623), tensor(78), tensor(257), tensor(27)]\n"
     ]
    },
    {
     "name": "stderr",
     "output_type": "stream",
     "text": [
      " 18%|█████████████████████████████████▊                                                                                                                                                          | 169/940 [00:05<00:24, 30.98it/s]"
     ]
    },
    {
     "name": "stdout",
     "output_type": "stream",
     "text": [
      "[tensor(81), tensor(24), tensor(24), tensor(83), tensor(140), tensor(61), tensor(408), tensor(472), tensor(330), tensor(35), tensor(450), tensor(529), tensor(540), tensor(417), tensor(32), tensor(460), tensor(460), tensor(282), tensor(428), tensor(32), tensor(394), tensor(629), tensor(399), tensor(307), tensor(450), tensor(436), tensor(380), tensor(154), tensor(88), tensor(19)]\n",
      "[tensor(114), tensor(62), tensor(235), tensor(214), tensor(45), tensor(33), tensor(92), tensor(323), tensor(189), tensor(26), tensor(113), tensor(100), tensor(443), tensor(38), tensor(365), tensor(350), tensor(169), tensor(465), tensor(76), tensor(467), tensor(99), tensor(191), tensor(144), tensor(155), tensor(752), tensor(107), tensor(568), tensor(117), tensor(629), tensor(521)]\n",
      "[tensor(11), tensor(54), tensor(39), tensor(73), tensor(178), tensor(113), tensor(213), tensor(44), tensor(627), tensor(778), tensor(475), tensor(66), tensor(135), tensor(652), tensor(173), tensor(724), tensor(117), tensor(530), tensor(116), tensor(453), tensor(546), tensor(804), tensor(747), tensor(546), tensor(608), tensor(801), tensor(705), tensor(86), tensor(189), tensor(749)]\n",
      "[tensor(3), tensor(46), tensor(54), tensor(54), tensor(165), tensor(117), tensor(218), tensor(232), tensor(140), tensor(220), tensor(220), tensor(168), tensor(295), tensor(273), tensor(320), tensor(306), tensor(340), tensor(233), tensor(332), tensor(326), tensor(282), tensor(265), tensor(226), tensor(216), tensor(227), tensor(337), tensor(262), tensor(310), tensor(297), tensor(211)]\n",
      "[tensor(56), tensor(31), tensor(155), tensor(332), tensor(160), tensor(259), tensor(95), tensor(344), tensor(87), tensor(391), tensor(287), tensor(222), tensor(443), tensor(480), tensor(254), tensor(259), tensor(263), tensor(478), tensor(398), tensor(152), tensor(494), tensor(180), tensor(509), tensor(494), tensor(207), tensor(393), tensor(528), tensor(404), tensor(228), tensor(421)]\n",
      "[tensor(81), tensor(46), tensor(270), tensor(134), tensor(86), tensor(27), tensor(28), tensor(661), tensor(570), tensor(742), tensor(356), tensor(11), tensor(44), tensor(69), tensor(507), tensor(572), tensor(333), tensor(133), tensor(842), tensor(130), tensor(888), tensor(70), tensor(83), tensor(177), tensor(41), tensor(37), tensor(624), tensor(624), tensor(664), tensor(375)]\n"
     ]
    },
    {
     "name": "stderr",
     "output_type": "stream",
     "text": [
      " 18%|██████████████████████████████████▌                                                                                                                                                         | 173/940 [00:05<00:25, 29.66it/s]"
     ]
    },
    {
     "name": "stdout",
     "output_type": "stream",
     "text": [
      "[tensor(134), tensor(134), tensor(10), tensor(51), tensor(369), tensor(148), tensor(31), tensor(297), tensor(15), tensor(16), tensor(40), tensor(40), tensor(135), tensor(220), tensor(220), tensor(343), tensor(140), tensor(184), tensor(111), tensor(381), tensor(453), tensor(109), tensor(25), tensor(418), tensor(42), tensor(272), tensor(272), tensor(433), tensor(23), tensor(18)]\n",
      "[tensor(22), tensor(72), tensor(9), tensor(53), tensor(187), tensor(64), tensor(66), tensor(36), tensor(44), tensor(64), tensor(263), tensor(69), tensor(43), tensor(49), tensor(89), tensor(547), tensor(64), tensor(39), tensor(86), tensor(230), tensor(633), tensor(59), tensor(67), tensor(60), tensor(88), tensor(207), tensor(575), tensor(169), tensor(194), tensor(45)]\n",
      "[tensor(78), tensor(166), tensor(90), tensor(204), tensor(546), tensor(5), tensor(563), tensor(389), tensor(560), tensor(263), tensor(280), tensor(471), tensor(588), tensor(182), tensor(47), tensor(219), tensor(347), tensor(212), tensor(148), tensor(568), tensor(51), tensor(395), tensor(470), tensor(291), tensor(124), tensor(697), tensor(168), tensor(331), tensor(525), tensor(149)]\n",
      "[tensor(51), tensor(402), tensor(331), tensor(50), tensor(46), tensor(325), tensor(70), tensor(93), tensor(100), tensor(387), tensor(27), tensor(96), tensor(161), tensor(621), tensor(57), tensor(655), tensor(123), tensor(198), tensor(186), tensor(23), tensor(112), tensor(319), tensor(414), tensor(356), tensor(793), tensor(565), tensor(199), tensor(138), tensor(873), tensor(521)]\n",
      "[tensor(80), tensor(133), tensor(127), tensor(169), tensor(367), tensor(456), tensor(351), tensor(311), tensor(270), tensor(275), tensor(275), tensor(257), tensor(502), tensor(247), tensor(83), tensor(261), tensor(220), tensor(558), tensor(323), tensor(575), tensor(220), tensor(375), tensor(300), tensor(486), tensor(454), tensor(130), tensor(552), tensor(335), tensor(325), tensor(325)]\n",
      "[tensor(80), tensor(143), tensor(149), tensor(213), tensor(170), tensor(117), tensor(153), tensor(48), tensor(217), tensor(366), tensor(148), tensor(66), tensor(373), tensor(115), tensor(286), tensor(420), tensor(292), tensor(162), tensor(100), tensor(174), tensor(112), tensor(402), tensor(287), tensor(252), tensor(150), tensor(402), tensor(489), tensor(295), tensor(458), tensor(286)]\n"
     ]
    },
    {
     "name": "stderr",
     "output_type": "stream",
     "text": [
      " 19%|████████████████████████████████████▍                                                                                                                                                       | 182/940 [00:05<00:25, 29.56it/s]"
     ]
    },
    {
     "name": "stdout",
     "output_type": "stream",
     "text": [
      "[tensor(87), tensor(131), tensor(256), tensor(342), tensor(64), tensor(203), tensor(440), tensor(178), tensor(302), tensor(242), tensor(242), tensor(408), tensor(279), tensor(460), tensor(132), tensor(132), tensor(121), tensor(121), tensor(35), tensor(305), tensor(163), tensor(200), tensor(567), tensor(140), tensor(226), tensor(424), tensor(463), tensor(246), tensor(47), tensor(65)]\n",
      "[tensor(71), tensor(73), tensor(34), tensor(156), tensor(100), tensor(127), tensor(331), tensor(57), tensor(119), tensor(67), tensor(394), tensor(390), tensor(389), tensor(639), tensor(24), tensor(185), tensor(40), tensor(126), tensor(423), tensor(423), tensor(215), tensor(82), tensor(243), tensor(404), tensor(133), tensor(665), tensor(145), tensor(456), tensor(86), tensor(174)]\n",
      "[tensor(37), tensor(25), tensor(143), tensor(89), tensor(143), tensor(128), tensor(154), tensor(15), tensor(60), tensor(136), tensor(127), tensor(105), tensor(243), tensor(306), tensor(43), tensor(282), tensor(219), tensor(233), tensor(173), tensor(32), tensor(201), tensor(439), tensor(89), tensor(199), tensor(77), tensor(152), tensor(210), tensor(10), tensor(24), tensor(15)]\n",
      "[tensor(24), tensor(219), tensor(380), tensor(464), tensor(298), tensor(491), tensor(492), tensor(510), tensor(451), tensor(527), tensor(440), tensor(525), tensor(357), tensor(324), tensor(456), tensor(503), tensor(356), tensor(389), tensor(227), tensor(640), tensor(533), tensor(668), tensor(601), tensor(661), tensor(580), tensor(591), tensor(432), tensor(691), tensor(480), tensor(561)]\n",
      "[tensor(113), tensor(167), tensor(158), tensor(156), tensor(385), tensor(275), tensor(77), tensor(237), tensor(237), tensor(99), tensor(821), tensor(629), tensor(559), tensor(256), tensor(199), tensor(274), tensor(107), tensor(487), tensor(192), tensor(215), tensor(165), tensor(257), tensor(278), tensor(547), tensor(17), tensor(45), tensor(20), tensor(377), tensor(16), tensor(106)]\n",
      "[tensor(108), tensor(119), tensor(473), tensor(405), tensor(387), tensor(747), tensor(159), tensor(182), tensor(27), tensor(753), tensor(587), tensor(542), tensor(713), tensor(76), tensor(300), tensor(124), tensor(185), tensor(193), tensor(638), tensor(134), tensor(842), tensor(107), tensor(325), tensor(70), tensor(88), tensor(149), tensor(134), tensor(237), tensor(147), tensor(250)]\n"
     ]
    },
    {
     "name": "stderr",
     "output_type": "stream",
     "text": [
      " 20%|█████████████████████████████████████                                                                                                                                                       | 185/940 [00:05<00:25, 29.44it/s]"
     ]
    },
    {
     "name": "stdout",
     "output_type": "stream",
     "text": [
      "[tensor(30), tensor(67), tensor(129), tensor(85), tensor(506), tensor(219), tensor(581), tensor(164), tensor(186), tensor(110), tensor(527), tensor(166), tensor(667), tensor(208), tensor(152), tensor(654), tensor(81), tensor(94), tensor(74), tensor(74), tensor(197), tensor(467), tensor(280), tensor(122), tensor(343), tensor(155), tensor(627), tensor(197), tensor(111), tensor(421)]\n",
      "[tensor(2), tensor(38), tensor(356), tensor(388), tensor(508), tensor(315), tensor(27), tensor(644), tensor(107), tensor(608), tensor(241), tensor(585), tensor(150), tensor(809), tensor(525), tensor(329), tensor(17), tensor(63), tensor(298), tensor(529), tensor(677), tensor(91), tensor(583), tensor(848), tensor(654), tensor(696), tensor(652), tensor(13), tensor(138), tensor(454)]\n",
      "[tensor(195), tensor(68), tensor(277), tensor(274), tensor(244), tensor(88), tensor(329), tensor(337), tensor(322), tensor(189), tensor(67), tensor(544), tensor(333), tensor(467), tensor(109), tensor(189), tensor(240), tensor(476), tensor(431), tensor(473), tensor(727), tensor(347), tensor(687), tensor(493), tensor(493), tensor(393), tensor(325), tensor(263), tensor(586), tensor(185)]\n",
      "[tensor(2), tensor(35), tensor(35), tensor(21), tensor(7), tensor(25), tensor(83), tensor(199), tensor(9), tensor(218), tensor(39), tensor(601), tensor(190), tensor(3), tensor(63), tensor(63), tensor(145), tensor(636), tensor(6), tensor(9), tensor(62), tensor(552), tensor(5), tensor(26), tensor(214), tensor(9), tensor(701), tensor(781), tensor(428), tensor(754)]\n",
      "[tensor(113), tensor(73), tensor(5), tensor(48), tensor(70), tensor(34), tensor(103), tensor(103), tensor(111), tensor(49), tensor(63), tensor(668), tensor(19), tensor(729), tensor(69), tensor(239), tensor(60), tensor(529), tensor(212), tensor(67), tensor(869), tensor(541), tensor(61), tensor(68), tensor(787), tensor(338), tensor(123), tensor(49), tensor(93), tensor(339)]\n",
      "[tensor(75), tensor(124), tensor(166), tensor(103), tensor(331), tensor(323), tensor(356), tensor(310), tensor(259), tensor(217), tensor(306), tensor(115), tensor(330), tensor(268), tensor(413), tensor(23), tensor(156), tensor(314), tensor(241), tensor(346), tensor(66), tensor(66), tensor(316), tensor(316), tensor(372), tensor(285), tensor(458), tensor(574), tensor(330), tensor(261)]\n",
      "[tensor(49), tensor(53), tensor(161), tensor(279), tensor(239), tensor(399), tensor(424), tensor(51), tensor(195), tensor(303), tensor(247), tensor(657), tensor(177), tensor(131), tensor(135), tensor(39), tensor(76), tensor(87), tensor(173), tensor(270), tensor(618), tensor(297), tensor(534), tensor(71), tensor(720), tensor(163), tensor(316), tensor(51), tensor(410), tensor(156)]\n"
     ]
    },
    {
     "name": "stderr",
     "output_type": "stream",
     "text": [
      " 21%|███████████████████████████████████████                                                                                                                                                     | 195/940 [00:06<00:25, 29.48it/s]"
     ]
    },
    {
     "name": "stdout",
     "output_type": "stream",
     "text": [
      "[tensor(17), tensor(22), tensor(14), tensor(137), tensor(102), tensor(338), tensor(9), tensor(165), tensor(162), tensor(65), tensor(450), tensor(387), tensor(216), tensor(519), tensor(553), tensor(42), tensor(147), tensor(71), tensor(44), tensor(86), tensor(242), tensor(418), tensor(418), tensor(162), tensor(162), tensor(175), tensor(20), tensor(312), tensor(86), tensor(688)]\n",
      "[tensor(10), tensor(89), tensor(20), tensor(87), tensor(74), tensor(289), tensor(20), tensor(497), tensor(49), tensor(106), tensor(99), tensor(466), tensor(90), tensor(90), tensor(535), tensor(310), tensor(817), tensor(77), tensor(56), tensor(282), tensor(324), tensor(19), tensor(79), tensor(465), tensor(530), tensor(10), tensor(473), tensor(647), tensor(118), tensor(256)]\n",
      "[tensor(128), tensor(218), tensor(100), tensor(102), tensor(412), tensor(83), tensor(224), tensor(224), tensor(48), tensor(393), tensor(165), tensor(394), tensor(221), tensor(36), tensor(138), tensor(287), tensor(77), tensor(44), tensor(577), tensor(443), tensor(525), tensor(181), tensor(345), tensor(561), tensor(440), tensor(256), tensor(452), tensor(270), tensor(323), tensor(780)]\n",
      "[tensor(6), tensor(10), tensor(156), tensor(110), tensor(76), tensor(56), tensor(122), tensor(209), tensor(213), tensor(193), tensor(352), tensor(26), tensor(192), tensor(367), tensor(44), tensor(213), tensor(41), tensor(41), tensor(431), tensor(219), tensor(130), tensor(59), tensor(56), tensor(90), tensor(70), tensor(96), tensor(288), tensor(76), tensor(240), tensor(218)]\n",
      "[tensor(179), tensor(121), tensor(258), tensor(199), tensor(260), tensor(175), tensor(297), tensor(404), tensor(363), tensor(136), tensor(462), tensor(196), tensor(225), tensor(297), tensor(310), tensor(137), tensor(137), tensor(499), tensor(110), tensor(159), tensor(67), tensor(67), tensor(400), tensor(334), tensor(338), tensor(329), tensor(140), tensor(213), tensor(199), tensor(315)]\n",
      "[tensor(22), tensor(52), tensor(78), tensor(7), tensor(53), tensor(264), tensor(27), tensor(268), tensor(653), tensor(257), tensor(70), tensor(294), tensor(438), tensor(745), tensor(507), tensor(256), tensor(533), tensor(664), tensor(329), tensor(224), tensor(614), tensor(344), tensor(136), tensor(399), tensor(138), tensor(198), tensor(246), tensor(336), tensor(116), tensor(249)]\n"
     ]
    },
    {
     "name": "stderr",
     "output_type": "stream",
     "text": [
      " 21%|████████████████████████████████████████▏                                                                                                                                                   | 201/940 [00:06<00:25, 29.32it/s]"
     ]
    },
    {
     "name": "stdout",
     "output_type": "stream",
     "text": [
      "[tensor(65), tensor(126), tensor(151), tensor(157), tensor(372), tensor(251), tensor(19), tensor(164), tensor(417), tensor(500), tensor(460), tensor(360), tensor(358), tensor(527), tensor(155), tensor(321), tensor(252), tensor(221), tensor(195), tensor(413), tensor(216), tensor(507), tensor(162), tensor(551), tensor(640), tensor(208), tensor(151), tensor(95), tensor(602), tensor(393)]\n",
      "[tensor(34), tensor(88), tensor(168), tensor(187), tensor(84), tensor(59), tensor(35), tensor(282), tensor(338), tensor(363), tensor(411), tensor(423), tensor(22), tensor(240), tensor(396), tensor(494), tensor(35), tensor(143), tensor(281), tensor(258), tensor(180), tensor(356), tensor(69), tensor(475), tensor(284), tensor(284), tensor(50), tensor(115), tensor(115), tensor(487)]\n",
      "[tensor(109), tensor(220), tensor(414), tensor(407), tensor(353), tensor(625), tensor(336), tensor(226), tensor(526), tensor(405), tensor(121), tensor(604), tensor(189), tensor(304), tensor(578), tensor(301), tensor(551), tensor(445), tensor(585), tensor(156), tensor(389), tensor(266), tensor(371), tensor(125), tensor(816), tensor(574), tensor(574), tensor(199), tensor(157), tensor(130)]\n",
      "[tensor(30), tensor(19), tensor(59), tensor(59), tensor(52), tensor(52), tensor(62), tensor(67), tensor(70), tensor(117), tensor(67), tensor(89), tensor(130), tensor(123), tensor(123), tensor(23), tensor(296), tensor(99), tensor(158), tensor(342), tensor(148), tensor(148), tensor(219), tensor(229), tensor(266), tensor(360), tensor(590), tensor(355), tensor(190), tensor(326)]\n",
      "[tensor(6), tensor(125), tensor(26), tensor(297), tensor(60), tensor(391), tensor(180), tensor(427), tensor(20), tensor(9), tensor(464), tensor(13), tensor(71), tensor(43), tensor(311), tensor(15), tensor(481), tensor(46), tensor(165), tensor(236), tensor(436), tensor(590), tensor(91), tensor(303), tensor(52), tensor(647), tensor(508), tensor(181), tensor(768), tensor(638)]\n",
      "[tensor(77), tensor(223), tensor(206), tensor(116), tensor(153), tensor(147), tensor(458), tensor(182), tensor(414), tensor(205), tensor(307), tensor(52), tensor(386), tensor(180), tensor(448), tensor(195), tensor(300), tensor(506), tensor(448), tensor(87), tensor(87), tensor(242), tensor(119), tensor(321), tensor(583), tensor(519), tensor(449), tensor(232), tensor(599), tensor(136)]\n"
     ]
    },
    {
     "name": "stderr",
     "output_type": "stream",
     "text": [
      " 22%|████████████████████████████████████████▊                                                                                                                                                   | 204/940 [00:06<00:26, 28.29it/s]"
     ]
    },
    {
     "name": "stdout",
     "output_type": "stream",
     "text": [
      "[tensor(2), tensor(17), tensor(26), tensor(22), tensor(114), tensor(106), tensor(113), tensor(141), tensor(122), tensor(48), tensor(47), tensor(47), tensor(152), tensor(129), tensor(79), tensor(264), tensor(21), tensor(321), tensor(117), tensor(195), tensor(150), tensor(91), tensor(64), tensor(64), tensor(65), tensor(157), tensor(671), tensor(82), tensor(134), tensor(613)]\n",
      "[tensor(14), tensor(64), tensor(49), tensor(49), tensor(45), tensor(222), tensor(248), tensor(125), tensor(44), tensor(44), tensor(29), tensor(224), tensor(366), tensor(162), tensor(228), tensor(230), tensor(472), tensor(201), tensor(344), tensor(155), tensor(155), tensor(63), tensor(190), tensor(281), tensor(762), tensor(762), tensor(266), tensor(259), tensor(364), tensor(505)]\n",
      "[tensor(29), tensor(18), tensor(20), tensor(64), tensor(109), tensor(114), tensor(113), tensor(140), tensor(83), tensor(108), tensor(11), tensor(212), tensor(204), tensor(124), tensor(178), tensor(107), tensor(296), tensor(330), tensor(151), tensor(134), tensor(305), tensor(273), tensor(154), tensor(245), tensor(143), tensor(356), tensor(558), tensor(165), tensor(133), tensor(264)]\n",
      "[tensor(6), tensor(221), tensor(270), tensor(238), tensor(281), tensor(176), tensor(98), tensor(256), tensor(160), tensor(412), tensor(315), tensor(403), tensor(343), tensor(395), tensor(397), tensor(154), tensor(230), tensor(504), tensor(120), tensor(505), tensor(113), tensor(118), tensor(321), tensor(584), tensor(207), tensor(183), tensor(150), tensor(147), tensor(161), tensor(447)]\n",
      "[tensor(1), tensor(1), tensor(29), tensor(78), tensor(3), tensor(3), tensor(124), tensor(2), tensor(24), tensor(95), tensor(2), tensor(263), tensor(542), tensor(20), tensor(425), tensor(548), tensor(477), tensor(39), tensor(39), tensor(552), tensor(694), tensor(786), tensor(786), tensor(459), tensor(123), tensor(5), tensor(30), tensor(11), tensor(451), tensor(6)]\n",
      "[tensor(25), tensor(12), tensor(55), tensor(123), tensor(108), tensor(172), tensor(92), tensor(97), tensor(446), tensor(422), tensor(273), tensor(200), tensor(530), tensor(216), tensor(169), tensor(170), tensor(246), tensor(198), tensor(374), tensor(505), tensor(578), tensor(451), tensor(424), tensor(387), tensor(567), tensor(567), tensor(741), tensor(594), tensor(312), tensor(481)]\n"
     ]
    },
    {
     "name": "stderr",
     "output_type": "stream",
     "text": [
      " 22%|██████████████████████████████████████████                                                                                                                                                  | 210/940 [00:06<00:25, 28.71it/s]"
     ]
    },
    {
     "name": "stdout",
     "output_type": "stream",
     "text": [
      "[tensor(121), tensor(170), tensor(368), tensor(357), tensor(573), tensor(296), tensor(25), tensor(191), tensor(290), tensor(146), tensor(173), tensor(150), tensor(183), tensor(406), tensor(116), tensor(80), tensor(99), tensor(423), tensor(106), tensor(758), tensor(707), tensor(121), tensor(172), tensor(229), tensor(659), tensor(248), tensor(754), tensor(709), tensor(801), tensor(181)]\n",
      "[tensor(13), tensor(135), tensor(308), tensor(233), tensor(240), tensor(32), tensor(576), tensor(28), tensor(197), tensor(97), tensor(259), tensor(216), tensor(299), tensor(664), tensor(138), tensor(34), tensor(228), tensor(271), tensor(264), tensor(616), tensor(475), tensor(18), tensor(48), tensor(73), tensor(484), tensor(336), tensor(10), tensor(685), tensor(164), tensor(732)]\n",
      "[tensor(113), tensor(147), tensor(292), tensor(380), tensor(342), tensor(413), tensor(360), tensor(415), tensor(144), tensor(253), tensor(21), tensor(535), tensor(802), tensor(802), tensor(486), tensor(486), tensor(287), tensor(406), tensor(717), tensor(339), tensor(612), tensor(385), tensor(267), tensor(70), tensor(536), tensor(486), tensor(502), tensor(260), tensor(384), tensor(487)]\n",
      "[tensor(1), tensor(614), tensor(500), tensor(213), tensor(356), tensor(607), tensor(130), tensor(721), tensor(676), tensor(217), tensor(130), tensor(572), tensor(383), tensor(140), tensor(90), tensor(418), tensor(694), tensor(803), tensor(811), tensor(604), tensor(75), tensor(478), tensor(225), tensor(540), tensor(308), tensor(239), tensor(186), tensor(523), tensor(578), tensor(895)]\n",
      "[tensor(1), tensor(3), tensor(12), tensor(106), tensor(162), tensor(55), tensor(18), tensor(21), tensor(42), tensor(30), tensor(155), tensor(12), tensor(16), tensor(12), tensor(253), tensor(18), tensor(1), tensor(34), tensor(63), tensor(416), tensor(131), tensor(131), tensor(5), tensor(16), tensor(50), tensor(193), tensor(2), tensor(289), tensor(11), tensor(161)]\n",
      "[tensor(15), tensor(30), tensor(77), tensor(390), tensor(131), tensor(147), tensor(412), tensor(158), tensor(187), tensor(187), tensor(153), tensor(466), tensor(293), tensor(221), tensor(456), tensor(223), tensor(492), tensor(616), tensor(541), tensor(769), tensor(701), tensor(428), tensor(715), tensor(336), tensor(721), tensor(406), tensor(605), tensor(531), tensor(568), tensor(401)]\n"
     ]
    },
    {
     "name": "stderr",
     "output_type": "stream",
     "text": [
      " 23%|███████████████████████████████████████████▏                                                                                                                                                | 216/940 [00:07<00:25, 27.92it/s]"
     ]
    },
    {
     "name": "stdout",
     "output_type": "stream",
     "text": [
      "[tensor(25), tensor(21), tensor(441), tensor(380), tensor(112), tensor(106), tensor(147), tensor(45), tensor(577), tensor(97), tensor(128), tensor(97), tensor(274), tensor(407), tensor(81), tensor(587), tensor(749), tensor(609), tensor(314), tensor(174), tensor(92), tensor(82), tensor(549), tensor(228), tensor(765), tensor(314), tensor(541), tensor(762), tensor(866), tensor(223)]\n",
      "[tensor(6), tensor(5), tensor(25), tensor(180), tensor(62), tensor(22), tensor(233), tensor(106), tensor(371), tensor(382), tensor(438), tensor(547), tensor(91), tensor(246), tensor(429), tensor(499), tensor(511), tensor(171), tensor(352), tensor(67), tensor(103), tensor(69), tensor(251), tensor(473), tensor(194), tensor(358), tensor(518), tensor(238), tensor(636), tensor(174)]\n",
      "[tensor(40), tensor(149), tensor(175), tensor(243), tensor(270), tensor(4), tensor(162), tensor(637), tensor(571), tensor(273), tensor(56), tensor(265), tensor(713), tensor(32), tensor(46), tensor(127), tensor(95), tensor(683), tensor(363), tensor(867), tensor(695), tensor(80), tensor(207), tensor(21), tensor(45), tensor(160), tensor(45), tensor(78), tensor(143), tensor(651)]\n",
      "[tensor(36), tensor(143), tensor(57), tensor(96), tensor(119), tensor(677), tensor(545), tensor(62), tensor(153), tensor(748), tensor(406), tensor(62), tensor(284), tensor(92), tensor(228), tensor(434), tensor(136), tensor(642), tensor(490), tensor(713), tensor(889), tensor(879), tensor(879), tensor(643), tensor(354), tensor(216), tensor(379), tensor(590), tensor(437), tensor(179)]\n",
      "[tensor(3), tensor(21), tensor(7), tensor(9), tensor(314), tensor(221), tensor(318), tensor(136), tensor(512), tensor(83), tensor(31), tensor(408), tensor(408), tensor(30), tensor(337), tensor(12), tensor(281), tensor(329), tensor(329), tensor(16), tensor(608), tensor(597), tensor(548), tensor(758), tensor(51), tensor(143), tensor(20), tensor(582), tensor(16), tensor(287)]\n",
      "[tensor(51), tensor(51), tensor(1), tensor(150), tensor(116), tensor(30), tensor(76), tensor(249), tensor(290), tensor(1), tensor(9), tensor(100), tensor(173), tensor(6), tensor(531), tensor(110), tensor(4), tensor(264), tensor(128), tensor(2), tensor(5), tensor(526), tensor(282), tensor(70), tensor(1), tensor(607), tensor(607), tensor(607), tensor(6), tensor(3)]\n"
     ]
    },
    {
     "name": "stderr",
     "output_type": "stream",
     "text": [
      " 24%|████████████████████████████████████████████▍                                                                                                                                               | 222/940 [00:07<00:25, 27.89it/s]"
     ]
    },
    {
     "name": "stdout",
     "output_type": "stream",
     "text": [
      "[tensor(23), tensor(123), tensor(83), tensor(33), tensor(181), tensor(224), tensor(398), tensor(411), tensor(108), tensor(36), tensor(242), tensor(136), tensor(524), tensor(97), tensor(414), tensor(452), tensor(332), tensor(454), tensor(319), tensor(407), tensor(544), tensor(93), tensor(386), tensor(386), tensor(421), tensor(610), tensor(444), tensor(609), tensor(319), tensor(651)]\n",
      "[tensor(8), tensor(6), tensor(21), tensor(20), tensor(40), tensor(28), tensor(67), tensor(56), tensor(221), tensor(47), tensor(390), tensor(97), tensor(93), tensor(103), tensor(213), tensor(149), tensor(80), tensor(234), tensor(273), tensor(573), tensor(268), tensor(247), tensor(85), tensor(217), tensor(217), tensor(118), tensor(118), tensor(118), tensor(131), tensor(693)]\n",
      "[tensor(5), tensor(44), tensor(91), tensor(92), tensor(193), tensor(100), tensor(250), tensor(169), tensor(196), tensor(605), tensor(315), tensor(221), tensor(205), tensor(121), tensor(121), tensor(227), tensor(534), tensor(149), tensor(111), tensor(335), tensor(311), tensor(606), tensor(309), tensor(579), tensor(377), tensor(227), tensor(227), tensor(571), tensor(403), tensor(260)]\n",
      "[tensor(479), tensor(384), tensor(556), tensor(599), tensor(66), tensor(166), tensor(546), tensor(39), tensor(163), tensor(507), tensor(150), tensor(578), tensor(230), tensor(204), tensor(407), tensor(147), tensor(230), tensor(696), tensor(286), tensor(141), tensor(295), tensor(511), tensor(549), tensor(549), tensor(434), tensor(567), tensor(500), tensor(325), tensor(630), tensor(281)]\n",
      "[tensor(62), tensor(77), tensor(28), tensor(76), tensor(29), tensor(25), tensor(121), tensor(111), tensor(65), tensor(42), tensor(157), tensor(234), tensor(29), tensor(16), tensor(594), tensor(177), tensor(78), tensor(30), tensor(89), tensor(49), tensor(181), tensor(276), tensor(129), tensor(68), tensor(419), tensor(703), tensor(87), tensor(7), tensor(4), tensor(78)]\n",
      "[tensor(47), tensor(40), tensor(84), tensor(104), tensor(495), tensor(804), tensor(42), tensor(291), tensor(38), tensor(64), tensor(898), tensor(104), tensor(817), tensor(148), tensor(725), tensor(631), tensor(735), tensor(849), tensor(689), tensor(689), tensor(754), tensor(765)]\n",
      "[tensor(4), tensor(24), tensor(12), tensor(31), tensor(11), tensor(109), tensor(36), tensor(134), tensor(44), tensor(24), tensor(9), tensor(70), tensor(33), tensor(14), tensor(729), tensor(93), tensor(42), tensor(14), tensor(880), tensor(33), tensor(905), tensor(53), tensor(21), tensor(16), tensor(203), tensor(95), tensor(95), tensor(720), tensor(165), tensor(59)]\n"
     ]
    },
    {
     "name": "stderr",
     "output_type": "stream",
     "text": [
      " 24%|█████████████████████████████████████████████▊                                                                                                                                              | 229/940 [00:07<00:25, 28.23it/s]"
     ]
    },
    {
     "name": "stdout",
     "output_type": "stream",
     "text": [
      "[tensor(39), tensor(59), tensor(74), tensor(107), tensor(146), tensor(565), tensor(565), tensor(117), tensor(58), tensor(136), tensor(726), tensor(801), tensor(621), tensor(652), tensor(774), tensor(119), tensor(516), tensor(677), tensor(159), tensor(735), tensor(162), tensor(251), tensor(727), tensor(74), tensor(126), tensor(477), tensor(676), tensor(744), tensor(643), tensor(281)]\n",
      "[tensor(36), tensor(163), tensor(296), tensor(16), tensor(58), tensor(730), tensor(6), tensor(705), tensor(14), tensor(85), tensor(328), tensor(255), tensor(90), tensor(423), tensor(26), tensor(138), tensor(726), tensor(656), tensor(628), tensor(440), tensor(755), tensor(187), tensor(30), tensor(292), tensor(659), tensor(81), tensor(15), tensor(249), tensor(803), tensor(40)]\n",
      "[tensor(4), tensor(10), tensor(77), tensor(26), tensor(118), tensor(88), tensor(33), tensor(100), tensor(259), tensor(75), tensor(236), tensor(241), tensor(250), tensor(144), tensor(310), tensor(134), tensor(104), tensor(92), tensor(708), tensor(57), tensor(128), tensor(28), tensor(39), tensor(363), tensor(377), tensor(463), tensor(340), tensor(420), tensor(346), tensor(274)]\n",
      "[tensor(50), tensor(270), tensor(234), tensor(332), tensor(210), tensor(192), tensor(37), tensor(332), tensor(333), tensor(523), tensor(125), tensor(125), tensor(256), tensor(305), tensor(629), tensor(223), tensor(562), tensor(289), tensor(175), tensor(615), tensor(440), tensor(204), tensor(152), tensor(394), tensor(394), tensor(390), tensor(191), tensor(432), tensor(432), tensor(276)]\n",
      "[tensor(174), tensor(460), tensor(344), tensor(537), tensor(91), tensor(166), tensor(274), tensor(432), tensor(243), tensor(549), tensor(71), tensor(307), tensor(540), tensor(130), tensor(247), tensor(247), tensor(364), tensor(318), tensor(586), tensor(643), tensor(348), tensor(302), tensor(198), tensor(440), tensor(500), tensor(500), tensor(234), tensor(426), tensor(155), tensor(429)]\n",
      "[tensor(53), tensor(28), tensor(796), tensor(349), tensor(12), tensor(658), tensor(254), tensor(388), tensor(339), tensor(425), tensor(735), tensor(471), tensor(440), tensor(684), tensor(470), tensor(530), tensor(42), tensor(123), tensor(48), tensor(52), tensor(775), tensor(380), tensor(627), tensor(203), tensor(278), tensor(86), tensor(923), tensor(785), tensor(558), tensor(169)]\n"
     ]
    },
    {
     "name": "stderr",
     "output_type": "stream",
     "text": [
      " 25%|███████████████████████████████████████████████                                                                                                                                             | 235/940 [00:07<00:24, 28.56it/s]"
     ]
    },
    {
     "name": "stdout",
     "output_type": "stream",
     "text": [
      "[tensor(57), tensor(28), tensor(212), tensor(122), tensor(55), tensor(314), tensor(364), tensor(308), tensor(685), tensor(322), tensor(74), tensor(555), tensor(763), tensor(129), tensor(471), tensor(115), tensor(47), tensor(30), tensor(188), tensor(595), tensor(576), tensor(255), tensor(399), tensor(174), tensor(596), tensor(54), tensor(284), tensor(213), tensor(287), tensor(740)]\n",
      "[tensor(29), tensor(144), tensor(210), tensor(303), tensor(141), tensor(182), tensor(326), tensor(283), tensor(447), tensor(74), tensor(391), tensor(523), tensor(600), tensor(309), tensor(346), tensor(239), tensor(514), tensor(484), tensor(474), tensor(317), tensor(534), tensor(638), tensor(651), tensor(101), tensor(470), tensor(236), tensor(92), tensor(280), tensor(377), tensor(494)]\n",
      "[tensor(117), tensor(14), tensor(206), tensor(246), tensor(44), tensor(21), tensor(139), tensor(286), tensor(30), tensor(103), tensor(743), tensor(115), tensor(493), tensor(169), tensor(432), tensor(499), tensor(465), tensor(640), tensor(70), tensor(31), tensor(834), tensor(704), tensor(63), tensor(441), tensor(107), tensor(661), tensor(173), tensor(691), tensor(119), tensor(137)]\n",
      "[tensor(38), tensor(27), tensor(66), tensor(59), tensor(133), tensor(618), tensor(102), tensor(190), tensor(293), tensor(277), tensor(109), tensor(444), tensor(145), tensor(471), tensor(249), tensor(273), tensor(262), tensor(302), tensor(758), tensor(604), tensor(304), tensor(437), tensor(296), tensor(628), tensor(401), tensor(671), tensor(321), tensor(449), tensor(518), tensor(645)]\n",
      "[tensor(92), tensor(4), tensor(2), tensor(7), tensor(70), tensor(2), tensor(130), tensor(15), tensor(6), tensor(104), tensor(214), tensor(251), tensor(204), tensor(31), tensor(31), tensor(51), tensor(400), tensor(427), tensor(195), tensor(819), tensor(370), tensor(258), tensor(231), tensor(341), tensor(313), tensor(227), tensor(679), tensor(898), tensor(157), tensor(655)]\n",
      "[tensor(77), tensor(148), tensor(434), tensor(171), tensor(229), tensor(357), tensor(250), tensor(68), tensor(481), tensor(727), tensor(701), tensor(173), tensor(223), tensor(433), tensor(290), tensor(417), tensor(399), tensor(309), tensor(514), tensor(398), tensor(394), tensor(273), tensor(429), tensor(524), tensor(214), tensor(452), tensor(480), tensor(266), tensor(704), tensor(169)]\n"
     ]
    },
    {
     "name": "stderr",
     "output_type": "stream",
     "text": [
      " 26%|████████████████████████████████████████████████▊                                                                                                                                           | 244/940 [00:08<00:24, 28.33it/s]"
     ]
    },
    {
     "name": "stdout",
     "output_type": "stream",
     "text": [
      "[tensor(155), tensor(320), tensor(294), tensor(360), tensor(135), tensor(171), tensor(351), tensor(320), tensor(132), tensor(483), tensor(144), tensor(398), tensor(86), tensor(441), tensor(262), tensor(55), tensor(265), tensor(234), tensor(317), tensor(665), tensor(133), tensor(794), tensor(457), tensor(341), tensor(505), tensor(220), tensor(453), tensor(850), tensor(490), tensor(486)]\n",
      "[tensor(45), tensor(101), tensor(64), tensor(144), tensor(802), tensor(189), tensor(175), tensor(373), tensor(46), tensor(327), tensor(109), tensor(284), tensor(181), tensor(86), tensor(234), tensor(121), tensor(780), tensor(207), tensor(536), tensor(211), tensor(143), tensor(206), tensor(205), tensor(337), tensor(254), tensor(216), tensor(668), tensor(399), tensor(839), tensor(751)]\n",
      "[tensor(251), tensor(326), tensor(550), tensor(149), tensor(609), tensor(782), tensor(35), tensor(574), tensor(807), tensor(790), tensor(29), tensor(106), tensor(872), tensor(214), tensor(384), tensor(32), tensor(746), tensor(737), tensor(264), tensor(346), tensor(521), tensor(513), tensor(368), tensor(353), tensor(179), tensor(842), tensor(159), tensor(368), tensor(864), tensor(404)]\n",
      "[tensor(39), tensor(11), tensor(211), tensor(311), tensor(165), tensor(241), tensor(528), tensor(66), tensor(408), tensor(341), tensor(41), tensor(583), tensor(80), tensor(53), tensor(641), tensor(208), tensor(123), tensor(513), tensor(205), tensor(176), tensor(50), tensor(61), tensor(389), tensor(339), tensor(205), tensor(217), tensor(684), tensor(277), tensor(98), tensor(329)]\n",
      "[tensor(219), tensor(239), tensor(308), tensor(391), tensor(227), tensor(131), tensor(300), tensor(321), tensor(167), tensor(264), tensor(405), tensor(405), tensor(381), tensor(425), tensor(77), tensor(193), tensor(637), tensor(280), tensor(791), tensor(472), tensor(399), tensor(145), tensor(370), tensor(189), tensor(197), tensor(263), tensor(116), tensor(462), tensor(462), tensor(168)]\n",
      "[tensor(12), tensor(102), tensor(115), tensor(226), tensor(210), tensor(270), tensor(430), tensor(185), tensor(372), tensor(490), tensor(448), tensor(712), tensor(378), tensor(265), tensor(422), tensor(419), tensor(440), tensor(336), tensor(381), tensor(690), tensor(606), tensor(258), tensor(286), tensor(405), tensor(381), tensor(385), tensor(663), tensor(705), tensor(348), tensor(458)]\n"
     ]
    },
    {
     "name": "stderr",
     "output_type": "stream",
     "text": [
      " 26%|█████████████████████████████████████████████████▍                                                                                                                                          | 247/940 [00:08<00:24, 27.96it/s]"
     ]
    },
    {
     "name": "stdout",
     "output_type": "stream",
     "text": [
      "[tensor(5), tensor(10), tensor(36), tensor(45), tensor(84), tensor(78), tensor(70), tensor(153), tensor(245), tensor(128), tensor(221), tensor(23), tensor(116), tensor(203), tensor(48), tensor(161), tensor(233), tensor(395), tensor(62), tensor(97), tensor(321), tensor(237), tensor(451), tensor(97), tensor(135), tensor(336), tensor(90), tensor(119), tensor(335), tensor(287)]\n",
      "[tensor(51), tensor(38), tensor(415), tensor(108), tensor(40), tensor(524), tensor(730), tensor(411), tensor(174), tensor(157), tensor(508), tensor(140), tensor(185), tensor(329), tensor(97), tensor(372), tensor(166), tensor(150), tensor(299), tensor(587), tensor(188), tensor(787), tensor(220), tensor(255), tensor(413), tensor(376), tensor(262), tensor(842), tensor(376), tensor(275)]\n",
      "[tensor(13), tensor(46), tensor(408), tensor(408), tensor(113), tensor(71), tensor(211), tensor(524), tensor(75), tensor(354), tensor(530), tensor(56), tensor(397), tensor(193), tensor(524), tensor(43), tensor(62), tensor(195), tensor(222), tensor(251), tensor(365), tensor(298), tensor(298), tensor(426), tensor(541), tensor(440), tensor(553), tensor(45), tensor(715), tensor(90)]\n",
      "[tensor(8), tensor(27), tensor(68), tensor(63), tensor(73), tensor(226), tensor(146), tensor(99), tensor(184), tensor(550), tensor(40), tensor(53), tensor(101), tensor(50), tensor(50), tensor(92), tensor(677), tensor(447), tensor(736), tensor(737), tensor(214), tensor(608), tensor(679), tensor(800), tensor(240), tensor(479), tensor(629), tensor(733), tensor(371), tensor(290)]\n",
      "[tensor(28), tensor(28), tensor(72), tensor(147), tensor(68), tensor(113), tensor(111), tensor(95), tensor(123), tensor(78), tensor(279), tensor(324), tensor(29), tensor(242), tensor(356), tensor(162), tensor(103), tensor(198), tensor(213), tensor(416), tensor(236), tensor(205), tensor(191), tensor(111), tensor(53), tensor(566), tensor(352), tensor(144), tensor(63), tensor(191)]\n",
      "[tensor(1), tensor(13), tensor(6), tensor(16), tensor(305), tensor(417), tensor(413), tensor(214), tensor(237), tensor(239), tensor(148), tensor(422), tensor(61), tensor(164), tensor(240), tensor(549), tensor(101), tensor(138), tensor(58), tensor(117), tensor(160), tensor(410), tensor(341), tensor(341), tensor(219), tensor(776), tensor(424), tensor(83), tensor(642), tensor(802)]\n"
     ]
    },
    {
     "name": "stderr",
     "output_type": "stream",
     "text": [
      " 27%|██████████████████████████████████████████████████▌                                                                                                                                         | 253/940 [00:08<00:24, 27.72it/s]"
     ]
    },
    {
     "name": "stdout",
     "output_type": "stream",
     "text": [
      "[tensor(127), tensor(707), tensor(708), tensor(736), tensor(698), tensor(521), tensor(337), tensor(423), tensor(672), tensor(201), tensor(654), tensor(82), tensor(230), tensor(772), tensor(432), tensor(703), tensor(50), tensor(62), tensor(443), tensor(141), tensor(268), tensor(593), tensor(664), tensor(191), tensor(233), tensor(593), tensor(699), tensor(373), tensor(300), tensor(128)]\n",
      "[tensor(5), tensor(47), tensor(44), tensor(811), tensor(52), tensor(22), tensor(87), tensor(870), tensor(32), tensor(289), tensor(138), tensor(16), tensor(171), tensor(53), tensor(682), tensor(343), tensor(727), tensor(55), tensor(381), tensor(656), tensor(612), tensor(547), tensor(198), tensor(139), tensor(772), tensor(198), tensor(546), tensor(113), tensor(113), tensor(61)]\n",
      "[tensor(6), tensor(303), tensor(112), tensor(39), tensor(386), tensor(356), tensor(338), tensor(425), tensor(493), tensor(44), tensor(651), tensor(169), tensor(149), tensor(651), tensor(681), tensor(206), tensor(451), tensor(425), tensor(529), tensor(83), tensor(686), tensor(28), tensor(414), tensor(825), tensor(482), tensor(214), tensor(337), tensor(582), tensor(92), tensor(383)]\n",
      "[tensor(448), tensor(352), tensor(430), tensor(397), tensor(501), tensor(264), tensor(432), tensor(241), tensor(531), tensor(565), tensor(291), tensor(408), tensor(62), tensor(612), tensor(179), tensor(715), tensor(199), tensor(828), tensor(677), tensor(563), tensor(207), tensor(571), tensor(295), tensor(331), tensor(364), tensor(610), tensor(310), tensor(479), tensor(667), tensor(771)]\n",
      "[tensor(91), tensor(46), tensor(528), tensor(109), tensor(567), tensor(236), tensor(508), tensor(518), tensor(622), tensor(408), tensor(518), tensor(467), tensor(590), tensor(611), tensor(541), tensor(633), tensor(344), tensor(589), tensor(192), tensor(302), tensor(244), tensor(591), tensor(585), tensor(443), tensor(186), tensor(85), tensor(626), tensor(351), tensor(517), tensor(467)]\n",
      "[tensor(1), tensor(24), tensor(31), tensor(31), tensor(64), tensor(15), tensor(42), tensor(37), tensor(246), tensor(9), tensor(42), tensor(95), tensor(37), tensor(163), tensor(35), tensor(331), tensor(431), tensor(387), tensor(23), tensor(318), tensor(100), tensor(102), tensor(34), tensor(110), tensor(450), tensor(269), tensor(37), tensor(411), tensor(172), tensor(69)]\n"
     ]
    },
    {
     "name": "stderr",
     "output_type": "stream",
     "text": [
      " 28%|████████████████████████████████████████████████████▍                                                                                                                                       | 262/940 [00:08<00:24, 28.23it/s]"
     ]
    },
    {
     "name": "stdout",
     "output_type": "stream",
     "text": [
      "[tensor(9), tensor(41), tensor(173), tensor(120), tensor(203), tensor(134), tensor(392), tensor(321), tensor(554), tensor(101), tensor(491), tensor(146), tensor(166), tensor(340), tensor(340), tensor(496), tensor(228), tensor(612), tensor(159), tensor(201), tensor(210), tensor(355), tensor(413), tensor(197), tensor(520), tensor(242), tensor(599), tensor(509), tensor(521), tensor(515)]\n",
      "[tensor(41), tensor(166), tensor(30), tensor(213), tensor(158), tensor(135), tensor(73), tensor(189), tensor(709), tensor(136), tensor(455), tensor(61), tensor(80), tensor(307), tensor(800), tensor(328), tensor(705), tensor(73), tensor(645), tensor(498), tensor(233), tensor(475), tensor(475), tensor(746), tensor(348), tensor(659), tensor(839), tensor(201), tensor(807), tensor(727)]\n",
      "[tensor(30), tensor(177), tensor(192), tensor(29), tensor(492), tensor(21), tensor(204), tensor(832), tensor(42), tensor(352), tensor(341), tensor(128), tensor(60), tensor(454), tensor(69), tensor(660), tensor(142), tensor(795), tensor(96), tensor(70), tensor(67), tensor(777), tensor(702), tensor(309), tensor(696), tensor(233), tensor(802), tensor(415), tensor(310), tensor(308)]\n",
      "[tensor(189), tensor(239), tensor(103), tensor(267), tensor(413), tensor(226), tensor(500), tensor(31), tensor(581), tensor(701), tensor(32), tensor(501), tensor(245), tensor(787), tensor(140), tensor(396), tensor(514), tensor(283), tensor(106), tensor(512), tensor(589), tensor(202), tensor(92), tensor(738), tensor(353), tensor(807), tensor(510), tensor(185), tensor(918), tensor(609)]\n",
      "[tensor(6), tensor(180), tensor(258), tensor(293), tensor(715), tensor(319), tensor(70), tensor(497), tensor(742), tensor(778), tensor(124), tensor(36), tensor(538), tensor(417), tensor(161), tensor(289), tensor(827), tensor(416), tensor(621), tensor(466), tensor(759), tensor(487), tensor(409), tensor(539), tensor(794), tensor(368), tensor(468), tensor(539), tensor(865), tensor(277)]\n",
      "[tensor(96), tensor(181), tensor(128), tensor(24), tensor(91), tensor(43), tensor(900), tensor(181), tensor(46), tensor(18), tensor(900), tensor(123), tensor(461), tensor(268), tensor(859), tensor(873), tensor(203), tensor(293), tensor(414), tensor(460), tensor(720), tensor(93), tensor(471), tensor(256), tensor(284), tensor(52), tensor(853), tensor(205), tensor(400), tensor(288)]\n"
     ]
    },
    {
     "name": "stderr",
     "output_type": "stream",
     "text": [
      " 28%|█████████████████████████████████████████████████████                                                                                                                                       | 265/940 [00:08<00:23, 28.13it/s]"
     ]
    },
    {
     "name": "stdout",
     "output_type": "stream",
     "text": [
      "[tensor(20), tensor(26), tensor(16), tensor(48), tensor(117), tensor(151), tensor(213), tensor(144), tensor(200), tensor(183), tensor(269), tensor(475), tensor(235), tensor(236), tensor(299), tensor(324), tensor(99), tensor(498), tensor(138), tensor(359), tensor(320), tensor(159), tensor(635), tensor(353), tensor(404), tensor(591), tensor(200), tensor(461), tensor(367), tensor(411)]\n",
      "[tensor(70), tensor(99), tensor(548), tensor(136), tensor(148), tensor(228), tensor(781), tensor(160), tensor(614), tensor(674), tensor(130), tensor(50), tensor(575), tensor(373), tensor(234), tensor(705), tensor(288), tensor(99), tensor(243), tensor(410), tensor(138), tensor(360), tensor(661), tensor(150), tensor(780), tensor(404), tensor(383), tensor(705), tensor(301), tensor(457)]\n",
      "[tensor(242), tensor(68), tensor(375), tensor(343), tensor(109), tensor(269), tensor(266), tensor(260), tensor(107), tensor(427), tensor(60), tensor(627), tensor(132), tensor(449), tensor(510), tensor(249), tensor(292), tensor(322), tensor(257), tensor(177), tensor(673), tensor(835), tensor(866), tensor(434), tensor(665), tensor(841), tensor(220), tensor(363), tensor(831), tensor(677)]\n",
      "[tensor(252), tensor(25), tensor(205), tensor(415), tensor(355), tensor(355), tensor(452), tensor(386), tensor(463), tensor(444), tensor(467), tensor(519), tensor(346), tensor(191), tensor(384), tensor(357), tensor(741), tensor(237), tensor(399), tensor(423), tensor(415), tensor(219), tensor(573), tensor(436), tensor(572), tensor(448), tensor(388), tensor(85), tensor(173), tensor(260)]\n",
      "[tensor(42), tensor(82), tensor(296), tensor(356), tensor(155), tensor(337), tensor(277), tensor(378), tensor(160), tensor(141), tensor(131), tensor(431), tensor(382), tensor(468), tensor(163), tensor(227), tensor(304), tensor(321), tensor(133), tensor(468), tensor(122), tensor(185), tensor(273), tensor(464), tensor(264), tensor(454), tensor(493), tensor(440), tensor(106), tensor(550)]\n",
      "[tensor(3), tensor(18), tensor(55), tensor(81), tensor(18), tensor(218), tensor(164), tensor(5), tensor(241), tensor(17), tensor(330), tensor(19), tensor(432), tensor(227), tensor(4), tensor(373), tensor(293), tensor(276), tensor(183), tensor(183), tensor(106), tensor(23), tensor(28), tensor(96), tensor(109), tensor(40), tensor(219), tensor(75), tensor(60), tensor(60)]\n"
     ]
    },
    {
     "name": "stderr",
     "output_type": "stream",
     "text": [
      " 29%|██████████████████████████████████████████████████████▏                                                                                                                                     | 271/940 [00:08<00:23, 28.09it/s]"
     ]
    },
    {
     "name": "stdout",
     "output_type": "stream",
     "text": [
      "[tensor(38), tensor(149), tensor(103), tensor(58), tensor(138), tensor(83), tensor(262), tensor(162), tensor(143), tensor(34), tensor(332), tensor(120), tensor(195), tensor(126), tensor(129), tensor(203), tensor(17), tensor(33), tensor(548), tensor(67), tensor(67), tensor(121), tensor(367), tensor(367), tensor(113), tensor(88), tensor(48), tensor(70), tensor(450), tensor(206)]\n",
      "[tensor(36), tensor(43), tensor(47), tensor(43), tensor(205), tensor(826), tensor(88), tensor(28), tensor(761), tensor(652), tensor(787), tensor(831), tensor(776), tensor(577), tensor(394), tensor(460), tensor(276), tensor(59), tensor(807), tensor(693), tensor(52), tensor(401), tensor(845), tensor(496), tensor(611), tensor(271), tensor(741), tensor(196), tensor(52), tensor(200)]\n",
      "[tensor(21), tensor(54), tensor(158), tensor(195), tensor(385), tensor(35), tensor(421), tensor(154), tensor(265), tensor(77), tensor(423), tensor(395), tensor(119), tensor(554), tensor(237), tensor(701), tensor(260), tensor(207), tensor(152), tensor(297), tensor(487), tensor(298), tensor(434), tensor(183), tensor(84), tensor(225), tensor(784), tensor(291), tensor(252), tensor(355)]\n",
      "[tensor(13), tensor(60), tensor(82), tensor(143), tensor(124), tensor(68), tensor(83), tensor(135), tensor(314), tensor(133), tensor(307), tensor(159), tensor(177), tensor(167), tensor(255), tensor(65), tensor(158), tensor(379), tensor(147), tensor(252), tensor(151), tensor(517), tensor(516), tensor(159), tensor(400), tensor(250), tensor(100), tensor(178), tensor(367), tensor(311)]\n",
      "[tensor(2), tensor(65), tensor(202), tensor(433), tensor(6), tensor(91), tensor(21), tensor(5), tensor(9), tensor(12), tensor(3), tensor(93), tensor(118), tensor(76), tensor(10), tensor(21), tensor(281), tensor(782), tensor(18), tensor(85), tensor(85), tensor(781), tensor(441), tensor(10), tensor(19), tensor(706), tensor(86), tensor(464), tensor(282), tensor(587)]\n",
      "[tensor(163), tensor(188), tensor(363), tensor(198), tensor(607), tensor(188), tensor(427), tensor(548), tensor(365), tensor(210), tensor(129), tensor(136), tensor(136), tensor(28), tensor(491), tensor(63), tensor(210), tensor(479), tensor(99), tensor(776), tensor(755), tensor(115), tensor(729), tensor(402), tensor(500), tensor(823), tensor(770), tensor(853), tensor(378), tensor(285)]\n"
     ]
    },
    {
     "name": "stderr",
     "output_type": "stream",
     "text": [
      " 30%|████████████████████████████████████████████████████████                                                                                                                                    | 280/940 [00:09<00:23, 28.38it/s]"
     ]
    },
    {
     "name": "stdout",
     "output_type": "stream",
     "text": [
      "[tensor(79), tensor(10), tensor(84), tensor(64), tensor(91), tensor(45), tensor(22), tensor(48), tensor(68), tensor(158), tensor(759), tensor(817), tensor(787), tensor(88), tensor(716), tensor(490), tensor(589), tensor(499), tensor(834), tensor(390), tensor(117), tensor(511), tensor(116), tensor(509), tensor(613), tensor(403), tensor(806), tensor(440), tensor(109), tensor(166)]\n",
      "[tensor(74), tensor(26), tensor(510), tensor(268), tensor(344), tensor(687), tensor(347), tensor(274), tensor(93), tensor(185), tensor(445), tensor(24), tensor(514), tensor(235), tensor(424), tensor(599), tensor(114), tensor(163), tensor(304), tensor(410), tensor(677), tensor(356), tensor(159), tensor(290), tensor(313), tensor(222), tensor(289), tensor(473), tensor(714), tensor(534)]\n",
      "[tensor(50), tensor(78), tensor(1), tensor(41), tensor(20), tensor(69), tensor(74), tensor(432), tensor(103), tensor(741), tensor(56), tensor(40), tensor(355), tensor(245), tensor(258), tensor(760), tensor(298), tensor(885), tensor(651), tensor(615), tensor(170), tensor(346), tensor(99), tensor(631), tensor(422), tensor(293), tensor(465), tensor(278), tensor(889), tensor(597)]\n",
      "[tensor(1), tensor(403), tensor(309), tensor(914), tensor(86), tensor(25), tensor(3), tensor(938), tensor(250), tensor(96), tensor(460), tensor(53), tensor(928), tensor(61), tensor(308), tensor(780), tensor(399), tensor(399), tensor(282), tensor(811), tensor(605), tensor(924)]\n",
      "[tensor(557), tensor(256), tensor(135), tensor(550), tensor(18), tensor(59), tensor(422), tensor(258), tensor(144), tensor(14), tensor(213), tensor(33), tensor(4), tensor(115), tensor(113), tensor(41), tensor(849), tensor(266), tensor(790), tensor(721), tensor(574), tensor(555), tensor(384), tensor(822), tensor(378), tensor(365), tensor(192), tensor(313), tensor(154), tensor(778)]\n",
      "[tensor(2), tensor(3), tensor(7), tensor(19), tensor(12), tensor(11), tensor(7), tensor(4), tensor(21), tensor(19), tensor(59), tensor(44), tensor(26), tensor(149), tensor(206), tensor(198), tensor(4), tensor(209), tensor(209), tensor(228), tensor(372), tensor(188), tensor(18), tensor(277), tensor(362), tensor(32), tensor(119), tensor(469), tensor(530), tensor(504)]\n"
     ]
    },
    {
     "name": "stderr",
     "output_type": "stream",
     "text": [
      " 30%|████████████████████████████████████████████████████████▌                                                                                                                                   | 283/940 [00:09<00:23, 27.90it/s]"
     ]
    },
    {
     "name": "stdout",
     "output_type": "stream",
     "text": [
      "[tensor(185), tensor(288), tensor(377), tensor(88), tensor(418), tensor(68), tensor(123), tensor(70), tensor(313), tensor(490), tensor(260), tensor(26), tensor(401), tensor(509), tensor(224), tensor(125), tensor(146), tensor(92), tensor(752), tensor(282), tensor(587), tensor(130), tensor(793), tensor(306), tensor(572), tensor(774), tensor(407), tensor(338), tensor(381), tensor(109)]\n",
      "[tensor(295), tensor(263), tensor(329), tensor(264), tensor(125), tensor(185), tensor(305), tensor(17), tensor(290), tensor(62), tensor(687), tensor(290), tensor(469), tensor(577), tensor(191), tensor(219), tensor(534), tensor(510), tensor(319), tensor(64), tensor(257), tensor(227), tensor(446), tensor(205), tensor(357), tensor(266), tensor(810), tensor(226), tensor(434), tensor(326)]\n",
      "[tensor(8), tensor(218), tensor(212), tensor(127), tensor(13), tensor(102), tensor(587), tensor(125), tensor(855), tensor(916), tensor(109), tensor(523), tensor(62), tensor(662), tensor(690), tensor(229), tensor(199), tensor(372), tensor(783), tensor(488), tensor(291), tensor(329), tensor(722), tensor(250), tensor(611), tensor(590), tensor(906), tensor(938), tensor(489), tensor(888)]\n",
      "[tensor(45), tensor(107), tensor(60), tensor(130), tensor(44), tensor(159), tensor(103), tensor(187), tensor(180), tensor(193), tensor(193), tensor(305), tensor(241), tensor(327), tensor(185), tensor(97), tensor(197), tensor(273), tensor(294), tensor(230), tensor(281), tensor(190), tensor(201), tensor(274), tensor(171), tensor(312), tensor(473), tensor(173), tensor(145), tensor(274)]\n",
      "[tensor(30), tensor(149), tensor(331), tensor(245), tensor(194), tensor(73), tensor(238), tensor(58), tensor(261), tensor(162), tensor(15), tensor(609), tensor(184), tensor(446), tensor(544), tensor(656), tensor(150), tensor(98), tensor(207), tensor(391), tensor(118), tensor(716), tensor(267), tensor(37), tensor(427), tensor(601), tensor(607), tensor(389), tensor(384), tensor(28)]\n",
      "[tensor(225), tensor(118), tensor(646), tensor(238), tensor(111), tensor(678), tensor(752), tensor(220), tensor(49), tensor(5), tensor(125), tensor(397), tensor(541), tensor(533), tensor(37), tensor(110), tensor(229), tensor(752), tensor(678), tensor(296), tensor(193), tensor(433), tensor(44), tensor(73), tensor(27), tensor(272), tensor(56), tensor(627), tensor(144), tensor(130)]\n"
     ]
    },
    {
     "name": "stderr",
     "output_type": "stream",
     "text": [
      " 31%|█████████████████████████████████████████████████████████▊                                                                                                                                  | 289/940 [00:09<00:22, 28.47it/s]"
     ]
    },
    {
     "name": "stdout",
     "output_type": "stream",
     "text": [
      "[tensor(36), tensor(17), tensor(16), tensor(29), tensor(71), tensor(62), tensor(100), tensor(163), tensor(42), tensor(121), tensor(316), tensor(162), tensor(331), tensor(109), tensor(553), tensor(131), tensor(51), tensor(387), tensor(177), tensor(94), tensor(98), tensor(674), tensor(318), tensor(326), tensor(134), tensor(457), tensor(238), tensor(472), tensor(318), tensor(606)]\n",
      "[tensor(9), tensor(11), tensor(94), tensor(9), tensor(2), tensor(47), tensor(13), tensor(117), tensor(77), tensor(312), tensor(195), tensor(5), tensor(340), tensor(327), tensor(118), tensor(16), tensor(19), tensor(90), tensor(344), tensor(457), tensor(14), tensor(43), tensor(657), tensor(433), tensor(53), tensor(24), tensor(476), tensor(312), tensor(517), tensor(766)]\n",
      "[tensor(2), tensor(41), tensor(30), tensor(25), tensor(116), tensor(73), tensor(75), tensor(170), tensor(678), tensor(812), tensor(720), tensor(815), tensor(375), tensor(653), tensor(828), tensor(200), tensor(287), tensor(333), tensor(241), tensor(693), tensor(172), tensor(145), tensor(203), tensor(203), tensor(413), tensor(847), tensor(529), tensor(578), tensor(705), tensor(329)]\n",
      "[tensor(98), tensor(266), tensor(8), tensor(130), tensor(31), tensor(39), tensor(76), tensor(448), tensor(623), tensor(5), tensor(54), tensor(10), tensor(518), tensor(248), tensor(593), tensor(474), tensor(202), tensor(639), tensor(154), tensor(156), tensor(483), tensor(796), tensor(614), tensor(68), tensor(447), tensor(81), tensor(510), tensor(510), tensor(82), tensor(11)]\n",
      "[tensor(189), tensor(67), tensor(165), tensor(298), tensor(209), tensor(121), tensor(408), tensor(434), tensor(417), tensor(270), tensor(258), tensor(453), tensor(362), tensor(213), tensor(144), tensor(455), tensor(477), tensor(258), tensor(301), tensor(432), tensor(190), tensor(417), tensor(310), tensor(632), tensor(389), tensor(466), tensor(296), tensor(313), tensor(563), tensor(407)]\n",
      "[tensor(79), tensor(182), tensor(106), tensor(214), tensor(57), tensor(16), tensor(32), tensor(56), tensor(79), tensor(21), tensor(6), tensor(68), tensor(19), tensor(242), tensor(270), tensor(874), tensor(612), tensor(29), tensor(814), tensor(303), tensor(866), tensor(752), tensor(925), tensor(453), tensor(227), tensor(316), tensor(719), tensor(418), tensor(201), tensor(753)]\n",
      "[tensor(296), tensor(322), tensor(29), tensor(220), tensor(42), tensor(42), tensor(40), tensor(40), tensor(111), tensor(40), tensor(143), tensor(251), tensor(200), tensor(200), tensor(192), tensor(301), tensor(184), tensor(830), tensor(418), tensor(122), tensor(122), tensor(462), tensor(35), tensor(393), tensor(311), tensor(284), tensor(446), tensor(57), tensor(68), tensor(141)]\n"
     ]
    },
    {
     "name": "stderr",
     "output_type": "stream",
     "text": [
      " 32%|███████████████████████████████████████████████████████████▍                                                                                                                                | 297/940 [00:09<00:21, 29.49it/s]"
     ]
    },
    {
     "name": "stdout",
     "output_type": "stream",
     "text": [
      "[tensor(1), tensor(7), tensor(2), tensor(1), tensor(19), tensor(15), tensor(86), tensor(9), tensor(19), tensor(13), tensor(239), tensor(284), tensor(24), tensor(267), tensor(342), tensor(27), tensor(27), tensor(574), tensor(195), tensor(93), tensor(93), tensor(483), tensor(119), tensor(119), tensor(214), tensor(219), tensor(556), tensor(47), tensor(121), tensor(398)]\n",
      "[tensor(8), tensor(22), tensor(7), tensor(80), tensor(11), tensor(45), tensor(389), tensor(32), tensor(105), tensor(72), tensor(227), tensor(276), tensor(52), tensor(120), tensor(121), tensor(53), tensor(29), tensor(274), tensor(93), tensor(75), tensor(294), tensor(86), tensor(868), tensor(142), tensor(179), tensor(774), tensor(857), tensor(605), tensor(639), tensor(558)]\n",
      "[tensor(51), tensor(313), tensor(659), tensor(308), tensor(280), tensor(149), tensor(608), tensor(47), tensor(327), tensor(678), tensor(166), tensor(509), tensor(184), tensor(309), tensor(102), tensor(182), tensor(651), tensor(231), tensor(564), tensor(413), tensor(537), tensor(64), tensor(172), tensor(732), tensor(719), tensor(369), tensor(748), tensor(196), tensor(334), tensor(364)]\n",
      "[tensor(90), tensor(40), tensor(120), tensor(166), tensor(12), tensor(28), tensor(355), tensor(62), tensor(833), tensor(867), tensor(665), tensor(676), tensor(676), tensor(858), tensor(831), tensor(458), tensor(893), tensor(95), tensor(172), tensor(680), tensor(781), tensor(204), tensor(107), tensor(821), tensor(865), tensor(789), tensor(529), tensor(395), tensor(678), tensor(485)]\n",
      "[tensor(172), tensor(74), tensor(195), tensor(86), tensor(40), tensor(51), tensor(43), tensor(59), tensor(144), tensor(62), tensor(86), tensor(207), tensor(216), tensor(508), tensor(130), tensor(162), tensor(292), tensor(228), tensor(797), tensor(227), tensor(717), tensor(39), tensor(382), tensor(685), tensor(685), tensor(314), tensor(197), tensor(74), tensor(828), tensor(282)]\n",
      "[tensor(3), tensor(15), tensor(57), tensor(161), tensor(822), tensor(586), tensor(798), tensor(605), tensor(247), tensor(597), tensor(786), tensor(70), tensor(824), tensor(56), tensor(758), tensor(701), tensor(273), tensor(155), tensor(594), tensor(103), tensor(711), tensor(73), tensor(629), tensor(362), tensor(126), tensor(153), tensor(144), tensor(147), tensor(398), tensor(666)]\n"
     ]
    },
    {
     "name": "stderr",
     "output_type": "stream",
     "text": [
      " 32%|████████████████████████████████████████████████████████████▌                                                                                                                               | 303/940 [00:10<00:22, 28.46it/s]"
     ]
    },
    {
     "name": "stdout",
     "output_type": "stream",
     "text": [
      "[tensor(137), tensor(9), tensor(162), tensor(551), tensor(45), tensor(476), tensor(184), tensor(514), tensor(465), tensor(142), tensor(110), tensor(321), tensor(636), tensor(304), tensor(335), tensor(312), tensor(197), tensor(351), tensor(505), tensor(411), tensor(474), tensor(352), tensor(310), tensor(316), tensor(339), tensor(439), tensor(552), tensor(496), tensor(768), tensor(632)]\n",
      "[tensor(69), tensor(243), tensor(802), tensor(132), tensor(66), tensor(175), tensor(194), tensor(285), tensor(787), tensor(506), tensor(76), tensor(280), tensor(187), tensor(477), tensor(52), tensor(785), tensor(284), tensor(240), tensor(249), tensor(132), tensor(74), tensor(754), tensor(425), tensor(425), tensor(114), tensor(847), tensor(490), tensor(296), tensor(397), tensor(433)]\n",
      "[tensor(1), tensor(1), tensor(25), tensor(14), tensor(6), tensor(64), tensor(128), tensor(8), tensor(69), tensor(299), tensor(248), tensor(194), tensor(11), tensor(338), tensor(87), tensor(17), tensor(32), tensor(13), tensor(322), tensor(456), tensor(77), tensor(179), tensor(179), tensor(20), tensor(32), tensor(32), tensor(641), tensor(19), tensor(121), tensor(437)]\n",
      "[tensor(73), tensor(285), tensor(79), tensor(105), tensor(105), tensor(50), tensor(383), tensor(99), tensor(355), tensor(650), tensor(233), tensor(554), tensor(105), tensor(48), tensor(245), tensor(221), tensor(408), tensor(529), tensor(450), tensor(436), tensor(436), tensor(253), tensor(326), tensor(829), tensor(501), tensor(405), tensor(251), tensor(535), tensor(579), tensor(384)]\n",
      "[tensor(1), tensor(22), tensor(59), tensor(5), tensor(36), tensor(44), tensor(51), tensor(160), tensor(14), tensor(182), tensor(19), tensor(192), tensor(16), tensor(226), tensor(18), tensor(12), tensor(349), tensor(142), tensor(65), tensor(69), tensor(80), tensor(424), tensor(424), tensor(13), tensor(430), tensor(28), tensor(180), tensor(13), tensor(107), tensor(107)]\n",
      "[tensor(84), tensor(119), tensor(145), tensor(40), tensor(31), tensor(717), tensor(652), tensor(231), tensor(193), tensor(787), tensor(400), tensor(175), tensor(118), tensor(513), tensor(419), tensor(751), tensor(228), tensor(551), tensor(144), tensor(496), tensor(273), tensor(565), tensor(623), tensor(826), tensor(380), tensor(316), tensor(398), tensor(158), tensor(141), tensor(325)]\n"
     ]
    },
    {
     "name": "stderr",
     "output_type": "stream",
     "text": [
      " 33%|█████████████████████████████████████████████████████████████▊                                                                                                                              | 309/940 [00:10<00:21, 28.78it/s]"
     ]
    },
    {
     "name": "stdout",
     "output_type": "stream",
     "text": [
      "[tensor(14), tensor(24), tensor(55), tensor(60), tensor(17), tensor(90), tensor(68), tensor(77), tensor(100), tensor(95), tensor(140), tensor(108), tensor(533), tensor(206), tensor(191), tensor(68), tensor(47), tensor(640), tensor(110), tensor(110), tensor(127), tensor(52), tensor(441), tensor(27), tensor(767), tensor(281), tensor(127), tensor(705), tensor(117), tensor(142)]\n",
      "[tensor(120), tensor(32), tensor(43), tensor(319), tensor(404), tensor(80), tensor(234), tensor(671), tensor(28), tensor(77), tensor(238), tensor(812), tensor(469), tensor(264), tensor(144), tensor(391), tensor(121), tensor(203), tensor(385), tensor(145), tensor(519), tensor(169), tensor(825), tensor(374), tensor(822), tensor(628), tensor(88), tensor(366), tensor(393), tensor(387)]\n",
      "[tensor(554), tensor(7), tensor(363), tensor(609), tensor(64), tensor(107), tensor(767), tensor(636), tensor(561), tensor(303), tensor(577), tensor(894), tensor(268), tensor(621), tensor(842), tensor(345), tensor(350), tensor(600), tensor(796), tensor(453), tensor(805), tensor(864)]\n",
      "[tensor(128), tensor(281), tensor(195), tensor(436), tensor(418), tensor(70), tensor(256), tensor(355), tensor(258), tensor(204), tensor(263), tensor(538), tensor(406), tensor(505), tensor(368), tensor(787), tensor(533), tensor(195), tensor(554), tensor(478), tensor(406), tensor(577), tensor(233), tensor(231), tensor(774), tensor(359), tensor(441), tensor(376), tensor(606), tensor(628)]\n",
      "[tensor(8), tensor(22), tensor(25), tensor(18), tensor(101), tensor(39), tensor(52), tensor(61), tensor(71), tensor(104), tensor(214), tensor(269), tensor(140), tensor(91), tensor(137), tensor(33), tensor(24), tensor(120), tensor(192), tensor(7), tensor(51), tensor(382), tensor(458), tensor(233), tensor(195), tensor(308), tensor(308), tensor(37), tensor(74), tensor(100)]\n",
      "[tensor(176), tensor(619), tensor(561), tensor(425), tensor(211), tensor(547), tensor(262), tensor(576), tensor(516), tensor(318), tensor(545), tensor(103), tensor(464), tensor(350), tensor(138), tensor(444), tensor(444), tensor(146), tensor(272), tensor(289), tensor(552), tensor(738), tensor(74), tensor(706), tensor(376), tensor(186), tensor(251), tensor(356), tensor(251), tensor(405)]\n"
     ]
    },
    {
     "name": "stderr",
     "output_type": "stream",
     "text": [
      " 34%|███████████████████████████████████████████████████████████████                                                                                                                             | 315/940 [00:10<00:22, 27.40it/s]"
     ]
    },
    {
     "name": "stdout",
     "output_type": "stream",
     "text": [
      "[tensor(327), tensor(353), tensor(158), tensor(169), tensor(210), tensor(203), tensor(416), tensor(282), tensor(313), tensor(319), tensor(427), tensor(122), tensor(248), tensor(503), tensor(389), tensor(434), tensor(194), tensor(341), tensor(326), tensor(367), tensor(346), tensor(309), tensor(389), tensor(276), tensor(313), tensor(409), tensor(703), tensor(269), tensor(507), tensor(549)]\n",
      "[tensor(62), tensor(72), tensor(553), tensor(49), tensor(21), tensor(248), tensor(154), tensor(182), tensor(130), tensor(722), tensor(622), tensor(240), tensor(610), tensor(590), tensor(334), tensor(939), tensor(797), tensor(680), tensor(651), tensor(519), tensor(867), tensor(918)]\n",
      "[tensor(8), tensor(5), tensor(7), tensor(3), tensor(70), tensor(102), tensor(69), tensor(142), tensor(267), tensor(15), tensor(394), tensor(42), tensor(107), tensor(24), tensor(326), tensor(58), tensor(167), tensor(674), tensor(111), tensor(511), tensor(186), tensor(453), tensor(10), tensor(58), tensor(790), tensor(214), tensor(47), tensor(43), tensor(211), tensor(476)]\n",
      "[tensor(55), tensor(59), tensor(70), tensor(145), tensor(135), tensor(73), tensor(39), tensor(233), tensor(296), tensor(473), tensor(471), tensor(132), tensor(315), tensor(75), tensor(486), tensor(255), tensor(160), tensor(382), tensor(382), tensor(264), tensor(657), tensor(827), tensor(223), tensor(71), tensor(900), tensor(415), tensor(908), tensor(87), tensor(485), tensor(49)]\n",
      "[tensor(50), tensor(32), tensor(63), tensor(219), tensor(423), tensor(75), tensor(66), tensor(305), tensor(324), tensor(289), tensor(522), tensor(481), tensor(428), tensor(476), tensor(326), tensor(148), tensor(338), tensor(568), tensor(427), tensor(773), tensor(568), tensor(831), tensor(453), tensor(543), tensor(522), tensor(505), tensor(540), tensor(894), tensor(711), tensor(838)]\n",
      "[tensor(150), tensor(350), tensor(126), tensor(298), tensor(63), tensor(470), tensor(571), tensor(130), tensor(105), tensor(356), tensor(46), tensor(14), tensor(526), tensor(243), tensor(315), tensor(163), tensor(82), tensor(497), tensor(747), tensor(691), tensor(322), tensor(45), tensor(78), tensor(433), tensor(669), tensor(352), tensor(28), tensor(220), tensor(560), tensor(344)]\n"
     ]
    },
    {
     "name": "stderr",
     "output_type": "stream",
     "text": [
      " 34%|████████████████████████████████████████████████████████████████▏                                                                                                                           | 321/940 [00:10<00:22, 27.44it/s]"
     ]
    },
    {
     "name": "stdout",
     "output_type": "stream",
     "text": [
      "[tensor(87), tensor(38), tensor(79), tensor(73), tensor(115), tensor(168), tensor(197), tensor(348), tensor(112), tensor(307), tensor(95), tensor(395), tensor(25), tensor(64), tensor(488), tensor(467), tensor(238), tensor(74), tensor(484), tensor(113), tensor(188), tensor(188), tensor(70), tensor(694), tensor(271), tensor(232), tensor(402), tensor(151), tensor(78), tensor(638)]\n",
      "[tensor(78), tensor(59), tensor(101), tensor(41), tensor(127), tensor(16), tensor(244), tensor(244), tensor(301), tensor(218), tensor(389), tensor(423), tensor(256), tensor(432), tensor(145), tensor(82), tensor(364), tensor(33), tensor(188), tensor(415), tensor(456), tensor(47), tensor(78), tensor(281), tensor(728), tensor(225), tensor(521), tensor(451), tensor(684), tensor(137)]\n",
      "[tensor(196), tensor(23), tensor(2), tensor(363), tensor(50), tensor(21), tensor(262), tensor(322), tensor(768), tensor(16), tensor(163), tensor(572), tensor(4), tensor(82), tensor(497), tensor(18), tensor(9), tensor(46), tensor(422), tensor(29), tensor(148), tensor(81), tensor(380), tensor(466), tensor(615), tensor(47), tensor(621), tensor(669), tensor(441), tensor(555)]\n",
      "[tensor(45), tensor(199), tensor(192), tensor(160), tensor(240), tensor(525), tensor(509), tensor(483), tensor(528), tensor(290), tensor(252), tensor(138), tensor(104), tensor(454), tensor(502), tensor(631), tensor(253), tensor(312), tensor(150), tensor(617), tensor(252), tensor(208), tensor(821), tensor(374), tensor(566), tensor(568), tensor(584), tensor(732), tensor(666), tensor(663)]\n",
      "[tensor(9), tensor(89), tensor(110), tensor(216), tensor(72), tensor(198), tensor(222), tensor(34), tensor(143), tensor(154), tensor(268), tensor(256), tensor(146), tensor(142), tensor(34), tensor(416), tensor(117), tensor(214), tensor(257), tensor(138), tensor(223), tensor(148), tensor(220), tensor(160), tensor(19), tensor(158), tensor(135), tensor(117), tensor(237), tensor(276)]\n",
      "[tensor(13), tensor(30), tensor(137), tensor(258), tensor(308), tensor(94), tensor(243), tensor(338), tensor(202), tensor(202), tensor(291), tensor(389), tensor(441), tensor(255), tensor(456), tensor(456), tensor(426), tensor(349), tensor(275), tensor(163), tensor(229), tensor(118), tensor(202), tensor(249), tensor(249), tensor(427), tensor(389), tensor(383), tensor(235), tensor(423)]\n"
     ]
    },
    {
     "name": "stderr",
     "output_type": "stream",
     "text": [
      " 35%|█████████████████████████████████████████████████████████████████▍                                                                                                                          | 327/940 [00:11<00:23, 26.21it/s]"
     ]
    },
    {
     "name": "stdout",
     "output_type": "stream",
     "text": [
      "[tensor(132), tensor(172), tensor(100), tensor(177), tensor(256), tensor(265), tensor(263), tensor(193), tensor(413), tensor(233), tensor(386), tensor(461), tensor(258), tensor(504), tensor(313), tensor(493), tensor(566), tensor(434), tensor(376), tensor(452), tensor(492), tensor(725), tensor(757), tensor(670), tensor(608), tensor(646), tensor(706), tensor(611), tensor(750), tensor(806)]\n",
      "[tensor(134), tensor(180), tensor(165), tensor(146), tensor(204), tensor(119), tensor(130), tensor(228), tensor(174), tensor(235), tensor(277), tensor(164), tensor(230), tensor(216), tensor(187), tensor(370), tensor(317), tensor(328), tensor(313), tensor(292), tensor(280), tensor(289), tensor(206), tensor(441), tensor(185), tensor(296), tensor(241), tensor(251), tensor(263), tensor(195)]\n",
      "[tensor(12), tensor(72), tensor(42), tensor(54), tensor(51), tensor(29), tensor(128), tensor(34), tensor(193), tensor(70), tensor(304), tensor(305), tensor(27), tensor(328), tensor(392), tensor(278), tensor(79), tensor(123), tensor(216), tensor(120), tensor(332), tensor(424), tensor(483), tensor(69), tensor(63), tensor(491), tensor(50), tensor(416), tensor(211), tensor(82)]\n",
      "[tensor(25), tensor(82), tensor(97), tensor(65), tensor(16), tensor(18), tensor(85), tensor(861), tensor(86), tensor(626), tensor(38), tensor(114), tensor(90), tensor(31), tensor(33), tensor(284), tensor(155), tensor(133), tensor(41), tensor(177), tensor(900), tensor(280), tensor(623), tensor(151), tensor(812), tensor(92), tensor(238), tensor(905), tensor(242), tensor(127)]\n",
      "[tensor(51), tensor(196), tensor(118), tensor(175), tensor(270), tensor(326), tensor(227), tensor(219), tensor(381), tensor(712), tensor(556), tensor(547), tensor(571), tensor(472), tensor(435), tensor(402), tensor(394), tensor(789), tensor(519), tensor(495), tensor(262), tensor(558), tensor(671), tensor(589), tensor(609), tensor(670), tensor(603), tensor(816), tensor(820), tensor(784)]\n",
      "[tensor(19), tensor(70), tensor(67), tensor(30), tensor(626), tensor(418), tensor(734), tensor(631), tensor(480), tensor(419), tensor(239), tensor(155), tensor(110), tensor(410), tensor(411), tensor(564), tensor(411), tensor(143), tensor(155), tensor(127), tensor(381), tensor(784), tensor(521), tensor(768), tensor(355), tensor(541), tensor(492), tensor(365), tensor(343), tensor(341)]\n"
     ]
    },
    {
     "name": "stderr",
     "output_type": "stream",
     "text": [
      " 35%|██████████████████████████████████████████████████████████████████▌                                                                                                                         | 333/940 [00:11<00:22, 26.67it/s]"
     ]
    },
    {
     "name": "stdout",
     "output_type": "stream",
     "text": [
      "[tensor(185), tensor(147), tensor(408), tensor(8), tensor(365), tensor(301), tensor(5), tensor(57), tensor(127), tensor(48), tensor(539), tensor(550), tensor(182), tensor(852), tensor(431), tensor(358), tensor(9), tensor(872), tensor(764), tensor(43), tensor(383), tensor(323), tensor(179), tensor(130), tensor(535), tensor(560), tensor(118), tensor(274), tensor(457), tensor(548)]\n",
      "[tensor(42), tensor(113), tensor(15), tensor(7), tensor(15), tensor(4), tensor(304), tensor(10), tensor(64), tensor(11), tensor(11), tensor(3), tensor(253), tensor(221), tensor(17), tensor(297), tensor(26), tensor(890), tensor(17), tensor(59), tensor(51), tensor(318), tensor(470), tensor(424), tensor(28), tensor(845), tensor(3), tensor(96), tensor(181), tensor(46)]\n",
      "[tensor(196), tensor(17), tensor(6), tensor(373), tensor(82), tensor(53), tensor(634), tensor(31), tensor(248), tensor(24), tensor(89), tensor(850), tensor(130), tensor(29), tensor(745), tensor(109), tensor(330), tensor(460), tensor(114), tensor(117), tensor(490), tensor(872), tensor(566), tensor(90), tensor(890), tensor(503), tensor(132), tensor(330), tensor(921), tensor(333)]\n",
      "[tensor(94), tensor(270), tensor(30), tensor(3), tensor(152), tensor(307), tensor(307), tensor(25), tensor(211), tensor(36), tensor(65), tensor(24), tensor(117), tensor(117), tensor(16), tensor(435), tensor(157), tensor(70), tensor(771), tensor(147), tensor(77), tensor(131), tensor(221), tensor(64), tensor(16), tensor(131), tensor(146), tensor(102), tensor(91), tensor(43)]\n",
      "[tensor(224), tensor(226), tensor(322), tensor(278), tensor(263), tensor(146), tensor(404), tensor(312), tensor(206), tensor(394), tensor(372), tensor(129), tensor(446), tensor(461), tensor(372), tensor(465), tensor(417), tensor(480), tensor(454), tensor(586), tensor(612), tensor(456), tensor(429), tensor(434), tensor(758), tensor(444), tensor(358), tensor(401), tensor(488), tensor(464)]\n",
      "[tensor(1), tensor(20), tensor(1), tensor(77), tensor(16), tensor(59), tensor(94), tensor(235), tensor(15), tensor(162), tensor(8), tensor(486), tensor(144), tensor(11), tensor(633), tensor(36), tensor(103), tensor(156), tensor(82), tensor(60), tensor(329), tensor(415), tensor(46), tensor(46), tensor(24), tensor(277), tensor(600), tensor(35), tensor(31), tensor(468)]\n"
     ]
    },
    {
     "name": "stderr",
     "output_type": "stream",
     "text": [
      " 36%|███████████████████████████████████████████████████████████████████▊                                                                                                                        | 339/940 [00:11<00:22, 26.82it/s]"
     ]
    },
    {
     "name": "stdout",
     "output_type": "stream",
     "text": [
      "[tensor(25), tensor(3), tensor(184), tensor(250), tensor(47), tensor(11), tensor(3), tensor(18), tensor(406), tensor(14), tensor(34), tensor(13), tensor(20), tensor(503), tensor(503), tensor(14), tensor(306), tensor(15), tensor(833), tensor(33), tensor(3), tensor(80), tensor(6), tensor(9), tensor(17), tensor(662), tensor(184), tensor(303), tensor(937), tensor(7)]\n",
      "[tensor(5), tensor(18), tensor(18), tensor(74), tensor(14), tensor(38), tensor(94), tensor(65), tensor(20), tensor(178), tensor(25), tensor(29), tensor(29), tensor(125), tensor(124), tensor(211), tensor(333), tensor(171), tensor(179), tensor(106), tensor(99), tensor(9), tensor(180), tensor(411), tensor(66), tensor(319), tensor(353), tensor(269), tensor(86), tensor(72)]\n",
      "[tensor(76), tensor(218), tensor(188), tensor(128), tensor(152), tensor(58), tensor(257), tensor(203), tensor(174), tensor(391), tensor(265), tensor(345), tensor(624), tensor(133), tensor(61), tensor(388), tensor(69), tensor(193), tensor(111), tensor(437), tensor(482), tensor(275), tensor(275), tensor(181), tensor(87), tensor(291), tensor(431), tensor(113), tensor(215), tensor(105)]\n",
      "[tensor(25), tensor(41), tensor(55), tensor(42), tensor(4), tensor(240), tensor(690), tensor(650), tensor(166), tensor(466), tensor(206), tensor(86), tensor(74), tensor(336), tensor(106), tensor(438), tensor(759), tensor(449), tensor(815), tensor(626), tensor(700), tensor(271), tensor(657), tensor(156), tensor(299), tensor(403), tensor(310), tensor(394), tensor(574), tensor(921)]\n",
      "[tensor(306), tensor(53), tensor(180), tensor(156), tensor(14), tensor(366), tensor(355), tensor(355), tensor(127), tensor(445), tensor(334), tensor(466), tensor(450), tensor(376), tensor(137), tensor(562), tensor(14), tensor(438), tensor(403), tensor(166), tensor(179), tensor(179), tensor(271), tensor(167), tensor(167), tensor(159), tensor(135), tensor(20), tensor(20), tensor(20)]\n",
      "[tensor(87), tensor(248), tensor(235), tensor(690), tensor(51), tensor(54), tensor(50), tensor(362), tensor(290), tensor(411), tensor(21), tensor(10), tensor(65), tensor(1), tensor(4), tensor(279), tensor(26), tensor(13), tensor(100), tensor(155), tensor(670), tensor(98), tensor(327), tensor(17), tensor(706), tensor(23), tensor(83), tensor(132), tensor(917), tensor(135)]\n"
     ]
    },
    {
     "name": "stderr",
     "output_type": "stream",
     "text": [
      " 37%|█████████████████████████████████████████████████████████████████████                                                                                                                       | 345/940 [00:11<00:22, 26.87it/s]"
     ]
    },
    {
     "name": "stdout",
     "output_type": "stream",
     "text": [
      "[tensor(88), tensor(14), tensor(5), tensor(96), tensor(12), tensor(537), tensor(7), tensor(9), tensor(6), tensor(108), tensor(40), tensor(778), tensor(122), tensor(6), tensor(2), tensor(35), tensor(899), tensor(342), tensor(74), tensor(32), tensor(4), tensor(19), tensor(22), tensor(94), tensor(76), tensor(388), tensor(86), tensor(67), tensor(133), tensor(388)]\n",
      "[tensor(31), tensor(91), tensor(621), tensor(60), tensor(113), tensor(92), tensor(510), tensor(405), tensor(211), tensor(388), tensor(368), tensor(561), tensor(266), tensor(783), tensor(184), tensor(278), tensor(440), tensor(186), tensor(538), tensor(161), tensor(218), tensor(603), tensor(637), tensor(710), tensor(295), tensor(294), tensor(811), tensor(184), tensor(241), tensor(205)]\n",
      "[tensor(7), tensor(3), tensor(74), tensor(169), tensor(54), tensor(209), tensor(54), tensor(33), tensor(95), tensor(16), tensor(72), tensor(188), tensor(48), tensor(206), tensor(353), tensor(3), tensor(3), tensor(25), tensor(120), tensor(23), tensor(97), tensor(281), tensor(528), tensor(604), tensor(58), tensor(20), tensor(419), tensor(26), tensor(420), tensor(341)]\n",
      "[tensor(7), tensor(18), tensor(32), tensor(528), tensor(110), tensor(83), tensor(234), tensor(420), tensor(262), tensor(129), tensor(106), tensor(267), tensor(588), tensor(101), tensor(606), tensor(445), tensor(337), tensor(689), tensor(142), tensor(176), tensor(654), tensor(374), tensor(209), tensor(429), tensor(702), tensor(407), tensor(826), tensor(538), tensor(277), tensor(329)]\n",
      "[tensor(46), tensor(88), tensor(225), tensor(175), tensor(307), tensor(177), tensor(102), tensor(495), tensor(579), tensor(565), tensor(578), tensor(83), tensor(107), tensor(95), tensor(665), tensor(557), tensor(432), tensor(611), tensor(624), tensor(658), tensor(459), tensor(217), tensor(719), tensor(656), tensor(560), tensor(496), tensor(592), tensor(393), tensor(597), tensor(313)]\n",
      "[tensor(18), tensor(22), tensor(63), tensor(110), tensor(124), tensor(136), tensor(174), tensor(259), tensor(234), tensor(287), tensor(325), tensor(114), tensor(272), tensor(371), tensor(587), tensor(170), tensor(508), tensor(266), tensor(556), tensor(268), tensor(274), tensor(532), tensor(441), tensor(353), tensor(506), tensor(458), tensor(552), tensor(623), tensor(347), tensor(469)]\n"
     ]
    },
    {
     "name": "stderr",
     "output_type": "stream",
     "text": [
      " 37%|██████████████████████████████████████████████████████████████████████▏                                                                                                                     | 351/940 [00:11<00:21, 27.51it/s]"
     ]
    },
    {
     "name": "stdout",
     "output_type": "stream",
     "text": [
      "[tensor(1), tensor(4), tensor(13), tensor(23), tensor(38), tensor(170), tensor(214), tensor(209), tensor(87), tensor(297), tensor(165), tensor(97), tensor(74), tensor(518), tensor(145), tensor(294), tensor(111), tensor(201), tensor(105), tensor(76), tensor(93), tensor(93), tensor(557), tensor(436), tensor(270), tensor(465), tensor(236), tensor(380), tensor(549), tensor(107)]\n",
      "[tensor(6), tensor(57), tensor(313), tensor(105), tensor(77), tensor(514), tensor(312), tensor(617), tensor(17), tensor(48), tensor(785), tensor(27), tensor(53), tensor(2), tensor(55), tensor(326), tensor(156), tensor(450), tensor(154), tensor(49), tensor(201), tensor(619), tensor(160), tensor(292), tensor(30), tensor(104), tensor(151), tensor(162), tensor(254), tensor(275)]\n",
      "[tensor(272), tensor(175), tensor(79), tensor(230), tensor(89), tensor(60), tensor(445), tensor(156), tensor(193), tensor(174), tensor(322), tensor(207), tensor(682), tensor(474), tensor(782), tensor(90), tensor(777), tensor(286), tensor(612), tensor(817), tensor(762), tensor(220), tensor(801), tensor(261), tensor(323), tensor(118), tensor(597), tensor(216), tensor(445), tensor(361)]\n",
      "[tensor(5), tensor(33), tensor(108), tensor(128), tensor(240), tensor(37), tensor(173), tensor(33), tensor(691), tensor(304), tensor(498), tensor(403), tensor(150), tensor(33), tensor(842), tensor(142), tensor(145), tensor(236), tensor(130), tensor(740), tensor(740), tensor(75), tensor(355), tensor(266), tensor(778), tensor(222), tensor(835), tensor(247), tensor(302), tensor(740)]\n",
      "[tensor(6), tensor(14), tensor(186), tensor(126), tensor(126), tensor(18), tensor(438), tensor(456), tensor(170), tensor(138), tensor(639), tensor(272), tensor(198), tensor(830), tensor(307), tensor(187), tensor(64), tensor(360), tensor(670), tensor(485), tensor(508), tensor(208), tensor(783), tensor(862), tensor(662), tensor(655), tensor(608), tensor(752), tensor(651), tensor(429)]\n",
      "[tensor(560), tensor(46), tensor(777), tensor(698), tensor(781), tensor(412), tensor(514), tensor(453), tensor(329), tensor(572), tensor(547), tensor(191), tensor(284), tensor(266), tensor(745), tensor(326), tensor(13), tensor(174), tensor(214), tensor(139), tensor(31), tensor(246), tensor(210), tensor(395), tensor(395), tensor(150), tensor(150), tensor(142), tensor(187), tensor(216)]\n"
     ]
    },
    {
     "name": "stderr",
     "output_type": "stream",
     "text": [
      " 38%|███████████████████████████████████████████████████████████████████████▍                                                                                                                    | 357/940 [00:12<00:21, 27.40it/s]"
     ]
    },
    {
     "name": "stdout",
     "output_type": "stream",
     "text": [
      "[tensor(13), tensor(55), tensor(24), tensor(86), tensor(285), tensor(265), tensor(18), tensor(407), tensor(312), tensor(58), tensor(148), tensor(57), tensor(47), tensor(154), tensor(188), tensor(77), tensor(303), tensor(247), tensor(89), tensor(232), tensor(292), tensor(241), tensor(77), tensor(163), tensor(315), tensor(324), tensor(226), tensor(827), tensor(212), tensor(514)]\n",
      "[tensor(42), tensor(117), tensor(195), tensor(248), tensor(276), tensor(176), tensor(411), tensor(195), tensor(248), tensor(663), tensor(521), tensor(396), tensor(805), tensor(579), tensor(473), tensor(621), tensor(721), tensor(673), tensor(617), tensor(785), tensor(755), tensor(783)]\n",
      "[tensor(3), tensor(8), tensor(21), tensor(18), tensor(144), tensor(51), tensor(28), tensor(169), tensor(68), tensor(2), tensor(133), tensor(296), tensor(304), tensor(248), tensor(307), tensor(307), tensor(72), tensor(310), tensor(285), tensor(161), tensor(287), tensor(338), tensor(48), tensor(65), tensor(63), tensor(40), tensor(259), tensor(528), tensor(528), tensor(528)]\n",
      "[tensor(767), tensor(603), tensor(32), tensor(334), tensor(231), tensor(155), tensor(231), tensor(126), tensor(702), tensor(762), tensor(613), tensor(78), tensor(176), tensor(468), tensor(263), tensor(253), tensor(551), tensor(893), tensor(722), tensor(694), tensor(322), tensor(289), tensor(597), tensor(472), tensor(648), tensor(390), tensor(277), tensor(677), tensor(366), tensor(838)]\n",
      "[tensor(78), tensor(399), tensor(443), tensor(13), tensor(49), tensor(58), tensor(712), tensor(148), tensor(194), tensor(112), tensor(130), tensor(574), tensor(644), tensor(130), tensor(122), tensor(122), tensor(412), tensor(87), tensor(126), tensor(787), tensor(137), tensor(107), tensor(173), tensor(378), tensor(761), tensor(143), tensor(247), tensor(657), tensor(330), tensor(768)]\n",
      "[tensor(58), tensor(53), tensor(29), tensor(40), tensor(146), tensor(21), tensor(203), tensor(138), tensor(342), tensor(369), tensor(4), tensor(293), tensor(293), tensor(171), tensor(440), tensor(191), tensor(30), tensor(474), tensor(151), tensor(143), tensor(490), tensor(203), tensor(49), tensor(119), tensor(194), tensor(150), tensor(46), tensor(15), tensor(51), tensor(293)]\n"
     ]
    },
    {
     "name": "stderr",
     "output_type": "stream",
     "text": [
      " 39%|████████████████████████████████████████████████████████████████████████▌                                                                                                                   | 363/940 [00:12<00:20, 27.97it/s]"
     ]
    },
    {
     "name": "stdout",
     "output_type": "stream",
     "text": [
      "[tensor(67), tensor(43), tensor(62), tensor(132), tensor(149), tensor(159), tensor(95), tensor(243), tensor(213), tensor(97), tensor(303), tensor(46), tensor(126), tensor(225), tensor(444), tensor(104), tensor(27), tensor(27), tensor(144), tensor(103), tensor(104), tensor(104), tensor(337), tensor(531), tensor(27), tensor(27), tensor(479), tensor(227), tensor(242), tensor(109)]\n",
      "[tensor(1), tensor(42), tensor(7), tensor(14), tensor(2), tensor(40), tensor(6), tensor(131), tensor(382), tensor(5), tensor(265), tensor(17), tensor(1), tensor(14), tensor(706), tensor(9), tensor(16), tensor(355), tensor(505), tensor(33), tensor(272), tensor(103), tensor(47), tensor(767), tensor(148), tensor(34), tensor(518), tensor(55), tensor(69), tensor(72)]\n",
      "[tensor(75), tensor(90), tensor(115), tensor(128), tensor(62), tensor(65), tensor(115), tensor(75), tensor(75), tensor(54), tensor(170), tensor(66), tensor(123), tensor(198), tensor(213), tensor(218), tensor(182), tensor(182), tensor(285), tensor(179), tensor(232), tensor(313), tensor(163), tensor(362), tensor(184), tensor(227), tensor(178), tensor(191), tensor(119), tensor(170)]\n",
      "[tensor(9), tensor(54), tensor(35), tensor(63), tensor(16), tensor(129), tensor(83), tensor(72), tensor(276), tensor(199), tensor(29), tensor(22), tensor(298), tensor(249), tensor(307), tensor(94), tensor(266), tensor(56), tensor(76), tensor(380), tensor(84), tensor(514), tensor(122), tensor(434), tensor(166), tensor(179), tensor(121), tensor(272), tensor(95), tensor(95)]\n",
      "[tensor(30), tensor(248), tensor(282), tensor(265), tensor(180), tensor(365), tensor(295), tensor(181), tensor(267), tensor(306), tensor(416), tensor(168), tensor(458), tensor(319), tensor(300), tensor(378), tensor(534), tensor(408), tensor(329), tensor(493), tensor(304), tensor(501), tensor(593), tensor(522), tensor(495), tensor(436), tensor(764), tensor(339), tensor(715), tensor(483)]\n",
      "[tensor(4), tensor(55), tensor(88), tensor(371), tensor(44), tensor(486), tensor(155), tensor(650), tensor(31), tensor(507), tensor(45), tensor(141), tensor(518), tensor(144), tensor(94), tensor(246), tensor(312), tensor(139), tensor(363), tensor(363), tensor(450), tensor(99), tensor(672), tensor(616), tensor(227), tensor(319), tensor(303), tensor(108), tensor(322), tensor(413)]\n"
     ]
    },
    {
     "name": "stderr",
     "output_type": "stream",
     "text": [
      " 39%|█████████████████████████████████████████████████████████████████████████▊                                                                                                                  | 369/940 [00:12<00:19, 28.56it/s]"
     ]
    },
    {
     "name": "stdout",
     "output_type": "stream",
     "text": [
      "[tensor(3), tensor(12), tensor(40), tensor(60), tensor(63), tensor(66), tensor(88), tensor(107), tensor(95), tensor(38), tensor(134), tensor(64), tensor(115), tensor(139), tensor(221), tensor(141), tensor(129), tensor(324), tensor(233), tensor(164), tensor(373), tensor(211), tensor(87), tensor(9), tensor(9), tensor(58), tensor(168), tensor(214), tensor(309), tensor(681)]\n",
      "[tensor(88), tensor(90), tensor(23), tensor(370), tensor(392), tensor(55), tensor(337), tensor(577), tensor(351), tensor(352), tensor(103), tensor(142), tensor(187), tensor(38), tensor(408), tensor(680), tensor(37), tensor(85), tensor(234), tensor(392), tensor(567), tensor(206), tensor(127), tensor(248), tensor(403), tensor(517), tensor(24), tensor(103), tensor(92), tensor(46)]\n",
      "[tensor(167), tensor(19), tensor(397), tensor(621), tensor(75), tensor(20), tensor(54), tensor(329), tensor(33), tensor(36), tensor(30), tensor(25), tensor(6), tensor(16), tensor(809), tensor(182), tensor(320), tensor(278), tensor(199), tensor(55), tensor(222), tensor(22), tensor(659), tensor(416), tensor(178), tensor(560), tensor(67), tensor(339), tensor(235), tensor(937)]\n",
      "[tensor(247), tensor(30), tensor(249), tensor(425), tensor(242), tensor(97), tensor(419), tensor(16), tensor(467), tensor(227), tensor(904), tensor(12), tensor(525), tensor(525), tensor(320), tensor(324), tensor(264), tensor(611), tensor(815), tensor(520), tensor(520), tensor(736), tensor(74), tensor(864), tensor(556), tensor(575), tensor(690), tensor(597), tensor(614), tensor(249)]\n",
      "[tensor(10), tensor(22), tensor(16), tensor(103), tensor(28), tensor(6), tensor(83), tensor(21), tensor(156), tensor(53), tensor(12), tensor(44), tensor(8), tensor(8), tensor(20), tensor(5), tensor(5), tensor(6), tensor(2), tensor(394), tensor(42), tensor(89), tensor(239), tensor(149), tensor(36), tensor(314), tensor(88), tensor(88), tensor(451), tensor(480)]\n",
      "[tensor(45), tensor(120), tensor(41), tensor(119), tensor(82), tensor(235), tensor(224), tensor(123), tensor(124), tensor(324), tensor(182), tensor(324), tensor(22), tensor(667), tensor(32), tensor(15), tensor(15), tensor(626), tensor(86), tensor(69), tensor(27), tensor(831), tensor(127), tensor(102), tensor(319), tensor(563), tensor(105), tensor(105), tensor(44), tensor(100)]\n"
     ]
    },
    {
     "name": "stderr",
     "output_type": "stream",
     "text": [
      " 40%|███████████████████████████████████████████████████████████████████████████                                                                                                                 | 375/940 [00:12<00:19, 28.59it/s]"
     ]
    },
    {
     "name": "stdout",
     "output_type": "stream",
     "text": [
      "[tensor(2), tensor(56), tensor(26), tensor(214), tensor(58), tensor(200), tensor(90), tensor(328), tensor(327), tensor(321), tensor(7), tensor(399), tensor(393), tensor(312), tensor(213), tensor(19), tensor(397), tensor(399), tensor(457), tensor(17), tensor(563), tensor(314), tensor(314), tensor(440), tensor(46), tensor(431), tensor(25), tensor(444), tensor(235), tensor(344)]\n",
      "[tensor(411), tensor(345), tensor(102), tensor(537), tensor(8), tensor(119), tensor(22), tensor(777), tensor(589), tensor(97), tensor(117), tensor(129), tensor(170), tensor(660), tensor(118), tensor(649), tensor(195), tensor(673), tensor(99), tensor(844), tensor(114), tensor(199), tensor(898), tensor(256), tensor(465), tensor(253), tensor(924), tensor(137), tensor(858), tensor(472)]\n",
      "[tensor(29), tensor(18), tensor(18), tensor(84), tensor(149), tensor(17), tensor(384), tensor(267), tensor(168), tensor(245), tensor(41), tensor(170), tensor(508), tensor(24), tensor(147), tensor(208), tensor(537), tensor(188), tensor(48), tensor(480), tensor(14), tensor(675), tensor(113), tensor(271), tensor(132), tensor(241), tensor(253), tensor(134), tensor(608), tensor(595)]\n",
      "[tensor(3), tensor(7), tensor(32), tensor(37), tensor(17), tensor(1), tensor(6), tensor(29), tensor(72), tensor(87), tensor(158), tensor(52), tensor(163), tensor(205), tensor(214), tensor(185), tensor(8), tensor(22), tensor(4), tensor(228), tensor(41), tensor(255), tensor(8), tensor(8), tensor(58), tensor(11), tensor(425), tensor(54), tensor(289), tensor(289)]\n",
      "[tensor(92), tensor(183), tensor(551), tensor(42), tensor(222), tensor(292), tensor(491), tensor(694), tensor(682), tensor(406), tensor(132), tensor(388), tensor(111), tensor(726), tensor(615), tensor(108), tensor(196), tensor(216), tensor(665), tensor(878), tensor(272), tensor(619), tensor(532), tensor(834), tensor(604), tensor(245), tensor(227), tensor(714), tensor(237), tensor(256)]\n",
      "[tensor(86), tensor(171), tensor(333), tensor(453), tensor(417), tensor(186), tensor(435), tensor(346), tensor(397), tensor(256), tensor(156), tensor(293), tensor(512), tensor(600), tensor(98), tensor(747), tensor(405), tensor(464), tensor(122), tensor(595), tensor(707), tensor(707), tensor(314), tensor(100), tensor(371), tensor(402), tensor(350), tensor(646), tensor(548), tensor(638)]\n"
     ]
    },
    {
     "name": "stderr",
     "output_type": "stream",
     "text": [
      " 41%|████████████████████████████████████████████████████████████████████████████▍                                                                                                               | 382/940 [00:12<00:19, 29.32it/s]"
     ]
    },
    {
     "name": "stdout",
     "output_type": "stream",
     "text": [
      "[tensor(22), tensor(2), tensor(247), tensor(224), tensor(571), tensor(78), tensor(353), tensor(150), tensor(596), tensor(60), tensor(451), tensor(622), tensor(79), tensor(807), tensor(696), tensor(634), tensor(20), tensor(16), tensor(681), tensor(115), tensor(138), tensor(667), tensor(62), tensor(612), tensor(80), tensor(22), tensor(610), tensor(610), tensor(257), tensor(48)]\n",
      "[tensor(342), tensor(461), tensor(326), tensor(13), tensor(442), tensor(254), tensor(71), tensor(409), tensor(582), tensor(4), tensor(746), tensor(433), tensor(38), tensor(14), tensor(488), tensor(652), tensor(589), tensor(413), tensor(23), tensor(19), tensor(49), tensor(309), tensor(14), tensor(74), tensor(702), tensor(91), tensor(805), tensor(648), tensor(844), tensor(893)]\n",
      "[tensor(143), tensor(261), tensor(432), tensor(168), tensor(145), tensor(592), tensor(48), tensor(260), tensor(77), tensor(417), tensor(119), tensor(150), tensor(385), tensor(385), tensor(9), tensor(26), tensor(26), tensor(557), tensor(630), tensor(630), tensor(357), tensor(461), tensor(544), tensor(223), tensor(17), tensor(222), tensor(222), tensor(610), tensor(157), tensor(120)]\n",
      "[tensor(6), tensor(204), tensor(130), tensor(68), tensor(219), tensor(163), tensor(179), tensor(127), tensor(164), tensor(182), tensor(258), tensor(390), tensor(102), tensor(532), tensor(337), tensor(591), tensor(29), tensor(554), tensor(96), tensor(135), tensor(178), tensor(178), tensor(81), tensor(59), tensor(123), tensor(85), tensor(262), tensor(556), tensor(94), tensor(280)]\n",
      "[tensor(430), tensor(79), tensor(193), tensor(369), tensor(31), tensor(635), tensor(722), tensor(337), tensor(62), tensor(156), tensor(107), tensor(460), tensor(482), tensor(18), tensor(560), tensor(526), tensor(346), tensor(780), tensor(268), tensor(260), tensor(446), tensor(376), tensor(380), tensor(538), tensor(677), tensor(285), tensor(627), tensor(370), tensor(777), tensor(303)]\n",
      "[tensor(5), tensor(40), tensor(40), tensor(57), tensor(119), tensor(43), tensor(54), tensor(41), tensor(32), tensor(126), tensor(2), tensor(213), tensor(229), tensor(385), tensor(252), tensor(171), tensor(65), tensor(258), tensor(374), tensor(381), tensor(449), tensor(311), tensor(458), tensor(31), tensor(57), tensor(205), tensor(422), tensor(119), tensor(38), tensor(60)]\n"
     ]
    },
    {
     "name": "stderr",
     "output_type": "stream",
     "text": [
      " 41%|█████████████████████████████████████████████████████████████████████████████▌                                                                                                              | 388/940 [00:13<00:19, 28.05it/s]"
     ]
    },
    {
     "name": "stdout",
     "output_type": "stream",
     "text": [
      "[tensor(17), tensor(31), tensor(48), tensor(21), tensor(48), tensor(93), tensor(190), tensor(130), tensor(175), tensor(197), tensor(337), tensor(143), tensor(55), tensor(44), tensor(398), tensor(188), tensor(188), tensor(17), tensor(92), tensor(144), tensor(87), tensor(220), tensor(435), tensor(46), tensor(140), tensor(622), tensor(499), tensor(58), tensor(205), tensor(124)]\n",
      "[tensor(26), tensor(73), tensor(22), tensor(83), tensor(44), tensor(65), tensor(108), tensor(127), tensor(184), tensor(17), tensor(189), tensor(169), tensor(268), tensor(134), tensor(256), tensor(147), tensor(123), tensor(66), tensor(351), tensor(193), tensor(73), tensor(509), tensor(48), tensor(110), tensor(72), tensor(89), tensor(89), tensor(99), tensor(280), tensor(272)]\n",
      "[tensor(106), tensor(57), tensor(102), tensor(137), tensor(193), tensor(93), tensor(151), tensor(311), tensor(316), tensor(248), tensor(186), tensor(211), tensor(82), tensor(286), tensor(235), tensor(366), tensor(426), tensor(323), tensor(139), tensor(202), tensor(303), tensor(539), tensor(193), tensor(186), tensor(374), tensor(235), tensor(124), tensor(526), tensor(408), tensor(556)]\n",
      "[tensor(44), tensor(3), tensor(64), tensor(34), tensor(35), tensor(375), tensor(203), tensor(27), tensor(805), tensor(716), tensor(18), tensor(14), tensor(29), tensor(407), tensor(24), tensor(47), tensor(699), tensor(38), tensor(232), tensor(81), tensor(507), tensor(23), tensor(738), tensor(29), tensor(155), tensor(267), tensor(605), tensor(35), tensor(126), tensor(233)]\n",
      "[tensor(41), tensor(435), tensor(149), tensor(162), tensor(492), tensor(151), tensor(398), tensor(453), tensor(529), tensor(597), tensor(125), tensor(456), tensor(587), tensor(369), tensor(675), tensor(454), tensor(599), tensor(349), tensor(493), tensor(274), tensor(659), tensor(749), tensor(567), tensor(429), tensor(724), tensor(341), tensor(575), tensor(320), tensor(583), tensor(448)]\n",
      "[tensor(31), tensor(85), tensor(66), tensor(114), tensor(133), tensor(111), tensor(26), tensor(97), tensor(81), tensor(176), tensor(19), tensor(10), tensor(32), tensor(75), tensor(39), tensor(332), tensor(104), tensor(294), tensor(247), tensor(73), tensor(250), tensor(38), tensor(23), tensor(23), tensor(23), tensor(610), tensor(311), tensor(239), tensor(312), tensor(152)]\n"
     ]
    },
    {
     "name": "stderr",
     "output_type": "stream",
     "text": [
      " 42%|███████████████████████████████████████████████████████████████████████████████                                                                                                             | 395/940 [00:13<00:18, 28.90it/s]"
     ]
    },
    {
     "name": "stdout",
     "output_type": "stream",
     "text": [
      "[tensor(47), tensor(38), tensor(75), tensor(50), tensor(98), tensor(213), tensor(166), tensor(278), tensor(325), tensor(269), tensor(219), tensor(324), tensor(293), tensor(226), tensor(274), tensor(164), tensor(293), tensor(143), tensor(306), tensor(215), tensor(291), tensor(363), tensor(173), tensor(383), tensor(345), tensor(286), tensor(254), tensor(254), tensor(122), tensor(187)]\n",
      "[tensor(7), tensor(17), tensor(49), tensor(1), tensor(291), tensor(134), tensor(15), tensor(91), tensor(112), tensor(211), tensor(189), tensor(145), tensor(712), tensor(48), tensor(75), tensor(172), tensor(46), tensor(49), tensor(411), tensor(62), tensor(46), tensor(345), tensor(645), tensor(211), tensor(47), tensor(909), tensor(73), tensor(634), tensor(212), tensor(838)]\n",
      "[tensor(190), tensor(387), tensor(182), tensor(15), tensor(95), tensor(369), tensor(313), tensor(270), tensor(116), tensor(19), tensor(82), tensor(40), tensor(252), tensor(252), tensor(97), tensor(75), tensor(80), tensor(562), tensor(614), tensor(712), tensor(535), tensor(34), tensor(535), tensor(394), tensor(11), tensor(347), tensor(5), tensor(5), tensor(236), tensor(343)]\n",
      "[tensor(61), tensor(46), tensor(114), tensor(188), tensor(157), tensor(127), tensor(31), tensor(580), tensor(446), tensor(22), tensor(63), tensor(71), tensor(760), tensor(95), tensor(63), tensor(287), tensor(577), tensor(462), tensor(396), tensor(345), tensor(168), tensor(577), tensor(241), tensor(324), tensor(646), tensor(680), tensor(785), tensor(851), tensor(198), tensor(594)]\n",
      "[tensor(10), tensor(16), tensor(50), tensor(68), tensor(225), tensor(273), tensor(30), tensor(125), tensor(387), tensor(634), tensor(266), tensor(99), tensor(49), tensor(461), tensor(251), tensor(59), tensor(75), tensor(838), tensor(143), tensor(649), tensor(554), tensor(554), tensor(308), tensor(635), tensor(195), tensor(172), tensor(78), tensor(72), tensor(107), tensor(162)]\n",
      "[tensor(5), tensor(5), tensor(5), tensor(6), tensor(2), tensor(66), tensor(8), tensor(7), tensor(18), tensor(168), tensor(250), tensor(19), tensor(149), tensor(338), tensor(207), tensor(250), tensor(204), tensor(29), tensor(33), tensor(308), tensor(258), tensor(253), tensor(16), tensor(42), tensor(50), tensor(29), tensor(31), tensor(355), tensor(122), tensor(72)]\n"
     ]
    },
    {
     "name": "stderr",
     "output_type": "stream",
     "text": [
      " 42%|███████████████████████████████████████████████████████████████████████████████▌                                                                                                            | 398/940 [00:13<00:19, 28.10it/s]"
     ]
    },
    {
     "name": "stdout",
     "output_type": "stream",
     "text": [
      "[tensor(2), tensor(67), tensor(34), tensor(39), tensor(101), tensor(86), tensor(103), tensor(91), tensor(148), tensor(60), tensor(173), tensor(173), tensor(173), tensor(67), tensor(182), tensor(202), tensor(36), tensor(76), tensor(321), tensor(267), tensor(308), tensor(38), tensor(39), tensor(123), tensor(480), tensor(98), tensor(266), tensor(112), tensor(112), tensor(79)]\n",
      "[tensor(32), tensor(10), tensor(6), tensor(94), tensor(89), tensor(99), tensor(148), tensor(56), tensor(97), tensor(113), tensor(257), tensor(180), tensor(106), tensor(79), tensor(148), tensor(184), tensor(248), tensor(63), tensor(178), tensor(186), tensor(455), tensor(235), tensor(219), tensor(213), tensor(567), tensor(228), tensor(147), tensor(494), tensor(345), tensor(301)]\n",
      "[tensor(162), tensor(241), tensor(185), tensor(191), tensor(353), tensor(250), tensor(308), tensor(217), tensor(264), tensor(336), tensor(242), tensor(244), tensor(541), tensor(323), tensor(484), tensor(293), tensor(469), tensor(159), tensor(230), tensor(573), tensor(122), tensor(389), tensor(304), tensor(664), tensor(461), tensor(225), tensor(497), tensor(436), tensor(528), tensor(644)]\n",
      "[tensor(5), tensor(43), tensor(12), tensor(44), tensor(19), tensor(45), tensor(34), tensor(15), tensor(93), tensor(56), tensor(49), tensor(93), tensor(48), tensor(135), tensor(80), tensor(32), tensor(128), tensor(82), tensor(132), tensor(119), tensor(93), tensor(167), tensor(75), tensor(162), tensor(378), tensor(322), tensor(278), tensor(242), tensor(233), tensor(186)]\n",
      "[tensor(7), tensor(2), tensor(75), tensor(5), tensor(175), tensor(193), tensor(138), tensor(67), tensor(1), tensor(1), tensor(280), tensor(39), tensor(147), tensor(64), tensor(2), tensor(13), tensor(13), tensor(13), tensor(20), tensor(300), tensor(246), tensor(307), tensor(287), tensor(36), tensor(4), tensor(7), tensor(13), tensor(459), tensor(13), tensor(138)]\n",
      "[tensor(149), tensor(345), tensor(681), tensor(80), tensor(48), tensor(57), tensor(880), tensor(58), tensor(219), tensor(14), tensor(79), tensor(761), tensor(502), tensor(533), tensor(192), tensor(225), tensor(916), tensor(858), tensor(297), tensor(159), tensor(755), tensor(822)]\n"
     ]
    },
    {
     "name": "stderr",
     "output_type": "stream",
     "text": [
      " 43%|████████████████████████████████████████████████████████████████████████████████▊                                                                                                           | 404/940 [00:13<00:19, 27.59it/s]"
     ]
    },
    {
     "name": "stdout",
     "output_type": "stream",
     "text": [
      "[tensor(19), tensor(557), tensor(651), tensor(36), tensor(283), tensor(864), tensor(87), tensor(639), tensor(129), tensor(630), tensor(517), tensor(440), tensor(449), tensor(291), tensor(876), tensor(830), tensor(758), tensor(156), tensor(401), tensor(215), tensor(335), tensor(677), tensor(407), tensor(407), tensor(350), tensor(857), tensor(877), tensor(620), tensor(584), tensor(678)]\n",
      "[tensor(10), tensor(22), tensor(43), tensor(103), tensor(92), tensor(214), tensor(167), tensor(230), tensor(88), tensor(309), tensor(107), tensor(148), tensor(139), tensor(102), tensor(163), tensor(148), tensor(593), tensor(576), tensor(450), tensor(139), tensor(203), tensor(499), tensor(203), tensor(129), tensor(292), tensor(587), tensor(333), tensor(574), tensor(375), tensor(648)]\n",
      "[tensor(153), tensor(185), tensor(83), tensor(266), tensor(198), tensor(74), tensor(159), tensor(275), tensor(655), tensor(162), tensor(399), tensor(515), tensor(52), tensor(475), tensor(206), tensor(135), tensor(121), tensor(121), tensor(504), tensor(459), tensor(412), tensor(616), tensor(571), tensor(474), tensor(120), tensor(355), tensor(365), tensor(161), tensor(352), tensor(455)]\n",
      "[tensor(56), tensor(96), tensor(195), tensor(140), tensor(215), tensor(211), tensor(239), tensor(320), tensor(384), tensor(307), tensor(456), tensor(404), tensor(271), tensor(443), tensor(170), tensor(450), tensor(488), tensor(166), tensor(164), tensor(164), tensor(380), tensor(401), tensor(104), tensor(86), tensor(167), tensor(637), tensor(424), tensor(15), tensor(191), tensor(348)]\n",
      "[tensor(45), tensor(274), tensor(61), tensor(177), tensor(225), tensor(675), tensor(145), tensor(346), tensor(135), tensor(672), tensor(59), tensor(75), tensor(72), tensor(314), tensor(285), tensor(633), tensor(275), tensor(253), tensor(146), tensor(799), tensor(543), tensor(863), tensor(146), tensor(168), tensor(234), tensor(867), tensor(238), tensor(909), tensor(194), tensor(234)]\n",
      "[tensor(58), tensor(45), tensor(134), tensor(53), tensor(129), tensor(103), tensor(98), tensor(122), tensor(213), tensor(183), tensor(26), tensor(89), tensor(481), tensor(83), tensor(359), tensor(328), tensor(341), tensor(172), tensor(172), tensor(107), tensor(383), tensor(547), tensor(477), tensor(166), tensor(555), tensor(219), tensor(169), tensor(165), tensor(48), tensor(308)]\n"
     ]
    },
    {
     "name": "stderr",
     "output_type": "stream",
     "text": [
      " 44%|██████████████████████████████████████████████████████████████████████████████████                                                                                                          | 410/940 [00:13<00:19, 27.31it/s]"
     ]
    },
    {
     "name": "stdout",
     "output_type": "stream",
     "text": [
      "[tensor(58), tensor(109), tensor(167), tensor(98), tensor(200), tensor(202), tensor(3), tensor(160), tensor(192), tensor(32), tensor(97), tensor(259), tensor(287), tensor(36), tensor(135), tensor(66), tensor(167), tensor(167), tensor(124), tensor(556), tensor(216), tensor(41), tensor(115), tensor(228), tensor(41), tensor(67), tensor(67), tensor(277), tensor(39), tensor(452)]\n",
      "[tensor(31), tensor(86), tensor(115), tensor(111), tensor(74), tensor(86), tensor(121), tensor(302), tensor(139), tensor(139), tensor(288), tensor(180), tensor(75), tensor(286), tensor(135), tensor(548), tensor(215), tensor(303), tensor(450), tensor(470), tensor(424), tensor(368), tensor(325), tensor(314), tensor(364), tensor(378), tensor(371), tensor(685), tensor(241), tensor(600)]\n",
      "[tensor(4), tensor(82), tensor(173), tensor(147), tensor(24), tensor(401), tensor(320), tensor(24), tensor(426), tensor(48), tensor(93), tensor(79), tensor(750), tensor(774), tensor(486), tensor(486), tensor(306), tensor(121), tensor(106), tensor(361), tensor(256), tensor(273), tensor(112), tensor(100), tensor(531), tensor(112), tensor(501), tensor(276), tensor(478), tensor(839)]\n",
      "[tensor(158), tensor(292), tensor(474), tensor(146), tensor(309), tensor(255), tensor(417), tensor(583), tensor(81), tensor(281), tensor(254), tensor(324), tensor(545), tensor(576), tensor(667), tensor(677), tensor(769), tensor(601), tensor(691), tensor(650), tensor(835), tensor(909)]\n",
      "[tensor(275), tensor(251), tensor(342), tensor(304), tensor(361), tensor(216), tensor(342), tensor(115), tensor(345), tensor(264), tensor(123), tensor(149), tensor(190), tensor(468), tensor(419), tensor(320), tensor(260), tensor(303), tensor(503), tensor(575), tensor(455), tensor(711), tensor(502), tensor(103), tensor(440), tensor(373), tensor(81), tensor(48), tensor(48), tensor(196)]\n",
      "[tensor(29), tensor(33), tensor(26), tensor(178), tensor(95), tensor(371), tensor(26), tensor(45), tensor(381), tensor(576), tensor(362), tensor(462), tensor(99), tensor(659), tensor(364), tensor(111), tensor(86), tensor(353), tensor(414), tensor(166), tensor(747), tensor(741), tensor(135), tensor(520), tensor(309), tensor(392), tensor(149), tensor(149), tensor(614), tensor(464)]\n"
     ]
    },
    {
     "name": "stderr",
     "output_type": "stream",
     "text": [
      " 44%|███████████████████████████████████████████████████████████████████████████████████▏                                                                                                        | 416/940 [00:14<00:18, 27.78it/s]"
     ]
    },
    {
     "name": "stdout",
     "output_type": "stream",
     "text": [
      "[tensor(89), tensor(353), tensor(257), tensor(427), tensor(393), tensor(352), tensor(289), tensor(491), tensor(458), tensor(400), tensor(147), tensor(217), tensor(591), tensor(472), tensor(513), tensor(380), tensor(133), tensor(246), tensor(587), tensor(731), tensor(555), tensor(514), tensor(287), tensor(301), tensor(336), tensor(367), tensor(584), tensor(394), tensor(380), tensor(654)]\n",
      "[tensor(70), tensor(10), tensor(166), tensor(87), tensor(135), tensor(60), tensor(233), tensor(404), tensor(19), tensor(9), tensor(574), tensor(101), tensor(143), tensor(72), tensor(40), tensor(105), tensor(456), tensor(43), tensor(717), tensor(661), tensor(554), tensor(66), tensor(302), tensor(96), tensor(84), tensor(80), tensor(271), tensor(271), tensor(271), tensor(626)]\n",
      "[tensor(31), tensor(122), tensor(353), tensor(15), tensor(215), tensor(24), tensor(372), tensor(118), tensor(212), tensor(152), tensor(352), tensor(783), tensor(169), tensor(39), tensor(131), tensor(780), tensor(686), tensor(76), tensor(233), tensor(233), tensor(203), tensor(564), tensor(101), tensor(95), tensor(134), tensor(654), tensor(213), tensor(213), tensor(725), tensor(667)]\n",
      "[tensor(59), tensor(165), tensor(53), tensor(80), tensor(17), tensor(146), tensor(43), tensor(121), tensor(235), tensor(24), tensor(17), tensor(772), tensor(82), tensor(874), tensor(91), tensor(616), tensor(138), tensor(863), tensor(17), tensor(90), tensor(37), tensor(342), tensor(77), tensor(165), tensor(40), tensor(142), tensor(75), tensor(222), tensor(307), tensor(74)]\n",
      "[tensor(31), tensor(92), tensor(43), tensor(117), tensor(107), tensor(116), tensor(124), tensor(195), tensor(156), tensor(140), tensor(75), tensor(206), tensor(206), tensor(127), tensor(150), tensor(150), tensor(150), tensor(150), tensor(131), tensor(131), tensor(249), tensor(131), tensor(137), tensor(111), tensor(215), tensor(195), tensor(131), tensor(450), tensor(128), tensor(257)]\n",
      "[tensor(123), tensor(99), tensor(216), tensor(1), tensor(90), tensor(24), tensor(160), tensor(128), tensor(449), tensor(13), tensor(367), tensor(903), tensor(101), tensor(77), tensor(27), tensor(13), tensor(11), tensor(96), tensor(23), tensor(5), tensor(269), tensor(121), tensor(179), tensor(15), tensor(107), tensor(97), tensor(557), tensor(150), tensor(921), tensor(59)]\n"
     ]
    },
    {
     "name": "stderr",
     "output_type": "stream",
     "text": [
      " 45%|████████████████████████████████████████████████████████████████████████████████████▍                                                                                                       | 422/940 [00:14<00:18, 27.71it/s]"
     ]
    },
    {
     "name": "stdout",
     "output_type": "stream",
     "text": [
      "[tensor(318), tensor(257), tensor(41), tensor(650), tensor(282), tensor(122), tensor(57), tensor(577), tensor(507), tensor(120), tensor(492), tensor(438), tensor(728), tensor(156), tensor(294), tensor(294), tensor(633), tensor(672), tensor(752), tensor(98), tensor(700), tensor(512), tensor(191), tensor(111), tensor(426), tensor(231), tensor(124), tensor(43), tensor(128), tensor(91)]\n",
      "[tensor(10), tensor(32), tensor(84), tensor(164), tensor(186), tensor(323), tensor(81), tensor(94), tensor(37), tensor(251), tensor(28), tensor(589), tensor(86), tensor(264), tensor(335), tensor(335), tensor(716), tensor(57), tensor(71), tensor(241), tensor(637), tensor(484), tensor(718), tensor(155), tensor(379), tensor(133), tensor(77), tensor(519), tensor(139), tensor(257)]\n",
      "[tensor(67), tensor(88), tensor(94), tensor(180), tensor(137), tensor(150), tensor(150), tensor(202), tensor(182), tensor(201), tensor(249), tensor(118), tensor(477), tensor(275), tensor(367), tensor(467), tensor(164), tensor(169), tensor(164), tensor(189), tensor(570), tensor(433), tensor(353), tensor(446), tensor(516), tensor(243), tensor(243), tensor(251), tensor(321), tensor(280)]\n",
      "[tensor(221), tensor(437), tensor(303), tensor(59), tensor(43), tensor(377), tensor(186), tensor(656), tensor(676), tensor(231), tensor(176), tensor(543), tensor(316), tensor(69), tensor(387), tensor(470), tensor(344), tensor(761), tensor(100), tensor(727), tensor(146), tensor(158), tensor(187), tensor(393), tensor(187), tensor(547), tensor(609), tensor(502), tensor(285), tensor(750)]\n",
      "[tensor(61), tensor(87), tensor(3), tensor(9), tensor(7), tensor(41), tensor(394), tensor(23), tensor(23), tensor(70), tensor(22), tensor(12), tensor(195), tensor(231), tensor(231), tensor(302), tensor(48), tensor(341), tensor(155), tensor(18), tensor(87), tensor(15), tensor(199), tensor(561), tensor(115), tensor(98), tensor(44), tensor(11), tensor(47), tensor(47)]\n",
      "[tensor(22), tensor(131), tensor(160), tensor(230), tensor(184), tensor(318), tensor(325), tensor(217), tensor(190), tensor(352), tensor(376), tensor(188), tensor(188), tensor(188), tensor(313), tensor(387), tensor(387), tensor(518), tensor(374), tensor(391), tensor(243), tensor(388), tensor(198), tensor(368), tensor(118), tensor(396), tensor(533), tensor(174), tensor(444), tensor(467)]\n"
     ]
    },
    {
     "name": "stderr",
     "output_type": "stream",
     "text": [
      " 46%|█████████████████████████████████████████████████████████████████████████████████████▌                                                                                                      | 428/940 [00:14<00:18, 27.33it/s]"
     ]
    },
    {
     "name": "stdout",
     "output_type": "stream",
     "text": [
      "[tensor(27), tensor(23), tensor(62), tensor(165), tensor(151), tensor(319), tensor(446), tensor(428), tensor(191), tensor(187), tensor(252), tensor(94), tensor(99), tensor(558), tensor(273), tensor(533), tensor(215), tensor(105), tensor(674), tensor(631), tensor(212), tensor(219), tensor(535), tensor(164), tensor(584), tensor(625), tensor(246), tensor(182), tensor(428), tensor(331)]\n",
      "[tensor(2), tensor(3), tensor(256), tensor(126), tensor(262), tensor(419), tensor(208), tensor(342), tensor(5), tensor(142), tensor(164), tensor(481), tensor(17), tensor(83), tensor(206), tensor(193), tensor(35), tensor(493), tensor(5), tensor(8), tensor(651), tensor(264), tensor(411), tensor(716), tensor(27), tensor(587), tensor(289), tensor(502), tensor(323), tensor(223)]\n",
      "[tensor(218), tensor(45), tensor(45), tensor(103), tensor(52), tensor(130), tensor(209), tensor(64), tensor(357), tensor(394), tensor(377), tensor(51), tensor(490), tensor(490), tensor(93), tensor(22), tensor(449), tensor(49), tensor(466), tensor(156), tensor(123), tensor(46), tensor(597), tensor(616), tensor(350), tensor(29), tensor(26), tensor(63), tensor(63), tensor(427)]\n",
      "[tensor(109), tensor(89), tensor(15), tensor(83), tensor(14), tensor(19), tensor(528), tensor(220), tensor(189), tensor(130), tensor(317), tensor(37), tensor(56), tensor(166), tensor(26), tensor(108), tensor(147), tensor(295), tensor(251), tensor(56), tensor(747), tensor(153), tensor(153), tensor(308), tensor(499), tensor(522), tensor(522), tensor(536), tensor(442), tensor(134)]\n",
      "[tensor(101), tensor(73), tensor(237), tensor(16), tensor(24), tensor(11), tensor(84), tensor(25), tensor(773), tensor(436), tensor(130), tensor(335), tensor(382), tensor(401), tensor(222), tensor(539), tensor(584), tensor(836), tensor(197), tensor(813), tensor(174), tensor(797), tensor(112), tensor(315), tensor(216), tensor(562), tensor(826), tensor(479), tensor(509), tensor(376)]\n",
      "[tensor(136), tensor(261), tensor(288), tensor(25), tensor(13), tensor(42), tensor(777), tensor(7), tensor(183), tensor(17), tensor(21), tensor(14), tensor(82), tensor(414), tensor(11), tensor(580), tensor(146), tensor(21), tensor(99), tensor(65), tensor(6), tensor(4), tensor(4), tensor(19), tensor(31), tensor(173), tensor(461), tensor(30), tensor(222), tensor(222)]\n"
     ]
    },
    {
     "name": "stderr",
     "output_type": "stream",
     "text": [
      " 46%|███████████████████████████████████████████████████████████████████████████████████████▍                                                                                                    | 437/940 [00:14<00:18, 27.87it/s]"
     ]
    },
    {
     "name": "stdout",
     "output_type": "stream",
     "text": [
      "[tensor(62), tensor(13), tensor(107), tensor(61), tensor(278), tensor(5), tensor(49), tensor(6), tensor(82), tensor(18), tensor(439), tensor(68), tensor(22), tensor(11), tensor(112), tensor(122), tensor(760), tensor(446), tensor(13), tensor(67), tensor(155), tensor(108), tensor(197), tensor(11), tensor(723), tensor(5), tensor(699), tensor(151), tensor(20), tensor(20)]\n",
      "[tensor(31), tensor(128), tensor(362), tensor(346), tensor(285), tensor(353), tensor(386), tensor(386), tensor(71), tensor(71), tensor(33), tensor(235), tensor(309), tensor(294), tensor(434), tensor(400), tensor(440), tensor(140), tensor(35), tensor(497), tensor(25), tensor(368), tensor(15), tensor(72), tensor(768), tensor(747), tensor(258), tensor(90), tensor(97), tensor(497)]\n",
      "[tensor(684), tensor(4), tensor(669), tensor(66), tensor(663), tensor(46), tensor(155), tensor(863), tensor(322), tensor(164), tensor(223), tensor(163), tensor(638), tensor(43), tensor(411), tensor(771), tensor(500), tensor(854), tensor(907), tensor(831), tensor(899), tensor(722)]\n",
      "[tensor(4), tensor(1), tensor(9), tensor(13), tensor(2), tensor(41), tensor(78), tensor(69), tensor(2), tensor(432), tensor(216), tensor(138), tensor(2), tensor(57), tensor(27), tensor(186), tensor(530), tensor(78), tensor(6), tensor(1), tensor(6), tensor(417), tensor(718), tensor(63), tensor(440), tensor(513), tensor(745), tensor(3), tensor(2), tensor(2)]\n",
      "[tensor(45), tensor(33), tensor(226), tensor(97), tensor(182), tensor(136), tensor(196), tensor(176), tensor(176), tensor(344), tensor(206), tensor(147), tensor(107), tensor(220), tensor(398), tensor(419), tensor(278), tensor(489), tensor(48), tensor(472), tensor(286), tensor(52), tensor(289), tensor(173), tensor(426), tensor(463), tensor(296), tensor(296), tensor(69), tensor(29)]\n",
      "[tensor(87), tensor(136), tensor(66), tensor(47), tensor(612), tensor(448), tensor(117), tensor(117), tensor(571), tensor(194), tensor(299), tensor(213), tensor(308), tensor(47), tensor(72), tensor(646), tensor(90), tensor(106), tensor(92), tensor(850), tensor(263), tensor(765), tensor(94), tensor(699), tensor(160), tensor(284), tensor(213), tensor(306), tensor(448), tensor(135)]\n"
     ]
    },
    {
     "name": "stderr",
     "output_type": "stream",
     "text": [
      " 47%|████████████████████████████████████████████████████████████████████████████████████████                                                                                                    | 440/940 [00:15<00:18, 27.07it/s]"
     ]
    },
    {
     "name": "stdout",
     "output_type": "stream",
     "text": [
      "[tensor(4), tensor(66), tensor(125), tensor(125), tensor(260), tensor(371), tensor(143), tensor(348), tensor(204), tensor(424), tensor(345), tensor(141), tensor(235), tensor(354), tensor(462), tensor(307), tensor(70), tensor(438), tensor(214), tensor(432), tensor(392), tensor(202), tensor(90), tensor(44), tensor(44), tensor(113), tensor(142), tensor(223), tensor(402), tensor(315)]\n",
      "[tensor(2), tensor(19), tensor(121), tensor(121), tensor(20), tensor(347), tensor(243), tensor(243), tensor(187), tensor(234), tensor(299), tensor(13), tensor(818), tensor(51), tensor(458), tensor(225), tensor(194), tensor(44), tensor(31), tensor(345), tensor(490), tensor(205), tensor(764), tensor(67), tensor(284), tensor(606), tensor(57), tensor(92), tensor(92), tensor(791)]\n",
      "[tensor(142), tensor(460), tensor(453), tensor(453), tensor(405), tensor(146), tensor(428), tensor(68), tensor(268), tensor(616), tensor(154), tensor(523), tensor(550), tensor(285), tensor(584), tensor(553), tensor(539), tensor(177), tensor(722), tensor(583), tensor(297), tensor(674), tensor(597), tensor(705), tensor(781), tensor(439), tensor(505), tensor(395), tensor(256), tensor(186)]\n",
      "[tensor(59), tensor(60), tensor(112), tensor(126), tensor(11), tensor(65), tensor(24), tensor(489), tensor(816), tensor(176), tensor(67), tensor(123), tensor(182), tensor(790), tensor(170), tensor(118), tensor(147), tensor(794), tensor(612), tensor(108), tensor(178), tensor(794), tensor(121), tensor(856), tensor(293), tensor(318), tensor(784), tensor(608), tensor(398), tensor(564)]\n",
      "[tensor(74), tensor(94), tensor(94), tensor(80), tensor(97), tensor(165), tensor(185), tensor(224), tensor(156), tensor(179), tensor(253), tensor(156), tensor(168), tensor(281), tensor(256), tensor(256), tensor(304), tensor(326), tensor(360), tensor(278), tensor(378), tensor(378), tensor(156), tensor(426), tensor(263), tensor(277), tensor(300), tensor(140), tensor(140), tensor(467)]\n",
      "[tensor(82), tensor(74), tensor(309), tensor(109), tensor(500), tensor(158), tensor(50), tensor(49), tensor(184), tensor(10), tensor(51), tensor(357), tensor(172), tensor(600), tensor(355), tensor(158), tensor(467), tensor(387), tensor(403), tensor(417), tensor(205), tensor(234), tensor(534), tensor(665), tensor(563), tensor(563), tensor(313), tensor(266), tensor(494), tensor(860)]\n"
     ]
    },
    {
     "name": "stderr",
     "output_type": "stream",
     "text": [
      " 47%|█████████████████████████████████████████████████████████████████████████████████████████▏                                                                                                  | 446/940 [00:15<00:17, 27.45it/s]"
     ]
    },
    {
     "name": "stdout",
     "output_type": "stream",
     "text": [
      "[tensor(78), tensor(94), tensor(189), tensor(118), tensor(224), tensor(307), tensor(125), tensor(287), tensor(247), tensor(24), tensor(162), tensor(63), tensor(317), tensor(276), tensor(219), tensor(52), tensor(220), tensor(230), tensor(643), tensor(89), tensor(125), tensor(65), tensor(399), tensor(26), tensor(417), tensor(169), tensor(255), tensor(229), tensor(62), tensor(219)]\n",
      "[tensor(5), tensor(14), tensor(26), tensor(46), tensor(17), tensor(27), tensor(120), tensor(12), tensor(16), tensor(811), tensor(13), tensor(909), tensor(107), tensor(602), tensor(86), tensor(593), tensor(232), tensor(36), tensor(164), tensor(109), tensor(30), tensor(20), tensor(20), tensor(71), tensor(14), tensor(32), tensor(17), tensor(36), tensor(97), tensor(46)]\n",
      "[tensor(2), tensor(19), tensor(23), tensor(27), tensor(38), tensor(14), tensor(28), tensor(54), tensor(54), tensor(65), tensor(77), tensor(98), tensor(88), tensor(247), tensor(247), tensor(179), tensor(163), tensor(319), tensor(100), tensor(210), tensor(112), tensor(90), tensor(90), tensor(234), tensor(384), tensor(77), tensor(77), tensor(75), tensor(214), tensor(67)]\n",
      "[tensor(328), tensor(230), tensor(369), tensor(363), tensor(58), tensor(569), tensor(232), tensor(107), tensor(63), tensor(81), tensor(662), tensor(58), tensor(830), tensor(128), tensor(141), tensor(384), tensor(542), tensor(584), tensor(95), tensor(139), tensor(74), tensor(151), tensor(264), tensor(204), tensor(210), tensor(794), tensor(850), tensor(191), tensor(683), tensor(273)]\n",
      "[tensor(14), tensor(36), tensor(51), tensor(115), tensor(284), tensor(153), tensor(172), tensor(106), tensor(149), tensor(312), tensor(355), tensor(118), tensor(277), tensor(207), tensor(151), tensor(84), tensor(149), tensor(359), tensor(240), tensor(515), tensor(105), tensor(443), tensor(330), tensor(178), tensor(208), tensor(208), tensor(100), tensor(100), tensor(613), tensor(290)]\n",
      "[tensor(52), tensor(29), tensor(273), tensor(536), tensor(7), tensor(109), tensor(77), tensor(135), tensor(99), tensor(105), tensor(794), tensor(123), tensor(790), tensor(626), tensor(646), tensor(372), tensor(756), tensor(83), tensor(313), tensor(147), tensor(728), tensor(414), tensor(34), tensor(741), tensor(92), tensor(68), tensor(152), tensor(473), tensor(426), tensor(111)]\n"
     ]
    },
    {
     "name": "stderr",
     "output_type": "stream",
     "text": [
      " 48%|██████████████████████████████████████████████████████████████████████████████████████████▍                                                                                                 | 452/940 [00:15<00:18, 26.65it/s]"
     ]
    },
    {
     "name": "stdout",
     "output_type": "stream",
     "text": [
      "[tensor(92), tensor(262), tensor(492), tensor(20), tensor(62), tensor(598), tensor(650), tensor(5), tensor(278), tensor(46), tensor(12), tensor(373), tensor(90), tensor(470), tensor(82), tensor(255), tensor(32), tensor(96), tensor(48), tensor(40), tensor(669), tensor(328), tensor(431), tensor(41), tensor(745), tensor(15), tensor(32), tensor(59), tensor(59), tensor(493)]\n",
      "[tensor(37), tensor(34), tensor(67), tensor(48), tensor(31), tensor(58), tensor(188), tensor(94), tensor(81), tensor(47), tensor(214), tensor(110), tensor(110), tensor(158), tensor(183), tensor(80), tensor(80), tensor(440), tensor(257), tensor(445), tensor(112), tensor(76), tensor(117), tensor(236), tensor(537), tensor(213), tensor(213), tensor(440), tensor(451), tensor(222)]\n",
      "[tensor(1), tensor(19), tensor(76), tensor(101), tensor(123), tensor(186), tensor(157), tensor(190), tensor(242), tensor(303), tensor(303), tensor(303), tensor(220), tensor(119), tensor(119), tensor(258), tensor(258), tensor(258), tensor(258), tensor(156), tensor(225), tensor(304), tensor(119), tensor(155), tensor(166), tensor(76), tensor(96), tensor(318), tensor(277), tensor(67)]\n",
      "[tensor(3), tensor(6), tensor(251), tensor(472), tensor(38), tensor(521), tensor(160), tensor(93), tensor(171), tensor(439), tensor(751), tensor(686), tensor(737), tensor(146), tensor(171), tensor(324), tensor(172), tensor(617), tensor(365), tensor(591), tensor(506), tensor(169), tensor(270), tensor(285), tensor(660), tensor(201), tensor(132), tensor(216), tensor(462), tensor(334)]\n",
      "[tensor(97), tensor(97), tensor(323), tensor(38), tensor(355), tensor(186), tensor(377), tensor(343), tensor(449), tensor(54), tensor(50), tensor(395), tensor(5), tensor(5), tensor(375), tensor(391), tensor(288), tensor(413), tensor(7), tensor(75), tensor(71), tensor(13), tensor(275), tensor(25), tensor(4), tensor(47), tensor(47), tensor(21), tensor(297), tensor(494)]\n"
     ]
    },
    {
     "name": "stderr",
     "output_type": "stream",
     "text": [
      " 49%|███████████████████████████████████████████████████████████████████████████████████████████▌                                                                                                | 458/940 [00:15<00:18, 26.44it/s]"
     ]
    },
    {
     "name": "stdout",
     "output_type": "stream",
     "text": [
      "[tensor(52), tensor(57), tensor(82), tensor(87), tensor(471), tensor(93), tensor(182), tensor(18), tensor(755), tensor(592), tensor(279), tensor(159), tensor(365), tensor(49), tensor(24), tensor(201), tensor(175), tensor(176), tensor(122), tensor(127), tensor(50), tensor(93), tensor(145), tensor(89), tensor(102), tensor(334), tensor(259), tensor(293), tensor(49), tensor(233)]\n",
      "[tensor(145), tensor(138), tensor(158), tensor(110), tensor(137), tensor(198), tensor(104), tensor(187), tensor(197), tensor(174), tensor(230), tensor(193), tensor(162), tensor(68), tensor(285), tensor(206), tensor(325), tensor(249), tensor(93), tensor(437), tensor(565), tensor(411), tensor(229), tensor(173), tensor(133), tensor(445), tensor(215), tensor(258), tensor(314), tensor(251)]\n",
      "[tensor(1), tensor(5), tensor(15), tensor(17), tensor(47), tensor(33), tensor(2), tensor(2), tensor(9), tensor(4), tensor(23), tensor(33), tensor(1), tensor(142), tensor(142), tensor(13), tensor(3), tensor(67), tensor(67), tensor(134), tensor(31), tensor(4), tensor(114), tensor(128), tensor(10), tensor(144), tensor(51), tensor(261), tensor(368), tensor(49)]\n",
      "[tensor(6), tensor(38), tensor(41), tensor(38), tensor(77), tensor(82), tensor(87), tensor(130), tensor(355), tensor(360), tensor(83), tensor(68), tensor(236), tensor(128), tensor(248), tensor(247), tensor(194), tensor(114), tensor(300), tensor(229), tensor(154), tensor(421), tensor(449), tensor(107), tensor(532), tensor(267), tensor(557), tensor(326), tensor(564), tensor(72)]\n",
      "[tensor(7), tensor(115), tensor(3), tensor(202), tensor(19), tensor(706), tensor(784), tensor(6), tensor(669), tensor(62), tensor(195), tensor(8), tensor(7), tensor(10), tensor(31), tensor(539), tensor(330), tensor(407), tensor(44), tensor(38), tensor(768), tensor(63), tensor(170), tensor(129), tensor(277), tensor(267), tensor(86), tensor(159), tensor(136), tensor(136)]\n",
      "[tensor(10), tensor(25), tensor(29), tensor(25), tensor(112), tensor(30), tensor(173), tensor(104), tensor(57), tensor(121), tensor(104), tensor(104), tensor(208), tensor(244), tensor(169), tensor(29), tensor(358), tensor(133), tensor(114), tensor(223), tensor(223), tensor(223), tensor(202), tensor(383), tensor(365), tensor(588), tensor(50), tensor(526), tensor(210), tensor(39)]\n"
     ]
    },
    {
     "name": "stderr",
     "output_type": "stream",
     "text": [
      " 49%|████████████████████████████████████████████████████████████████████████████████████████████▊                                                                                               | 464/940 [00:15<00:17, 27.13it/s]"
     ]
    },
    {
     "name": "stdout",
     "output_type": "stream",
     "text": [
      "[tensor(5), tensor(66), tensor(8), tensor(225), tensor(148), tensor(148), tensor(211), tensor(492), tensor(169), tensor(614), tensor(206), tensor(677), tensor(701), tensor(625), tensor(103), tensor(308), tensor(537), tensor(537), tensor(262), tensor(398), tensor(286), tensor(115), tensor(71), tensor(9), tensor(143), tensor(16), tensor(710), tensor(107), tensor(506), tensor(73)]\n",
      "[tensor(1), tensor(136), tensor(71), tensor(194), tensor(39), tensor(186), tensor(117), tensor(27), tensor(27), tensor(277), tensor(26), tensor(23), tensor(571), tensor(435), tensor(717), tensor(226), tensor(103), tensor(12), tensor(85), tensor(649), tensor(107), tensor(372), tensor(386), tensor(19), tensor(93), tensor(77), tensor(207), tensor(275), tensor(834), tensor(182)]\n",
      "[tensor(76), tensor(332), tensor(272), tensor(148), tensor(188), tensor(179), tensor(166), tensor(331), tensor(196), tensor(165), tensor(470), tensor(636), tensor(576), tensor(555), tensor(406), tensor(637), tensor(577), tensor(440), tensor(185), tensor(399), tensor(329), tensor(372), tensor(585), tensor(545), tensor(386), tensor(211), tensor(220), tensor(327), tensor(349), tensor(321)]\n",
      "[tensor(268), tensor(142), tensor(417), tensor(169), tensor(241), tensor(583), tensor(187), tensor(187), tensor(453), tensor(44), tensor(642), tensor(651), tensor(126), tensor(43), tensor(571), tensor(41), tensor(95), tensor(378), tensor(566), tensor(519), tensor(527), tensor(582), tensor(584), tensor(563), tensor(258), tensor(258), tensor(707), tensor(632), tensor(483), tensor(250)]\n",
      "[tensor(61), tensor(61), tensor(99), tensor(201), tensor(6), tensor(109), tensor(297), tensor(74), tensor(320), tensor(92), tensor(377), tensor(548), tensor(190), tensor(514), tensor(144), tensor(178), tensor(417), tensor(345), tensor(382), tensor(324), tensor(195), tensor(22), tensor(335), tensor(382), tensor(355), tensor(116), tensor(115), tensor(394), tensor(69), tensor(502)]\n",
      "[tensor(3), tensor(9), tensor(84), tensor(39), tensor(158), tensor(170), tensor(170), tensor(246), tensor(208), tensor(78), tensor(144), tensor(200), tensor(223), tensor(271), tensor(208), tensor(297), tensor(140), tensor(204), tensor(151), tensor(373), tensor(228), tensor(338), tensor(346), tensor(211), tensor(300), tensor(341), tensor(329), tensor(185), tensor(243), tensor(337)]\n"
     ]
    },
    {
     "name": "stderr",
     "output_type": "stream",
     "text": [
      " 50%|██████████████████████████████████████████████████████████████████████████████████████████████                                                                                              | 470/940 [00:16<00:16, 27.69it/s]"
     ]
    },
    {
     "name": "stdout",
     "output_type": "stream",
     "text": [
      "[tensor(29), tensor(238), tensor(22), tensor(283), tensor(59), tensor(175), tensor(668), tensor(23), tensor(520), tensor(198), tensor(266), tensor(706), tensor(82), tensor(24), tensor(396), tensor(609), tensor(108), tensor(240), tensor(5), tensor(13), tensor(836), tensor(303), tensor(239), tensor(177), tensor(9), tensor(636), tensor(12), tensor(204), tensor(541), tensor(367)]\n",
      "[tensor(47), tensor(234), tensor(75), tensor(113), tensor(661), tensor(123), tensor(506), tensor(212), tensor(315), tensor(260), tensor(80), tensor(55), tensor(389), tensor(87), tensor(246), tensor(745), tensor(502), tensor(272), tensor(431), tensor(312), tensor(222), tensor(568), tensor(190), tensor(78), tensor(332), tensor(382), tensor(451), tensor(220), tensor(747), tensor(295)]\n",
      "[tensor(66), tensor(307), tensor(461), tensor(76), tensor(33), tensor(892), tensor(64), tensor(36), tensor(641), tensor(264), tensor(264), tensor(693), tensor(157), tensor(872), tensor(869), tensor(796), tensor(854), tensor(893), tensor(395), tensor(579), tensor(810), tensor(935)]\n",
      "[tensor(304), tensor(13), tensor(288), tensor(348), tensor(198), tensor(80), tensor(117), tensor(624), tensor(192), tensor(127), tensor(220), tensor(90), tensor(335), tensor(44), tensor(196), tensor(215), tensor(260), tensor(464), tensor(608), tensor(82), tensor(499), tensor(667), tensor(739), tensor(115), tensor(122), tensor(334), tensor(711), tensor(283), tensor(750), tensor(438)]\n",
      "[tensor(2), tensor(12), tensor(59), tensor(85), tensor(14), tensor(61), tensor(27), tensor(75), tensor(101), tensor(276), tensor(92), tensor(128), tensor(53), tensor(189), tensor(34), tensor(20), tensor(82), tensor(125), tensor(150), tensor(740), tensor(558), tensor(745), tensor(41), tensor(28), tensor(561), tensor(812), tensor(136), tensor(593), tensor(213), tensor(569)]\n",
      "[tensor(9), tensor(37), tensor(15), tensor(80), tensor(79), tensor(116), tensor(177), tensor(136), tensor(174), tensor(181), tensor(209), tensor(201), tensor(304), tensor(198), tensor(168), tensor(215), tensor(295), tensor(318), tensor(226), tensor(216), tensor(213), tensor(415), tensor(83), tensor(211), tensor(369), tensor(218), tensor(218), tensor(263), tensor(270), tensor(205)]\n"
     ]
    },
    {
     "name": "stderr",
     "output_type": "stream",
     "text": [
      " 51%|███████████████████████████████████████████████████████████████████████████████████████████████▏                                                                                            | 476/940 [00:16<00:16, 27.47it/s]"
     ]
    },
    {
     "name": "stdout",
     "output_type": "stream",
     "text": [
      "[tensor(46), tensor(15), tensor(44), tensor(51), tensor(11), tensor(50), tensor(4), tensor(61), tensor(37), tensor(49), tensor(17), tensor(12), tensor(14), tensor(271), tensor(265), tensor(480), tensor(28), tensor(135), tensor(256), tensor(234), tensor(361), tensor(335), tensor(271), tensor(254), tensor(410), tensor(517), tensor(51), tensor(126), tensor(34), tensor(63)]\n",
      "[tensor(29), tensor(207), tensor(186), tensor(20), tensor(573), tensor(646), tensor(424), tensor(629), tensor(336), tensor(177), tensor(735), tensor(463), tensor(224), tensor(743), tensor(71), tensor(369), tensor(544), tensor(78), tensor(200), tensor(742), tensor(28), tensor(245), tensor(559), tensor(159), tensor(648), tensor(201), tensor(765), tensor(103), tensor(550), tensor(439)]\n",
      "[tensor(117), tensor(225), tensor(135), tensor(41), tensor(234), tensor(331), tensor(181), tensor(6), tensor(335), tensor(294), tensor(158), tensor(371), tensor(254), tensor(254), tensor(292), tensor(197), tensor(78), tensor(333), tensor(307), tensor(72), tensor(200), tensor(432), tensor(174), tensor(173), tensor(608), tensor(336), tensor(141), tensor(141), tensor(9), tensor(416)]\n",
      "[tensor(175), tensor(1), tensor(4), tensor(4), tensor(398), tensor(355), tensor(173), tensor(624), tensor(250), tensor(138), tensor(637), tensor(157), tensor(9), tensor(720), tensor(478), tensor(104), tensor(92), tensor(4), tensor(42), tensor(763), tensor(22), tensor(117), tensor(81), tensor(569), tensor(569), tensor(7), tensor(723), tensor(49), tensor(446), tensor(219)]\n",
      "[tensor(604), tensor(113), tensor(245), tensor(32), tensor(276), tensor(33), tensor(528), tensor(900), tensor(115), tensor(261), tensor(646), tensor(127), tensor(380), tensor(444), tensor(328), tensor(786), tensor(563), tensor(375), tensor(471), tensor(652), tensor(817), tensor(873)]\n",
      "[tensor(94), tensor(200), tensor(81), tensor(309), tensor(186), tensor(395), tensor(146), tensor(422), tensor(206), tensor(148), tensor(801), tensor(49), tensor(351), tensor(594), tensor(677), tensor(172), tensor(326), tensor(77), tensor(547), tensor(241), tensor(399), tensor(153), tensor(218), tensor(144), tensor(297), tensor(269), tensor(713), tensor(713), tensor(707), tensor(165)]\n"
     ]
    },
    {
     "name": "stderr",
     "output_type": "stream",
     "text": [
      " 51%|████████████████████████████████████████████████████████████████████████████████████████████████▍                                                                                           | 482/940 [00:16<00:16, 27.83it/s]"
     ]
    },
    {
     "name": "stdout",
     "output_type": "stream",
     "text": [
      "[tensor(9), tensor(14), tensor(66), tensor(18), tensor(62), tensor(119), tensor(194), tensor(243), tensor(4), tensor(7), tensor(22), tensor(26), tensor(34), tensor(259), tensor(34), tensor(29), tensor(658), tensor(23), tensor(68), tensor(783), tensor(81), tensor(815), tensor(809), tensor(24), tensor(13), tensor(18), tensor(520), tensor(24), tensor(19), tensor(15)]\n",
      "[tensor(3), tensor(22), tensor(48), tensor(86), tensor(453), tensor(9), tensor(5), tensor(866), tensor(823), tensor(92), tensor(725), tensor(806), tensor(4), tensor(37), tensor(298), tensor(15), tensor(11), tensor(38), tensor(24), tensor(423), tensor(835), tensor(277), tensor(565), tensor(68), tensor(515), tensor(89), tensor(887), tensor(779), tensor(871), tensor(879)]\n",
      "[tensor(29), tensor(87), tensor(122), tensor(49), tensor(49), tensor(211), tensor(214), tensor(104), tensor(312), tensor(262), tensor(380), tensor(166), tensor(164), tensor(352), tensor(143), tensor(186), tensor(402), tensor(158), tensor(98), tensor(356), tensor(142), tensor(412), tensor(200), tensor(286), tensor(184), tensor(111), tensor(148), tensor(278), tensor(203), tensor(49)]\n",
      "[tensor(34), tensor(111), tensor(37), tensor(256), tensor(209), tensor(82), tensor(660), tensor(778), tensor(128), tensor(633), tensor(600), tensor(657), tensor(634), tensor(509), tensor(750), tensor(536), tensor(653), tensor(527), tensor(353), tensor(623), tensor(729), tensor(405), tensor(727), tensor(117), tensor(225), tensor(786), tensor(776), tensor(712), tensor(346), tensor(307)]\n",
      "[tensor(64), tensor(171), tensor(118), tensor(121), tensor(118), tensor(188), tensor(158), tensor(158), tensor(205), tensor(207), tensor(298), tensor(356), tensor(196), tensor(316), tensor(604), tensor(51), tensor(51), tensor(134), tensor(533), tensor(433), tensor(185), tensor(236), tensor(257), tensor(433), tensor(292), tensor(198), tensor(236), tensor(465), tensor(459), tensor(443)]\n",
      "[tensor(4), tensor(11), tensor(2), tensor(66), tensor(151), tensor(72), tensor(193), tensor(121), tensor(324), tensor(26), tensor(54), tensor(330), tensor(317), tensor(305), tensor(246), tensor(3), tensor(6), tensor(277), tensor(29), tensor(6), tensor(252), tensor(2), tensor(40), tensor(537), tensor(399), tensor(14), tensor(427), tensor(427), tensor(25), tensor(4)]\n"
     ]
    },
    {
     "name": "stderr",
     "output_type": "stream",
     "text": [
      " 52%|█████████████████████████████████████████████████████████████████████████████████████████████████▌                                                                                          | 488/940 [00:16<00:16, 26.97it/s]"
     ]
    },
    {
     "name": "stdout",
     "output_type": "stream",
     "text": [
      "[tensor(7), tensor(1), tensor(459), tensor(147), tensor(49), tensor(14), tensor(419), tensor(136), tensor(26), tensor(178), tensor(5), tensor(576), tensor(10), tensor(467), tensor(699), tensor(20), tensor(13), tensor(916), tensor(60), tensor(63), tensor(374), tensor(515), tensor(606), tensor(379), tensor(33), tensor(832), tensor(444), tensor(85), tensor(10), tensor(537)]\n",
      "[tensor(34), tensor(224), tensor(18), tensor(178), tensor(317), tensor(415), tensor(422), tensor(19), tensor(604), tensor(200), tensor(668), tensor(210), tensor(605), tensor(82), tensor(67), tensor(53), tensor(414), tensor(773), tensor(40), tensor(58), tensor(58), tensor(443), tensor(308), tensor(187), tensor(126), tensor(246), tensor(172), tensor(366), tensor(256), tensor(598)]\n",
      "[tensor(12), tensor(92), tensor(159), tensor(177), tensor(192), tensor(255), tensor(179), tensor(179), tensor(108), tensor(56), tensor(56), tensor(306), tensor(451), tensor(219), tensor(41), tensor(58), tensor(44), tensor(396), tensor(324), tensor(324), tensor(382), tensor(382), tensor(493), tensor(187), tensor(311), tensor(461), tensor(364), tensor(752), tensor(380), tensor(269)]\n",
      "[tensor(173), tensor(158), tensor(279), tensor(444), tensor(295), tensor(274), tensor(266), tensor(302), tensor(490), tensor(146), tensor(274), tensor(314), tensor(347), tensor(269), tensor(305), tensor(78), tensor(475), tensor(155), tensor(474), tensor(359), tensor(360), tensor(386), tensor(134), tensor(201), tensor(345), tensor(174), tensor(334), tensor(158), tensor(53), tensor(357)]\n",
      "[tensor(37), tensor(191), tensor(255), tensor(194), tensor(276), tensor(420), tensor(244), tensor(228), tensor(23), tensor(61), tensor(44), tensor(97), tensor(37), tensor(130), tensor(653), tensor(236), tensor(82), tensor(598), tensor(73), tensor(209), tensor(138), tensor(481), tensor(170), tensor(553), tensor(223), tensor(502), tensor(643), tensor(112), tensor(66), tensor(701)]\n",
      "[tensor(2), tensor(211), tensor(28), tensor(132), tensor(156), tensor(271), tensor(10), tensor(309), tensor(504), tensor(24), tensor(165), tensor(140), tensor(264), tensor(11), tensor(11), tensor(175), tensor(4), tensor(161), tensor(188), tensor(5), tensor(331), tensor(89), tensor(67), tensor(293), tensor(51), tensor(298), tensor(204), tensor(9), tensor(84), tensor(18)]\n"
     ]
    },
    {
     "name": "stderr",
     "output_type": "stream",
     "text": [
      " 53%|██████████████████████████████████████████████████████████████████████████████████████████████████▊                                                                                         | 494/940 [00:17<00:16, 26.57it/s]"
     ]
    },
    {
     "name": "stdout",
     "output_type": "stream",
     "text": [
      "[tensor(27), tensor(32), tensor(32), tensor(60), tensor(74), tensor(102), tensor(85), tensor(131), tensor(107), tensor(75), tensor(135), tensor(171), tensor(25), tensor(54), tensor(370), tensor(231), tensor(39), tensor(41), tensor(41), tensor(340), tensor(270), tensor(195), tensor(195), tensor(427), tensor(130), tensor(97), tensor(97), tensor(521), tensor(204), tensor(108)]\n",
      "[tensor(40), tensor(262), tensor(112), tensor(30), tensor(142), tensor(98), tensor(306), tensor(386), tensor(386), tensor(125), tensor(101), tensor(101), tensor(327), tensor(291), tensor(320), tensor(226), tensor(29), tensor(9), tensor(365), tensor(536), tensor(282), tensor(366), tensor(498), tensor(352), tensor(172), tensor(22), tensor(225), tensor(16), tensor(16), tensor(198)]\n",
      "[tensor(5), tensor(48), tensor(28), tensor(121), tensor(125), tensor(65), tensor(17), tensor(276), tensor(297), tensor(114), tensor(86), tensor(302), tensor(5), tensor(10), tensor(26), tensor(64), tensor(301), tensor(712), tensor(368), tensor(421), tensor(72), tensor(575), tensor(562), tensor(48), tensor(565), tensor(273), tensor(255), tensor(48), tensor(440), tensor(58)]\n",
      "[tensor(42), tensor(57), tensor(280), tensor(361), tensor(200), tensor(222), tensor(132), tensor(409), tensor(367), tensor(235), tensor(300), tensor(140), tensor(148), tensor(245), tensor(372), tensor(147), tensor(193), tensor(439), tensor(346), tensor(428), tensor(311), tensor(529), tensor(257), tensor(227), tensor(382), tensor(337), tensor(199), tensor(671), tensor(460), tensor(532)]\n",
      "[tensor(25), tensor(84), tensor(128), tensor(48), tensor(48), tensor(169), tensor(223), tensor(188), tensor(20), tensor(277), tensor(187), tensor(65), tensor(258), tensor(177), tensor(28), tensor(96), tensor(230), tensor(99), tensor(99), tensor(99), tensor(99), tensor(302), tensor(467), tensor(207), tensor(556), tensor(556), tensor(56), tensor(322), tensor(297), tensor(140)]\n",
      "[tensor(28), tensor(61), tensor(10), tensor(59), tensor(35), tensor(133), tensor(128), tensor(288), tensor(70), tensor(364), tensor(418), tensor(430), tensor(77), tensor(191), tensor(209), tensor(267), tensor(96), tensor(79), tensor(337), tensor(369), tensor(687), tensor(414), tensor(147), tensor(147), tensor(398), tensor(206), tensor(81), tensor(471), tensor(620), tensor(146)]\n"
     ]
    },
    {
     "name": "stderr",
     "output_type": "stream",
     "text": [
      " 53%|████████████████████████████████████████████████████████████████████████████████████████████████████                                                                                        | 500/940 [00:17<00:16, 26.17it/s]"
     ]
    },
    {
     "name": "stdout",
     "output_type": "stream",
     "text": [
      "[tensor(15), tensor(25), tensor(168), tensor(61), tensor(800), tensor(156), tensor(151), tensor(300), tensor(810), tensor(128), tensor(224), tensor(318), tensor(119), tensor(143), tensor(688), tensor(202), tensor(782), tensor(442), tensor(808), tensor(156), tensor(684), tensor(684), tensor(869), tensor(222), tensor(260), tensor(403), tensor(844), tensor(201), tensor(462), tensor(202)]\n",
      "[tensor(5), tensor(288), tensor(101), tensor(7), tensor(359), tensor(413), tensor(181), tensor(252), tensor(190), tensor(195), tensor(34), tensor(495), tensor(196), tensor(710), tensor(508), tensor(460), tensor(438), tensor(462), tensor(129), tensor(368), tensor(368), tensor(26), tensor(473), tensor(215), tensor(511), tensor(42), tensor(396), tensor(376), tensor(365), tensor(40)]\n",
      "[tensor(31), tensor(18), tensor(37), tensor(199), tensor(38), tensor(142), tensor(159), tensor(159), tensor(135), tensor(216), tensor(79), tensor(131), tensor(20), tensor(668), tensor(9), tensor(10), tensor(763), tensor(40), tensor(53), tensor(35), tensor(152), tensor(396), tensor(130), tensor(16), tensor(62), tensor(48), tensor(196), tensor(11), tensor(310), tensor(328)]\n",
      "[tensor(13), tensor(89), tensor(87), tensor(130), tensor(28), tensor(164), tensor(154), tensor(154), tensor(253), tensor(228), tensor(223), tensor(185), tensor(262), tensor(220), tensor(226), tensor(293), tensor(95), tensor(121), tensor(282), tensor(461), tensor(391), tensor(391), tensor(200), tensor(231), tensor(169), tensor(50), tensor(50), tensor(193), tensor(25), tensor(204)]\n",
      "[tensor(41), tensor(38), tensor(48), tensor(52), tensor(108), tensor(39), tensor(106), tensor(27), tensor(97), tensor(44), tensor(60), tensor(161), tensor(148), tensor(23), tensor(80), tensor(211), tensor(129), tensor(229), tensor(123), tensor(267), tensor(79), tensor(220), tensor(216), tensor(165), tensor(166), tensor(59), tensor(63), tensor(136), tensor(155), tensor(219)]\n",
      "[tensor(386), tensor(307), tensor(60), tensor(42), tensor(342), tensor(13), tensor(99), tensor(5), tensor(450), tensor(138), tensor(23), tensor(655), tensor(36), tensor(78), tensor(89), tensor(641), tensor(668), tensor(405), tensor(79), tensor(112), tensor(311), tensor(283), tensor(139), tensor(626), tensor(326), tensor(71), tensor(37), tensor(71), tensor(789), tensor(226)]\n"
     ]
    },
    {
     "name": "stderr",
     "output_type": "stream",
     "text": [
      " 54%|█████████████████████████████████████████████████████████████████████████████████████████████████████▏                                                                                      | 506/940 [00:17<00:16, 26.38it/s]"
     ]
    },
    {
     "name": "stdout",
     "output_type": "stream",
     "text": [
      "[tensor(367), tensor(3), tensor(24), tensor(519), tensor(87), tensor(87), tensor(87), tensor(21), tensor(10), tensor(288), tensor(172), tensor(104), tensor(275), tensor(381), tensor(381), tensor(755), tensor(23), tensor(5), tensor(872), tensor(872), tensor(172), tensor(410), tensor(588), tensor(483), tensor(909), tensor(510), tensor(233), tensor(235), tensor(873), tensor(470)]\n",
      "[tensor(220), tensor(342), tensor(338), tensor(237), tensor(347), tensor(450), tensor(231), tensor(435), tensor(443), tensor(341), tensor(442), tensor(460), tensor(505), tensor(447), tensor(617), tensor(176), tensor(641), tensor(570), tensor(336), tensor(823), tensor(625), tensor(607), tensor(384), tensor(294), tensor(488), tensor(785), tensor(362), tensor(540), tensor(450), tensor(791)]\n",
      "[tensor(17), tensor(49), tensor(82), tensor(263), tensor(129), tensor(63), tensor(118), tensor(685), tensor(98), tensor(10), tensor(565), tensor(206), tensor(306), tensor(685), tensor(28), tensor(129), tensor(505), tensor(531), tensor(69), tensor(74), tensor(197), tensor(211), tensor(239), tensor(154), tensor(792), tensor(106), tensor(283), tensor(720), tensor(910), tensor(127)]\n",
      "[tensor(4), tensor(12), tensor(13), tensor(12), tensor(12), tensor(298), tensor(106), tensor(75), tensor(101), tensor(435), tensor(302), tensor(114), tensor(462), tensor(533), tensor(47), tensor(517), tensor(64), tensor(49), tensor(633), tensor(113), tensor(628), tensor(648), tensor(583), tensor(207), tensor(618), tensor(191), tensor(728), tensor(377), tensor(333), tensor(792)]\n",
      "[tensor(321), tensor(315), tensor(134), tensor(207), tensor(147), tensor(333), tensor(363), tensor(515), tensor(276), tensor(339), tensor(190), tensor(342), tensor(342), tensor(276), tensor(320), tensor(678), tensor(678), tensor(159), tensor(145), tensor(45), tensor(223), tensor(529), tensor(49), tensor(368), tensor(857), tensor(857), tensor(111), tensor(111), tensor(112), tensor(38)]\n",
      "[tensor(171), tensor(31), tensor(658), tensor(795), tensor(733), tensor(663), tensor(55), tensor(120), tensor(746), tensor(49), tensor(380), tensor(97), tensor(215), tensor(196), tensor(263), tensor(72), tensor(704), tensor(841), tensor(841), tensor(301), tensor(133), tensor(136), tensor(273), tensor(107), tensor(600), tensor(203), tensor(91), tensor(167), tensor(836), tensor(605)]\n"
     ]
    },
    {
     "name": "stderr",
     "output_type": "stream",
     "text": [
      " 54%|██████████████████████████████████████████████████████████████████████████████████████████████████████▍                                                                                     | 512/940 [00:17<00:16, 26.38it/s]"
     ]
    },
    {
     "name": "stdout",
     "output_type": "stream",
     "text": [
      "[tensor(54), tensor(114), tensor(155), tensor(96), tensor(112), tensor(40), tensor(29), tensor(325), tensor(594), tensor(109), tensor(696), tensor(84), tensor(246), tensor(454), tensor(283), tensor(306), tensor(363), tensor(684), tensor(684), tensor(33), tensor(242), tensor(73), tensor(27), tensor(637), tensor(100), tensor(200), tensor(800), tensor(126), tensor(819), tensor(62)]\n",
      "[tensor(13), tensor(100), tensor(237), tensor(159), tensor(54), tensor(395), tensor(204), tensor(559), tensor(367), tensor(89), tensor(198), tensor(205), tensor(557), tensor(701), tensor(103), tensor(517), tensor(673), tensor(673), tensor(269), tensor(222), tensor(276), tensor(246), tensor(216), tensor(458), tensor(551), tensor(783), tensor(188), tensor(766), tensor(392), tensor(690)]\n",
      "[tensor(91), tensor(81), tensor(81), tensor(129), tensor(129), tensor(58), tensor(156), tensor(105), tensor(67), tensor(148), tensor(180), tensor(320), tensor(418), tensor(261), tensor(145), tensor(145), tensor(277), tensor(256), tensor(150), tensor(161), tensor(259), tensor(319), tensor(400), tensor(627), tensor(504), tensor(97), tensor(548), tensor(271), tensor(60), tensor(194)]\n",
      "[tensor(76), tensor(279), tensor(528), tensor(260), tensor(262), tensor(32), tensor(42), tensor(384), tensor(44), tensor(16), tensor(331), tensor(219), tensor(640), tensor(160), tensor(482), tensor(691), tensor(552), tensor(196), tensor(490), tensor(643), tensor(570), tensor(543), tensor(862), tensor(667), tensor(473), tensor(723), tensor(888), tensor(468), tensor(805), tensor(312)]\n",
      "[tensor(407), tensor(173), tensor(688), tensor(140), tensor(288), tensor(455), tensor(175), tensor(737), tensor(129), tensor(223), tensor(806), tensor(552), tensor(15), tensor(39), tensor(411), tensor(553), tensor(470), tensor(165), tensor(272), tensor(161), tensor(46), tensor(470), tensor(123), tensor(792), tensor(381), tensor(712), tensor(335), tensor(261), tensor(431), tensor(384)]\n",
      "[tensor(83), tensor(52), tensor(102), tensor(12), tensor(183), tensor(310), tensor(8), tensor(18), tensor(3), tensor(129), tensor(579), tensor(19), tensor(533), tensor(28), tensor(109), tensor(11), tensor(11), tensor(133), tensor(18), tensor(31), tensor(43), tensor(11), tensor(17), tensor(13), tensor(4), tensor(27), tensor(4), tensor(43), tensor(295), tensor(311)]\n"
     ]
    },
    {
     "name": "stderr",
     "output_type": "stream",
     "text": [
      " 55%|███████████████████████████████████████████████████████████████████████████████████████████████████████▌                                                                                    | 518/940 [00:17<00:15, 26.69it/s]"
     ]
    },
    {
     "name": "stdout",
     "output_type": "stream",
     "text": [
      "[tensor(20), tensor(69), tensor(108), tensor(128), tensor(89), tensor(149), tensor(214), tensor(122), tensor(222), tensor(386), tensor(319), tensor(146), tensor(254), tensor(185), tensor(248), tensor(317), tensor(226), tensor(263), tensor(282), tensor(321), tensor(321), tensor(240), tensor(593), tensor(283), tensor(347), tensor(374), tensor(205), tensor(418), tensor(389), tensor(624)]\n",
      "[tensor(111), tensor(140), tensor(313), tensor(346), tensor(405), tensor(260), tensor(151), tensor(410), tensor(304), tensor(384), tensor(376), tensor(36), tensor(98), tensor(471), tensor(330), tensor(96), tensor(254), tensor(254), tensor(446), tensor(489), tensor(479), tensor(308), tensor(308), tensor(398), tensor(369), tensor(135), tensor(358), tensor(725), tensor(198), tensor(267)]\n",
      "[tensor(199), tensor(236), tensor(150), tensor(192), tensor(267), tensor(345), tensor(434), tensor(259), tensor(392), tensor(314), tensor(390), tensor(361), tensor(156), tensor(481), tensor(332), tensor(374), tensor(515), tensor(168), tensor(257), tensor(454), tensor(198), tensor(252), tensor(447), tensor(396), tensor(415), tensor(497), tensor(351), tensor(366), tensor(376), tensor(462)]\n",
      "[tensor(49), tensor(103), tensor(311), tensor(44), tensor(228), tensor(603), tensor(110), tensor(780), tensor(89), tensor(755), tensor(304), tensor(788), tensor(106), tensor(836), tensor(56), tensor(281), tensor(452), tensor(73), tensor(61), tensor(82), tensor(119), tensor(814), tensor(413), tensor(83), tensor(324), tensor(324), tensor(547), tensor(123), tensor(56), tensor(529)]\n",
      "[tensor(35), tensor(384), tensor(493), tensor(10), tensor(142), tensor(142), tensor(239), tensor(620), tensor(14), tensor(32), tensor(329), tensor(267), tensor(283), tensor(457), tensor(16), tensor(250), tensor(22), tensor(59), tensor(59), tensor(326), tensor(148), tensor(143), tensor(113), tensor(199), tensor(640), tensor(70), tensor(88), tensor(10), tensor(851), tensor(227)]\n",
      "[tensor(45), tensor(50), tensor(53), tensor(496), tensor(156), tensor(185), tensor(585), tensor(276), tensor(462), tensor(669), tensor(341), tensor(662), tensor(274), tensor(325), tensor(294), tensor(291), tensor(645), tensor(699), tensor(338), tensor(348), tensor(298), tensor(518), tensor(494), tensor(538), tensor(708), tensor(536), tensor(807), tensor(649), tensor(544), tensor(488)]\n"
     ]
    },
    {
     "name": "stderr",
     "output_type": "stream",
     "text": [
      " 56%|████████████████████████████████████████████████████████████████████████████████████████████████████████▊                                                                                   | 524/940 [00:18<00:15, 26.46it/s]"
     ]
    },
    {
     "name": "stdout",
     "output_type": "stream",
     "text": [
      "[tensor(7), tensor(22), tensor(94), tensor(107), tensor(36), tensor(179), tensor(159), tensor(96), tensor(41), tensor(73), tensor(2), tensor(10), tensor(20), tensor(11), tensor(258), tensor(258), tensor(188), tensor(106), tensor(166), tensor(36), tensor(244), tensor(167), tensor(20), tensor(224), tensor(65), tensor(345), tensor(42), tensor(86), tensor(130), tensor(29)]\n",
      "[tensor(81), tensor(109), tensor(107), tensor(198), tensor(230), tensor(146), tensor(277), tensor(24), tensor(172), tensor(209), tensor(352), tensor(230), tensor(171), tensor(417), tensor(332), tensor(259), tensor(223), tensor(353), tensor(351), tensor(108), tensor(278), tensor(350), tensor(253), tensor(163), tensor(117), tensor(267), tensor(152), tensor(602), tensor(602), tensor(188)]\n",
      "[tensor(27), tensor(48), tensor(68), tensor(83), tensor(147), tensor(121), tensor(4), tensor(118), tensor(185), tensor(73), tensor(277), tensor(158), tensor(184), tensor(207), tensor(79), tensor(155), tensor(447), tensor(290), tensor(51), tensor(94), tensor(113), tensor(204), tensor(265), tensor(425), tensor(105), tensor(221), tensor(329), tensor(545), tensor(619), tensor(129)]\n",
      "[tensor(74), tensor(77), tensor(97), tensor(118), tensor(145), tensor(42), tensor(36), tensor(24), tensor(322), tensor(295), tensor(17), tensor(200), tensor(355), tensor(33), tensor(33), tensor(136), tensor(71), tensor(43), tensor(212), tensor(300), tensor(331), tensor(439), tensor(384), tensor(326), tensor(531), tensor(276), tensor(447), tensor(18), tensor(304), tensor(544)]\n",
      "[tensor(40), tensor(66), tensor(184), tensor(294), tensor(498), tensor(189), tensor(333), tensor(449), tensor(164), tensor(322), tensor(43), tensor(720), tensor(619), tensor(47), tensor(293), tensor(27), tensor(545), tensor(586), tensor(131), tensor(380), tensor(234), tensor(391), tensor(691), tensor(565), tensor(216), tensor(708), tensor(617), tensor(444), tensor(571), tensor(886)]\n",
      "[tensor(527), tensor(153), tensor(848), tensor(39), tensor(36), tensor(503), tensor(13), tensor(31), tensor(4), tensor(767), tensor(18), tensor(480), tensor(897), tensor(475), tensor(406), tensor(158), tensor(372), tensor(28), tensor(22), tensor(72), tensor(5), tensor(441), tensor(780), tensor(28), tensor(145), tensor(259), tensor(329), tensor(505), tensor(148), tensor(217)]\n"
     ]
    },
    {
     "name": "stderr",
     "output_type": "stream",
     "text": [
      " 56%|██████████████████████████████████████████████████████████████████████████████████████████████████████████                                                                                  | 530/940 [00:18<00:15, 26.41it/s]"
     ]
    },
    {
     "name": "stdout",
     "output_type": "stream",
     "text": [
      "[tensor(61), tensor(95), tensor(45), tensor(39), tensor(153), tensor(129), tensor(112), tensor(101), tensor(189), tensor(55), tensor(5), tensor(54), tensor(102), tensor(187), tensor(187), tensor(50), tensor(358), tensor(168), tensor(335), tensor(90), tensor(491), tensor(60), tensor(142), tensor(441), tensor(15), tensor(71), tensor(77), tensor(77), tensor(25), tensor(40)]\n",
      "[tensor(158), tensor(1), tensor(74), tensor(172), tensor(66), tensor(204), tensor(292), tensor(406), tensor(626), tensor(711), tensor(590), tensor(508), tensor(113), tensor(98), tensor(10), tensor(152), tensor(4), tensor(68), tensor(92), tensor(295), tensor(65), tensor(121), tensor(45), tensor(211), tensor(111), tensor(17), tensor(23), tensor(253), tensor(158), tensor(15)]\n",
      "[tensor(35), tensor(151), tensor(92), tensor(134), tensor(134), tensor(134), tensor(187), tensor(270), tensor(394), tensor(186), tensor(321), tensor(345), tensor(63), tensor(281), tensor(287), tensor(79), tensor(396), tensor(480), tensor(118), tensor(182), tensor(540), tensor(209), tensor(26), tensor(302), tensor(49), tensor(32), tensor(109), tensor(508), tensor(394), tensor(38)]\n",
      "[tensor(8), tensor(8), tensor(50), tensor(14), tensor(46), tensor(82), tensor(21), tensor(31), tensor(91), tensor(77), tensor(77), tensor(28), tensor(214), tensor(39), tensor(252), tensor(50), tensor(73), tensor(33), tensor(337), tensor(145), tensor(433), tensor(341), tensor(44), tensor(46), tensor(351), tensor(262), tensor(40), tensor(79), tensor(79), tensor(75)]\n",
      "[tensor(119), tensor(109), tensor(165), tensor(178), tensor(286), tensor(217), tensor(37), tensor(255), tensor(315), tensor(282), tensor(349), tensor(118), tensor(279), tensor(179), tensor(144), tensor(308), tensor(272), tensor(280), tensor(355), tensor(286), tensor(211), tensor(295), tensor(373), tensor(251), tensor(329), tensor(383), tensor(251), tensor(83), tensor(76), tensor(319)]\n",
      "[tensor(10), tensor(8), tensor(8), tensor(8), tensor(14), tensor(9), tensor(75), tensor(196), tensor(375), tensor(348), tensor(3), tensor(515), tensor(390), tensor(6), tensor(283), tensor(84), tensor(132), tensor(55), tensor(21), tensor(20), tensor(483), tensor(155), tensor(491), tensor(740), tensor(219), tensor(219), tensor(340), tensor(498), tensor(408), tensor(175)]\n"
     ]
    },
    {
     "name": "stderr",
     "output_type": "stream",
     "text": [
      " 57%|███████████████████████████████████████████████████████████████████████████████████████████████████████████▏                                                                                | 536/940 [00:18<00:14, 27.61it/s]"
     ]
    },
    {
     "name": "stdout",
     "output_type": "stream",
     "text": [
      "[tensor(33), tensor(87), tensor(185), tensor(237), tensor(305), tensor(358), tensor(252), tensor(210), tensor(339), tensor(483), tensor(344), tensor(323), tensor(498), tensor(390), tensor(500), tensor(453), tensor(369), tensor(257), tensor(578), tensor(612), tensor(455), tensor(495), tensor(679), tensor(401), tensor(675), tensor(553), tensor(635), tensor(717), tensor(503), tensor(446)]\n",
      "[tensor(5), tensor(22), tensor(14), tensor(36), tensor(48), tensor(78), tensor(37), tensor(50), tensor(181), tensor(76), tensor(34), tensor(34), tensor(123), tensor(161), tensor(108), tensor(264), tensor(174), tensor(129), tensor(120), tensor(434), tensor(434), tensor(116), tensor(375), tensor(375), tensor(478), tensor(351), tensor(437), tensor(135), tensor(153), tensor(832)]\n",
      "[tensor(28), tensor(92), tensor(153), tensor(82), tensor(408), tensor(33), tensor(19), tensor(152), tensor(595), tensor(725), tensor(487), tensor(94), tensor(228), tensor(696), tensor(832), tensor(428), tensor(168), tensor(205), tensor(68), tensor(758), tensor(677), tensor(85), tensor(149), tensor(102), tensor(234), tensor(421), tensor(281), tensor(124), tensor(133), tensor(298)]\n",
      "[tensor(52), tensor(241), tensor(276), tensor(310), tensor(379), tensor(256), tensor(81), tensor(427), tensor(276), tensor(522), tensor(89), tensor(518), tensor(392), tensor(383), tensor(320), tensor(215), tensor(492), tensor(210), tensor(157), tensor(364), tensor(188), tensor(360), tensor(698), tensor(192), tensor(192), tensor(470), tensor(322), tensor(164), tensor(344), tensor(163)]\n",
      "[tensor(104), tensor(140), tensor(381), tensor(554), tensor(401), tensor(148), tensor(805), tensor(54), tensor(245), tensor(701), tensor(71), tensor(45), tensor(593), tensor(114), tensor(64), tensor(454), tensor(297), tensor(59), tensor(200), tensor(101), tensor(645), tensor(17), tensor(27), tensor(18), tensor(148), tensor(174), tensor(133), tensor(138), tensor(315), tensor(166)]\n",
      "[tensor(70), tensor(80), tensor(74), tensor(51), tensor(79), tensor(85), tensor(330), tensor(160), tensor(79), tensor(305), tensor(470), tensor(334), tensor(212), tensor(211), tensor(552), tensor(527), tensor(681), tensor(135), tensor(399), tensor(160), tensor(529), tensor(403), tensor(498), tensor(549), tensor(394), tensor(594), tensor(180), tensor(462), tensor(586), tensor(682)]\n"
     ]
    },
    {
     "name": "stderr",
     "output_type": "stream",
     "text": [
      " 58%|████████████████████████████████████████████████████████████████████████████████████████████████████████████▍                                                                               | 542/940 [00:18<00:14, 27.78it/s]"
     ]
    },
    {
     "name": "stdout",
     "output_type": "stream",
     "text": [
      "[tensor(50), tensor(64), tensor(35), tensor(96), tensor(63), tensor(90), tensor(157), tensor(182), tensor(177), tensor(276), tensor(256), tensor(72), tensor(72), tensor(317), tensor(300), tensor(257), tensor(346), tensor(69), tensor(149), tensor(67), tensor(203), tensor(234), tensor(73), tensor(68), tensor(338), tensor(355), tensor(138), tensor(41), tensor(526), tensor(360)]\n",
      "[tensor(2), tensor(9), tensor(10), tensor(9), tensor(66), tensor(59), tensor(51), tensor(42), tensor(64), tensor(80), tensor(65), tensor(134), tensor(133), tensor(119), tensor(135), tensor(101), tensor(172), tensor(202), tensor(251), tensor(163), tensor(147), tensor(324), tensor(218), tensor(189), tensor(265), tensor(236), tensor(361), tensor(297), tensor(171), tensor(336)]\n",
      "[tensor(5), tensor(15), tensor(86), tensor(122), tensor(34), tensor(105), tensor(32), tensor(86), tensor(142), tensor(110), tensor(131), tensor(78), tensor(141), tensor(150), tensor(174), tensor(68), tensor(106), tensor(246), tensor(445), tensor(136), tensor(122), tensor(75), tensor(156), tensor(84), tensor(201), tensor(155), tensor(118), tensor(156), tensor(3), tensor(187)]\n",
      "[tensor(55), tensor(25), tensor(23), tensor(55), tensor(12), tensor(5), tensor(39), tensor(41), tensor(16), tensor(142), tensor(20), tensor(5), tensor(46), tensor(163), tensor(23), tensor(52), tensor(295), tensor(78), tensor(314), tensor(13), tensor(520), tensor(46), tensor(49), tensor(26), tensor(710), tensor(83), tensor(480), tensor(521), tensor(521), tensor(202)]\n",
      "[tensor(14), tensor(190), tensor(46), tensor(240), tensor(93), tensor(161), tensor(240), tensor(179), tensor(28), tensor(12), tensor(279), tensor(279), tensor(18), tensor(603), tensor(586), tensor(613), tensor(235), tensor(297), tensor(465), tensor(344), tensor(677), tensor(139), tensor(95), tensor(301), tensor(697), tensor(650), tensor(652), tensor(683), tensor(220), tensor(194)]\n",
      "[tensor(52), tensor(24), tensor(56), tensor(100), tensor(117), tensor(222), tensor(107), tensor(93), tensor(285), tensor(285), tensor(163), tensor(257), tensor(78), tensor(206), tensor(440), tensor(302), tensor(275), tensor(103), tensor(198), tensor(187), tensor(124), tensor(196), tensor(98), tensor(299), tensor(382), tensor(198), tensor(510), tensor(348), tensor(447), tensor(441)]\n"
     ]
    },
    {
     "name": "stderr",
     "output_type": "stream",
     "text": [
      " 58%|█████████████████████████████████████████████████████████████████████████████████████████████████████████████▌                                                                              | 548/940 [00:19<00:14, 27.70it/s]"
     ]
    },
    {
     "name": "stdout",
     "output_type": "stream",
     "text": [
      "[tensor(52), tensor(68), tensor(60), tensor(434), tensor(144), tensor(422), tensor(101), tensor(526), tensor(465), tensor(465), tensor(264), tensor(230), tensor(230), tensor(452), tensor(53), tensor(302), tensor(107), tensor(95), tensor(100), tensor(60), tensor(163), tensor(213), tensor(62), tensor(569), tensor(268), tensor(793), tensor(264), tensor(187), tensor(187), tensor(762)]\n",
      "[tensor(41), tensor(18), tensor(42), tensor(286), tensor(493), tensor(187), tensor(448), tensor(104), tensor(156), tensor(367), tensor(309), tensor(669), tensor(495), tensor(146), tensor(454), tensor(38), tensor(385), tensor(112), tensor(75), tensor(666), tensor(45), tensor(186), tensor(161), tensor(209), tensor(596), tensor(313), tensor(258), tensor(134), tensor(820), tensor(141)]\n",
      "[tensor(22), tensor(20), tensor(59), tensor(34), tensor(52), tensor(12), tensor(58), tensor(225), tensor(172), tensor(122), tensor(730), tensor(653), tensor(800), tensor(184), tensor(27), tensor(143), tensor(21), tensor(37), tensor(149), tensor(48), tensor(28), tensor(471), tensor(138), tensor(97), tensor(249), tensor(50), tensor(195), tensor(435), tensor(137), tensor(120)]\n",
      "[tensor(44), tensor(15), tensor(1), tensor(14), tensor(5), tensor(40), tensor(62), tensor(1), tensor(226), tensor(251), tensor(12), tensor(141), tensor(132), tensor(59), tensor(105), tensor(163), tensor(252), tensor(359), tensor(299), tensor(20), tensor(403), tensor(402), tensor(66), tensor(173), tensor(362), tensor(3), tensor(61), tensor(613), tensor(130), tensor(179)]\n",
      "[tensor(402), tensor(84), tensor(36), tensor(177), tensor(306), tensor(234), tensor(90), tensor(523), tensor(631), tensor(443), tensor(457), tensor(64), tensor(34), tensor(217), tensor(315), tensor(299), tensor(471), tensor(25), tensor(33), tensor(180), tensor(71), tensor(699), tensor(88), tensor(135), tensor(229), tensor(79), tensor(206), tensor(750), tensor(883), tensor(287)]\n",
      "[tensor(15), tensor(96), tensor(172), tensor(94), tensor(94), tensor(191), tensor(95), tensor(178), tensor(175), tensor(261), tensor(105), tensor(135), tensor(16), tensor(74), tensor(216), tensor(81), tensor(31), tensor(56), tensor(56), tensor(593), tensor(536), tensor(615), tensor(142), tensor(336), tensor(172), tensor(74), tensor(376), tensor(364), tensor(364), tensor(98)]\n"
     ]
    },
    {
     "name": "stderr",
     "output_type": "stream",
     "text": [
      " 59%|██████████████████████████████████████████████████████████████████████████████████████████████████████████████▊                                                                             | 554/940 [00:19<00:14, 27.56it/s]"
     ]
    },
    {
     "name": "stdout",
     "output_type": "stream",
     "text": [
      "[tensor(95), tensor(244), tensor(245), tensor(268), tensor(663), tensor(393), tensor(386), tensor(688), tensor(75), tensor(63), tensor(544), tensor(601), tensor(457), tensor(653), tensor(529), tensor(759), tensor(492), tensor(655), tensor(542), tensor(499), tensor(368), tensor(254), tensor(272), tensor(280), tensor(652), tensor(180), tensor(476), tensor(383), tensor(129), tensor(428)]\n",
      "[tensor(7), tensor(332), tensor(91), tensor(19), tensor(685), tensor(132), tensor(43), tensor(107), tensor(324), tensor(570), tensor(53), tensor(96), tensor(224), tensor(748), tensor(816), tensor(255), tensor(393), tensor(59), tensor(245), tensor(586), tensor(690), tensor(123), tensor(254), tensor(584), tensor(696), tensor(272), tensor(770), tensor(166), tensor(726), tensor(833)]\n",
      "[tensor(11), tensor(30), tensor(105), tensor(78), tensor(171), tensor(161), tensor(201), tensor(220), tensor(33), tensor(200), tensor(372), tensor(203), tensor(442), tensor(315), tensor(230), tensor(112), tensor(35), tensor(211), tensor(77), tensor(316), tensor(202), tensor(301), tensor(438), tensor(247), tensor(191), tensor(188), tensor(202), tensor(490), tensor(571), tensor(281)]\n",
      "[tensor(5), tensor(177), tensor(9), tensor(6), tensor(98), tensor(16), tensor(125), tensor(49), tensor(16), tensor(7), tensor(617), tensor(167), tensor(1), tensor(13), tensor(406), tensor(10), tensor(156), tensor(4), tensor(593), tensor(4), tensor(6), tensor(18), tensor(414), tensor(931), tensor(30), tensor(874), tensor(645), tensor(9), tensor(15), tensor(3)]\n",
      "[tensor(8), tensor(115), tensor(337), tensor(115), tensor(238), tensor(246), tensor(542), tensor(526), tensor(286), tensor(360), tensor(607), tensor(114), tensor(515), tensor(193), tensor(213), tensor(42), tensor(283), tensor(84), tensor(222), tensor(319), tensor(615), tensor(166), tensor(362), tensor(544), tensor(542), tensor(487), tensor(618), tensor(185), tensor(511), tensor(788)]\n",
      "[tensor(3), tensor(122), tensor(200), tensor(100), tensor(184), tensor(278), tensor(319), tensor(393), tensor(95), tensor(309), tensor(344), tensor(89), tensor(250), tensor(196), tensor(83), tensor(246), tensor(496), tensor(698), tensor(363), tensor(264), tensor(376), tensor(310), tensor(448), tensor(586), tensor(468), tensor(377), tensor(288), tensor(619), tensor(241), tensor(398)]\n"
     ]
    },
    {
     "name": "stderr",
     "output_type": "stream",
     "text": [
      " 60%|████████████████████████████████████████████████████████████████████████████████████████████████████████████████                                                                            | 560/940 [00:19<00:13, 27.21it/s]"
     ]
    },
    {
     "name": "stdout",
     "output_type": "stream",
     "text": [
      "[tensor(4), tensor(53), tensor(49), tensor(19), tensor(109), tensor(52), tensor(17), tensor(75), tensor(88), tensor(40), tensor(130), tensor(18), tensor(24), tensor(324), tensor(324), tensor(193), tensor(226), tensor(225), tensor(352), tensor(284), tensor(423), tensor(31), tensor(81), tensor(81), tensor(242), tensor(169), tensor(98), tensor(32), tensor(35), tensor(226)]\n",
      "[tensor(7), tensor(3), tensor(108), tensor(162), tensor(208), tensor(102), tensor(144), tensor(15), tensor(125), tensor(259), tensor(245), tensor(46), tensor(15), tensor(121), tensor(55), tensor(67), tensor(310), tensor(526), tensor(108), tensor(62), tensor(269), tensor(285), tensor(273), tensor(537), tensor(69), tensor(469), tensor(139), tensor(108), tensor(98), tensor(734)]\n",
      "[tensor(338), tensor(104), tensor(17), tensor(31), tensor(31), tensor(739), tensor(89), tensor(267), tensor(31), tensor(157), tensor(128), tensor(8), tensor(9), tensor(372), tensor(20), tensor(33), tensor(203), tensor(22), tensor(532), tensor(511), tensor(374), tensor(865), tensor(179), tensor(52), tensor(147), tensor(57), tensor(91), tensor(194), tensor(671), tensor(736)]\n",
      "[tensor(146), tensor(115), tensor(92), tensor(114), tensor(161), tensor(165), tensor(202), tensor(440), tensor(431), tensor(15), tensor(370), tensor(513), tensor(130), tensor(599), tensor(580), tensor(381), tensor(322), tensor(434), tensor(294), tensor(531), tensor(492), tensor(375), tensor(730), tensor(190), tensor(245), tensor(461), tensor(217), tensor(634), tensor(515), tensor(440)]\n",
      "[tensor(5), tensor(13), tensor(47), tensor(47), tensor(47), tensor(57), tensor(88), tensor(202), tensor(299), tensor(166), tensor(293), tensor(293), tensor(335), tensor(132), tensor(346), tensor(366), tensor(488), tensor(188), tensor(206), tensor(220), tensor(194), tensor(409), tensor(200), tensor(289), tensor(461), tensor(240), tensor(395), tensor(285), tensor(318), tensor(355)]\n",
      "[tensor(36), tensor(17), tensor(37), tensor(15), tensor(256), tensor(33), tensor(153), tensor(394), tensor(644), tensor(211), tensor(49), tensor(32), tensor(19), tensor(73), tensor(201), tensor(556), tensor(687), tensor(846), tensor(782), tensor(802), tensor(126), tensor(604), tensor(408), tensor(264), tensor(799), tensor(855), tensor(465), tensor(652), tensor(89), tensor(738)]\n"
     ]
    },
    {
     "name": "stderr",
     "output_type": "stream",
     "text": [
      " 60%|█████████████████████████████████████████████████████████████████████████████████████████████████████████████████▏                                                                          | 566/940 [00:19<00:14, 26.36it/s]"
     ]
    },
    {
     "name": "stdout",
     "output_type": "stream",
     "text": [
      "[tensor(6), tensor(10), tensor(475), tensor(40), tensor(171), tensor(167), tensor(68), tensor(86), tensor(660), tensor(335), tensor(758), tensor(763), tensor(324), tensor(647), tensor(197), tensor(145), tensor(905), tensor(166), tensor(929), tensor(489), tensor(826), tensor(760)]\n",
      "[tensor(192), tensor(163), tensor(92), tensor(78), tensor(152), tensor(122), tensor(246), tensor(339), tensor(374), tensor(347), tensor(370), tensor(274), tensor(238), tensor(212), tensor(410), tensor(212), tensor(381), tensor(129), tensor(129), tensor(264), tensor(390), tensor(448), tensor(412), tensor(423), tensor(132), tensor(222), tensor(274), tensor(217), tensor(331), tensor(454)]\n",
      "[tensor(1), tensor(2), tensor(3), tensor(2), tensor(5), tensor(57), tensor(4), tensor(5), tensor(39), tensor(94), tensor(6), tensor(137), tensor(290), tensor(108), tensor(108), tensor(108), tensor(136), tensor(16), tensor(14), tensor(370), tensor(357), tensor(21), tensor(377), tensor(373), tensor(9), tensor(35), tensor(339), tensor(436), tensor(293), tensor(45)]\n",
      "[tensor(148), tensor(239), tensor(232), tensor(142), tensor(381), tensor(494), tensor(494), tensor(487), tensor(220), tensor(186), tensor(356), tensor(228), tensor(338), tensor(539), tensor(516), tensor(439), tensor(472), tensor(229), tensor(328), tensor(406), tensor(152), tensor(428), tensor(222), tensor(289), tensor(334), tensor(235), tensor(243), tensor(334), tensor(361), tensor(187)]\n",
      "[tensor(170), tensor(254), tensor(152), tensor(157), tensor(380), tensor(285), tensor(405), tensor(281), tensor(231), tensor(305), tensor(457), tensor(459), tensor(301), tensor(377), tensor(388), tensor(409), tensor(437), tensor(357), tensor(499), tensor(441), tensor(291), tensor(475), tensor(487), tensor(492), tensor(401), tensor(514), tensor(501), tensor(586), tensor(700), tensor(554)]\n",
      "[tensor(44), tensor(114), tensor(164), tensor(128), tensor(227), tensor(330), tensor(74), tensor(286), tensor(428), tensor(308), tensor(378), tensor(363), tensor(472), tensor(264), tensor(152), tensor(526), tensor(175), tensor(468), tensor(221), tensor(450), tensor(459), tensor(360), tensor(432), tensor(339), tensor(610), tensor(665), tensor(313), tensor(507), tensor(600), tensor(783)]\n"
     ]
    },
    {
     "name": "stderr",
     "output_type": "stream",
     "text": [
      " 61%|██████████████████████████████████████████████████████████████████████████████████████████████████████████████████▍                                                                         | 572/940 [00:19<00:13, 26.47it/s]"
     ]
    },
    {
     "name": "stdout",
     "output_type": "stream",
     "text": [
      "[tensor(238), tensor(227), tensor(203), tensor(155), tensor(400), tensor(540), tensor(156), tensor(222), tensor(178), tensor(583), tensor(218), tensor(401), tensor(138), tensor(534), tensor(269), tensor(500), tensor(346), tensor(104), tensor(755), tensor(626), tensor(280), tensor(553), tensor(370), tensor(196), tensor(374), tensor(586), tensor(489), tensor(223), tensor(852), tensor(652)]\n",
      "[tensor(100), tensor(117), tensor(206), tensor(190), tensor(247), tensor(11), tensor(96), tensor(81), tensor(13), tensor(337), tensor(275), tensor(278), tensor(152), tensor(91), tensor(231), tensor(307), tensor(84), tensor(283), tensor(173), tensor(709), tensor(272), tensor(648), tensor(86), tensor(334), tensor(31), tensor(649), tensor(669), tensor(608), tensor(120), tensor(253)]\n",
      "[tensor(36), tensor(101), tensor(99), tensor(60), tensor(248), tensor(43), tensor(35), tensor(356), tensor(4), tensor(8), tensor(439), tensor(439), tensor(118), tensor(648), tensor(209), tensor(45), tensor(543), tensor(358), tensor(13), tensor(387), tensor(62), tensor(22), tensor(281), tensor(19), tensor(25), tensor(615), tensor(62), tensor(88), tensor(752), tensor(752)]\n",
      "[tensor(3), tensor(12), tensor(4), tensor(2), tensor(1), tensor(5), tensor(6), tensor(76), tensor(34), tensor(19), tensor(7), tensor(127), tensor(236), tensor(3), tensor(1), tensor(328), tensor(100), tensor(454), tensor(6), tensor(1), tensor(3), tensor(1), tensor(2), tensor(2), tensor(372), tensor(274), tensor(113), tensor(11), tensor(35), tensor(262)]\n",
      "[tensor(181), tensor(33), tensor(66), tensor(228), tensor(62), tensor(320), tensor(333), tensor(189), tensor(237), tensor(17), tensor(406), tensor(374), tensor(374), tensor(256), tensor(63), tensor(455), tensor(328), tensor(3), tensor(21), tensor(99), tensor(26), tensor(630), tensor(243), tensor(78), tensor(82), tensor(82), tensor(376), tensor(53), tensor(450), tensor(702)]\n",
      "[tensor(513), tensor(48), tensor(82), tensor(48), tensor(54), tensor(395), tensor(62), tensor(129), tensor(768), tensor(10), tensor(846), tensor(20), tensor(126), tensor(76), tensor(639), tensor(576), tensor(160), tensor(270), tensor(865), tensor(68), tensor(15), tensor(42), tensor(94), tensor(705), tensor(901), tensor(233), tensor(785), tensor(96), tensor(200), tensor(410)]\n"
     ]
    },
    {
     "name": "stderr",
     "output_type": "stream",
     "text": [
      " 61%|███████████████████████████████████████████████████████████████████████████████████████████████████████████████████▌                                                                        | 578/940 [00:20<00:13, 26.10it/s]"
     ]
    },
    {
     "name": "stdout",
     "output_type": "stream",
     "text": [
      "[tensor(51), tensor(39), tensor(131), tensor(39), tensor(39), tensor(144), tensor(18), tensor(326), tensor(40), tensor(273), tensor(55), tensor(98), tensor(416), tensor(398), tensor(125), tensor(370), tensor(63), tensor(404), tensor(362), tensor(430), tensor(430), tensor(430), tensor(228), tensor(402), tensor(452), tensor(386), tensor(281), tensor(218), tensor(202), tensor(436)]\n",
      "[tensor(13), tensor(191), tensor(175), tensor(35), tensor(534), tensor(66), tensor(568), tensor(37), tensor(146), tensor(153), tensor(801), tensor(98), tensor(128), tensor(69), tensor(265), tensor(47), tensor(65), tensor(424), tensor(47), tensor(376), tensor(39), tensor(159), tensor(159), tensor(415), tensor(230), tensor(740), tensor(286), tensor(146), tensor(669), tensor(503)]\n",
      "[tensor(72), tensor(116), tensor(241), tensor(106), tensor(67), tensor(551), tensor(577), tensor(631), tensor(248), tensor(320), tensor(330), tensor(250), tensor(543), tensor(216), tensor(647), tensor(319), tensor(244), tensor(404), tensor(160), tensor(503), tensor(646), tensor(604), tensor(308), tensor(822), tensor(144), tensor(326), tensor(665), tensor(448), tensor(310), tensor(569)]\n",
      "[tensor(10), tensor(13), tensor(9), tensor(37), tensor(249), tensor(67), tensor(4), tensor(275), tensor(42), tensor(480), tensor(444), tensor(39), tensor(80), tensor(23), tensor(23), tensor(695), tensor(499), tensor(27), tensor(27), tensor(86), tensor(33), tensor(102), tensor(15), tensor(33), tensor(385), tensor(26), tensor(215), tensor(69), tensor(464), tensor(32)]\n",
      "[tensor(110), tensor(17), tensor(6), tensor(382), tensor(25), tensor(175), tensor(188), tensor(10), tensor(583), tensor(704), tensor(46), tensor(48), tensor(582), tensor(116), tensor(30), tensor(483), tensor(438), tensor(290), tensor(45), tensor(87), tensor(533), tensor(417), tensor(102), tensor(854), tensor(322), tensor(415), tensor(434), tensor(456), tensor(480), tensor(628)]\n",
      "[tensor(42), tensor(9), tensor(68), tensor(40), tensor(177), tensor(6), tensor(227), tensor(196), tensor(153), tensor(270), tensor(47), tensor(28), tensor(337), tensor(303), tensor(289), tensor(383), tensor(295), tensor(294), tensor(34), tensor(376), tensor(20), tensor(276), tensor(99), tensor(640), tensor(81), tensor(436), tensor(34), tensor(102), tensor(102), tensor(12)]\n"
     ]
    },
    {
     "name": "stderr",
     "output_type": "stream",
     "text": [
      " 62%|████████████████████████████████████████████████████████████████████████████████████████████████████████████████████▊                                                                       | 584/940 [00:20<00:13, 25.61it/s]"
     ]
    },
    {
     "name": "stdout",
     "output_type": "stream",
     "text": [
      "[tensor(61), tensor(101), tensor(55), tensor(478), tensor(477), tensor(194), tensor(21), tensor(147), tensor(95), tensor(498), tensor(107), tensor(298), tensor(794), tensor(199), tensor(349), tensor(349), tensor(332), tensor(225), tensor(173), tensor(479), tensor(422), tensor(189), tensor(569), tensor(569), tensor(35), tensor(145), tensor(470), tensor(872), tensor(510), tensor(658)]\n",
      "[tensor(138), tensor(41), tensor(389), tensor(582), tensor(28), tensor(274), tensor(327), tensor(124), tensor(359), tensor(154), tensor(63), tensor(254), tensor(757), tensor(810), tensor(490), tensor(750), tensor(252), tensor(309), tensor(425), tensor(457), tensor(633), tensor(697)]\n",
      "[tensor(3), tensor(39), tensor(11), tensor(88), tensor(129), tensor(2), tensor(164), tensor(70), tensor(11), tensor(8), tensor(85), tensor(15), tensor(174), tensor(29), tensor(12), tensor(9), tensor(24), tensor(17), tensor(35), tensor(415), tensor(7), tensor(135), tensor(24), tensor(65), tensor(51), tensor(57), tensor(27), tensor(618), tensor(49), tensor(22)]\n",
      "[tensor(57), tensor(8), tensor(8), tensor(173), tensor(20), tensor(45), tensor(71), tensor(16), tensor(101), tensor(124), tensor(31), tensor(116), tensor(474), tensor(540), tensor(619), tensor(906), tensor(317), tensor(901), tensor(7), tensor(265), tensor(807), tensor(69), tensor(338), tensor(47), tensor(87), tensor(584), tensor(462), tensor(462), tensor(282), tensor(758)]\n",
      "[tensor(50), tensor(96), tensor(119), tensor(416), tensor(406), tensor(14), tensor(625), tensor(16), tensor(479), tensor(20), tensor(75), tensor(123), tensor(73), tensor(54), tensor(33), tensor(768), tensor(30), tensor(60), tensor(731), tensor(54), tensor(126), tensor(491), tensor(41), tensor(829), tensor(166), tensor(666), tensor(136), tensor(109), tensor(77), tensor(566)]\n",
      "[tensor(29), tensor(65), tensor(77), tensor(59), tensor(125), tensor(66), tensor(103), tensor(123), tensor(178), tensor(166), tensor(145), tensor(199), tensor(229), tensor(290), tensor(124), tensor(240), tensor(179), tensor(429), tensor(387), tensor(224), tensor(224), tensor(137), tensor(115), tensor(115), tensor(144), tensor(524), tensor(237), tensor(346), tensor(336), tensor(60)]\n"
     ]
    },
    {
     "name": "stderr",
     "output_type": "stream",
     "text": [
      " 63%|██████████████████████████████████████████████████████████████████████████████████████████████████████████████████████                                                                      | 590/940 [00:20<00:13, 26.59it/s]"
     ]
    },
    {
     "name": "stdout",
     "output_type": "stream",
     "text": [
      "[tensor(217), tensor(251), tensor(217), tensor(427), tensor(708), tensor(354), tensor(391), tensor(157), tensor(161), tensor(564), tensor(476), tensor(785), tensor(87), tensor(261), tensor(36), tensor(716), tensor(64), tensor(128), tensor(391), tensor(605), tensor(81), tensor(705), tensor(810), tensor(250), tensor(260), tensor(627), tensor(89), tensor(117), tensor(842), tensor(751)]\n",
      "[tensor(148), tensor(86), tensor(197), tensor(226), tensor(179), tensor(218), tensor(281), tensor(351), tensor(230), tensor(95), tensor(426), tensor(432), tensor(275), tensor(316), tensor(363), tensor(258), tensor(230), tensor(360), tensor(253), tensor(412), tensor(267), tensor(405), tensor(376), tensor(288), tensor(339), tensor(413), tensor(296), tensor(394), tensor(417), tensor(301)]\n",
      "[tensor(94), tensor(288), tensor(265), tensor(289), tensor(319), tensor(359), tensor(460), tensor(412), tensor(365), tensor(362), tensor(268), tensor(285), tensor(443), tensor(422), tensor(544), tensor(404), tensor(423), tensor(327), tensor(438), tensor(437), tensor(417), tensor(271), tensor(302), tensor(502), tensor(416), tensor(557), tensor(352), tensor(397), tensor(461), tensor(361)]\n",
      "[tensor(1), tensor(99), tensor(186), tensor(153), tensor(4), tensor(196), tensor(201), tensor(294), tensor(343), tensor(39), tensor(74), tensor(47), tensor(413), tensor(666), tensor(561), tensor(360), tensor(447), tensor(96), tensor(20), tensor(335), tensor(210), tensor(397), tensor(55), tensor(234), tensor(423), tensor(389), tensor(245), tensor(139), tensor(113), tensor(451)]\n",
      "[tensor(1), tensor(107), tensor(20), tensor(211), tensor(188), tensor(165), tensor(171), tensor(517), tensor(431), tensor(69), tensor(115), tensor(115), tensor(23), tensor(23), tensor(561), tensor(117), tensor(501), tensor(34), tensor(103), tensor(649), tensor(747), tensor(537), tensor(420), tensor(101), tensor(697), tensor(10), tensor(10), tensor(619), tensor(32), tensor(408)]\n",
      "[tensor(211), tensor(137), tensor(137), tensor(179), tensor(289), tensor(226), tensor(16), tensor(343), tensor(141), tensor(141), tensor(431), tensor(222), tensor(29), tensor(237), tensor(349), tensor(269), tensor(199), tensor(383), tensor(235), tensor(586), tensor(496), tensor(265), tensor(47), tensor(43), tensor(227), tensor(47), tensor(466), tensor(206), tensor(388), tensor(379)]\n"
     ]
    },
    {
     "name": "stderr",
     "output_type": "stream",
     "text": [
      " 63%|███████████████████████████████████████████████████████████████████████████████████████████████████████████████████████▏                                                                    | 596/940 [00:20<00:12, 27.04it/s]"
     ]
    },
    {
     "name": "stdout",
     "output_type": "stream",
     "text": [
      "[tensor(13), tensor(64), tensor(225), tensor(314), tensor(122), tensor(238), tensor(442), tensor(442), tensor(73), tensor(73), tensor(468), tensor(402), tensor(203), tensor(37), tensor(17), tensor(633), tensor(29), tensor(56), tensor(10), tensor(55), tensor(50), tensor(708), tensor(571), tensor(407), tensor(763), tensor(112), tensor(120), tensor(631), tensor(350), tensor(88)]\n",
      "[tensor(23), tensor(17), tensor(82), tensor(4), tensor(87), tensor(47), tensor(39), tensor(154), tensor(152), tensor(42), tensor(42), tensor(87), tensor(174), tensor(222), tensor(211), tensor(246), tensor(285), tensor(151), tensor(137), tensor(411), tensor(77), tensor(299), tensor(115), tensor(115), tensor(404), tensor(463), tensor(165), tensor(80), tensor(228), tensor(352)]\n",
      "[tensor(8), tensor(6), tensor(452), tensor(12), tensor(688), tensor(224), tensor(600), tensor(29), tensor(235), tensor(166), tensor(282), tensor(564), tensor(70), tensor(547), tensor(755), tensor(506), tensor(128), tensor(72), tensor(541), tensor(541), tensor(399), tensor(34), tensor(431), tensor(173), tensor(35), tensor(17), tensor(421), tensor(431), tensor(34), tensor(333)]\n",
      "[tensor(51), tensor(48), tensor(76), tensor(86), tensor(133), tensor(90), tensor(101), tensor(34), tensor(324), tensor(160), tensor(207), tensor(353), tensor(252), tensor(221), tensor(269), tensor(77), tensor(129), tensor(71), tensor(176), tensor(191), tensor(55), tensor(426), tensor(386), tensor(505), tensor(526), tensor(149), tensor(253), tensor(416), tensor(58), tensor(572)]\n",
      "[tensor(2), tensor(28), tensor(97), tensor(57), tensor(30), tensor(45), tensor(55), tensor(112), tensor(131), tensor(424), tensor(106), tensor(49), tensor(14), tensor(29), tensor(76), tensor(31), tensor(38), tensor(550), tensor(188), tensor(115), tensor(34), tensor(70), tensor(41), tensor(111), tensor(187), tensor(551), tensor(325), tensor(72), tensor(60), tensor(595)]\n",
      "[tensor(2), tensor(229), tensor(85), tensor(205), tensor(493), tensor(203), tensor(436), tensor(85), tensor(388), tensor(171), tensor(171), tensor(685), tensor(442), tensor(291), tensor(444), tensor(624), tensor(625), tensor(514), tensor(381), tensor(687), tensor(341), tensor(418), tensor(449), tensor(542), tensor(630), tensor(610), tensor(610), tensor(897), tensor(456), tensor(482)]\n"
     ]
    },
    {
     "name": "stderr",
     "output_type": "stream",
     "text": [
      " 64%|███████████████████████████████████████████████████████████████████████████████████████████████████████████████████████▌                                                                    | 598/940 [00:21<00:12, 28.45it/s]\n"
     ]
    },
    {
     "name": "stdout",
     "output_type": "stream",
     "text": [
      "[tensor(283), tensor(548), tensor(526), tensor(267), tensor(383), tensor(12), tensor(553), tensor(777), tensor(29), tensor(35), tensor(52), tensor(211), tensor(634), tensor(376), tensor(45), tensor(275), tensor(273), tensor(556), tensor(369), tensor(268), tensor(91), tensor(63), tensor(296), tensor(314), tensor(789), tensor(272), tensor(337), tensor(63), tensor(79), tensor(283)]\n"
     ]
    },
    {
     "ename": "KeyboardInterrupt",
     "evalue": "",
     "output_type": "error",
     "traceback": [
      "\u001b[0;31m---------------------------------------------------------------------------\u001b[0m",
      "\u001b[0;31mKeyboardInterrupt\u001b[0m                         Traceback (most recent call last)",
      "Cell \u001b[0;32mIn[7], line 1\u001b[0m\n\u001b[0;32m----> 1\u001b[0m \u001b[43mtrainer\u001b[49m\u001b[38;5;241;43m.\u001b[39;49m\u001b[43mvalid\u001b[49m\u001b[43m(\u001b[49m\u001b[43mmymp\u001b[49m\u001b[43m,\u001b[49m\u001b[43m \u001b[49m\u001b[43muserwise\u001b[49m\u001b[43m)\u001b[49m\n",
      "File \u001b[0;32m~/Library/CloudStorage/OneDrive-個人用/Documents/project/mpcml/experiment/test/../../modules/trainers/BaseTrainer.py:131\u001b[0m, in \u001b[0;36mBaseTrainer.valid\u001b[0;34m(self, search, valid_evaluator)\u001b[0m\n\u001b[1;32m    126\u001b[0m \u001b[38;5;28;01mdef\u001b[39;00m \u001b[38;5;21mvalid\u001b[39m(\n\u001b[1;32m    127\u001b[0m         \u001b[38;5;28mself\u001b[39m,\n\u001b[1;32m    128\u001b[0m         search: BaseSearch,\n\u001b[1;32m    129\u001b[0m         valid_evaluator: Optional[BaseEvaluator]\n\u001b[1;32m    130\u001b[0m ):\n\u001b[0;32m--> 131\u001b[0m     \u001b[38;5;28mself\u001b[39m\u001b[38;5;241m.\u001b[39mvalid_scores \u001b[38;5;241m=\u001b[39m \u001b[43mvalid_evaluator\u001b[49m\u001b[38;5;241;43m.\u001b[39;49m\u001b[43mscore\u001b[49m\u001b[43m(\u001b[49m\u001b[43msearch\u001b[49m\u001b[43m,\u001b[49m\u001b[43m \u001b[49m\u001b[43mno_progressbar\u001b[49m\u001b[38;5;241;43m=\u001b[39;49m\u001b[38;5;28;43mself\u001b[39;49m\u001b[38;5;241;43m.\u001b[39;49m\u001b[43mno_progressbar\u001b[49m\u001b[43m)\u001b[49m\n",
      "File \u001b[0;32m~/Library/CloudStorage/OneDrive-個人用/Documents/project/mpcml/experiment/test/../../modules/evaluators/UserwiseEvaluator.py:107\u001b[0m, in \u001b[0;36mUserwiseEvaluator.score\u001b[0;34m(self, search, reduction, no_progressbar)\u001b[0m\n\u001b[1;32m    104\u001b[0m df_eval \u001b[38;5;241m=\u001b[39m pd\u001b[38;5;241m.\u001b[39mDataFrame({name: [] \u001b[38;5;28;01mfor\u001b[39;00m name \u001b[38;5;129;01min\u001b[39;00m \u001b[38;5;28mself\u001b[39m\u001b[38;5;241m.\u001b[39mmetrics_names})\n\u001b[1;32m    106\u001b[0m \u001b[38;5;28;01mfor\u001b[39;00m uid \u001b[38;5;129;01min\u001b[39;00m tqdm(users, disable\u001b[38;5;241m=\u001b[39mno_progressbar):\n\u001b[0;32m--> 107\u001b[0m     df_eval_sub \u001b[38;5;241m=\u001b[39m \u001b[38;5;28;43mself\u001b[39;49m\u001b[38;5;241;43m.\u001b[39;49m\u001b[43meval_user\u001b[49m\u001b[43m(\u001b[49m\u001b[43msearch\u001b[49m\u001b[43m,\u001b[49m\u001b[43m \u001b[49m\u001b[43muid\u001b[49m\u001b[43m)\u001b[49m\n\u001b[1;32m    108\u001b[0m     df_eval \u001b[38;5;241m=\u001b[39m pd\u001b[38;5;241m.\u001b[39mconcat([df_eval, df_eval_sub])\n\u001b[1;32m    110\u001b[0m \u001b[38;5;28;01mif\u001b[39;00m reduction \u001b[38;5;241m==\u001b[39m \u001b[38;5;124m\"\u001b[39m\u001b[38;5;124mmean\u001b[39m\u001b[38;5;124m\"\u001b[39m:\n",
      "File \u001b[0;32m~/Library/CloudStorage/OneDrive-個人用/Documents/project/mpcml/experiment/test/../../modules/evaluators/UserwiseEvaluator.py:87\u001b[0m, in \u001b[0;36mUserwiseEvaluator.eval_user\u001b[0;34m(self, search, uid)\u001b[0m\n\u001b[1;32m     84\u001b[0m tail \u001b[38;5;241m=\u001b[39m \u001b[38;5;28mself\u001b[39m\u001b[38;5;241m.\u001b[39mtest_set[user_indices, \u001b[38;5;241m4\u001b[39m]\u001b[38;5;241m.\u001b[39mto(\u001b[38;5;124m\"\u001b[39m\u001b[38;5;124mcpu\u001b[39m\u001b[38;5;124m\"\u001b[39m)\u001b[38;5;241m.\u001b[39mdetach()\u001b[38;5;241m.\u001b[39mnumpy()\n\u001b[1;32m     85\u001b[0m y_test_user \u001b[38;5;241m=\u001b[39m [truth, popularity, tail]\n\u001b[0;32m---> 87\u001b[0m \u001b[38;5;28;01mreturn\u001b[39;00m \u001b[38;5;28;43mself\u001b[39;49m\u001b[38;5;241;43m.\u001b[39;49m\u001b[43mcompute_score\u001b[49m\u001b[43m(\u001b[49m\u001b[43my_test_user\u001b[49m\u001b[43m,\u001b[49m\u001b[43m \u001b[49m\u001b[43my_hat_user\u001b[49m\u001b[43m)\u001b[49m\n",
      "File \u001b[0;32m~/Library/CloudStorage/OneDrive-個人用/Documents/project/mpcml/experiment/test/../../modules/evaluators/UserwiseEvaluator.py:56\u001b[0m, in \u001b[0;36mUserwiseEvaluator.compute_score\u001b[0;34m(self, y_test_user, y_hat_user)\u001b[0m\n\u001b[1;32m     51\u001b[0m \u001b[38;5;28;01mdef\u001b[39;00m \u001b[38;5;21mcompute_score\u001b[39m(\n\u001b[1;32m     52\u001b[0m         \u001b[38;5;28mself\u001b[39m, y_test_user: List[np\u001b[38;5;241m.\u001b[39mndarray], y_hat_user: np\u001b[38;5;241m.\u001b[39mndarray\n\u001b[1;32m     53\u001b[0m ) \u001b[38;5;241m-\u001b[39m\u001b[38;5;241m>\u001b[39m pd\u001b[38;5;241m.\u001b[39mDataFrame:\n\u001b[1;32m     55\u001b[0m     df_eval_sub \u001b[38;5;241m=\u001b[39m pd\u001b[38;5;241m.\u001b[39mDataFrame(\n\u001b[0;32m---> 56\u001b[0m         {\n\u001b[1;32m     57\u001b[0m             \u001b[38;5;124mf\u001b[39m\u001b[38;5;124m\"\u001b[39m\u001b[38;5;132;01m{\u001b[39;00mname\u001b[38;5;132;01m}\u001b[39;00m\u001b[38;5;124m@\u001b[39m\u001b[38;5;132;01m{\u001b[39;00mk\u001b[38;5;132;01m}\u001b[39;00m\u001b[38;5;124m\"\u001b[39m: [metric(y_test_user, y_hat_user, k)]\n\u001b[1;32m     58\u001b[0m             \u001b[38;5;28;01mfor\u001b[39;00m k \u001b[38;5;129;01min\u001b[39;00m \u001b[38;5;28mself\u001b[39m\u001b[38;5;241m.\u001b[39mks\n\u001b[1;32m     59\u001b[0m             \u001b[38;5;28;01mfor\u001b[39;00m name, metric \u001b[38;5;129;01min\u001b[39;00m \u001b[38;5;28mself\u001b[39m\u001b[38;5;241m.\u001b[39mscore_function_dict\u001b[38;5;241m.\u001b[39mitems()\n\u001b[1;32m     60\u001b[0m         }\n\u001b[1;32m     61\u001b[0m     )\n\u001b[1;32m     63\u001b[0m     \u001b[38;5;28;01mreturn\u001b[39;00m df_eval_sub\n",
      "File \u001b[0;32m~/Library/CloudStorage/OneDrive-個人用/Documents/project/mpcml/experiment/test/../../modules/evaluators/UserwiseEvaluator.py:57\u001b[0m, in \u001b[0;36m<dictcomp>\u001b[0;34m(.0)\u001b[0m\n\u001b[1;32m     51\u001b[0m \u001b[38;5;28;01mdef\u001b[39;00m \u001b[38;5;21mcompute_score\u001b[39m(\n\u001b[1;32m     52\u001b[0m         \u001b[38;5;28mself\u001b[39m, y_test_user: List[np\u001b[38;5;241m.\u001b[39mndarray], y_hat_user: np\u001b[38;5;241m.\u001b[39mndarray\n\u001b[1;32m     53\u001b[0m ) \u001b[38;5;241m-\u001b[39m\u001b[38;5;241m>\u001b[39m pd\u001b[38;5;241m.\u001b[39mDataFrame:\n\u001b[1;32m     55\u001b[0m     df_eval_sub \u001b[38;5;241m=\u001b[39m pd\u001b[38;5;241m.\u001b[39mDataFrame(\n\u001b[1;32m     56\u001b[0m         {\n\u001b[0;32m---> 57\u001b[0m             \u001b[38;5;124mf\u001b[39m\u001b[38;5;124m\"\u001b[39m\u001b[38;5;132;01m{\u001b[39;00mname\u001b[38;5;132;01m}\u001b[39;00m\u001b[38;5;124m@\u001b[39m\u001b[38;5;132;01m{\u001b[39;00mk\u001b[38;5;132;01m}\u001b[39;00m\u001b[38;5;124m\"\u001b[39m: [\u001b[43mmetric\u001b[49m\u001b[43m(\u001b[49m\u001b[43my_test_user\u001b[49m\u001b[43m,\u001b[49m\u001b[43m \u001b[49m\u001b[43my_hat_user\u001b[49m\u001b[43m,\u001b[49m\u001b[43m \u001b[49m\u001b[43mk\u001b[49m\u001b[43m)\u001b[49m]\n\u001b[1;32m     58\u001b[0m             \u001b[38;5;28;01mfor\u001b[39;00m k \u001b[38;5;129;01min\u001b[39;00m \u001b[38;5;28mself\u001b[39m\u001b[38;5;241m.\u001b[39mks\n\u001b[1;32m     59\u001b[0m             \u001b[38;5;28;01mfor\u001b[39;00m name, metric \u001b[38;5;129;01min\u001b[39;00m \u001b[38;5;28mself\u001b[39m\u001b[38;5;241m.\u001b[39mscore_function_dict\u001b[38;5;241m.\u001b[39mitems()\n\u001b[1;32m     60\u001b[0m         }\n\u001b[1;32m     61\u001b[0m     )\n\u001b[1;32m     63\u001b[0m     \u001b[38;5;28;01mreturn\u001b[39;00m df_eval_sub\n",
      "File \u001b[0;32m~/Library/CloudStorage/OneDrive-個人用/Documents/project/mpcml/experiment/test/../../modules/evaluators/UserwiseEvaluator.py:211\u001b[0m, in \u001b[0;36mf1_score3\u001b[0;34m(y_test_user, y_hat_user, k)\u001b[0m\n\u001b[1;32m    209\u001b[0m \u001b[38;5;28;01mdef\u001b[39;00m \u001b[38;5;21mf1_score3\u001b[39m(y_test_user: List[np\u001b[38;5;241m.\u001b[39mndarray], y_hat_user, k):\n\u001b[1;32m    210\u001b[0m     recall_val \u001b[38;5;241m=\u001b[39m recall(y_test_user, y_hat_user, k)\n\u001b[0;32m--> 211\u001b[0m     unpopularity_val \u001b[38;5;241m=\u001b[39m \u001b[43munpopularity3\u001b[49m\u001b[43m(\u001b[49m\u001b[43my_test_user\u001b[49m\u001b[43m,\u001b[49m\u001b[43m \u001b[49m\u001b[43my_hat_user\u001b[49m\u001b[43m,\u001b[49m\u001b[43m \u001b[49m\u001b[43mk\u001b[49m\u001b[43m)\u001b[49m\n\u001b[1;32m    212\u001b[0m     \u001b[38;5;28;01mif\u001b[39;00m recall_val \u001b[38;5;241m+\u001b[39m unpopularity_val \u001b[38;5;241m==\u001b[39m \u001b[38;5;241m0.0\u001b[39m:\n\u001b[1;32m    213\u001b[0m         \u001b[38;5;28;01mreturn\u001b[39;00m \u001b[38;5;241m0.0\u001b[39m\n",
      "File \u001b[0;32m~/Library/CloudStorage/OneDrive-個人用/Documents/project/mpcml/experiment/test/../../modules/evaluators/UserwiseEvaluator.py:185\u001b[0m, in \u001b[0;36munpopularity3\u001b[0;34m(y_test_user, y_hat_user, k)\u001b[0m\n\u001b[1;32m    182\u001b[0m \u001b[38;5;28;01mif\u001b[39;00m tail\u001b[38;5;241m.\u001b[39msum() \u001b[38;5;241m==\u001b[39m \u001b[38;5;241m0\u001b[39m:\n\u001b[1;32m    183\u001b[0m     \u001b[38;5;28;01mreturn\u001b[39;00m \u001b[38;5;241m0\u001b[39m\n\u001b[0;32m--> 185\u001b[0m pred_rank \u001b[38;5;241m=\u001b[39m \u001b[43m(\u001b[49m\u001b[38;5;241;43m-\u001b[39;49m\u001b[43my_hat_user\u001b[49m\u001b[43m)\u001b[49m\u001b[38;5;241;43m.\u001b[39;49m\u001b[43margsort\u001b[49m\u001b[43m(\u001b[49m\u001b[43m)\u001b[49m\u001b[38;5;241;43m.\u001b[39;49m\u001b[43margsort\u001b[49m\u001b[43m(\u001b[49m\u001b[43m)\u001b[49m \u001b[38;5;241m+\u001b[39m \u001b[38;5;241m1\u001b[39m\n\u001b[1;32m    186\u001b[0m pred_topk_flag \u001b[38;5;241m=\u001b[39m (pred_rank \u001b[38;5;241m<\u001b[39m\u001b[38;5;241m=\u001b[39m k)\u001b[38;5;241m.\u001b[39mastype(\u001b[38;5;28mint\u001b[39m)\n\u001b[1;32m    188\u001b[0m \u001b[38;5;28;01mreturn\u001b[39;00m recall_score(tail, pred_topk_flag)\n",
      "\u001b[0;31mKeyboardInterrupt\u001b[0m: "
     ]
    }
   ],
   "source": [
    "trainer.valid(mymp, userwise)"
   ]
  },
  {
   "cell_type": "code",
   "execution_count": null,
   "id": "183047a2-f8eb-41ce-990d-504a9c2a3d98",
   "metadata": {},
   "outputs": [],
   "source": [
    "trainer.valid_scores"
   ]
  },
  {
   "cell_type": "code",
   "execution_count": null,
   "id": "8629bc70-0fd3-4628-bb18-b94e08e67f80",
   "metadata": {},
   "outputs": [],
   "source": [
    "mp2 = searches.MutualProximity(model, gaussian)"
   ]
  },
  {
   "cell_type": "code",
   "execution_count": null,
   "id": "3e3bfaec-4b28-4c21-9921-e5ac1df97f09",
   "metadata": {},
   "outputs": [],
   "source": [
    "trainer.valid(mp, recall)"
   ]
  },
  {
   "cell_type": "code",
   "execution_count": null,
   "id": "d6f1f6c3-aa1d-4b6f-a83a-57e619923e3e",
   "metadata": {},
   "outputs": [],
   "source": [
    "trainer.valid_scores"
   ]
  },
  {
   "cell_type": "code",
   "execution_count": null,
   "id": "52232dcd-d9e6-4262-88b8-c314b63a80fb",
   "metadata": {},
   "outputs": [],
   "source": []
  }
 ],
 "metadata": {
  "kernelspec": {
   "display_name": "bachelor2",
   "language": "python",
   "name": "bachelor2"
  },
  "language_info": {
   "codemirror_mode": {
    "name": "ipython",
    "version": 3
   },
   "file_extension": ".py",
   "mimetype": "text/x-python",
   "name": "python",
   "nbconvert_exporter": "python",
   "pygments_lexer": "ipython3",
   "version": "3.8.17"
  }
 },
 "nbformat": 4,
 "nbformat_minor": 5
}
