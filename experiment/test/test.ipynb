{
 "cells": [
  {
   "cell_type": "code",
   "execution_count": 1,
   "id": "a8ae7784-e462-4737-bcdf-48cfbc491826",
   "metadata": {
    "tags": []
   },
   "outputs": [],
   "source": [
    "import sys\n",
    "\n",
    "root_dir = '../../'\n",
    "if root_dir not in sys.path:\n",
    "    sys.path.append(root_dir)\n",
    "\n",
    "import torch\n",
    "from torch import nn, optim\n",
    "import numpy as np\n",
    "from sklearn.decomposition import TruncatedSVD\n",
    "from scipy.sparse import csr_matrix\n",
    "\n",
    "from modules import losses, models, samplers, searches, regularizers, evaluators, trainers, datasets, distributions"
   ]
  },
  {
   "cell_type": "code",
   "execution_count": 2,
   "id": "fd101d48-f229-4fcc-9e7d-a0c458da3fb9",
   "metadata": {
    "tags": []
   },
   "outputs": [],
   "source": [
    "dataset = datasets.ML100k()\n",
    "n_user = dataset.n_user\n",
    "n_item = dataset.n_item\n",
    "train_set, test_set = dataset.get_train_and_test_set()\n",
    "\n",
    "# device setting\n",
    "device = torch.device(\"cuda:0\" if torch.cuda.is_available() else \"cpu\")\n",
    "train_set = torch.LongTensor(train_set).to(device)\n",
    "test_set = torch.LongTensor(test_set).to(device)"
   ]
  },
  {
   "cell_type": "code",
   "execution_count": 3,
   "id": "51d01c4e-69bc-4728-a8f0-227353137f9d",
   "metadata": {
    "tags": []
   },
   "outputs": [],
   "source": [
    "# k\n",
    "ks = [5, 10, 50]\n",
    "\n",
    "recall = evaluators.RecallEvaluator(test_set, ks)\n",
    "unpopularity = evaluators.UnpopularityEvaluator(test_set, ks)\n",
    "f1_score = evaluators.F1ScoreEvaluator(test_set, ks)\n",
    "coverage = evaluators.CoverageEvaluator(test_set, ks)\n",
    "hubness = evaluators.HubnessEvaluator(test_set, ks)"
   ]
  },
  {
   "cell_type": "code",
   "execution_count": 4,
   "id": "81e30c11-a001-4ca2-95ff-878cbba30cbe",
   "metadata": {
    "tags": []
   },
   "outputs": [],
   "source": [
    "sampler = samplers.BaseSampler(train_set, n_user, n_item, device=device, strict_negative=False)"
   ]
  },
  {
   "cell_type": "code",
   "execution_count": 5,
   "id": "800a4df2-468c-43c2-b0c1-70231299903c",
   "metadata": {
    "tags": []
   },
   "outputs": [],
   "source": [
    "# Hyperparameters\n",
    "lr = 1e-3\n",
    "n_dim = 10\n",
    "n_batch = 256\n",
    "n_epoch = 10\n",
    "valid_per_epoch = 10\n",
    "n_item_sample = 30\n",
    "n_user_sample = 30\n",
    "no_progressbar = False\n",
    "\n",
    "# models\n",
    "model = models.CollaborativeMetricLearning(n_user, n_item, n_dim).to(device)\n",
    "\n",
    "# distributiuons\n",
    "gaussian = distributions.Gaussian()\n",
    "gamma = distributions.Gamma()\n",
    "\n",
    "# search\n",
    "knn = searches.NearestNeighborhood(model)\n",
    "mp = searches.MutualProximity(model, gamma)\n",
    "\n",
    "# learning late optimizer\n",
    "optimizer = optim.Adam(model.parameters(), lr=lr)\n",
    "\n",
    "# loss function\n",
    "criterion = losses.SumTripletLoss(margin=1).to(device)\n",
    "\n",
    "# trainer\n",
    "trainer = trainers.BaseTrainer(model, optimizer, criterion, sampler, no_progressbar)"
   ]
  },
  {
   "cell_type": "code",
   "execution_count": 21,
   "id": "d7c67a27-64d1-450b-937c-90e5ed1bb4be",
   "metadata": {
    "tags": []
   },
   "outputs": [
    {
     "name": "stderr",
     "output_type": "stream",
     "text": [
      "100%|███████████████████████████████████████████████████████████████████████████████████████████████████████████████████████████████████████████████████████████████████████████████████████████| 940/940 [00:05<00:00, 185.52it/s]\n",
      "epoch1 avg_loss:0.255: 100%|█████████████████████████████████████████████████████████████████████████████████████████████████████████████████████████████████████████████████████████████████████| 256/256 [00:03<00:00, 72.68it/s]\n",
      "epoch2 avg_loss:0.254: 100%|█████████████████████████████████████████████████████████████████████████████████████████████████████████████████████████████████████████████████████████████████████| 256/256 [00:04<00:00, 62.65it/s]\n",
      "epoch3 avg_loss:0.252: 100%|█████████████████████████████████████████████████████████████████████████████████████████████████████████████████████████████████████████████████████████████████████| 256/256 [00:03<00:00, 67.53it/s]\n",
      "epoch4 avg_loss:0.251: 100%|█████████████████████████████████████████████████████████████████████████████████████████████████████████████████████████████████████████████████████████████████████| 256/256 [00:03<00:00, 65.73it/s]\n",
      "epoch5 avg_loss:0.250: 100%|█████████████████████████████████████████████████████████████████████████████████████████████████████████████████████████████████████████████████████████████████████| 256/256 [00:04<00:00, 63.83it/s]\n",
      "epoch6 avg_loss:0.248: 100%|█████████████████████████████████████████████████████████████████████████████████████████████████████████████████████████████████████████████████████████████████████| 256/256 [00:03<00:00, 76.48it/s]\n",
      "epoch7 avg_loss:0.247: 100%|█████████████████████████████████████████████████████████████████████████████████████████████████████████████████████████████████████████████████████████████████████| 256/256 [00:03<00:00, 75.52it/s]\n",
      "epoch8 avg_loss:0.247: 100%|█████████████████████████████████████████████████████████████████████████████████████████████████████████████████████████████████████████████████████████████████████| 256/256 [00:03<00:00, 75.14it/s]\n",
      "epoch9 avg_loss:0.245: 100%|█████████████████████████████████████████████████████████████████████████████████████████████████████████████████████████████████████████████████████████████████████| 256/256 [00:03<00:00, 83.56it/s]\n",
      "epoch10 avg_loss:0.245: 100%|████████████████████████████████████████████████████████████████████████████████████████████████████████████████████████████████████████████████████████████████████| 256/256 [00:02<00:00, 87.38it/s]\n",
      "100%|███████████████████████████████████████████████████████████████████████████████████████████████████████████████████████████████████████████████████████████████████████████████████████████| 940/940 [00:04<00:00, 211.05it/s]\n"
     ]
    }
   ],
   "source": [
    "trainer.fit(n_batch, n_epoch, knn, recall, valid_per_epoch)"
   ]
  },
  {
   "cell_type": "code",
   "execution_count": 22,
   "id": "16f99c95-706a-43ef-b33a-40551f9ba687",
   "metadata": {},
   "outputs": [
    {
     "data": {
      "text/html": [
       "<div>\n",
       "<style scoped>\n",
       "    .dataframe tbody tr th:only-of-type {\n",
       "        vertical-align: middle;\n",
       "    }\n",
       "\n",
       "    .dataframe tbody tr th {\n",
       "        vertical-align: top;\n",
       "    }\n",
       "\n",
       "    .dataframe thead th {\n",
       "        text-align: right;\n",
       "    }\n",
       "</style>\n",
       "<table border=\"1\" class=\"dataframe\">\n",
       "  <thead>\n",
       "    <tr style=\"text-align: right;\">\n",
       "      <th></th>\n",
       "      <th>Recall@5</th>\n",
       "      <th>Recall@10</th>\n",
       "      <th>Recall@50</th>\n",
       "      <th>epoch</th>\n",
       "      <th>losses</th>\n",
       "    </tr>\n",
       "  </thead>\n",
       "  <tbody>\n",
       "    <tr>\n",
       "      <th>0</th>\n",
       "      <td>0.374698</td>\n",
       "      <td>0.543694</td>\n",
       "      <td>0.876263</td>\n",
       "      <td>0</td>\n",
       "      <td>NaN</td>\n",
       "    </tr>\n",
       "    <tr>\n",
       "      <th>0</th>\n",
       "      <td>0.385802</td>\n",
       "      <td>0.557179</td>\n",
       "      <td>0.882815</td>\n",
       "      <td>10</td>\n",
       "      <td>0.244505</td>\n",
       "    </tr>\n",
       "  </tbody>\n",
       "</table>\n",
       "</div>"
      ],
      "text/plain": [
       "   Recall@5  Recall@10  Recall@50  epoch    losses\n",
       "0  0.374698   0.543694   0.876263      0       NaN\n",
       "0  0.385802   0.557179   0.882815     10  0.244505"
      ]
     },
     "execution_count": 22,
     "metadata": {},
     "output_type": "execute_result"
    }
   ],
   "source": [
    "trainer.valid_scores"
   ]
  },
  {
   "cell_type": "code",
   "execution_count": 16,
   "id": "ced7876b-81d7-4751-aa46-60b7763d1296",
   "metadata": {},
   "outputs": [
    {
     "name": "stderr",
     "output_type": "stream",
     "text": [
      "100%|████████████████████████████████████████████████████████████████████████████████████████████████████████████████████████████████████████████████████████████████████████████████████████████| 940/940 [00:12<00:00, 76.29it/s]\n"
     ]
    }
   ],
   "source": [
    "trainer.valid(mp, recall)"
   ]
  },
  {
   "cell_type": "code",
   "execution_count": 17,
   "id": "183047a2-f8eb-41ce-990d-504a9c2a3d98",
   "metadata": {},
   "outputs": [
    {
     "data": {
      "text/html": [
       "<div>\n",
       "<style scoped>\n",
       "    .dataframe tbody tr th:only-of-type {\n",
       "        vertical-align: middle;\n",
       "    }\n",
       "\n",
       "    .dataframe tbody tr th {\n",
       "        vertical-align: top;\n",
       "    }\n",
       "\n",
       "    .dataframe thead th {\n",
       "        text-align: right;\n",
       "    }\n",
       "</style>\n",
       "<table border=\"1\" class=\"dataframe\">\n",
       "  <thead>\n",
       "    <tr style=\"text-align: right;\">\n",
       "      <th></th>\n",
       "      <th>Recall@5</th>\n",
       "      <th>Recall@10</th>\n",
       "      <th>Recall@50</th>\n",
       "    </tr>\n",
       "  </thead>\n",
       "  <tbody>\n",
       "    <tr>\n",
       "      <th>0</th>\n",
       "      <td>0.294468</td>\n",
       "      <td>0.451634</td>\n",
       "      <td>0.834788</td>\n",
       "    </tr>\n",
       "  </tbody>\n",
       "</table>\n",
       "</div>"
      ],
      "text/plain": [
       "   Recall@5  Recall@10  Recall@50\n",
       "0  0.294468   0.451634   0.834788"
      ]
     },
     "execution_count": 17,
     "metadata": {},
     "output_type": "execute_result"
    }
   ],
   "source": [
    "trainer.valid_scores"
   ]
  },
  {
   "cell_type": "code",
   "execution_count": 18,
   "id": "8629bc70-0fd3-4628-bb18-b94e08e67f80",
   "metadata": {},
   "outputs": [],
   "source": [
    "mp2 = searches.MutualProximity(model, gaussian)"
   ]
  },
  {
   "cell_type": "code",
   "execution_count": 19,
   "id": "3e3bfaec-4b28-4c21-9921-e5ac1df97f09",
   "metadata": {},
   "outputs": [
    {
     "name": "stderr",
     "output_type": "stream",
     "text": [
      "100%|████████████████████████████████████████████████████████████████████████████████████████████████████████████████████████████████████████████████████████████████████████████████████████████| 940/940 [00:12<00:00, 75.30it/s]\n"
     ]
    }
   ],
   "source": [
    "trainer.valid(mp, recall)"
   ]
  },
  {
   "cell_type": "code",
   "execution_count": 20,
   "id": "d6f1f6c3-aa1d-4b6f-a83a-57e619923e3e",
   "metadata": {},
   "outputs": [
    {
     "data": {
      "text/html": [
       "<div>\n",
       "<style scoped>\n",
       "    .dataframe tbody tr th:only-of-type {\n",
       "        vertical-align: middle;\n",
       "    }\n",
       "\n",
       "    .dataframe tbody tr th {\n",
       "        vertical-align: top;\n",
       "    }\n",
       "\n",
       "    .dataframe thead th {\n",
       "        text-align: right;\n",
       "    }\n",
       "</style>\n",
       "<table border=\"1\" class=\"dataframe\">\n",
       "  <thead>\n",
       "    <tr style=\"text-align: right;\">\n",
       "      <th></th>\n",
       "      <th>Recall@5</th>\n",
       "      <th>Recall@10</th>\n",
       "      <th>Recall@50</th>\n",
       "    </tr>\n",
       "  </thead>\n",
       "  <tbody>\n",
       "    <tr>\n",
       "      <th>0</th>\n",
       "      <td>0.291078</td>\n",
       "      <td>0.454359</td>\n",
       "      <td>0.836245</td>\n",
       "    </tr>\n",
       "  </tbody>\n",
       "</table>\n",
       "</div>"
      ],
      "text/plain": [
       "   Recall@5  Recall@10  Recall@50\n",
       "0  0.291078   0.454359   0.836245"
      ]
     },
     "execution_count": 20,
     "metadata": {},
     "output_type": "execute_result"
    }
   ],
   "source": [
    "trainer.valid_scores"
   ]
  },
  {
   "cell_type": "code",
   "execution_count": null,
   "id": "52232dcd-d9e6-4262-88b8-c314b63a80fb",
   "metadata": {},
   "outputs": [],
   "source": []
  }
 ],
 "metadata": {
  "kernelspec": {
   "display_name": "bachelor2",
   "language": "python",
   "name": "bachelor2"
  },
  "language_info": {
   "codemirror_mode": {
    "name": "ipython",
    "version": 3
   },
   "file_extension": ".py",
   "mimetype": "text/x-python",
   "name": "python",
   "nbconvert_exporter": "python",
   "pygments_lexer": "ipython3",
   "version": "3.8.17"
  }
 },
 "nbformat": 4,
 "nbformat_minor": 5
}
