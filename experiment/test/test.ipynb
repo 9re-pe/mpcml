{
 "cells": [
  {
   "cell_type": "code",
   "execution_count": 1,
   "id": "a8ae7784-e462-4737-bcdf-48cfbc491826",
   "metadata": {
    "tags": []
   },
   "outputs": [],
   "source": [
    "import sys\n",
    "\n",
    "root_dir = '../../'\n",
    "if root_dir not in sys.path:\n",
    "    sys.path.append(root_dir)\n",
    "\n",
    "import torch\n",
    "from torch import nn, optim\n",
    "import numpy as np\n",
    "from sklearn.decomposition import TruncatedSVD\n",
    "from scipy.sparse import csr_matrix\n",
    "\n",
    "from modules import losses, models, samplers, regularizers, evaluators, trainers, datasets, distributions"
   ]
  },
  {
   "cell_type": "code",
   "execution_count": 2,
   "id": "fd101d48-f229-4fcc-9e7d-a0c458da3fb9",
   "metadata": {
    "tags": []
   },
   "outputs": [],
   "source": [
    "dataset = datasets.ML100k()\n",
    "n_user = dataset.n_user\n",
    "n_item = dataset.n_item\n",
    "train_set, test_set = dataset.get_train_and_test_set()\n",
    "\n",
    "# device setting\n",
    "device = torch.device(\"cuda:0\" if torch.cuda.is_available() else \"cpu\")\n",
    "train_set = torch.LongTensor(train_set).to(device)\n",
    "test_set = torch.LongTensor(test_set).to(device)"
   ]
  },
  {
   "cell_type": "code",
   "execution_count": 3,
   "id": "51d01c4e-69bc-4728-a8f0-227353137f9d",
   "metadata": {
    "tags": []
   },
   "outputs": [],
   "source": [
    "# k\n",
    "ks = [5, 10, 50]\n",
    "\n",
    "# Recall\n",
    "recall = evaluators.RecallEvaluator(test_set, ks)\n",
    "\n",
    "# Unpopularity\n",
    "unpopularity = evaluators.UnpopularityEvaluator(test_set, ks)\n",
    "\n",
    "# F1-Score (Recall-Unpopularity)\n",
    "f1_score = evaluators.F1ScoreEvaluator(test_set, ks)\n",
    "\n",
    "# Coverage\n",
    "coverage = evaluators.CoverageEvaluator(test_set, ks)\n",
    "\n",
    "# Hubness\n",
    "hubness = evaluators.HubnessEvaluator(test_set, ks)"
   ]
  },
  {
   "cell_type": "code",
   "execution_count": 4,
   "id": "81e30c11-a001-4ca2-95ff-878cbba30cbe",
   "metadata": {
    "tags": []
   },
   "outputs": [],
   "source": [
    "sampler = samplers.BaseSampler(train_set, n_user, n_item, device=device, strict_negative=False)"
   ]
  },
  {
   "cell_type": "code",
   "execution_count": 5,
   "id": "800a4df2-468c-43c2-b0c1-70231299903c",
   "metadata": {
    "tags": []
   },
   "outputs": [],
   "source": [
    "# Hyperparameters\n",
    "lr = 1e-3\n",
    "n_dim = 10\n",
    "n_batch = 256\n",
    "n_epoch = 50\n",
    "valid_per_epoch = 10\n",
    "n_item_sample = 30\n",
    "n_user_sample = 30\n",
    "no_progressbar = True\n",
    "\n",
    "# distributiuons\n",
    "dist1 = distributions.Empirical()\n",
    "dist2 = distributions.Gaussian()\n",
    "dist3 = distributions.Gamma()\n",
    "\n",
    "# models\n",
    "model0 = models.CollaborativeMetricLearning(n_user, n_item, n_dim).to(device)\n",
    "model1 = models.MutualProximityCML(n_user, n_item, dist1, n_dim, n_item_sample, n_user_sample).to(device)\n",
    "model2 = models.MutualProximityCML(n_user, n_item, dist2, n_dim, n_item_sample, n_user_sample).to(device)\n",
    "model3 = models.MutualProximityCML(n_user, n_item, dist3, n_dim, n_item_sample, n_user_sample).to(device)\n",
    "\n",
    "# learning late optimizer\n",
    "optimizer0 = optim.Adam(model0.parameters(), lr=lr)\n",
    "optimizer1 = optim.Adam(model1.parameters(), lr=lr)\n",
    "optimizer2 = optim.Adam(model2.parameters(), lr=lr)\n",
    "optimizer3 = optim.Adam(model3.parameters(), lr=lr)\n",
    "\n",
    "# loss function\n",
    "criterion = losses.SumTripletLoss(margin=1).to(device)\n",
    "\n",
    "# trainer\n",
    "trainer0 = trainers.BaseTrainer(model0, optimizer0, criterion, sampler, no_progressbar)\n",
    "trainer1 = trainers.BaseTrainer(model1, optimizer1, criterion, sampler, no_progressbar)\n",
    "trainer2 = trainers.BaseTrainer(model2, optimizer2, criterion, sampler, no_progressbar)\n",
    "trainer3 = trainers.BaseTrainer(model3, optimizer3, criterion, sampler, no_progressbar)"
   ]
  },
  {
   "cell_type": "code",
   "execution_count": 6,
   "id": "d7c67a27-64d1-450b-937c-90e5ed1bb4be",
   "metadata": {
    "tags": []
   },
   "outputs": [
    {
     "name": "stdout",
     "output_type": "stream",
     "text": [
      "<class 'list'>\n"
     ]
    },
    {
     "ename": "TypeError",
     "evalue": "sort() received an invalid combination of arguments - got (list, dim=int), but expected one of:\n * (Tensor input, *, bool stable, int dim, bool descending, tuple of Tensors out)\n * (Tensor input, int dim, bool descending, *, tuple of Tensors out)\n * (Tensor input, *, bool stable, name dim, bool descending, tuple of Tensors out)\n * (Tensor input, name dim, bool descending, *, tuple of Tensors out)\n",
     "output_type": "error",
     "traceback": [
      "\u001b[0;31m---------------------------------------------------------------------------\u001b[0m",
      "\u001b[0;31mTypeError\u001b[0m                                 Traceback (most recent call last)",
      "Cell \u001b[0;32mIn[6], line 1\u001b[0m\n\u001b[0;32m----> 1\u001b[0m \u001b[43mtrainer1\u001b[49m\u001b[38;5;241;43m.\u001b[39;49m\u001b[43mfit\u001b[49m\u001b[43m(\u001b[49m\u001b[43mn_batch\u001b[49m\u001b[43m,\u001b[49m\u001b[43m \u001b[49m\u001b[43mn_epoch\u001b[49m\u001b[43m,\u001b[49m\u001b[43m \u001b[49m\u001b[43mrecall\u001b[49m\u001b[43m,\u001b[49m\u001b[43m \u001b[49m\u001b[43mvalid_per_epoch\u001b[49m\u001b[43m)\u001b[49m\n",
      "File \u001b[0;32m~/project/mpcml/experiment/test/../../modules/trainers/BaseTrainer.py:57\u001b[0m, in \u001b[0;36mBaseTrainer.fit\u001b[0;34m(self, n_batch, n_epoch, valid_evaluator, valid_per_epoch)\u001b[0m\n\u001b[1;32m     55\u001b[0m valid_or_not \u001b[38;5;241m=\u001b[39m valid_evaluator \u001b[38;5;129;01mis\u001b[39;00m \u001b[38;5;129;01mnot\u001b[39;00m \u001b[38;5;28;01mNone\u001b[39;00m\n\u001b[1;32m     56\u001b[0m \u001b[38;5;28;01mif\u001b[39;00m valid_or_not:\n\u001b[0;32m---> 57\u001b[0m     \u001b[38;5;28mself\u001b[39m\u001b[38;5;241m.\u001b[39mvalid_scores \u001b[38;5;241m=\u001b[39m \u001b[43mvalid_evaluator\u001b[49m\u001b[38;5;241;43m.\u001b[39;49m\u001b[43mscore\u001b[49m\u001b[43m(\u001b[49m\u001b[38;5;28;43mself\u001b[39;49m\u001b[38;5;241;43m.\u001b[39;49m\u001b[43mmodel\u001b[49m\u001b[43m,\u001b[49m\u001b[43m \u001b[49m\u001b[43mno_progressbar\u001b[49m\u001b[38;5;241;43m=\u001b[39;49m\u001b[38;5;28;43mself\u001b[39;49m\u001b[38;5;241;43m.\u001b[39;49m\u001b[43mno_progressbar\u001b[49m\u001b[43m)\u001b[49m\n\u001b[1;32m     58\u001b[0m     \u001b[38;5;28mself\u001b[39m\u001b[38;5;241m.\u001b[39mvalid_scores[\u001b[38;5;124m\"\u001b[39m\u001b[38;5;124mepoch\u001b[39m\u001b[38;5;124m\"\u001b[39m] \u001b[38;5;241m=\u001b[39m \u001b[38;5;241m0\u001b[39m\n\u001b[1;32m     59\u001b[0m     \u001b[38;5;28mself\u001b[39m\u001b[38;5;241m.\u001b[39mvalid_scores[\u001b[38;5;124m\"\u001b[39m\u001b[38;5;124mlosses\u001b[39m\u001b[38;5;124m\"\u001b[39m] \u001b[38;5;241m=\u001b[39m np\u001b[38;5;241m.\u001b[39mnan\n",
      "File \u001b[0;32m~/project/mpcml/experiment/test/../../modules/evaluators/UserwiseEvaluator.py:82\u001b[0m, in \u001b[0;36mUserwiseEvaluator.score\u001b[0;34m(self, model, reduction, no_progressbar)\u001b[0m\n\u001b[1;32m     79\u001b[0m df_eval \u001b[38;5;241m=\u001b[39m pd\u001b[38;5;241m.\u001b[39mDataFrame({\u001b[38;5;124mf\u001b[39m\u001b[38;5;124m\"\u001b[39m\u001b[38;5;132;01m{\u001b[39;00m\u001b[38;5;28mself\u001b[39m\u001b[38;5;241m.\u001b[39mmetric_name\u001b[38;5;132;01m}\u001b[39;00m\u001b[38;5;124m@\u001b[39m\u001b[38;5;132;01m{\u001b[39;00mk\u001b[38;5;132;01m}\u001b[39;00m\u001b[38;5;124m\"\u001b[39m: [] \u001b[38;5;28;01mfor\u001b[39;00m k \u001b[38;5;129;01min\u001b[39;00m \u001b[38;5;28mself\u001b[39m\u001b[38;5;241m.\u001b[39mks})\n\u001b[1;32m     81\u001b[0m \u001b[38;5;28;01mfor\u001b[39;00m uid \u001b[38;5;129;01min\u001b[39;00m tqdm(users, disable\u001b[38;5;241m=\u001b[39mno_progressbar):\n\u001b[0;32m---> 82\u001b[0m     df_eval_sub \u001b[38;5;241m=\u001b[39m \u001b[38;5;28;43mself\u001b[39;49m\u001b[38;5;241;43m.\u001b[39;49m\u001b[43meval_user\u001b[49m\u001b[43m(\u001b[49m\u001b[43mmodel\u001b[49m\u001b[43m,\u001b[49m\u001b[43m \u001b[49m\u001b[43muid\u001b[49m\u001b[43m)\u001b[49m\n\u001b[1;32m     83\u001b[0m     df_eval \u001b[38;5;241m=\u001b[39m pd\u001b[38;5;241m.\u001b[39mconcat([df_eval, df_eval_sub])\n\u001b[1;32m     85\u001b[0m \u001b[38;5;28;01mif\u001b[39;00m reduction \u001b[38;5;241m==\u001b[39m \u001b[38;5;124m\"\u001b[39m\u001b[38;5;124mmean\u001b[39m\u001b[38;5;124m\"\u001b[39m:\n",
      "File \u001b[0;32m~/project/mpcml/experiment/test/../../modules/evaluators/UserwiseEvaluator.py:60\u001b[0m, in \u001b[0;36mUserwiseEvaluator.eval_user\u001b[0;34m(self, model, uid)\u001b[0m\n\u001b[1;32m     58\u001b[0m \u001b[38;5;28;01mfor\u001b[39;00m col \u001b[38;5;129;01min\u001b[39;00m \u001b[38;5;28mself\u001b[39m\u001b[38;5;241m.\u001b[39meval_cols:\n\u001b[1;32m     59\u001b[0m     li_y_test_user\u001b[38;5;241m.\u001b[39mappend(\u001b[38;5;28mself\u001b[39m\u001b[38;5;241m.\u001b[39mtest_set[user_indices, col]\u001b[38;5;241m.\u001b[39mto(\u001b[38;5;124m\"\u001b[39m\u001b[38;5;124mcpu\u001b[39m\u001b[38;5;124m\"\u001b[39m)\u001b[38;5;241m.\u001b[39mdetach()\u001b[38;5;241m.\u001b[39mnumpy())\n\u001b[0;32m---> 60\u001b[0m y_hat_user \u001b[38;5;241m=\u001b[39m \u001b[43mmodel\u001b[49m\u001b[38;5;241;43m.\u001b[39;49m\u001b[43mpredict\u001b[49m\u001b[43m(\u001b[49m\u001b[43mtest_set_pair\u001b[49m\u001b[43m)\u001b[49m\u001b[38;5;241m.\u001b[39mto(\u001b[38;5;124m\"\u001b[39m\u001b[38;5;124mcpu\u001b[39m\u001b[38;5;124m\"\u001b[39m)\u001b[38;5;241m.\u001b[39mdetach()\u001b[38;5;241m.\u001b[39mnumpy()\n\u001b[1;32m     62\u001b[0m \u001b[38;5;28;01mreturn\u001b[39;00m \u001b[38;5;28mself\u001b[39m\u001b[38;5;241m.\u001b[39mcompute_score(li_y_test_user, y_hat_user)\n",
      "File \u001b[0;32m~/project/mpcml/experiment/test/../../modules/models/MutualProximityCML.py:139\u001b[0m, in \u001b[0;36mMutualProximityCML.predict\u001b[0;34m(self, pairs)\u001b[0m\n\u001b[1;32m    137\u001b[0m users_params \u001b[38;5;241m=\u001b[39m \u001b[38;5;28mself\u001b[39m\u001b[38;5;241m.\u001b[39mcompute_users_distribution_params(users, n_pairs)  \u001b[38;5;66;03m# [n_pairs]\u001b[39;00m\n\u001b[1;32m    138\u001b[0m items_params \u001b[38;5;241m=\u001b[39m \u001b[38;5;28mself\u001b[39m\u001b[38;5;241m.\u001b[39mcompute_items_distribution_params(items, n_pairs)  \u001b[38;5;66;03m# [n_pairs]\u001b[39;00m\n\u001b[0;32m--> 139\u001b[0m mp \u001b[38;5;241m=\u001b[39m \u001b[38;5;28;43mself\u001b[39;49m\u001b[38;5;241;43m.\u001b[39;49m\u001b[43mcompute_mp\u001b[49m\u001b[43m(\u001b[49m\u001b[43mdistances\u001b[49m\u001b[43m,\u001b[49m\u001b[43m \u001b[49m\u001b[43musers_params\u001b[49m\u001b[43m,\u001b[49m\u001b[43m \u001b[49m\u001b[43mitems_params\u001b[49m\u001b[43m)\u001b[49m\n\u001b[1;32m    141\u001b[0m \u001b[38;5;28;01mreturn\u001b[39;00m mp\n",
      "File \u001b[0;32m~/project/mpcml/experiment/test/../../modules/models/MutualProximityCML.py:112\u001b[0m, in \u001b[0;36mMutualProximityCML.compute_mp\u001b[0;34m(self, distances, users_params, items_params)\u001b[0m\n\u001b[1;32m    110\u001b[0m users_params \u001b[38;5;241m=\u001b[39m [param\u001b[38;5;241m.\u001b[39mto(\u001b[38;5;28mself\u001b[39m\u001b[38;5;241m.\u001b[39mdevice) \u001b[38;5;28;01mfor\u001b[39;00m param \u001b[38;5;129;01min\u001b[39;00m users_params]\n\u001b[1;32m    111\u001b[0m items_params \u001b[38;5;241m=\u001b[39m [param\u001b[38;5;241m.\u001b[39mto(\u001b[38;5;28mself\u001b[39m\u001b[38;5;241m.\u001b[39mdevice) \u001b[38;5;28;01mfor\u001b[39;00m param \u001b[38;5;129;01min\u001b[39;00m items_params]\n\u001b[0;32m--> 112\u001b[0m x_distribution \u001b[38;5;241m=\u001b[39m \u001b[38;5;28;43mself\u001b[39;49m\u001b[38;5;241;43m.\u001b[39;49m\u001b[43mdistribution\u001b[49m\u001b[38;5;241;43m.\u001b[39;49m\u001b[43mget_distribution\u001b[49m\u001b[43m(\u001b[49m\u001b[43musers_params\u001b[49m\u001b[43m)\u001b[49m\n\u001b[1;32m    113\u001b[0m y_distribution \u001b[38;5;241m=\u001b[39m \u001b[38;5;28mself\u001b[39m\u001b[38;5;241m.\u001b[39mdistribution\u001b[38;5;241m.\u001b[39mget_distribution(items_params)\n\u001b[1;32m    114\u001b[0m mp \u001b[38;5;241m=\u001b[39m (\u001b[38;5;241m1\u001b[39m \u001b[38;5;241m-\u001b[39m x_distribution\u001b[38;5;241m.\u001b[39mcdf(distances)) \u001b[38;5;241m*\u001b[39m (\u001b[38;5;241m1\u001b[39m \u001b[38;5;241m-\u001b[39m y_distribution\u001b[38;5;241m.\u001b[39mcdf(distances))\n",
      "File \u001b[0;32m~/project/mpcml/experiment/test/../../modules/distributions/Empirical.py:19\u001b[0m, in \u001b[0;36mEmpirical.get_distribution\u001b[0;34m(all_data)\u001b[0m\n\u001b[1;32m     16\u001b[0m \u001b[38;5;129m@staticmethod\u001b[39m\n\u001b[1;32m     17\u001b[0m \u001b[38;5;28;01mdef\u001b[39;00m \u001b[38;5;21mget_distribution\u001b[39m(all_data):\n\u001b[0;32m---> 19\u001b[0m     \u001b[38;5;28;01mreturn\u001b[39;00m \u001b[43mDistEmpirical\u001b[49m\u001b[43m(\u001b[49m\u001b[43mall_data\u001b[49m\u001b[43m)\u001b[49m\n",
      "File \u001b[0;32m~/project/mpcml/experiment/test/../../modules/distributions/Empirical.py:29\u001b[0m, in \u001b[0;36mDistEmpirical.__init__\u001b[0;34m(self, data)\u001b[0m\n\u001b[1;32m     27\u001b[0m \u001b[38;5;28mprint\u001b[39m(\u001b[38;5;28mtype\u001b[39m(data))\n\u001b[1;32m     28\u001b[0m \u001b[38;5;28mself\u001b[39m\u001b[38;5;241m.\u001b[39mdata \u001b[38;5;241m=\u001b[39m data\n\u001b[0;32m---> 29\u001b[0m \u001b[38;5;28mself\u001b[39m\u001b[38;5;241m.\u001b[39msorted_data, _ \u001b[38;5;241m=\u001b[39m \u001b[43mtorch\u001b[49m\u001b[38;5;241;43m.\u001b[39;49m\u001b[43msort\u001b[49m\u001b[43m(\u001b[49m\u001b[38;5;28;43mself\u001b[39;49m\u001b[38;5;241;43m.\u001b[39;49m\u001b[43mdata\u001b[49m\u001b[43m,\u001b[49m\u001b[43m \u001b[49m\u001b[43mdim\u001b[49m\u001b[38;5;241;43m=\u001b[39;49m\u001b[38;5;241;43m1\u001b[39;49m\u001b[43m)\u001b[49m\n",
      "\u001b[0;31mTypeError\u001b[0m: sort() received an invalid combination of arguments - got (list, dim=int), but expected one of:\n * (Tensor input, *, bool stable, int dim, bool descending, tuple of Tensors out)\n * (Tensor input, int dim, bool descending, *, tuple of Tensors out)\n * (Tensor input, *, bool stable, name dim, bool descending, tuple of Tensors out)\n * (Tensor input, name dim, bool descending, *, tuple of Tensors out)\n"
     ]
    }
   ],
   "source": [
    "trainer1.fit(n_batch, n_epoch, recall, valid_per_epoch)"
   ]
  },
  {
   "cell_type": "code",
   "execution_count": null,
   "id": "183047a2-f8eb-41ce-990d-504a9c2a3d98",
   "metadata": {},
   "outputs": [],
   "source": [
    "trainer0.valid_scores"
   ]
  }
 ],
 "metadata": {
  "kernelspec": {
   "display_name": "bachelor2",
   "language": "python",
   "name": "bachelor2"
  },
  "language_info": {
   "codemirror_mode": {
    "name": "ipython",
    "version": 3
   },
   "file_extension": ".py",
   "mimetype": "text/x-python",
   "name": "python",
   "nbconvert_exporter": "python",
   "pygments_lexer": "ipython3",
   "version": "3.8.17"
  }
 },
 "nbformat": 4,
 "nbformat_minor": 5
}
