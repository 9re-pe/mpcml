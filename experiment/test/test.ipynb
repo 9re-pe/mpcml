{
 "cells": [
  {
   "cell_type": "code",
   "execution_count": 1,
   "id": "e61abc32-8627-4f87-83f4-fbac70145760",
   "metadata": {
    "tags": []
   },
   "outputs": [],
   "source": [
    "import sys\n",
    "\n",
    "root_dir = '../../'\n",
    "if root_dir not in sys.path:\n",
    "    sys.path.append(root_dir)\n",
    "\n",
    "import torch\n",
    "from torch import nn, optim\n",
    "import numpy as np\n",
    "from sklearn.decomposition import TruncatedSVD\n",
    "from scipy.sparse import csr_matrix\n",
    "\n",
    "from modules import losses, models, samplers, regularizers, evaluators, trainers, datasets, distributions"
   ]
  },
  {
   "cell_type": "code",
   "execution_count": 2,
   "id": "4a41011c-dafb-451f-9f86-9954ad74054d",
   "metadata": {
    "tags": []
   },
   "outputs": [],
   "source": [
    "# get data\n",
    "dataset = datasets.ML100k()\n",
    "n_user = dataset.n_user\n",
    "n_item = dataset.n_item\n",
    "train_set, test_set = dataset.get_train_and_test_set()\n",
    "\n",
    "# device setting\n",
    "device = torch.device(\"cuda:0\" if torch.cuda.is_available() else \"cpu\")\n",
    "train_set = torch.LongTensor(train_set).to(device)\n",
    "test_set = torch.LongTensor(test_set).to(device)\n",
    "#item_feature_set = torch.LongTensor(item_feature_set).to(device)\n",
    "\n",
    "# set hyperparameters\n",
    "lr = 1e-3\n",
    "n_dim = 10\n",
    "\n",
    "# set model\n",
    "#distribution = distributions.Empirical()\n",
    "#distribution = distributions.Gaussian()\n",
    "#distribution = distributions.Gamma()\n",
    "model = models.CollaborativeMetricLearning(n_user, n_item, n_dim).to(device)\n",
    "#model = models.MutualProximityCML(n_user, n_item, distribution, n_dim).to(device)\n",
    "optimizer = optim.Adam(model.parameters(), lr=lr)\n",
    "criterion = losses.SumTripletLoss(margin=1).to(device)\n",
    "sampler = samplers.BaseSampler(train_set, n_user, n_item, device=device, strict_negative=False)\n",
    "\n",
    "# set evaluator\n",
    "ks=[10, 50]\n",
    "#evaluator = evaluators.RecallEvaluator(test_set, ks)\n",
    "#evaluator = evaluators.UnpopularityEvaluator(test_set, ks)\n",
    "evaluator = evaluators.F1ScoreEvaluator(test_set, ks)\n",
    "#evaluator = evaluators.CoverageEvaluator(test_set, ks)\n",
    "#evaluator = evaluators.HubnessEvaluator(test_set, ks)\n",
    "trainer = trainers.BaseTrainer(model, optimizer, criterion, sampler)"
   ]
  },
  {
   "cell_type": "code",
   "execution_count": 3,
   "id": "e93c98f7-e1c2-4f22-967c-cb51e1cc2769",
   "metadata": {
    "tags": []
   },
   "outputs": [
    {
     "name": "stderr",
     "output_type": "stream",
     "text": [
      "100%|███████████████████████████████████████████████████████████████████████████████████████████████████████████████████████████████████████████████████████████████████████████████████████████| 940/940 [00:06<00:00, 155.44it/s]\n",
      "epoch1 avg_loss:0.942: 100%|█████████████████████████████████████████████████████████████████████████████████████████████████████████████████████████████████████████████████████████████████████| 256/256 [00:03<00:00, 76.85it/s]\n",
      "epoch2 avg_loss:0.778: 100%|█████████████████████████████████████████████████████████████████████████████████████████████████████████████████████████████████████████████████████████████████████| 256/256 [00:03<00:00, 84.77it/s]\n",
      "epoch3 avg_loss:0.687: 100%|█████████████████████████████████████████████████████████████████████████████████████████████████████████████████████████████████████████████████████████████████████| 256/256 [00:02<00:00, 94.42it/s]\n",
      "epoch4 avg_loss:0.630: 100%|█████████████████████████████████████████████████████████████████████████████████████████████████████████████████████████████████████████████████████████████████████| 256/256 [00:02<00:00, 93.56it/s]\n",
      "epoch5 avg_loss:0.592: 100%|█████████████████████████████████████████████████████████████████████████████████████████████████████████████████████████████████████████████████████████████████████| 256/256 [00:02<00:00, 94.23it/s]\n",
      "epoch6 avg_loss:0.560: 100%|█████████████████████████████████████████████████████████████████████████████████████████████████████████████████████████████████████████████████████████████████████| 256/256 [00:02<00:00, 91.51it/s]\n",
      "epoch7 avg_loss:0.535: 100%|█████████████████████████████████████████████████████████████████████████████████████████████████████████████████████████████████████████████████████████████████████| 256/256 [00:02<00:00, 93.73it/s]\n",
      "epoch8 avg_loss:0.511: 100%|█████████████████████████████████████████████████████████████████████████████████████████████████████████████████████████████████████████████████████████████████████| 256/256 [00:02<00:00, 91.54it/s]\n",
      "epoch9 avg_loss:0.489: 100%|█████████████████████████████████████████████████████████████████████████████████████████████████████████████████████████████████████████████████████████████████████| 256/256 [00:02<00:00, 91.94it/s]\n",
      "epoch10 avg_loss:0.470: 100%|████████████████████████████████████████████████████████████████████████████████████████████████████████████████████████████████████████████████████████████████████| 256/256 [00:02<00:00, 91.14it/s]\n",
      "100%|███████████████████████████████████████████████████████████████████████████████████████████████████████████████████████████████████████████████████████████████████████████████████████████| 940/940 [00:05<00:00, 174.60it/s]\n"
     ]
    }
   ],
   "source": [
    "trainer.fit(n_batch=256, n_epoch=10, valid_evaluator = evaluator, valid_per_epoch=10)"
   ]
  },
  {
   "cell_type": "code",
   "execution_count": 4,
   "id": "aae210ed-25fe-4e9e-aa1a-059b00626ce0",
   "metadata": {
    "tags": []
   },
   "outputs": [
    {
     "data": {
      "text/html": [
       "<div>\n",
       "<style scoped>\n",
       "    .dataframe tbody tr th:only-of-type {\n",
       "        vertical-align: middle;\n",
       "    }\n",
       "\n",
       "    .dataframe tbody tr th {\n",
       "        vertical-align: top;\n",
       "    }\n",
       "\n",
       "    .dataframe thead th {\n",
       "        text-align: right;\n",
       "    }\n",
       "</style>\n",
       "<table border=\"1\" class=\"dataframe\">\n",
       "  <thead>\n",
       "    <tr style=\"text-align: right;\">\n",
       "      <th></th>\n",
       "      <th>F1-score@10</th>\n",
       "      <th>F1-score@50</th>\n",
       "      <th>epoch</th>\n",
       "      <th>losses</th>\n",
       "    </tr>\n",
       "  </thead>\n",
       "  <tbody>\n",
       "    <tr>\n",
       "      <th>0</th>\n",
       "      <td>0.093552</td>\n",
       "      <td>0.515629</td>\n",
       "      <td>0</td>\n",
       "      <td>NaN</td>\n",
       "    </tr>\n",
       "    <tr>\n",
       "      <th>0</th>\n",
       "      <td>0.057334</td>\n",
       "      <td>0.475971</td>\n",
       "      <td>10</td>\n",
       "      <td>0.470205</td>\n",
       "    </tr>\n",
       "  </tbody>\n",
       "</table>\n",
       "</div>"
      ],
      "text/plain": [
       "   F1-score@10  F1-score@50  epoch    losses\n",
       "0     0.093552     0.515629      0       NaN\n",
       "0     0.057334     0.475971     10  0.470205"
      ]
     },
     "execution_count": 4,
     "metadata": {},
     "output_type": "execute_result"
    }
   ],
   "source": [
    "trainer.valid_scores"
   ]
  },
  {
   "cell_type": "code",
   "execution_count": null,
   "id": "1ae8e683-24bc-49c5-a0fd-e333d45bb50d",
   "metadata": {
    "tags": []
   },
   "outputs": [],
   "source": [
    "import torch\n",
    "device = torch.device(\"cuda:0\" if torch.cuda.is_available() else \"cpu\")\n",
    "print(device)"
   ]
  },
  {
   "cell_type": "code",
   "execution_count": null,
   "id": "e039426a-f8c3-45a7-944c-67258226f149",
   "metadata": {},
   "outputs": [],
   "source": []
  }
 ],
 "metadata": {
  "kernelspec": {
   "display_name": "bachelor2",
   "language": "python",
   "name": "bachelor2"
  },
  "language_info": {
   "codemirror_mode": {
    "name": "ipython",
    "version": 3
   },
   "file_extension": ".py",
   "mimetype": "text/x-python",
   "name": "python",
   "nbconvert_exporter": "python",
   "pygments_lexer": "ipython3",
   "version": "3.8.17"
  }
 },
 "nbformat": 4,
 "nbformat_minor": 5
}
