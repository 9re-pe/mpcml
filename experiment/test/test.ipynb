{
 "cells": [
  {
   "cell_type": "code",
   "execution_count": 1,
   "id": "a8ae7784-e462-4737-bcdf-48cfbc491826",
   "metadata": {
    "tags": []
   },
   "outputs": [],
   "source": [
    "import sys\n",
    "\n",
    "root_dir = '../../'\n",
    "if root_dir not in sys.path:\n",
    "    sys.path.append(root_dir)\n",
    "\n",
    "import torch\n",
    "from torch import nn, optim\n",
    "import numpy as np\n",
    "import matplotlib.pyplot as plt\n",
    "from sklearn.decomposition import TruncatedSVD\n",
    "from scipy.sparse import csr_matrix\n",
    "\n",
    "from modules import losses, models, samplers, searches, regularizers, evaluators, trainers, datasets, distributions"
   ]
  },
  {
   "cell_type": "code",
   "execution_count": 2,
   "id": "fd101d48-f229-4fcc-9e7d-a0c458da3fb9",
   "metadata": {
    "tags": []
   },
   "outputs": [],
   "source": [
    "dataset = datasets.ML100k()\n",
    "n_user = dataset.n_user\n",
    "n_item = dataset.n_item\n",
    "train_set, test_set = dataset.get_train_and_test_set()\n",
    "\n",
    "# device setting\n",
    "device = torch.device(\"cuda:0\" if torch.cuda.is_available() else \"cpu\")\n",
    "train_set = torch.LongTensor(train_set).to(device)\n",
    "test_set = torch.FloatTensor(test_set).to(device)"
   ]
  },
  {
   "cell_type": "code",
   "execution_count": 4,
   "id": "51d01c4e-69bc-4728-a8f0-227353137f9d",
   "metadata": {
    "tags": []
   },
   "outputs": [],
   "source": [
    "# k\n",
    "ks = [5, 10, 50]\n",
    "\n",
    "score_function_dict = {\n",
    "    #\"Recall\"       : evaluators.recall\n",
    "    #\"Unpopularity\" : evaluators.unpopularity,\n",
    "    #\"Unpopularity2\": evaluators.unpopularity2,\n",
    "    #\"Unpopularity3\": evaluators.unpopularity3,\n",
    "    #\"F1-score\"     : evaluators.f1_score,\n",
    "    #\"F1-score2\"    : evaluators.f1_score2,\n",
    "    #\"F1-score3\"    : evaluators.f1_score3\n",
    "    \"my_metric1\"   : evaluators.my_metric1,\n",
    "    \"my_metric2\"   : evaluators.my_metric2\n",
    "}\n",
    "userwise = evaluators.UserwiseEvaluator(test_set, score_function_dict, ks)\n",
    "# coverage = evaluators.CoverageEvaluator(test_set, ks)\n",
    "# hubness = evaluators.HubnessEvaluator(test_set, ks)"
   ]
  },
  {
   "cell_type": "code",
   "execution_count": 5,
   "id": "81e30c11-a001-4ca2-95ff-878cbba30cbe",
   "metadata": {
    "tags": []
   },
   "outputs": [],
   "source": [
    "sampler = samplers.BaseSampler(train_set, n_user, n_item, device=device, strict_negative=False)"
   ]
  },
  {
   "cell_type": "code",
   "execution_count": 8,
   "id": "800a4df2-468c-43c2-b0c1-70231299903c",
   "metadata": {
    "tags": []
   },
   "outputs": [],
   "source": [
    "# Hyperparameters\n",
    "lr = 1e-3\n",
    "n_dim = 10\n",
    "n_batch = 256\n",
    "n_epoch = 30\n",
    "valid_per_epoch = 50\n",
    "n_sample = 30\n",
    "bias = 0.5\n",
    "n_item_sample = 30\n",
    "n_user_sample = 30\n",
    "no_progressbar = False\n",
    "\n",
    "search_range = 30\n",
    "\n",
    "# models\n",
    "model = models.CollaborativeMetricLearning(n_user, n_item, n_dim).to(device)\n",
    "\n",
    "# distributiuons\n",
    "gaussian = distributions.Gaussian()\n",
    "gamma = distributions.Gamma()\n",
    "\n",
    "# search\n",
    "knn = searches.NearestNeighborhood(model)\n",
    "mp = searches.MutualProximity(model, gamma, n_item_sample, n_user_sample, bias)\n",
    "ndmp = searches.NoDistinctionMutualProximity(model, gamma, n_sample, bias)\n",
    "\n",
    "# learning late optimizer\n",
    "optimizer = optim.Adam(model.parameters(), lr=lr)\n",
    "\n",
    "# loss function\n",
    "criterion = losses.SumTripletLoss(margin=1).to(device)\n",
    "\n",
    "# trainer\n",
    "trainer = trainers.BaseTrainer(model, optimizer, criterion, sampler, no_progressbar)"
   ]
  },
  {
   "cell_type": "code",
   "execution_count": 9,
   "id": "d7c67a27-64d1-450b-937c-90e5ed1bb4be",
   "metadata": {
    "tags": []
   },
   "outputs": [
    {
     "name": "stderr",
     "output_type": "stream",
     "text": [
      "epoch1 avg_loss:0.941: 100%|█████████████████████████████████████████████████████████████████████████████████████████████████████████████████████████████████████████████████████████████| 256/256 [00:01<00:00, 164.97it/s]\n",
      "epoch2 avg_loss:0.775: 100%|█████████████████████████████████████████████████████████████████████████████████████████████████████████████████████████████████████████████████████████████| 256/256 [00:01<00:00, 204.03it/s]\n",
      "epoch3 avg_loss:0.683: 100%|█████████████████████████████████████████████████████████████████████████████████████████████████████████████████████████████████████████████████████████████| 256/256 [00:01<00:00, 164.14it/s]\n",
      "epoch4 avg_loss:0.623: 100%|█████████████████████████████████████████████████████████████████████████████████████████████████████████████████████████████████████████████████████████████| 256/256 [00:01<00:00, 150.15it/s]\n",
      "epoch5 avg_loss:0.582: 100%|█████████████████████████████████████████████████████████████████████████████████████████████████████████████████████████████████████████████████████████████| 256/256 [00:02<00:00, 121.84it/s]\n",
      "epoch6 avg_loss:0.552: 100%|█████████████████████████████████████████████████████████████████████████████████████████████████████████████████████████████████████████████████████████████| 256/256 [00:01<00:00, 135.35it/s]\n",
      "epoch7 avg_loss:0.524: 100%|█████████████████████████████████████████████████████████████████████████████████████████████████████████████████████████████████████████████████████████████| 256/256 [00:01<00:00, 138.40it/s]\n",
      "epoch8 avg_loss:0.498: 100%|█████████████████████████████████████████████████████████████████████████████████████████████████████████████████████████████████████████████████████████████| 256/256 [00:02<00:00, 118.27it/s]\n",
      "epoch9 avg_loss:0.477: 100%|█████████████████████████████████████████████████████████████████████████████████████████████████████████████████████████████████████████████████████████████| 256/256 [00:01<00:00, 151.94it/s]\n",
      "epoch10 avg_loss:0.450: 100%|████████████████████████████████████████████████████████████████████████████████████████████████████████████████████████████████████████████████████████████| 256/256 [00:02<00:00, 104.49it/s]\n",
      "epoch11 avg_loss:0.429: 100%|████████████████████████████████████████████████████████████████████████████████████████████████████████████████████████████████████████████████████████████| 256/256 [00:02<00:00, 109.96it/s]\n",
      "epoch12 avg_loss:0.406: 100%|████████████████████████████████████████████████████████████████████████████████████████████████████████████████████████████████████████████████████████████| 256/256 [00:02<00:00, 119.48it/s]\n",
      "epoch13 avg_loss:0.389: 100%|████████████████████████████████████████████████████████████████████████████████████████████████████████████████████████████████████████████████████████████| 256/256 [00:02<00:00, 104.67it/s]\n",
      "epoch14 avg_loss:0.368: 100%|████████████████████████████████████████████████████████████████████████████████████████████████████████████████████████████████████████████████████████████| 256/256 [00:02<00:00, 102.71it/s]\n",
      "epoch15 avg_loss:0.353: 100%|████████████████████████████████████████████████████████████████████████████████████████████████████████████████████████████████████████████████████████████| 256/256 [00:02<00:00, 113.60it/s]\n",
      "epoch16 avg_loss:0.338: 100%|█████████████████████████████████████████████████████████████████████████████████████████████████████████████████████████████████████████████████████████████| 256/256 [00:02<00:00, 95.98it/s]\n",
      "epoch17 avg_loss:0.324: 100%|█████████████████████████████████████████████████████████████████████████████████████████████████████████████████████████████████████████████████████████████| 256/256 [00:02<00:00, 98.27it/s]\n",
      "epoch18 avg_loss:0.316: 100%|████████████████████████████████████████████████████████████████████████████████████████████████████████████████████████████████████████████████████████████| 256/256 [00:02<00:00, 123.69it/s]\n",
      "epoch19 avg_loss:0.303: 100%|████████████████████████████████████████████████████████████████████████████████████████████████████████████████████████████████████████████████████████████| 256/256 [00:02<00:00, 105.56it/s]\n",
      "epoch20 avg_loss:0.295: 100%|████████████████████████████████████████████████████████████████████████████████████████████████████████████████████████████████████████████████████████████| 256/256 [00:02<00:00, 114.42it/s]\n",
      "epoch21 avg_loss:0.287: 100%|████████████████████████████████████████████████████████████████████████████████████████████████████████████████████████████████████████████████████████████| 256/256 [00:02<00:00, 118.30it/s]\n",
      "epoch22 avg_loss:0.282: 100%|████████████████████████████████████████████████████████████████████████████████████████████████████████████████████████████████████████████████████████████| 256/256 [00:02<00:00, 125.30it/s]\n",
      "epoch23 avg_loss:0.278: 100%|████████████████████████████████████████████████████████████████████████████████████████████████████████████████████████████████████████████████████████████| 256/256 [00:02<00:00, 115.75it/s]\n",
      "epoch24 avg_loss:0.273: 100%|████████████████████████████████████████████████████████████████████████████████████████████████████████████████████████████████████████████████████████████| 256/256 [00:02<00:00, 123.65it/s]\n",
      "epoch25 avg_loss:0.269: 100%|████████████████████████████████████████████████████████████████████████████████████████████████████████████████████████████████████████████████████████████| 256/256 [00:01<00:00, 137.98it/s]\n",
      "epoch26 avg_loss:0.267: 100%|████████████████████████████████████████████████████████████████████████████████████████████████████████████████████████████████████████████████████████████| 256/256 [00:01<00:00, 129.74it/s]\n",
      "epoch27 avg_loss:0.261: 100%|████████████████████████████████████████████████████████████████████████████████████████████████████████████████████████████████████████████████████████████| 256/256 [00:01<00:00, 138.95it/s]\n",
      "epoch28 avg_loss:0.258: 100%|████████████████████████████████████████████████████████████████████████████████████████████████████████████████████████████████████████████████████████████| 256/256 [00:01<00:00, 148.89it/s]\n",
      "epoch29 avg_loss:0.256: 100%|████████████████████████████████████████████████████████████████████████████████████████████████████████████████████████████████████████████████████████████| 256/256 [00:01<00:00, 140.42it/s]\n",
      "epoch30 avg_loss:0.255: 100%|████████████████████████████████████████████████████████████████████████████████████████████████████████████████████████████████████████████████████████████| 256/256 [00:01<00:00, 150.31it/s]\n"
     ]
    }
   ],
   "source": [
    "trainer.fit(n_batch, n_epoch)"
   ]
  },
  {
   "cell_type": "code",
   "execution_count": 10,
   "id": "1e9356a3-9039-4c70-b0b2-ce5b8b57c624",
   "metadata": {
    "tags": []
   },
   "outputs": [
    {
     "name": "stderr",
     "output_type": "stream",
     "text": [
      "100%|███████████████████████████████████████████████████████████████████████████████████████████████████████████████████████████████████████████████████████████████████████████████████| 940/940 [00:00<00:00, 1330.81it/s]\n"
     ]
    },
    {
     "data": {
      "text/html": [
       "<div>\n",
       "<style scoped>\n",
       "    .dataframe tbody tr th:only-of-type {\n",
       "        vertical-align: middle;\n",
       "    }\n",
       "\n",
       "    .dataframe tbody tr th {\n",
       "        vertical-align: top;\n",
       "    }\n",
       "\n",
       "    .dataframe thead th {\n",
       "        text-align: right;\n",
       "    }\n",
       "</style>\n",
       "<table border=\"1\" class=\"dataframe\">\n",
       "  <thead>\n",
       "    <tr style=\"text-align: right;\">\n",
       "      <th></th>\n",
       "      <th>my_metric1@5</th>\n",
       "      <th>my_metric2@5</th>\n",
       "      <th>my_metric1@10</th>\n",
       "      <th>my_metric2@10</th>\n",
       "      <th>my_metric1@50</th>\n",
       "      <th>my_metric2@50</th>\n",
       "    </tr>\n",
       "  </thead>\n",
       "  <tbody>\n",
       "    <tr>\n",
       "      <th>0</th>\n",
       "      <td>6.44358</td>\n",
       "      <td>0.546221</td>\n",
       "      <td>6.294985</td>\n",
       "      <td>0.451664</td>\n",
       "      <td>4.321862</td>\n",
       "      <td>0.200244</td>\n",
       "    </tr>\n",
       "  </tbody>\n",
       "</table>\n",
       "</div>"
      ],
      "text/plain": [
       "   my_metric1@5  my_metric2@5  my_metric1@10  my_metric2@10  my_metric1@50  \\\n",
       "0       6.44358      0.546221       6.294985       0.451664       4.321862   \n",
       "\n",
       "   my_metric2@50  \n",
       "0       0.200244  "
      ]
     },
     "metadata": {},
     "output_type": "display_data"
    },
    {
     "name": "stderr",
     "output_type": "stream",
     "text": [
      "100%|████████████████████████████████████████████████████████████████████████████████████████████████████████████████████████████████████████████████████████████████████████████████████| 940/940 [00:04<00:00, 230.55it/s]\n"
     ]
    },
    {
     "data": {
      "text/html": [
       "<div>\n",
       "<style scoped>\n",
       "    .dataframe tbody tr th:only-of-type {\n",
       "        vertical-align: middle;\n",
       "    }\n",
       "\n",
       "    .dataframe tbody tr th {\n",
       "        vertical-align: top;\n",
       "    }\n",
       "\n",
       "    .dataframe thead th {\n",
       "        text-align: right;\n",
       "    }\n",
       "</style>\n",
       "<table border=\"1\" class=\"dataframe\">\n",
       "  <thead>\n",
       "    <tr style=\"text-align: right;\">\n",
       "      <th></th>\n",
       "      <th>my_metric1@5</th>\n",
       "      <th>my_metric2@5</th>\n",
       "      <th>my_metric1@10</th>\n",
       "      <th>my_metric2@10</th>\n",
       "      <th>my_metric1@50</th>\n",
       "      <th>my_metric2@50</th>\n",
       "    </tr>\n",
       "  </thead>\n",
       "  <tbody>\n",
       "    <tr>\n",
       "      <th>0</th>\n",
       "      <td>8.366115</td>\n",
       "      <td>0.433352</td>\n",
       "      <td>7.837173</td>\n",
       "      <td>0.373417</td>\n",
       "      <td>4.908518</td>\n",
       "      <td>0.186093</td>\n",
       "    </tr>\n",
       "  </tbody>\n",
       "</table>\n",
       "</div>"
      ],
      "text/plain": [
       "   my_metric1@5  my_metric2@5  my_metric1@10  my_metric2@10  my_metric1@50  \\\n",
       "0      8.366115      0.433352       7.837173       0.373417       4.908518   \n",
       "\n",
       "   my_metric2@50  \n",
       "0       0.186093  "
      ]
     },
     "metadata": {},
     "output_type": "display_data"
    },
    {
     "name": "stderr",
     "output_type": "stream",
     "text": [
      "100%|████████████████████████████████████████████████████████████████████████████████████████████████████████████████████████████████████████████████████████████████████████████████████| 940/940 [00:05<00:00, 166.35it/s]\n"
     ]
    },
    {
     "data": {
      "text/html": [
       "<div>\n",
       "<style scoped>\n",
       "    .dataframe tbody tr th:only-of-type {\n",
       "        vertical-align: middle;\n",
       "    }\n",
       "\n",
       "    .dataframe tbody tr th {\n",
       "        vertical-align: top;\n",
       "    }\n",
       "\n",
       "    .dataframe thead th {\n",
       "        text-align: right;\n",
       "    }\n",
       "</style>\n",
       "<table border=\"1\" class=\"dataframe\">\n",
       "  <thead>\n",
       "    <tr style=\"text-align: right;\">\n",
       "      <th></th>\n",
       "      <th>my_metric1@5</th>\n",
       "      <th>my_metric2@5</th>\n",
       "      <th>my_metric1@10</th>\n",
       "      <th>my_metric2@10</th>\n",
       "      <th>my_metric1@50</th>\n",
       "      <th>my_metric2@50</th>\n",
       "    </tr>\n",
       "  </thead>\n",
       "  <tbody>\n",
       "    <tr>\n",
       "      <th>0</th>\n",
       "      <td>6.953495</td>\n",
       "      <td>0.51091</td>\n",
       "      <td>6.740889</td>\n",
       "      <td>0.432875</td>\n",
       "      <td>4.482289</td>\n",
       "      <td>0.198952</td>\n",
       "    </tr>\n",
       "  </tbody>\n",
       "</table>\n",
       "</div>"
      ],
      "text/plain": [
       "   my_metric1@5  my_metric2@5  my_metric1@10  my_metric2@10  my_metric1@50  \\\n",
       "0      6.953495       0.51091       6.740889       0.432875       4.482289   \n",
       "\n",
       "   my_metric2@50  \n",
       "0       0.198952  "
      ]
     },
     "metadata": {},
     "output_type": "display_data"
    }
   ],
   "source": [
    "trainer.valid(knn, userwise)\n",
    "re1 = trainer.valid_scores.copy()\n",
    "display(re1)\n",
    "trainer.valid(mp, userwise)\n",
    "re2 = trainer.valid_scores.copy()\n",
    "display(re2)\n",
    "trainer.valid(ndmp, userwise)\n",
    "re3 = trainer.valid_scores.copy()\n",
    "display(re3)"
   ]
  },
  {
   "cell_type": "code",
   "execution_count": null,
   "id": "2ce9ebaa-fda9-4afb-a73d-5fc3ee4562ef",
   "metadata": {},
   "outputs": [],
   "source": []
  }
 ],
 "metadata": {
  "kernelspec": {
   "display_name": "bachelor2",
   "language": "python",
   "name": "bachelor2"
  },
  "language_info": {
   "codemirror_mode": {
    "name": "ipython",
    "version": 3
   },
   "file_extension": ".py",
   "mimetype": "text/x-python",
   "name": "python",
   "nbconvert_exporter": "python",
   "pygments_lexer": "ipython3",
   "version": "3.8.17"
  }
 },
 "nbformat": 4,
 "nbformat_minor": 5
}
