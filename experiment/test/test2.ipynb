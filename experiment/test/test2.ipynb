{
 "cells": [
  {
   "cell_type": "markdown",
   "id": "44ab343e-ea11-44d5-ae09-a0bbb68ac54c",
   "metadata": {},
   "source": [
    "# negativeサンプリングの結果によってどれだけスコアがブレるかのテスト"
   ]
  },
  {
   "cell_type": "code",
   "execution_count": 1,
   "id": "b946dc4a-d5c4-40ae-994f-0818f6eade9c",
   "metadata": {
    "tags": []
   },
   "outputs": [],
   "source": [
    "import sys\n",
    "\n",
    "root_dir = '../../'\n",
    "if root_dir not in sys.path:\n",
    "    sys.path.append(root_dir)\n",
    "\n",
    "import torch\n",
    "from torch import nn, optim\n",
    "import numpy as np\n",
    "from sklearn.decomposition import TruncatedSVD\n",
    "from scipy.sparse import csr_matrix\n",
    "\n",
    "from modules import losses, models, samplers, regularizers, evaluators, trainers, datasets, distributions"
   ]
  },
  {
   "cell_type": "markdown",
   "id": "d275d5f1-1a60-4526-9d90-e95875719cb6",
   "metadata": {},
   "source": [
    "## ML100K"
   ]
  },
  {
   "cell_type": "code",
   "execution_count": 2,
   "id": "759f8664-270e-441f-a725-1fb369f549ab",
   "metadata": {},
   "outputs": [
    {
     "name": "stdout",
     "output_type": "stream",
     "text": [
      "neg_pair_weight=1:\n",
      "   Recall@5  Recall@10  Recall@50  epoch    losses\n",
      "0  0.326650   0.557585   0.942280      0       NaN\n",
      "0  0.526155   0.725313   0.983823     15  0.222544\n",
      "0  0.527327   0.727907   0.983856     30  0.206949\n",
      "neg_pair_weight=3:\n",
      "   Recall@5  Recall@10  Recall@50  epoch    losses\n",
      "0  0.172974   0.336753   0.814728      0       NaN\n",
      "0  0.481755   0.675808   0.956926     15  0.223607\n",
      "0  0.489538   0.683390   0.958758     30  0.208655\n",
      "neg_pair_weight=5:\n",
      "   Recall@5  Recall@10  Recall@50  epoch    losses\n",
      "0  0.113273   0.225106   0.709151      0       NaN\n",
      "0  0.449775   0.637154   0.936067     15  0.224357\n",
      "0  0.464125   0.647118   0.939874     30  0.207965\n",
      "neg_pair_weight=10:\n",
      "   Recall@5  Recall@10  Recall@50  epoch    losses\n",
      "0  0.062386   0.123933   0.524035      0       NaN\n",
      "0  0.402040   0.568420   0.886768     15  0.223938\n",
      "0  0.411641   0.584265   0.893062     30  0.209498\n",
      "neg_pair_weight=30:\n",
      "   Recall@5  Recall@10  Recall@50  epoch    losses\n",
      "0  0.023143   0.042134   0.217623      0       NaN\n",
      "0  0.299855   0.438021   0.753484     15  0.223949\n",
      "0  0.313733   0.453787   0.774603     30  0.209086\n",
      "neg_pair_weight=50:\n",
      "   Recall@5  Recall@10  Recall@50  epoch    losses\n",
      "0  0.014940   0.026196   0.125840      0       NaN\n",
      "0  0.253195   0.380420   0.692378     15  0.225681\n",
      "0  0.266401   0.397583   0.706636     30  0.208501\n"
     ]
    }
   ],
   "source": [
    "lr = 1e-3\n",
    "n_dim = 50\n",
    "ks=[5, 10, 50]\n",
    "no_progressbar=True\n",
    "\n",
    "dataset = datasets.ML100k()\n",
    "n_user = dataset.n_user\n",
    "n_item = dataset.n_item\n",
    "\n",
    "li_neg_pair_weight = [1, 3, 5, 10, 30, 50]\n",
    "for neg_pair_weight in li_neg_pair_weight:\n",
    "    print(f\"neg_pair_weight={neg_pair_weight}:\")\n",
    "    train_set, test_set = dataset.get_train_and_test_set(\n",
    "        neg_pair_weight=neg_pair_weight\n",
    "    )\n",
    "    device = torch.device(\"cuda:0\" if torch.cuda.is_available() else \"cpu\")\n",
    "    train_set = torch.LongTensor(train_set).to(device)\n",
    "    test_set = torch.LongTensor(test_set).to(device)\n",
    "    model = models.CollaborativeMetricLearning(n_user, n_item, n_dim).to(device)\n",
    "    optimizer = optim.Adam(model.parameters(), lr=lr)\n",
    "    criterion = losses.SumTripletLoss(margin=1).to(device)\n",
    "    sampler = samplers.BaseSampler(train_set, n_user, n_item, device=device, strict_negative=False)\n",
    "    evaluator = evaluators.RecallEvaluator(test_set, ks)\n",
    "    trainer = trainers.BaseTrainer(model, optimizer, criterion, sampler, no_progressbar=no_progressbar)\n",
    "    trainer.fit(n_batch=256, n_epoch=30, valid_evaluator=evaluator, valid_per_epoch=15)\n",
    "    print(trainer.valid_scores)"
   ]
  },
  {
   "cell_type": "markdown",
   "id": "861dde8b-0167-40b7-8432-b639ef76a50e",
   "metadata": {},
   "source": [
    "# ML20M"
   ]
  },
  {
   "cell_type": "code",
   "execution_count": 3,
   "id": "52d2cf51-1203-4d07-bf25-824fc2e33a39",
   "metadata": {
    "tags": []
   },
   "outputs": [
    {
     "name": "stdout",
     "output_type": "stream",
     "text": [
      "neg_pair_weight=1:\n",
      "   Recall@5  Recall@10  Recall@50  epoch    losses\n",
      "0  0.331615   0.554936   0.914798      0       NaN\n",
      "0  0.523870   0.721732   0.965717     15  0.306756\n",
      "0  0.526874   0.725509   0.967798     30  0.222006\n",
      "neg_pair_weight=3:\n",
      "   Recall@5  Recall@10  Recall@50  epoch    losses\n",
      "0  0.172371   0.331497   0.797423      0       NaN\n",
      "0  0.478042   0.679595   0.949830     15  0.307834\n",
      "0  0.484607   0.688138   0.954576     30  0.224607\n",
      "neg_pair_weight=5:\n",
      "   Recall@5  Recall@10  Recall@50  epoch    losses\n",
      "0  0.116243   0.228287   0.700816      0       NaN\n",
      "0  0.439880   0.645020   0.936003     15  0.306640\n",
      "0  0.449858   0.657510   0.942602     30  0.224381\n",
      "neg_pair_weight=10:\n",
      "   Recall@5  Recall@10  Recall@50  epoch    losses\n",
      "0  0.063593   0.126303   0.522167      0       NaN\n",
      "0  0.364384   0.573804   0.905353     15  0.309464\n",
      "0  0.380572   0.594413   0.916388     30  0.221438\n",
      "neg_pair_weight=30:\n",
      "   Recall@5  Recall@10  Recall@50  epoch    losses\n",
      "0  0.022135   0.044574   0.221361      0       NaN\n",
      "0  0.199797   0.384356   0.806957     15  0.308660\n",
      "0  0.216149   0.410126   0.832543     30  0.221305\n",
      "neg_pair_weight=50:\n",
      "   Recall@5  Recall@10  Recall@50  epoch    losses\n",
      "0  0.013411   0.027202   0.136048      0       NaN\n",
      "0  0.125622   0.272347   0.729115     15  0.306075\n",
      "0  0.139321   0.297795   0.765453     30  0.220935\n"
     ]
    }
   ],
   "source": [
    "lr = 1e-3\n",
    "n_dim = 50\n",
    "ks=[5, 10, 50]\n",
    "no_progressbar=True\n",
    "\n",
    "dataset = datasets.ML20m()\n",
    "n_user = dataset.n_user\n",
    "n_item = dataset.n_item\n",
    "\n",
    "li_neg_pair_weight = [1, 3,  5, 10, 30, 50]\n",
    "for neg_pair_weight in li_neg_pair_weight:\n",
    "    print(f\"neg_pair_weight={neg_pair_weight}:\")\n",
    "    train_set, test_set = dataset.get_train_and_test_set(\n",
    "        neg_pair_weight=neg_pair_weight\n",
    "    )\n",
    "    device = torch.device(\"cuda:0\" if torch.cuda.is_available() else \"cpu\")\n",
    "    train_set = torch.LongTensor(train_set).to(device)\n",
    "    test_set = torch.LongTensor(test_set).to(device)\n",
    "    model = models.CollaborativeMetricLearning(n_user, n_item, n_dim).to(device)\n",
    "    optimizer = optim.Adam(model.parameters(), lr=lr)\n",
    "    criterion = losses.SumTripletLoss(margin=1).to(device)\n",
    "    sampler = samplers.BaseSampler(train_set, n_user, n_item, device=device, strict_negative=False)\n",
    "    evaluator = evaluators.RecallEvaluator(test_set, ks)\n",
    "    trainer = trainers.BaseTrainer(model, optimizer, criterion, sampler, no_progressbar=no_progressbar)\n",
    "    trainer.fit(n_batch=256, n_epoch=30, valid_evaluator=evaluator, valid_per_epoch=15)\n",
    "    print(trainer.valid_scores)"
   ]
  },
  {
   "cell_type": "code",
   "execution_count": null,
   "id": "8b5c0573-1f1b-4fc9-951d-05e02b5d0442",
   "metadata": {},
   "outputs": [],
   "source": []
  }
 ],
 "metadata": {
  "kernelspec": {
   "display_name": "bachelor2",
   "language": "python",
   "name": "bachelor2"
  },
  "language_info": {
   "codemirror_mode": {
    "name": "ipython",
    "version": 3
   },
   "file_extension": ".py",
   "mimetype": "text/x-python",
   "name": "python",
   "nbconvert_exporter": "python",
   "pygments_lexer": "ipython3",
   "version": "3.8.17"
  }
 },
 "nbformat": 4,
 "nbformat_minor": 5
}
