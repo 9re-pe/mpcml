{
 "cells": [
  {
   "cell_type": "markdown",
   "id": "44ab343e-ea11-44d5-ae09-a0bbb68ac54c",
   "metadata": {},
   "source": [
    "# negativeサンプリングの結果によってどれだけスコアがブレるかのテスト"
   ]
  },
  {
   "cell_type": "code",
   "execution_count": 1,
   "id": "b946dc4a-d5c4-40ae-994f-0818f6eade9c",
   "metadata": {
    "tags": []
   },
   "outputs": [],
   "source": [
    "import sys\n",
    "\n",
    "root_dir = '../../'\n",
    "if root_dir not in sys.path:\n",
    "    sys.path.append(root_dir)\n",
    "\n",
    "import torch\n",
    "from torch import nn, optim\n",
    "import numpy as np\n",
    "from sklearn.decomposition import TruncatedSVD\n",
    "from scipy.sparse import csr_matrix\n",
    "\n",
    "from modules import losses, models, samplers, regularizers, evaluators, trainers, datasets, distributions"
   ]
  },
  {
   "cell_type": "markdown",
   "id": "d275d5f1-1a60-4526-9d90-e95875719cb6",
   "metadata": {},
   "source": [
    "## ML100K"
   ]
  },
  {
   "cell_type": "code",
   "execution_count": 2,
   "id": "759f8664-270e-441f-a725-1fb369f549ab",
   "metadata": {},
   "outputs": [
    {
     "name": "stdout",
     "output_type": "stream",
     "text": [
      "neg_pair_weight=1:\n",
      "   Recall@5  Recall@10  Recall@50  epoch    losses\n",
      "0  0.203380   0.405916   0.966484      0       NaN\n",
      "0  0.497598   0.703181   0.975131     30  0.207804\n",
      "neg_pair_weight=3:\n",
      "   Recall@5  Recall@10  Recall@50  epoch    losses\n",
      "0  0.081391   0.164901   0.846370      0       NaN\n",
      "0  0.441982   0.645181   0.970315     30  0.207904\n",
      "neg_pair_weight=5:\n",
      "   Recall@5  Recall@10  Recall@50  epoch    losses\n",
      "0  0.060323   0.110908   0.571272      0       NaN\n",
      "0  0.399732   0.590716   0.951048     30  0.206721\n",
      "neg_pair_weight=10:\n",
      "   Recall@5  Recall@10  Recall@50  epoch    losses\n",
      "0  0.032324   0.062347   0.313896      0       NaN\n",
      "0  0.335403   0.506510   0.903303     30  0.206358\n",
      "neg_pair_weight=30:\n",
      "   Recall@5  Recall@10  Recall@50  epoch    losses\n",
      "0  0.009777   0.021198   0.107548      0       NaN\n",
      "0  0.238257   0.369374   0.757835     30  0.209189\n"
     ]
    }
   ],
   "source": [
    "lr = 1e-3\n",
    "n_dim = 50\n",
    "ks=[5, 10, 50]\n",
    "\n",
    "dataset = datasets.ML100k()\n",
    "n_user = dataset.n_user\n",
    "n_item = dataset.n_item\n",
    "\n",
    "li_neg_pair_weight = [1, 3,  5, 10, 30]\n",
    "for neg_pair_weight in li_neg_pair_weight:\n",
    "    print(f\"neg_pair_weight={neg_pair_weight}:\")\n",
    "    train_set, test_set = dataset.get_train_and_test_set(\n",
    "        use_negative_sampling=True,\n",
    "        use_popularity=False,\n",
    "        neg_pair_weight=neg_pair_weight\n",
    "    )\n",
    "    device = torch.device(\"cuda:0\" if torch.cuda.is_available() else \"cpu\")\n",
    "    train_set = torch.LongTensor(train_set).to(device)\n",
    "    test_set = torch.LongTensor(test_set).to(device)\n",
    "    model = models.CollaborativeMetricLearning(n_user, n_item, n_dim).to(device)\n",
    "    optimizer = optim.Adam(model.parameters(), lr=lr)\n",
    "    criterion = losses.SumTripletLoss(margin=1).to(device)\n",
    "    sampler = samplers.BaseSampler(train_set, n_user, n_item, device=device, strict_negative=False)\n",
    "    evaluator = evaluators.RecallEvaluator(test_set, ks)\n",
    "    trainer = trainers.BaseTrainer(model, optimizer, criterion, sampler, no_progressbar=True)\n",
    "    trainer.fit(n_batch=256, n_epoch=30, valid_evaluator=evaluator, valid_per_epoch=30)\n",
    "    print(trainer.valid_scores)"
   ]
  },
  {
   "cell_type": "markdown",
   "id": "861dde8b-0167-40b7-8432-b639ef76a50e",
   "metadata": {},
   "source": [
    "# ML20M"
   ]
  },
  {
   "cell_type": "code",
   "execution_count": 3,
   "id": "52d2cf51-1203-4d07-bf25-824fc2e33a39",
   "metadata": {
    "tags": []
   },
   "outputs": [
    {
     "name": "stdout",
     "output_type": "stream",
     "text": [
      "neg_pair_weight=1:\n",
      "   Recall@5  Recall@10  Recall@50  epoch    losses\n",
      "0  0.172305   0.344365   0.937497      0       NaN\n",
      "0  0.495429   0.700267   0.956247     30  0.218682\n",
      "neg_pair_weight=3:\n",
      "   Recall@5  Recall@10  Recall@50  epoch    losses\n",
      "0  0.074002   0.147180   0.728287      0       NaN\n",
      "0  0.402953   0.644992   0.945526     30  0.219841\n",
      "neg_pair_weight=5:\n",
      "   Recall@5  Recall@10  Recall@50  epoch    losses\n",
      "0  0.047140   0.094489   0.471046      0       NaN\n",
      "0  0.324417   0.582919   0.928568     30  0.224704\n",
      "neg_pair_weight=10:\n",
      "   Recall@5  Recall@10  Recall@50  epoch    losses\n",
      "0  0.025133   0.050418   0.251547      0       NaN\n",
      "0  0.208284   0.442734   0.905752     30  0.222599\n",
      "neg_pair_weight=30:\n",
      "   Recall@5  Recall@10  Recall@50  epoch    losses\n",
      "0  0.008807   0.017739   0.088401      0       NaN\n",
      "0  0.075374   0.184516   0.813949     30  0.222988\n"
     ]
    }
   ],
   "source": [
    "lr = 1e-3\n",
    "n_dim = 50\n",
    "ks=[5, 10, 50]\n",
    "\n",
    "dataset = datasets.ML20m()\n",
    "n_user = dataset.n_user\n",
    "n_item = dataset.n_item\n",
    "\n",
    "li_neg_pair_weight = [1, 3,  5, 10, 30]\n",
    "for neg_pair_weight in li_neg_pair_weight:\n",
    "    print(f\"neg_pair_weight={neg_pair_weight}:\")\n",
    "    train_set, test_set = dataset.get_train_and_test_set(\n",
    "        use_negative_sampling=True,\n",
    "        use_popularity=False,\n",
    "        neg_pair_weight=neg_pair_weight\n",
    "    )\n",
    "    device = torch.device(\"cuda:0\" if torch.cuda.is_available() else \"cpu\")\n",
    "    train_set = torch.LongTensor(train_set).to(device)\n",
    "    test_set = torch.LongTensor(test_set).to(device)\n",
    "    model = models.CollaborativeMetricLearning(n_user, n_item, n_dim).to(device)\n",
    "    optimizer = optim.Adam(model.parameters(), lr=lr)\n",
    "    criterion = losses.SumTripletLoss(margin=1).to(device)\n",
    "    sampler = samplers.BaseSampler(train_set, n_user, n_item, device=device, strict_negative=False)\n",
    "    evaluator = evaluators.RecallEvaluator(test_set, ks)\n",
    "    trainer = trainers.BaseTrainer(model, optimizer, criterion, sampler, no_progressbar=True)\n",
    "    trainer.fit(n_batch=256, n_epoch=30, valid_evaluator=evaluator, valid_per_epoch=30)\n",
    "    print(trainer.valid_scores)"
   ]
  }
 ],
 "metadata": {
  "kernelspec": {
   "display_name": "bachelor2",
   "language": "python",
   "name": "bachelor2"
  },
  "language_info": {
   "codemirror_mode": {
    "name": "ipython",
    "version": 3
   },
   "file_extension": ".py",
   "mimetype": "text/x-python",
   "name": "python",
   "nbconvert_exporter": "python",
   "pygments_lexer": "ipython3",
   "version": "3.8.17"
  }
 },
 "nbformat": 4,
 "nbformat_minor": 5
}
