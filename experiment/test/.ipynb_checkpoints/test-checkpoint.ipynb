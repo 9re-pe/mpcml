{
 "cells": [
  {
   "cell_type": "code",
   "execution_count": 2,
   "id": "e61abc32-8627-4f87-83f4-fbac70145760",
   "metadata": {
    "tags": []
   },
   "outputs": [],
   "source": [
    "import sys\n",
    "\n",
    "root_dir = '../../'\n",
    "if root_dir not in sys.path:\n",
    "    sys.path.append(root_dir)\n",
    "\n",
    "import torch\n",
    "from torch import nn, optim\n",
    "import numpy as np\n",
    "from sklearn.decomposition import TruncatedSVD\n",
    "from scipy.sparse import csr_matrix\n",
    "\n",
    "from modules import losses, models, samplers, regularizers, evaluators, trainers, datasets, distributions"
   ]
  },
  {
   "cell_type": "code",
   "execution_count": 3,
   "id": "4a41011c-dafb-451f-9f86-9954ad74054d",
   "metadata": {
    "tags": []
   },
   "outputs": [
    {
     "name": "stdout",
     "output_type": "stream",
     "text": [
      "       user_id  item_id  rating  timestamp\n",
      "5            0        0       1  884182806\n",
      "7            1        1       1  891628467\n",
      "11           2        2       1  879781125\n",
      "12           3        3       1  876042340\n",
      "16           4        4       1  879270459\n",
      "...        ...      ...     ...        ...\n",
      "99988      423       53       1  892241344\n",
      "99989      485      855       1  888637503\n",
      "99990      801      333       1  882388897\n",
      "99991      662      853       1  892685437\n",
      "99996      700      151       1  879795543\n",
      "\n",
      "[55375 rows x 4 columns]\n"
     ]
    }
   ],
   "source": [
    "# get data\n",
    "dataset = datasets.ML100k()\n",
    "# dataset = datasets.ML20m()\n",
    "n_user = dataset.n_user\n",
    "n_item = dataset.n_item\n",
    "train_set, test_set = dataset.get_train_and_test_set(use_negative_sampling=True)\n",
    "\n",
    "# device setting\n",
    "device = torch.device(\"cuda:0\" if torch.cuda.is_available() else \"cpu\")\n",
    "train_set = torch.LongTensor(train_set).to(device)\n",
    "test_set = torch.LongTensor(test_set).to(device)\n",
    "#item_feature_set = torch.LongTensor(item_feature_set).to(device)\n",
    "\n",
    "# set hyperparameters\n",
    "lr = 1e-3\n",
    "n_dim = 50\n",
    "\n",
    "# set model\n",
    "#distribution = distributions.Empirical()\n",
    "#distribution = distributions.Gaussian()\n",
    "#distribution = distributions.Gamma()\n",
    "model = models.CollaborativeMetricLearning(n_user, n_item, n_dim).to(device)\n",
    "#model = models.MutualProximityCML(n_user, n_item, distribution, n_dim).to(device)\n",
    "optimizer = optim.Adam(model.parameters(), lr=lr)\n",
    "criterion = losses.SumTripletLoss(margin=1).to(device)\n",
    "sampler = samplers.BaseSampler(train_set, n_user, n_item, device=device, strict_negative=False)\n",
    "\n",
    "# set evaluator\n",
    "ks=[5]\n",
    "evaluator = evaluators.RecallEvaluator(test_set, ks)\n",
    "#evaluator = evaluators.CoverageEvaluator(test_set, ks)\n",
    "#evaluator = evaluators.DiversityEvaluator(test_set, item_feature_set, ks, emb_sim=False)\n",
    "#evaluator = evaluators.HubnessEvaluator(test_set, ks)\n",
    "#evaluator = evaluators.UnpopularityEvaluator(test_set, ks)\n",
    "#evaluator = evaluators.F1ScoreEvaluator(test_set, ks)\n",
    "trainer = trainers.BaseTrainer(model, optimizer, criterion, sampler)"
   ]
  },
  {
   "cell_type": "code",
   "execution_count": null,
   "id": "e93c98f7-e1c2-4f22-967c-cb51e1cc2769",
   "metadata": {
    "tags": []
   },
   "outputs": [],
   "source": [
    "trainer.fit(n_batch=256, n_epoch=20, valid_evaluator = evaluator, valid_per_epoch=10)"
   ]
  },
  {
   "cell_type": "code",
   "execution_count": null,
   "id": "aae210ed-25fe-4e9e-aa1a-059b00626ce0",
   "metadata": {
    "tags": []
   },
   "outputs": [],
   "source": [
    "trainer.valid_scores"
   ]
  },
  {
   "cell_type": "code",
   "execution_count": null,
   "id": "1ae8e683-24bc-49c5-a0fd-e333d45bb50d",
   "metadata": {
    "tags": []
   },
   "outputs": [],
   "source": [
    "import torch\n",
    "device = torch.device(\"cuda:0\" if torch.cuda.is_available() else \"cpu\")\n",
    "print(device)"
   ]
  },
  {
   "cell_type": "code",
   "execution_count": null,
   "id": "e039426a-f8c3-45a7-944c-67258226f149",
   "metadata": {},
   "outputs": [],
   "source": []
  }
 ],
 "metadata": {
  "kernelspec": {
   "display_name": "bachelor2",
   "language": "python",
   "name": "bachelor2"
  },
  "language_info": {
   "codemirror_mode": {
    "name": "ipython",
    "version": 3
   },
   "file_extension": ".py",
   "mimetype": "text/x-python",
   "name": "python",
   "nbconvert_exporter": "python",
   "pygments_lexer": "ipython3",
   "version": "3.8.17"
  }
 },
 "nbformat": 4,
 "nbformat_minor": 5
}
