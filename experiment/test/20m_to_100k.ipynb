{
 "cells": [
  {
   "cell_type": "code",
   "execution_count": 1,
   "id": "a8ae7784-e462-4737-bcdf-48cfbc491826",
   "metadata": {
    "tags": []
   },
   "outputs": [],
   "source": [
    "import sys\n",
    "\n",
    "root_dir = '../../'\n",
    "if root_dir not in sys.path:\n",
    "    sys.path.append(root_dir)\n",
    "\n",
    "import torch\n",
    "from torch import nn, optim\n",
    "import numpy as np\n",
    "import matplotlib.pyplot as plt\n",
    "from sklearn.decomposition import TruncatedSVD\n",
    "from scipy.sparse import csr_matrix\n",
    "\n",
    "from modules import losses, models, samplers, searches, regularizers, evaluators, trainers, datasets, distributions"
   ]
  },
  {
   "cell_type": "code",
   "execution_count": 3,
   "id": "fd101d48-f229-4fcc-9e7d-a0c458da3fb9",
   "metadata": {
    "tags": []
   },
   "outputs": [
    {
     "name": "stdout",
     "output_type": "stream",
     "text": [
      "n_user=940, n_item=1447\n"
     ]
    }
   ],
   "source": [
    "dataset = datasets.ML100k()\n",
    "n_user = dataset.n_user\n",
    "n_item = dataset.n_item\n",
    "print(f\"n_user={n_user}, n_item={n_item}\")\n",
    "train_set, test_set = dataset.get_train_and_test_set()\n",
    "\n",
    "# device setting\n",
    "device = torch.device(\"cuda:0\" if torch.cuda.is_available() else \"cpu\")\n",
    "train_set = torch.LongTensor(train_set).to(device)\n",
    "test_set = torch.FloatTensor(test_set).to(device)"
   ]
  },
  {
   "cell_type": "code",
   "execution_count": 4,
   "id": "51d01c4e-69bc-4728-a8f0-227353137f9d",
   "metadata": {
    "tags": []
   },
   "outputs": [],
   "source": [
    "# k\n",
    "ks = [5, 10, 50]\n",
    "\n",
    "score_function_dict = {\n",
    "    \"Recall\"       : evaluators.recall,\n",
    "    #\"Unpopularity\" : evaluators.unpopularity,\n",
    "    #\"Unpopularity2\": evaluators.unpopularity2,\n",
    "    \"Unpopularity3\": evaluators.unpopularity3,\n",
    "    #\"F1-score\"     : evaluators.f1_score,\n",
    "    #\"F1-score2\"    : evaluators.f1_score2,\n",
    "    \"F1-score3\"    : evaluators.f1_score3\n",
    "}\n",
    "userwise = evaluators.UserwiseEvaluator(test_set, score_function_dict, ks)\n",
    "# coverage = evaluators.CoverageEvaluator(test_set, ks)\n",
    "# hubness = evaluators.HubnessEvaluator(test_set, ks)"
   ]
  },
  {
   "cell_type": "code",
   "execution_count": 5,
   "id": "81e30c11-a001-4ca2-95ff-878cbba30cbe",
   "metadata": {
    "tags": []
   },
   "outputs": [],
   "source": [
    "sampler = samplers.BaseSampler(train_set, n_user, n_item, device=device, strict_negative=False)"
   ]
  },
  {
   "cell_type": "code",
   "execution_count": 7,
   "id": "800a4df2-468c-43c2-b0c1-70231299903c",
   "metadata": {
    "tags": []
   },
   "outputs": [],
   "source": [
    "# Hyperparameters\n",
    "lr = 1e-3\n",
    "n_dim = 10\n",
    "n_batch = 256\n",
    "n_epoch = 10\n",
    "valid_per_epoch = 10\n",
    "n_item_sample = 30\n",
    "n_user_sample = 30\n",
    "no_progressbar = False\n",
    "search_range = 30\n",
    "\n",
    "# models\n",
    "model = models.CollaborativeMetricLearning(n_user, n_item, n_dim).to(device)\n",
    "\n",
    "# distributiuons\n",
    "gaussian = distributions.Gaussian()\n",
    "gamma = distributions.Gamma()\n",
    "\n",
    "# search\n",
    "knn = searches.NearestNeighborhood(model)\n",
    "mp = searches.MutualProximity(model, gamma)\n",
    "mymp = searches.Mymp(model, search_range)\n",
    "\n",
    "# learning late optimizer\n",
    "optimizer = optim.Adam(model.parameters(), lr=lr)\n",
    "\n",
    "# loss function\n",
    "criterion = losses.SumTripletLoss(margin=1).to(device)\n",
    "\n",
    "# trainer\n",
    "trainer = trainers.BaseTrainer(model, optimizer, criterion, sampler, no_progressbar)"
   ]
  },
  {
   "cell_type": "code",
   "execution_count": 8,
   "id": "d7c67a27-64d1-450b-937c-90e5ed1bb4be",
   "metadata": {
    "tags": []
   },
   "outputs": [
    {
     "name": "stderr",
     "output_type": "stream",
     "text": [
      "100%|████████████████████████████████████████████████████████████████████████████████████████████████████████████████████████████████████████████████████████████████████████████████████████████| 940/940 [00:16<00:00, 58.11it/s]\n",
      "epoch1 avg_loss:0.933: 100%|█████████████████████████████████████████████████████████████████████████████████████████████████████████████████████████████████████████████████████████████████████| 256/256 [00:02<00:00, 96.97it/s]\n",
      "epoch2 avg_loss:0.772: 100%|█████████████████████████████████████████████████████████████████████████████████████████████████████████████████████████████████████████████████████████████████████| 256/256 [00:02<00:00, 98.94it/s]\n",
      "epoch3 avg_loss:0.681: 100%|████████████████████████████████████████████████████████████████████████████████████████████████████████████████████████████████████████████████████████████████████| 256/256 [00:02<00:00, 102.01it/s]\n",
      "epoch4 avg_loss:0.622: 100%|████████████████████████████████████████████████████████████████████████████████████████████████████████████████████████████████████████████████████████████████████| 256/256 [00:02<00:00, 101.46it/s]\n",
      "epoch5 avg_loss:0.580: 100%|█████████████████████████████████████████████████████████████████████████████████████████████████████████████████████████████████████████████████████████████████████| 256/256 [00:02<00:00, 98.61it/s]\n",
      "epoch6 avg_loss:0.554: 100%|████████████████████████████████████████████████████████████████████████████████████████████████████████████████████████████████████████████████████████████████████| 256/256 [00:02<00:00, 102.56it/s]\n",
      "epoch7 avg_loss:0.524: 100%|█████████████████████████████████████████████████████████████████████████████████████████████████████████████████████████████████████████████████████████████████████| 256/256 [00:02<00:00, 97.76it/s]\n",
      "epoch8 avg_loss:0.504: 100%|█████████████████████████████████████████████████████████████████████████████████████████████████████████████████████████████████████████████████████████████████████| 256/256 [00:02<00:00, 96.99it/s]\n",
      "epoch9 avg_loss:0.477: 100%|█████████████████████████████████████████████████████████████████████████████████████████████████████████████████████████████████████████████████████████████████████| 256/256 [00:02<00:00, 98.72it/s]\n",
      "epoch10 avg_loss:0.456: 100%|████████████████████████████████████████████████████████████████████████████████████████████████████████████████████████████████████████████████████████████████████| 256/256 [00:02<00:00, 97.67it/s]\n",
      "100%|████████████████████████████████████████████████████████████████████████████████████████████████████████████████████████████████████████████████████████████████████████████████████████████| 940/940 [00:15<00:00, 61.08it/s]\n"
     ]
    }
   ],
   "source": [
    "trainer.fit(n_batch, n_epoch, knn, userwise, valid_per_epoch)"
   ]
  },
  {
   "cell_type": "code",
   "execution_count": 9,
   "id": "ced7876b-81d7-4751-aa46-60b7763d1296",
   "metadata": {},
   "outputs": [
    {
     "data": {
      "text/html": [
       "<div>\n",
       "<style scoped>\n",
       "    .dataframe tbody tr th:only-of-type {\n",
       "        vertical-align: middle;\n",
       "    }\n",
       "\n",
       "    .dataframe tbody tr th {\n",
       "        vertical-align: top;\n",
       "    }\n",
       "\n",
       "    .dataframe thead th {\n",
       "        text-align: right;\n",
       "    }\n",
       "</style>\n",
       "<table border=\"1\" class=\"dataframe\">\n",
       "  <thead>\n",
       "    <tr style=\"text-align: right;\">\n",
       "      <th></th>\n",
       "      <th>Recall@5</th>\n",
       "      <th>Unpopularity3@5</th>\n",
       "      <th>F1-score3@5</th>\n",
       "      <th>Recall@10</th>\n",
       "      <th>Unpopularity3@10</th>\n",
       "      <th>F1-score3@10</th>\n",
       "      <th>Recall@50</th>\n",
       "      <th>Unpopularity3@50</th>\n",
       "      <th>F1-score3@50</th>\n",
       "      <th>epoch</th>\n",
       "      <th>losses</th>\n",
       "    </tr>\n",
       "  </thead>\n",
       "  <tbody>\n",
       "    <tr>\n",
       "      <th>0</th>\n",
       "      <td>0.062271</td>\n",
       "      <td>0.061371</td>\n",
       "      <td>0.029432</td>\n",
       "      <td>0.124960</td>\n",
       "      <td>0.123999</td>\n",
       "      <td>0.089361</td>\n",
       "      <td>0.522693</td>\n",
       "      <td>0.525608</td>\n",
       "      <td>0.515630</td>\n",
       "      <td>0</td>\n",
       "      <td>NaN</td>\n",
       "    </tr>\n",
       "    <tr>\n",
       "      <th>0</th>\n",
       "      <td>0.219088</td>\n",
       "      <td>0.017148</td>\n",
       "      <td>0.020699</td>\n",
       "      <td>0.393568</td>\n",
       "      <td>0.040768</td>\n",
       "      <td>0.061940</td>\n",
       "      <td>0.817736</td>\n",
       "      <td>0.418932</td>\n",
       "      <td>0.478737</td>\n",
       "      <td>10</td>\n",
       "      <td>0.456192</td>\n",
       "    </tr>\n",
       "  </tbody>\n",
       "</table>\n",
       "</div>"
      ],
      "text/plain": [
       "   Recall@5  Unpopularity3@5  F1-score3@5  Recall@10  Unpopularity3@10  \\\n",
       "0  0.062271         0.061371     0.029432   0.124960          0.123999   \n",
       "0  0.219088         0.017148     0.020699   0.393568          0.040768   \n",
       "\n",
       "   F1-score3@10  Recall@50  Unpopularity3@50  F1-score3@50  epoch    losses  \n",
       "0      0.089361   0.522693          0.525608      0.515630      0       NaN  \n",
       "0      0.061940   0.817736          0.418932      0.478737     10  0.456192  "
      ]
     },
     "metadata": {},
     "output_type": "display_data"
    }
   ],
   "source": [
    "re_knn = trainer.valid_scores.copy()\n",
    "display(re_knn)"
   ]
  },
  {
   "cell_type": "code",
   "execution_count": null,
   "id": "d40a5a2a-2dba-471d-bc0d-e227fc13e4e7",
   "metadata": {},
   "outputs": [],
   "source": [
    "trainer.fit(n_batch, n_epoch, mp, userwise, valid_per_epoch)"
   ]
  },
  {
   "cell_type": "code",
   "execution_count": null,
   "id": "0744b0e4-6bab-494f-9eeb-258f0ad04e45",
   "metadata": {},
   "outputs": [],
   "source": [
    "re_mp = trainer.valid_scores.copy()\n",
    "display(re_mp)"
   ]
  }
 ],
 "metadata": {
  "kernelspec": {
   "display_name": "bachelor2",
   "language": "python",
   "name": "bachelor2"
  },
  "language_info": {
   "codemirror_mode": {
    "name": "ipython",
    "version": 3
   },
   "file_extension": ".py",
   "mimetype": "text/x-python",
   "name": "python",
   "nbconvert_exporter": "python",
   "pygments_lexer": "ipython3",
   "version": "3.8.17"
  }
 },
 "nbformat": 4,
 "nbformat_minor": 5
}
