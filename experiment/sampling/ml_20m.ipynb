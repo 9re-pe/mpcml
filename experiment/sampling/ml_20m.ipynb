{
 "cells": [
  {
   "cell_type": "markdown",
   "id": "3e9027c7-d673-415f-8b4c-661a6ff29d6d",
   "metadata": {},
   "source": [
    "# Import"
   ]
  },
  {
   "cell_type": "code",
   "execution_count": 1,
   "id": "c60e7400-ca05-49e5-9a06-95e1a10c84ea",
   "metadata": {},
   "outputs": [],
   "source": [
    "import sys\n",
    "\n",
    "root_dir = '../../'\n",
    "if root_dir not in sys.path:\n",
    "    sys.path.append(root_dir)\n",
    "\n",
    "import torch\n",
    "from torch import nn, optim\n",
    "import numpy as np\n",
    "import matplotlib.pyplot as plt\n",
    "from sklearn.decomposition import TruncatedSVD\n",
    "from scipy.sparse import csr_matrix\n",
    "\n",
    "from modules import losses, models, samplers, regularizers, evaluators, trainers, datasets, distributions"
   ]
  },
  {
   "cell_type": "markdown",
   "id": "44247d1a-7b9e-4dac-a775-e31b7774fa0d",
   "metadata": {
    "tags": []
   },
   "source": [
    "# DataSet"
   ]
  },
  {
   "cell_type": "code",
   "execution_count": 2,
   "id": "d553cd23-df97-421a-96de-84d0de9b2401",
   "metadata": {},
   "outputs": [],
   "source": [
    "dataset = datasets.ML20m()\n",
    "n_user = dataset.n_user\n",
    "n_item = dataset.n_item\n",
    "train_set, test_set = dataset.get_train_and_test_set()\n",
    "\n",
    "# device setting\n",
    "device = torch.device(\"cuda:0\" if torch.cuda.is_available() else \"cpu\")\n",
    "train_set = torch.LongTensor(train_set).to(device)\n",
    "test_set = torch.LongTensor(test_set).to(device)"
   ]
  },
  {
   "cell_type": "markdown",
   "id": "bb1515ac-9d36-428c-8cf3-7c6e72414c0c",
   "metadata": {},
   "source": [
    "# Evaluator"
   ]
  },
  {
   "cell_type": "code",
   "execution_count": 3,
   "id": "be0fe92a-6a7d-412c-b03b-09350d64d88d",
   "metadata": {},
   "outputs": [],
   "source": [
    "ks = [5, 10, 50]\n",
    "recall = evaluators.RecallEvaluator(test_set, ks)"
   ]
  },
  {
   "cell_type": "markdown",
   "id": "9ac6f442-f54f-4f94-a246-525fbe0ab154",
   "metadata": {
    "tags": []
   },
   "source": [
    "# Sampler"
   ]
  },
  {
   "cell_type": "code",
   "execution_count": 4,
   "id": "43c4b716-028e-45d2-a813-292794a3777e",
   "metadata": {},
   "outputs": [],
   "source": [
    "sampler = samplers.BaseSampler(train_set, n_user, n_item, device=device, strict_negative=False)"
   ]
  },
  {
   "cell_type": "markdown",
   "id": "d1d4d71c-5a59-4dd0-977c-c25ed5928730",
   "metadata": {},
   "source": [
    "# Params"
   ]
  },
  {
   "cell_type": "code",
   "execution_count": 5,
   "id": "5e3b77af-35a8-40ff-97ce-eea7285016e2",
   "metadata": {
    "tags": []
   },
   "outputs": [],
   "source": [
    "# Hyperparameters\n",
    "lr = 1e-3\n",
    "n_dim = 10\n",
    "n_batch = 256\n",
    "n_epoch = 50\n",
    "valid_per_epoch = 50\n",
    "dist = distributions.Gamma()\n",
    "no_progressbar = True"
   ]
  },
  {
   "cell_type": "markdown",
   "id": "fa320657-669b-4605-aa6b-a2faa0c8cfee",
   "metadata": {},
   "source": [
    "# Both"
   ]
  },
  {
   "cell_type": "code",
   "execution_count": 6,
   "id": "28e6f9aa-dee4-4c0f-8e4c-fd60e2efd6dc",
   "metadata": {},
   "outputs": [
    {
     "name": "stdout",
     "output_type": "stream",
     "text": [
      "n_item_sample=10\n",
      "n_user_sample=10\n"
     ]
    },
    {
     "data": {
      "text/html": [
       "<div>\n",
       "<style scoped>\n",
       "    .dataframe tbody tr th:only-of-type {\n",
       "        vertical-align: middle;\n",
       "    }\n",
       "\n",
       "    .dataframe tbody tr th {\n",
       "        vertical-align: top;\n",
       "    }\n",
       "\n",
       "    .dataframe thead th {\n",
       "        text-align: right;\n",
       "    }\n",
       "</style>\n",
       "<table border=\"1\" class=\"dataframe\">\n",
       "  <thead>\n",
       "    <tr style=\"text-align: right;\">\n",
       "      <th></th>\n",
       "      <th>Recall@5</th>\n",
       "      <th>Recall@10</th>\n",
       "      <th>Recall@50</th>\n",
       "      <th>epoch</th>\n",
       "      <th>losses</th>\n",
       "    </tr>\n",
       "  </thead>\n",
       "  <tbody>\n",
       "    <tr>\n",
       "      <th>0</th>\n",
       "      <td>0.063260</td>\n",
       "      <td>0.126743</td>\n",
       "      <td>0.522247</td>\n",
       "      <td>0</td>\n",
       "      <td>NaN</td>\n",
       "    </tr>\n",
       "    <tr>\n",
       "      <th>0</th>\n",
       "      <td>0.037874</td>\n",
       "      <td>0.109503</td>\n",
       "      <td>0.756233</td>\n",
       "      <td>50</td>\n",
       "      <td>0.318884</td>\n",
       "    </tr>\n",
       "  </tbody>\n",
       "</table>\n",
       "</div>"
      ],
      "text/plain": [
       "   Recall@5  Recall@10  Recall@50  epoch    losses\n",
       "0  0.063260   0.126743   0.522247      0       NaN\n",
       "0  0.037874   0.109503   0.756233     50  0.318884"
      ]
     },
     "metadata": {},
     "output_type": "display_data"
    },
    {
     "name": "stdout",
     "output_type": "stream",
     "text": [
      "n_item_sample=20\n",
      "n_user_sample=20\n"
     ]
    },
    {
     "data": {
      "text/html": [
       "<div>\n",
       "<style scoped>\n",
       "    .dataframe tbody tr th:only-of-type {\n",
       "        vertical-align: middle;\n",
       "    }\n",
       "\n",
       "    .dataframe tbody tr th {\n",
       "        vertical-align: top;\n",
       "    }\n",
       "\n",
       "    .dataframe thead th {\n",
       "        text-align: right;\n",
       "    }\n",
       "</style>\n",
       "<table border=\"1\" class=\"dataframe\">\n",
       "  <thead>\n",
       "    <tr style=\"text-align: right;\">\n",
       "      <th></th>\n",
       "      <th>Recall@5</th>\n",
       "      <th>Recall@10</th>\n",
       "      <th>Recall@50</th>\n",
       "      <th>epoch</th>\n",
       "      <th>losses</th>\n",
       "    </tr>\n",
       "  </thead>\n",
       "  <tbody>\n",
       "    <tr>\n",
       "      <th>0</th>\n",
       "      <td>0.062665</td>\n",
       "      <td>0.126604</td>\n",
       "      <td>0.521800</td>\n",
       "      <td>0</td>\n",
       "      <td>NaN</td>\n",
       "    </tr>\n",
       "    <tr>\n",
       "      <th>0</th>\n",
       "      <td>0.029611</td>\n",
       "      <td>0.095304</td>\n",
       "      <td>0.771969</td>\n",
       "      <td>50</td>\n",
       "      <td>0.319216</td>\n",
       "    </tr>\n",
       "  </tbody>\n",
       "</table>\n",
       "</div>"
      ],
      "text/plain": [
       "   Recall@5  Recall@10  Recall@50  epoch    losses\n",
       "0  0.062665   0.126604   0.521800      0       NaN\n",
       "0  0.029611   0.095304   0.771969     50  0.319216"
      ]
     },
     "metadata": {},
     "output_type": "display_data"
    },
    {
     "name": "stdout",
     "output_type": "stream",
     "text": [
      "n_item_sample=30\n",
      "n_user_sample=30\n"
     ]
    },
    {
     "data": {
      "text/html": [
       "<div>\n",
       "<style scoped>\n",
       "    .dataframe tbody tr th:only-of-type {\n",
       "        vertical-align: middle;\n",
       "    }\n",
       "\n",
       "    .dataframe tbody tr th {\n",
       "        vertical-align: top;\n",
       "    }\n",
       "\n",
       "    .dataframe thead th {\n",
       "        text-align: right;\n",
       "    }\n",
       "</style>\n",
       "<table border=\"1\" class=\"dataframe\">\n",
       "  <thead>\n",
       "    <tr style=\"text-align: right;\">\n",
       "      <th></th>\n",
       "      <th>Recall@5</th>\n",
       "      <th>Recall@10</th>\n",
       "      <th>Recall@50</th>\n",
       "      <th>epoch</th>\n",
       "      <th>losses</th>\n",
       "    </tr>\n",
       "  </thead>\n",
       "  <tbody>\n",
       "    <tr>\n",
       "      <th>0</th>\n",
       "      <td>0.063601</td>\n",
       "      <td>0.126846</td>\n",
       "      <td>0.522304</td>\n",
       "      <td>0</td>\n",
       "      <td>NaN</td>\n",
       "    </tr>\n",
       "    <tr>\n",
       "      <th>0</th>\n",
       "      <td>0.026290</td>\n",
       "      <td>0.089331</td>\n",
       "      <td>0.778163</td>\n",
       "      <td>50</td>\n",
       "      <td>0.318538</td>\n",
       "    </tr>\n",
       "  </tbody>\n",
       "</table>\n",
       "</div>"
      ],
      "text/plain": [
       "   Recall@5  Recall@10  Recall@50  epoch    losses\n",
       "0  0.063601   0.126846   0.522304      0       NaN\n",
       "0  0.026290   0.089331   0.778163     50  0.318538"
      ]
     },
     "metadata": {},
     "output_type": "display_data"
    },
    {
     "name": "stdout",
     "output_type": "stream",
     "text": [
      "n_item_sample=40\n",
      "n_user_sample=40\n"
     ]
    },
    {
     "data": {
      "text/html": [
       "<div>\n",
       "<style scoped>\n",
       "    .dataframe tbody tr th:only-of-type {\n",
       "        vertical-align: middle;\n",
       "    }\n",
       "\n",
       "    .dataframe tbody tr th {\n",
       "        vertical-align: top;\n",
       "    }\n",
       "\n",
       "    .dataframe thead th {\n",
       "        text-align: right;\n",
       "    }\n",
       "</style>\n",
       "<table border=\"1\" class=\"dataframe\">\n",
       "  <thead>\n",
       "    <tr style=\"text-align: right;\">\n",
       "      <th></th>\n",
       "      <th>Recall@5</th>\n",
       "      <th>Recall@10</th>\n",
       "      <th>Recall@50</th>\n",
       "      <th>epoch</th>\n",
       "      <th>losses</th>\n",
       "    </tr>\n",
       "  </thead>\n",
       "  <tbody>\n",
       "    <tr>\n",
       "      <th>0</th>\n",
       "      <td>0.063744</td>\n",
       "      <td>0.126956</td>\n",
       "      <td>0.522554</td>\n",
       "      <td>0</td>\n",
       "      <td>NaN</td>\n",
       "    </tr>\n",
       "    <tr>\n",
       "      <th>0</th>\n",
       "      <td>0.024551</td>\n",
       "      <td>0.085222</td>\n",
       "      <td>0.782043</td>\n",
       "      <td>50</td>\n",
       "      <td>0.317737</td>\n",
       "    </tr>\n",
       "  </tbody>\n",
       "</table>\n",
       "</div>"
      ],
      "text/plain": [
       "   Recall@5  Recall@10  Recall@50  epoch    losses\n",
       "0  0.063744   0.126956   0.522554      0       NaN\n",
       "0  0.024551   0.085222   0.782043     50  0.317737"
      ]
     },
     "metadata": {},
     "output_type": "display_data"
    },
    {
     "name": "stdout",
     "output_type": "stream",
     "text": [
      "n_item_sample=50\n",
      "n_user_sample=50\n"
     ]
    },
    {
     "data": {
      "text/html": [
       "<div>\n",
       "<style scoped>\n",
       "    .dataframe tbody tr th:only-of-type {\n",
       "        vertical-align: middle;\n",
       "    }\n",
       "\n",
       "    .dataframe tbody tr th {\n",
       "        vertical-align: top;\n",
       "    }\n",
       "\n",
       "    .dataframe thead th {\n",
       "        text-align: right;\n",
       "    }\n",
       "</style>\n",
       "<table border=\"1\" class=\"dataframe\">\n",
       "  <thead>\n",
       "    <tr style=\"text-align: right;\">\n",
       "      <th></th>\n",
       "      <th>Recall@5</th>\n",
       "      <th>Recall@10</th>\n",
       "      <th>Recall@50</th>\n",
       "      <th>epoch</th>\n",
       "      <th>losses</th>\n",
       "    </tr>\n",
       "  </thead>\n",
       "  <tbody>\n",
       "    <tr>\n",
       "      <th>0</th>\n",
       "      <td>0.062988</td>\n",
       "      <td>0.126639</td>\n",
       "      <td>0.521971</td>\n",
       "      <td>0</td>\n",
       "      <td>NaN</td>\n",
       "    </tr>\n",
       "    <tr>\n",
       "      <th>0</th>\n",
       "      <td>0.023518</td>\n",
       "      <td>0.082411</td>\n",
       "      <td>0.783923</td>\n",
       "      <td>50</td>\n",
       "      <td>0.319554</td>\n",
       "    </tr>\n",
       "  </tbody>\n",
       "</table>\n",
       "</div>"
      ],
      "text/plain": [
       "   Recall@5  Recall@10  Recall@50  epoch    losses\n",
       "0  0.062988   0.126639   0.521971      0       NaN\n",
       "0  0.023518   0.082411   0.783923     50  0.319554"
      ]
     },
     "metadata": {},
     "output_type": "display_data"
    },
    {
     "name": "stdout",
     "output_type": "stream",
     "text": [
      "n_item_sample=60\n",
      "n_user_sample=60\n"
     ]
    },
    {
     "data": {
      "text/html": [
       "<div>\n",
       "<style scoped>\n",
       "    .dataframe tbody tr th:only-of-type {\n",
       "        vertical-align: middle;\n",
       "    }\n",
       "\n",
       "    .dataframe tbody tr th {\n",
       "        vertical-align: top;\n",
       "    }\n",
       "\n",
       "    .dataframe thead th {\n",
       "        text-align: right;\n",
       "    }\n",
       "</style>\n",
       "<table border=\"1\" class=\"dataframe\">\n",
       "  <thead>\n",
       "    <tr style=\"text-align: right;\">\n",
       "      <th></th>\n",
       "      <th>Recall@5</th>\n",
       "      <th>Recall@10</th>\n",
       "      <th>Recall@50</th>\n",
       "      <th>epoch</th>\n",
       "      <th>losses</th>\n",
       "    </tr>\n",
       "  </thead>\n",
       "  <tbody>\n",
       "    <tr>\n",
       "      <th>0</th>\n",
       "      <td>0.062973</td>\n",
       "      <td>0.126583</td>\n",
       "      <td>0.522233</td>\n",
       "      <td>0</td>\n",
       "      <td>NaN</td>\n",
       "    </tr>\n",
       "    <tr>\n",
       "      <th>0</th>\n",
       "      <td>0.022838</td>\n",
       "      <td>0.080729</td>\n",
       "      <td>0.785723</td>\n",
       "      <td>50</td>\n",
       "      <td>0.322011</td>\n",
       "    </tr>\n",
       "  </tbody>\n",
       "</table>\n",
       "</div>"
      ],
      "text/plain": [
       "   Recall@5  Recall@10  Recall@50  epoch    losses\n",
       "0  0.062973   0.126583   0.522233      0       NaN\n",
       "0  0.022838   0.080729   0.785723     50  0.322011"
      ]
     },
     "metadata": {},
     "output_type": "display_data"
    },
    {
     "name": "stdout",
     "output_type": "stream",
     "text": [
      "n_item_sample=70\n",
      "n_user_sample=70\n"
     ]
    },
    {
     "data": {
      "text/html": [
       "<div>\n",
       "<style scoped>\n",
       "    .dataframe tbody tr th:only-of-type {\n",
       "        vertical-align: middle;\n",
       "    }\n",
       "\n",
       "    .dataframe tbody tr th {\n",
       "        vertical-align: top;\n",
       "    }\n",
       "\n",
       "    .dataframe thead th {\n",
       "        text-align: right;\n",
       "    }\n",
       "</style>\n",
       "<table border=\"1\" class=\"dataframe\">\n",
       "  <thead>\n",
       "    <tr style=\"text-align: right;\">\n",
       "      <th></th>\n",
       "      <th>Recall@5</th>\n",
       "      <th>Recall@10</th>\n",
       "      <th>Recall@50</th>\n",
       "      <th>epoch</th>\n",
       "      <th>losses</th>\n",
       "    </tr>\n",
       "  </thead>\n",
       "  <tbody>\n",
       "    <tr>\n",
       "      <th>0</th>\n",
       "      <td>0.063058</td>\n",
       "      <td>0.126222</td>\n",
       "      <td>0.522317</td>\n",
       "      <td>0</td>\n",
       "      <td>NaN</td>\n",
       "    </tr>\n",
       "    <tr>\n",
       "      <th>0</th>\n",
       "      <td>0.022160</td>\n",
       "      <td>0.079494</td>\n",
       "      <td>0.786907</td>\n",
       "      <td>50</td>\n",
       "      <td>0.319832</td>\n",
       "    </tr>\n",
       "  </tbody>\n",
       "</table>\n",
       "</div>"
      ],
      "text/plain": [
       "   Recall@5  Recall@10  Recall@50  epoch    losses\n",
       "0  0.063058   0.126222   0.522317      0       NaN\n",
       "0  0.022160   0.079494   0.786907     50  0.319832"
      ]
     },
     "metadata": {},
     "output_type": "display_data"
    },
    {
     "name": "stdout",
     "output_type": "stream",
     "text": [
      "n_item_sample=80\n",
      "n_user_sample=80\n"
     ]
    },
    {
     "data": {
      "text/html": [
       "<div>\n",
       "<style scoped>\n",
       "    .dataframe tbody tr th:only-of-type {\n",
       "        vertical-align: middle;\n",
       "    }\n",
       "\n",
       "    .dataframe tbody tr th {\n",
       "        vertical-align: top;\n",
       "    }\n",
       "\n",
       "    .dataframe thead th {\n",
       "        text-align: right;\n",
       "    }\n",
       "</style>\n",
       "<table border=\"1\" class=\"dataframe\">\n",
       "  <thead>\n",
       "    <tr style=\"text-align: right;\">\n",
       "      <th></th>\n",
       "      <th>Recall@5</th>\n",
       "      <th>Recall@10</th>\n",
       "      <th>Recall@50</th>\n",
       "      <th>epoch</th>\n",
       "      <th>losses</th>\n",
       "    </tr>\n",
       "  </thead>\n",
       "  <tbody>\n",
       "    <tr>\n",
       "      <th>0</th>\n",
       "      <td>0.062212</td>\n",
       "      <td>0.126164</td>\n",
       "      <td>0.522301</td>\n",
       "      <td>0</td>\n",
       "      <td>NaN</td>\n",
       "    </tr>\n",
       "    <tr>\n",
       "      <th>0</th>\n",
       "      <td>0.021519</td>\n",
       "      <td>0.078472</td>\n",
       "      <td>0.788342</td>\n",
       "      <td>50</td>\n",
       "      <td>0.322065</td>\n",
       "    </tr>\n",
       "  </tbody>\n",
       "</table>\n",
       "</div>"
      ],
      "text/plain": [
       "   Recall@5  Recall@10  Recall@50  epoch    losses\n",
       "0  0.062212   0.126164   0.522301      0       NaN\n",
       "0  0.021519   0.078472   0.788342     50  0.322065"
      ]
     },
     "metadata": {},
     "output_type": "display_data"
    },
    {
     "name": "stdout",
     "output_type": "stream",
     "text": [
      "n_item_sample=90\n",
      "n_user_sample=90\n"
     ]
    },
    {
     "data": {
      "text/html": [
       "<div>\n",
       "<style scoped>\n",
       "    .dataframe tbody tr th:only-of-type {\n",
       "        vertical-align: middle;\n",
       "    }\n",
       "\n",
       "    .dataframe tbody tr th {\n",
       "        vertical-align: top;\n",
       "    }\n",
       "\n",
       "    .dataframe thead th {\n",
       "        text-align: right;\n",
       "    }\n",
       "</style>\n",
       "<table border=\"1\" class=\"dataframe\">\n",
       "  <thead>\n",
       "    <tr style=\"text-align: right;\">\n",
       "      <th></th>\n",
       "      <th>Recall@5</th>\n",
       "      <th>Recall@10</th>\n",
       "      <th>Recall@50</th>\n",
       "      <th>epoch</th>\n",
       "      <th>losses</th>\n",
       "    </tr>\n",
       "  </thead>\n",
       "  <tbody>\n",
       "    <tr>\n",
       "      <th>0</th>\n",
       "      <td>0.063348</td>\n",
       "      <td>0.126584</td>\n",
       "      <td>0.52203</td>\n",
       "      <td>0</td>\n",
       "      <td>NaN</td>\n",
       "    </tr>\n",
       "    <tr>\n",
       "      <th>0</th>\n",
       "      <td>0.021204</td>\n",
       "      <td>0.077594</td>\n",
       "      <td>0.78913</td>\n",
       "      <td>50</td>\n",
       "      <td>0.321744</td>\n",
       "    </tr>\n",
       "  </tbody>\n",
       "</table>\n",
       "</div>"
      ],
      "text/plain": [
       "   Recall@5  Recall@10  Recall@50  epoch    losses\n",
       "0  0.063348   0.126584    0.52203      0       NaN\n",
       "0  0.021204   0.077594    0.78913     50  0.321744"
      ]
     },
     "metadata": {},
     "output_type": "display_data"
    },
    {
     "name": "stdout",
     "output_type": "stream",
     "text": [
      "n_item_sample=100\n",
      "n_user_sample=100\n"
     ]
    },
    {
     "data": {
      "text/html": [
       "<div>\n",
       "<style scoped>\n",
       "    .dataframe tbody tr th:only-of-type {\n",
       "        vertical-align: middle;\n",
       "    }\n",
       "\n",
       "    .dataframe tbody tr th {\n",
       "        vertical-align: top;\n",
       "    }\n",
       "\n",
       "    .dataframe thead th {\n",
       "        text-align: right;\n",
       "    }\n",
       "</style>\n",
       "<table border=\"1\" class=\"dataframe\">\n",
       "  <thead>\n",
       "    <tr style=\"text-align: right;\">\n",
       "      <th></th>\n",
       "      <th>Recall@5</th>\n",
       "      <th>Recall@10</th>\n",
       "      <th>Recall@50</th>\n",
       "      <th>epoch</th>\n",
       "      <th>losses</th>\n",
       "    </tr>\n",
       "  </thead>\n",
       "  <tbody>\n",
       "    <tr>\n",
       "      <th>0</th>\n",
       "      <td>0.063129</td>\n",
       "      <td>0.126191</td>\n",
       "      <td>0.522124</td>\n",
       "      <td>0</td>\n",
       "      <td>NaN</td>\n",
       "    </tr>\n",
       "    <tr>\n",
       "      <th>0</th>\n",
       "      <td>0.020714</td>\n",
       "      <td>0.076265</td>\n",
       "      <td>0.789606</td>\n",
       "      <td>50</td>\n",
       "      <td>0.320031</td>\n",
       "    </tr>\n",
       "  </tbody>\n",
       "</table>\n",
       "</div>"
      ],
      "text/plain": [
       "   Recall@5  Recall@10  Recall@50  epoch    losses\n",
       "0  0.063129   0.126191   0.522124      0       NaN\n",
       "0  0.020714   0.076265   0.789606     50  0.320031"
      ]
     },
     "metadata": {},
     "output_type": "display_data"
    }
   ],
   "source": [
    "n_both_samples = [10, 20, 30, 40, 50, 60, 70, 80, 90, 100]\n",
    "\n",
    "re_1_1 = []\n",
    "for n_sample in n_both_samples:\n",
    "    print(f'n_item_sample={n_sample}')\n",
    "    print(f'n_user_sample={n_sample}')\n",
    "    model = models.MutualProximityCML(\n",
    "        n_user, n_item, dist, n_dim,\n",
    "        n_item_sample=n_sample,\n",
    "        n_user_sample=n_sample\n",
    "    ).to(device)\n",
    "    optimizer = optim.Adam(model.parameters(), lr=lr)\n",
    "    criterion = losses.SumTripletLoss(margin=1).to(device)\n",
    "    trainer = trainers.BaseTrainer(model, optimizer, criterion, sampler, no_progressbar)\n",
    "    trainer.fit(n_batch, n_epoch, recall, valid_per_epoch)\n",
    "    display(trainer.valid_scores)\n",
    "    # k=10を追加\n",
    "    re_1_1.append(trainer.valid_scores.iloc[-1, 1])"
   ]
  },
  {
   "cell_type": "code",
   "execution_count": 7,
   "id": "37a3e642-db2f-43e0-b57f-5412f41856be",
   "metadata": {
    "tags": []
   },
   "outputs": [
    {
     "data": {
      "image/png": "[encoded data removed]",
      "text/plain": [
       "<Figure size 640x480 with 1 Axes>"
      ]
     },
     "metadata": {},
     "output_type": "display_data"
    }
   ],
   "source": [
    "plt.plot(n_both_samples, re_1_1, marker='x')\n",
    "plt.title('Effect of the number of item sample on Recall (k=10)')\n",
    "plt.xlabel('the number of user/item sample')\n",
    "plt.ylabel('Recall')\n",
    "#plt.ylim(0.45, 0.55)\n",
    "plt.xticks(n_both_samples)\n",
    "#plt.yticks(np.arange(0.45, 0.55, 0.005))\n",
    "plt.show()"
   ]
  },
  {
   "cell_type": "code",
   "execution_count": 8,
   "id": "d43983e3-edea-4912-9f8d-bad23e2b6cb7",
   "metadata": {
    "tags": []
   },
   "outputs": [
    {
     "name": "stdout",
     "output_type": "stream",
     "text": [
      "n_item_sample=100\n",
      "n_user_sample=100\n"
     ]
    },
    {
     "data": {
      "text/html": [
       "<div>\n",
       "<style scoped>\n",
       "    .dataframe tbody tr th:only-of-type {\n",
       "        vertical-align: middle;\n",
       "    }\n",
       "\n",
       "    .dataframe tbody tr th {\n",
       "        vertical-align: top;\n",
       "    }\n",
       "\n",
       "    .dataframe thead th {\n",
       "        text-align: right;\n",
       "    }\n",
       "</style>\n",
       "<table border=\"1\" class=\"dataframe\">\n",
       "  <thead>\n",
       "    <tr style=\"text-align: right;\">\n",
       "      <th></th>\n",
       "      <th>Recall@5</th>\n",
       "      <th>Recall@10</th>\n",
       "      <th>Recall@50</th>\n",
       "      <th>epoch</th>\n",
       "      <th>losses</th>\n",
       "    </tr>\n",
       "  </thead>\n",
       "  <tbody>\n",
       "    <tr>\n",
       "      <th>0</th>\n",
       "      <td>0.064001</td>\n",
       "      <td>0.127237</td>\n",
       "      <td>0.522504</td>\n",
       "      <td>0</td>\n",
       "      <td>NaN</td>\n",
       "    </tr>\n",
       "    <tr>\n",
       "      <th>0</th>\n",
       "      <td>0.020805</td>\n",
       "      <td>0.076084</td>\n",
       "      <td>0.789196</td>\n",
       "      <td>50</td>\n",
       "      <td>0.320153</td>\n",
       "    </tr>\n",
       "  </tbody>\n",
       "</table>\n",
       "</div>"
      ],
      "text/plain": [
       "   Recall@5  Recall@10  Recall@50  epoch    losses\n",
       "0  0.064001   0.127237   0.522504      0       NaN\n",
       "0  0.020805   0.076084   0.789196     50  0.320153"
      ]
     },
     "metadata": {},
     "output_type": "display_data"
    },
    {
     "name": "stdout",
     "output_type": "stream",
     "text": [
      "n_item_sample=200\n",
      "n_user_sample=200\n"
     ]
    },
    {
     "data": {
      "text/html": [
       "<div>\n",
       "<style scoped>\n",
       "    .dataframe tbody tr th:only-of-type {\n",
       "        vertical-align: middle;\n",
       "    }\n",
       "\n",
       "    .dataframe tbody tr th {\n",
       "        vertical-align: top;\n",
       "    }\n",
       "\n",
       "    .dataframe thead th {\n",
       "        text-align: right;\n",
       "    }\n",
       "</style>\n",
       "<table border=\"1\" class=\"dataframe\">\n",
       "  <thead>\n",
       "    <tr style=\"text-align: right;\">\n",
       "      <th></th>\n",
       "      <th>Recall@5</th>\n",
       "      <th>Recall@10</th>\n",
       "      <th>Recall@50</th>\n",
       "      <th>epoch</th>\n",
       "      <th>losses</th>\n",
       "    </tr>\n",
       "  </thead>\n",
       "  <tbody>\n",
       "    <tr>\n",
       "      <th>0</th>\n",
       "      <td>0.063515</td>\n",
       "      <td>0.126862</td>\n",
       "      <td>0.521679</td>\n",
       "      <td>0</td>\n",
       "      <td>NaN</td>\n",
       "    </tr>\n",
       "    <tr>\n",
       "      <th>0</th>\n",
       "      <td>0.019133</td>\n",
       "      <td>0.072786</td>\n",
       "      <td>0.793202</td>\n",
       "      <td>50</td>\n",
       "      <td>0.319654</td>\n",
       "    </tr>\n",
       "  </tbody>\n",
       "</table>\n",
       "</div>"
      ],
      "text/plain": [
       "   Recall@5  Recall@10  Recall@50  epoch    losses\n",
       "0  0.063515   0.126862   0.521679      0       NaN\n",
       "0  0.019133   0.072786   0.793202     50  0.319654"
      ]
     },
     "metadata": {},
     "output_type": "display_data"
    },
    {
     "name": "stdout",
     "output_type": "stream",
     "text": [
      "n_item_sample=300\n",
      "n_user_sample=300\n"
     ]
    },
    {
     "data": {
      "text/html": [
       "<div>\n",
       "<style scoped>\n",
       "    .dataframe tbody tr th:only-of-type {\n",
       "        vertical-align: middle;\n",
       "    }\n",
       "\n",
       "    .dataframe tbody tr th {\n",
       "        vertical-align: top;\n",
       "    }\n",
       "\n",
       "    .dataframe thead th {\n",
       "        text-align: right;\n",
       "    }\n",
       "</style>\n",
       "<table border=\"1\" class=\"dataframe\">\n",
       "  <thead>\n",
       "    <tr style=\"text-align: right;\">\n",
       "      <th></th>\n",
       "      <th>Recall@5</th>\n",
       "      <th>Recall@10</th>\n",
       "      <th>Recall@50</th>\n",
       "      <th>epoch</th>\n",
       "      <th>losses</th>\n",
       "    </tr>\n",
       "  </thead>\n",
       "  <tbody>\n",
       "    <tr>\n",
       "      <th>0</th>\n",
       "      <td>0.063390</td>\n",
       "      <td>0.126941</td>\n",
       "      <td>0.522167</td>\n",
       "      <td>0</td>\n",
       "      <td>NaN</td>\n",
       "    </tr>\n",
       "    <tr>\n",
       "      <th>0</th>\n",
       "      <td>0.018957</td>\n",
       "      <td>0.072429</td>\n",
       "      <td>0.794653</td>\n",
       "      <td>50</td>\n",
       "      <td>0.318275</td>\n",
       "    </tr>\n",
       "  </tbody>\n",
       "</table>\n",
       "</div>"
      ],
      "text/plain": [
       "   Recall@5  Recall@10  Recall@50  epoch    losses\n",
       "0  0.063390   0.126941   0.522167      0       NaN\n",
       "0  0.018957   0.072429   0.794653     50  0.318275"
      ]
     },
     "metadata": {},
     "output_type": "display_data"
    },
    {
     "name": "stdout",
     "output_type": "stream",
     "text": [
      "n_item_sample=400\n",
      "n_user_sample=400\n"
     ]
    },
    {
     "data": {
      "text/html": [
       "<div>\n",
       "<style scoped>\n",
       "    .dataframe tbody tr th:only-of-type {\n",
       "        vertical-align: middle;\n",
       "    }\n",
       "\n",
       "    .dataframe tbody tr th {\n",
       "        vertical-align: top;\n",
       "    }\n",
       "\n",
       "    .dataframe thead th {\n",
       "        text-align: right;\n",
       "    }\n",
       "</style>\n",
       "<table border=\"1\" class=\"dataframe\">\n",
       "  <thead>\n",
       "    <tr style=\"text-align: right;\">\n",
       "      <th></th>\n",
       "      <th>Recall@5</th>\n",
       "      <th>Recall@10</th>\n",
       "      <th>Recall@50</th>\n",
       "      <th>epoch</th>\n",
       "      <th>losses</th>\n",
       "    </tr>\n",
       "  </thead>\n",
       "  <tbody>\n",
       "    <tr>\n",
       "      <th>0</th>\n",
       "      <td>0.063461</td>\n",
       "      <td>0.126657</td>\n",
       "      <td>0.522255</td>\n",
       "      <td>0</td>\n",
       "      <td>NaN</td>\n",
       "    </tr>\n",
       "    <tr>\n",
       "      <th>0</th>\n",
       "      <td>0.018057</td>\n",
       "      <td>0.070469</td>\n",
       "      <td>0.795370</td>\n",
       "      <td>50</td>\n",
       "      <td>0.320027</td>\n",
       "    </tr>\n",
       "  </tbody>\n",
       "</table>\n",
       "</div>"
      ],
      "text/plain": [
       "   Recall@5  Recall@10  Recall@50  epoch    losses\n",
       "0  0.063461   0.126657   0.522255      0       NaN\n",
       "0  0.018057   0.070469   0.795370     50  0.320027"
      ]
     },
     "metadata": {},
     "output_type": "display_data"
    },
    {
     "name": "stdout",
     "output_type": "stream",
     "text": [
      "n_item_sample=500\n",
      "n_user_sample=500\n"
     ]
    },
    {
     "data": {
      "text/html": [
       "<div>\n",
       "<style scoped>\n",
       "    .dataframe tbody tr th:only-of-type {\n",
       "        vertical-align: middle;\n",
       "    }\n",
       "\n",
       "    .dataframe tbody tr th {\n",
       "        vertical-align: top;\n",
       "    }\n",
       "\n",
       "    .dataframe thead th {\n",
       "        text-align: right;\n",
       "    }\n",
       "</style>\n",
       "<table border=\"1\" class=\"dataframe\">\n",
       "  <thead>\n",
       "    <tr style=\"text-align: right;\">\n",
       "      <th></th>\n",
       "      <th>Recall@5</th>\n",
       "      <th>Recall@10</th>\n",
       "      <th>Recall@50</th>\n",
       "      <th>epoch</th>\n",
       "      <th>losses</th>\n",
       "    </tr>\n",
       "  </thead>\n",
       "  <tbody>\n",
       "    <tr>\n",
       "      <th>0</th>\n",
       "      <td>0.063248</td>\n",
       "      <td>0.126742</td>\n",
       "      <td>0.521965</td>\n",
       "      <td>0</td>\n",
       "      <td>NaN</td>\n",
       "    </tr>\n",
       "    <tr>\n",
       "      <th>0</th>\n",
       "      <td>0.018218</td>\n",
       "      <td>0.070810</td>\n",
       "      <td>0.796259</td>\n",
       "      <td>50</td>\n",
       "      <td>0.31857</td>\n",
       "    </tr>\n",
       "  </tbody>\n",
       "</table>\n",
       "</div>"
      ],
      "text/plain": [
       "   Recall@5  Recall@10  Recall@50  epoch   losses\n",
       "0  0.063248   0.126742   0.521965      0      NaN\n",
       "0  0.018218   0.070810   0.796259     50  0.31857"
      ]
     },
     "metadata": {},
     "output_type": "display_data"
    },
    {
     "name": "stdout",
     "output_type": "stream",
     "text": [
      "n_item_sample=600\n",
      "n_user_sample=600\n"
     ]
    },
    {
     "data": {
      "text/html": [
       "<div>\n",
       "<style scoped>\n",
       "    .dataframe tbody tr th:only-of-type {\n",
       "        vertical-align: middle;\n",
       "    }\n",
       "\n",
       "    .dataframe tbody tr th {\n",
       "        vertical-align: top;\n",
       "    }\n",
       "\n",
       "    .dataframe thead th {\n",
       "        text-align: right;\n",
       "    }\n",
       "</style>\n",
       "<table border=\"1\" class=\"dataframe\">\n",
       "  <thead>\n",
       "    <tr style=\"text-align: right;\">\n",
       "      <th></th>\n",
       "      <th>Recall@5</th>\n",
       "      <th>Recall@10</th>\n",
       "      <th>Recall@50</th>\n",
       "      <th>epoch</th>\n",
       "      <th>losses</th>\n",
       "    </tr>\n",
       "  </thead>\n",
       "  <tbody>\n",
       "    <tr>\n",
       "      <th>0</th>\n",
       "      <td>0.063490</td>\n",
       "      <td>0.127142</td>\n",
       "      <td>0.522499</td>\n",
       "      <td>0</td>\n",
       "      <td>NaN</td>\n",
       "    </tr>\n",
       "    <tr>\n",
       "      <th>0</th>\n",
       "      <td>0.017906</td>\n",
       "      <td>0.069556</td>\n",
       "      <td>0.796612</td>\n",
       "      <td>50</td>\n",
       "      <td>0.322055</td>\n",
       "    </tr>\n",
       "  </tbody>\n",
       "</table>\n",
       "</div>"
      ],
      "text/plain": [
       "   Recall@5  Recall@10  Recall@50  epoch    losses\n",
       "0  0.063490   0.127142   0.522499      0       NaN\n",
       "0  0.017906   0.069556   0.796612     50  0.322055"
      ]
     },
     "metadata": {},
     "output_type": "display_data"
    },
    {
     "name": "stdout",
     "output_type": "stream",
     "text": [
      "n_item_sample=700\n",
      "n_user_sample=700\n"
     ]
    },
    {
     "data": {
      "text/html": [
       "<div>\n",
       "<style scoped>\n",
       "    .dataframe tbody tr th:only-of-type {\n",
       "        vertical-align: middle;\n",
       "    }\n",
       "\n",
       "    .dataframe tbody tr th {\n",
       "        vertical-align: top;\n",
       "    }\n",
       "\n",
       "    .dataframe thead th {\n",
       "        text-align: right;\n",
       "    }\n",
       "</style>\n",
       "<table border=\"1\" class=\"dataframe\">\n",
       "  <thead>\n",
       "    <tr style=\"text-align: right;\">\n",
       "      <th></th>\n",
       "      <th>Recall@5</th>\n",
       "      <th>Recall@10</th>\n",
       "      <th>Recall@50</th>\n",
       "      <th>epoch</th>\n",
       "      <th>losses</th>\n",
       "    </tr>\n",
       "  </thead>\n",
       "  <tbody>\n",
       "    <tr>\n",
       "      <th>0</th>\n",
       "      <td>0.063033</td>\n",
       "      <td>0.126390</td>\n",
       "      <td>0.522808</td>\n",
       "      <td>0</td>\n",
       "      <td>NaN</td>\n",
       "    </tr>\n",
       "    <tr>\n",
       "      <th>0</th>\n",
       "      <td>0.017253</td>\n",
       "      <td>0.069254</td>\n",
       "      <td>0.796866</td>\n",
       "      <td>50</td>\n",
       "      <td>0.321278</td>\n",
       "    </tr>\n",
       "  </tbody>\n",
       "</table>\n",
       "</div>"
      ],
      "text/plain": [
       "   Recall@5  Recall@10  Recall@50  epoch    losses\n",
       "0  0.063033   0.126390   0.522808      0       NaN\n",
       "0  0.017253   0.069254   0.796866     50  0.321278"
      ]
     },
     "metadata": {},
     "output_type": "display_data"
    },
    {
     "name": "stdout",
     "output_type": "stream",
     "text": [
      "n_item_sample=800\n",
      "n_user_sample=800\n"
     ]
    },
    {
     "data": {
      "text/html": [
       "<div>\n",
       "<style scoped>\n",
       "    .dataframe tbody tr th:only-of-type {\n",
       "        vertical-align: middle;\n",
       "    }\n",
       "\n",
       "    .dataframe tbody tr th {\n",
       "        vertical-align: top;\n",
       "    }\n",
       "\n",
       "    .dataframe thead th {\n",
       "        text-align: right;\n",
       "    }\n",
       "</style>\n",
       "<table border=\"1\" class=\"dataframe\">\n",
       "  <thead>\n",
       "    <tr style=\"text-align: right;\">\n",
       "      <th></th>\n",
       "      <th>Recall@5</th>\n",
       "      <th>Recall@10</th>\n",
       "      <th>Recall@50</th>\n",
       "      <th>epoch</th>\n",
       "      <th>losses</th>\n",
       "    </tr>\n",
       "  </thead>\n",
       "  <tbody>\n",
       "    <tr>\n",
       "      <th>0</th>\n",
       "      <td>0.062631</td>\n",
       "      <td>0.126301</td>\n",
       "      <td>0.522117</td>\n",
       "      <td>0</td>\n",
       "      <td>NaN</td>\n",
       "    </tr>\n",
       "    <tr>\n",
       "      <th>0</th>\n",
       "      <td>0.017069</td>\n",
       "      <td>0.068302</td>\n",
       "      <td>0.796172</td>\n",
       "      <td>50</td>\n",
       "      <td>0.321904</td>\n",
       "    </tr>\n",
       "  </tbody>\n",
       "</table>\n",
       "</div>"
      ],
      "text/plain": [
       "   Recall@5  Recall@10  Recall@50  epoch    losses\n",
       "0  0.062631   0.126301   0.522117      0       NaN\n",
       "0  0.017069   0.068302   0.796172     50  0.321904"
      ]
     },
     "metadata": {},
     "output_type": "display_data"
    },
    {
     "name": "stdout",
     "output_type": "stream",
     "text": [
      "n_item_sample=900\n",
      "n_user_sample=900\n"
     ]
    },
    {
     "data": {
      "text/html": [
       "<div>\n",
       "<style scoped>\n",
       "    .dataframe tbody tr th:only-of-type {\n",
       "        vertical-align: middle;\n",
       "    }\n",
       "\n",
       "    .dataframe tbody tr th {\n",
       "        vertical-align: top;\n",
       "    }\n",
       "\n",
       "    .dataframe thead th {\n",
       "        text-align: right;\n",
       "    }\n",
       "</style>\n",
       "<table border=\"1\" class=\"dataframe\">\n",
       "  <thead>\n",
       "    <tr style=\"text-align: right;\">\n",
       "      <th></th>\n",
       "      <th>Recall@5</th>\n",
       "      <th>Recall@10</th>\n",
       "      <th>Recall@50</th>\n",
       "      <th>epoch</th>\n",
       "      <th>losses</th>\n",
       "    </tr>\n",
       "  </thead>\n",
       "  <tbody>\n",
       "    <tr>\n",
       "      <th>0</th>\n",
       "      <td>0.063397</td>\n",
       "      <td>0.126880</td>\n",
       "      <td>0.522740</td>\n",
       "      <td>0</td>\n",
       "      <td>NaN</td>\n",
       "    </tr>\n",
       "    <tr>\n",
       "      <th>0</th>\n",
       "      <td>0.016986</td>\n",
       "      <td>0.068833</td>\n",
       "      <td>0.796626</td>\n",
       "      <td>50</td>\n",
       "      <td>0.321115</td>\n",
       "    </tr>\n",
       "  </tbody>\n",
       "</table>\n",
       "</div>"
      ],
      "text/plain": [
       "   Recall@5  Recall@10  Recall@50  epoch    losses\n",
       "0  0.063397   0.126880   0.522740      0       NaN\n",
       "0  0.016986   0.068833   0.796626     50  0.321115"
      ]
     },
     "metadata": {},
     "output_type": "display_data"
    }
   ],
   "source": [
    "n_both_samples = [100, 200, 300, 400, 500, 600, 700, 800, 900]\n",
    "\n",
    "re_1_2 = []\n",
    "for n_sample in n_both_samples:\n",
    "    print(f'n_item_sample={n_sample}')\n",
    "    print(f'n_user_sample={n_sample}')\n",
    "    model = models.MutualProximityCML(\n",
    "        n_user, n_item, dist, n_dim,\n",
    "        n_item_sample=n_sample,\n",
    "        n_user_sample=n_sample\n",
    "    ).to(device)\n",
    "    optimizer = optim.Adam(model.parameters(), lr=lr)\n",
    "    criterion = losses.SumTripletLoss(margin=1).to(device)\n",
    "    trainer = trainers.BaseTrainer(model, optimizer, criterion, sampler, no_progressbar)\n",
    "    trainer.fit(n_batch, n_epoch, recall, valid_per_epoch)\n",
    "    display(trainer.valid_scores)\n",
    "    # k=10を追加\n",
    "    re_1_2.append(trainer.valid_scores.iloc[-1, 1])"
   ]
  },
  {
   "cell_type": "code",
   "execution_count": 9,
   "id": "6c14b093-ba2d-4f79-a85f-d8f469c4d5ae",
   "metadata": {
    "tags": []
   },
   "outputs": [
    {
     "data": {
      "image/png": "[encoded data removed]",
      "text/plain": [
       "<Figure size 640x480 with 1 Axes>"
      ]
     },
     "metadata": {},
     "output_type": "display_data"
    }
   ],
   "source": [
    "plt.plot(n_both_samples, re_1_2, marker='x')\n",
    "plt.title('Effect of the number of item sample on Recall (k=10)')\n",
    "plt.xlabel('the number of user/item sample')\n",
    "plt.ylabel('Recall')\n",
    "# plt.ylim(0.45, 0.55)\n",
    "plt.xticks(n_both_samples)\n",
    "# plt.yticks(np.arange(0.45, 0.55, 0.005))\n",
    "plt.show()"
   ]
  },
  {
   "cell_type": "code",
   "execution_count": 10,
   "id": "79abee16-9280-43b2-8afb-14a5eb7f89bb",
   "metadata": {},
   "outputs": [
    {
     "name": "stdout",
     "output_type": "stream",
     "text": [
      "n_item_sample=1000\n",
      "n_user_sample=1000\n"
     ]
    },
    {
     "ename": "KeyboardInterrupt",
     "evalue": "",
     "output_type": "error",
     "traceback": [
      "\u001b[0;31m---------------------------------------------------------------------------\u001b[0m",
      "\u001b[0;31mKeyboardInterrupt\u001b[0m                         Traceback (most recent call last)",
      "Cell \u001b[0;32mIn[10], line 15\u001b[0m\n\u001b[1;32m     13\u001b[0m criterion \u001b[38;5;241m=\u001b[39m losses\u001b[38;5;241m.\u001b[39mSumTripletLoss(margin\u001b[38;5;241m=\u001b[39m\u001b[38;5;241m1\u001b[39m)\u001b[38;5;241m.\u001b[39mto(device)\n\u001b[1;32m     14\u001b[0m trainer \u001b[38;5;241m=\u001b[39m trainers\u001b[38;5;241m.\u001b[39mBaseTrainer(model, optimizer, criterion, sampler, no_progressbar)\n\u001b[0;32m---> 15\u001b[0m \u001b[43mtrainer\u001b[49m\u001b[38;5;241;43m.\u001b[39;49m\u001b[43mfit\u001b[49m\u001b[43m(\u001b[49m\u001b[43mn_batch\u001b[49m\u001b[43m,\u001b[49m\u001b[43m \u001b[49m\u001b[43mn_epoch\u001b[49m\u001b[43m,\u001b[49m\u001b[43m \u001b[49m\u001b[43mrecall\u001b[49m\u001b[43m,\u001b[49m\u001b[43m \u001b[49m\u001b[43mvalid_per_epoch\u001b[49m\u001b[43m)\u001b[49m\n\u001b[1;32m     16\u001b[0m display(trainer\u001b[38;5;241m.\u001b[39mvalid_scores)\n\u001b[1;32m     17\u001b[0m \u001b[38;5;66;03m# k=10を追加\u001b[39;00m\n",
      "File \u001b[0;32m~/project/mpcml/experiment/sampling/../../modules/trainers/BaseTrainer.py:57\u001b[0m, in \u001b[0;36mBaseTrainer.fit\u001b[0;34m(self, n_batch, n_epoch, valid_evaluator, valid_per_epoch)\u001b[0m\n\u001b[1;32m     55\u001b[0m valid_or_not \u001b[38;5;241m=\u001b[39m valid_evaluator \u001b[38;5;129;01mis\u001b[39;00m \u001b[38;5;129;01mnot\u001b[39;00m \u001b[38;5;28;01mNone\u001b[39;00m\n\u001b[1;32m     56\u001b[0m \u001b[38;5;28;01mif\u001b[39;00m valid_or_not:\n\u001b[0;32m---> 57\u001b[0m     \u001b[38;5;28mself\u001b[39m\u001b[38;5;241m.\u001b[39mvalid_scores \u001b[38;5;241m=\u001b[39m \u001b[43mvalid_evaluator\u001b[49m\u001b[38;5;241;43m.\u001b[39;49m\u001b[43mscore\u001b[49m\u001b[43m(\u001b[49m\u001b[38;5;28;43mself\u001b[39;49m\u001b[38;5;241;43m.\u001b[39;49m\u001b[43mmodel\u001b[49m\u001b[43m,\u001b[49m\u001b[43m \u001b[49m\u001b[43mno_progressbar\u001b[49m\u001b[38;5;241;43m=\u001b[39;49m\u001b[38;5;28;43mself\u001b[39;49m\u001b[38;5;241;43m.\u001b[39;49m\u001b[43mno_progressbar\u001b[49m\u001b[43m)\u001b[49m\n\u001b[1;32m     58\u001b[0m     \u001b[38;5;28mself\u001b[39m\u001b[38;5;241m.\u001b[39mvalid_scores[\u001b[38;5;124m\"\u001b[39m\u001b[38;5;124mepoch\u001b[39m\u001b[38;5;124m\"\u001b[39m] \u001b[38;5;241m=\u001b[39m \u001b[38;5;241m0\u001b[39m\n\u001b[1;32m     59\u001b[0m     \u001b[38;5;28mself\u001b[39m\u001b[38;5;241m.\u001b[39mvalid_scores[\u001b[38;5;124m\"\u001b[39m\u001b[38;5;124mlosses\u001b[39m\u001b[38;5;124m\"\u001b[39m] \u001b[38;5;241m=\u001b[39m np\u001b[38;5;241m.\u001b[39mnan\n",
      "File \u001b[0;32m~/project/mpcml/experiment/sampling/../../modules/evaluators/UserwiseEvaluator.py:82\u001b[0m, in \u001b[0;36mUserwiseEvaluator.score\u001b[0;34m(self, model, reduction, no_progressbar)\u001b[0m\n\u001b[1;32m     79\u001b[0m df_eval \u001b[38;5;241m=\u001b[39m pd\u001b[38;5;241m.\u001b[39mDataFrame({\u001b[38;5;124mf\u001b[39m\u001b[38;5;124m\"\u001b[39m\u001b[38;5;132;01m{\u001b[39;00m\u001b[38;5;28mself\u001b[39m\u001b[38;5;241m.\u001b[39mmetric_name\u001b[38;5;132;01m}\u001b[39;00m\u001b[38;5;124m@\u001b[39m\u001b[38;5;132;01m{\u001b[39;00mk\u001b[38;5;132;01m}\u001b[39;00m\u001b[38;5;124m\"\u001b[39m: [] \u001b[38;5;28;01mfor\u001b[39;00m k \u001b[38;5;129;01min\u001b[39;00m \u001b[38;5;28mself\u001b[39m\u001b[38;5;241m.\u001b[39mks})\n\u001b[1;32m     81\u001b[0m \u001b[38;5;28;01mfor\u001b[39;00m uid \u001b[38;5;129;01min\u001b[39;00m tqdm(users, disable\u001b[38;5;241m=\u001b[39mno_progressbar):\n\u001b[0;32m---> 82\u001b[0m     df_eval_sub \u001b[38;5;241m=\u001b[39m \u001b[38;5;28;43mself\u001b[39;49m\u001b[38;5;241;43m.\u001b[39;49m\u001b[43meval_user\u001b[49m\u001b[43m(\u001b[49m\u001b[43mmodel\u001b[49m\u001b[43m,\u001b[49m\u001b[43m \u001b[49m\u001b[43muid\u001b[49m\u001b[43m)\u001b[49m\n\u001b[1;32m     83\u001b[0m     df_eval \u001b[38;5;241m=\u001b[39m pd\u001b[38;5;241m.\u001b[39mconcat([df_eval, df_eval_sub])\n\u001b[1;32m     85\u001b[0m \u001b[38;5;28;01mif\u001b[39;00m reduction \u001b[38;5;241m==\u001b[39m \u001b[38;5;124m\"\u001b[39m\u001b[38;5;124mmean\u001b[39m\u001b[38;5;124m\"\u001b[39m:\n",
      "File \u001b[0;32m~/project/mpcml/experiment/sampling/../../modules/evaluators/UserwiseEvaluator.py:60\u001b[0m, in \u001b[0;36mUserwiseEvaluator.eval_user\u001b[0;34m(self, model, uid)\u001b[0m\n\u001b[1;32m     58\u001b[0m \u001b[38;5;28;01mfor\u001b[39;00m col \u001b[38;5;129;01min\u001b[39;00m \u001b[38;5;28mself\u001b[39m\u001b[38;5;241m.\u001b[39meval_cols:\n\u001b[1;32m     59\u001b[0m     li_y_test_user\u001b[38;5;241m.\u001b[39mappend(\u001b[38;5;28mself\u001b[39m\u001b[38;5;241m.\u001b[39mtest_set[user_indices, col]\u001b[38;5;241m.\u001b[39mto(\u001b[38;5;124m\"\u001b[39m\u001b[38;5;124mcpu\u001b[39m\u001b[38;5;124m\"\u001b[39m)\u001b[38;5;241m.\u001b[39mdetach()\u001b[38;5;241m.\u001b[39mnumpy())\n\u001b[0;32m---> 60\u001b[0m y_hat_user \u001b[38;5;241m=\u001b[39m \u001b[43mmodel\u001b[49m\u001b[38;5;241;43m.\u001b[39;49m\u001b[43mpredict\u001b[49m\u001b[43m(\u001b[49m\u001b[43mtest_set_pair\u001b[49m\u001b[43m)\u001b[49m\u001b[38;5;241m.\u001b[39mto(\u001b[38;5;124m\"\u001b[39m\u001b[38;5;124mcpu\u001b[39m\u001b[38;5;124m\"\u001b[39m)\u001b[38;5;241m.\u001b[39mdetach()\u001b[38;5;241m.\u001b[39mnumpy()\n\u001b[1;32m     62\u001b[0m \u001b[38;5;28;01mreturn\u001b[39;00m \u001b[38;5;28mself\u001b[39m\u001b[38;5;241m.\u001b[39mcompute_score(li_y_test_user, y_hat_user)\n",
      "File \u001b[0;32m~/project/mpcml/experiment/sampling/../../modules/models/MutualProximityCML.py:138\u001b[0m, in \u001b[0;36mMutualProximityCML.predict\u001b[0;34m(self, pairs)\u001b[0m\n\u001b[1;32m    136\u001b[0m n_pairs \u001b[38;5;241m=\u001b[39m pairs\u001b[38;5;241m.\u001b[39msize()[\u001b[38;5;241m0\u001b[39m]\n\u001b[1;32m    137\u001b[0m users_params \u001b[38;5;241m=\u001b[39m \u001b[38;5;28mself\u001b[39m\u001b[38;5;241m.\u001b[39mcompute_users_distribution_params(users, n_pairs)  \u001b[38;5;66;03m# [n_pairs]\u001b[39;00m\n\u001b[0;32m--> 138\u001b[0m items_params \u001b[38;5;241m=\u001b[39m \u001b[38;5;28;43mself\u001b[39;49m\u001b[38;5;241;43m.\u001b[39;49m\u001b[43mcompute_items_distribution_params\u001b[49m\u001b[43m(\u001b[49m\u001b[43mitems\u001b[49m\u001b[43m,\u001b[49m\u001b[43m \u001b[49m\u001b[43mn_pairs\u001b[49m\u001b[43m)\u001b[49m  \u001b[38;5;66;03m# [n_pairs]\u001b[39;00m\n\u001b[1;32m    139\u001b[0m mp \u001b[38;5;241m=\u001b[39m \u001b[38;5;28mself\u001b[39m\u001b[38;5;241m.\u001b[39mcompute_mp(distances, users_params, items_params)\n\u001b[1;32m    141\u001b[0m \u001b[38;5;28;01mreturn\u001b[39;00m mp\n",
      "File \u001b[0;32m~/project/mpcml/experiment/sampling/../../modules/models/MutualProximityCML.py:87\u001b[0m, in \u001b[0;36mMutualProximityCML.compute_items_distribution_params\u001b[0;34m(self, items, n_pairs)\u001b[0m\n\u001b[1;32m     85\u001b[0m     sample_users \u001b[38;5;241m=\u001b[39m torch\u001b[38;5;241m.\u001b[39mzeros((n_pairs, \u001b[38;5;28mself\u001b[39m\u001b[38;5;241m.\u001b[39mn_user_sample), dtype\u001b[38;5;241m=\u001b[39mtorch\u001b[38;5;241m.\u001b[39mint64)\n\u001b[1;32m     86\u001b[0m     \u001b[38;5;28;01mfor\u001b[39;00m i \u001b[38;5;129;01min\u001b[39;00m \u001b[38;5;28mrange\u001b[39m(n_pairs):\n\u001b[0;32m---> 87\u001b[0m         row \u001b[38;5;241m=\u001b[39m \u001b[43msample_ids\u001b[49m\u001b[43m(\u001b[49m\u001b[38;5;28;43mself\u001b[39;49m\u001b[38;5;241;43m.\u001b[39;49m\u001b[43mn_user\u001b[49m\u001b[43m,\u001b[49m\u001b[43m \u001b[49m\u001b[38;5;28;43mself\u001b[39;49m\u001b[38;5;241;43m.\u001b[39;49m\u001b[43mn_user_sample\u001b[49m\u001b[43m)\u001b[49m\n\u001b[1;32m     88\u001b[0m         sample_users[i] \u001b[38;5;241m=\u001b[39m torch\u001b[38;5;241m.\u001b[39mtensor(row)\n\u001b[1;32m     90\u001b[0m i_emb \u001b[38;5;241m=\u001b[39m \u001b[38;5;28mself\u001b[39m\u001b[38;5;241m.\u001b[39mitem_embedding(items)            \u001b[38;5;66;03m# [n_pairs, 1, n_dim]\u001b[39;00m\n",
      "File \u001b[0;32m~/project/mpcml/experiment/sampling/../../modules/models/MutualProximityCML.py:152\u001b[0m, in \u001b[0;36msample_ids\u001b[0;34m(n_objects, n_sample)\u001b[0m\n\u001b[1;32m    144\u001b[0m \u001b[38;5;28;01mdef\u001b[39;00m \u001b[38;5;21msample_ids\u001b[39m(n_objects: \u001b[38;5;28mint\u001b[39m, n_sample: \u001b[38;5;28mint\u001b[39m):\n\u001b[1;32m    145\u001b[0m \u001b[38;5;250m    \u001b[39m\u001b[38;5;124;03m\"\"\"\u001b[39;00m\n\u001b[1;32m    146\u001b[0m \u001b[38;5;124;03m    Args:\u001b[39;00m\n\u001b[1;32m    147\u001b[0m \u001b[38;5;124;03m        n_objects : the number of all user of item\u001b[39;00m\n\u001b[0;32m   (...)\u001b[0m\n\u001b[1;32m    150\u001b[0m \u001b[38;5;124;03m        samples : the indices of sampled users or items\u001b[39;00m\n\u001b[1;32m    151\u001b[0m \u001b[38;5;124;03m    \"\"\"\u001b[39;00m\n\u001b[0;32m--> 152\u001b[0m     \u001b[38;5;28;01mreturn\u001b[39;00m \u001b[43mrandom\u001b[49m\u001b[38;5;241;43m.\u001b[39;49m\u001b[43msample\u001b[49m\u001b[43m(\u001b[49m\u001b[38;5;28;43mrange\u001b[39;49m\u001b[43m(\u001b[49m\u001b[43mn_objects\u001b[49m\u001b[43m)\u001b[49m\u001b[43m,\u001b[49m\u001b[43m \u001b[49m\u001b[43mn_sample\u001b[49m\u001b[43m)\u001b[49m\n",
      "File \u001b[0;32m~/anaconda3/envs/bachelor2/lib/python3.8/random.py:379\u001b[0m, in \u001b[0;36mRandom.sample\u001b[0;34m(self, population, k)\u001b[0m\n\u001b[1;32m    377\u001b[0m selected_add \u001b[38;5;241m=\u001b[39m selected\u001b[38;5;241m.\u001b[39madd\n\u001b[1;32m    378\u001b[0m \u001b[38;5;28;01mfor\u001b[39;00m i \u001b[38;5;129;01min\u001b[39;00m \u001b[38;5;28mrange\u001b[39m(k):\n\u001b[0;32m--> 379\u001b[0m     j \u001b[38;5;241m=\u001b[39m \u001b[43mrandbelow\u001b[49m\u001b[43m(\u001b[49m\u001b[43mn\u001b[49m\u001b[43m)\u001b[49m\n\u001b[1;32m    380\u001b[0m     \u001b[38;5;28;01mwhile\u001b[39;00m j \u001b[38;5;129;01min\u001b[39;00m selected:\n\u001b[1;32m    381\u001b[0m         j \u001b[38;5;241m=\u001b[39m randbelow(n)\n",
      "File \u001b[0;32m~/anaconda3/envs/bachelor2/lib/python3.8/random.py:257\u001b[0m, in \u001b[0;36mRandom._randbelow_with_getrandbits\u001b[0;34m(self, n)\u001b[0m\n\u001b[1;32m    255\u001b[0m r \u001b[38;5;241m=\u001b[39m getrandbits(k)          \u001b[38;5;66;03m# 0 <= r < 2**k\u001b[39;00m\n\u001b[1;32m    256\u001b[0m \u001b[38;5;28;01mwhile\u001b[39;00m r \u001b[38;5;241m>\u001b[39m\u001b[38;5;241m=\u001b[39m n:\n\u001b[0;32m--> 257\u001b[0m     r \u001b[38;5;241m=\u001b[39m \u001b[43mgetrandbits\u001b[49m\u001b[43m(\u001b[49m\u001b[43mk\u001b[49m\u001b[43m)\u001b[49m\n\u001b[1;32m    258\u001b[0m \u001b[38;5;28;01mreturn\u001b[39;00m r\n",
      "\u001b[0;31mKeyboardInterrupt\u001b[0m: "
     ]
    }
   ],
   "source": [
    "n_both_samples = [1000, 2000, 3000, 4000, 5000, 6000, 7000, 8000, 9000]\n",
    "\n",
    "re_1_3 = []\n",
    "for n_sample in n_both_samples:\n",
    "    print(f'n_item_sample={n_sample}')\n",
    "    print(f'n_user_sample={n_sample}')\n",
    "    model = models.MutualProximityCML(\n",
    "        n_user, n_item, dist, n_dim,\n",
    "        n_item_sample=n_sample,\n",
    "        n_user_sample=n_sample\n",
    "    ).to(device)\n",
    "    optimizer = optim.Adam(model.parameters(), lr=lr)\n",
    "    criterion = losses.SumTripletLoss(margin=1).to(device)\n",
    "    trainer = trainers.BaseTrainer(model, optimizer, criterion, sampler, no_progressbar)\n",
    "    trainer.fit(n_batch, n_epoch, recall, valid_per_epoch)\n",
    "    display(trainer.valid_scores)\n",
    "    # k=10を追加\n",
    "    re_1_3.append(trainer.valid_scores.iloc[-1, 1])"
   ]
  },
  {
   "cell_type": "code",
   "execution_count": null,
   "id": "29cce3ca-4d25-40d6-82ac-5a250888ab4f",
   "metadata": {},
   "outputs": [],
   "source": [
    "plt.plot(n_both_samples, re_1_2, marker='x')\n",
    "plt.title('Effect of the number of item sample on Recall (k=10)')\n",
    "plt.xlabel('the number of user/item sample')\n",
    "plt.ylabel('Recall')\n",
    "# plt.ylim(0.45, 0.55)\n",
    "plt.xticks(n_both_samples)\n",
    "# plt.yticks(np.arange(0.45, 0.55, 0.005))\n",
    "plt.show()"
   ]
  },
  {
   "cell_type": "markdown",
   "id": "85d68a45-6add-4c42-acbe-d9b121cfa8fc",
   "metadata": {},
   "source": [
    "# The number of item sample\n",
    "The number of sampling to computing parameters of the distribution of distances from a specific user to all items. "
   ]
  },
  {
   "cell_type": "code",
   "execution_count": null,
   "id": "66d10c6e-209e-467b-a512-ff0ad7591712",
   "metadata": {},
   "outputs": [],
   "source": [
    "# n_item_samples = [10, 20, 30, 40, 50, 60, 70, 80, 90, 100]\n",
    "# n_user_sample = 100\n",
    "\n",
    "# re3 = []\n",
    "# for n_item_sample in n_item_samples:\n",
    "#     print(f'n_item_sample={n_item_sample}')\n",
    "#     print(f'n_user_sample={n_user_sample}')\n",
    "#     model = models.MutualProximityCML(\n",
    "#         n_user, n_item, dist, n_dim,\n",
    "#         n_item_sample=n_item_sample,\n",
    "#         n_user_sample=n_user_sample\n",
    "#     ).to(device)\n",
    "#     optimizer = optim.Adam(model.parameters(), lr=lr)\n",
    "#     criterion = losses.SumTripletLoss(margin=1).to(device)\n",
    "#     trainer = trainers.BaseTrainer(model, optimizer, criterion, sampler, no_progressbar)\n",
    "#     trainer.fit(n_batch, n_epoch, recall, valid_per_epoch)\n",
    "#     display(trainer.valid_scores)\n",
    "#     # k=10を追加\n",
    "#     re3.append(trainer.valid_scores.iloc[-1, 1])"
   ]
  },
  {
   "cell_type": "code",
   "execution_count": null,
   "id": "139f8a1c-01fa-4844-bb32-31d7bb62c913",
   "metadata": {
    "tags": []
   },
   "outputs": [],
   "source": [
    "# plt.plot(n_item_samples, re3, marker='x')\n",
    "# plt.title('Effect of the number of item sample on Recall (k=10)')\n",
    "# plt.xlabel('the number of item sample')\n",
    "# plt.ylabel('Recall')\n",
    "# plt.ylim(0.45, 0.55)\n",
    "# plt.xticks(n_item_samples)\n",
    "# plt.yticks(np.arange(0.45, 0.55, 0.005))\n",
    "# plt.show()"
   ]
  },
  {
   "cell_type": "markdown",
   "id": "1b28ebd7-d5c0-4596-b62e-d86124d7500a",
   "metadata": {},
   "source": [
    "# The number of user sample\n",
    "The number of sampling to computing parameters of the distribution of distances from a specific item to all users."
   ]
  },
  {
   "cell_type": "code",
   "execution_count": null,
   "id": "38b19b69-ddc1-466c-a3a2-7dbd3a52991f",
   "metadata": {},
   "outputs": [],
   "source": [
    "# n_item_sample = 100\n",
    "# n_user_samples = [10, 20, 30, 40, 50, 60, 70, 80, 90, 100]\n",
    "\n",
    "# re4 = []\n",
    "# for n_user_sample in n_user_samples:\n",
    "#     print(f'n_item_sample={n_item_sample}')\n",
    "#     print(f'n_user_sample={n_user_sample}')\n",
    "#     model = models.MutualProximityCML(\n",
    "#         n_user, n_item, dist, n_dim,\n",
    "#         n_item_sample=n_item_sample,\n",
    "#         n_user_sample=n_user_sample\n",
    "#     ).to(device)\n",
    "#     optimizer = optim.Adam(model.parameters(), lr=lr)\n",
    "#     criterion = losses.SumTripletLoss(margin=1).to(device)\n",
    "#     trainer = trainers.BaseTrainer(model, optimizer, criterion, sampler, no_progressbar)\n",
    "#     trainer.fit(n_batch, n_epoch, recall, valid_per_epoch)\n",
    "#     display(trainer.valid_scores)\n",
    "#     # k=10を追加\n",
    "#     re4.append(trainer.valid_scores.iloc[-1, 1])"
   ]
  },
  {
   "cell_type": "code",
   "execution_count": null,
   "id": "3d59412b-214f-4d37-af47-195232c2c6ae",
   "metadata": {
    "tags": []
   },
   "outputs": [],
   "source": [
    "# plt.plot(n_user_samples, re4, marker='x')\n",
    "# plt.title('Effect of the number of user sample on Recall (k=10)')\n",
    "# plt.xlabel('the number of user sample')\n",
    "# plt.ylabel('Recall')\n",
    "# plt.ylim(0.45, 0.55)\n",
    "# plt.xticks(n_user_samples)\n",
    "# plt.yticks(np.arange(0.45, 0.55, 0.005))\n",
    "# plt.show()"
   ]
  },
  {
   "cell_type": "code",
   "execution_count": null,
   "id": "10d5e471-9405-415c-8503-d3e54dfba079",
   "metadata": {},
   "outputs": [],
   "source": []
  }
 ],
 "metadata": {
  "kernelspec": {
   "display_name": "bachelor2",
   "language": "python",
   "name": "bachelor2"
  },
  "language_info": {
   "codemirror_mode": {
    "name": "ipython",
    "version": 3
   },
   "file_extension": ".py",
   "mimetype": "text/x-python",
   "name": "python",
   "nbconvert_exporter": "python",
   "pygments_lexer": "ipython3",
   "version": "3.8.17"
  }
 },
 "nbformat": 4,
 "nbformat_minor": 5
}
