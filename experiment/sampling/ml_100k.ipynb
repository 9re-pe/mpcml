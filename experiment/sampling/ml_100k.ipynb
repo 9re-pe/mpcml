{
 "cells": [
  {
   "cell_type": "markdown",
   "id": "3e9027c7-d673-415f-8b4c-661a6ff29d6d",
   "metadata": {},
   "source": [
    "# Import"
   ]
  },
  {
   "cell_type": "code",
   "execution_count": 1,
   "id": "c60e7400-ca05-49e5-9a06-95e1a10c84ea",
   "metadata": {},
   "outputs": [],
   "source": [
    "import sys\n",
    "\n",
    "root_dir = '../../'\n",
    "if root_dir not in sys.path:\n",
    "    sys.path.append(root_dir)\n",
    "\n",
    "import torch\n",
    "from torch import nn, optim\n",
    "import numpy as np\n",
    "import matplotlib.pyplot as plt\n",
    "from sklearn.decomposition import TruncatedSVD\n",
    "from scipy.sparse import csr_matrix\n",
    "\n",
    "from modules import losses, models, samplers, regularizers, evaluators, trainers, datasets, distributions"
   ]
  },
  {
   "cell_type": "markdown",
   "id": "44247d1a-7b9e-4dac-a775-e31b7774fa0d",
   "metadata": {
    "tags": []
   },
   "source": [
    "# DataSet"
   ]
  },
  {
   "cell_type": "code",
   "execution_count": 2,
   "id": "d553cd23-df97-421a-96de-84d0de9b2401",
   "metadata": {},
   "outputs": [],
   "source": [
    "dataset = datasets.ML100k()\n",
    "n_user = dataset.n_user\n",
    "n_item = dataset.n_item\n",
    "train_set, test_set = dataset.get_train_and_test_set()\n",
    "\n",
    "# device setting\n",
    "device = torch.device(\"cuda:0\" if torch.cuda.is_available() else \"cpu\")\n",
    "train_set = torch.LongTensor(train_set).to(device)\n",
    "test_set = torch.LongTensor(test_set).to(device)"
   ]
  },
  {
   "cell_type": "markdown",
   "id": "bb1515ac-9d36-428c-8cf3-7c6e72414c0c",
   "metadata": {},
   "source": [
    "# Evaluator"
   ]
  },
  {
   "cell_type": "code",
   "execution_count": 3,
   "id": "be0fe92a-6a7d-412c-b03b-09350d64d88d",
   "metadata": {},
   "outputs": [],
   "source": [
    "ks = [5, 10, 50]\n",
    "recall = evaluators.RecallEvaluator(test_set, ks)"
   ]
  },
  {
   "cell_type": "markdown",
   "id": "9ac6f442-f54f-4f94-a246-525fbe0ab154",
   "metadata": {
    "tags": []
   },
   "source": [
    "# Sampler"
   ]
  },
  {
   "cell_type": "code",
   "execution_count": 4,
   "id": "43c4b716-028e-45d2-a813-292794a3777e",
   "metadata": {},
   "outputs": [],
   "source": [
    "sampler = samplers.BaseSampler(train_set, n_user, n_item, device=device, strict_negative=False)"
   ]
  },
  {
   "cell_type": "markdown",
   "id": "d1d4d71c-5a59-4dd0-977c-c25ed5928730",
   "metadata": {},
   "source": [
    "# Params"
   ]
  },
  {
   "cell_type": "code",
   "execution_count": 5,
   "id": "5e3b77af-35a8-40ff-97ce-eea7285016e2",
   "metadata": {
    "tags": []
   },
   "outputs": [],
   "source": [
    "# Hyperparameters\n",
    "lr = 1e-3\n",
    "n_dim = 10\n",
    "n_batch = 256\n",
    "n_epoch = 50\n",
    "valid_per_epoch = 50\n",
    "dist = distributions.Gamma()\n",
    "no_progressbar = True"
   ]
  },
  {
   "cell_type": "markdown",
   "id": "fa320657-669b-4605-aa6b-a2faa0c8cfee",
   "metadata": {},
   "source": [
    "# Both"
   ]
  },
  {
   "cell_type": "code",
   "execution_count": 14,
   "id": "28e6f9aa-dee4-4c0f-8e4c-fd60e2efd6dc",
   "metadata": {},
   "outputs": [
    {
     "name": "stdout",
     "output_type": "stream",
     "text": [
      "n_item_sample=10\n",
      "n_user_sample=10\n"
     ]
    },
    {
     "data": {
      "text/html": [
       "<div>\n",
       "<style scoped>\n",
       "    .dataframe tbody tr th:only-of-type {\n",
       "        vertical-align: middle;\n",
       "    }\n",
       "\n",
       "    .dataframe tbody tr th {\n",
       "        vertical-align: top;\n",
       "    }\n",
       "\n",
       "    .dataframe thead th {\n",
       "        text-align: right;\n",
       "    }\n",
       "</style>\n",
       "<table border=\"1\" class=\"dataframe\">\n",
       "  <thead>\n",
       "    <tr style=\"text-align: right;\">\n",
       "      <th></th>\n",
       "      <th>Recall@5</th>\n",
       "      <th>Recall@10</th>\n",
       "      <th>Recall@50</th>\n",
       "      <th>epoch</th>\n",
       "      <th>losses</th>\n",
       "    </tr>\n",
       "  </thead>\n",
       "  <tbody>\n",
       "    <tr>\n",
       "      <th>0</th>\n",
       "      <td>0.062266</td>\n",
       "      <td>0.124097</td>\n",
       "      <td>0.526295</td>\n",
       "      <td>0</td>\n",
       "      <td>NaN</td>\n",
       "    </tr>\n",
       "    <tr>\n",
       "      <th>0</th>\n",
       "      <td>0.310193</td>\n",
       "      <td>0.473334</td>\n",
       "      <td>0.842594</td>\n",
       "      <td>50</td>\n",
       "      <td>0.235226</td>\n",
       "    </tr>\n",
       "  </tbody>\n",
       "</table>\n",
       "</div>"
      ],
      "text/plain": [
       "   Recall@5  Recall@10  Recall@50  epoch    losses\n",
       "0  0.062266   0.124097   0.526295      0       NaN\n",
       "0  0.310193   0.473334   0.842594     50  0.235226"
      ]
     },
     "metadata": {},
     "output_type": "display_data"
    },
    {
     "name": "stdout",
     "output_type": "stream",
     "text": [
      "n_item_sample=20\n",
      "n_user_sample=20\n"
     ]
    },
    {
     "data": {
      "text/html": [
       "<div>\n",
       "<style scoped>\n",
       "    .dataframe tbody tr th:only-of-type {\n",
       "        vertical-align: middle;\n",
       "    }\n",
       "\n",
       "    .dataframe tbody tr th {\n",
       "        vertical-align: top;\n",
       "    }\n",
       "\n",
       "    .dataframe thead th {\n",
       "        text-align: right;\n",
       "    }\n",
       "</style>\n",
       "<table border=\"1\" class=\"dataframe\">\n",
       "  <thead>\n",
       "    <tr style=\"text-align: right;\">\n",
       "      <th></th>\n",
       "      <th>Recall@5</th>\n",
       "      <th>Recall@10</th>\n",
       "      <th>Recall@50</th>\n",
       "      <th>epoch</th>\n",
       "      <th>losses</th>\n",
       "    </tr>\n",
       "  </thead>\n",
       "  <tbody>\n",
       "    <tr>\n",
       "      <th>0</th>\n",
       "      <td>0.062390</td>\n",
       "      <td>0.117820</td>\n",
       "      <td>0.523098</td>\n",
       "      <td>0</td>\n",
       "      <td>NaN</td>\n",
       "    </tr>\n",
       "    <tr>\n",
       "      <th>0</th>\n",
       "      <td>0.316279</td>\n",
       "      <td>0.478525</td>\n",
       "      <td>0.847433</td>\n",
       "      <td>50</td>\n",
       "      <td>0.235117</td>\n",
       "    </tr>\n",
       "  </tbody>\n",
       "</table>\n",
       "</div>"
      ],
      "text/plain": [
       "   Recall@5  Recall@10  Recall@50  epoch    losses\n",
       "0  0.062390   0.117820   0.523098      0       NaN\n",
       "0  0.316279   0.478525   0.847433     50  0.235117"
      ]
     },
     "metadata": {},
     "output_type": "display_data"
    },
    {
     "name": "stdout",
     "output_type": "stream",
     "text": [
      "n_item_sample=30\n",
      "n_user_sample=30\n"
     ]
    },
    {
     "data": {
      "text/html": [
       "<div>\n",
       "<style scoped>\n",
       "    .dataframe tbody tr th:only-of-type {\n",
       "        vertical-align: middle;\n",
       "    }\n",
       "\n",
       "    .dataframe tbody tr th {\n",
       "        vertical-align: top;\n",
       "    }\n",
       "\n",
       "    .dataframe thead th {\n",
       "        text-align: right;\n",
       "    }\n",
       "</style>\n",
       "<table border=\"1\" class=\"dataframe\">\n",
       "  <thead>\n",
       "    <tr style=\"text-align: right;\">\n",
       "      <th></th>\n",
       "      <th>Recall@5</th>\n",
       "      <th>Recall@10</th>\n",
       "      <th>Recall@50</th>\n",
       "      <th>epoch</th>\n",
       "      <th>losses</th>\n",
       "    </tr>\n",
       "  </thead>\n",
       "  <tbody>\n",
       "    <tr>\n",
       "      <th>0</th>\n",
       "      <td>0.064485</td>\n",
       "      <td>0.126956</td>\n",
       "      <td>0.526553</td>\n",
       "      <td>0</td>\n",
       "      <td>NaN</td>\n",
       "    </tr>\n",
       "    <tr>\n",
       "      <th>0</th>\n",
       "      <td>0.320083</td>\n",
       "      <td>0.485960</td>\n",
       "      <td>0.852619</td>\n",
       "      <td>50</td>\n",
       "      <td>0.233838</td>\n",
       "    </tr>\n",
       "  </tbody>\n",
       "</table>\n",
       "</div>"
      ],
      "text/plain": [
       "   Recall@5  Recall@10  Recall@50  epoch    losses\n",
       "0  0.064485   0.126956   0.526553      0       NaN\n",
       "0  0.320083   0.485960   0.852619     50  0.233838"
      ]
     },
     "metadata": {},
     "output_type": "display_data"
    },
    {
     "name": "stdout",
     "output_type": "stream",
     "text": [
      "n_item_sample=40\n",
      "n_user_sample=40\n"
     ]
    },
    {
     "data": {
      "text/html": [
       "<div>\n",
       "<style scoped>\n",
       "    .dataframe tbody tr th:only-of-type {\n",
       "        vertical-align: middle;\n",
       "    }\n",
       "\n",
       "    .dataframe tbody tr th {\n",
       "        vertical-align: top;\n",
       "    }\n",
       "\n",
       "    .dataframe thead th {\n",
       "        text-align: right;\n",
       "    }\n",
       "</style>\n",
       "<table border=\"1\" class=\"dataframe\">\n",
       "  <thead>\n",
       "    <tr style=\"text-align: right;\">\n",
       "      <th></th>\n",
       "      <th>Recall@5</th>\n",
       "      <th>Recall@10</th>\n",
       "      <th>Recall@50</th>\n",
       "      <th>epoch</th>\n",
       "      <th>losses</th>\n",
       "    </tr>\n",
       "  </thead>\n",
       "  <tbody>\n",
       "    <tr>\n",
       "      <th>0</th>\n",
       "      <td>0.061367</td>\n",
       "      <td>0.121378</td>\n",
       "      <td>0.527000</td>\n",
       "      <td>0</td>\n",
       "      <td>NaN</td>\n",
       "    </tr>\n",
       "    <tr>\n",
       "      <th>0</th>\n",
       "      <td>0.323950</td>\n",
       "      <td>0.490795</td>\n",
       "      <td>0.852599</td>\n",
       "      <td>50</td>\n",
       "      <td>0.234734</td>\n",
       "    </tr>\n",
       "  </tbody>\n",
       "</table>\n",
       "</div>"
      ],
      "text/plain": [
       "   Recall@5  Recall@10  Recall@50  epoch    losses\n",
       "0  0.061367   0.121378   0.527000      0       NaN\n",
       "0  0.323950   0.490795   0.852599     50  0.234734"
      ]
     },
     "metadata": {},
     "output_type": "display_data"
    },
    {
     "name": "stdout",
     "output_type": "stream",
     "text": [
      "n_item_sample=50\n",
      "n_user_sample=50\n"
     ]
    },
    {
     "data": {
      "text/html": [
       "<div>\n",
       "<style scoped>\n",
       "    .dataframe tbody tr th:only-of-type {\n",
       "        vertical-align: middle;\n",
       "    }\n",
       "\n",
       "    .dataframe tbody tr th {\n",
       "        vertical-align: top;\n",
       "    }\n",
       "\n",
       "    .dataframe thead th {\n",
       "        text-align: right;\n",
       "    }\n",
       "</style>\n",
       "<table border=\"1\" class=\"dataframe\">\n",
       "  <thead>\n",
       "    <tr style=\"text-align: right;\">\n",
       "      <th></th>\n",
       "      <th>Recall@5</th>\n",
       "      <th>Recall@10</th>\n",
       "      <th>Recall@50</th>\n",
       "      <th>epoch</th>\n",
       "      <th>losses</th>\n",
       "    </tr>\n",
       "  </thead>\n",
       "  <tbody>\n",
       "    <tr>\n",
       "      <th>0</th>\n",
       "      <td>0.059776</td>\n",
       "      <td>0.126074</td>\n",
       "      <td>0.524272</td>\n",
       "      <td>0</td>\n",
       "      <td>NaN</td>\n",
       "    </tr>\n",
       "    <tr>\n",
       "      <th>0</th>\n",
       "      <td>0.320147</td>\n",
       "      <td>0.488902</td>\n",
       "      <td>0.850039</td>\n",
       "      <td>50</td>\n",
       "      <td>0.235006</td>\n",
       "    </tr>\n",
       "  </tbody>\n",
       "</table>\n",
       "</div>"
      ],
      "text/plain": [
       "   Recall@5  Recall@10  Recall@50  epoch    losses\n",
       "0  0.059776   0.126074   0.524272      0       NaN\n",
       "0  0.320147   0.488902   0.850039     50  0.235006"
      ]
     },
     "metadata": {},
     "output_type": "display_data"
    },
    {
     "name": "stdout",
     "output_type": "stream",
     "text": [
      "n_item_sample=60\n",
      "n_user_sample=60\n"
     ]
    },
    {
     "data": {
      "text/html": [
       "<div>\n",
       "<style scoped>\n",
       "    .dataframe tbody tr th:only-of-type {\n",
       "        vertical-align: middle;\n",
       "    }\n",
       "\n",
       "    .dataframe tbody tr th {\n",
       "        vertical-align: top;\n",
       "    }\n",
       "\n",
       "    .dataframe thead th {\n",
       "        text-align: right;\n",
       "    }\n",
       "</style>\n",
       "<table border=\"1\" class=\"dataframe\">\n",
       "  <thead>\n",
       "    <tr style=\"text-align: right;\">\n",
       "      <th></th>\n",
       "      <th>Recall@5</th>\n",
       "      <th>Recall@10</th>\n",
       "      <th>Recall@50</th>\n",
       "      <th>epoch</th>\n",
       "      <th>losses</th>\n",
       "    </tr>\n",
       "  </thead>\n",
       "  <tbody>\n",
       "    <tr>\n",
       "      <th>0</th>\n",
       "      <td>0.067534</td>\n",
       "      <td>0.124560</td>\n",
       "      <td>0.527799</td>\n",
       "      <td>0</td>\n",
       "      <td>NaN</td>\n",
       "    </tr>\n",
       "    <tr>\n",
       "      <th>0</th>\n",
       "      <td>0.327451</td>\n",
       "      <td>0.494445</td>\n",
       "      <td>0.854384</td>\n",
       "      <td>50</td>\n",
       "      <td>0.233866</td>\n",
       "    </tr>\n",
       "  </tbody>\n",
       "</table>\n",
       "</div>"
      ],
      "text/plain": [
       "   Recall@5  Recall@10  Recall@50  epoch    losses\n",
       "0  0.067534   0.124560   0.527799      0       NaN\n",
       "0  0.327451   0.494445   0.854384     50  0.233866"
      ]
     },
     "metadata": {},
     "output_type": "display_data"
    },
    {
     "name": "stdout",
     "output_type": "stream",
     "text": [
      "n_item_sample=70\n",
      "n_user_sample=70\n"
     ]
    },
    {
     "data": {
      "text/html": [
       "<div>\n",
       "<style scoped>\n",
       "    .dataframe tbody tr th:only-of-type {\n",
       "        vertical-align: middle;\n",
       "    }\n",
       "\n",
       "    .dataframe tbody tr th {\n",
       "        vertical-align: top;\n",
       "    }\n",
       "\n",
       "    .dataframe thead th {\n",
       "        text-align: right;\n",
       "    }\n",
       "</style>\n",
       "<table border=\"1\" class=\"dataframe\">\n",
       "  <thead>\n",
       "    <tr style=\"text-align: right;\">\n",
       "      <th></th>\n",
       "      <th>Recall@5</th>\n",
       "      <th>Recall@10</th>\n",
       "      <th>Recall@50</th>\n",
       "      <th>epoch</th>\n",
       "      <th>losses</th>\n",
       "    </tr>\n",
       "  </thead>\n",
       "  <tbody>\n",
       "    <tr>\n",
       "      <th>0</th>\n",
       "      <td>0.051582</td>\n",
       "      <td>0.113819</td>\n",
       "      <td>0.519235</td>\n",
       "      <td>0</td>\n",
       "      <td>NaN</td>\n",
       "    </tr>\n",
       "    <tr>\n",
       "      <th>0</th>\n",
       "      <td>0.325579</td>\n",
       "      <td>0.488099</td>\n",
       "      <td>0.854151</td>\n",
       "      <td>50</td>\n",
       "      <td>0.235942</td>\n",
       "    </tr>\n",
       "  </tbody>\n",
       "</table>\n",
       "</div>"
      ],
      "text/plain": [
       "   Recall@5  Recall@10  Recall@50  epoch    losses\n",
       "0  0.051582   0.113819   0.519235      0       NaN\n",
       "0  0.325579   0.488099   0.854151     50  0.235942"
      ]
     },
     "metadata": {},
     "output_type": "display_data"
    },
    {
     "name": "stdout",
     "output_type": "stream",
     "text": [
      "n_item_sample=80\n",
      "n_user_sample=80\n"
     ]
    },
    {
     "data": {
      "text/html": [
       "<div>\n",
       "<style scoped>\n",
       "    .dataframe tbody tr th:only-of-type {\n",
       "        vertical-align: middle;\n",
       "    }\n",
       "\n",
       "    .dataframe tbody tr th {\n",
       "        vertical-align: top;\n",
       "    }\n",
       "\n",
       "    .dataframe thead th {\n",
       "        text-align: right;\n",
       "    }\n",
       "</style>\n",
       "<table border=\"1\" class=\"dataframe\">\n",
       "  <thead>\n",
       "    <tr style=\"text-align: right;\">\n",
       "      <th></th>\n",
       "      <th>Recall@5</th>\n",
       "      <th>Recall@10</th>\n",
       "      <th>Recall@50</th>\n",
       "      <th>epoch</th>\n",
       "      <th>losses</th>\n",
       "    </tr>\n",
       "  </thead>\n",
       "  <tbody>\n",
       "    <tr>\n",
       "      <th>0</th>\n",
       "      <td>0.069270</td>\n",
       "      <td>0.128324</td>\n",
       "      <td>0.522386</td>\n",
       "      <td>0</td>\n",
       "      <td>NaN</td>\n",
       "    </tr>\n",
       "    <tr>\n",
       "      <th>0</th>\n",
       "      <td>0.318841</td>\n",
       "      <td>0.482390</td>\n",
       "      <td>0.853546</td>\n",
       "      <td>50</td>\n",
       "      <td>0.237781</td>\n",
       "    </tr>\n",
       "  </tbody>\n",
       "</table>\n",
       "</div>"
      ],
      "text/plain": [
       "   Recall@5  Recall@10  Recall@50  epoch    losses\n",
       "0  0.069270   0.128324   0.522386      0       NaN\n",
       "0  0.318841   0.482390   0.853546     50  0.237781"
      ]
     },
     "metadata": {},
     "output_type": "display_data"
    },
    {
     "name": "stdout",
     "output_type": "stream",
     "text": [
      "n_item_sample=90\n",
      "n_user_sample=90\n"
     ]
    },
    {
     "data": {
      "text/html": [
       "<div>\n",
       "<style scoped>\n",
       "    .dataframe tbody tr th:only-of-type {\n",
       "        vertical-align: middle;\n",
       "    }\n",
       "\n",
       "    .dataframe tbody tr th {\n",
       "        vertical-align: top;\n",
       "    }\n",
       "\n",
       "    .dataframe thead th {\n",
       "        text-align: right;\n",
       "    }\n",
       "</style>\n",
       "<table border=\"1\" class=\"dataframe\">\n",
       "  <thead>\n",
       "    <tr style=\"text-align: right;\">\n",
       "      <th></th>\n",
       "      <th>Recall@5</th>\n",
       "      <th>Recall@10</th>\n",
       "      <th>Recall@50</th>\n",
       "      <th>epoch</th>\n",
       "      <th>losses</th>\n",
       "    </tr>\n",
       "  </thead>\n",
       "  <tbody>\n",
       "    <tr>\n",
       "      <th>0</th>\n",
       "      <td>0.064471</td>\n",
       "      <td>0.123379</td>\n",
       "      <td>0.529387</td>\n",
       "      <td>0</td>\n",
       "      <td>NaN</td>\n",
       "    </tr>\n",
       "    <tr>\n",
       "      <th>0</th>\n",
       "      <td>0.330262</td>\n",
       "      <td>0.496666</td>\n",
       "      <td>0.858553</td>\n",
       "      <td>50</td>\n",
       "      <td>0.234033</td>\n",
       "    </tr>\n",
       "  </tbody>\n",
       "</table>\n",
       "</div>"
      ],
      "text/plain": [
       "   Recall@5  Recall@10  Recall@50  epoch    losses\n",
       "0  0.064471   0.123379   0.529387      0       NaN\n",
       "0  0.330262   0.496666   0.858553     50  0.234033"
      ]
     },
     "metadata": {},
     "output_type": "display_data"
    },
    {
     "name": "stdout",
     "output_type": "stream",
     "text": [
      "n_item_sample=100\n",
      "n_user_sample=100\n"
     ]
    },
    {
     "data": {
      "text/html": [
       "<div>\n",
       "<style scoped>\n",
       "    .dataframe tbody tr th:only-of-type {\n",
       "        vertical-align: middle;\n",
       "    }\n",
       "\n",
       "    .dataframe tbody tr th {\n",
       "        vertical-align: top;\n",
       "    }\n",
       "\n",
       "    .dataframe thead th {\n",
       "        text-align: right;\n",
       "    }\n",
       "</style>\n",
       "<table border=\"1\" class=\"dataframe\">\n",
       "  <thead>\n",
       "    <tr style=\"text-align: right;\">\n",
       "      <th></th>\n",
       "      <th>Recall@5</th>\n",
       "      <th>Recall@10</th>\n",
       "      <th>Recall@50</th>\n",
       "      <th>epoch</th>\n",
       "      <th>losses</th>\n",
       "    </tr>\n",
       "  </thead>\n",
       "  <tbody>\n",
       "    <tr>\n",
       "      <th>0</th>\n",
       "      <td>0.066521</td>\n",
       "      <td>0.129774</td>\n",
       "      <td>0.529461</td>\n",
       "      <td>0</td>\n",
       "      <td>NaN</td>\n",
       "    </tr>\n",
       "    <tr>\n",
       "      <th>0</th>\n",
       "      <td>0.313798</td>\n",
       "      <td>0.479121</td>\n",
       "      <td>0.849986</td>\n",
       "      <td>50</td>\n",
       "      <td>0.237751</td>\n",
       "    </tr>\n",
       "  </tbody>\n",
       "</table>\n",
       "</div>"
      ],
      "text/plain": [
       "   Recall@5  Recall@10  Recall@50  epoch    losses\n",
       "0  0.066521   0.129774   0.529461      0       NaN\n",
       "0  0.313798   0.479121   0.849986     50  0.237751"
      ]
     },
     "metadata": {},
     "output_type": "display_data"
    }
   ],
   "source": [
    "n_both_samples = [10, 20, 30, 40, 50, 60, 70, 80, 90, 100]\n",
    "\n",
    "re1 = []\n",
    "for n_sample in n_both_samples:\n",
    "    print(f'n_item_sample={n_sample}')\n",
    "    print(f'n_user_sample={n_sample}')\n",
    "    model = models.MutualProximityCML(\n",
    "        n_user, n_item, dist, n_dim,\n",
    "        n_item_sample=n_sample,\n",
    "        n_user_sample=n_sample\n",
    "    ).to(device)\n",
    "    optimizer = optim.Adam(model.parameters(), lr=lr)\n",
    "    criterion = losses.SumTripletLoss(margin=1).to(device)\n",
    "    trainer = trainers.BaseTrainer(model, optimizer, criterion, sampler, no_progressbar)\n",
    "    trainer.fit(n_batch, n_epoch, recall, valid_per_epoch)\n",
    "    display(trainer.valid_scores)\n",
    "    # k=10を追加\n",
    "    re1.append(trainer.valid_scores.iloc[-1, 1])"
   ]
  },
  {
   "cell_type": "code",
   "execution_count": 15,
   "id": "37a3e642-db2f-43e0-b57f-5412f41856be",
   "metadata": {
    "tags": []
   },
   "outputs": [
    {
     "data": {
      "image/png": "[encoded data removed]",
      "text/plain": [
       "<Figure size 640x480 with 1 Axes>"
      ]
     },
     "metadata": {},
     "output_type": "display_data"
    }
   ],
   "source": [
    "plt.plot(n_both_samples, re1, marker='x')\n",
    "plt.title('Effect of the number of item sample on Recall (k=10)')\n",
    "plt.xlabel('the number of user/item sample')\n",
    "plt.ylabel('Recall')\n",
    "plt.ylim(0.45, 0.55)\n",
    "plt.xticks(n_both_samples)\n",
    "plt.yticks(np.arange(0.45, 0.55, 0.005))\n",
    "plt.show()"
   ]
  },
  {
   "cell_type": "code",
   "execution_count": 12,
   "id": "d43983e3-edea-4912-9f8d-bad23e2b6cb7",
   "metadata": {
    "tags": []
   },
   "outputs": [
    {
     "name": "stdout",
     "output_type": "stream",
     "text": [
      "n_item_sample=100\n",
      "n_user_sample=100\n"
     ]
    },
    {
     "data": {
      "text/html": [
       "<div>\n",
       "<style scoped>\n",
       "    .dataframe tbody tr th:only-of-type {\n",
       "        vertical-align: middle;\n",
       "    }\n",
       "\n",
       "    .dataframe tbody tr th {\n",
       "        vertical-align: top;\n",
       "    }\n",
       "\n",
       "    .dataframe thead th {\n",
       "        text-align: right;\n",
       "    }\n",
       "</style>\n",
       "<table border=\"1\" class=\"dataframe\">\n",
       "  <thead>\n",
       "    <tr style=\"text-align: right;\">\n",
       "      <th></th>\n",
       "      <th>Recall@5</th>\n",
       "      <th>Recall@10</th>\n",
       "      <th>Recall@50</th>\n",
       "      <th>epoch</th>\n",
       "      <th>losses</th>\n",
       "    </tr>\n",
       "  </thead>\n",
       "  <tbody>\n",
       "    <tr>\n",
       "      <th>0</th>\n",
       "      <td>0.062494</td>\n",
       "      <td>0.129291</td>\n",
       "      <td>0.527551</td>\n",
       "      <td>0</td>\n",
       "      <td>NaN</td>\n",
       "    </tr>\n",
       "    <tr>\n",
       "      <th>0</th>\n",
       "      <td>0.315812</td>\n",
       "      <td>0.485131</td>\n",
       "      <td>0.852659</td>\n",
       "      <td>50</td>\n",
       "      <td>0.235788</td>\n",
       "    </tr>\n",
       "  </tbody>\n",
       "</table>\n",
       "</div>"
      ],
      "text/plain": [
       "   Recall@5  Recall@10  Recall@50  epoch    losses\n",
       "0  0.062494   0.129291   0.527551      0       NaN\n",
       "0  0.315812   0.485131   0.852659     50  0.235788"
      ]
     },
     "metadata": {},
     "output_type": "display_data"
    },
    {
     "name": "stdout",
     "output_type": "stream",
     "text": [
      "n_item_sample=200\n",
      "n_user_sample=200\n"
     ]
    },
    {
     "data": {
      "text/html": [
       "<div>\n",
       "<style scoped>\n",
       "    .dataframe tbody tr th:only-of-type {\n",
       "        vertical-align: middle;\n",
       "    }\n",
       "\n",
       "    .dataframe tbody tr th {\n",
       "        vertical-align: top;\n",
       "    }\n",
       "\n",
       "    .dataframe thead th {\n",
       "        text-align: right;\n",
       "    }\n",
       "</style>\n",
       "<table border=\"1\" class=\"dataframe\">\n",
       "  <thead>\n",
       "    <tr style=\"text-align: right;\">\n",
       "      <th></th>\n",
       "      <th>Recall@5</th>\n",
       "      <th>Recall@10</th>\n",
       "      <th>Recall@50</th>\n",
       "      <th>epoch</th>\n",
       "      <th>losses</th>\n",
       "    </tr>\n",
       "  </thead>\n",
       "  <tbody>\n",
       "    <tr>\n",
       "      <th>0</th>\n",
       "      <td>0.064100</td>\n",
       "      <td>0.125153</td>\n",
       "      <td>0.523137</td>\n",
       "      <td>0</td>\n",
       "      <td>NaN</td>\n",
       "    </tr>\n",
       "    <tr>\n",
       "      <th>0</th>\n",
       "      <td>0.327257</td>\n",
       "      <td>0.494184</td>\n",
       "      <td>0.854224</td>\n",
       "      <td>50</td>\n",
       "      <td>0.236536</td>\n",
       "    </tr>\n",
       "  </tbody>\n",
       "</table>\n",
       "</div>"
      ],
      "text/plain": [
       "   Recall@5  Recall@10  Recall@50  epoch    losses\n",
       "0  0.064100   0.125153   0.523137      0       NaN\n",
       "0  0.327257   0.494184   0.854224     50  0.236536"
      ]
     },
     "metadata": {},
     "output_type": "display_data"
    },
    {
     "name": "stdout",
     "output_type": "stream",
     "text": [
      "n_item_sample=300\n",
      "n_user_sample=300\n"
     ]
    },
    {
     "data": {
      "text/html": [
       "<div>\n",
       "<style scoped>\n",
       "    .dataframe tbody tr th:only-of-type {\n",
       "        vertical-align: middle;\n",
       "    }\n",
       "\n",
       "    .dataframe tbody tr th {\n",
       "        vertical-align: top;\n",
       "    }\n",
       "\n",
       "    .dataframe thead th {\n",
       "        text-align: right;\n",
       "    }\n",
       "</style>\n",
       "<table border=\"1\" class=\"dataframe\">\n",
       "  <thead>\n",
       "    <tr style=\"text-align: right;\">\n",
       "      <th></th>\n",
       "      <th>Recall@5</th>\n",
       "      <th>Recall@10</th>\n",
       "      <th>Recall@50</th>\n",
       "      <th>epoch</th>\n",
       "      <th>losses</th>\n",
       "    </tr>\n",
       "  </thead>\n",
       "  <tbody>\n",
       "    <tr>\n",
       "      <th>0</th>\n",
       "      <td>0.064922</td>\n",
       "      <td>0.131877</td>\n",
       "      <td>0.529871</td>\n",
       "      <td>0</td>\n",
       "      <td>NaN</td>\n",
       "    </tr>\n",
       "    <tr>\n",
       "      <th>0</th>\n",
       "      <td>0.322732</td>\n",
       "      <td>0.489238</td>\n",
       "      <td>0.851614</td>\n",
       "      <td>50</td>\n",
       "      <td>0.236698</td>\n",
       "    </tr>\n",
       "  </tbody>\n",
       "</table>\n",
       "</div>"
      ],
      "text/plain": [
       "   Recall@5  Recall@10  Recall@50  epoch    losses\n",
       "0  0.064922   0.131877   0.529871      0       NaN\n",
       "0  0.322732   0.489238   0.851614     50  0.236698"
      ]
     },
     "metadata": {},
     "output_type": "display_data"
    },
    {
     "name": "stdout",
     "output_type": "stream",
     "text": [
      "n_item_sample=400\n",
      "n_user_sample=400\n"
     ]
    },
    {
     "data": {
      "text/html": [
       "<div>\n",
       "<style scoped>\n",
       "    .dataframe tbody tr th:only-of-type {\n",
       "        vertical-align: middle;\n",
       "    }\n",
       "\n",
       "    .dataframe tbody tr th {\n",
       "        vertical-align: top;\n",
       "    }\n",
       "\n",
       "    .dataframe thead th {\n",
       "        text-align: right;\n",
       "    }\n",
       "</style>\n",
       "<table border=\"1\" class=\"dataframe\">\n",
       "  <thead>\n",
       "    <tr style=\"text-align: right;\">\n",
       "      <th></th>\n",
       "      <th>Recall@5</th>\n",
       "      <th>Recall@10</th>\n",
       "      <th>Recall@50</th>\n",
       "      <th>epoch</th>\n",
       "      <th>losses</th>\n",
       "    </tr>\n",
       "  </thead>\n",
       "  <tbody>\n",
       "    <tr>\n",
       "      <th>0</th>\n",
       "      <td>0.064218</td>\n",
       "      <td>0.119939</td>\n",
       "      <td>0.528879</td>\n",
       "      <td>0</td>\n",
       "      <td>NaN</td>\n",
       "    </tr>\n",
       "    <tr>\n",
       "      <th>0</th>\n",
       "      <td>0.317673</td>\n",
       "      <td>0.483713</td>\n",
       "      <td>0.850803</td>\n",
       "      <td>50</td>\n",
       "      <td>0.238237</td>\n",
       "    </tr>\n",
       "  </tbody>\n",
       "</table>\n",
       "</div>"
      ],
      "text/plain": [
       "   Recall@5  Recall@10  Recall@50  epoch    losses\n",
       "0  0.064218   0.119939   0.528879      0       NaN\n",
       "0  0.317673   0.483713   0.850803     50  0.238237"
      ]
     },
     "metadata": {},
     "output_type": "display_data"
    },
    {
     "name": "stdout",
     "output_type": "stream",
     "text": [
      "n_item_sample=500\n",
      "n_user_sample=500\n"
     ]
    },
    {
     "data": {
      "text/html": [
       "<div>\n",
       "<style scoped>\n",
       "    .dataframe tbody tr th:only-of-type {\n",
       "        vertical-align: middle;\n",
       "    }\n",
       "\n",
       "    .dataframe tbody tr th {\n",
       "        vertical-align: top;\n",
       "    }\n",
       "\n",
       "    .dataframe thead th {\n",
       "        text-align: right;\n",
       "    }\n",
       "</style>\n",
       "<table border=\"1\" class=\"dataframe\">\n",
       "  <thead>\n",
       "    <tr style=\"text-align: right;\">\n",
       "      <th></th>\n",
       "      <th>Recall@5</th>\n",
       "      <th>Recall@10</th>\n",
       "      <th>Recall@50</th>\n",
       "      <th>epoch</th>\n",
       "      <th>losses</th>\n",
       "    </tr>\n",
       "  </thead>\n",
       "  <tbody>\n",
       "    <tr>\n",
       "      <th>0</th>\n",
       "      <td>0.062080</td>\n",
       "      <td>0.125617</td>\n",
       "      <td>0.522414</td>\n",
       "      <td>0</td>\n",
       "      <td>NaN</td>\n",
       "    </tr>\n",
       "    <tr>\n",
       "      <th>0</th>\n",
       "      <td>0.322412</td>\n",
       "      <td>0.484890</td>\n",
       "      <td>0.856675</td>\n",
       "      <td>50</td>\n",
       "      <td>0.236367</td>\n",
       "    </tr>\n",
       "  </tbody>\n",
       "</table>\n",
       "</div>"
      ],
      "text/plain": [
       "   Recall@5  Recall@10  Recall@50  epoch    losses\n",
       "0  0.062080   0.125617   0.522414      0       NaN\n",
       "0  0.322412   0.484890   0.856675     50  0.236367"
      ]
     },
     "metadata": {},
     "output_type": "display_data"
    },
    {
     "name": "stdout",
     "output_type": "stream",
     "text": [
      "n_item_sample=600\n",
      "n_user_sample=600\n"
     ]
    },
    {
     "data": {
      "text/html": [
       "<div>\n",
       "<style scoped>\n",
       "    .dataframe tbody tr th:only-of-type {\n",
       "        vertical-align: middle;\n",
       "    }\n",
       "\n",
       "    .dataframe tbody tr th {\n",
       "        vertical-align: top;\n",
       "    }\n",
       "\n",
       "    .dataframe thead th {\n",
       "        text-align: right;\n",
       "    }\n",
       "</style>\n",
       "<table border=\"1\" class=\"dataframe\">\n",
       "  <thead>\n",
       "    <tr style=\"text-align: right;\">\n",
       "      <th></th>\n",
       "      <th>Recall@5</th>\n",
       "      <th>Recall@10</th>\n",
       "      <th>Recall@50</th>\n",
       "      <th>epoch</th>\n",
       "      <th>losses</th>\n",
       "    </tr>\n",
       "  </thead>\n",
       "  <tbody>\n",
       "    <tr>\n",
       "      <th>0</th>\n",
       "      <td>0.067223</td>\n",
       "      <td>0.122865</td>\n",
       "      <td>0.523770</td>\n",
       "      <td>0</td>\n",
       "      <td>NaN</td>\n",
       "    </tr>\n",
       "    <tr>\n",
       "      <th>0</th>\n",
       "      <td>0.330618</td>\n",
       "      <td>0.491740</td>\n",
       "      <td>0.851515</td>\n",
       "      <td>50</td>\n",
       "      <td>0.236779</td>\n",
       "    </tr>\n",
       "  </tbody>\n",
       "</table>\n",
       "</div>"
      ],
      "text/plain": [
       "   Recall@5  Recall@10  Recall@50  epoch    losses\n",
       "0  0.067223   0.122865   0.523770      0       NaN\n",
       "0  0.330618   0.491740   0.851515     50  0.236779"
      ]
     },
     "metadata": {},
     "output_type": "display_data"
    },
    {
     "name": "stdout",
     "output_type": "stream",
     "text": [
      "n_item_sample=700\n",
      "n_user_sample=700\n"
     ]
    },
    {
     "data": {
      "text/html": [
       "<div>\n",
       "<style scoped>\n",
       "    .dataframe tbody tr th:only-of-type {\n",
       "        vertical-align: middle;\n",
       "    }\n",
       "\n",
       "    .dataframe tbody tr th {\n",
       "        vertical-align: top;\n",
       "    }\n",
       "\n",
       "    .dataframe thead th {\n",
       "        text-align: right;\n",
       "    }\n",
       "</style>\n",
       "<table border=\"1\" class=\"dataframe\">\n",
       "  <thead>\n",
       "    <tr style=\"text-align: right;\">\n",
       "      <th></th>\n",
       "      <th>Recall@5</th>\n",
       "      <th>Recall@10</th>\n",
       "      <th>Recall@50</th>\n",
       "      <th>epoch</th>\n",
       "      <th>losses</th>\n",
       "    </tr>\n",
       "  </thead>\n",
       "  <tbody>\n",
       "    <tr>\n",
       "      <th>0</th>\n",
       "      <td>0.064307</td>\n",
       "      <td>0.124227</td>\n",
       "      <td>0.523382</td>\n",
       "      <td>0</td>\n",
       "      <td>NaN</td>\n",
       "    </tr>\n",
       "    <tr>\n",
       "      <th>0</th>\n",
       "      <td>0.325828</td>\n",
       "      <td>0.495668</td>\n",
       "      <td>0.854644</td>\n",
       "      <td>50</td>\n",
       "      <td>0.237901</td>\n",
       "    </tr>\n",
       "  </tbody>\n",
       "</table>\n",
       "</div>"
      ],
      "text/plain": [
       "   Recall@5  Recall@10  Recall@50  epoch    losses\n",
       "0  0.064307   0.124227   0.523382      0       NaN\n",
       "0  0.325828   0.495668   0.854644     50  0.237901"
      ]
     },
     "metadata": {},
     "output_type": "display_data"
    },
    {
     "name": "stdout",
     "output_type": "stream",
     "text": [
      "n_item_sample=800\n",
      "n_user_sample=800\n"
     ]
    },
    {
     "data": {
      "text/html": [
       "<div>\n",
       "<style scoped>\n",
       "    .dataframe tbody tr th:only-of-type {\n",
       "        vertical-align: middle;\n",
       "    }\n",
       "\n",
       "    .dataframe tbody tr th {\n",
       "        vertical-align: top;\n",
       "    }\n",
       "\n",
       "    .dataframe thead th {\n",
       "        text-align: right;\n",
       "    }\n",
       "</style>\n",
       "<table border=\"1\" class=\"dataframe\">\n",
       "  <thead>\n",
       "    <tr style=\"text-align: right;\">\n",
       "      <th></th>\n",
       "      <th>Recall@5</th>\n",
       "      <th>Recall@10</th>\n",
       "      <th>Recall@50</th>\n",
       "      <th>epoch</th>\n",
       "      <th>losses</th>\n",
       "    </tr>\n",
       "  </thead>\n",
       "  <tbody>\n",
       "    <tr>\n",
       "      <th>0</th>\n",
       "      <td>0.065935</td>\n",
       "      <td>0.122708</td>\n",
       "      <td>0.524872</td>\n",
       "      <td>0</td>\n",
       "      <td>NaN</td>\n",
       "    </tr>\n",
       "    <tr>\n",
       "      <th>0</th>\n",
       "      <td>0.323895</td>\n",
       "      <td>0.494469</td>\n",
       "      <td>0.855123</td>\n",
       "      <td>50</td>\n",
       "      <td>0.236623</td>\n",
       "    </tr>\n",
       "  </tbody>\n",
       "</table>\n",
       "</div>"
      ],
      "text/plain": [
       "   Recall@5  Recall@10  Recall@50  epoch    losses\n",
       "0  0.065935   0.122708   0.524872      0       NaN\n",
       "0  0.323895   0.494469   0.855123     50  0.236623"
      ]
     },
     "metadata": {},
     "output_type": "display_data"
    },
    {
     "name": "stdout",
     "output_type": "stream",
     "text": [
      "n_item_sample=900\n",
      "n_user_sample=900\n"
     ]
    },
    {
     "data": {
      "text/html": [
       "<div>\n",
       "<style scoped>\n",
       "    .dataframe tbody tr th:only-of-type {\n",
       "        vertical-align: middle;\n",
       "    }\n",
       "\n",
       "    .dataframe tbody tr th {\n",
       "        vertical-align: top;\n",
       "    }\n",
       "\n",
       "    .dataframe thead th {\n",
       "        text-align: right;\n",
       "    }\n",
       "</style>\n",
       "<table border=\"1\" class=\"dataframe\">\n",
       "  <thead>\n",
       "    <tr style=\"text-align: right;\">\n",
       "      <th></th>\n",
       "      <th>Recall@5</th>\n",
       "      <th>Recall@10</th>\n",
       "      <th>Recall@50</th>\n",
       "      <th>epoch</th>\n",
       "      <th>losses</th>\n",
       "    </tr>\n",
       "  </thead>\n",
       "  <tbody>\n",
       "    <tr>\n",
       "      <th>0</th>\n",
       "      <td>0.062597</td>\n",
       "      <td>0.128164</td>\n",
       "      <td>0.526127</td>\n",
       "      <td>0</td>\n",
       "      <td>NaN</td>\n",
       "    </tr>\n",
       "    <tr>\n",
       "      <th>0</th>\n",
       "      <td>0.323735</td>\n",
       "      <td>0.493842</td>\n",
       "      <td>0.854717</td>\n",
       "      <td>50</td>\n",
       "      <td>0.235552</td>\n",
       "    </tr>\n",
       "  </tbody>\n",
       "</table>\n",
       "</div>"
      ],
      "text/plain": [
       "   Recall@5  Recall@10  Recall@50  epoch    losses\n",
       "0  0.062597   0.128164   0.526127      0       NaN\n",
       "0  0.323735   0.493842   0.854717     50  0.235552"
      ]
     },
     "metadata": {},
     "output_type": "display_data"
    }
   ],
   "source": [
    "n_both_samples = [100, 200, 300, 400, 500, 600, 700, 800, 900]\n",
    "\n",
    "re2 = []\n",
    "for n_sample in n_both_samples:\n",
    "    print(f'n_item_sample={n_sample}')\n",
    "    print(f'n_user_sample={n_sample}')\n",
    "    model = models.MutualProximityCML(\n",
    "        n_user, n_item, dist, n_dim,\n",
    "        n_item_sample=n_sample,\n",
    "        n_user_sample=n_sample\n",
    "    ).to(device)\n",
    "    optimizer = optim.Adam(model.parameters(), lr=lr)\n",
    "    criterion = losses.SumTripletLoss(margin=1).to(device)\n",
    "    trainer = trainers.BaseTrainer(model, optimizer, criterion, sampler, no_progressbar)\n",
    "    trainer.fit(n_batch, n_epoch, recall, valid_per_epoch)\n",
    "    display(trainer.valid_scores)\n",
    "    # k=10を追加\n",
    "    re2.append(trainer.valid_scores.iloc[-1, 1])"
   ]
  },
  {
   "cell_type": "code",
   "execution_count": 13,
   "id": "6c14b093-ba2d-4f79-a85f-d8f469c4d5ae",
   "metadata": {
    "tags": []
   },
   "outputs": [
    {
     "data": {
      "image/png": "[encoded data removed]",
      "text/plain": [
       "<Figure size 640x480 with 1 Axes>"
      ]
     },
     "metadata": {},
     "output_type": "display_data"
    }
   ],
   "source": [
    "plt.plot(n_both_samples, re2, marker='x')\n",
    "plt.title('Effect of the number of item sample on Recall (k=10)')\n",
    "plt.xlabel('the number of user/item sample')\n",
    "plt.ylabel('Recall')\n",
    "plt.ylim(0.45, 0.55)\n",
    "plt.xticks(n_both_samples)\n",
    "plt.yticks(np.arange(0.45, 0.55, 0.005))\n",
    "plt.show()"
   ]
  },
  {
   "cell_type": "markdown",
   "id": "85d68a45-6add-4c42-acbe-d9b121cfa8fc",
   "metadata": {},
   "source": [
    "# The number of item sample\n",
    "The number of sampling to computing parameters of the distribution of distances from a specific user to all items. "
   ]
  },
  {
   "cell_type": "code",
   "execution_count": 16,
   "id": "66d10c6e-209e-467b-a512-ff0ad7591712",
   "metadata": {},
   "outputs": [
    {
     "name": "stdout",
     "output_type": "stream",
     "text": [
      "n_item_sample=10\n",
      "n_user_sample=100\n"
     ]
    },
    {
     "data": {
      "text/html": [
       "<div>\n",
       "<style scoped>\n",
       "    .dataframe tbody tr th:only-of-type {\n",
       "        vertical-align: middle;\n",
       "    }\n",
       "\n",
       "    .dataframe tbody tr th {\n",
       "        vertical-align: top;\n",
       "    }\n",
       "\n",
       "    .dataframe thead th {\n",
       "        text-align: right;\n",
       "    }\n",
       "</style>\n",
       "<table border=\"1\" class=\"dataframe\">\n",
       "  <thead>\n",
       "    <tr style=\"text-align: right;\">\n",
       "      <th></th>\n",
       "      <th>Recall@5</th>\n",
       "      <th>Recall@10</th>\n",
       "      <th>Recall@50</th>\n",
       "      <th>epoch</th>\n",
       "      <th>losses</th>\n",
       "    </tr>\n",
       "  </thead>\n",
       "  <tbody>\n",
       "    <tr>\n",
       "      <th>0</th>\n",
       "      <td>0.064277</td>\n",
       "      <td>0.132596</td>\n",
       "      <td>0.522950</td>\n",
       "      <td>0</td>\n",
       "      <td>NaN</td>\n",
       "    </tr>\n",
       "    <tr>\n",
       "      <th>0</th>\n",
       "      <td>0.316302</td>\n",
       "      <td>0.483484</td>\n",
       "      <td>0.849552</td>\n",
       "      <td>50</td>\n",
       "      <td>0.236093</td>\n",
       "    </tr>\n",
       "  </tbody>\n",
       "</table>\n",
       "</div>"
      ],
      "text/plain": [
       "   Recall@5  Recall@10  Recall@50  epoch    losses\n",
       "0  0.064277   0.132596   0.522950      0       NaN\n",
       "0  0.316302   0.483484   0.849552     50  0.236093"
      ]
     },
     "metadata": {},
     "output_type": "display_data"
    },
    {
     "name": "stdout",
     "output_type": "stream",
     "text": [
      "n_item_sample=20\n",
      "n_user_sample=100\n"
     ]
    },
    {
     "data": {
      "text/html": [
       "<div>\n",
       "<style scoped>\n",
       "    .dataframe tbody tr th:only-of-type {\n",
       "        vertical-align: middle;\n",
       "    }\n",
       "\n",
       "    .dataframe tbody tr th {\n",
       "        vertical-align: top;\n",
       "    }\n",
       "\n",
       "    .dataframe thead th {\n",
       "        text-align: right;\n",
       "    }\n",
       "</style>\n",
       "<table border=\"1\" class=\"dataframe\">\n",
       "  <thead>\n",
       "    <tr style=\"text-align: right;\">\n",
       "      <th></th>\n",
       "      <th>Recall@5</th>\n",
       "      <th>Recall@10</th>\n",
       "      <th>Recall@50</th>\n",
       "      <th>epoch</th>\n",
       "      <th>losses</th>\n",
       "    </tr>\n",
       "  </thead>\n",
       "  <tbody>\n",
       "    <tr>\n",
       "      <th>0</th>\n",
       "      <td>0.059786</td>\n",
       "      <td>0.129389</td>\n",
       "      <td>0.525158</td>\n",
       "      <td>0</td>\n",
       "      <td>NaN</td>\n",
       "    </tr>\n",
       "    <tr>\n",
       "      <th>0</th>\n",
       "      <td>0.320211</td>\n",
       "      <td>0.489256</td>\n",
       "      <td>0.852417</td>\n",
       "      <td>50</td>\n",
       "      <td>0.237275</td>\n",
       "    </tr>\n",
       "  </tbody>\n",
       "</table>\n",
       "</div>"
      ],
      "text/plain": [
       "   Recall@5  Recall@10  Recall@50  epoch    losses\n",
       "0  0.059786   0.129389   0.525158      0       NaN\n",
       "0  0.320211   0.489256   0.852417     50  0.237275"
      ]
     },
     "metadata": {},
     "output_type": "display_data"
    },
    {
     "name": "stdout",
     "output_type": "stream",
     "text": [
      "n_item_sample=30\n",
      "n_user_sample=100\n"
     ]
    },
    {
     "data": {
      "text/html": [
       "<div>\n",
       "<style scoped>\n",
       "    .dataframe tbody tr th:only-of-type {\n",
       "        vertical-align: middle;\n",
       "    }\n",
       "\n",
       "    .dataframe tbody tr th {\n",
       "        vertical-align: top;\n",
       "    }\n",
       "\n",
       "    .dataframe thead th {\n",
       "        text-align: right;\n",
       "    }\n",
       "</style>\n",
       "<table border=\"1\" class=\"dataframe\">\n",
       "  <thead>\n",
       "    <tr style=\"text-align: right;\">\n",
       "      <th></th>\n",
       "      <th>Recall@5</th>\n",
       "      <th>Recall@10</th>\n",
       "      <th>Recall@50</th>\n",
       "      <th>epoch</th>\n",
       "      <th>losses</th>\n",
       "    </tr>\n",
       "  </thead>\n",
       "  <tbody>\n",
       "    <tr>\n",
       "      <th>0</th>\n",
       "      <td>0.067200</td>\n",
       "      <td>0.129633</td>\n",
       "      <td>0.526313</td>\n",
       "      <td>0</td>\n",
       "      <td>NaN</td>\n",
       "    </tr>\n",
       "    <tr>\n",
       "      <th>0</th>\n",
       "      <td>0.323717</td>\n",
       "      <td>0.486538</td>\n",
       "      <td>0.849571</td>\n",
       "      <td>50</td>\n",
       "      <td>0.23598</td>\n",
       "    </tr>\n",
       "  </tbody>\n",
       "</table>\n",
       "</div>"
      ],
      "text/plain": [
       "   Recall@5  Recall@10  Recall@50  epoch   losses\n",
       "0  0.067200   0.129633   0.526313      0      NaN\n",
       "0  0.323717   0.486538   0.849571     50  0.23598"
      ]
     },
     "metadata": {},
     "output_type": "display_data"
    },
    {
     "name": "stdout",
     "output_type": "stream",
     "text": [
      "n_item_sample=40\n",
      "n_user_sample=100\n"
     ]
    },
    {
     "data": {
      "text/html": [
       "<div>\n",
       "<style scoped>\n",
       "    .dataframe tbody tr th:only-of-type {\n",
       "        vertical-align: middle;\n",
       "    }\n",
       "\n",
       "    .dataframe tbody tr th {\n",
       "        vertical-align: top;\n",
       "    }\n",
       "\n",
       "    .dataframe thead th {\n",
       "        text-align: right;\n",
       "    }\n",
       "</style>\n",
       "<table border=\"1\" class=\"dataframe\">\n",
       "  <thead>\n",
       "    <tr style=\"text-align: right;\">\n",
       "      <th></th>\n",
       "      <th>Recall@5</th>\n",
       "      <th>Recall@10</th>\n",
       "      <th>Recall@50</th>\n",
       "      <th>epoch</th>\n",
       "      <th>losses</th>\n",
       "    </tr>\n",
       "  </thead>\n",
       "  <tbody>\n",
       "    <tr>\n",
       "      <th>0</th>\n",
       "      <td>0.063526</td>\n",
       "      <td>0.12118</td>\n",
       "      <td>0.527335</td>\n",
       "      <td>0</td>\n",
       "      <td>NaN</td>\n",
       "    </tr>\n",
       "    <tr>\n",
       "      <th>0</th>\n",
       "      <td>0.324125</td>\n",
       "      <td>0.48808</td>\n",
       "      <td>0.850691</td>\n",
       "      <td>50</td>\n",
       "      <td>0.234196</td>\n",
       "    </tr>\n",
       "  </tbody>\n",
       "</table>\n",
       "</div>"
      ],
      "text/plain": [
       "   Recall@5  Recall@10  Recall@50  epoch    losses\n",
       "0  0.063526    0.12118   0.527335      0       NaN\n",
       "0  0.324125    0.48808   0.850691     50  0.234196"
      ]
     },
     "metadata": {},
     "output_type": "display_data"
    },
    {
     "name": "stdout",
     "output_type": "stream",
     "text": [
      "n_item_sample=50\n",
      "n_user_sample=100\n"
     ]
    },
    {
     "data": {
      "text/html": [
       "<div>\n",
       "<style scoped>\n",
       "    .dataframe tbody tr th:only-of-type {\n",
       "        vertical-align: middle;\n",
       "    }\n",
       "\n",
       "    .dataframe tbody tr th {\n",
       "        vertical-align: top;\n",
       "    }\n",
       "\n",
       "    .dataframe thead th {\n",
       "        text-align: right;\n",
       "    }\n",
       "</style>\n",
       "<table border=\"1\" class=\"dataframe\">\n",
       "  <thead>\n",
       "    <tr style=\"text-align: right;\">\n",
       "      <th></th>\n",
       "      <th>Recall@5</th>\n",
       "      <th>Recall@10</th>\n",
       "      <th>Recall@50</th>\n",
       "      <th>epoch</th>\n",
       "      <th>losses</th>\n",
       "    </tr>\n",
       "  </thead>\n",
       "  <tbody>\n",
       "    <tr>\n",
       "      <th>0</th>\n",
       "      <td>0.062769</td>\n",
       "      <td>0.121948</td>\n",
       "      <td>0.524754</td>\n",
       "      <td>0</td>\n",
       "      <td>NaN</td>\n",
       "    </tr>\n",
       "    <tr>\n",
       "      <th>0</th>\n",
       "      <td>0.322576</td>\n",
       "      <td>0.489283</td>\n",
       "      <td>0.857450</td>\n",
       "      <td>50</td>\n",
       "      <td>0.236166</td>\n",
       "    </tr>\n",
       "  </tbody>\n",
       "</table>\n",
       "</div>"
      ],
      "text/plain": [
       "   Recall@5  Recall@10  Recall@50  epoch    losses\n",
       "0  0.062769   0.121948   0.524754      0       NaN\n",
       "0  0.322576   0.489283   0.857450     50  0.236166"
      ]
     },
     "metadata": {},
     "output_type": "display_data"
    },
    {
     "name": "stdout",
     "output_type": "stream",
     "text": [
      "n_item_sample=60\n",
      "n_user_sample=100\n"
     ]
    },
    {
     "data": {
      "text/html": [
       "<div>\n",
       "<style scoped>\n",
       "    .dataframe tbody tr th:only-of-type {\n",
       "        vertical-align: middle;\n",
       "    }\n",
       "\n",
       "    .dataframe tbody tr th {\n",
       "        vertical-align: top;\n",
       "    }\n",
       "\n",
       "    .dataframe thead th {\n",
       "        text-align: right;\n",
       "    }\n",
       "</style>\n",
       "<table border=\"1\" class=\"dataframe\">\n",
       "  <thead>\n",
       "    <tr style=\"text-align: right;\">\n",
       "      <th></th>\n",
       "      <th>Recall@5</th>\n",
       "      <th>Recall@10</th>\n",
       "      <th>Recall@50</th>\n",
       "      <th>epoch</th>\n",
       "      <th>losses</th>\n",
       "    </tr>\n",
       "  </thead>\n",
       "  <tbody>\n",
       "    <tr>\n",
       "      <th>0</th>\n",
       "      <td>0.056188</td>\n",
       "      <td>0.118042</td>\n",
       "      <td>0.527416</td>\n",
       "      <td>0</td>\n",
       "      <td>NaN</td>\n",
       "    </tr>\n",
       "    <tr>\n",
       "      <th>0</th>\n",
       "      <td>0.330807</td>\n",
       "      <td>0.499919</td>\n",
       "      <td>0.858372</td>\n",
       "      <td>50</td>\n",
       "      <td>0.234454</td>\n",
       "    </tr>\n",
       "  </tbody>\n",
       "</table>\n",
       "</div>"
      ],
      "text/plain": [
       "   Recall@5  Recall@10  Recall@50  epoch    losses\n",
       "0  0.056188   0.118042   0.527416      0       NaN\n",
       "0  0.330807   0.499919   0.858372     50  0.234454"
      ]
     },
     "metadata": {},
     "output_type": "display_data"
    },
    {
     "name": "stdout",
     "output_type": "stream",
     "text": [
      "n_item_sample=70\n",
      "n_user_sample=100\n"
     ]
    },
    {
     "data": {
      "text/html": [
       "<div>\n",
       "<style scoped>\n",
       "    .dataframe tbody tr th:only-of-type {\n",
       "        vertical-align: middle;\n",
       "    }\n",
       "\n",
       "    .dataframe tbody tr th {\n",
       "        vertical-align: top;\n",
       "    }\n",
       "\n",
       "    .dataframe thead th {\n",
       "        text-align: right;\n",
       "    }\n",
       "</style>\n",
       "<table border=\"1\" class=\"dataframe\">\n",
       "  <thead>\n",
       "    <tr style=\"text-align: right;\">\n",
       "      <th></th>\n",
       "      <th>Recall@5</th>\n",
       "      <th>Recall@10</th>\n",
       "      <th>Recall@50</th>\n",
       "      <th>epoch</th>\n",
       "      <th>losses</th>\n",
       "    </tr>\n",
       "  </thead>\n",
       "  <tbody>\n",
       "    <tr>\n",
       "      <th>0</th>\n",
       "      <td>0.062504</td>\n",
       "      <td>0.124236</td>\n",
       "      <td>0.524400</td>\n",
       "      <td>0</td>\n",
       "      <td>NaN</td>\n",
       "    </tr>\n",
       "    <tr>\n",
       "      <th>0</th>\n",
       "      <td>0.324925</td>\n",
       "      <td>0.489816</td>\n",
       "      <td>0.854119</td>\n",
       "      <td>50</td>\n",
       "      <td>0.235764</td>\n",
       "    </tr>\n",
       "  </tbody>\n",
       "</table>\n",
       "</div>"
      ],
      "text/plain": [
       "   Recall@5  Recall@10  Recall@50  epoch    losses\n",
       "0  0.062504   0.124236   0.524400      0       NaN\n",
       "0  0.324925   0.489816   0.854119     50  0.235764"
      ]
     },
     "metadata": {},
     "output_type": "display_data"
    },
    {
     "name": "stdout",
     "output_type": "stream",
     "text": [
      "n_item_sample=80\n",
      "n_user_sample=100\n"
     ]
    },
    {
     "data": {
      "text/html": [
       "<div>\n",
       "<style scoped>\n",
       "    .dataframe tbody tr th:only-of-type {\n",
       "        vertical-align: middle;\n",
       "    }\n",
       "\n",
       "    .dataframe tbody tr th {\n",
       "        vertical-align: top;\n",
       "    }\n",
       "\n",
       "    .dataframe thead th {\n",
       "        text-align: right;\n",
       "    }\n",
       "</style>\n",
       "<table border=\"1\" class=\"dataframe\">\n",
       "  <thead>\n",
       "    <tr style=\"text-align: right;\">\n",
       "      <th></th>\n",
       "      <th>Recall@5</th>\n",
       "      <th>Recall@10</th>\n",
       "      <th>Recall@50</th>\n",
       "      <th>epoch</th>\n",
       "      <th>losses</th>\n",
       "    </tr>\n",
       "  </thead>\n",
       "  <tbody>\n",
       "    <tr>\n",
       "      <th>0</th>\n",
       "      <td>0.060107</td>\n",
       "      <td>0.119056</td>\n",
       "      <td>0.525294</td>\n",
       "      <td>0</td>\n",
       "      <td>NaN</td>\n",
       "    </tr>\n",
       "    <tr>\n",
       "      <th>0</th>\n",
       "      <td>0.319492</td>\n",
       "      <td>0.490247</td>\n",
       "      <td>0.852717</td>\n",
       "      <td>50</td>\n",
       "      <td>0.23561</td>\n",
       "    </tr>\n",
       "  </tbody>\n",
       "</table>\n",
       "</div>"
      ],
      "text/plain": [
       "   Recall@5  Recall@10  Recall@50  epoch   losses\n",
       "0  0.060107   0.119056   0.525294      0      NaN\n",
       "0  0.319492   0.490247   0.852717     50  0.23561"
      ]
     },
     "metadata": {},
     "output_type": "display_data"
    },
    {
     "name": "stdout",
     "output_type": "stream",
     "text": [
      "n_item_sample=90\n",
      "n_user_sample=100\n"
     ]
    },
    {
     "data": {
      "text/html": [
       "<div>\n",
       "<style scoped>\n",
       "    .dataframe tbody tr th:only-of-type {\n",
       "        vertical-align: middle;\n",
       "    }\n",
       "\n",
       "    .dataframe tbody tr th {\n",
       "        vertical-align: top;\n",
       "    }\n",
       "\n",
       "    .dataframe thead th {\n",
       "        text-align: right;\n",
       "    }\n",
       "</style>\n",
       "<table border=\"1\" class=\"dataframe\">\n",
       "  <thead>\n",
       "    <tr style=\"text-align: right;\">\n",
       "      <th></th>\n",
       "      <th>Recall@5</th>\n",
       "      <th>Recall@10</th>\n",
       "      <th>Recall@50</th>\n",
       "      <th>epoch</th>\n",
       "      <th>losses</th>\n",
       "    </tr>\n",
       "  </thead>\n",
       "  <tbody>\n",
       "    <tr>\n",
       "      <th>0</th>\n",
       "      <td>0.061297</td>\n",
       "      <td>0.127392</td>\n",
       "      <td>0.528328</td>\n",
       "      <td>0</td>\n",
       "      <td>NaN</td>\n",
       "    </tr>\n",
       "    <tr>\n",
       "      <th>0</th>\n",
       "      <td>0.325876</td>\n",
       "      <td>0.490241</td>\n",
       "      <td>0.855058</td>\n",
       "      <td>50</td>\n",
       "      <td>0.234678</td>\n",
       "    </tr>\n",
       "  </tbody>\n",
       "</table>\n",
       "</div>"
      ],
      "text/plain": [
       "   Recall@5  Recall@10  Recall@50  epoch    losses\n",
       "0  0.061297   0.127392   0.528328      0       NaN\n",
       "0  0.325876   0.490241   0.855058     50  0.234678"
      ]
     },
     "metadata": {},
     "output_type": "display_data"
    },
    {
     "name": "stdout",
     "output_type": "stream",
     "text": [
      "n_item_sample=100\n",
      "n_user_sample=100\n"
     ]
    },
    {
     "data": {
      "text/html": [
       "<div>\n",
       "<style scoped>\n",
       "    .dataframe tbody tr th:only-of-type {\n",
       "        vertical-align: middle;\n",
       "    }\n",
       "\n",
       "    .dataframe tbody tr th {\n",
       "        vertical-align: top;\n",
       "    }\n",
       "\n",
       "    .dataframe thead th {\n",
       "        text-align: right;\n",
       "    }\n",
       "</style>\n",
       "<table border=\"1\" class=\"dataframe\">\n",
       "  <thead>\n",
       "    <tr style=\"text-align: right;\">\n",
       "      <th></th>\n",
       "      <th>Recall@5</th>\n",
       "      <th>Recall@10</th>\n",
       "      <th>Recall@50</th>\n",
       "      <th>epoch</th>\n",
       "      <th>losses</th>\n",
       "    </tr>\n",
       "  </thead>\n",
       "  <tbody>\n",
       "    <tr>\n",
       "      <th>0</th>\n",
       "      <td>0.064893</td>\n",
       "      <td>0.126503</td>\n",
       "      <td>0.520438</td>\n",
       "      <td>0</td>\n",
       "      <td>NaN</td>\n",
       "    </tr>\n",
       "    <tr>\n",
       "      <th>0</th>\n",
       "      <td>0.330380</td>\n",
       "      <td>0.495169</td>\n",
       "      <td>0.855113</td>\n",
       "      <td>50</td>\n",
       "      <td>0.236222</td>\n",
       "    </tr>\n",
       "  </tbody>\n",
       "</table>\n",
       "</div>"
      ],
      "text/plain": [
       "   Recall@5  Recall@10  Recall@50  epoch    losses\n",
       "0  0.064893   0.126503   0.520438      0       NaN\n",
       "0  0.330380   0.495169   0.855113     50  0.236222"
      ]
     },
     "metadata": {},
     "output_type": "display_data"
    }
   ],
   "source": [
    "n_item_samples = [10, 20, 30, 40, 50, 60, 70, 80, 90, 100]\n",
    "n_user_sample = 100\n",
    "\n",
    "re3 = []\n",
    "for n_item_sample in n_item_samples:\n",
    "    print(f'n_item_sample={n_item_sample}')\n",
    "    print(f'n_user_sample={n_user_sample}')\n",
    "    model = models.MutualProximityCML(\n",
    "        n_user, n_item, dist, n_dim,\n",
    "        n_item_sample=n_item_sample,\n",
    "        n_user_sample=n_user_sample\n",
    "    ).to(device)\n",
    "    optimizer = optim.Adam(model.parameters(), lr=lr)\n",
    "    criterion = losses.SumTripletLoss(margin=1).to(device)\n",
    "    trainer = trainers.BaseTrainer(model, optimizer, criterion, sampler, no_progressbar)\n",
    "    trainer.fit(n_batch, n_epoch, recall, valid_per_epoch)\n",
    "    display(trainer.valid_scores)\n",
    "    # k=10を追加\n",
    "    re3.append(trainer.valid_scores.iloc[-1, 1])"
   ]
  },
  {
   "cell_type": "code",
   "execution_count": 18,
   "id": "139f8a1c-01fa-4844-bb32-31d7bb62c913",
   "metadata": {
    "tags": []
   },
   "outputs": [
    {
     "data": {
      "image/png": "[encoded data removed]",
      "text/plain": [
       "<Figure size 640x480 with 1 Axes>"
      ]
     },
     "metadata": {},
     "output_type": "display_data"
    }
   ],
   "source": [
    "plt.plot(n_item_samples, re3, marker='x')\n",
    "plt.title('Effect of the number of item sample on Recall (k=10)')\n",
    "plt.xlabel('the number of item sample')\n",
    "plt.ylabel('Recall')\n",
    "plt.ylim(0.45, 0.55)\n",
    "plt.xticks(n_item_samples)\n",
    "plt.yticks(np.arange(0.45, 0.55, 0.005))\n",
    "plt.show()"
   ]
  },
  {
   "cell_type": "markdown",
   "id": "1b28ebd7-d5c0-4596-b62e-d86124d7500a",
   "metadata": {},
   "source": [
    "# The number of user sample\n",
    "The number of sampling to computing parameters of the distribution of distances from a specific item to all users."
   ]
  },
  {
   "cell_type": "code",
   "execution_count": 22,
   "id": "38b19b69-ddc1-466c-a3a2-7dbd3a52991f",
   "metadata": {},
   "outputs": [
    {
     "name": "stdout",
     "output_type": "stream",
     "text": [
      "n_item_sample=100\n",
      "n_user_sample=10\n"
     ]
    },
    {
     "data": {
      "text/html": [
       "<div>\n",
       "<style scoped>\n",
       "    .dataframe tbody tr th:only-of-type {\n",
       "        vertical-align: middle;\n",
       "    }\n",
       "\n",
       "    .dataframe tbody tr th {\n",
       "        vertical-align: top;\n",
       "    }\n",
       "\n",
       "    .dataframe thead th {\n",
       "        text-align: right;\n",
       "    }\n",
       "</style>\n",
       "<table border=\"1\" class=\"dataframe\">\n",
       "  <thead>\n",
       "    <tr style=\"text-align: right;\">\n",
       "      <th></th>\n",
       "      <th>Recall@5</th>\n",
       "      <th>Recall@10</th>\n",
       "      <th>Recall@50</th>\n",
       "      <th>epoch</th>\n",
       "      <th>losses</th>\n",
       "    </tr>\n",
       "  </thead>\n",
       "  <tbody>\n",
       "    <tr>\n",
       "      <th>0</th>\n",
       "      <td>0.061983</td>\n",
       "      <td>0.125685</td>\n",
       "      <td>0.522816</td>\n",
       "      <td>0</td>\n",
       "      <td>NaN</td>\n",
       "    </tr>\n",
       "    <tr>\n",
       "      <th>0</th>\n",
       "      <td>0.321879</td>\n",
       "      <td>0.481125</td>\n",
       "      <td>0.847875</td>\n",
       "      <td>50</td>\n",
       "      <td>0.232471</td>\n",
       "    </tr>\n",
       "  </tbody>\n",
       "</table>\n",
       "</div>"
      ],
      "text/plain": [
       "   Recall@5  Recall@10  Recall@50  epoch    losses\n",
       "0  0.061983   0.125685   0.522816      0       NaN\n",
       "0  0.321879   0.481125   0.847875     50  0.232471"
      ]
     },
     "metadata": {},
     "output_type": "display_data"
    },
    {
     "name": "stdout",
     "output_type": "stream",
     "text": [
      "n_item_sample=100\n",
      "n_user_sample=20\n"
     ]
    },
    {
     "data": {
      "text/html": [
       "<div>\n",
       "<style scoped>\n",
       "    .dataframe tbody tr th:only-of-type {\n",
       "        vertical-align: middle;\n",
       "    }\n",
       "\n",
       "    .dataframe tbody tr th {\n",
       "        vertical-align: top;\n",
       "    }\n",
       "\n",
       "    .dataframe thead th {\n",
       "        text-align: right;\n",
       "    }\n",
       "</style>\n",
       "<table border=\"1\" class=\"dataframe\">\n",
       "  <thead>\n",
       "    <tr style=\"text-align: right;\">\n",
       "      <th></th>\n",
       "      <th>Recall@5</th>\n",
       "      <th>Recall@10</th>\n",
       "      <th>Recall@50</th>\n",
       "      <th>epoch</th>\n",
       "      <th>losses</th>\n",
       "    </tr>\n",
       "  </thead>\n",
       "  <tbody>\n",
       "    <tr>\n",
       "      <th>0</th>\n",
       "      <td>0.068847</td>\n",
       "      <td>0.132709</td>\n",
       "      <td>0.526680</td>\n",
       "      <td>0</td>\n",
       "      <td>NaN</td>\n",
       "    </tr>\n",
       "    <tr>\n",
       "      <th>0</th>\n",
       "      <td>0.321553</td>\n",
       "      <td>0.490463</td>\n",
       "      <td>0.853202</td>\n",
       "      <td>50</td>\n",
       "      <td>0.234564</td>\n",
       "    </tr>\n",
       "  </tbody>\n",
       "</table>\n",
       "</div>"
      ],
      "text/plain": [
       "   Recall@5  Recall@10  Recall@50  epoch    losses\n",
       "0  0.068847   0.132709   0.526680      0       NaN\n",
       "0  0.321553   0.490463   0.853202     50  0.234564"
      ]
     },
     "metadata": {},
     "output_type": "display_data"
    },
    {
     "name": "stdout",
     "output_type": "stream",
     "text": [
      "n_item_sample=100\n",
      "n_user_sample=30\n"
     ]
    },
    {
     "data": {
      "text/html": [
       "<div>\n",
       "<style scoped>\n",
       "    .dataframe tbody tr th:only-of-type {\n",
       "        vertical-align: middle;\n",
       "    }\n",
       "\n",
       "    .dataframe tbody tr th {\n",
       "        vertical-align: top;\n",
       "    }\n",
       "\n",
       "    .dataframe thead th {\n",
       "        text-align: right;\n",
       "    }\n",
       "</style>\n",
       "<table border=\"1\" class=\"dataframe\">\n",
       "  <thead>\n",
       "    <tr style=\"text-align: right;\">\n",
       "      <th></th>\n",
       "      <th>Recall@5</th>\n",
       "      <th>Recall@10</th>\n",
       "      <th>Recall@50</th>\n",
       "      <th>epoch</th>\n",
       "      <th>losses</th>\n",
       "    </tr>\n",
       "  </thead>\n",
       "  <tbody>\n",
       "    <tr>\n",
       "      <th>0</th>\n",
       "      <td>0.062112</td>\n",
       "      <td>0.125224</td>\n",
       "      <td>0.524540</td>\n",
       "      <td>0</td>\n",
       "      <td>NaN</td>\n",
       "    </tr>\n",
       "    <tr>\n",
       "      <th>0</th>\n",
       "      <td>0.327245</td>\n",
       "      <td>0.488198</td>\n",
       "      <td>0.853139</td>\n",
       "      <td>50</td>\n",
       "      <td>0.233864</td>\n",
       "    </tr>\n",
       "  </tbody>\n",
       "</table>\n",
       "</div>"
      ],
      "text/plain": [
       "   Recall@5  Recall@10  Recall@50  epoch    losses\n",
       "0  0.062112   0.125224   0.524540      0       NaN\n",
       "0  0.327245   0.488198   0.853139     50  0.233864"
      ]
     },
     "metadata": {},
     "output_type": "display_data"
    },
    {
     "name": "stdout",
     "output_type": "stream",
     "text": [
      "n_item_sample=100\n",
      "n_user_sample=40\n"
     ]
    },
    {
     "data": {
      "text/html": [
       "<div>\n",
       "<style scoped>\n",
       "    .dataframe tbody tr th:only-of-type {\n",
       "        vertical-align: middle;\n",
       "    }\n",
       "\n",
       "    .dataframe tbody tr th {\n",
       "        vertical-align: top;\n",
       "    }\n",
       "\n",
       "    .dataframe thead th {\n",
       "        text-align: right;\n",
       "    }\n",
       "</style>\n",
       "<table border=\"1\" class=\"dataframe\">\n",
       "  <thead>\n",
       "    <tr style=\"text-align: right;\">\n",
       "      <th></th>\n",
       "      <th>Recall@5</th>\n",
       "      <th>Recall@10</th>\n",
       "      <th>Recall@50</th>\n",
       "      <th>epoch</th>\n",
       "      <th>losses</th>\n",
       "    </tr>\n",
       "  </thead>\n",
       "  <tbody>\n",
       "    <tr>\n",
       "      <th>0</th>\n",
       "      <td>0.060836</td>\n",
       "      <td>0.119344</td>\n",
       "      <td>0.527922</td>\n",
       "      <td>0</td>\n",
       "      <td>NaN</td>\n",
       "    </tr>\n",
       "    <tr>\n",
       "      <th>0</th>\n",
       "      <td>0.320233</td>\n",
       "      <td>0.487642</td>\n",
       "      <td>0.852247</td>\n",
       "      <td>50</td>\n",
       "      <td>0.235064</td>\n",
       "    </tr>\n",
       "  </tbody>\n",
       "</table>\n",
       "</div>"
      ],
      "text/plain": [
       "   Recall@5  Recall@10  Recall@50  epoch    losses\n",
       "0  0.060836   0.119344   0.527922      0       NaN\n",
       "0  0.320233   0.487642   0.852247     50  0.235064"
      ]
     },
     "metadata": {},
     "output_type": "display_data"
    },
    {
     "name": "stdout",
     "output_type": "stream",
     "text": [
      "n_item_sample=100\n",
      "n_user_sample=50\n"
     ]
    },
    {
     "data": {
      "text/html": [
       "<div>\n",
       "<style scoped>\n",
       "    .dataframe tbody tr th:only-of-type {\n",
       "        vertical-align: middle;\n",
       "    }\n",
       "\n",
       "    .dataframe tbody tr th {\n",
       "        vertical-align: top;\n",
       "    }\n",
       "\n",
       "    .dataframe thead th {\n",
       "        text-align: right;\n",
       "    }\n",
       "</style>\n",
       "<table border=\"1\" class=\"dataframe\">\n",
       "  <thead>\n",
       "    <tr style=\"text-align: right;\">\n",
       "      <th></th>\n",
       "      <th>Recall@5</th>\n",
       "      <th>Recall@10</th>\n",
       "      <th>Recall@50</th>\n",
       "      <th>epoch</th>\n",
       "      <th>losses</th>\n",
       "    </tr>\n",
       "  </thead>\n",
       "  <tbody>\n",
       "    <tr>\n",
       "      <th>0</th>\n",
       "      <td>0.064395</td>\n",
       "      <td>0.127194</td>\n",
       "      <td>0.523347</td>\n",
       "      <td>0</td>\n",
       "      <td>NaN</td>\n",
       "    </tr>\n",
       "    <tr>\n",
       "      <th>0</th>\n",
       "      <td>0.323814</td>\n",
       "      <td>0.484669</td>\n",
       "      <td>0.852282</td>\n",
       "      <td>50</td>\n",
       "      <td>0.239174</td>\n",
       "    </tr>\n",
       "  </tbody>\n",
       "</table>\n",
       "</div>"
      ],
      "text/plain": [
       "   Recall@5  Recall@10  Recall@50  epoch    losses\n",
       "0  0.064395   0.127194   0.523347      0       NaN\n",
       "0  0.323814   0.484669   0.852282     50  0.239174"
      ]
     },
     "metadata": {},
     "output_type": "display_data"
    },
    {
     "name": "stdout",
     "output_type": "stream",
     "text": [
      "n_item_sample=100\n",
      "n_user_sample=60\n"
     ]
    },
    {
     "data": {
      "text/html": [
       "<div>\n",
       "<style scoped>\n",
       "    .dataframe tbody tr th:only-of-type {\n",
       "        vertical-align: middle;\n",
       "    }\n",
       "\n",
       "    .dataframe tbody tr th {\n",
       "        vertical-align: top;\n",
       "    }\n",
       "\n",
       "    .dataframe thead th {\n",
       "        text-align: right;\n",
       "    }\n",
       "</style>\n",
       "<table border=\"1\" class=\"dataframe\">\n",
       "  <thead>\n",
       "    <tr style=\"text-align: right;\">\n",
       "      <th></th>\n",
       "      <th>Recall@5</th>\n",
       "      <th>Recall@10</th>\n",
       "      <th>Recall@50</th>\n",
       "      <th>epoch</th>\n",
       "      <th>losses</th>\n",
       "    </tr>\n",
       "  </thead>\n",
       "  <tbody>\n",
       "    <tr>\n",
       "      <th>0</th>\n",
       "      <td>0.060729</td>\n",
       "      <td>0.126224</td>\n",
       "      <td>0.519113</td>\n",
       "      <td>0</td>\n",
       "      <td>NaN</td>\n",
       "    </tr>\n",
       "    <tr>\n",
       "      <th>0</th>\n",
       "      <td>0.319522</td>\n",
       "      <td>0.486445</td>\n",
       "      <td>0.852312</td>\n",
       "      <td>50</td>\n",
       "      <td>0.23607</td>\n",
       "    </tr>\n",
       "  </tbody>\n",
       "</table>\n",
       "</div>"
      ],
      "text/plain": [
       "   Recall@5  Recall@10  Recall@50  epoch   losses\n",
       "0  0.060729   0.126224   0.519113      0      NaN\n",
       "0  0.319522   0.486445   0.852312     50  0.23607"
      ]
     },
     "metadata": {},
     "output_type": "display_data"
    },
    {
     "name": "stdout",
     "output_type": "stream",
     "text": [
      "n_item_sample=100\n",
      "n_user_sample=70\n"
     ]
    },
    {
     "data": {
      "text/html": [
       "<div>\n",
       "<style scoped>\n",
       "    .dataframe tbody tr th:only-of-type {\n",
       "        vertical-align: middle;\n",
       "    }\n",
       "\n",
       "    .dataframe tbody tr th {\n",
       "        vertical-align: top;\n",
       "    }\n",
       "\n",
       "    .dataframe thead th {\n",
       "        text-align: right;\n",
       "    }\n",
       "</style>\n",
       "<table border=\"1\" class=\"dataframe\">\n",
       "  <thead>\n",
       "    <tr style=\"text-align: right;\">\n",
       "      <th></th>\n",
       "      <th>Recall@5</th>\n",
       "      <th>Recall@10</th>\n",
       "      <th>Recall@50</th>\n",
       "      <th>epoch</th>\n",
       "      <th>losses</th>\n",
       "    </tr>\n",
       "  </thead>\n",
       "  <tbody>\n",
       "    <tr>\n",
       "      <th>0</th>\n",
       "      <td>0.053405</td>\n",
       "      <td>0.116958</td>\n",
       "      <td>0.524495</td>\n",
       "      <td>0</td>\n",
       "      <td>NaN</td>\n",
       "    </tr>\n",
       "    <tr>\n",
       "      <th>0</th>\n",
       "      <td>0.328071</td>\n",
       "      <td>0.496425</td>\n",
       "      <td>0.855596</td>\n",
       "      <td>50</td>\n",
       "      <td>0.232909</td>\n",
       "    </tr>\n",
       "  </tbody>\n",
       "</table>\n",
       "</div>"
      ],
      "text/plain": [
       "   Recall@5  Recall@10  Recall@50  epoch    losses\n",
       "0  0.053405   0.116958   0.524495      0       NaN\n",
       "0  0.328071   0.496425   0.855596     50  0.232909"
      ]
     },
     "metadata": {},
     "output_type": "display_data"
    },
    {
     "name": "stdout",
     "output_type": "stream",
     "text": [
      "n_item_sample=100\n",
      "n_user_sample=80\n"
     ]
    },
    {
     "data": {
      "text/html": [
       "<div>\n",
       "<style scoped>\n",
       "    .dataframe tbody tr th:only-of-type {\n",
       "        vertical-align: middle;\n",
       "    }\n",
       "\n",
       "    .dataframe tbody tr th {\n",
       "        vertical-align: top;\n",
       "    }\n",
       "\n",
       "    .dataframe thead th {\n",
       "        text-align: right;\n",
       "    }\n",
       "</style>\n",
       "<table border=\"1\" class=\"dataframe\">\n",
       "  <thead>\n",
       "    <tr style=\"text-align: right;\">\n",
       "      <th></th>\n",
       "      <th>Recall@5</th>\n",
       "      <th>Recall@10</th>\n",
       "      <th>Recall@50</th>\n",
       "      <th>epoch</th>\n",
       "      <th>losses</th>\n",
       "    </tr>\n",
       "  </thead>\n",
       "  <tbody>\n",
       "    <tr>\n",
       "      <th>0</th>\n",
       "      <td>0.063163</td>\n",
       "      <td>0.120214</td>\n",
       "      <td>0.523292</td>\n",
       "      <td>0</td>\n",
       "      <td>NaN</td>\n",
       "    </tr>\n",
       "    <tr>\n",
       "      <th>0</th>\n",
       "      <td>0.326672</td>\n",
       "      <td>0.490182</td>\n",
       "      <td>0.851082</td>\n",
       "      <td>50</td>\n",
       "      <td>0.234711</td>\n",
       "    </tr>\n",
       "  </tbody>\n",
       "</table>\n",
       "</div>"
      ],
      "text/plain": [
       "   Recall@5  Recall@10  Recall@50  epoch    losses\n",
       "0  0.063163   0.120214   0.523292      0       NaN\n",
       "0  0.326672   0.490182   0.851082     50  0.234711"
      ]
     },
     "metadata": {},
     "output_type": "display_data"
    },
    {
     "name": "stdout",
     "output_type": "stream",
     "text": [
      "n_item_sample=100\n",
      "n_user_sample=90\n"
     ]
    },
    {
     "data": {
      "text/html": [
       "<div>\n",
       "<style scoped>\n",
       "    .dataframe tbody tr th:only-of-type {\n",
       "        vertical-align: middle;\n",
       "    }\n",
       "\n",
       "    .dataframe tbody tr th {\n",
       "        vertical-align: top;\n",
       "    }\n",
       "\n",
       "    .dataframe thead th {\n",
       "        text-align: right;\n",
       "    }\n",
       "</style>\n",
       "<table border=\"1\" class=\"dataframe\">\n",
       "  <thead>\n",
       "    <tr style=\"text-align: right;\">\n",
       "      <th></th>\n",
       "      <th>Recall@5</th>\n",
       "      <th>Recall@10</th>\n",
       "      <th>Recall@50</th>\n",
       "      <th>epoch</th>\n",
       "      <th>losses</th>\n",
       "    </tr>\n",
       "  </thead>\n",
       "  <tbody>\n",
       "    <tr>\n",
       "      <th>0</th>\n",
       "      <td>0.065555</td>\n",
       "      <td>0.121502</td>\n",
       "      <td>0.519641</td>\n",
       "      <td>0</td>\n",
       "      <td>NaN</td>\n",
       "    </tr>\n",
       "    <tr>\n",
       "      <th>0</th>\n",
       "      <td>0.326307</td>\n",
       "      <td>0.488333</td>\n",
       "      <td>0.857627</td>\n",
       "      <td>50</td>\n",
       "      <td>0.23406</td>\n",
       "    </tr>\n",
       "  </tbody>\n",
       "</table>\n",
       "</div>"
      ],
      "text/plain": [
       "   Recall@5  Recall@10  Recall@50  epoch   losses\n",
       "0  0.065555   0.121502   0.519641      0      NaN\n",
       "0  0.326307   0.488333   0.857627     50  0.23406"
      ]
     },
     "metadata": {},
     "output_type": "display_data"
    },
    {
     "name": "stdout",
     "output_type": "stream",
     "text": [
      "n_item_sample=100\n",
      "n_user_sample=100\n"
     ]
    },
    {
     "data": {
      "text/html": [
       "<div>\n",
       "<style scoped>\n",
       "    .dataframe tbody tr th:only-of-type {\n",
       "        vertical-align: middle;\n",
       "    }\n",
       "\n",
       "    .dataframe tbody tr th {\n",
       "        vertical-align: top;\n",
       "    }\n",
       "\n",
       "    .dataframe thead th {\n",
       "        text-align: right;\n",
       "    }\n",
       "</style>\n",
       "<table border=\"1\" class=\"dataframe\">\n",
       "  <thead>\n",
       "    <tr style=\"text-align: right;\">\n",
       "      <th></th>\n",
       "      <th>Recall@5</th>\n",
       "      <th>Recall@10</th>\n",
       "      <th>Recall@50</th>\n",
       "      <th>epoch</th>\n",
       "      <th>losses</th>\n",
       "    </tr>\n",
       "  </thead>\n",
       "  <tbody>\n",
       "    <tr>\n",
       "      <th>0</th>\n",
       "      <td>0.061311</td>\n",
       "      <td>0.127557</td>\n",
       "      <td>0.526988</td>\n",
       "      <td>0</td>\n",
       "      <td>NaN</td>\n",
       "    </tr>\n",
       "    <tr>\n",
       "      <th>0</th>\n",
       "      <td>0.325188</td>\n",
       "      <td>0.484141</td>\n",
       "      <td>0.852791</td>\n",
       "      <td>50</td>\n",
       "      <td>0.237063</td>\n",
       "    </tr>\n",
       "  </tbody>\n",
       "</table>\n",
       "</div>"
      ],
      "text/plain": [
       "   Recall@5  Recall@10  Recall@50  epoch    losses\n",
       "0  0.061311   0.127557   0.526988      0       NaN\n",
       "0  0.325188   0.484141   0.852791     50  0.237063"
      ]
     },
     "metadata": {},
     "output_type": "display_data"
    }
   ],
   "source": [
    "n_item_sample = 100\n",
    "n_user_samples = [10, 20, 30, 40, 50, 60, 70, 80, 90, 100]\n",
    "\n",
    "re4 = []\n",
    "for n_user_sample in n_user_samples:\n",
    "    print(f'n_item_sample={n_item_sample}')\n",
    "    print(f'n_user_sample={n_user_sample}')\n",
    "    model = models.MutualProximityCML(\n",
    "        n_user, n_item, dist, n_dim,\n",
    "        n_item_sample=n_item_sample,\n",
    "        n_user_sample=n_user_sample\n",
    "    ).to(device)\n",
    "    optimizer = optim.Adam(model.parameters(), lr=lr)\n",
    "    criterion = losses.SumTripletLoss(margin=1).to(device)\n",
    "    trainer = trainers.BaseTrainer(model, optimizer, criterion, sampler, no_progressbar)\n",
    "    trainer.fit(n_batch, n_epoch, recall, valid_per_epoch)\n",
    "    display(trainer.valid_scores)\n",
    "    # k=10を追加\n",
    "    re4.append(trainer.valid_scores.iloc[-1, 1])"
   ]
  },
  {
   "cell_type": "code",
   "execution_count": 23,
   "id": "3d59412b-214f-4d37-af47-195232c2c6ae",
   "metadata": {
    "tags": []
   },
   "outputs": [
    {
     "data": {
      "image/png": "[encoded data removed]",
      "text/plain": [
       "<Figure size 640x480 with 1 Axes>"
      ]
     },
     "metadata": {},
     "output_type": "display_data"
    }
   ],
   "source": [
    "plt.plot(n_user_samples, re4, marker='x')\n",
    "plt.title('Effect of the number of user sample on Recall (k=10)')\n",
    "plt.xlabel('the number of user sample')\n",
    "plt.ylabel('Recall')\n",
    "plt.ylim(0.45, 0.55)\n",
    "plt.xticks(n_user_samples)\n",
    "plt.yticks(np.arange(0.45, 0.55, 0.005))\n",
    "plt.show()"
   ]
  },
  {
   "cell_type": "code",
   "execution_count": null,
   "id": "10d5e471-9405-415c-8503-d3e54dfba079",
   "metadata": {},
   "outputs": [],
   "source": []
  }
 ],
 "metadata": {
  "kernelspec": {
   "display_name": "bachelor2",
   "language": "python",
   "name": "bachelor2"
  },
  "language_info": {
   "codemirror_mode": {
    "name": "ipython",
    "version": 3
   },
   "file_extension": ".py",
   "mimetype": "text/x-python",
   "name": "python",
   "nbconvert_exporter": "python",
   "pygments_lexer": "ipython3",
   "version": "3.8.17"
  }
 },
 "nbformat": 4,
 "nbformat_minor": 5
}
