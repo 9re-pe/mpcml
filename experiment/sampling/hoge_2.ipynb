{
 "cells": [
  {
   "cell_type": "markdown",
   "id": "2d88e707-9ef9-4576-a4df-803367261fbc",
   "metadata": {},
   "source": [
    "# Import"
   ]
  },
  {
   "cell_type": "code",
   "execution_count": 1,
   "id": "d0a17605-4569-4d45-ac7d-39c750fec7a8",
   "metadata": {},
   "outputs": [],
   "source": [
    "import sys\n",
    "\n",
    "root_dir = '../../'\n",
    "if root_dir not in sys.path:\n",
    "    sys.path.append(root_dir)\n",
    "\n",
    "import torch\n",
    "from torch import nn, optim\n",
    "import numpy as np\n",
    "import matplotlib.pyplot as plt\n",
    "from sklearn.decomposition import TruncatedSVD\n",
    "from scipy.sparse import csr_matrix\n",
    "\n",
    "from modules import losses, models, samplers, searches, regularizers, evaluators, trainers, datasets"
   ]
  },
  {
   "cell_type": "markdown",
   "id": "29ef0a24-cd45-4e89-bc61-43a8584322fb",
   "metadata": {},
   "source": [
    "# Dataset"
   ]
  },
  {
   "cell_type": "code",
   "execution_count": 2,
   "id": "e384b07e-739b-4a22-a342-31132fa45e47",
   "metadata": {},
   "outputs": [],
   "source": [
    "dataset = datasets.ML20m()\n",
    "n_user = dataset.n_user\n",
    "n_item = dataset.n_item\n",
    "train_set, test_set = dataset.get_train_and_test_set()\n",
    "\n",
    "# device setting\n",
    "device = torch.device(\"cuda:0\" if torch.cuda.is_available() else \"cpu\")\n",
    "train_set = torch.LongTensor(train_set).to(device)\n",
    "test_set = torch.FloatTensor(test_set).to(device)"
   ]
  },
  {
   "cell_type": "markdown",
   "id": "01fd8cbb-4cee-4852-b9b5-956ad0c0f1c4",
   "metadata": {},
   "source": [
    "# Evaluator"
   ]
  },
  {
   "cell_type": "code",
   "execution_count": 3,
   "id": "a53eadaf-6701-429a-879c-8323376a80d9",
   "metadata": {},
   "outputs": [],
   "source": [
    "# k\n",
    "ks = [5, 10, 50]\n",
    "\n",
    "score_function_dict = {\n",
    "    \"Recall\"      : evaluators.recall,\n",
    "    \"Unpopularity\": evaluators.unpopularity,\n",
    "    \"Unpopularity2\": evaluators.unpopularity2,\n",
    "    \"Unpopularity3\": evaluators.unpopularity3,\n",
    "    \"F1-score\"    : evaluators.f1_score,\n",
    "    \"F1-score2\"    : evaluators.f1_score2,\n",
    "    \"F1-score3\"    : evaluators.f1_score3\n",
    "}\n",
    "userwise = evaluators.UserwiseEvaluator(test_set, score_function_dict, ks)\n",
    "# coverage = evaluators.CoverageEvaluator(test_set, ks)\n",
    "# hubness = evaluators.HubnessEvaluator(test_set, ks)"
   ]
  },
  {
   "cell_type": "markdown",
   "id": "58ce0b9e-d0d5-4aa2-b484-498a8cf3b092",
   "metadata": {},
   "source": [
    "# Sampler"
   ]
  },
  {
   "cell_type": "code",
   "execution_count": 4,
   "id": "e65b01d3-65c3-4a44-828e-c2d1d4a41c74",
   "metadata": {},
   "outputs": [],
   "source": [
    "sampler = samplers.BaseSampler(train_set, n_user, n_item, device=device, strict_negative=False)"
   ]
  },
  {
   "cell_type": "markdown",
   "id": "c383f90e-0635-4548-abd9-604a3b7d7a4f",
   "metadata": {},
   "source": [
    "# Model"
   ]
  },
  {
   "cell_type": "code",
   "execution_count": 5,
   "id": "6fff33e0-3d67-4a51-8833-67782bbdd85d",
   "metadata": {},
   "outputs": [],
   "source": [
    "# Hyperparameters\n",
    "lr = 1e-3\n",
    "n_dim = 10\n",
    "n_batch = 256\n",
    "n_epoch = 50\n",
    "no_progressbar = True\n",
    "\n",
    "model = models.CollaborativeMetricLearning(n_user, n_item, n_dim).to(device)\n",
    "optimizer = optim.Adam(model.parameters(), lr=lr)\n",
    "criterion = losses.SumTripletLoss(margin=1).to(device)\n",
    "trainer = trainers.BaseTrainer(model, optimizer, criterion, sampler, no_progressbar)"
   ]
  },
  {
   "cell_type": "markdown",
   "id": "70733d67-1524-47b1-96a4-3f413d441ab4",
   "metadata": {},
   "source": [
    "# No Training Result"
   ]
  },
  {
   "cell_type": "code",
   "execution_count": 6,
   "id": "7ccf8504-9db9-4261-a727-82e69352082c",
   "metadata": {},
   "outputs": [
    {
     "data": {
      "text/html": [
       "<div>\n",
       "<style scoped>\n",
       "    .dataframe tbody tr th:only-of-type {\n",
       "        vertical-align: middle;\n",
       "    }\n",
       "\n",
       "    .dataframe tbody tr th {\n",
       "        vertical-align: top;\n",
       "    }\n",
       "\n",
       "    .dataframe thead th {\n",
       "        text-align: right;\n",
       "    }\n",
       "</style>\n",
       "<table border=\"1\" class=\"dataframe\">\n",
       "  <thead>\n",
       "    <tr style=\"text-align: right;\">\n",
       "      <th></th>\n",
       "      <th>Recall@5</th>\n",
       "      <th>Unpopularity@5</th>\n",
       "      <th>Unpopularity2@5</th>\n",
       "      <th>F1-score@5</th>\n",
       "      <th>F1-score2@5</th>\n",
       "      <th>Recall@10</th>\n",
       "      <th>Unpopularity@10</th>\n",
       "      <th>Unpopularity2@10</th>\n",
       "      <th>F1-score@10</th>\n",
       "      <th>F1-score2@10</th>\n",
       "      <th>Recall@50</th>\n",
       "      <th>Unpopularity@50</th>\n",
       "      <th>Unpopularity2@50</th>\n",
       "      <th>F1-score@50</th>\n",
       "      <th>F1-score2@50</th>\n",
       "    </tr>\n",
       "  </thead>\n",
       "  <tbody>\n",
       "    <tr>\n",
       "      <th>0</th>\n",
       "      <td>0.063099</td>\n",
       "      <td>0.925355</td>\n",
       "      <td>9.186255</td>\n",
       "      <td>0.092824</td>\n",
       "      <td>0.120946</td>\n",
       "      <td>0.12606</td>\n",
       "      <td>0.925164</td>\n",
       "      <td>9.184886</td>\n",
       "      <td>0.181066</td>\n",
       "      <td>0.24104</td>\n",
       "      <td>0.5222</td>\n",
       "      <td>0.872172</td>\n",
       "      <td>8.658139</td>\n",
       "      <td>0.554753</td>\n",
       "      <td>0.946755</td>\n",
       "    </tr>\n",
       "  </tbody>\n",
       "</table>\n",
       "</div>"
      ],
      "text/plain": [
       "   Recall@5  Unpopularity@5  Unpopularity2@5  F1-score@5  F1-score2@5  \\\n",
       "0  0.063099        0.925355         9.186255    0.092824     0.120946   \n",
       "\n",
       "   Recall@10  Unpopularity@10  Unpopularity2@10  F1-score@10  F1-score2@10  \\\n",
       "0    0.12606         0.925164          9.184886     0.181066       0.24104   \n",
       "\n",
       "   Recall@50  Unpopularity@50  Unpopularity2@50  F1-score@50  F1-score2@50  \n",
       "0     0.5222         0.872172          8.658139     0.554753      0.946755  "
      ]
     },
     "metadata": {},
     "output_type": "display_data"
    }
   ],
   "source": [
    "knn = searches.NearestNeighborhood(model)\n",
    "trainer.valid(knn, userwise)\n",
    "re_no_training = trainer.valid_scores.copy()\n",
    "display(re_no_training)"
   ]
  },
  {
   "cell_type": "markdown",
   "id": "95b987c7-c350-492e-a5fa-018bc9e2b373",
   "metadata": {},
   "source": [
    "# Training"
   ]
  },
  {
   "cell_type": "code",
   "execution_count": 7,
   "id": "04795f56-b2d3-4e30-b16a-387c339be2c5",
   "metadata": {},
   "outputs": [],
   "source": [
    "# only traing no validation\n",
    "trainer.fit(n_batch, n_epoch)"
   ]
  },
  {
   "cell_type": "markdown",
   "id": "add293aa-f53f-4bc2-b0aa-35dd4c461169",
   "metadata": {},
   "source": [
    "# Result"
   ]
  },
  {
   "cell_type": "markdown",
   "id": "706a0a4d-c3a4-442e-b7a5-40add5fd1673",
   "metadata": {},
   "source": [
    "## Base CML"
   ]
  },
  {
   "cell_type": "code",
   "execution_count": 8,
   "id": "d47082ca-7509-414c-8a02-49fbe770f134",
   "metadata": {},
   "outputs": [
    {
     "data": {
      "text/html": [
       "<div>\n",
       "<style scoped>\n",
       "    .dataframe tbody tr th:only-of-type {\n",
       "        vertical-align: middle;\n",
       "    }\n",
       "\n",
       "    .dataframe tbody tr th {\n",
       "        vertical-align: top;\n",
       "    }\n",
       "\n",
       "    .dataframe thead th {\n",
       "        text-align: right;\n",
       "    }\n",
       "</style>\n",
       "<table border=\"1\" class=\"dataframe\">\n",
       "  <thead>\n",
       "    <tr style=\"text-align: right;\">\n",
       "      <th></th>\n",
       "      <th>Recall@5</th>\n",
       "      <th>Unpopularity@5</th>\n",
       "      <th>Unpopularity2@5</th>\n",
       "      <th>F1-score@5</th>\n",
       "      <th>F1-score2@5</th>\n",
       "      <th>Recall@10</th>\n",
       "      <th>Unpopularity@10</th>\n",
       "      <th>Unpopularity2@10</th>\n",
       "      <th>F1-score@10</th>\n",
       "      <th>F1-score2@10</th>\n",
       "      <th>Recall@50</th>\n",
       "      <th>Unpopularity@50</th>\n",
       "      <th>Unpopularity2@50</th>\n",
       "      <th>F1-score@50</th>\n",
       "      <th>F1-score2@50</th>\n",
       "    </tr>\n",
       "  </thead>\n",
       "  <tbody>\n",
       "    <tr>\n",
       "      <th>0</th>\n",
       "      <td>0.238143</td>\n",
       "      <td>0.742512</td>\n",
       "      <td>4.062799</td>\n",
       "      <td>0.259879</td>\n",
       "      <td>0.395477</td>\n",
       "      <td>0.48648</td>\n",
       "      <td>0.670035</td>\n",
       "      <td>3.591596</td>\n",
       "      <td>0.464163</td>\n",
       "      <td>0.803607</td>\n",
       "      <td>0.899664</td>\n",
       "      <td>0.740461</td>\n",
       "      <td>5.745228</td>\n",
       "      <td>0.796003</td>\n",
       "      <td>1.521786</td>\n",
       "    </tr>\n",
       "  </tbody>\n",
       "</table>\n",
       "</div>"
      ],
      "text/plain": [
       "   Recall@5  Unpopularity@5  Unpopularity2@5  F1-score@5  F1-score2@5  \\\n",
       "0  0.238143        0.742512         4.062799    0.259879     0.395477   \n",
       "\n",
       "   Recall@10  Unpopularity@10  Unpopularity2@10  F1-score@10  F1-score2@10  \\\n",
       "0    0.48648         0.670035          3.591596     0.464163      0.803607   \n",
       "\n",
       "   Recall@50  Unpopularity@50  Unpopularity2@50  F1-score@50  F1-score2@50  \n",
       "0   0.899664         0.740461          5.745228     0.796003      1.521786  "
      ]
     },
     "metadata": {},
     "output_type": "display_data"
    }
   ],
   "source": [
    "knn = searches.NearestNeighborhood(model)\n",
    "\n",
    "# Recall\n",
    "trainer.valid(knn, userwise)\n",
    "re_base = trainer.valid_scores.copy()\n",
    "display(re_base)"
   ]
  },
  {
   "cell_type": "markdown",
   "id": "986a9ec5-f512-4323-ad20-5c6090ba7485",
   "metadata": {},
   "source": [
    "## CML+MP"
   ]
  },
  {
   "cell_type": "code",
   "execution_count": 9,
   "id": "a81172cd-7b6b-49ca-ab93-ce553064f68f",
   "metadata": {},
   "outputs": [],
   "source": [
    "search_ranges = [10, 15, 20, 25, 30]"
   ]
  },
  {
   "cell_type": "code",
   "execution_count": 10,
   "id": "dd85c703-1258-432d-8b3e-9e999053ce0f",
   "metadata": {},
   "outputs": [
    {
     "name": "stdout",
     "output_type": "stream",
     "text": [
      "search_range=10\n"
     ]
    },
    {
     "data": {
      "text/html": [
       "<div>\n",
       "<style scoped>\n",
       "    .dataframe tbody tr th:only-of-type {\n",
       "        vertical-align: middle;\n",
       "    }\n",
       "\n",
       "    .dataframe tbody tr th {\n",
       "        vertical-align: top;\n",
       "    }\n",
       "\n",
       "    .dataframe thead th {\n",
       "        text-align: right;\n",
       "    }\n",
       "</style>\n",
       "<table border=\"1\" class=\"dataframe\">\n",
       "  <thead>\n",
       "    <tr style=\"text-align: right;\">\n",
       "      <th></th>\n",
       "      <th>Recall@5</th>\n",
       "      <th>Unpopularity@5</th>\n",
       "      <th>Unpopularity2@5</th>\n",
       "      <th>F1-score@5</th>\n",
       "      <th>F1-score2@5</th>\n",
       "      <th>Recall@10</th>\n",
       "      <th>Unpopularity@10</th>\n",
       "      <th>Unpopularity2@10</th>\n",
       "      <th>F1-score@10</th>\n",
       "      <th>F1-score2@10</th>\n",
       "      <th>Recall@50</th>\n",
       "      <th>Unpopularity@50</th>\n",
       "      <th>Unpopularity2@50</th>\n",
       "      <th>F1-score@50</th>\n",
       "      <th>F1-score2@50</th>\n",
       "    </tr>\n",
       "  </thead>\n",
       "  <tbody>\n",
       "    <tr>\n",
       "      <th>0</th>\n",
       "      <td>0.180256</td>\n",
       "      <td>0.774699</td>\n",
       "      <td>4.580387</td>\n",
       "      <td>0.226864</td>\n",
       "      <td>0.314046</td>\n",
       "      <td>0.455131</td>\n",
       "      <td>0.702251</td>\n",
       "      <td>4.190827</td>\n",
       "      <td>0.453024</td>\n",
       "      <td>0.777137</td>\n",
       "      <td>0.540581</td>\n",
       "      <td>0.865375</td>\n",
       "      <td>8.332184</td>\n",
       "      <td>0.560534</td>\n",
       "      <td>0.975593</td>\n",
       "    </tr>\n",
       "  </tbody>\n",
       "</table>\n",
       "</div>"
      ],
      "text/plain": [
       "   Recall@5  Unpopularity@5  Unpopularity2@5  F1-score@5  F1-score2@5  \\\n",
       "0  0.180256        0.774699         4.580387    0.226864     0.314046   \n",
       "\n",
       "   Recall@10  Unpopularity@10  Unpopularity2@10  F1-score@10  F1-score2@10  \\\n",
       "0   0.455131         0.702251          4.190827     0.453024      0.777137   \n",
       "\n",
       "   Recall@50  Unpopularity@50  Unpopularity2@50  F1-score@50  F1-score2@50  \n",
       "0   0.540581         0.865375          8.332184     0.560534      0.975593  "
      ]
     },
     "metadata": {},
     "output_type": "display_data"
    },
    {
     "name": "stdout",
     "output_type": "stream",
     "text": [
      "search_range=15\n"
     ]
    },
    {
     "data": {
      "text/html": [
       "<div>\n",
       "<style scoped>\n",
       "    .dataframe tbody tr th:only-of-type {\n",
       "        vertical-align: middle;\n",
       "    }\n",
       "\n",
       "    .dataframe tbody tr th {\n",
       "        vertical-align: top;\n",
       "    }\n",
       "\n",
       "    .dataframe thead th {\n",
       "        text-align: right;\n",
       "    }\n",
       "</style>\n",
       "<table border=\"1\" class=\"dataframe\">\n",
       "  <thead>\n",
       "    <tr style=\"text-align: right;\">\n",
       "      <th></th>\n",
       "      <th>Recall@5</th>\n",
       "      <th>Unpopularity@5</th>\n",
       "      <th>Unpopularity2@5</th>\n",
       "      <th>F1-score@5</th>\n",
       "      <th>F1-score2@5</th>\n",
       "      <th>Recall@10</th>\n",
       "      <th>Unpopularity@10</th>\n",
       "      <th>Unpopularity2@10</th>\n",
       "      <th>F1-score@10</th>\n",
       "      <th>F1-score2@10</th>\n",
       "      <th>Recall@50</th>\n",
       "      <th>Unpopularity@50</th>\n",
       "      <th>Unpopularity2@50</th>\n",
       "      <th>F1-score@50</th>\n",
       "      <th>F1-score2@50</th>\n",
       "    </tr>\n",
       "  </thead>\n",
       "  <tbody>\n",
       "    <tr>\n",
       "      <th>0</th>\n",
       "      <td>0.1291</td>\n",
       "      <td>0.813086</td>\n",
       "      <td>5.220916</td>\n",
       "      <td>0.172774</td>\n",
       "      <td>0.233454</td>\n",
       "      <td>0.413713</td>\n",
       "      <td>0.694814</td>\n",
       "      <td>4.063573</td>\n",
       "      <td>0.431728</td>\n",
       "      <td>0.706336</td>\n",
       "      <td>0.652755</td>\n",
       "      <td>0.838368</td>\n",
       "      <td>7.868684</td>\n",
       "      <td>0.655468</td>\n",
       "      <td>1.173457</td>\n",
       "    </tr>\n",
       "  </tbody>\n",
       "</table>\n",
       "</div>"
      ],
      "text/plain": [
       "   Recall@5  Unpopularity@5  Unpopularity2@5  F1-score@5  F1-score2@5  \\\n",
       "0    0.1291        0.813086         5.220916    0.172774     0.233454   \n",
       "\n",
       "   Recall@10  Unpopularity@10  Unpopularity2@10  F1-score@10  F1-score2@10  \\\n",
       "0   0.413713         0.694814          4.063573     0.431728      0.706336   \n",
       "\n",
       "   Recall@50  Unpopularity@50  Unpopularity2@50  F1-score@50  F1-score2@50  \n",
       "0   0.652755         0.838368          7.868684     0.655468      1.173457  "
      ]
     },
     "metadata": {},
     "output_type": "display_data"
    },
    {
     "name": "stdout",
     "output_type": "stream",
     "text": [
      "search_range=20\n"
     ]
    },
    {
     "data": {
      "text/html": [
       "<div>\n",
       "<style scoped>\n",
       "    .dataframe tbody tr th:only-of-type {\n",
       "        vertical-align: middle;\n",
       "    }\n",
       "\n",
       "    .dataframe tbody tr th {\n",
       "        vertical-align: top;\n",
       "    }\n",
       "\n",
       "    .dataframe thead th {\n",
       "        text-align: right;\n",
       "    }\n",
       "</style>\n",
       "<table border=\"1\" class=\"dataframe\">\n",
       "  <thead>\n",
       "    <tr style=\"text-align: right;\">\n",
       "      <th></th>\n",
       "      <th>Recall@5</th>\n",
       "      <th>Unpopularity@5</th>\n",
       "      <th>Unpopularity2@5</th>\n",
       "      <th>F1-score@5</th>\n",
       "      <th>F1-score2@5</th>\n",
       "      <th>Recall@10</th>\n",
       "      <th>Unpopularity@10</th>\n",
       "      <th>Unpopularity2@10</th>\n",
       "      <th>F1-score@10</th>\n",
       "      <th>F1-score2@10</th>\n",
       "      <th>Recall@50</th>\n",
       "      <th>Unpopularity@50</th>\n",
       "      <th>Unpopularity2@50</th>\n",
       "      <th>F1-score@50</th>\n",
       "      <th>F1-score2@50</th>\n",
       "    </tr>\n",
       "  </thead>\n",
       "  <tbody>\n",
       "    <tr>\n",
       "      <th>0</th>\n",
       "      <td>0.099227</td>\n",
       "      <td>0.840053</td>\n",
       "      <td>5.72008</td>\n",
       "      <td>0.141231</td>\n",
       "      <td>0.181786</td>\n",
       "      <td>0.329564</td>\n",
       "      <td>0.731279</td>\n",
       "      <td>4.643499</td>\n",
       "      <td>0.375719</td>\n",
       "      <td>0.576547</td>\n",
       "      <td>0.730345</td>\n",
       "      <td>0.815277</td>\n",
       "      <td>7.449296</td>\n",
       "      <td>0.711313</td>\n",
       "      <td>1.305175</td>\n",
       "    </tr>\n",
       "  </tbody>\n",
       "</table>\n",
       "</div>"
      ],
      "text/plain": [
       "   Recall@5  Unpopularity@5  Unpopularity2@5  F1-score@5  F1-score2@5  \\\n",
       "0  0.099227        0.840053          5.72008    0.141231     0.181786   \n",
       "\n",
       "   Recall@10  Unpopularity@10  Unpopularity2@10  F1-score@10  F1-score2@10  \\\n",
       "0   0.329564         0.731279          4.643499     0.375719      0.576547   \n",
       "\n",
       "   Recall@50  Unpopularity@50  Unpopularity2@50  F1-score@50  F1-score2@50  \n",
       "0   0.730345         0.815277          7.449296     0.711313      1.305175  "
      ]
     },
     "metadata": {},
     "output_type": "display_data"
    },
    {
     "name": "stdout",
     "output_type": "stream",
     "text": [
      "search_range=25\n"
     ]
    },
    {
     "data": {
      "text/html": [
       "<div>\n",
       "<style scoped>\n",
       "    .dataframe tbody tr th:only-of-type {\n",
       "        vertical-align: middle;\n",
       "    }\n",
       "\n",
       "    .dataframe tbody tr th {\n",
       "        vertical-align: top;\n",
       "    }\n",
       "\n",
       "    .dataframe thead th {\n",
       "        text-align: right;\n",
       "    }\n",
       "</style>\n",
       "<table border=\"1\" class=\"dataframe\">\n",
       "  <thead>\n",
       "    <tr style=\"text-align: right;\">\n",
       "      <th></th>\n",
       "      <th>Recall@5</th>\n",
       "      <th>Unpopularity@5</th>\n",
       "      <th>Unpopularity2@5</th>\n",
       "      <th>F1-score@5</th>\n",
       "      <th>F1-score2@5</th>\n",
       "      <th>Recall@10</th>\n",
       "      <th>Unpopularity@10</th>\n",
       "      <th>Unpopularity2@10</th>\n",
       "      <th>F1-score@10</th>\n",
       "      <th>F1-score2@10</th>\n",
       "      <th>Recall@50</th>\n",
       "      <th>Unpopularity@50</th>\n",
       "      <th>Unpopularity2@50</th>\n",
       "      <th>F1-score@50</th>\n",
       "      <th>F1-score2@50</th>\n",
       "    </tr>\n",
       "  </thead>\n",
       "  <tbody>\n",
       "    <tr>\n",
       "      <th>0</th>\n",
       "      <td>0.081235</td>\n",
       "      <td>0.858358</td>\n",
       "      <td>6.093737</td>\n",
       "      <td>0.120239</td>\n",
       "      <td>0.150074</td>\n",
       "      <td>0.272316</td>\n",
       "      <td>0.760898</td>\n",
       "      <td>5.119402</td>\n",
       "      <td>0.328912</td>\n",
       "      <td>0.483326</td>\n",
       "      <td>0.783743</td>\n",
       "      <td>0.79634</td>\n",
       "      <td>7.080356</td>\n",
       "      <td>0.744843</td>\n",
       "      <td>1.391695</td>\n",
       "    </tr>\n",
       "  </tbody>\n",
       "</table>\n",
       "</div>"
      ],
      "text/plain": [
       "   Recall@5  Unpopularity@5  Unpopularity2@5  F1-score@5  F1-score2@5  \\\n",
       "0  0.081235        0.858358         6.093737    0.120239     0.150074   \n",
       "\n",
       "   Recall@10  Unpopularity@10  Unpopularity2@10  F1-score@10  F1-score2@10  \\\n",
       "0   0.272316         0.760898          5.119402     0.328912      0.483326   \n",
       "\n",
       "   Recall@50  Unpopularity@50  Unpopularity2@50  F1-score@50  F1-score2@50  \n",
       "0   0.783743          0.79634          7.080356     0.744843      1.391695  "
      ]
     },
     "metadata": {},
     "output_type": "display_data"
    },
    {
     "name": "stdout",
     "output_type": "stream",
     "text": [
      "search_range=30\n"
     ]
    },
    {
     "data": {
      "text/html": [
       "<div>\n",
       "<style scoped>\n",
       "    .dataframe tbody tr th:only-of-type {\n",
       "        vertical-align: middle;\n",
       "    }\n",
       "\n",
       "    .dataframe tbody tr th {\n",
       "        vertical-align: top;\n",
       "    }\n",
       "\n",
       "    .dataframe thead th {\n",
       "        text-align: right;\n",
       "    }\n",
       "</style>\n",
       "<table border=\"1\" class=\"dataframe\">\n",
       "  <thead>\n",
       "    <tr style=\"text-align: right;\">\n",
       "      <th></th>\n",
       "      <th>Recall@5</th>\n",
       "      <th>Unpopularity@5</th>\n",
       "      <th>Unpopularity2@5</th>\n",
       "      <th>F1-score@5</th>\n",
       "      <th>F1-score2@5</th>\n",
       "      <th>Recall@10</th>\n",
       "      <th>Unpopularity@10</th>\n",
       "      <th>Unpopularity2@10</th>\n",
       "      <th>F1-score@10</th>\n",
       "      <th>F1-score2@10</th>\n",
       "      <th>Recall@50</th>\n",
       "      <th>Unpopularity@50</th>\n",
       "      <th>Unpopularity2@50</th>\n",
       "      <th>F1-score@50</th>\n",
       "      <th>F1-score2@50</th>\n",
       "    </tr>\n",
       "  </thead>\n",
       "  <tbody>\n",
       "    <tr>\n",
       "      <th>0</th>\n",
       "      <td>0.069528</td>\n",
       "      <td>0.871591</td>\n",
       "      <td>6.382876</td>\n",
       "      <td>0.105493</td>\n",
       "      <td>0.129042</td>\n",
       "      <td>0.232761</td>\n",
       "      <td>0.78381</td>\n",
       "      <td>5.500482</td>\n",
       "      <td>0.292811</td>\n",
       "      <td>0.417248</td>\n",
       "      <td>0.820781</td>\n",
       "      <td>0.780972</td>\n",
       "      <td>6.757517</td>\n",
       "      <td>0.765321</td>\n",
       "      <td>1.447906</td>\n",
       "    </tr>\n",
       "  </tbody>\n",
       "</table>\n",
       "</div>"
      ],
      "text/plain": [
       "   Recall@5  Unpopularity@5  Unpopularity2@5  F1-score@5  F1-score2@5  \\\n",
       "0  0.069528        0.871591         6.382876    0.105493     0.129042   \n",
       "\n",
       "   Recall@10  Unpopularity@10  Unpopularity2@10  F1-score@10  F1-score2@10  \\\n",
       "0   0.232761          0.78381          5.500482     0.292811      0.417248   \n",
       "\n",
       "   Recall@50  Unpopularity@50  Unpopularity2@50  F1-score@50  F1-score2@50  \n",
       "0   0.820781         0.780972          6.757517     0.765321      1.447906  "
      ]
     },
     "metadata": {},
     "output_type": "display_data"
    }
   ],
   "source": [
    "re_mpcmp_li = []\n",
    "for search_range in search_ranges:\n",
    "    print(f'search_range={search_range}')\n",
    "    mp = searches.Mymp(model, search_range)\n",
    "    trainer.valid(mp, userwise)\n",
    "    re = trainer.valid_scores.copy()\n",
    "    display(re)\n",
    "    re_mpcmp_li.append(re)"
   ]
  },
  {
   "cell_type": "markdown",
   "id": "bf2d2471-6104-45d6-aac0-7b5905151696",
   "metadata": {},
   "source": [
    "### Recall"
   ]
  },
  {
   "cell_type": "code",
   "execution_count": 16,
   "id": "3d1bf366-68cc-41fe-af49-ed2415e8783c",
   "metadata": {},
   "outputs": [
    {
     "data": {
      "image/png": "[encoded data removed]",
      "text/plain": [
       "<Figure size 640x480 with 1 Axes>"
      ]
     },
     "metadata": {},
     "output_type": "display_data"
    }
   ],
   "source": [
    "re_recall = []\n",
    "for re in re_mpcmp_li:\n",
    "    re_recall.append(re.iloc[-1, 7])\n",
    "plt.plot(search_ranges, re_recall, marker='x')\n",
    "plt.xticks(search_ranges)\n",
    "plt.title('Effect of search_range on Recall (k=10)')\n",
    "plt.xlabel('search_range')\n",
    "plt.ylabel('Recall')\n",
    "plt.axhline(y=re_base.iloc[-1, 7], color='r', linestyle='-')\n",
    "plt.axhline(y=re_no_training.iloc[-1, 7], color='g', linestyle='-')\n",
    "plt.show()"
   ]
  },
  {
   "cell_type": "markdown",
   "id": "c7c18e23-ad9c-4e0e-8525-4ad0a3cc75fd",
   "metadata": {},
   "source": [
    "### Unpopularity"
   ]
  },
  {
   "cell_type": "code",
   "execution_count": 17,
   "id": "21ae7f24-e9a6-489e-a9f9-e4168fd29721",
   "metadata": {
    "tags": []
   },
   "outputs": [
    {
     "data": {
      "image/png": "[encoded data removed]",
      "text/plain": [
       "<Figure size 640x480 with 1 Axes>"
      ]
     },
     "metadata": {},
     "output_type": "display_data"
    }
   ],
   "source": [
    "re_unpopularity = []\n",
    "for re in re_mpcmp_li:\n",
    "    re_unpopularity.append(re.iloc[-1, 8])\n",
    "plt.plot(search_ranges, re_unpopularity, marker='x')\n",
    "plt.xticks(search_ranges)\n",
    "plt.title('Effect of search_range on Unpopularity (k=10)')\n",
    "plt.xlabel('search_range')\n",
    "plt.ylabel('Unpopularity')\n",
    "plt.axhline(y=re_base.iloc[-1, 8], color='r', linestyle='-')\n",
    "plt.axhline(y=re_no_training.iloc[-1, 8], color='g', linestyle='-')\n",
    "plt.show()"
   ]
  },
  {
   "cell_type": "markdown",
   "id": "db6785d7-8780-4c32-81d0-41edb3255318",
   "metadata": {},
   "source": [
    "### Unpopularity2"
   ]
  },
  {
   "cell_type": "code",
   "execution_count": 19,
   "id": "a2d8b6b6-74d3-47c5-bf62-061e8c56f513",
   "metadata": {
    "tags": []
   },
   "outputs": [
    {
     "data": {
      "image/png": "[encoded data removed]",
      "text/plain": [
       "<Figure size 640x480 with 1 Axes>"
      ]
     },
     "metadata": {},
     "output_type": "display_data"
    }
   ],
   "source": [
    "re_unpopularity2 = []\n",
    "for re in re_mpcmp_li:\n",
    "    re_unpopularity2.append(re.iloc[-1, 9])\n",
    "plt.plot(search_ranges, re_unpopularity2, marker='x')\n",
    "plt.xticks(search_ranges)\n",
    "plt.title('Effect of search_range on Unpopularity2 (k=10)')\n",
    "plt.xlabel('search_range')\n",
    "plt.ylabel('Unpopularity')\n",
    "plt.axhline(y=re_base.iloc[-1, 9], color='r', linestyle='-')\n",
    "plt.axhline(y=re_no_training.iloc[-1, 9], color='g', linestyle='-')\n",
    "plt.show()"
   ]
  },
  {
   "cell_type": "markdown",
   "id": "ee59fd83-d325-4764-8c86-c7858521b60f",
   "metadata": {},
   "source": [
    "### Unpopularity3"
   ]
  },
  {
   "cell_type": "code",
   "execution_count": null,
   "id": "8d12552f-a691-419c-bbc5-6be9d3ccab49",
   "metadata": {},
   "outputs": [],
   "source": [
    "re_unpopularity3 = []\n",
    "for re in re_mpcmp_li:\n",
    "    re_unpopularity3.append(re.iloc[-1, 10])\n",
    "plt.plot(search_ranges, re_unpopularity3, marker='x')\n",
    "plt.xticks(search_ranges)\n",
    "plt.title('Effect of search_range on Unpopularity3 (k=10)')\n",
    "plt.xlabel('search_range')\n",
    "plt.ylabel('Unpopularity')\n",
    "plt.axhline(y=re_base.iloc[-1, 10], color='r', linestyle='-')\n",
    "plt.axhline(y=re_no_training.iloc[-1, 10], color='g', linestyle='-')\n",
    "plt.show()"
   ]
  },
  {
   "cell_type": "markdown",
   "id": "120e9143-ff20-4a52-9284-c7c1bb7b9f03",
   "metadata": {},
   "source": [
    "### F1-score"
   ]
  },
  {
   "cell_type": "code",
   "execution_count": 20,
   "id": "a9d08aac-1bcd-4680-b826-ba649d0aedad",
   "metadata": {
    "tags": []
   },
   "outputs": [
    {
     "data": {
      "image/png": "[encoded data removed]",
      "text/plain": [
       "<Figure size 640x480 with 1 Axes>"
      ]
     },
     "metadata": {},
     "output_type": "display_data"
    }
   ],
   "source": [
    "re_f1_score = []\n",
    "for re in re_mpcmp_li:\n",
    "    re_f1_score.append(re.iloc[-1, 11])\n",
    "plt.plot(search_ranges, re_f1_score, marker='x')\n",
    "plt.xticks(search_ranges)\n",
    "plt.title('Effect of search_range on F1-score (k=10)')\n",
    "plt.xlabel('search_range')\n",
    "plt.ylabel('F1-score')\n",
    "plt.axhline(y=re_base.iloc[-1, 11], color='r', linestyle='-')\n",
    "plt.axhline(y=re_no_training.iloc[-1, 11], color='g', linestyle='-')\n",
    "plt.show()"
   ]
  },
  {
   "cell_type": "markdown",
   "id": "200ac486-8dea-4fae-8a55-89a14dadd8b3",
   "metadata": {
    "tags": []
   },
   "source": [
    "### F1-score2"
   ]
  },
  {
   "cell_type": "code",
   "execution_count": 23,
   "id": "46360712-d363-4282-bd64-9a7c0aa6a52e",
   "metadata": {
    "tags": []
   },
   "outputs": [
    {
     "data": {
      "image/png": "[encoded data removed]",
      "text/plain": [
       "<Figure size 640x480 with 1 Axes>"
      ]
     },
     "metadata": {},
     "output_type": "display_data"
    }
   ],
   "source": [
    "re_f1_score2 = []\n",
    "for re in re_mpcmp_li:\n",
    "    re_f1_score2.append(re.iloc[-1, 11])\n",
    "plt.plot(search_ranges, re_f1_score2, marker='x')\n",
    "plt.xticks(search_ranges)\n",
    "plt.title('Effect of search_range on F1-score2 (k=10)')\n",
    "plt.xlabel('search_range')\n",
    "plt.ylabel('F1-score2')\n",
    "plt.axhline(y=re_base.iloc[-1, 11], color='r', linestyle='-')\n",
    "plt.axhline(y=re_no_training.iloc[-1, 11], color='g', linestyle='-')\n",
    "plt.show()"
   ]
  },
  {
   "cell_type": "markdown",
   "id": "cb770fb9-6b94-40ce-9e01-cb06c3127623",
   "metadata": {},
   "source": [
    "### F1-score3"
   ]
  },
  {
   "cell_type": "code",
   "execution_count": null,
   "id": "06681d78-b875-4cfb-b8f3-adc7361e7c51",
   "metadata": {},
   "outputs": [],
   "source": [
    "re_f1_score3 = []\n",
    "for re in re_mpcmp_li:\n",
    "    re_f1_score3.append(re.iloc[-1, 12])\n",
    "plt.plot(search_ranges, re_f1_score3, marker='x')\n",
    "plt.xticks(search_ranges)\n",
    "plt.title('Effect of search_range on F1-score3 (k=10)')\n",
    "plt.xlabel('search_range')\n",
    "plt.ylabel('F1-score3')\n",
    "plt.axhline(y=re_base.iloc[-1, 12], color='r', linestyle='-')\n",
    "plt.axhline(y=re_no_training.iloc[-1, 12], color='g', linestyle='-')\n",
    "plt.show()"
   ]
  }
 ],
 "metadata": {
  "kernelspec": {
   "display_name": "bachelor2",
   "language": "python",
   "name": "bachelor2"
  },
  "language_info": {
   "codemirror_mode": {
    "name": "ipython",
    "version": 3
   },
   "file_extension": ".py",
   "mimetype": "text/x-python",
   "name": "python",
   "nbconvert_exporter": "python",
   "pygments_lexer": "ipython3",
   "version": "3.8.17"
  }
 },
 "nbformat": 4,
 "nbformat_minor": 5
}
