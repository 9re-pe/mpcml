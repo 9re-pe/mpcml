{
 "cells": [
  {
   "cell_type": "markdown",
   "id": "d2a48031-491b-49ff-8899-4e2b2755584d",
   "metadata": {
    "tags": []
   },
   "source": [
    "# Import"
   ]
  },
  {
   "cell_type": "code",
   "execution_count": 1,
   "id": "4b3f4f0b-e5fe-4e01-a088-8633a9a32a9c",
   "metadata": {
    "tags": []
   },
   "outputs": [],
   "source": [
    "import sys\n",
    "\n",
    "root_dir = '../../'\n",
    "if root_dir not in sys.path:\n",
    "    sys.path.append(root_dir)\n",
    "\n",
    "import torch\n",
    "from torch import nn, optim\n",
    "import numpy as np\n",
    "from sklearn.decomposition import TruncatedSVD\n",
    "from scipy.sparse import csr_matrix\n",
    "\n",
    "from modules import losses, models, samplers, regularizers, evaluators, trainers, datasets, distributions"
   ]
  },
  {
   "cell_type": "markdown",
   "id": "26c764ee-b02d-4c63-bfe8-f3761caeca83",
   "metadata": {
    "tags": []
   },
   "source": [
    "# DataSet"
   ]
  },
  {
   "cell_type": "code",
   "execution_count": 2,
   "id": "0b0f76a4-6de1-441e-95bf-3cbce34ba7b4",
   "metadata": {
    "tags": []
   },
   "outputs": [],
   "source": [
    "dataset = datasets.ML100k()\n",
    "n_user = dataset.n_user\n",
    "n_item = dataset.n_item\n",
    "train_set, test_set = dataset.get_train_and_test_set()\n",
    "\n",
    "# device setting\n",
    "device = torch.device(\"cuda:0\" if torch.cuda.is_available() else \"cpu\")\n",
    "train_set = torch.LongTensor(train_set).to(device)\n",
    "test_set = torch.LongTensor(test_set).to(device)"
   ]
  },
  {
   "cell_type": "markdown",
   "id": "e5890c22-5a53-4954-b3c1-a7f0c92c4977",
   "metadata": {
    "tags": []
   },
   "source": [
    "# Evaluator"
   ]
  },
  {
   "cell_type": "code",
   "execution_count": 3,
   "id": "32edd550-d71b-49d8-9410-e80bafc8cbd5",
   "metadata": {
    "tags": []
   },
   "outputs": [],
   "source": [
    "ks = [5, 10, 50]\n",
    "recall = evaluators.RecallEvaluator(test_set, ks)"
   ]
  },
  {
   "cell_type": "markdown",
   "id": "e7f08835-4edb-4111-8a66-2015442516fd",
   "metadata": {
    "tags": []
   },
   "source": [
    "# Sampler"
   ]
  },
  {
   "cell_type": "code",
   "execution_count": 4,
   "id": "bb75d206-b691-4cbe-b616-fc37cad91993",
   "metadata": {
    "tags": []
   },
   "outputs": [],
   "source": [
    "sampler = samplers.BaseSampler(train_set, n_user, n_item, device=device, strict_negative=False)"
   ]
  },
  {
   "cell_type": "markdown",
   "id": "3f817d5f-625f-468e-ba87-80cb4f962c77",
   "metadata": {
    "tags": []
   },
   "source": [
    "# Model"
   ]
  },
  {
   "cell_type": "code",
   "execution_count": 5,
   "id": "845147ca-242a-44c6-9a74-a1c0e624f37b",
   "metadata": {
    "tags": []
   },
   "outputs": [],
   "source": [
    "# Hyperparameters\n",
    "lr = 1e-3\n",
    "n_dim = 10\n",
    "n_batch = 256\n",
    "n_epoch = 50\n",
    "valid_per_epoch = 10\n",
    "n_item_sample = 30\n",
    "n_user_sample = 30\n",
    "no_progressbar = True\n",
    "\n",
    "# distributiuons\n",
    "# dist1 = distributions.Empirical()\n",
    "dist2 = distributions.Gaussian()\n",
    "dist3 = distributions.Gamma()\n",
    "\n",
    "# models\n",
    "model0 = models.CollaborativeMetricLearning(n_user, n_item, n_dim).to(device)\n",
    "# model1 = models.MutualProximityCML(n_user, n_item, dist1, n_dim, n_item_sample, n_user_sample).to(device)\n",
    "model2 = models.MutualProximityCML(n_user, n_item, dist2, n_dim, n_item_sample, n_user_sample).to(device)\n",
    "model3 = models.MutualProximityCML(n_user, n_item, dist3, n_dim, n_item_sample, n_user_sample).to(device)\n",
    "\n",
    "# learning late optimizer\n",
    "optimizer0 = optim.Adam(model0.parameters(), lr=lr)\n",
    "optimizer1 = optim.Adam(model1.parameters(), lr=lr)\n",
    "optimizer2 = optim.Adam(model2.parameters(), lr=lr)\n",
    "optimizer3 = optim.Adam(model3.parameters(), lr=lr)\n",
    "\n",
    "# loss function\n",
    "criterion = losses.SumTripletLoss(margin=1).to(device)\n",
    "\n",
    "# trainer\n",
    "trainer0 = trainers.BaseTrainer(model0, optimizer0, criterion, sampler, no_progressbar)\n",
    "trainer1 = trainers.BaseTrainer(model1, optimizer1, criterion, sampler, no_progressbar)\n",
    "trainer2 = trainers.BaseTrainer(model2, optimizer2, criterion, sampler, no_progressbar)\n",
    "trainer3 = trainers.BaseTrainer(model3, optimizer3, criterion, sampler, no_progressbar)"
   ]
  },
  {
   "cell_type": "markdown",
   "id": "530e0738-4912-4f4c-8806-311fb0374054",
   "metadata": {
    "tags": []
   },
   "source": [
    "# Base CML"
   ]
  },
  {
   "cell_type": "code",
   "execution_count": 6,
   "id": "8e020304-6dbc-490d-8ba7-123073e3c6fb",
   "metadata": {},
   "outputs": [],
   "source": [
    "trainer0.fit(n_batch, n_epoch, recall, valid_per_epoch)"
   ]
  },
  {
   "cell_type": "code",
   "execution_count": 7,
   "id": "8c83b363-3189-4322-a97d-9478e149659b",
   "metadata": {},
   "outputs": [
    {
     "data": {
      "text/html": [
       "<div>\n",
       "<style scoped>\n",
       "    .dataframe tbody tr th:only-of-type {\n",
       "        vertical-align: middle;\n",
       "    }\n",
       "\n",
       "    .dataframe tbody tr th {\n",
       "        vertical-align: top;\n",
       "    }\n",
       "\n",
       "    .dataframe thead th {\n",
       "        text-align: right;\n",
       "    }\n",
       "</style>\n",
       "<table border=\"1\" class=\"dataframe\">\n",
       "  <thead>\n",
       "    <tr style=\"text-align: right;\">\n",
       "      <th></th>\n",
       "      <th>Recall@5</th>\n",
       "      <th>Recall@10</th>\n",
       "      <th>Recall@50</th>\n",
       "      <th>epoch</th>\n",
       "      <th>losses</th>\n",
       "    </tr>\n",
       "  </thead>\n",
       "  <tbody>\n",
       "    <tr>\n",
       "      <th>0</th>\n",
       "      <td>0.061124</td>\n",
       "      <td>0.125026</td>\n",
       "      <td>0.524287</td>\n",
       "      <td>0</td>\n",
       "      <td>NaN</td>\n",
       "    </tr>\n",
       "    <tr>\n",
       "      <th>0</th>\n",
       "      <td>0.209908</td>\n",
       "      <td>0.389403</td>\n",
       "      <td>0.815938</td>\n",
       "      <td>10</td>\n",
       "      <td>0.463673</td>\n",
       "    </tr>\n",
       "    <tr>\n",
       "      <th>0</th>\n",
       "      <td>0.344400</td>\n",
       "      <td>0.506366</td>\n",
       "      <td>0.855992</td>\n",
       "      <td>20</td>\n",
       "      <td>0.298063</td>\n",
       "    </tr>\n",
       "    <tr>\n",
       "      <th>0</th>\n",
       "      <td>0.381885</td>\n",
       "      <td>0.547917</td>\n",
       "      <td>0.876374</td>\n",
       "      <td>30</td>\n",
       "      <td>0.254923</td>\n",
       "    </tr>\n",
       "    <tr>\n",
       "      <th>0</th>\n",
       "      <td>0.396044</td>\n",
       "      <td>0.558414</td>\n",
       "      <td>0.882871</td>\n",
       "      <td>40</td>\n",
       "      <td>0.242846</td>\n",
       "    </tr>\n",
       "    <tr>\n",
       "      <th>0</th>\n",
       "      <td>0.400338</td>\n",
       "      <td>0.565996</td>\n",
       "      <td>0.887396</td>\n",
       "      <td>50</td>\n",
       "      <td>0.236934</td>\n",
       "    </tr>\n",
       "  </tbody>\n",
       "</table>\n",
       "</div>"
      ],
      "text/plain": [
       "   Recall@5  Recall@10  Recall@50  epoch    losses\n",
       "0  0.061124   0.125026   0.524287      0       NaN\n",
       "0  0.209908   0.389403   0.815938     10  0.463673\n",
       "0  0.344400   0.506366   0.855992     20  0.298063\n",
       "0  0.381885   0.547917   0.876374     30  0.254923\n",
       "0  0.396044   0.558414   0.882871     40  0.242846\n",
       "0  0.400338   0.565996   0.887396     50  0.236934"
      ]
     },
     "execution_count": 7,
     "metadata": {},
     "output_type": "execute_result"
    }
   ],
   "source": [
    "# CML\n",
    "trainer0.valid_scores"
   ]
  },
  {
   "cell_type": "markdown",
   "id": "c2ce0375-bd79-49df-b539-5d048c7dea13",
   "metadata": {
    "tags": []
   },
   "source": [
    "# Gaussian"
   ]
  },
  {
   "cell_type": "code",
   "execution_count": 9,
   "id": "4cafda5d-624f-4ea4-bed4-51a559456c40",
   "metadata": {},
   "outputs": [],
   "source": [
    "trainer2.fit(n_batch, n_epoch, recall, valid_per_epoch)"
   ]
  },
  {
   "cell_type": "code",
   "execution_count": 10,
   "id": "e98585ca-aaa4-4336-bb6e-db09750ae69e",
   "metadata": {},
   "outputs": [
    {
     "data": {
      "text/html": [
       "<div>\n",
       "<style scoped>\n",
       "    .dataframe tbody tr th:only-of-type {\n",
       "        vertical-align: middle;\n",
       "    }\n",
       "\n",
       "    .dataframe tbody tr th {\n",
       "        vertical-align: top;\n",
       "    }\n",
       "\n",
       "    .dataframe thead th {\n",
       "        text-align: right;\n",
       "    }\n",
       "</style>\n",
       "<table border=\"1\" class=\"dataframe\">\n",
       "  <thead>\n",
       "    <tr style=\"text-align: right;\">\n",
       "      <th></th>\n",
       "      <th>Recall@5</th>\n",
       "      <th>Recall@10</th>\n",
       "      <th>Recall@50</th>\n",
       "      <th>epoch</th>\n",
       "      <th>losses</th>\n",
       "    </tr>\n",
       "  </thead>\n",
       "  <tbody>\n",
       "    <tr>\n",
       "      <th>0</th>\n",
       "      <td>0.060856</td>\n",
       "      <td>0.115124</td>\n",
       "      <td>0.515601</td>\n",
       "      <td>0</td>\n",
       "      <td>NaN</td>\n",
       "    </tr>\n",
       "    <tr>\n",
       "      <th>0</th>\n",
       "      <td>0.074680</td>\n",
       "      <td>0.149914</td>\n",
       "      <td>0.701594</td>\n",
       "      <td>10</td>\n",
       "      <td>0.465648</td>\n",
       "    </tr>\n",
       "    <tr>\n",
       "      <th>0</th>\n",
       "      <td>0.225349</td>\n",
       "      <td>0.362551</td>\n",
       "      <td>0.789108</td>\n",
       "      <td>20</td>\n",
       "      <td>0.304078</td>\n",
       "    </tr>\n",
       "    <tr>\n",
       "      <th>0</th>\n",
       "      <td>0.274630</td>\n",
       "      <td>0.426530</td>\n",
       "      <td>0.822549</td>\n",
       "      <td>30</td>\n",
       "      <td>0.258897</td>\n",
       "    </tr>\n",
       "    <tr>\n",
       "      <th>0</th>\n",
       "      <td>0.285588</td>\n",
       "      <td>0.444495</td>\n",
       "      <td>0.833560</td>\n",
       "      <td>40</td>\n",
       "      <td>0.243197</td>\n",
       "    </tr>\n",
       "    <tr>\n",
       "      <th>0</th>\n",
       "      <td>0.297883</td>\n",
       "      <td>0.452077</td>\n",
       "      <td>0.836460</td>\n",
       "      <td>50</td>\n",
       "      <td>0.236131</td>\n",
       "    </tr>\n",
       "  </tbody>\n",
       "</table>\n",
       "</div>"
      ],
      "text/plain": [
       "   Recall@5  Recall@10  Recall@50  epoch    losses\n",
       "0  0.060856   0.115124   0.515601      0       NaN\n",
       "0  0.074680   0.149914   0.701594     10  0.465648\n",
       "0  0.225349   0.362551   0.789108     20  0.304078\n",
       "0  0.274630   0.426530   0.822549     30  0.258897\n",
       "0  0.285588   0.444495   0.833560     40  0.243197\n",
       "0  0.297883   0.452077   0.836460     50  0.236131"
      ]
     },
     "execution_count": 10,
     "metadata": {},
     "output_type": "execute_result"
    }
   ],
   "source": [
    "trainer2.valid_scores"
   ]
  },
  {
   "cell_type": "markdown",
   "id": "2be3a7a2-c2d2-469d-9670-31c319d4d98e",
   "metadata": {
    "tags": []
   },
   "source": [
    "# Gamma"
   ]
  },
  {
   "cell_type": "code",
   "execution_count": 11,
   "id": "d448518e-35f9-4b78-b7f0-0dd05f38cbb8",
   "metadata": {
    "tags": []
   },
   "outputs": [],
   "source": [
    "trainer3.fit(n_batch, n_epoch, recall, valid_per_epoch)"
   ]
  },
  {
   "cell_type": "code",
   "execution_count": 12,
   "id": "1cad8bbe-44ed-4d3d-bb25-a10707993a28",
   "metadata": {
    "tags": []
   },
   "outputs": [
    {
     "data": {
      "text/html": [
       "<div>\n",
       "<style scoped>\n",
       "    .dataframe tbody tr th:only-of-type {\n",
       "        vertical-align: middle;\n",
       "    }\n",
       "\n",
       "    .dataframe tbody tr th {\n",
       "        vertical-align: top;\n",
       "    }\n",
       "\n",
       "    .dataframe thead th {\n",
       "        text-align: right;\n",
       "    }\n",
       "</style>\n",
       "<table border=\"1\" class=\"dataframe\">\n",
       "  <thead>\n",
       "    <tr style=\"text-align: right;\">\n",
       "      <th></th>\n",
       "      <th>Recall@5</th>\n",
       "      <th>Recall@10</th>\n",
       "      <th>Recall@50</th>\n",
       "      <th>epoch</th>\n",
       "      <th>losses</th>\n",
       "    </tr>\n",
       "  </thead>\n",
       "  <tbody>\n",
       "    <tr>\n",
       "      <th>0</th>\n",
       "      <td>0.064113</td>\n",
       "      <td>0.123277</td>\n",
       "      <td>0.525100</td>\n",
       "      <td>0</td>\n",
       "      <td>NaN</td>\n",
       "    </tr>\n",
       "    <tr>\n",
       "      <th>0</th>\n",
       "      <td>0.080098</td>\n",
       "      <td>0.189539</td>\n",
       "      <td>0.749208</td>\n",
       "      <td>10</td>\n",
       "      <td>0.465306</td>\n",
       "    </tr>\n",
       "    <tr>\n",
       "      <th>0</th>\n",
       "      <td>0.232996</td>\n",
       "      <td>0.392351</td>\n",
       "      <td>0.816009</td>\n",
       "      <td>20</td>\n",
       "      <td>0.303209</td>\n",
       "    </tr>\n",
       "    <tr>\n",
       "      <th>0</th>\n",
       "      <td>0.286423</td>\n",
       "      <td>0.451806</td>\n",
       "      <td>0.840743</td>\n",
       "      <td>30</td>\n",
       "      <td>0.256463</td>\n",
       "    </tr>\n",
       "    <tr>\n",
       "      <th>0</th>\n",
       "      <td>0.314927</td>\n",
       "      <td>0.475217</td>\n",
       "      <td>0.849844</td>\n",
       "      <td>40</td>\n",
       "      <td>0.243259</td>\n",
       "    </tr>\n",
       "    <tr>\n",
       "      <th>0</th>\n",
       "      <td>0.317811</td>\n",
       "      <td>0.479263</td>\n",
       "      <td>0.854333</td>\n",
       "      <td>50</td>\n",
       "      <td>0.235719</td>\n",
       "    </tr>\n",
       "  </tbody>\n",
       "</table>\n",
       "</div>"
      ],
      "text/plain": [
       "   Recall@5  Recall@10  Recall@50  epoch    losses\n",
       "0  0.064113   0.123277   0.525100      0       NaN\n",
       "0  0.080098   0.189539   0.749208     10  0.465306\n",
       "0  0.232996   0.392351   0.816009     20  0.303209\n",
       "0  0.286423   0.451806   0.840743     30  0.256463\n",
       "0  0.314927   0.475217   0.849844     40  0.243259\n",
       "0  0.317811   0.479263   0.854333     50  0.235719"
      ]
     },
     "execution_count": 12,
     "metadata": {},
     "output_type": "execute_result"
    }
   ],
   "source": [
    "trainer3.valid_scores"
   ]
  },
  {
   "cell_type": "code",
   "execution_count": null,
   "id": "6ce21eae-5eba-40ba-81ca-9ee20301518a",
   "metadata": {},
   "outputs": [],
   "source": []
  }
 ],
 "metadata": {
  "kernelspec": {
   "display_name": "bachelor2",
   "language": "python",
   "name": "bachelor2"
  },
  "language_info": {
   "codemirror_mode": {
    "name": "ipython",
    "version": 3
   },
   "file_extension": ".py",
   "mimetype": "text/x-python",
   "name": "python",
   "nbconvert_exporter": "python",
   "pygments_lexer": "ipython3",
   "version": "3.8.17"
  }
 },
 "nbformat": 4,
 "nbformat_minor": 5
}
