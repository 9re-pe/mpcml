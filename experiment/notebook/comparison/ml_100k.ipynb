{
 "cells": [
  {
   "cell_type": "markdown",
   "id": "7dac18cb-d876-44b6-9e00-e36c9089d236",
   "metadata": {},
   "source": [
    "# Import"
   ]
  },
  {
   "cell_type": "code",
   "execution_count": 1,
   "id": "ed9d9c60-6620-49e8-81b9-ad22af579e8d",
   "metadata": {},
   "outputs": [],
   "source": [
    "import sys\n",
    "import os\n",
    "from datetime import datetime\n",
    "\n",
    "root_dir = '../../../'\n",
    "if root_dir not in sys.path:\n",
    "    sys.path.append(root_dir)\n",
    "\n",
    "import torch\n",
    "from torch import optim\n",
    "import matplotlib.pyplot as plt\n",
    "import pandas as pd\n",
    "\n",
    "pd.set_option('display.max_columns', 100)\n",
    "\n",
    "from modules import losses, models, samplers, searches, regularizers, evaluators, trainers, datasets, distributions"
   ]
  },
  {
   "cell_type": "markdown",
   "id": "5eefcce6-9e0c-4f5b-8c35-e33c6baccff9",
   "metadata": {},
   "source": [
    "# Output settings"
   ]
  },
  {
   "cell_type": "code",
   "execution_count": 2,
   "id": "67cec6f7-dd75-4344-b2c6-09890897b221",
   "metadata": {},
   "outputs": [],
   "source": [
    "out_to_file = True\n",
    "out_dir = '../../out/comparison/ml_100k/'\n",
    "\n",
    "if not os.path.exists(out_dir):\n",
    "    os.makedirs(out_dir)"
   ]
  },
  {
   "cell_type": "markdown",
   "id": "7d7072aa-f146-44e0-8377-cca8ff234bc0",
   "metadata": {},
   "source": [
    "# Dataset"
   ]
  },
  {
   "cell_type": "code",
   "execution_count": 3,
   "id": "e86ae9cc-2b94-447d-b915-152a9ba0494e",
   "metadata": {},
   "outputs": [],
   "source": [
    "dataset = datasets.ML100k()\n",
    "n_user = dataset.n_user\n",
    "n_item = dataset.n_item\n",
    "n_feedback = dataset.n_pos_pairs\n",
    "train_set, test_set = dataset.get_train_and_test_set(neg_pair_weight=10)"
   ]
  },
  {
   "cell_type": "code",
   "execution_count": 4,
   "id": "762c8805-9418-46ec-afe3-a7bae19f6f53",
   "metadata": {},
   "outputs": [
    {
     "name": "stdout",
     "output_type": "stream",
     "text": [
      "n_user = 940\n",
      "n_item = 1447\n",
      "n_feedback = 55369\n"
     ]
    }
   ],
   "source": [
    "print(f'n_user = {n_user}')\n",
    "print(f'n_item = {n_item}')\n",
    "print(f'n_feedback = {n_feedback}')"
   ]
  },
  {
   "cell_type": "markdown",
   "id": "1d53a576-4151-4151-9d3c-2f6f66cf277c",
   "metadata": {
    "tags": []
   },
   "source": [
    "# Device"
   ]
  },
  {
   "cell_type": "code",
   "execution_count": 5,
   "id": "06735b88-91af-4674-9a92-929e84aa01a1",
   "metadata": {},
   "outputs": [],
   "source": [
    "device = torch.device(\"cuda:0\" if torch.cuda.is_available() else \"cpu\")\n",
    "train_set = torch.LongTensor(train_set).to(device)\n",
    "test_set = torch.FloatTensor(test_set).to(device)"
   ]
  },
  {
   "cell_type": "code",
   "execution_count": 6,
   "id": "e205f050-0112-4e49-8823-81babbd785f1",
   "metadata": {},
   "outputs": [
    {
     "name": "stdout",
     "output_type": "stream",
     "text": [
      "cuda:0\n"
     ]
    }
   ],
   "source": [
    "print(device)"
   ]
  },
  {
   "cell_type": "markdown",
   "id": "781edec3-c706-43a5-9d91-e0cb2d60c024",
   "metadata": {},
   "source": [
    "# Evaluator"
   ]
  },
  {
   "cell_type": "code",
   "execution_count": 7,
   "id": "2c87126b-82cf-489b-9d0d-878d640e2d62",
   "metadata": {},
   "outputs": [],
   "source": [
    "# The size of recommendation set (K)\n",
    "ks = [10]\n",
    "\n",
    "score_function_dict = {\n",
    "    \"Recall\"       : evaluators.recall,\n",
    "    \"Unpopularity\" : evaluators.unpopularity,\n",
    "    \"Serendipity\"  : evaluators.serendipity,\n",
    "    \"Long-tail rate\": evaluators.longtail_rate,\n",
    "}\n",
    "userwise = evaluators.UserwiseEvaluator(test_set, score_function_dict, ks)"
   ]
  },
  {
   "cell_type": "markdown",
   "id": "9d563e19-4dd3-453f-8958-79c49bead201",
   "metadata": {},
   "source": [
    "# Sampler"
   ]
  },
  {
   "cell_type": "code",
   "execution_count": 8,
   "id": "df3a8457-216e-420b-8abb-f71c139eb3a8",
   "metadata": {},
   "outputs": [],
   "source": [
    "sampler = samplers.BaseSampler(train_set, n_user, n_item, device=device, strict_negative=False)"
   ]
  },
  {
   "cell_type": "markdown",
   "id": "a17ecbab-925b-4978-a7b1-6762c98e266c",
   "metadata": {},
   "source": [
    "# Model"
   ]
  },
  {
   "cell_type": "code",
   "execution_count": 9,
   "id": "5661d266-bd6d-4cb1-a184-3706a52d8cbb",
   "metadata": {},
   "outputs": [],
   "source": [
    "# Hyperparameters\n",
    "lr = 1e-3\n",
    "n_dim = 10\n",
    "n_batch = 256\n",
    "n_epoch = 50\n",
    "no_progressbar = True\n",
    "\n",
    "model = models.CollaborativeMetricLearning(n_user, n_item, n_dim).to(device)\n",
    "optimizer = optim.Adam(model.parameters(), lr=lr)\n",
    "criterion = losses.SumTripletLoss(margin=1).to(device)\n",
    "trainer = trainers.BaseTrainer(model, optimizer, criterion, sampler, no_progressbar)"
   ]
  },
  {
   "cell_type": "markdown",
   "id": "d73cf778-2dd2-4767-9dff-61d9aa50f924",
   "metadata": {},
   "source": [
    "# Result (before training)"
   ]
  },
  {
   "cell_type": "code",
   "execution_count": 10,
   "id": "0ffe30e9-30b1-40ba-a14f-418f23c5fdd6",
   "metadata": {},
   "outputs": [],
   "source": [
    "knn = searches.NearestNeighborhood(model)"
   ]
  },
  {
   "cell_type": "code",
   "execution_count": 11,
   "id": "16fdc702-9e39-42b0-8237-3140d3f61583",
   "metadata": {},
   "outputs": [],
   "source": [
    "trainer.valid(knn, userwise)\n",
    "re_pre = trainer.valid_scores.copy()"
   ]
  },
  {
   "cell_type": "code",
   "execution_count": 12,
   "id": "bf4d1b6d-2e5e-42d7-95a1-a57169ded104",
   "metadata": {},
   "outputs": [
    {
     "data": {
      "text/html": [
       "<div>\n",
       "<style scoped>\n",
       "    .dataframe tbody tr th:only-of-type {\n",
       "        vertical-align: middle;\n",
       "    }\n",
       "\n",
       "    .dataframe tbody tr th {\n",
       "        vertical-align: top;\n",
       "    }\n",
       "\n",
       "    .dataframe thead th {\n",
       "        text-align: right;\n",
       "    }\n",
       "</style>\n",
       "<table border=\"1\" class=\"dataframe\">\n",
       "  <thead>\n",
       "    <tr style=\"text-align: right;\">\n",
       "      <th></th>\n",
       "      <th>Recall@10</th>\n",
       "      <th>Unpopularity@10</th>\n",
       "      <th>Serendipity@10</th>\n",
       "      <th>Long-tail rate@10</th>\n",
       "    </tr>\n",
       "  </thead>\n",
       "  <tbody>\n",
       "    <tr>\n",
       "      <th>0</th>\n",
       "      <td>0.122514</td>\n",
       "      <td>304.909896</td>\n",
       "      <td>2.981923</td>\n",
       "      <td>0.769787</td>\n",
       "    </tr>\n",
       "  </tbody>\n",
       "</table>\n",
       "</div>"
      ],
      "text/plain": [
       "   Recall@10  Unpopularity@10  Serendipity@10  Long-tail rate@10\n",
       "0   0.122514       304.909896        2.981923           0.769787"
      ]
     },
     "metadata": {},
     "output_type": "display_data"
    }
   ],
   "source": [
    "if out_to_file:\n",
    "    now = datetime.now()\n",
    "    file_name = now.strftime(\"pre_%Y_%m_%d_%H%M.csv\")\n",
    "    re_pre.to_csv(out_dir + file_name, index=False)\n",
    "\n",
    "display(re_pre)"
   ]
  },
  {
   "cell_type": "markdown",
   "id": "a0c3d4d8-3b92-477e-b50c-f0d7138c2650",
   "metadata": {},
   "source": [
    "# Training"
   ]
  },
  {
   "cell_type": "code",
   "execution_count": 13,
   "id": "47856841-6278-4cc9-8597-ce4ec57e0fcd",
   "metadata": {},
   "outputs": [],
   "source": [
    "trainer.fit(n_batch, n_epoch)"
   ]
  },
  {
   "cell_type": "markdown",
   "id": "67498b1b-5d4b-4816-b7d0-3add393d05bf",
   "metadata": {},
   "source": [
    "# Result"
   ]
  },
  {
   "cell_type": "markdown",
   "id": "6fd9e697-f65d-4b27-9e66-8b76e889748c",
   "metadata": {
    "tags": []
   },
   "source": [
    "## CML (Base)"
   ]
  },
  {
   "cell_type": "code",
   "execution_count": 14,
   "id": "94d99df4-89d5-4aee-9cb0-ece45cf93e30",
   "metadata": {},
   "outputs": [],
   "source": [
    "knn = searches.NearestNeighborhood(model)"
   ]
  },
  {
   "cell_type": "code",
   "execution_count": 15,
   "id": "3e0fc666-f2fc-4bd3-adc2-c7fc7c5d61fa",
   "metadata": {},
   "outputs": [],
   "source": [
    "trainer.valid(knn, userwise)\n",
    "re_base = trainer.valid_scores.copy()"
   ]
  },
  {
   "cell_type": "code",
   "execution_count": 16,
   "id": "61534fc0-5321-40b0-8dfe-e8a429bb526c",
   "metadata": {},
   "outputs": [
    {
     "data": {
      "text/html": [
       "<div>\n",
       "<style scoped>\n",
       "    .dataframe tbody tr th:only-of-type {\n",
       "        vertical-align: middle;\n",
       "    }\n",
       "\n",
       "    .dataframe tbody tr th {\n",
       "        vertical-align: top;\n",
       "    }\n",
       "\n",
       "    .dataframe thead th {\n",
       "        text-align: right;\n",
       "    }\n",
       "</style>\n",
       "<table border=\"1\" class=\"dataframe\">\n",
       "  <thead>\n",
       "    <tr style=\"text-align: right;\">\n",
       "      <th></th>\n",
       "      <th>Recall@10</th>\n",
       "      <th>Unpopularity@10</th>\n",
       "      <th>Serendipity@10</th>\n",
       "      <th>Long-tail rate@10</th>\n",
       "    </tr>\n",
       "  </thead>\n",
       "  <tbody>\n",
       "    <tr>\n",
       "      <th>0</th>\n",
       "      <td>0.568516</td>\n",
       "      <td>31.502822</td>\n",
       "      <td>7.090817</td>\n",
       "      <td>0.18234</td>\n",
       "    </tr>\n",
       "  </tbody>\n",
       "</table>\n",
       "</div>"
      ],
      "text/plain": [
       "   Recall@10  Unpopularity@10  Serendipity@10  Long-tail rate@10\n",
       "0   0.568516        31.502822        7.090817            0.18234"
      ]
     },
     "metadata": {},
     "output_type": "display_data"
    }
   ],
   "source": [
    "if out_to_file:\n",
    "    now = datetime.now()\n",
    "    file_name = now.strftime(\"base_%Y_%m_%d_%H%M.csv\")\n",
    "    re_base.to_csv(out_dir + file_name, index=False)\n",
    "\n",
    "display(re_base)"
   ]
  },
  {
   "cell_type": "markdown",
   "id": "f361de71-d304-4316-b5e8-fbcb8833607a",
   "metadata": {
    "tags": []
   },
   "source": [
    "# MPCMP"
   ]
  },
  {
   "cell_type": "code",
   "execution_count": 17,
   "id": "289a0a72-c53d-4b0a-b594-f28c7f63cd0b",
   "metadata": {},
   "outputs": [],
   "source": [
    "# Hyperparameters\n",
    "n_sample = 100\n",
    "bias_li = [0.0, 0.1, 0.2, 0.3, 0.4, 0.5, 0.6, 0.7, 0.8, 0.9, 1.0]\n",
    "gamma = distributions.Gamma()"
   ]
  },
  {
   "cell_type": "code",
   "execution_count": 18,
   "id": "0712b293-6104-4598-9236-3218ce3c5dd1",
   "metadata": {},
   "outputs": [
    {
     "name": "stdout",
     "output_type": "stream",
     "text": [
      "Prosessing... [bias = 0.0]\n",
      "Prosessing... [bias = 0.1]\n",
      "Prosessing... [bias = 0.2]\n",
      "Prosessing... [bias = 0.3]\n",
      "Prosessing... [bias = 0.4]\n",
      "Prosessing... [bias = 0.5]\n",
      "Prosessing... [bias = 0.6]\n",
      "Prosessing... [bias = 0.7]\n",
      "Prosessing... [bias = 0.8]\n",
      "Prosessing... [bias = 0.9]\n",
      "Prosessing... [bias = 1.0]\n"
     ]
    }
   ],
   "source": [
    "rows = []\n",
    "for bias in bias_li:\n",
    "    print(f'Prosessing... [bias = {bias}]')\n",
    "    \n",
    "    mp = searches.MutualProximity(model, gamma, n_sample, bias)\n",
    "    \n",
    "    trainer.valid(mp, userwise)\n",
    "    row = trainer.valid_scores.copy()\n",
    "    \n",
    "    row.insert(0, 'Bias', bias)\n",
    "    \n",
    "    rows.append(row)\n",
    "\n",
    "re_mpcml = pd.concat(rows)"
   ]
  },
  {
   "cell_type": "code",
   "execution_count": 19,
   "id": "7e75974b-f67e-4bdb-b787-3f73c4742cda",
   "metadata": {},
   "outputs": [
    {
     "data": {
      "text/html": [
       "<div>\n",
       "<style scoped>\n",
       "    .dataframe tbody tr th:only-of-type {\n",
       "        vertical-align: middle;\n",
       "    }\n",
       "\n",
       "    .dataframe tbody tr th {\n",
       "        vertical-align: top;\n",
       "    }\n",
       "\n",
       "    .dataframe thead th {\n",
       "        text-align: right;\n",
       "    }\n",
       "</style>\n",
       "<table border=\"1\" class=\"dataframe\">\n",
       "  <thead>\n",
       "    <tr style=\"text-align: right;\">\n",
       "      <th></th>\n",
       "      <th>Bias</th>\n",
       "      <th>Recall@10</th>\n",
       "      <th>Unpopularity@10</th>\n",
       "      <th>Serendipity@10</th>\n",
       "      <th>Long-tail rate@10</th>\n",
       "    </tr>\n",
       "  </thead>\n",
       "  <tbody>\n",
       "    <tr>\n",
       "      <th>0</th>\n",
       "      <td>0.0</td>\n",
       "      <td>0.355082</td>\n",
       "      <td>203.353641</td>\n",
       "      <td>10.257625</td>\n",
       "      <td>0.639255</td>\n",
       "    </tr>\n",
       "    <tr>\n",
       "      <th>0</th>\n",
       "      <td>0.1</td>\n",
       "      <td>0.399973</td>\n",
       "      <td>130.529793</td>\n",
       "      <td>9.562890</td>\n",
       "      <td>0.556702</td>\n",
       "    </tr>\n",
       "    <tr>\n",
       "      <th>0</th>\n",
       "      <td>0.2</td>\n",
       "      <td>0.429270</td>\n",
       "      <td>104.532234</td>\n",
       "      <td>9.653070</td>\n",
       "      <td>0.510851</td>\n",
       "    </tr>\n",
       "    <tr>\n",
       "      <th>0</th>\n",
       "      <td>0.3</td>\n",
       "      <td>0.451250</td>\n",
       "      <td>89.221449</td>\n",
       "      <td>9.300523</td>\n",
       "      <td>0.472021</td>\n",
       "    </tr>\n",
       "    <tr>\n",
       "      <th>0</th>\n",
       "      <td>0.4</td>\n",
       "      <td>0.468623</td>\n",
       "      <td>78.041088</td>\n",
       "      <td>9.130368</td>\n",
       "      <td>0.436702</td>\n",
       "    </tr>\n",
       "    <tr>\n",
       "      <th>0</th>\n",
       "      <td>0.5</td>\n",
       "      <td>0.481117</td>\n",
       "      <td>68.877780</td>\n",
       "      <td>9.169563</td>\n",
       "      <td>0.413191</td>\n",
       "    </tr>\n",
       "    <tr>\n",
       "      <th>0</th>\n",
       "      <td>0.6</td>\n",
       "      <td>0.497725</td>\n",
       "      <td>60.765027</td>\n",
       "      <td>9.110968</td>\n",
       "      <td>0.377447</td>\n",
       "    </tr>\n",
       "    <tr>\n",
       "      <th>0</th>\n",
       "      <td>0.7</td>\n",
       "      <td>0.511598</td>\n",
       "      <td>52.730625</td>\n",
       "      <td>8.653819</td>\n",
       "      <td>0.342660</td>\n",
       "    </tr>\n",
       "    <tr>\n",
       "      <th>0</th>\n",
       "      <td>0.8</td>\n",
       "      <td>0.525770</td>\n",
       "      <td>47.958528</td>\n",
       "      <td>8.492838</td>\n",
       "      <td>0.309468</td>\n",
       "    </tr>\n",
       "    <tr>\n",
       "      <th>0</th>\n",
       "      <td>0.9</td>\n",
       "      <td>0.544203</td>\n",
       "      <td>39.856892</td>\n",
       "      <td>8.055455</td>\n",
       "      <td>0.264043</td>\n",
       "    </tr>\n",
       "    <tr>\n",
       "      <th>0</th>\n",
       "      <td>1.0</td>\n",
       "      <td>0.568428</td>\n",
       "      <td>31.507679</td>\n",
       "      <td>7.092849</td>\n",
       "      <td>0.182447</td>\n",
       "    </tr>\n",
       "  </tbody>\n",
       "</table>\n",
       "</div>"
      ],
      "text/plain": [
       "   Bias  Recall@10  Unpopularity@10  Serendipity@10  Long-tail rate@10\n",
       "0   0.0   0.355082       203.353641       10.257625           0.639255\n",
       "0   0.1   0.399973       130.529793        9.562890           0.556702\n",
       "0   0.2   0.429270       104.532234        9.653070           0.510851\n",
       "0   0.3   0.451250        89.221449        9.300523           0.472021\n",
       "0   0.4   0.468623        78.041088        9.130368           0.436702\n",
       "0   0.5   0.481117        68.877780        9.169563           0.413191\n",
       "0   0.6   0.497725        60.765027        9.110968           0.377447\n",
       "0   0.7   0.511598        52.730625        8.653819           0.342660\n",
       "0   0.8   0.525770        47.958528        8.492838           0.309468\n",
       "0   0.9   0.544203        39.856892        8.055455           0.264043\n",
       "0   1.0   0.568428        31.507679        7.092849           0.182447"
      ]
     },
     "metadata": {},
     "output_type": "display_data"
    }
   ],
   "source": [
    "if out_to_file:\n",
    "    now = datetime.now()\n",
    "    file_name = now.strftime(\"mpcml_%Y_%m_%d_%H%M.csv\")\n",
    "    re_mpcml.to_csv(out_dir + file_name, index=False)\n",
    "\n",
    "display(re_mpcml)"
   ]
  },
  {
   "cell_type": "markdown",
   "id": "1325e652-60c2-4cc5-9bcb-ef5bbad33d74",
   "metadata": {},
   "source": [
    "## CML vs MPCML"
   ]
  },
  {
   "cell_type": "code",
   "execution_count": 20,
   "id": "b2d6ab9a-9f07-400f-843d-211e9ed59a2c",
   "metadata": {},
   "outputs": [],
   "source": [
    "# df -> list\n",
    "\n",
    "k = 10\n",
    "n_bias = len(bias_li)\n",
    "\n",
    "# Before training\n",
    "recall_pre         = re_pre[f'Recall@{k}'].tolist() * n_bias\n",
    "unpopularity_pre   = re_pre[f'Unpopularity@{k}'].tolist() * n_bias\n",
    "serndipity_pre     = re_pre[f'Serendipity@{k}'].tolist() * n_bias\n",
    "longtale_pre       = re_pre[f'Long-tail rate@{k}'].tolist() * n_bias\n",
    "\n",
    "# CML(Base)\n",
    "recall_base        = re_base[f'Recall@{k}'].tolist() * n_bias\n",
    "unpopularity_base  = re_base[f'Unpopularity@{k}'].tolist() * n_bias\n",
    "serndipity_base    = re_base[f'Serendipity@{k}'].tolist() * n_bias\n",
    "longtale_base      = re_base[f'Long-tail rate@{k}'].tolist() * n_bias\n",
    "\n",
    "# MPCML\n",
    "recall_mpcml       = re_mpcml[f'Recall@{k}'].tolist()\n",
    "unpopularity_mpcml = re_mpcml[f'Unpopularity@{k}'].tolist()\n",
    "serndipity_mpcml   = re_mpcml[f'Serendipity@{k}'].tolist()\n",
    "longtale_mpcml     = re_mpcml[f'Long-tail rate@{k}'].tolist()"
   ]
  },
  {
   "cell_type": "markdown",
   "id": "3904efb5-721e-42f2-877d-2ebf7c7dff69",
   "metadata": {},
   "source": [
    "### Recall vs Unpopularity"
   ]
  },
  {
   "cell_type": "code",
   "execution_count": 21,
   "id": "d3a124b5-d411-4c69-ad5d-927a6dd3aab5",
   "metadata": {},
   "outputs": [
    {
     "data": {
      "image/png": "[encoded data removed]",
      "text/plain": [
       "<Figure size 1000x600 with 2 Axes>"
      ]
     },
     "metadata": {},
     "output_type": "display_data"
    }
   ],
   "source": [
    "fig, ax1 = plt.subplots(figsize=(10, 6))\n",
    "\n",
    "# Recall\n",
    "line_recall_base  = ax1.plot(bias_li, recall_base,  label='Recall - CML', color='tab:blue')\n",
    "line_recall_mpcml = ax1.plot(bias_li, recall_mpcml, label='Recall - MPCML', marker='o', color='tab:blue')\n",
    "\n",
    "# Unpopularity\n",
    "ax2 = ax1.twinx()\n",
    "line_unpop_base  = ax2.plot(bias_li, unpopularity_base,  label='Unpopularity - CML', color='tab:orange')\n",
    "line_unpop_mpcml = ax2.plot(bias_li, unpopularity_mpcml, label='Unpopularity - MPCML', marker='o', color='tab:orange')\n",
    "\n",
    "ax1.set_xticks(bias_li)\n",
    "ax1.tick_params(axis='y')\n",
    "ax2.tick_params(axis='y')\n",
    "ax1.set_xlabel('Bias (α)')\n",
    "ax1.set_ylabel('Recall')\n",
    "ax2.set_ylabel('Unpopularity')\n",
    "\n",
    "lines = [line_recall_base[0], line_recall_mpcml[0], line_unpop_base[0], line_unpop_mpcml[0]]\n",
    "labels = [line.get_label() for line in lines]\n",
    "fig.legend(lines, labels, bbox_to_anchor=(0.9, 0.6))\n",
    "\n",
    "plt.grid(axis='y')\n",
    "\n",
    "if out_to_file:\n",
    "    now = datetime.now()\n",
    "    file_name = now.strftime(\"tradeoff_%Y_%m_%d_%H%M.png\")\n",
    "    plt.savefig(out_dir + file_name, bbox_inches='tight')\n",
    "\n",
    "plt.show()"
   ]
  },
  {
   "cell_type": "markdown",
   "id": "f3b5e9b3-5018-4101-86a1-e08528bf5272",
   "metadata": {},
   "source": [
    "### Serendipity"
   ]
  },
  {
   "cell_type": "code",
   "execution_count": 22,
   "id": "ad17bf55-def6-4218-b756-71cbd79c47f1",
   "metadata": {},
   "outputs": [
    {
     "data": {
      "image/png": "[encoded data removed]",
      "text/plain": [
       "<Figure size 1000x600 with 1 Axes>"
      ]
     },
     "metadata": {},
     "output_type": "display_data"
    }
   ],
   "source": [
    "plt.figure(figsize=(10, 6))\n",
    "# plt.plot(bias_li, serndipity_pre, label='Before training)\n",
    "plt.plot(bias_li, serndipity_base, label='CML')\n",
    "plt.plot(bias_li, serndipity_mpcml, label='MPCML', marker='o')\n",
    "\n",
    "plt.xticks(bias_li)\n",
    "plt.xlabel('Bias (α)')\n",
    "plt.ylabel('Serendipity')\n",
    "plt.legend()\n",
    "plt.grid(axis='y')\n",
    "\n",
    "if out_to_file:\n",
    "    now = datetime.now()\n",
    "    file_name = now.strftime(\"serendipity_%Y_%m_%d_%H%M.png\")\n",
    "    plt.savefig(out_dir + file_name, bbox_inches='tight')\n",
    "\n",
    "plt.show()"
   ]
  },
  {
   "cell_type": "markdown",
   "id": "61ccc35e-b3eb-4f99-a5da-3fe0e0c836e4",
   "metadata": {},
   "source": [
    "### Long-tail rate"
   ]
  },
  {
   "cell_type": "code",
   "execution_count": 23,
   "id": "d778c275-6da5-4365-b137-e9ca942995e8",
   "metadata": {},
   "outputs": [
    {
     "data": {
      "image/png": "[encoded data removed]",
      "text/plain": [
       "<Figure size 1000x600 with 1 Axes>"
      ]
     },
     "metadata": {},
     "output_type": "display_data"
    }
   ],
   "source": [
    "plt.figure(figsize=(10, 6))\n",
    "# plt.plot(bias_li, longtale_pre, label='Before training')\n",
    "plt.plot(bias_li, longtale_base, label='CML')\n",
    "plt.plot(bias_li, longtale_mpcml, label='MPCML', marker='o')\n",
    "\n",
    "plt.xticks(bias_li)\n",
    "plt.xlabel('Bias (α)')\n",
    "plt.ylabel('Long-tail rate')\n",
    "plt.legend()\n",
    "plt.grid(axis='y')\n",
    "\n",
    "if out_to_file:\n",
    "    now = datetime.now()\n",
    "    file_name = now.strftime(\"longtail_%Y_%m_%d_%H%M.png\")\n",
    "    plt.savefig(out_dir + file_name, bbox_inches='tight')\n",
    "\n",
    "plt.show()"
   ]
  }
 ],
 "metadata": {
  "kernelspec": {
   "display_name": "bachelor2",
   "language": "python",
   "name": "bachelor2"
  },
  "language_info": {
   "codemirror_mode": {
    "name": "ipython",
    "version": 3
   },
   "file_extension": ".py",
   "mimetype": "text/x-python",
   "name": "python",
   "nbconvert_exporter": "python",
   "pygments_lexer": "ipython3",
   "version": "3.8.17"
  }
 },
 "nbformat": 4,
 "nbformat_minor": 5
}
