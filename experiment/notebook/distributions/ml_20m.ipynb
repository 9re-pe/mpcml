{
 "cells": [
  {
   "cell_type": "markdown",
   "id": "7dac18cb-d876-44b6-9e00-e36c9089d236",
   "metadata": {},
   "source": [
    "# Import"
   ]
  },
  {
   "cell_type": "code",
   "execution_count": 1,
   "id": "ed9d9c60-6620-49e8-81b9-ad22af579e8d",
   "metadata": {
    "ExecuteTime": {
     "end_time": "2023-12-18T07:31:47.187053372Z",
     "start_time": "2023-12-18T07:31:46.236214733Z"
    }
   },
   "outputs": [],
   "source": [
    "import sys\n",
    "import os\n",
    "from datetime import datetime\n",
    "\n",
    "root_dir = '../../../'\n",
    "if root_dir not in sys.path:\n",
    "    sys.path.append(root_dir)\n",
    "\n",
    "import torch\n",
    "from torch import optim\n",
    "import matplotlib.pyplot as plt\n",
    "import pandas as pd\n",
    "\n",
    "pd.set_option('display.max_columns', 100)\n",
    "\n",
    "from modules import losses, models, samplers, searches, evaluators, trainers, datasets, distributions"
   ]
  },
  {
   "cell_type": "markdown",
   "id": "5eefcce6-9e0c-4f5b-8c35-e33c6baccff9",
   "metadata": {},
   "source": [
    "# Output settings"
   ]
  },
  {
   "cell_type": "code",
   "execution_count": 2,
   "id": "67cec6f7-dd75-4344-b2c6-09890897b221",
   "metadata": {
    "ExecuteTime": {
     "end_time": "2023-12-18T07:31:47.189913674Z",
     "start_time": "2023-12-18T07:31:47.187522807Z"
    }
   },
   "outputs": [],
   "source": [
    "out_to_file = True\n",
    "out_dir = '../../out/distributions/ml_20m/'\n",
    "\n",
    "if not os.path.exists(out_dir):\n",
    "    os.makedirs(out_dir)"
   ]
  },
  {
   "cell_type": "markdown",
   "id": "7d7072aa-f146-44e0-8377-cca8ff234bc0",
   "metadata": {},
   "source": [
    "# Dataset"
   ]
  },
  {
   "cell_type": "code",
   "execution_count": 3,
   "id": "e86ae9cc-2b94-447d-b915-152a9ba0494e",
   "metadata": {
    "ExecuteTime": {
     "end_time": "2023-12-18T07:33:30.964673450Z",
     "start_time": "2023-12-18T07:31:47.189722210Z"
    }
   },
   "outputs": [],
   "source": [
    "dataset = datasets.ML20m()\n",
    "n_user = dataset.n_user\n",
    "n_item = dataset.n_item\n",
    "n_feedback = dataset.n_pos_pairs\n",
    "train_set, test_set = dataset.get_train_and_test_set(neg_pair_weight=10)"
   ]
  },
  {
   "cell_type": "code",
   "execution_count": 4,
   "id": "762c8805-9418-46ec-afe3-a7bae19f6f53",
   "metadata": {
    "ExecuteTime": {
     "end_time": "2023-12-18T07:33:31.009241759Z",
     "start_time": "2023-12-18T07:33:31.008368932Z"
    }
   },
   "outputs": [
    {
     "name": "stdout",
     "output_type": "stream",
     "text": [
      "n_user = 137330\n",
      "n_item = 20720\n",
      "n_feedback = 9993294\n"
     ]
    }
   ],
   "source": [
    "print(f'n_user = {n_user}')\n",
    "print(f'n_item = {n_item}')\n",
    "print(f'n_feedback = {n_feedback}')"
   ]
  },
  {
   "cell_type": "markdown",
   "id": "1d53a576-4151-4151-9d3c-2f6f66cf277c",
   "metadata": {
    "tags": []
   },
   "source": [
    "# Device"
   ]
  },
  {
   "cell_type": "code",
   "execution_count": 5,
   "id": "06735b88-91af-4674-9a92-929e84aa01a1",
   "metadata": {
    "ExecuteTime": {
     "end_time": "2023-12-18T07:33:31.181899853Z",
     "start_time": "2023-12-18T07:33:31.008662461Z"
    }
   },
   "outputs": [],
   "source": [
    "device = torch.device(\"cuda:0\" if torch.cuda.is_available() else \"cpu\")\n",
    "train_set = torch.LongTensor(train_set).to(device)\n",
    "test_set = torch.FloatTensor(test_set).to(device)"
   ]
  },
  {
   "cell_type": "code",
   "execution_count": 6,
   "id": "e205f050-0112-4e49-8823-81babbd785f1",
   "metadata": {
    "ExecuteTime": {
     "end_time": "2023-12-18T07:33:31.184328034Z",
     "start_time": "2023-12-18T07:33:31.182313273Z"
    }
   },
   "outputs": [
    {
     "name": "stdout",
     "output_type": "stream",
     "text": [
      "cuda:0\n"
     ]
    }
   ],
   "source": [
    "print(device)"
   ]
  },
  {
   "cell_type": "markdown",
   "id": "781edec3-c706-43a5-9d91-e0cb2d60c024",
   "metadata": {},
   "source": [
    "# Evaluator"
   ]
  },
  {
   "cell_type": "code",
   "execution_count": 7,
   "id": "2c87126b-82cf-489b-9d0d-878d640e2d62",
   "metadata": {
    "ExecuteTime": {
     "end_time": "2023-12-18T07:33:31.187591844Z",
     "start_time": "2023-12-18T07:33:31.184440054Z"
    }
   },
   "outputs": [],
   "source": [
    "# The size of recommendation set (K)\n",
    "ks = [10]\n",
    "\n",
    "score_function_dict = {\n",
    "    \"Recall\"       : evaluators.recall,\n",
    "    \"Unpopularity\" : evaluators.unpopularity,\n",
    "    \"Serendipity\"  : evaluators.serendipity,\n",
    "    \"Long-tail rate\": evaluators.longtail_rate,\n",
    "}\n",
    "userwise = evaluators.UserwiseEvaluator(test_set, score_function_dict, ks)"
   ]
  },
  {
   "cell_type": "markdown",
   "id": "9d563e19-4dd3-453f-8958-79c49bead201",
   "metadata": {},
   "source": [
    "# Sampler"
   ]
  },
  {
   "cell_type": "code",
   "execution_count": 8,
   "id": "df3a8457-216e-420b-8abb-f71c139eb3a8",
   "metadata": {
    "ExecuteTime": {
     "end_time": "2023-12-18T07:33:31.453606357Z",
     "start_time": "2023-12-18T07:33:31.186314440Z"
    }
   },
   "outputs": [],
   "source": [
    "sampler = samplers.BaseSampler(train_set, n_user, n_item, device=device, strict_negative=False)"
   ]
  },
  {
   "cell_type": "markdown",
   "id": "a17ecbab-925b-4978-a7b1-6762c98e266c",
   "metadata": {},
   "source": [
    "# Model"
   ]
  },
  {
   "cell_type": "code",
   "execution_count": 9,
   "id": "5661d266-bd6d-4cb1-a184-3706a52d8cbb",
   "metadata": {
    "ExecuteTime": {
     "end_time": "2023-12-18T07:33:31.565292077Z",
     "start_time": "2023-12-18T07:33:31.454922693Z"
    }
   },
   "outputs": [],
   "source": [
    "# Hyperparameters\n",
    "lr = 1e-3\n",
    "n_dim = 10\n",
    "n_batch = 256\n",
    "n_epoch = 50\n",
    "no_progressbar = True\n",
    "\n",
    "model = models.CollaborativeMetricLearning(n_user, n_item, n_dim).to(device)\n",
    "optimizer = optim.Adam(model.parameters(), lr=lr)\n",
    "criterion = losses.SumTripletLoss(margin=1).to(device)\n",
    "trainer = trainers.BaseTrainer(model, optimizer, criterion, sampler, no_progressbar)"
   ]
  },
  {
   "cell_type": "markdown",
   "id": "a0c3d4d8-3b92-477e-b50c-f0d7138c2650",
   "metadata": {},
   "source": [
    "# Training"
   ]
  },
  {
   "cell_type": "code",
   "execution_count": 10,
   "id": "47856841-6278-4cc9-8597-ce4ec57e0fcd",
   "metadata": {
    "ExecuteTime": {
     "end_time": "2023-12-18T07:34:18.121707885Z",
     "start_time": "2023-12-18T07:33:31.566122305Z"
    }
   },
   "outputs": [],
   "source": [
    "trainer.fit(n_batch, n_epoch)"
   ]
  },
  {
   "cell_type": "markdown",
   "id": "67498b1b-5d4b-4816-b7d0-3add393d05bf",
   "metadata": {},
   "source": [
    "# Result"
   ]
  },
  {
   "cell_type": "markdown",
   "id": "6fd9e697-f65d-4b27-9e66-8b76e889748c",
   "metadata": {
    "tags": []
   },
   "source": [
    "## CML (Base)"
   ]
  },
  {
   "cell_type": "code",
   "execution_count": 11,
   "outputs": [],
   "source": [
    "knn = searches.NearestNeighborhood(model)"
   ],
   "metadata": {
    "collapsed": false,
    "ExecuteTime": {
     "end_time": "2023-12-18T07:34:18.164435080Z",
     "start_time": "2023-12-18T07:34:18.164190853Z"
    }
   },
   "id": "94d99df4-89d5-4aee-9cb0-ece45cf93e30"
  },
  {
   "cell_type": "code",
   "execution_count": 12,
   "id": "3e0fc666-f2fc-4bd3-adc2-c7fc7c5d61fa",
   "metadata": {
    "ExecuteTime": {
     "end_time": "2023-12-18T07:39:40.406371478Z",
     "start_time": "2023-12-18T07:34:18.164291957Z"
    }
   },
   "outputs": [],
   "source": [
    "trainer.valid(knn, userwise)\n",
    "re_base = trainer.valid_scores.copy()"
   ]
  },
  {
   "cell_type": "code",
   "execution_count": 13,
   "id": "61534fc0-5321-40b0-8dfe-e8a429bb526c",
   "metadata": {
    "ExecuteTime": {
     "end_time": "2023-12-18T07:39:40.448640103Z",
     "start_time": "2023-12-18T07:39:40.448157667Z"
    }
   },
   "outputs": [
    {
     "data": {
      "text/plain": "   Recall@10  Unpopularity@10  Serendipity@10  Long-tail rate@10\n0   0.487229       911.408242        2.273639            0.13471",
      "text/html": "<div>\n<style scoped>\n    .dataframe tbody tr th:only-of-type {\n        vertical-align: middle;\n    }\n\n    .dataframe tbody tr th {\n        vertical-align: top;\n    }\n\n    .dataframe thead th {\n        text-align: right;\n    }\n</style>\n<table border=\"1\" class=\"dataframe\">\n  <thead>\n    <tr style=\"text-align: right;\">\n      <th></th>\n      <th>Recall@10</th>\n      <th>Unpopularity@10</th>\n      <th>Serendipity@10</th>\n      <th>Long-tail rate@10</th>\n    </tr>\n  </thead>\n  <tbody>\n    <tr>\n      <th>0</th>\n      <td>0.487229</td>\n      <td>911.408242</td>\n      <td>2.273639</td>\n      <td>0.13471</td>\n    </tr>\n  </tbody>\n</table>\n</div>"
     },
     "metadata": {},
     "output_type": "display_data"
    }
   ],
   "source": [
    "if out_to_file:\n",
    "    now = datetime.now()\n",
    "    file_name = now.strftime(\"base_%Y_%m_%d_%H%M.csv\")\n",
    "    re_base.to_csv(out_dir + file_name, index=False)\n",
    "\n",
    "display(re_base)"
   ]
  },
  {
   "cell_type": "markdown",
   "id": "f361de71-d304-4316-b5e8-fbcb8833607a",
   "metadata": {
    "tags": []
   },
   "source": [
    "# MPCMP"
   ]
  },
  {
   "cell_type": "code",
   "execution_count": 14,
   "id": "289a0a72-c53d-4b0a-b594-f28c7f63cd0b",
   "metadata": {
    "ExecuteTime": {
     "end_time": "2023-12-18T07:39:40.448742997Z",
     "start_time": "2023-12-18T07:39:40.448287543Z"
    }
   },
   "outputs": [],
   "source": [
    "# Hyperparameters\n",
    "n_sample = 100\n",
    "bias_li = [0.0, 0.1, 0.2, 0.3, 0.4, 0.5, 0.6, 0.7, 0.8, 0.9, 1.0]\n",
    "gaussian = distributions.Gaussian()\n",
    "gamma = distributions.Gamma()"
   ]
  },
  {
   "cell_type": "code",
   "execution_count": 15,
   "id": "0712b293-6104-4598-9236-3218ce3c5dd1",
   "metadata": {
    "ExecuteTime": {
     "end_time": "2023-12-18T10:24:44.920479705Z",
     "start_time": "2023-12-18T07:39:40.448310618Z"
    }
   },
   "outputs": [
    {
     "name": "stdout",
     "output_type": "stream",
     "text": [
      "Prosessing... [bias = 0.0]\n",
      "Prosessing... [bias = 0.1]\n",
      "Prosessing... [bias = 0.2]\n",
      "Prosessing... [bias = 0.3]\n",
      "Prosessing... [bias = 0.4]\n"
     ]
    },
    {
     "ename": "KeyboardInterrupt",
     "evalue": "",
     "output_type": "error",
     "traceback": [
      "\u001B[0;31m---------------------------------------------------------------------------\u001B[0m",
      "\u001B[0;31mKeyboardInterrupt\u001B[0m                         Traceback (most recent call last)",
      "Cell \u001B[0;32mIn[15], line 9\u001B[0m\n\u001B[1;32m      6\u001B[0m mp_1 \u001B[38;5;241m=\u001B[39m searches\u001B[38;5;241m.\u001B[39mMutualProximity(model, gaussian, n_sample, bias)\n\u001B[1;32m      7\u001B[0m mp_2 \u001B[38;5;241m=\u001B[39m searches\u001B[38;5;241m.\u001B[39mMutualProximity(model, gamma, n_sample, bias)\n\u001B[0;32m----> 9\u001B[0m \u001B[43mtrainer\u001B[49m\u001B[38;5;241;43m.\u001B[39;49m\u001B[43mvalid\u001B[49m\u001B[43m(\u001B[49m\u001B[43mmp_1\u001B[49m\u001B[43m,\u001B[49m\u001B[43m \u001B[49m\u001B[43muserwise\u001B[49m\u001B[43m)\u001B[49m\n\u001B[1;32m     10\u001B[0m row_1 \u001B[38;5;241m=\u001B[39m trainer\u001B[38;5;241m.\u001B[39mvalid_scores\u001B[38;5;241m.\u001B[39mcopy()\n\u001B[1;32m     11\u001B[0m trainer\u001B[38;5;241m.\u001B[39mvalid(mp_2, userwise)\n",
      "File \u001B[0;32m~/project/mpcml/modules/trainers/BaseTrainer.py:131\u001B[0m, in \u001B[0;36mBaseTrainer.valid\u001B[0;34m(self, search, valid_evaluator)\u001B[0m\n\u001B[1;32m    126\u001B[0m \u001B[38;5;28;01mdef\u001B[39;00m \u001B[38;5;21mvalid\u001B[39m(\n\u001B[1;32m    127\u001B[0m         \u001B[38;5;28mself\u001B[39m,\n\u001B[1;32m    128\u001B[0m         search: BaseSearch,\n\u001B[1;32m    129\u001B[0m         valid_evaluator: Optional[BaseEvaluator]\n\u001B[1;32m    130\u001B[0m ):\n\u001B[0;32m--> 131\u001B[0m     \u001B[38;5;28mself\u001B[39m\u001B[38;5;241m.\u001B[39mvalid_scores \u001B[38;5;241m=\u001B[39m \u001B[43mvalid_evaluator\u001B[49m\u001B[38;5;241;43m.\u001B[39;49m\u001B[43mscore\u001B[49m\u001B[43m(\u001B[49m\u001B[43msearch\u001B[49m\u001B[43m,\u001B[49m\u001B[43m \u001B[49m\u001B[43mno_progressbar\u001B[49m\u001B[38;5;241;43m=\u001B[39;49m\u001B[38;5;28;43mself\u001B[39;49m\u001B[38;5;241;43m.\u001B[39;49m\u001B[43mno_progressbar\u001B[49m\u001B[43m)\u001B[49m\n",
      "File \u001B[0;32m~/project/mpcml/modules/evaluators/UserwiseEvaluator.py:117\u001B[0m, in \u001B[0;36mUserwiseEvaluator.score\u001B[0;34m(self, search, reduction, no_progressbar)\u001B[0m\n\u001B[1;32m    114\u001B[0m df_eval \u001B[38;5;241m=\u001B[39m pd\u001B[38;5;241m.\u001B[39mDataFrame({name: [] \u001B[38;5;28;01mfor\u001B[39;00m name \u001B[38;5;129;01min\u001B[39;00m \u001B[38;5;28mself\u001B[39m\u001B[38;5;241m.\u001B[39mmetrics_names})\n\u001B[1;32m    116\u001B[0m \u001B[38;5;28;01mfor\u001B[39;00m uid \u001B[38;5;129;01min\u001B[39;00m tqdm(users, disable\u001B[38;5;241m=\u001B[39mno_progressbar):\n\u001B[0;32m--> 117\u001B[0m     df_eval_sub \u001B[38;5;241m=\u001B[39m \u001B[38;5;28;43mself\u001B[39;49m\u001B[38;5;241;43m.\u001B[39;49m\u001B[43meval_user\u001B[49m\u001B[43m(\u001B[49m\u001B[43msearch\u001B[49m\u001B[43m,\u001B[49m\u001B[43m \u001B[49m\u001B[43muid\u001B[49m\u001B[43m)\u001B[49m\n\u001B[1;32m    118\u001B[0m     df_eval \u001B[38;5;241m=\u001B[39m pd\u001B[38;5;241m.\u001B[39mconcat([df_eval, df_eval_sub])\n\u001B[1;32m    120\u001B[0m \u001B[38;5;28;01mif\u001B[39;00m reduction \u001B[38;5;241m==\u001B[39m \u001B[38;5;124m\"\u001B[39m\u001B[38;5;124mmean\u001B[39m\u001B[38;5;124m\"\u001B[39m:\n",
      "File \u001B[0;32m~/project/mpcml/modules/evaluators/UserwiseEvaluator.py:91\u001B[0m, in \u001B[0;36mUserwiseEvaluator.eval_user\u001B[0;34m(self, search, uid)\u001B[0m\n\u001B[1;32m     88\u001B[0m test_set_pair \u001B[38;5;241m=\u001B[39m \u001B[38;5;28mself\u001B[39m\u001B[38;5;241m.\u001B[39mtest_set[user_indices, :\u001B[38;5;241m2\u001B[39m]\u001B[38;5;241m.\u001B[39mlong()\n\u001B[1;32m     90\u001B[0m \u001B[38;5;66;03m# distance for each user and item pair size (n_pairs)\u001B[39;00m\n\u001B[0;32m---> 91\u001B[0m y_hat_user \u001B[38;5;241m=\u001B[39m \u001B[43msearch\u001B[49m\u001B[38;5;241;43m.\u001B[39;49m\u001B[43mpredict\u001B[49m\u001B[43m(\u001B[49m\u001B[43mtest_set_pair\u001B[49m\u001B[43m)\u001B[49m\u001B[38;5;241m.\u001B[39mto(\u001B[38;5;124m\"\u001B[39m\u001B[38;5;124mcpu\u001B[39m\u001B[38;5;124m\"\u001B[39m)\u001B[38;5;241m.\u001B[39mdetach()\u001B[38;5;241m.\u001B[39mnumpy()\n\u001B[1;32m     92\u001B[0m truth \u001B[38;5;241m=\u001B[39m \u001B[38;5;28mself\u001B[39m\u001B[38;5;241m.\u001B[39mtest_set[user_indices, \u001B[38;5;241m2\u001B[39m]\u001B[38;5;241m.\u001B[39mto(\u001B[38;5;124m\"\u001B[39m\u001B[38;5;124mcpu\u001B[39m\u001B[38;5;124m\"\u001B[39m)\u001B[38;5;241m.\u001B[39mdetach()\u001B[38;5;241m.\u001B[39mnumpy()\n\u001B[1;32m     93\u001B[0m popularity \u001B[38;5;241m=\u001B[39m \u001B[38;5;28mself\u001B[39m\u001B[38;5;241m.\u001B[39mtest_set[user_indices, \u001B[38;5;241m3\u001B[39m]\u001B[38;5;241m.\u001B[39mto(\u001B[38;5;124m\"\u001B[39m\u001B[38;5;124mcpu\u001B[39m\u001B[38;5;124m\"\u001B[39m)\u001B[38;5;241m.\u001B[39mdetach()\u001B[38;5;241m.\u001B[39mnumpy()\n",
      "File \u001B[0;32m~/project/mpcml/modules/searches/MutualProximity.py:112\u001B[0m, in \u001B[0;36mMutualProximity.predict\u001B[0;34m(self, pairs)\u001B[0m\n\u001B[1;32m    110\u001B[0m n_pairs \u001B[38;5;241m=\u001B[39m pairs\u001B[38;5;241m.\u001B[39msize()[\u001B[38;5;241m0\u001B[39m]\n\u001B[1;32m    111\u001B[0m users_params \u001B[38;5;241m=\u001B[39m \u001B[38;5;28mself\u001B[39m\u001B[38;5;241m.\u001B[39mcompute_users_distribution_params(distances, n_pairs)  \u001B[38;5;66;03m# [n_pairs]\u001B[39;00m\n\u001B[0;32m--> 112\u001B[0m items_params \u001B[38;5;241m=\u001B[39m \u001B[38;5;28;43mself\u001B[39;49m\u001B[38;5;241;43m.\u001B[39;49m\u001B[43mcompute_items_distribution_params\u001B[49m\u001B[43m(\u001B[49m\u001B[43mitems\u001B[49m\u001B[43m,\u001B[49m\u001B[43m \u001B[49m\u001B[43mn_pairs\u001B[49m\u001B[43m)\u001B[49m  \u001B[38;5;66;03m# [n_pairs]\u001B[39;00m\n\u001B[1;32m    113\u001B[0m mp \u001B[38;5;241m=\u001B[39m \u001B[38;5;28mself\u001B[39m\u001B[38;5;241m.\u001B[39mcompute_mp(distances, users_params, items_params)\n\u001B[1;32m    115\u001B[0m \u001B[38;5;28;01mreturn\u001B[39;00m mp\n",
      "File \u001B[0;32m~/project/mpcml/modules/searches/MutualProximity.py:60\u001B[0m, in \u001B[0;36mMutualProximity.compute_items_distribution_params\u001B[0;34m(self, items, n_pairs)\u001B[0m\n\u001B[1;32m     58\u001B[0m \u001B[38;5;28;01mfor\u001B[39;00m i \u001B[38;5;129;01min\u001B[39;00m \u001B[38;5;28mrange\u001B[39m(n_pairs):\n\u001B[1;32m     59\u001B[0m     row \u001B[38;5;241m=\u001B[39m \u001B[38;5;28mself\u001B[39m\u001B[38;5;241m.\u001B[39msample_ids(\u001B[38;5;28mself\u001B[39m\u001B[38;5;241m.\u001B[39mmodel\u001B[38;5;241m.\u001B[39mn_user, \u001B[38;5;28mself\u001B[39m\u001B[38;5;241m.\u001B[39mn_sample)\n\u001B[0;32m---> 60\u001B[0m     sample_users[i] \u001B[38;5;241m=\u001B[39m \u001B[43mtorch\u001B[49m\u001B[38;5;241;43m.\u001B[39;49m\u001B[43mtensor\u001B[49m\u001B[43m(\u001B[49m\u001B[43mrow\u001B[49m\u001B[43m)\u001B[49m\n\u001B[1;32m     61\u001B[0m sample_users \u001B[38;5;241m=\u001B[39m sample_users\u001B[38;5;241m.\u001B[39mto(\u001B[38;5;28mself\u001B[39m\u001B[38;5;241m.\u001B[39mdevice)\n\u001B[1;32m     63\u001B[0m u_emb \u001B[38;5;241m=\u001B[39m \u001B[38;5;28mself\u001B[39m\u001B[38;5;241m.\u001B[39mmodel\u001B[38;5;241m.\u001B[39muser_embedding(sample_users)\n",
      "\u001B[0;31mKeyboardInterrupt\u001B[0m: "
     ]
    }
   ],
   "source": [
    "rows_1 = []\n",
    "rows_2 = []\n",
    "for bias in bias_li:\n",
    "    print(f'Prosessing... [bias = {bias}]')\n",
    "    \n",
    "    mp_1 = searches.MutualProximity(model, gaussian, n_sample, bias)\n",
    "    mp_2 = searches.MutualProximity(model, gamma, n_sample, bias)\n",
    "    \n",
    "    trainer.valid(mp_1, userwise)\n",
    "    row_1 = trainer.valid_scores.copy()\n",
    "    trainer.valid(mp_2, userwise)\n",
    "    row_2 = trainer.valid_scores.copy()\n",
    "    \n",
    "    row_1.insert(0, 'Bias', bias)\n",
    "    row_2.insert(0, 'Bias', bias)\n",
    "    \n",
    "    rows_1.append(row_1)\n",
    "    rows_2.append(row_2)\n",
    "\n",
    "re_mpcml_1 = pd.concat(rows_1)\n",
    "re_mpcml_2 = pd.concat(rows_2)"
   ]
  },
  {
   "cell_type": "code",
   "execution_count": null,
   "id": "7e75974b-f67e-4bdb-b787-3f73c4742cda",
   "metadata": {
    "ExecuteTime": {
     "start_time": "2023-12-18T10:24:44.920357485Z"
    }
   },
   "outputs": [],
   "source": [
    "if out_to_file:\n",
    "    now = datetime.now()\n",
    "    file_name = now.strftime(\"mpcml_bias1_%Y_%m_%d_%H%M.csv\")\n",
    "    re_mpcml_1.to_csv(out_dir + file_name, index=False)\n",
    "\n",
    "display(re_mpcml_1)"
   ]
  },
  {
   "cell_type": "code",
   "execution_count": null,
   "outputs": [],
   "source": [
    "if out_to_file:\n",
    "    now = datetime.now()\n",
    "    file_name = now.strftime(\"mpcml_bias2_%Y_%m_%d_%H%M.csv\")\n",
    "    re_mpcml_2.to_csv(out_dir + file_name, index=False)\n",
    "\n",
    "display(re_mpcml_2)"
   ],
   "metadata": {
    "collapsed": false,
    "ExecuteTime": {
     "start_time": "2023-12-18T10:24:44.920426603Z"
    }
   },
   "id": "1c2620f8da75ba8c"
  },
  {
   "cell_type": "markdown",
   "id": "1325e652-60c2-4cc5-9bcb-ef5bbad33d74",
   "metadata": {},
   "source": [
    "## CML vs MPCML"
   ]
  },
  {
   "cell_type": "code",
   "execution_count": null,
   "id": "b2d6ab9a-9f07-400f-843d-211e9ed59a2c",
   "metadata": {
    "ExecuteTime": {
     "end_time": "2023-12-18T10:24:44.921199532Z",
     "start_time": "2023-12-18T10:24:44.921106416Z"
    }
   },
   "outputs": [],
   "source": [
    "# df -> list\n",
    "\n",
    "k = 10\n",
    "n_bias = len(bias_li)\n",
    "\n",
    "# CML(Base)\n",
    "recall_base           = re_base[f'Recall@{k}'].tolist() * n_bias\n",
    "unpopularity_base     = re_base[f'Unpopularity@{k}'].tolist() * n_bias\n",
    "serendipity_base      = re_base[f'Serendipity@{k}'].tolist() * n_bias\n",
    "longtale_base         = re_base[f'Long-tail rate@{k}'].tolist() * n_bias\n",
    "\n",
    "# MPCML (Gaussian)\n",
    "recall_mpcml_1        = re_mpcml_1[f'Recall@{k}'].tolist()\n",
    "unpopularity_mpcml_1  = re_mpcml_1[f'Unpopularity@{k}'].tolist()\n",
    "serendipity_mpcml_1   = re_mpcml_1[f'Serendipity@{k}'].tolist()\n",
    "longtale_mpcml_1      = re_mpcml_1[f'Long-tail rate@{k}'].tolist()\n",
    "\n",
    "# MPCML (Gamma)\n",
    "recall_mpcml_2        = re_mpcml_2[f'Recall@{k}'].tolist()\n",
    "unpopularity_mpcml_2  = re_mpcml_2[f'Unpopularity@{k}'].tolist()\n",
    "serendipity_mpcml_2   = re_mpcml_2[f'Serendipity@{k}'].tolist()\n",
    "longtale_mpcml_2      = re_mpcml_2[f'Long-tail rate@{k}'].tolist()"
   ]
  },
  {
   "cell_type": "markdown",
   "id": "3904efb5-721e-42f2-877d-2ebf7c7dff69",
   "metadata": {},
   "source": [
    "### Recall"
   ]
  },
  {
   "cell_type": "code",
   "execution_count": null,
   "id": "d3a124b5-d411-4c69-ad5d-927a6dd3aab5",
   "metadata": {
    "ExecuteTime": {
     "start_time": "2023-12-18T10:24:44.921185521Z"
    }
   },
   "outputs": [],
   "source": [
    "plt.figure(figsize=(10, 6))\n",
    "plt.plot(bias_li, recall_base, label='CML')\n",
    "plt.plot(bias_li, recall_mpcml_1, label='MPCML(Gaussian)', marker='o')\n",
    "plt.plot(bias_li, recall_mpcml_2, label='MPCML(Gamma)', marker='s')\n",
    "\n",
    "plt.xticks(bias_li)\n",
    "plt.xlabel('Bias (α)')\n",
    "plt.ylabel('Recall')\n",
    "plt.legend()\n",
    "plt.grid(axis='y')\n",
    "\n",
    "if out_to_file:\n",
    "    now = datetime.now()\n",
    "    file_name = now.strftime(\"recall_%Y_%m_%d_%H%M.png\")\n",
    "    plt.savefig(out_dir + file_name, bbox_inches='tight')\n",
    "\n",
    "plt.show()"
   ]
  },
  {
   "cell_type": "markdown",
   "source": [
    "### Unpopularity"
   ],
   "metadata": {
    "collapsed": false
   },
   "id": "452f817a2db1b280"
  },
  {
   "cell_type": "code",
   "execution_count": null,
   "outputs": [],
   "source": [
    "plt.figure(figsize=(10, 6))\n",
    "plt.plot(bias_li, unpopularity_base, label='CML')\n",
    "plt.plot(bias_li, unpopularity_mpcml_1, label='MPCML(Gaussian)', marker='o')\n",
    "plt.plot(bias_li, unpopularity_mpcml_2, label='MPCML(Gamma)', marker='s')\n",
    "\n",
    "plt.xticks(bias_li)\n",
    "plt.xlabel('Bias (α)')\n",
    "plt.ylabel('Unpopularity')\n",
    "plt.legend()\n",
    "plt.grid(axis='y')\n",
    "\n",
    "if out_to_file:\n",
    "    now = datetime.now()\n",
    "    file_name = now.strftime(\"unpopularity_%Y_%m_%d_%H%M.png\")\n",
    "    plt.savefig(out_dir + file_name, bbox_inches='tight')\n",
    "\n",
    "plt.show()"
   ],
   "metadata": {
    "collapsed": false,
    "ExecuteTime": {
     "start_time": "2023-12-18T10:24:44.921314728Z"
    }
   },
   "id": "ac71336163617f69"
  },
  {
   "cell_type": "markdown",
   "id": "f3b5e9b3-5018-4101-86a1-e08528bf5272",
   "metadata": {},
   "source": [
    "### Serendipity"
   ]
  },
  {
   "cell_type": "code",
   "execution_count": null,
   "id": "ad17bf55-def6-4218-b756-71cbd79c47f1",
   "metadata": {
    "ExecuteTime": {
     "start_time": "2023-12-18T10:24:44.921382039Z"
    }
   },
   "outputs": [],
   "source": [
    "plt.figure(figsize=(10, 6))\n",
    "plt.plot(bias_li, serendipity_base, label='CML')\n",
    "plt.plot(bias_li, serendipity_mpcml_1, label='MPCML(Gaussian)', marker='o')\n",
    "plt.plot(bias_li, serendipity_mpcml_2, label='MPCML(Gamma)', marker='s')\n",
    "\n",
    "plt.xticks(bias_li)\n",
    "plt.xlabel('Bias (α)')\n",
    "plt.ylabel('Serendipity')\n",
    "plt.legend()\n",
    "plt.grid(axis='y')\n",
    "\n",
    "if out_to_file:\n",
    "    now = datetime.now()\n",
    "    file_name = now.strftime(\"serendipity_%Y_%m_%d_%H%M.png\")\n",
    "    plt.savefig(out_dir + file_name, bbox_inches='tight')\n",
    "\n",
    "plt.show()"
   ]
  },
  {
   "cell_type": "markdown",
   "id": "61ccc35e-b3eb-4f99-a5da-3fe0e0c836e4",
   "metadata": {},
   "source": [
    "### Long-tail rate"
   ]
  },
  {
   "cell_type": "code",
   "execution_count": null,
   "id": "d778c275-6da5-4365-b137-e9ca942995e8",
   "metadata": {
    "ExecuteTime": {
     "start_time": "2023-12-18T10:24:44.921408048Z"
    }
   },
   "outputs": [],
   "source": [
    "plt.figure(figsize=(10, 6))\n",
    "plt.plot(bias_li, longtale_base, label='CML')\n",
    "plt.plot(bias_li, longtale_mpcml_1, label='MPCML(Gaussian)', marker='o')\n",
    "plt.plot(bias_li, longtale_mpcml_2, label='MPCML(Gamma)', marker='s')\n",
    "\n",
    "plt.xticks(bias_li)\n",
    "plt.xlabel('Bias (α)')\n",
    "plt.ylabel('Long-tail rate')\n",
    "plt.legend()\n",
    "plt.grid(axis='y')\n",
    "\n",
    "if out_to_file:\n",
    "    now = datetime.now()\n",
    "    file_name = now.strftime(\"longtail_%Y_%m_%d_%H%M.png\")\n",
    "    plt.savefig(out_dir + file_name, bbox_inches='tight')\n",
    "\n",
    "plt.show()"
   ]
  }
 ],
 "metadata": {
  "kernelspec": {
   "display_name": "bachelor2",
   "language": "python",
   "name": "bachelor2"
  },
  "language_info": {
   "codemirror_mode": {
    "name": "ipython",
    "version": 3
   },
   "file_extension": ".py",
   "mimetype": "text/x-python",
   "name": "python",
   "nbconvert_exporter": "python",
   "pygments_lexer": "ipython3",
   "version": "3.8.17"
  }
 },
 "nbformat": 4,
 "nbformat_minor": 5
}
