{
 "cells": [
  {
   "cell_type": "markdown",
   "source": [
    "# Additional experiment\n",
    "A Method to Improve Serendipity of Recommendation Lists Based on Collaborative Metric Learning (Yoneda2023)"
   ],
   "metadata": {
    "collapsed": false
   },
   "id": "d766850af31c96d"
  },
  {
   "cell_type": "markdown",
   "id": "7dac18cb-d876-44b6-9e00-e36c9089d236",
   "metadata": {},
   "source": [
    "# Import"
   ]
  },
  {
   "cell_type": "code",
   "execution_count": 1,
   "id": "ed9d9c60-6620-49e8-81b9-ad22af579e8d",
   "metadata": {
    "ExecuteTime": {
     "end_time": "2024-03-14T13:00:46.381528760Z",
     "start_time": "2024-03-14T13:00:45.305451653Z"
    }
   },
   "outputs": [],
   "source": [
    "import sys\n",
    "import os\n",
    "from datetime import datetime\n",
    "\n",
    "root_dir = '../../../'\n",
    "if root_dir not in sys.path:\n",
    "    sys.path.append(root_dir)\n",
    "\n",
    "import torch\n",
    "from torch import optim\n",
    "import pandas as pd\n",
    "\n",
    "pd.set_option('display.max_columns', 100)\n",
    "\n",
    "from modules import losses, models, samplers, searches, evaluators, trainers, datasets, distributions"
   ]
  },
  {
   "cell_type": "markdown",
   "id": "5eefcce6-9e0c-4f5b-8c35-e33c6baccff9",
   "metadata": {},
   "source": [
    "# Output settings"
   ]
  },
  {
   "cell_type": "code",
   "execution_count": 2,
   "id": "67cec6f7-dd75-4344-b2c6-09890897b221",
   "metadata": {
    "ExecuteTime": {
     "end_time": "2024-03-14T13:00:46.381903296Z",
     "start_time": "2024-03-14T13:00:46.381440734Z"
    }
   },
   "outputs": [],
   "source": [
    "out_to_file = True\n",
    "out_dir = '../../out/comparison2/ml_20m/'\n",
    "\n",
    "if not os.path.exists(out_dir):\n",
    "    os.makedirs(out_dir)"
   ]
  },
  {
   "cell_type": "markdown",
   "id": "7d7072aa-f146-44e0-8377-cca8ff234bc0",
   "metadata": {},
   "source": [
    "# Dataset"
   ]
  },
  {
   "cell_type": "code",
   "execution_count": 3,
   "id": "e86ae9cc-2b94-447d-b915-152a9ba0494e",
   "metadata": {
    "ExecuteTime": {
     "end_time": "2024-03-14T13:02:31.561517103Z",
     "start_time": "2024-03-14T13:00:46.381523723Z"
    }
   },
   "outputs": [],
   "source": [
    "dataset = datasets.ML20m()\n",
    "n_user = dataset.n_user\n",
    "n_item = dataset.n_item\n",
    "n_feedback = dataset.n_pos_pairs\n",
    "train_set, test_set = dataset.get_train_and_test_set(neg_pair_weight=10)"
   ]
  },
  {
   "cell_type": "code",
   "execution_count": 4,
   "id": "762c8805-9418-46ec-afe3-a7bae19f6f53",
   "metadata": {
    "ExecuteTime": {
     "end_time": "2024-03-14T13:02:31.562336696Z",
     "start_time": "2024-03-14T13:02:31.561445218Z"
    }
   },
   "outputs": [
    {
     "name": "stdout",
     "output_type": "stream",
     "text": [
      "n_user = 137330\n",
      "n_item = 20720\n",
      "n_feedback = 9993294\n"
     ]
    }
   ],
   "source": [
    "print(f'n_user = {n_user}')\n",
    "print(f'n_item = {n_item}')\n",
    "print(f'n_feedback = {n_feedback}')"
   ]
  },
  {
   "cell_type": "markdown",
   "id": "1d53a576-4151-4151-9d3c-2f6f66cf277c",
   "metadata": {
    "tags": []
   },
   "source": [
    "# Device"
   ]
  },
  {
   "cell_type": "code",
   "execution_count": 5,
   "id": "06735b88-91af-4674-9a92-929e84aa01a1",
   "metadata": {
    "ExecuteTime": {
     "end_time": "2024-03-14T13:02:31.714482226Z",
     "start_time": "2024-03-14T13:02:31.561548961Z"
    }
   },
   "outputs": [],
   "source": [
    "device = torch.device(\"cuda:0\" if torch.cuda.is_available() else \"cpu\")\n",
    "train_set = torch.LongTensor(train_set).to(device)\n",
    "test_set = torch.FloatTensor(test_set).to(device)"
   ]
  },
  {
   "cell_type": "code",
   "execution_count": 6,
   "id": "e205f050-0112-4e49-8823-81babbd785f1",
   "metadata": {
    "ExecuteTime": {
     "end_time": "2024-03-14T13:02:31.717272837Z",
     "start_time": "2024-03-14T13:02:31.714882622Z"
    }
   },
   "outputs": [
    {
     "name": "stdout",
     "output_type": "stream",
     "text": [
      "cuda:0\n"
     ]
    }
   ],
   "source": [
    "print(device)"
   ]
  },
  {
   "cell_type": "markdown",
   "id": "781edec3-c706-43a5-9d91-e0cb2d60c024",
   "metadata": {},
   "source": [
    "# Evaluator"
   ]
  },
  {
   "cell_type": "code",
   "execution_count": 7,
   "id": "2c87126b-82cf-489b-9d0d-878d640e2d62",
   "metadata": {
    "ExecuteTime": {
     "end_time": "2024-03-14T13:02:31.719574105Z",
     "start_time": "2024-03-14T13:02:31.716873827Z"
    }
   },
   "outputs": [],
   "source": [
    "# The size of recommendation set (K)\n",
    "ks = [10]\n",
    "\n",
    "score_function_dict = {\n",
    "    \"Recall\"       : evaluators.recall,\n",
    "    \"Unpopularity\" : evaluators.unpopularity,\n",
    "    \"Serendipity\"  : evaluators.serendipity,\n",
    "    \"Long-tail rate\": evaluators.longtail_rate,\n",
    "}\n",
    "userwise = evaluators.UserwiseEvaluator(test_set, score_function_dict, ks)"
   ]
  },
  {
   "cell_type": "markdown",
   "id": "9d563e19-4dd3-453f-8958-79c49bead201",
   "metadata": {},
   "source": [
    "# Sampler"
   ]
  },
  {
   "cell_type": "code",
   "execution_count": 8,
   "id": "df3a8457-216e-420b-8abb-f71c139eb3a8",
   "metadata": {
    "ExecuteTime": {
     "end_time": "2024-03-14T13:02:32.006403045Z",
     "start_time": "2024-03-14T13:02:31.718866151Z"
    }
   },
   "outputs": [],
   "source": [
    "sampler = samplers.BaseSampler(train_set, n_user, n_item, device=device, strict_negative=False)"
   ]
  },
  {
   "cell_type": "markdown",
   "id": "a17ecbab-925b-4978-a7b1-6762c98e266c",
   "metadata": {},
   "source": [
    "# Model"
   ]
  },
  {
   "cell_type": "code",
   "execution_count": 9,
   "id": "5661d266-bd6d-4cb1-a184-3706a52d8cbb",
   "metadata": {
    "ExecuteTime": {
     "end_time": "2024-03-14T13:02:32.196038140Z",
     "start_time": "2024-03-14T13:02:32.010398895Z"
    }
   },
   "outputs": [],
   "source": [
    "# Hyperparameters\n",
    "lr = 1e-3\n",
    "n_dim = 10\n",
    "n_batch = 256\n",
    "n_epoch = 50\n",
    "no_progressbar = True\n",
    "b_li = [0.2, 0.5, 0.9]\n",
    "\n",
    "feedback_num_df = dataset.feedback_num_train_data()\n",
    "model_dict_li = []\n",
    "for b in b_li:\n",
    "    model = models.CollaborativeMetricLearning(n_user, n_item, n_dim).to(device)\n",
    "    optimizer = optim.Adam(model.parameters(), lr=lr)\n",
    "    criterion = losses.MinorTripletLoss(feedback_num_df, margin=1, a=1, b=b, device=device).to(device)\n",
    "    trainer = trainers.BaseTrainer(model, optimizer, criterion, sampler, no_progressbar)\n",
    "    knn = searches.NearestNeighborhood(model)\n",
    "    model_dict = {\n",
    "        \"model\": model,\n",
    "        \"optimizer\": optimizer,\n",
    "        \"criterion\": criterion,\n",
    "        \"trainer\": trainer,\n",
    "        \"search\": knn,\n",
    "    }\n",
    "    model_dict_li.append(model_dict)"
   ]
  },
  {
   "cell_type": "markdown",
   "source": [
    "# Training"
   ],
   "metadata": {
    "collapsed": false
   },
   "id": "a0c3d4d8-3b92-477e-b50c-f0d7138c2650"
  },
  {
   "cell_type": "code",
   "execution_count": 10,
   "id": "47856841-6278-4cc9-8597-ce4ec57e0fcd",
   "metadata": {
    "ExecuteTime": {
     "end_time": "2024-03-14T13:04:55.688746777Z",
     "start_time": "2024-03-14T13:02:32.197284501Z"
    }
   },
   "outputs": [],
   "source": [
    "for model_dict in model_dict_li:\n",
    "    model_dict[\"trainer\"].fit(n_batch, n_epoch)"
   ]
  },
  {
   "cell_type": "markdown",
   "id": "67498b1b-5d4b-4816-b7d0-3add393d05bf",
   "metadata": {},
   "source": [
    "# Result"
   ]
  },
  {
   "cell_type": "code",
   "execution_count": 11,
   "id": "3e0fc666-f2fc-4bd3-adc2-c7fc7c5d61fa",
   "metadata": {
    "ExecuteTime": {
     "end_time": "2024-03-14T13:21:23.725879116Z",
     "start_time": "2024-03-14T13:04:55.733429816Z"
    }
   },
   "outputs": [],
   "source": [
    "re_li = []\n",
    "for model_dict in model_dict_li:\n",
    "    model_dict[\"trainer\"].valid(model_dict[\"search\"], userwise)\n",
    "    re = model_dict[\"trainer\"].valid_scores\n",
    "    re_li.append(re)"
   ]
  },
  {
   "cell_type": "code",
   "outputs": [
    {
     "data": {
      "text/plain": "   Recall@10  Unpopularity@10  Serendipity@10  Long-tail rate@10\n0    0.45578       927.854191        2.528851           0.141129",
      "text/html": "<div>\n<style scoped>\n    .dataframe tbody tr th:only-of-type {\n        vertical-align: middle;\n    }\n\n    .dataframe tbody tr th {\n        vertical-align: top;\n    }\n\n    .dataframe thead th {\n        text-align: right;\n    }\n</style>\n<table border=\"1\" class=\"dataframe\">\n  <thead>\n    <tr style=\"text-align: right;\">\n      <th></th>\n      <th>Recall@10</th>\n      <th>Unpopularity@10</th>\n      <th>Serendipity@10</th>\n      <th>Long-tail rate@10</th>\n    </tr>\n  </thead>\n  <tbody>\n    <tr>\n      <th>0</th>\n      <td>0.45578</td>\n      <td>927.854191</td>\n      <td>2.528851</td>\n      <td>0.141129</td>\n    </tr>\n  </tbody>\n</table>\n</div>"
     },
     "metadata": {},
     "output_type": "display_data"
    },
    {
     "data": {
      "text/plain": "   Recall@10  Unpopularity@10  Serendipity@10  Long-tail rate@10\n0   0.407139      1128.957548        2.729991           0.203497",
      "text/html": "<div>\n<style scoped>\n    .dataframe tbody tr th:only-of-type {\n        vertical-align: middle;\n    }\n\n    .dataframe tbody tr th {\n        vertical-align: top;\n    }\n\n    .dataframe thead th {\n        text-align: right;\n    }\n</style>\n<table border=\"1\" class=\"dataframe\">\n  <thead>\n    <tr style=\"text-align: right;\">\n      <th></th>\n      <th>Recall@10</th>\n      <th>Unpopularity@10</th>\n      <th>Serendipity@10</th>\n      <th>Long-tail rate@10</th>\n    </tr>\n  </thead>\n  <tbody>\n    <tr>\n      <th>0</th>\n      <td>0.407139</td>\n      <td>1128.957548</td>\n      <td>2.729991</td>\n      <td>0.203497</td>\n    </tr>\n  </tbody>\n</table>\n</div>"
     },
     "metadata": {},
     "output_type": "display_data"
    },
    {
     "data": {
      "text/plain": "   Recall@10  Unpopularity@10  Serendipity@10  Long-tail rate@10\n0    0.35068      2086.446385        2.325041           0.393344",
      "text/html": "<div>\n<style scoped>\n    .dataframe tbody tr th:only-of-type {\n        vertical-align: middle;\n    }\n\n    .dataframe tbody tr th {\n        vertical-align: top;\n    }\n\n    .dataframe thead th {\n        text-align: right;\n    }\n</style>\n<table border=\"1\" class=\"dataframe\">\n  <thead>\n    <tr style=\"text-align: right;\">\n      <th></th>\n      <th>Recall@10</th>\n      <th>Unpopularity@10</th>\n      <th>Serendipity@10</th>\n      <th>Long-tail rate@10</th>\n    </tr>\n  </thead>\n  <tbody>\n    <tr>\n      <th>0</th>\n      <td>0.35068</td>\n      <td>2086.446385</td>\n      <td>2.325041</td>\n      <td>0.393344</td>\n    </tr>\n  </tbody>\n</table>\n</div>"
     },
     "metadata": {},
     "output_type": "display_data"
    }
   ],
   "source": [
    "for re in re_li:\n",
    "    if out_to_file:\n",
    "        now = datetime.now()\n",
    "        file_name = now.strftime(\"minor_%Y_%m_%d_%H%M.csv\")\n",
    "        re.to_csv(out_dir + file_name, index=False)\n",
    "        \n",
    "    display(re)"
   ],
   "metadata": {
    "collapsed": false,
    "ExecuteTime": {
     "end_time": "2024-03-14T13:21:23.770053966Z",
     "start_time": "2024-03-14T13:21:23.769457640Z"
    }
   },
   "id": "cb5a70201a064244",
   "execution_count": 12
  },
  {
   "cell_type": "code",
   "outputs": [],
   "source": [],
   "metadata": {
    "collapsed": false,
    "ExecuteTime": {
     "end_time": "2024-03-14T13:21:23.770316923Z",
     "start_time": "2024-03-14T13:21:23.769627314Z"
    }
   },
   "id": "d26156534aa486ec",
   "execution_count": 12
  }
 ],
 "metadata": {
  "kernelspec": {
   "display_name": "bachelor2",
   "language": "python",
   "name": "bachelor2"
  },
  "language_info": {
   "codemirror_mode": {
    "name": "ipython",
    "version": 3
   },
   "file_extension": ".py",
   "mimetype": "text/x-python",
   "name": "python",
   "nbconvert_exporter": "python",
   "pygments_lexer": "ipython3",
   "version": "3.8.17"
  }
 },
 "nbformat": 4,
 "nbformat_minor": 5
}
