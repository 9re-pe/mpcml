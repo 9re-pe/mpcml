{
 "cells": [
  {
   "cell_type": "markdown",
   "id": "160d601c-a6f2-4440-8e1a-9a375a30fc25",
   "metadata": {},
   "source": [
    "# Import"
   ]
  },
  {
   "cell_type": "code",
   "execution_count": 1,
   "id": "387c2ad0-d2c1-44b0-8ff1-c8e92f88d078",
   "metadata": {},
   "outputs": [],
   "source": [
    "import sys\n",
    "\n",
    "root_dir = '../../'\n",
    "if root_dir not in sys.path:\n",
    "    sys.path.append(root_dir)\n",
    "\n",
    "import torch\n",
    "from torch import nn, optim\n",
    "import numpy as np\n",
    "import matplotlib.pyplot as plt\n",
    "from sklearn.decomposition import TruncatedSVD\n",
    "import pandas as pd\n",
    "\n",
    "pd.set_option('display.max_columns', 100)\n",
    "\n",
    "from modules import losses, models, samplers, searches, regularizers, evaluators, trainers, datasets, distributions"
   ]
  },
  {
   "cell_type": "markdown",
   "id": "d30566f9-b33b-4c76-98a1-ab7019653adf",
   "metadata": {},
   "source": [
    "# Dataset"
   ]
  },
  {
   "cell_type": "code",
   "execution_count": 2,
   "id": "2697d3e6-7dee-46c4-9453-bbfff930513f",
   "metadata": {},
   "outputs": [],
   "source": [
    "dataset = datasets.ML20m()\n",
    "n_user = dataset.n_user\n",
    "n_item = dataset.n_item\n",
    "train_set, test_set = dataset.get_train_and_test_set(neg_pair_weight=30)\n",
    "\n",
    "# device setting\n",
    "device = torch.device(\"cuda:0\" if torch.cuda.is_available() else \"cpu\")\n",
    "train_set = torch.LongTensor(train_set).to(device)\n",
    "test_set = torch.FloatTensor(test_set).to(device)"
   ]
  },
  {
   "cell_type": "markdown",
   "id": "0061a9ff-841e-4639-8a89-9f72f9b1e181",
   "metadata": {},
   "source": [
    "# Evaluator"
   ]
  },
  {
   "cell_type": "code",
   "execution_count": 3,
   "id": "575b2685-9f0b-47c7-a800-0087f7f3a3f5",
   "metadata": {},
   "outputs": [],
   "source": [
    "# k\n",
    "ks = [5, 10, 50]\n",
    "\n",
    "score_function_dict = {\n",
    "    # \"Recall\"      : evaluators.recall,\n",
    "    # \"Unpopularity\": evaluators.unpopularity,\n",
    "    # \"Unpopularity2\": evaluators.unpopularity2,\n",
    "    # \"Unpopularity3\": evaluators.unpopularity3,\n",
    "    # \"F1-score\"    : evaluators.f1_score,\n",
    "    # \"F1-score2\"    : evaluators.f1_score2,\n",
    "    # \"F1-score3\"    : evaluators.f1_score3,\n",
    "    \"my_metric1\"   : evaluators.my_metric1,\n",
    "    \"my_metric2\"   : evaluators.my_metric2\n",
    "}\n",
    "userwise = evaluators.UserwiseEvaluator(test_set, score_function_dict, ks)\n",
    "# coverage = evaluators.CoverageEvaluator(test_set, ks)\n",
    "# hubness = evaluators.HubnessEvaluator(test_set, ks)"
   ]
  },
  {
   "cell_type": "markdown",
   "id": "81d6f448-448c-4bb5-86f2-83efa831648e",
   "metadata": {},
   "source": [
    "# Sampler"
   ]
  },
  {
   "cell_type": "code",
   "execution_count": 4,
   "id": "55a1e7ab-0a96-43ee-af45-5e6cc2bbf7d2",
   "metadata": {},
   "outputs": [],
   "source": [
    "sampler = samplers.BaseSampler(train_set, n_user, n_item, device=device, strict_negative=False)"
   ]
  },
  {
   "cell_type": "markdown",
   "id": "cfdb3f0c-fae2-45a6-86a7-b279fb824df6",
   "metadata": {},
   "source": [
    "# Model"
   ]
  },
  {
   "cell_type": "code",
   "execution_count": 5,
   "id": "9862b8c4-ce01-4df6-ac4a-1e040eb53ac1",
   "metadata": {},
   "outputs": [],
   "source": [
    "# Hyperparameters\n",
    "lr = 1e-3\n",
    "n_dim = 30\n",
    "n_batch = 256\n",
    "n_epoch = 50\n",
    "no_progressbar = True\n",
    "\n",
    "model = models.CollaborativeMetricLearning(n_user, n_item, n_dim).to(device)\n",
    "optimizer = optim.Adam(model.parameters(), lr=lr)\n",
    "criterion = losses.SumTripletLoss(margin=1).to(device)\n",
    "trainer = trainers.BaseTrainer(model, optimizer, criterion, sampler, no_progressbar)"
   ]
  },
  {
   "cell_type": "markdown",
   "id": "1539d643-72b3-4037-aeea-43d792ad4020",
   "metadata": {},
   "source": [
    "# No Training Result"
   ]
  },
  {
   "cell_type": "code",
   "execution_count": 6,
   "id": "664e2e46-0d93-4c04-9355-c23382f7edaa",
   "metadata": {},
   "outputs": [
    {
     "data": {
      "text/html": [
       "<div>\n",
       "<style scoped>\n",
       "    .dataframe tbody tr th:only-of-type {\n",
       "        vertical-align: middle;\n",
       "    }\n",
       "\n",
       "    .dataframe tbody tr th {\n",
       "        vertical-align: top;\n",
       "    }\n",
       "\n",
       "    .dataframe thead th {\n",
       "        text-align: right;\n",
       "    }\n",
       "</style>\n",
       "<table border=\"1\" class=\"dataframe\">\n",
       "  <thead>\n",
       "    <tr style=\"text-align: right;\">\n",
       "      <th></th>\n",
       "      <th>my_metric1@5</th>\n",
       "      <th>my_metric2@5</th>\n",
       "      <th>my_metric1@10</th>\n",
       "      <th>my_metric2@10</th>\n",
       "      <th>my_metric1@50</th>\n",
       "      <th>my_metric2@50</th>\n",
       "    </tr>\n",
       "  </thead>\n",
       "  <tbody>\n",
       "    <tr>\n",
       "      <th>0</th>\n",
       "      <td>0.789038</td>\n",
       "      <td>0.012864</td>\n",
       "      <td>0.808109</td>\n",
       "      <td>0.012951</td>\n",
       "      <td>0.812695</td>\n",
       "      <td>0.01274</td>\n",
       "    </tr>\n",
       "  </tbody>\n",
       "</table>\n",
       "</div>"
      ],
      "text/plain": [
       "   my_metric1@5  my_metric2@5  my_metric1@10  my_metric2@10  my_metric1@50  \\\n",
       "0      0.789038      0.012864       0.808109       0.012951       0.812695   \n",
       "\n",
       "   my_metric2@50  \n",
       "0        0.01274  "
      ]
     },
     "metadata": {},
     "output_type": "display_data"
    }
   ],
   "source": [
    "knn = searches.NearestNeighborhood(model)\n",
    "trainer.valid(knn, userwise)\n",
    "re_no_training = trainer.valid_scores.copy()\n",
    "display(re_no_training)"
   ]
  },
  {
   "cell_type": "markdown",
   "id": "5f4492de-ed6e-4180-a4b6-1bf856db8041",
   "metadata": {},
   "source": [
    "# Training"
   ]
  },
  {
   "cell_type": "code",
   "execution_count": 7,
   "id": "683643a0-937a-4b8a-a69c-40b342124a8d",
   "metadata": {},
   "outputs": [],
   "source": [
    "# only traing no validation\n",
    "trainer.fit(n_batch, n_epoch)"
   ]
  },
  {
   "cell_type": "markdown",
   "id": "10bcf196-4de3-4695-bd0b-45abbd524b7f",
   "metadata": {},
   "source": [
    "# Result"
   ]
  },
  {
   "cell_type": "markdown",
   "id": "05983378-9729-49d2-a54b-6a6cce969ac9",
   "metadata": {},
   "source": [
    "## Base CML"
   ]
  },
  {
   "cell_type": "code",
   "execution_count": 8,
   "id": "c45729fb-d91b-48e9-98eb-cdd203cc714c",
   "metadata": {},
   "outputs": [
    {
     "data": {
      "text/html": [
       "<div>\n",
       "<style scoped>\n",
       "    .dataframe tbody tr th:only-of-type {\n",
       "        vertical-align: middle;\n",
       "    }\n",
       "\n",
       "    .dataframe tbody tr th {\n",
       "        vertical-align: top;\n",
       "    }\n",
       "\n",
       "    .dataframe thead th {\n",
       "        text-align: right;\n",
       "    }\n",
       "</style>\n",
       "<table border=\"1\" class=\"dataframe\">\n",
       "  <thead>\n",
       "    <tr style=\"text-align: right;\">\n",
       "      <th></th>\n",
       "      <th>my_metric1@5</th>\n",
       "      <th>my_metric2@5</th>\n",
       "      <th>my_metric1@10</th>\n",
       "      <th>my_metric2@10</th>\n",
       "      <th>my_metric1@50</th>\n",
       "      <th>my_metric2@50</th>\n",
       "    </tr>\n",
       "  </thead>\n",
       "  <tbody>\n",
       "    <tr>\n",
       "      <th>0</th>\n",
       "      <td>1.059051</td>\n",
       "      <td>0.114839</td>\n",
       "      <td>1.029584</td>\n",
       "      <td>0.099999</td>\n",
       "      <td>0.954141</td>\n",
       "      <td>0.073724</td>\n",
       "    </tr>\n",
       "  </tbody>\n",
       "</table>\n",
       "</div>"
      ],
      "text/plain": [
       "   my_metric1@5  my_metric2@5  my_metric1@10  my_metric2@10  my_metric1@50  \\\n",
       "0      1.059051      0.114839       1.029584       0.099999       0.954141   \n",
       "\n",
       "   my_metric2@50  \n",
       "0       0.073724  "
      ]
     },
     "metadata": {},
     "output_type": "display_data"
    }
   ],
   "source": [
    "knn = searches.NearestNeighborhood(model)\n",
    "\n",
    "# Recall\n",
    "trainer.valid(knn, userwise)\n",
    "re_base = trainer.valid_scores.copy()\n",
    "display(re_base)"
   ]
  },
  {
   "cell_type": "markdown",
   "id": "44345bc1-6cfe-4671-9057-04c46b6a9051",
   "metadata": {},
   "source": [
    "## CML+MP"
   ]
  },
  {
   "cell_type": "code",
   "execution_count": 9,
   "id": "4d39d277-67d8-4751-b42e-fb45198f095a",
   "metadata": {},
   "outputs": [],
   "source": [
    "n_item_sample = 600\n",
    "n_user_sample = 600\n",
    "bias_li = [0.0, 0.1, 0.2, 0.3, 0.4, 0.5, 0.6, 0.7, 0.8, 0.9, 1.0]\n",
    "gamma = distributions.Gamma()"
   ]
  },
  {
   "cell_type": "code",
   "execution_count": 10,
   "id": "4c84a7a1-62bb-4514-b645-48bf260e4195",
   "metadata": {},
   "outputs": [
    {
     "name": "stdout",
     "output_type": "stream",
     "text": [
      "bias=0.0\n"
     ]
    },
    {
     "data": {
      "text/html": [
       "<div>\n",
       "<style scoped>\n",
       "    .dataframe tbody tr th:only-of-type {\n",
       "        vertical-align: middle;\n",
       "    }\n",
       "\n",
       "    .dataframe tbody tr th {\n",
       "        vertical-align: top;\n",
       "    }\n",
       "\n",
       "    .dataframe thead th {\n",
       "        text-align: right;\n",
       "    }\n",
       "</style>\n",
       "<table border=\"1\" class=\"dataframe\">\n",
       "  <thead>\n",
       "    <tr style=\"text-align: right;\">\n",
       "      <th></th>\n",
       "      <th>my_metric1@5</th>\n",
       "      <th>my_metric2@5</th>\n",
       "      <th>my_metric1@10</th>\n",
       "      <th>my_metric2@10</th>\n",
       "      <th>my_metric1@50</th>\n",
       "      <th>my_metric2@50</th>\n",
       "    </tr>\n",
       "  </thead>\n",
       "  <tbody>\n",
       "    <tr>\n",
       "      <th>0</th>\n",
       "      <td>0.94047</td>\n",
       "      <td>0.025367</td>\n",
       "      <td>0.972901</td>\n",
       "      <td>0.027825</td>\n",
       "      <td>0.96361</td>\n",
       "      <td>0.031164</td>\n",
       "    </tr>\n",
       "  </tbody>\n",
       "</table>\n",
       "</div>"
      ],
      "text/plain": [
       "   my_metric1@5  my_metric2@5  my_metric1@10  my_metric2@10  my_metric1@50  \\\n",
       "0       0.94047      0.025367       0.972901       0.027825        0.96361   \n",
       "\n",
       "   my_metric2@50  \n",
       "0       0.031164  "
      ]
     },
     "metadata": {},
     "output_type": "display_data"
    },
    {
     "name": "stdout",
     "output_type": "stream",
     "text": [
      "bias=0.1\n"
     ]
    },
    {
     "data": {
      "text/html": [
       "<div>\n",
       "<style scoped>\n",
       "    .dataframe tbody tr th:only-of-type {\n",
       "        vertical-align: middle;\n",
       "    }\n",
       "\n",
       "    .dataframe tbody tr th {\n",
       "        vertical-align: top;\n",
       "    }\n",
       "\n",
       "    .dataframe thead th {\n",
       "        text-align: right;\n",
       "    }\n",
       "</style>\n",
       "<table border=\"1\" class=\"dataframe\">\n",
       "  <thead>\n",
       "    <tr style=\"text-align: right;\">\n",
       "      <th></th>\n",
       "      <th>my_metric1@5</th>\n",
       "      <th>my_metric2@5</th>\n",
       "      <th>my_metric1@10</th>\n",
       "      <th>my_metric2@10</th>\n",
       "      <th>my_metric1@50</th>\n",
       "      <th>my_metric2@50</th>\n",
       "    </tr>\n",
       "  </thead>\n",
       "  <tbody>\n",
       "    <tr>\n",
       "      <th>0</th>\n",
       "      <td>1.0286</td>\n",
       "      <td>0.032116</td>\n",
       "      <td>1.058684</td>\n",
       "      <td>0.033774</td>\n",
       "      <td>0.995889</td>\n",
       "      <td>0.035369</td>\n",
       "    </tr>\n",
       "  </tbody>\n",
       "</table>\n",
       "</div>"
      ],
      "text/plain": [
       "   my_metric1@5  my_metric2@5  my_metric1@10  my_metric2@10  my_metric1@50  \\\n",
       "0        1.0286      0.032116       1.058684       0.033774       0.995889   \n",
       "\n",
       "   my_metric2@50  \n",
       "0       0.035369  "
      ]
     },
     "metadata": {},
     "output_type": "display_data"
    },
    {
     "name": "stdout",
     "output_type": "stream",
     "text": [
      "bias=0.2\n"
     ]
    },
    {
     "data": {
      "text/html": [
       "<div>\n",
       "<style scoped>\n",
       "    .dataframe tbody tr th:only-of-type {\n",
       "        vertical-align: middle;\n",
       "    }\n",
       "\n",
       "    .dataframe tbody tr th {\n",
       "        vertical-align: top;\n",
       "    }\n",
       "\n",
       "    .dataframe thead th {\n",
       "        text-align: right;\n",
       "    }\n",
       "</style>\n",
       "<table border=\"1\" class=\"dataframe\">\n",
       "  <thead>\n",
       "    <tr style=\"text-align: right;\">\n",
       "      <th></th>\n",
       "      <th>my_metric1@5</th>\n",
       "      <th>my_metric2@5</th>\n",
       "      <th>my_metric1@10</th>\n",
       "      <th>my_metric2@10</th>\n",
       "      <th>my_metric1@50</th>\n",
       "      <th>my_metric2@50</th>\n",
       "    </tr>\n",
       "  </thead>\n",
       "  <tbody>\n",
       "    <tr>\n",
       "      <th>0</th>\n",
       "      <td>1.061698</td>\n",
       "      <td>0.036355</td>\n",
       "      <td>1.049509</td>\n",
       "      <td>0.03824</td>\n",
       "      <td>1.000768</td>\n",
       "      <td>0.039035</td>\n",
       "    </tr>\n",
       "  </tbody>\n",
       "</table>\n",
       "</div>"
      ],
      "text/plain": [
       "   my_metric1@5  my_metric2@5  my_metric1@10  my_metric2@10  my_metric1@50  \\\n",
       "0      1.061698      0.036355       1.049509        0.03824       1.000768   \n",
       "\n",
       "   my_metric2@50  \n",
       "0       0.039035  "
      ]
     },
     "metadata": {},
     "output_type": "display_data"
    },
    {
     "name": "stdout",
     "output_type": "stream",
     "text": [
      "bias=0.3\n"
     ]
    },
    {
     "data": {
      "text/html": [
       "<div>\n",
       "<style scoped>\n",
       "    .dataframe tbody tr th:only-of-type {\n",
       "        vertical-align: middle;\n",
       "    }\n",
       "\n",
       "    .dataframe tbody tr th {\n",
       "        vertical-align: top;\n",
       "    }\n",
       "\n",
       "    .dataframe thead th {\n",
       "        text-align: right;\n",
       "    }\n",
       "</style>\n",
       "<table border=\"1\" class=\"dataframe\">\n",
       "  <thead>\n",
       "    <tr style=\"text-align: right;\">\n",
       "      <th></th>\n",
       "      <th>my_metric1@5</th>\n",
       "      <th>my_metric2@5</th>\n",
       "      <th>my_metric1@10</th>\n",
       "      <th>my_metric2@10</th>\n",
       "      <th>my_metric1@50</th>\n",
       "      <th>my_metric2@50</th>\n",
       "    </tr>\n",
       "  </thead>\n",
       "  <tbody>\n",
       "    <tr>\n",
       "      <th>0</th>\n",
       "      <td>1.066723</td>\n",
       "      <td>0.040457</td>\n",
       "      <td>1.082249</td>\n",
       "      <td>0.042445</td>\n",
       "      <td>1.022414</td>\n",
       "      <td>0.042631</td>\n",
       "    </tr>\n",
       "  </tbody>\n",
       "</table>\n",
       "</div>"
      ],
      "text/plain": [
       "   my_metric1@5  my_metric2@5  my_metric1@10  my_metric2@10  my_metric1@50  \\\n",
       "0      1.066723      0.040457       1.082249       0.042445       1.022414   \n",
       "\n",
       "   my_metric2@50  \n",
       "0       0.042631  "
      ]
     },
     "metadata": {},
     "output_type": "display_data"
    },
    {
     "name": "stdout",
     "output_type": "stream",
     "text": [
      "bias=0.4\n"
     ]
    },
    {
     "data": {
      "text/html": [
       "<div>\n",
       "<style scoped>\n",
       "    .dataframe tbody tr th:only-of-type {\n",
       "        vertical-align: middle;\n",
       "    }\n",
       "\n",
       "    .dataframe tbody tr th {\n",
       "        vertical-align: top;\n",
       "    }\n",
       "\n",
       "    .dataframe thead th {\n",
       "        text-align: right;\n",
       "    }\n",
       "</style>\n",
       "<table border=\"1\" class=\"dataframe\">\n",
       "  <thead>\n",
       "    <tr style=\"text-align: right;\">\n",
       "      <th></th>\n",
       "      <th>my_metric1@5</th>\n",
       "      <th>my_metric2@5</th>\n",
       "      <th>my_metric1@10</th>\n",
       "      <th>my_metric2@10</th>\n",
       "      <th>my_metric1@50</th>\n",
       "      <th>my_metric2@50</th>\n",
       "    </tr>\n",
       "  </thead>\n",
       "  <tbody>\n",
       "    <tr>\n",
       "      <th>0</th>\n",
       "      <td>1.094082</td>\n",
       "      <td>0.044284</td>\n",
       "      <td>1.089123</td>\n",
       "      <td>0.046624</td>\n",
       "      <td>1.035843</td>\n",
       "      <td>0.046437</td>\n",
       "    </tr>\n",
       "  </tbody>\n",
       "</table>\n",
       "</div>"
      ],
      "text/plain": [
       "   my_metric1@5  my_metric2@5  my_metric1@10  my_metric2@10  my_metric1@50  \\\n",
       "0      1.094082      0.044284       1.089123       0.046624       1.035843   \n",
       "\n",
       "   my_metric2@50  \n",
       "0       0.046437  "
      ]
     },
     "metadata": {},
     "output_type": "display_data"
    },
    {
     "name": "stdout",
     "output_type": "stream",
     "text": [
      "bias=0.5\n"
     ]
    },
    {
     "data": {
      "text/html": [
       "<div>\n",
       "<style scoped>\n",
       "    .dataframe tbody tr th:only-of-type {\n",
       "        vertical-align: middle;\n",
       "    }\n",
       "\n",
       "    .dataframe tbody tr th {\n",
       "        vertical-align: top;\n",
       "    }\n",
       "\n",
       "    .dataframe thead th {\n",
       "        text-align: right;\n",
       "    }\n",
       "</style>\n",
       "<table border=\"1\" class=\"dataframe\">\n",
       "  <thead>\n",
       "    <tr style=\"text-align: right;\">\n",
       "      <th></th>\n",
       "      <th>my_metric1@5</th>\n",
       "      <th>my_metric2@5</th>\n",
       "      <th>my_metric1@10</th>\n",
       "      <th>my_metric2@10</th>\n",
       "      <th>my_metric1@50</th>\n",
       "      <th>my_metric2@50</th>\n",
       "    </tr>\n",
       "  </thead>\n",
       "  <tbody>\n",
       "    <tr>\n",
       "      <th>0</th>\n",
       "      <td>1.110687</td>\n",
       "      <td>0.048688</td>\n",
       "      <td>1.120514</td>\n",
       "      <td>0.051605</td>\n",
       "      <td>1.04884</td>\n",
       "      <td>0.050552</td>\n",
       "    </tr>\n",
       "  </tbody>\n",
       "</table>\n",
       "</div>"
      ],
      "text/plain": [
       "   my_metric1@5  my_metric2@5  my_metric1@10  my_metric2@10  my_metric1@50  \\\n",
       "0      1.110687      0.048688       1.120514       0.051605        1.04884   \n",
       "\n",
       "   my_metric2@50  \n",
       "0       0.050552  "
      ]
     },
     "metadata": {},
     "output_type": "display_data"
    },
    {
     "name": "stdout",
     "output_type": "stream",
     "text": [
      "bias=0.6\n"
     ]
    },
    {
     "data": {
      "text/html": [
       "<div>\n",
       "<style scoped>\n",
       "    .dataframe tbody tr th:only-of-type {\n",
       "        vertical-align: middle;\n",
       "    }\n",
       "\n",
       "    .dataframe tbody tr th {\n",
       "        vertical-align: top;\n",
       "    }\n",
       "\n",
       "    .dataframe thead th {\n",
       "        text-align: right;\n",
       "    }\n",
       "</style>\n",
       "<table border=\"1\" class=\"dataframe\">\n",
       "  <thead>\n",
       "    <tr style=\"text-align: right;\">\n",
       "      <th></th>\n",
       "      <th>my_metric1@5</th>\n",
       "      <th>my_metric2@5</th>\n",
       "      <th>my_metric1@10</th>\n",
       "      <th>my_metric2@10</th>\n",
       "      <th>my_metric1@50</th>\n",
       "      <th>my_metric2@50</th>\n",
       "    </tr>\n",
       "  </thead>\n",
       "  <tbody>\n",
       "    <tr>\n",
       "      <th>0</th>\n",
       "      <td>1.117273</td>\n",
       "      <td>0.053614</td>\n",
       "      <td>1.136438</td>\n",
       "      <td>0.057318</td>\n",
       "      <td>1.057688</td>\n",
       "      <td>0.055067</td>\n",
       "    </tr>\n",
       "  </tbody>\n",
       "</table>\n",
       "</div>"
      ],
      "text/plain": [
       "   my_metric1@5  my_metric2@5  my_metric1@10  my_metric2@10  my_metric1@50  \\\n",
       "0      1.117273      0.053614       1.136438       0.057318       1.057688   \n",
       "\n",
       "   my_metric2@50  \n",
       "0       0.055067  "
      ]
     },
     "metadata": {},
     "output_type": "display_data"
    },
    {
     "name": "stdout",
     "output_type": "stream",
     "text": [
      "bias=0.7\n"
     ]
    },
    {
     "data": {
      "text/html": [
       "<div>\n",
       "<style scoped>\n",
       "    .dataframe tbody tr th:only-of-type {\n",
       "        vertical-align: middle;\n",
       "    }\n",
       "\n",
       "    .dataframe tbody tr th {\n",
       "        vertical-align: top;\n",
       "    }\n",
       "\n",
       "    .dataframe thead th {\n",
       "        text-align: right;\n",
       "    }\n",
       "</style>\n",
       "<table border=\"1\" class=\"dataframe\">\n",
       "  <thead>\n",
       "    <tr style=\"text-align: right;\">\n",
       "      <th></th>\n",
       "      <th>my_metric1@5</th>\n",
       "      <th>my_metric2@5</th>\n",
       "      <th>my_metric1@10</th>\n",
       "      <th>my_metric2@10</th>\n",
       "      <th>my_metric1@50</th>\n",
       "      <th>my_metric2@50</th>\n",
       "    </tr>\n",
       "  </thead>\n",
       "  <tbody>\n",
       "    <tr>\n",
       "      <th>0</th>\n",
       "      <td>1.130022</td>\n",
       "      <td>0.059971</td>\n",
       "      <td>1.160789</td>\n",
       "      <td>0.06448</td>\n",
       "      <td>1.065809</td>\n",
       "      <td>0.060058</td>\n",
       "    </tr>\n",
       "  </tbody>\n",
       "</table>\n",
       "</div>"
      ],
      "text/plain": [
       "   my_metric1@5  my_metric2@5  my_metric1@10  my_metric2@10  my_metric1@50  \\\n",
       "0      1.130022      0.059971       1.160789        0.06448       1.065809   \n",
       "\n",
       "   my_metric2@50  \n",
       "0       0.060058  "
      ]
     },
     "metadata": {},
     "output_type": "display_data"
    },
    {
     "name": "stdout",
     "output_type": "stream",
     "text": [
      "bias=0.8\n"
     ]
    },
    {
     "data": {
      "text/html": [
       "<div>\n",
       "<style scoped>\n",
       "    .dataframe tbody tr th:only-of-type {\n",
       "        vertical-align: middle;\n",
       "    }\n",
       "\n",
       "    .dataframe tbody tr th {\n",
       "        vertical-align: top;\n",
       "    }\n",
       "\n",
       "    .dataframe thead th {\n",
       "        text-align: right;\n",
       "    }\n",
       "</style>\n",
       "<table border=\"1\" class=\"dataframe\">\n",
       "  <thead>\n",
       "    <tr style=\"text-align: right;\">\n",
       "      <th></th>\n",
       "      <th>my_metric1@5</th>\n",
       "      <th>my_metric2@5</th>\n",
       "      <th>my_metric1@10</th>\n",
       "      <th>my_metric2@10</th>\n",
       "      <th>my_metric1@50</th>\n",
       "      <th>my_metric2@50</th>\n",
       "    </tr>\n",
       "  </thead>\n",
       "  <tbody>\n",
       "    <tr>\n",
       "      <th>0</th>\n",
       "      <td>1.165112</td>\n",
       "      <td>0.069358</td>\n",
       "      <td>1.189275</td>\n",
       "      <td>0.074282</td>\n",
       "      <td>1.064477</td>\n",
       "      <td>0.065349</td>\n",
       "    </tr>\n",
       "  </tbody>\n",
       "</table>\n",
       "</div>"
      ],
      "text/plain": [
       "   my_metric1@5  my_metric2@5  my_metric1@10  my_metric2@10  my_metric1@50  \\\n",
       "0      1.165112      0.069358       1.189275       0.074282       1.064477   \n",
       "\n",
       "   my_metric2@50  \n",
       "0       0.065349  "
      ]
     },
     "metadata": {},
     "output_type": "display_data"
    },
    {
     "name": "stdout",
     "output_type": "stream",
     "text": [
      "bias=0.9\n"
     ]
    },
    {
     "data": {
      "text/html": [
       "<div>\n",
       "<style scoped>\n",
       "    .dataframe tbody tr th:only-of-type {\n",
       "        vertical-align: middle;\n",
       "    }\n",
       "\n",
       "    .dataframe tbody tr th {\n",
       "        vertical-align: top;\n",
       "    }\n",
       "\n",
       "    .dataframe thead th {\n",
       "        text-align: right;\n",
       "    }\n",
       "</style>\n",
       "<table border=\"1\" class=\"dataframe\">\n",
       "  <thead>\n",
       "    <tr style=\"text-align: right;\">\n",
       "      <th></th>\n",
       "      <th>my_metric1@5</th>\n",
       "      <th>my_metric2@5</th>\n",
       "      <th>my_metric1@10</th>\n",
       "      <th>my_metric2@10</th>\n",
       "      <th>my_metric1@50</th>\n",
       "      <th>my_metric2@50</th>\n",
       "    </tr>\n",
       "  </thead>\n",
       "  <tbody>\n",
       "    <tr>\n",
       "      <th>0</th>\n",
       "      <td>1.207191</td>\n",
       "      <td>0.08521</td>\n",
       "      <td>1.202</td>\n",
       "      <td>0.089642</td>\n",
       "      <td>1.031391</td>\n",
       "      <td>0.070441</td>\n",
       "    </tr>\n",
       "  </tbody>\n",
       "</table>\n",
       "</div>"
      ],
      "text/plain": [
       "   my_metric1@5  my_metric2@5  my_metric1@10  my_metric2@10  my_metric1@50  \\\n",
       "0      1.207191       0.08521          1.202       0.089642       1.031391   \n",
       "\n",
       "   my_metric2@50  \n",
       "0       0.070441  "
      ]
     },
     "metadata": {},
     "output_type": "display_data"
    },
    {
     "name": "stdout",
     "output_type": "stream",
     "text": [
      "bias=1.0\n"
     ]
    },
    {
     "data": {
      "text/html": [
       "<div>\n",
       "<style scoped>\n",
       "    .dataframe tbody tr th:only-of-type {\n",
       "        vertical-align: middle;\n",
       "    }\n",
       "\n",
       "    .dataframe tbody tr th {\n",
       "        vertical-align: top;\n",
       "    }\n",
       "\n",
       "    .dataframe thead th {\n",
       "        text-align: right;\n",
       "    }\n",
       "</style>\n",
       "<table border=\"1\" class=\"dataframe\">\n",
       "  <thead>\n",
       "    <tr style=\"text-align: right;\">\n",
       "      <th></th>\n",
       "      <th>my_metric1@5</th>\n",
       "      <th>my_metric2@5</th>\n",
       "      <th>my_metric1@10</th>\n",
       "      <th>my_metric2@10</th>\n",
       "      <th>my_metric1@50</th>\n",
       "      <th>my_metric2@50</th>\n",
       "    </tr>\n",
       "  </thead>\n",
       "  <tbody>\n",
       "    <tr>\n",
       "      <th>0</th>\n",
       "      <td>1.058824</td>\n",
       "      <td>0.11478</td>\n",
       "      <td>1.029477</td>\n",
       "      <td>0.099971</td>\n",
       "      <td>0.954129</td>\n",
       "      <td>0.073723</td>\n",
       "    </tr>\n",
       "  </tbody>\n",
       "</table>\n",
       "</div>"
      ],
      "text/plain": [
       "   my_metric1@5  my_metric2@5  my_metric1@10  my_metric2@10  my_metric1@50  \\\n",
       "0      1.058824       0.11478       1.029477       0.099971       0.954129   \n",
       "\n",
       "   my_metric2@50  \n",
       "0       0.073723  "
      ]
     },
     "metadata": {},
     "output_type": "display_data"
    }
   ],
   "source": [
    "re_mpcml_li = []\n",
    "for bias in bias_li:\n",
    "    print(f'bias={bias}')\n",
    "    mp = searches.MutualProximity(model, gamma, n_item_sample, n_user_sample, bias)\n",
    "    trainer.valid(mp, userwise)\n",
    "    re = trainer.valid_scores.copy()\n",
    "    display(re)\n",
    "    re_mpcml_li.append(re)"
   ]
  },
  {
   "cell_type": "code",
   "execution_count": 11,
   "id": "ab745d58-374c-46b2-a595-71745fa09c0f",
   "metadata": {},
   "outputs": [],
   "source": [
    "re_1 = []\n",
    "re_2 = []\n",
    "for re in re_mpcml_li:\n",
    "    re_1.append(re.iloc[-1, 2])\n",
    "    re_2.append(re.iloc[-1, 3])"
   ]
  },
  {
   "cell_type": "code",
   "execution_count": 12,
   "id": "18e38a58-d6d0-4f80-8ba3-fd7567d0aee2",
   "metadata": {},
   "outputs": [],
   "source": [
    "re_base_1 = []\n",
    "re_base_2 = []\n",
    "for _ in range(len(bias_li)):\n",
    "    re_base_1.append(re_base.iloc[-1, 2])\n",
    "    re_base_2.append(re_base.iloc[-1, 3])"
   ]
  },
  {
   "cell_type": "markdown",
   "id": "7314526d-7cd3-40f9-98d5-3bb9437e4fc2",
   "metadata": {},
   "source": [
    "## my_metric1"
   ]
  },
  {
   "cell_type": "code",
   "execution_count": 15,
   "id": "ecc4d161-f17a-4fa9-91ec-9110f698bc81",
   "metadata": {},
   "outputs": [
    {
     "data": {
      "image/png": "[encoded data removed]",
      "text/plain": [
       "<Figure size 1000x600 with 1 Axes>"
      ]
     },
     "metadata": {},
     "output_type": "display_data"
    }
   ],
   "source": [
    "# グラフの作成\n",
    "plt.figure(figsize=(10, 6))\n",
    "plt.plot(bias_li, re_base_1, label='BASE', marker='o')\n",
    "plt.plot(bias_li, re_1, label='MP', marker='s')\n",
    "\n",
    "# タイトルとラベルの追加\n",
    "plt.title('my_metric1-20m-k=10')\n",
    "plt.xlabel('bias')\n",
    "plt.ylabel('my_metric1')\n",
    "plt.legend()\n",
    "\n",
    "# グリッドを表示\n",
    "plt.grid(True)\n",
    "\n",
    "# グラフの表示\n",
    "plt.show()"
   ]
  },
  {
   "cell_type": "markdown",
   "id": "8d76744e-f514-47b1-81b9-6126f2111dbc",
   "metadata": {},
   "source": [
    "## me_metric2"
   ]
  },
  {
   "cell_type": "code",
   "execution_count": 16,
   "id": "1252b768-3736-4bbc-8951-8f3388ba7491",
   "metadata": {
    "tags": []
   },
   "outputs": [
    {
     "data": {
      "image/png": "[encoded data removed]",
      "text/plain": [
       "<Figure size 1000x600 with 1 Axes>"
      ]
     },
     "metadata": {},
     "output_type": "display_data"
    }
   ],
   "source": [
    "# グラフの作成\n",
    "plt.figure(figsize=(10, 6))\n",
    "plt.plot(bias_li, re_base_2, label='BASE', marker='o')\n",
    "plt.plot(bias_li, re_2, label='MP', marker='s')\n",
    "\n",
    "# タイトルとラベルの追加\n",
    "plt.title('my_metric2-20m-k=10')\n",
    "plt.xlabel('bias')\n",
    "plt.ylabel('my_metric2')\n",
    "plt.legend()\n",
    "\n",
    "# グリッドを表示\n",
    "plt.grid(True)\n",
    "\n",
    "# グラフの表示\n",
    "plt.show()"
   ]
  },
  {
   "cell_type": "code",
   "execution_count": null,
   "id": "4f8088bd-392f-4500-9c20-842e1b57366f",
   "metadata": {},
   "outputs": [],
   "source": []
  }
 ],
 "metadata": {
  "kernelspec": {
   "display_name": "bachelor2",
   "language": "python",
   "name": "bachelor2"
  },
  "language_info": {
   "codemirror_mode": {
    "name": "ipython",
    "version": 3
   },
   "file_extension": ".py",
   "mimetype": "text/x-python",
   "name": "python",
   "nbconvert_exporter": "python",
   "pygments_lexer": "ipython3",
   "version": "3.8.17"
  }
 },
 "nbformat": 4,
 "nbformat_minor": 5
}
