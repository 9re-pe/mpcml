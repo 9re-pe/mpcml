{
 "cells": [
  {
   "cell_type": "markdown",
   "id": "7dac18cb-d876-44b6-9e00-e36c9089d236",
   "metadata": {},
   "source": [
    "# Import"
   ]
  },
  {
   "cell_type": "code",
   "execution_count": 1,
   "id": "ed9d9c60-6620-49e8-81b9-ad22af579e8d",
   "metadata": {
    "ExecuteTime": {
     "end_time": "2023-12-11T03:34:59.879937Z",
     "start_time": "2023-12-11T03:34:54.855775Z"
    }
   },
   "outputs": [],
   "source": [
    "import sys\n",
    "import os\n",
    "from datetime import datetime\n",
    "\n",
    "root_dir = '../../../'\n",
    "if root_dir not in sys.path:\n",
    "    sys.path.append(root_dir)\n",
    "\n",
    "import torch\n",
    "from torch import nn, optim\n",
    "import numpy as np\n",
    "import matplotlib.pyplot as plt\n",
    "from sklearn.decomposition import TruncatedSVD\n",
    "import pandas as pd\n",
    "\n",
    "pd.set_option('display.max_columns', 100)\n",
    "\n",
    "from modules import losses, models, samplers, searches, regularizers, evaluators, trainers, datasets, distributions"
   ]
  },
  {
   "cell_type": "markdown",
   "id": "5eefcce6-9e0c-4f5b-8c35-e33c6baccff9",
   "metadata": {},
   "source": [
    "# Output settings"
   ]
  },
  {
   "cell_type": "code",
   "execution_count": 2,
   "id": "67cec6f7-dd75-4344-b2c6-09890897b221",
   "metadata": {
    "ExecuteTime": {
     "end_time": "2023-12-11T03:35:01.129028Z",
     "start_time": "2023-12-11T03:35:01.109780Z"
    }
   },
   "outputs": [],
   "source": [
    "out_to_file = True\n",
    "out_dir = '../../out/comparison/ml_100k/'\n",
    "\n",
    "if not os.path.exists(out_dir):\n",
    "    os.makedirs(out_dir)"
   ]
  },
  {
   "cell_type": "markdown",
   "id": "7d7072aa-f146-44e0-8377-cca8ff234bc0",
   "metadata": {},
   "source": [
    "# Dataset"
   ]
  },
  {
   "cell_type": "code",
   "execution_count": 3,
   "id": "e86ae9cc-2b94-447d-b915-152a9ba0494e",
   "metadata": {
    "ExecuteTime": {
     "end_time": "2023-12-11T03:35:07.147502Z",
     "start_time": "2023-12-11T03:35:03.266367Z"
    }
   },
   "outputs": [],
   "source": [
    "dataset = datasets.ML100k()\n",
    "n_user = dataset.n_user\n",
    "n_item = dataset.n_item\n",
    "n_feedback = dataset.n_pos_pairs\n",
    "train_set, test_set = dataset.get_train_and_test_set(neg_pair_weight=10)"
   ]
  },
  {
   "cell_type": "code",
   "execution_count": 4,
   "id": "762c8805-9418-46ec-afe3-a7bae19f6f53",
   "metadata": {
    "ExecuteTime": {
     "end_time": "2023-12-11T03:35:07.879453Z",
     "start_time": "2023-12-11T03:35:07.837897Z"
    }
   },
   "outputs": [
    {
     "name": "stdout",
     "output_type": "stream",
     "text": [
      "n_user = 940\n",
      "n_item = 1447\n",
      "n_feedback = 55369\n"
     ]
    }
   ],
   "source": [
    "print(f'n_user = {n_user}')\n",
    "print(f'n_item = {n_item}')\n",
    "print(f'n_feedback = {n_feedback}')"
   ]
  },
  {
   "cell_type": "markdown",
   "id": "1d53a576-4151-4151-9d3c-2f6f66cf277c",
   "metadata": {
    "tags": []
   },
   "source": [
    "# Device"
   ]
  },
  {
   "cell_type": "code",
   "execution_count": 5,
   "id": "06735b88-91af-4674-9a92-929e84aa01a1",
   "metadata": {
    "ExecuteTime": {
     "end_time": "2023-12-11T03:35:10.343438Z",
     "start_time": "2023-12-11T03:35:10.301082Z"
    }
   },
   "outputs": [],
   "source": [
    "device = torch.device(\"cuda:0\" if torch.cuda.is_available() else \"cpu\")\n",
    "train_set = torch.LongTensor(train_set).to(device)\n",
    "test_set = torch.FloatTensor(test_set).to(device)"
   ]
  },
  {
   "cell_type": "code",
   "execution_count": 6,
   "id": "e205f050-0112-4e49-8823-81babbd785f1",
   "metadata": {
    "ExecuteTime": {
     "end_time": "2023-12-11T03:35:11.466124Z",
     "start_time": "2023-12-11T03:35:11.433733Z"
    }
   },
   "outputs": [
    {
     "name": "stdout",
     "output_type": "stream",
     "text": [
      "cpu\n"
     ]
    }
   ],
   "source": [
    "print(device)"
   ]
  },
  {
   "cell_type": "markdown",
   "id": "781edec3-c706-43a5-9d91-e0cb2d60c024",
   "metadata": {},
   "source": [
    "# Evaluator"
   ]
  },
  {
   "cell_type": "code",
   "execution_count": 7,
   "id": "2c87126b-82cf-489b-9d0d-878d640e2d62",
   "metadata": {
    "ExecuteTime": {
     "end_time": "2023-12-11T03:35:13.086042Z",
     "start_time": "2023-12-11T03:35:13.068206Z"
    }
   },
   "outputs": [],
   "source": [
    "# The size of recommendation set (K)\n",
    "ks = [10]\n",
    "\n",
    "score_function_dict = {\n",
    "    \"Recall\"       : evaluators.recall,\n",
    "    \"Unpopularity\" : evaluators.unpopularity,\n",
    "    \"Serendipity\"  : evaluators.serendipity,\n",
    "    \"Long-tail rate\": evaluators.longtail_rate,\n",
    "}\n",
    "userwise = evaluators.UserwiseEvaluator(test_set, score_function_dict, ks)"
   ]
  },
  {
   "cell_type": "markdown",
   "id": "9d563e19-4dd3-453f-8958-79c49bead201",
   "metadata": {},
   "source": [
    "# Sampler"
   ]
  },
  {
   "cell_type": "code",
   "execution_count": 8,
   "id": "df3a8457-216e-420b-8abb-f71c139eb3a8",
   "metadata": {
    "ExecuteTime": {
     "end_time": "2023-12-11T03:35:15.375286Z",
     "start_time": "2023-12-11T03:35:15.361292Z"
    }
   },
   "outputs": [],
   "source": [
    "sampler = samplers.BaseSampler(train_set, n_user, n_item, device=device, strict_negative=False)"
   ]
  },
  {
   "cell_type": "markdown",
   "id": "a17ecbab-925b-4978-a7b1-6762c98e266c",
   "metadata": {},
   "source": [
    "# Model"
   ]
  },
  {
   "cell_type": "code",
   "execution_count": 9,
   "id": "5661d266-bd6d-4cb1-a184-3706a52d8cbb",
   "metadata": {
    "ExecuteTime": {
     "end_time": "2023-12-11T03:35:28.416950Z",
     "start_time": "2023-12-11T03:35:28.399806Z"
    }
   },
   "outputs": [],
   "source": [
    "# Hyperparameters\n",
    "lr = 1e-3\n",
    "n_dim = 10\n",
    "n_batch = 256\n",
    "n_epoch = 50\n",
    "no_progressbar = False\n",
    "valid_per_epoch = 10\n",
    "n_sample = 30\n",
    "bias = 0.8\n",
    "gamma = distributions.Gamma()\n",
    "\n",
    "\n",
    "model = models.CollaborativeMetricLearning(n_user, n_item, n_dim).to(device)\n",
    "optimizer = optim.Adam(model.parameters(), lr=lr)\n",
    "criterion = losses.SumTripletLoss(margin=1).to(device)\n",
    "trainer = trainers.BaseTrainer(model, optimizer, criterion, sampler, no_progressbar)"
   ]
  },
  {
   "cell_type": "code",
   "execution_count": 10,
   "outputs": [],
   "source": [
    "mp = searches.MutualProximity(model, gamma, n_sample, bias)"
   ],
   "metadata": {
    "collapsed": false,
    "ExecuteTime": {
     "end_time": "2023-12-11T03:35:29.890870Z",
     "start_time": "2023-12-11T03:35:29.875635Z"
    }
   }
  },
  {
   "cell_type": "code",
   "execution_count": 11,
   "outputs": [
    {
     "name": "stderr",
     "output_type": "stream",
     "text": [
      "100%|██████████| 940/940 [00:23<00:00, 40.82it/s]\n",
      "epoch1 avg_loss:0.938: 100%|██████████| 256/256 [00:04<00:00, 56.26it/s]\n",
      "epoch2 avg_loss:0.779: 100%|██████████| 256/256 [00:04<00:00, 57.34it/s]\n",
      "epoch3 avg_loss:0.687: 100%|██████████| 256/256 [00:04<00:00, 55.71it/s]\n",
      "epoch4 avg_loss:0.624: 100%|██████████| 256/256 [00:05<00:00, 49.91it/s]\n",
      "epoch5 avg_loss:0.588: 100%|██████████| 256/256 [00:04<00:00, 59.94it/s]\n",
      "epoch6 avg_loss:0.558: 100%|██████████| 256/256 [00:04<00:00, 61.20it/s]\n",
      "epoch7 avg_loss:0.534: 100%|██████████| 256/256 [00:04<00:00, 62.83it/s]\n",
      "epoch8 avg_loss:0.512: 100%|██████████| 256/256 [00:03<00:00, 64.55it/s]\n",
      "epoch9 avg_loss:0.494: 100%|██████████| 256/256 [00:04<00:00, 63.27it/s]\n",
      "epoch10 avg_loss:0.473: 100%|██████████| 256/256 [00:03<00:00, 70.29it/s]\n",
      "100%|██████████| 940/940 [00:16<00:00, 56.29it/s]\n",
      "epoch11 avg_loss:0.451: 100%|██████████| 256/256 [00:03<00:00, 72.03it/s]\n",
      "epoch12 avg_loss:0.430: 100%|██████████| 256/256 [00:03<00:00, 77.73it/s]\n",
      "epoch13 avg_loss:0.410: 100%|██████████| 256/256 [00:03<00:00, 77.48it/s]\n",
      "epoch14 avg_loss:0.391: 100%|██████████| 256/256 [00:03<00:00, 76.87it/s]\n",
      "epoch15 avg_loss:0.371: 100%|██████████| 256/256 [00:03<00:00, 74.97it/s]\n",
      "epoch16 avg_loss:0.355: 100%|██████████| 256/256 [00:03<00:00, 77.56it/s]\n",
      "epoch17 avg_loss:0.339: 100%|██████████| 256/256 [00:03<00:00, 77.79it/s]\n",
      "epoch18 avg_loss:0.325: 100%|██████████| 256/256 [00:03<00:00, 76.49it/s]\n",
      "epoch19 avg_loss:0.315: 100%|██████████| 256/256 [00:03<00:00, 79.83it/s]\n",
      "epoch20 avg_loss:0.303: 100%|██████████| 256/256 [00:03<00:00, 69.58it/s]\n",
      "100%|██████████| 940/940 [00:15<00:00, 59.46it/s]\n",
      "epoch21 avg_loss:0.296: 100%|██████████| 256/256 [00:03<00:00, 82.64it/s]\n",
      "epoch22 avg_loss:0.290: 100%|██████████| 256/256 [00:03<00:00, 80.18it/s]\n",
      "epoch23 avg_loss:0.284: 100%|██████████| 256/256 [00:03<00:00, 77.34it/s]\n",
      "epoch24 avg_loss:0.279: 100%|██████████| 256/256 [00:03<00:00, 75.47it/s]\n",
      "epoch25 avg_loss:0.275: 100%|██████████| 256/256 [00:03<00:00, 75.39it/s]\n",
      "epoch26 avg_loss:0.270: 100%|██████████| 256/256 [00:03<00:00, 77.58it/s]\n",
      "epoch27 avg_loss:0.266: 100%|██████████| 256/256 [00:03<00:00, 80.04it/s]\n",
      "epoch28 avg_loss:0.263: 100%|██████████| 256/256 [00:03<00:00, 73.29it/s]\n",
      "epoch29 avg_loss:0.260: 100%|██████████| 256/256 [00:03<00:00, 77.43it/s]\n",
      "epoch30 avg_loss:0.259: 100%|██████████| 256/256 [00:03<00:00, 76.34it/s]\n",
      "100%|██████████| 940/940 [00:15<00:00, 59.35it/s]\n",
      "epoch31 avg_loss:0.255: 100%|██████████| 256/256 [00:03<00:00, 78.53it/s]\n",
      "epoch32 avg_loss:0.253: 100%|██████████| 256/256 [00:03<00:00, 79.10it/s]\n",
      "epoch33 avg_loss:0.251: 100%|██████████| 256/256 [00:03<00:00, 76.12it/s]\n",
      "epoch34 avg_loss:0.249: 100%|██████████| 256/256 [00:03<00:00, 74.92it/s]\n",
      "epoch35 avg_loss:0.247: 100%|██████████| 256/256 [00:03<00:00, 70.83it/s]\n",
      "epoch36 avg_loss:0.246: 100%|██████████| 256/256 [00:03<00:00, 64.80it/s]\n",
      "epoch37 avg_loss:0.246: 100%|██████████| 256/256 [00:03<00:00, 73.56it/s]\n",
      "epoch38 avg_loss:0.243: 100%|██████████| 256/256 [00:03<00:00, 72.85it/s]\n",
      "epoch39 avg_loss:0.243: 100%|██████████| 256/256 [00:03<00:00, 75.87it/s]\n",
      "epoch40 avg_loss:0.240: 100%|██████████| 256/256 [00:03<00:00, 75.68it/s]\n",
      "100%|██████████| 940/940 [00:15<00:00, 60.81it/s]\n",
      "epoch41 avg_loss:0.241: 100%|██████████| 256/256 [00:03<00:00, 78.50it/s]\n",
      "epoch42 avg_loss:0.239: 100%|██████████| 256/256 [00:03<00:00, 74.90it/s]\n",
      "epoch43 avg_loss:0.239: 100%|██████████| 256/256 [00:03<00:00, 68.08it/s]\n",
      "epoch44 avg_loss:0.237: 100%|██████████| 256/256 [00:03<00:00, 72.82it/s]\n",
      "epoch45 avg_loss:0.238: 100%|██████████| 256/256 [00:03<00:00, 70.65it/s]\n",
      "epoch46 avg_loss:0.236: 100%|██████████| 256/256 [00:03<00:00, 73.74it/s]\n",
      "epoch47 avg_loss:0.238: 100%|██████████| 256/256 [00:03<00:00, 72.38it/s]\n",
      "epoch48 avg_loss:0.235: 100%|██████████| 256/256 [00:03<00:00, 75.10it/s]\n",
      "epoch49 avg_loss:0.236: 100%|██████████| 256/256 [00:03<00:00, 74.82it/s]\n",
      "epoch50 avg_loss:0.236: 100%|██████████| 256/256 [00:03<00:00, 76.07it/s]\n",
      "100%|██████████| 940/940 [00:15<00:00, 61.03it/s]\n"
     ]
    }
   ],
   "source": [
    "trainer.fit(n_batch, n_epoch, mp, userwise, valid_per_epoch)"
   ],
   "metadata": {
    "collapsed": false,
    "ExecuteTime": {
     "end_time": "2023-12-11T03:40:13.004874Z",
     "start_time": "2023-12-11T03:35:31.391384Z"
    }
   }
  },
  {
   "cell_type": "code",
   "execution_count": 12,
   "outputs": [
    {
     "data": {
      "text/plain": "   Recall@10  Unpopularity@10  Serendipity@10  Long-tail rate@10  epoch  \\\n0   0.124080       311.274128        3.130736           0.769255      0   \n0   0.268720       104.950392        3.971679           0.369681     10   \n0   0.443104        44.724745        5.352079           0.278511     20   \n0   0.497399        41.721191        7.216402           0.288511     30   \n0   0.519735        43.737460        8.129318           0.302447     40   \n0   0.529289        45.277515        8.637594           0.310745     50   \n\n     losses  \n0       NaN  \n0  0.473153  \n0  0.303267  \n0  0.259052  \n0  0.240115  \n0  0.236321  ",
      "text/html": "<div>\n<style scoped>\n    .dataframe tbody tr th:only-of-type {\n        vertical-align: middle;\n    }\n\n    .dataframe tbody tr th {\n        vertical-align: top;\n    }\n\n    .dataframe thead th {\n        text-align: right;\n    }\n</style>\n<table border=\"1\" class=\"dataframe\">\n  <thead>\n    <tr style=\"text-align: right;\">\n      <th></th>\n      <th>Recall@10</th>\n      <th>Unpopularity@10</th>\n      <th>Serendipity@10</th>\n      <th>Long-tail rate@10</th>\n      <th>epoch</th>\n      <th>losses</th>\n    </tr>\n  </thead>\n  <tbody>\n    <tr>\n      <th>0</th>\n      <td>0.124080</td>\n      <td>311.274128</td>\n      <td>3.130736</td>\n      <td>0.769255</td>\n      <td>0</td>\n      <td>NaN</td>\n    </tr>\n    <tr>\n      <th>0</th>\n      <td>0.268720</td>\n      <td>104.950392</td>\n      <td>3.971679</td>\n      <td>0.369681</td>\n      <td>10</td>\n      <td>0.473153</td>\n    </tr>\n    <tr>\n      <th>0</th>\n      <td>0.443104</td>\n      <td>44.724745</td>\n      <td>5.352079</td>\n      <td>0.278511</td>\n      <td>20</td>\n      <td>0.303267</td>\n    </tr>\n    <tr>\n      <th>0</th>\n      <td>0.497399</td>\n      <td>41.721191</td>\n      <td>7.216402</td>\n      <td>0.288511</td>\n      <td>30</td>\n      <td>0.259052</td>\n    </tr>\n    <tr>\n      <th>0</th>\n      <td>0.519735</td>\n      <td>43.737460</td>\n      <td>8.129318</td>\n      <td>0.302447</td>\n      <td>40</td>\n      <td>0.240115</td>\n    </tr>\n    <tr>\n      <th>0</th>\n      <td>0.529289</td>\n      <td>45.277515</td>\n      <td>8.637594</td>\n      <td>0.310745</td>\n      <td>50</td>\n      <td>0.236321</td>\n    </tr>\n  </tbody>\n</table>\n</div>"
     },
     "execution_count": 12,
     "metadata": {},
     "output_type": "execute_result"
    }
   ],
   "source": [
    "trainer.valid_scores"
   ],
   "metadata": {
    "collapsed": false,
    "ExecuteTime": {
     "end_time": "2023-12-11T03:40:56.317733Z",
     "start_time": "2023-12-11T03:40:56.262369Z"
    }
   }
  },
  {
   "cell_type": "code",
   "execution_count": 13,
   "outputs": [],
   "source": [
    "mp2 = searches.MutualProximity2(model, gamma, n_sample, bias)"
   ],
   "metadata": {
    "collapsed": false,
    "ExecuteTime": {
     "end_time": "2023-12-11T03:40:58.857036Z",
     "start_time": "2023-12-11T03:40:58.853939Z"
    }
   }
  },
  {
   "cell_type": "code",
   "execution_count": 14,
   "outputs": [
    {
     "name": "stderr",
     "output_type": "stream",
     "text": [
      "100%|██████████| 940/940 [00:19<00:00, 47.87it/s]\n",
      "epoch1 avg_loss:0.234: 100%|██████████| 256/256 [00:04<00:00, 59.36it/s]\n",
      "epoch2 avg_loss:0.233: 100%|██████████| 256/256 [00:03<00:00, 70.32it/s]\n",
      "epoch3 avg_loss:0.232: 100%|██████████| 256/256 [00:03<00:00, 69.85it/s]\n",
      "epoch4 avg_loss:0.232: 100%|██████████| 256/256 [00:03<00:00, 71.81it/s]\n",
      "epoch5 avg_loss:0.234: 100%|██████████| 256/256 [00:03<00:00, 71.35it/s]\n",
      "epoch6 avg_loss:0.233: 100%|██████████| 256/256 [00:03<00:00, 70.54it/s]\n",
      "epoch7 avg_loss:0.232: 100%|██████████| 256/256 [00:03<00:00, 73.90it/s]\n",
      "epoch8 avg_loss:0.231: 100%|██████████| 256/256 [00:03<00:00, 81.25it/s]\n",
      "epoch9 avg_loss:0.232: 100%|██████████| 256/256 [00:03<00:00, 80.32it/s]\n",
      "epoch10 avg_loss:0.231: 100%|██████████| 256/256 [00:03<00:00, 78.78it/s]\n",
      "100%|██████████| 940/940 [00:14<00:00, 66.62it/s]\n",
      "epoch11 avg_loss:0.232: 100%|██████████| 256/256 [00:03<00:00, 81.13it/s]\n",
      "epoch12 avg_loss:0.229: 100%|██████████| 256/256 [00:03<00:00, 83.82it/s]\n",
      "epoch13 avg_loss:0.231: 100%|██████████| 256/256 [00:03<00:00, 85.11it/s]\n",
      "epoch14 avg_loss:0.231: 100%|██████████| 256/256 [00:04<00:00, 57.78it/s]\n",
      "epoch15 avg_loss:0.230: 100%|██████████| 256/256 [00:03<00:00, 78.10it/s]\n",
      "epoch16 avg_loss:0.229: 100%|██████████| 256/256 [00:03<00:00, 79.50it/s]\n",
      "epoch17 avg_loss:0.229: 100%|██████████| 256/256 [00:03<00:00, 70.74it/s]\n",
      "epoch18 avg_loss:0.230: 100%|██████████| 256/256 [00:03<00:00, 64.61it/s]\n",
      "epoch19 avg_loss:0.229: 100%|██████████| 256/256 [00:03<00:00, 71.44it/s]\n",
      "epoch20 avg_loss:0.230: 100%|██████████| 256/256 [00:03<00:00, 70.26it/s]\n",
      "100%|██████████| 940/940 [00:15<00:00, 60.62it/s]\n",
      "epoch21 avg_loss:0.229: 100%|██████████| 256/256 [00:03<00:00, 76.71it/s]\n",
      "epoch22 avg_loss:0.230: 100%|██████████| 256/256 [00:03<00:00, 74.48it/s]\n",
      "epoch23 avg_loss:0.229: 100%|██████████| 256/256 [00:03<00:00, 74.54it/s]\n",
      "epoch24 avg_loss:0.229: 100%|██████████| 256/256 [00:03<00:00, 74.36it/s]\n",
      "epoch25 avg_loss:0.229: 100%|██████████| 256/256 [00:03<00:00, 74.63it/s]\n",
      "epoch26 avg_loss:0.230: 100%|██████████| 256/256 [00:03<00:00, 73.16it/s]\n",
      "epoch27 avg_loss:0.228: 100%|██████████| 256/256 [00:03<00:00, 73.20it/s]\n",
      "epoch28 avg_loss:0.228: 100%|██████████| 256/256 [00:03<00:00, 74.78it/s]\n",
      "epoch29 avg_loss:0.229: 100%|██████████| 256/256 [00:03<00:00, 73.13it/s]\n",
      "epoch30 avg_loss:0.229: 100%|██████████| 256/256 [00:03<00:00, 73.39it/s]\n",
      "100%|██████████| 940/940 [00:16<00:00, 57.21it/s]\n",
      "epoch31 avg_loss:0.228: 100%|██████████| 256/256 [00:03<00:00, 74.31it/s]\n",
      "epoch32 avg_loss:0.228: 100%|██████████| 256/256 [00:03<00:00, 74.35it/s]\n",
      "epoch33 avg_loss:0.229: 100%|██████████| 256/256 [00:03<00:00, 74.81it/s]\n",
      "epoch34 avg_loss:0.227: 100%|██████████| 256/256 [00:03<00:00, 73.58it/s]\n",
      "epoch35 avg_loss:0.227: 100%|██████████| 256/256 [00:03<00:00, 73.90it/s]\n",
      "epoch36 avg_loss:0.227: 100%|██████████| 256/256 [00:03<00:00, 74.86it/s]\n",
      "epoch37 avg_loss:0.227: 100%|██████████| 256/256 [00:03<00:00, 72.84it/s]\n",
      "epoch38 avg_loss:0.228: 100%|██████████| 256/256 [00:03<00:00, 72.09it/s]\n",
      "epoch39 avg_loss:0.229: 100%|██████████| 256/256 [00:03<00:00, 73.28it/s]\n",
      "epoch40 avg_loss:0.227: 100%|██████████| 256/256 [00:04<00:00, 63.05it/s]\n",
      "100%|██████████| 940/940 [00:15<00:00, 59.38it/s]\n",
      "epoch41 avg_loss:0.228: 100%|██████████| 256/256 [00:03<00:00, 76.40it/s]\n",
      "epoch42 avg_loss:0.228: 100%|██████████| 256/256 [00:03<00:00, 76.14it/s]\n",
      "epoch43 avg_loss:0.228: 100%|██████████| 256/256 [00:03<00:00, 73.12it/s]\n",
      "epoch44 avg_loss:0.226: 100%|██████████| 256/256 [00:03<00:00, 71.29it/s]\n",
      "epoch45 avg_loss:0.226: 100%|██████████| 256/256 [00:03<00:00, 71.90it/s]\n",
      "epoch46 avg_loss:0.225: 100%|██████████| 256/256 [00:03<00:00, 64.16it/s]\n",
      "epoch47 avg_loss:0.227: 100%|██████████| 256/256 [00:03<00:00, 71.82it/s]\n",
      "epoch48 avg_loss:0.227: 100%|██████████| 256/256 [00:03<00:00, 72.87it/s]\n",
      "epoch49 avg_loss:0.228: 100%|██████████| 256/256 [00:03<00:00, 74.19it/s]\n",
      "epoch50 avg_loss:0.227: 100%|██████████| 256/256 [00:03<00:00, 74.05it/s]\n",
      "100%|██████████| 940/940 [00:15<00:00, 61.04it/s]\n"
     ]
    }
   ],
   "source": [
    "trainer.fit(n_batch, n_epoch, mp2, userwise, valid_per_epoch)"
   ],
   "metadata": {
    "collapsed": false,
    "ExecuteTime": {
     "end_time": "2023-12-11T03:45:33.394961Z",
     "start_time": "2023-12-11T03:41:00.727636Z"
    }
   }
  },
  {
   "cell_type": "code",
   "execution_count": 15,
   "outputs": [
    {
     "data": {
      "text/plain": "   Recall@10  Unpopularity@10  Serendipity@10  Long-tail rate@10  epoch  \\\n0   0.543177        42.309594        8.443820           0.280532      0   \n0   0.553501        42.501488        8.766321           0.284574     10   \n0   0.553957        42.900253        8.779521           0.284787     20   \n0   0.555565        42.223274        8.872850           0.286915     30   \n0   0.558910        43.063299        9.026123           0.285426     40   \n0   0.558333        42.989188        8.994074           0.289468     50   \n\n     losses  \n0       NaN  \n0  0.231352  \n0  0.229864  \n0  0.229391  \n0  0.227196  \n0  0.226781  ",
      "text/html": "<div>\n<style scoped>\n    .dataframe tbody tr th:only-of-type {\n        vertical-align: middle;\n    }\n\n    .dataframe tbody tr th {\n        vertical-align: top;\n    }\n\n    .dataframe thead th {\n        text-align: right;\n    }\n</style>\n<table border=\"1\" class=\"dataframe\">\n  <thead>\n    <tr style=\"text-align: right;\">\n      <th></th>\n      <th>Recall@10</th>\n      <th>Unpopularity@10</th>\n      <th>Serendipity@10</th>\n      <th>Long-tail rate@10</th>\n      <th>epoch</th>\n      <th>losses</th>\n    </tr>\n  </thead>\n  <tbody>\n    <tr>\n      <th>0</th>\n      <td>0.543177</td>\n      <td>42.309594</td>\n      <td>8.443820</td>\n      <td>0.280532</td>\n      <td>0</td>\n      <td>NaN</td>\n    </tr>\n    <tr>\n      <th>0</th>\n      <td>0.553501</td>\n      <td>42.501488</td>\n      <td>8.766321</td>\n      <td>0.284574</td>\n      <td>10</td>\n      <td>0.231352</td>\n    </tr>\n    <tr>\n      <th>0</th>\n      <td>0.553957</td>\n      <td>42.900253</td>\n      <td>8.779521</td>\n      <td>0.284787</td>\n      <td>20</td>\n      <td>0.229864</td>\n    </tr>\n    <tr>\n      <th>0</th>\n      <td>0.555565</td>\n      <td>42.223274</td>\n      <td>8.872850</td>\n      <td>0.286915</td>\n      <td>30</td>\n      <td>0.229391</td>\n    </tr>\n    <tr>\n      <th>0</th>\n      <td>0.558910</td>\n      <td>43.063299</td>\n      <td>9.026123</td>\n      <td>0.285426</td>\n      <td>40</td>\n      <td>0.227196</td>\n    </tr>\n    <tr>\n      <th>0</th>\n      <td>0.558333</td>\n      <td>42.989188</td>\n      <td>8.994074</td>\n      <td>0.289468</td>\n      <td>50</td>\n      <td>0.226781</td>\n    </tr>\n  </tbody>\n</table>\n</div>"
     },
     "execution_count": 15,
     "metadata": {},
     "output_type": "execute_result"
    }
   ],
   "source": [
    "trainer.valid_scores"
   ],
   "metadata": {
    "collapsed": false,
    "ExecuteTime": {
     "end_time": "2023-12-11T03:55:22.163316Z",
     "start_time": "2023-12-11T03:55:22.150966Z"
    }
   }
  },
  {
   "cell_type": "markdown",
   "id": "d73cf778-2dd2-4767-9dff-61d9aa50f924",
   "metadata": {},
   "source": [
    "# Result (before training)"
   ]
  },
  {
   "cell_type": "code",
   "execution_count": null,
   "id": "0ffe30e9-30b1-40ba-a14f-418f23c5fdd6",
   "metadata": {},
   "outputs": [],
   "source": [
    "knn = searches.NearestNeighborhood(model)"
   ]
  },
  {
   "cell_type": "code",
   "execution_count": null,
   "id": "16fdc702-9e39-42b0-8237-3140d3f61583",
   "metadata": {},
   "outputs": [],
   "source": [
    "trainer.valid(knn, userwise)\n",
    "re_pre = trainer.valid_scores.copy()"
   ]
  },
  {
   "cell_type": "code",
   "execution_count": null,
   "id": "bf4d1b6d-2e5e-42d7-95a1-a57169ded104",
   "metadata": {},
   "outputs": [],
   "source": [
    "if out_to_file:\n",
    "    now = datetime.now()\n",
    "    file_name = now.strftime(\"pre_%Y_%m_%d_%H%M.csv\")\n",
    "    re_pre.to_csv(out_dir + file_name, index=False)\n",
    "\n",
    "display(re_pre)"
   ]
  },
  {
   "cell_type": "markdown",
   "id": "a0c3d4d8-3b92-477e-b50c-f0d7138c2650",
   "metadata": {},
   "source": [
    "# Training"
   ]
  },
  {
   "cell_type": "code",
   "execution_count": null,
   "id": "47856841-6278-4cc9-8597-ce4ec57e0fcd",
   "metadata": {},
   "outputs": [],
   "source": [
    "trainer.fit(n_batch, n_epoch)"
   ]
  },
  {
   "cell_type": "markdown",
   "id": "67498b1b-5d4b-4816-b7d0-3add393d05bf",
   "metadata": {},
   "source": [
    "# Result"
   ]
  },
  {
   "cell_type": "markdown",
   "id": "6fd9e697-f65d-4b27-9e66-8b76e889748c",
   "metadata": {
    "tags": []
   },
   "source": [
    "## CML (Base)"
   ]
  },
  {
   "cell_type": "code",
   "execution_count": null,
   "id": "94d99df4-89d5-4aee-9cb0-ece45cf93e30",
   "metadata": {},
   "outputs": [],
   "source": [
    "knn = searches.NearestNeighborhood(model)"
   ]
  },
  {
   "cell_type": "code",
   "execution_count": null,
   "id": "3e0fc666-f2fc-4bd3-adc2-c7fc7c5d61fa",
   "metadata": {},
   "outputs": [],
   "source": [
    "trainer.valid(knn, userwise)\n",
    "re_base = trainer.valid_scores.copy()"
   ]
  },
  {
   "cell_type": "code",
   "execution_count": null,
   "id": "61534fc0-5321-40b0-8dfe-e8a429bb526c",
   "metadata": {},
   "outputs": [],
   "source": [
    "if out_to_file:\n",
    "    now = datetime.now()\n",
    "    file_name = now.strftime(\"base_%Y_%m_%d_%H%M.csv\")\n",
    "    re_base.to_csv(out_dir + file_name, index=False)\n",
    "\n",
    "display(re_base)"
   ]
  },
  {
   "cell_type": "markdown",
   "id": "f361de71-d304-4316-b5e8-fbcb8833607a",
   "metadata": {
    "tags": []
   },
   "source": [
    "# MPCMP"
   ]
  },
  {
   "cell_type": "code",
   "execution_count": null,
   "id": "289a0a72-c53d-4b0a-b594-f28c7f63cd0b",
   "metadata": {},
   "outputs": [],
   "source": [
    "# Hyperparameters\n",
    "n_sample = 30\n",
    "bias_li = [0.0, 0.1, 0.2, 0.3, 0.4, 0.5, 0.6, 0.7, 0.8, 0.9, 1.0]\n",
    "gamma = distributions.Gamma()"
   ]
  },
  {
   "cell_type": "code",
   "execution_count": null,
   "id": "0712b293-6104-4598-9236-3218ce3c5dd1",
   "metadata": {},
   "outputs": [],
   "source": [
    "rows = []\n",
    "for bias in bias_li:\n",
    "    print(f'Prosessing... [bias = {bias}]')\n",
    "    \n",
    "    mp = searches.MutualProximity(model, gamma, n_sample, bias)\n",
    "    \n",
    "    trainer.valid(mp, userwise)\n",
    "    row = trainer.valid_scores.copy()\n",
    "    \n",
    "    row.insert(0, 'Bias', bias)\n",
    "    \n",
    "    rows.append(row)\n",
    "\n",
    "re_mpcml = pd.concat(rows)"
   ]
  },
  {
   "cell_type": "code",
   "execution_count": null,
   "id": "7e75974b-f67e-4bdb-b787-3f73c4742cda",
   "metadata": {},
   "outputs": [],
   "source": [
    "if out_to_file:\n",
    "    now = datetime.now()\n",
    "    file_name = now.strftime(\"mpcml_%Y_%m_%d_%H%M.csv\")\n",
    "    re_mpcml.to_csv(out_dir + file_name, index=False)\n",
    "\n",
    "display(re_mpcml)"
   ]
  },
  {
   "cell_type": "markdown",
   "id": "1325e652-60c2-4cc5-9bcb-ef5bbad33d74",
   "metadata": {},
   "source": [
    "## CML vs MPCML"
   ]
  },
  {
   "cell_type": "code",
   "execution_count": null,
   "id": "b2d6ab9a-9f07-400f-843d-211e9ed59a2c",
   "metadata": {},
   "outputs": [],
   "source": [
    "# df -> list\n",
    "\n",
    "k = 10\n",
    "n_bias = len(bias_li)\n",
    "\n",
    "# Before training\n",
    "recall_pre         = re_pre[f'Recall@{k}'].tolist() * n_bias\n",
    "unpopularity_pre   = re_pre[f'Unpopularity@{k}'].tolist() * n_bias\n",
    "serndipity_pre     = re_pre[f'Serendipity@{k}'].tolist() * n_bias\n",
    "longtale_pre       = re_pre[f'Long-tail rate@{k}'].tolist() * n_bias\n",
    "\n",
    "# CML(Base)\n",
    "recall_base        = re_base[f'Recall@{k}'].tolist() * n_bias\n",
    "unpopularity_base  = re_base[f'Unpopularity@{k}'].tolist() * n_bias\n",
    "serndipity_base    = re_base[f'Serendipity@{k}'].tolist() * n_bias\n",
    "longtale_base      = re_base[f'Long-tail rate@{k}'].tolist() * n_bias\n",
    "\n",
    "# MPCML\n",
    "recall_mpcml       = re_mpcml[f'Recall@{k}'].tolist()\n",
    "unpopularity_mpcml = re_mpcml[f'Unpopularity@{k}'].tolist()\n",
    "serndipity_mpcml   = re_mpcml[f'Serendipity@{k}'].tolist()\n",
    "longtale_mpcml     = re_mpcml[f'Long-tail rate@{k}'].tolist()"
   ]
  },
  {
   "cell_type": "markdown",
   "id": "3904efb5-721e-42f2-877d-2ebf7c7dff69",
   "metadata": {},
   "source": [
    "### Recall vs Unpopularity"
   ]
  },
  {
   "cell_type": "code",
   "execution_count": null,
   "id": "d3a124b5-d411-4c69-ad5d-927a6dd3aab5",
   "metadata": {},
   "outputs": [],
   "source": [
    "fig, ax1 = plt.subplots(figsize=(10, 6))\n",
    "\n",
    "# Recall\n",
    "line_recall_base  = ax1.plot(bias_li, recall_base,  label='Recall - CML', color='tab:blue')\n",
    "line_recall_mpcml = ax1.plot(bias_li, recall_mpcml, label='Recall - MPCML', marker='o', color='tab:blue')\n",
    "\n",
    "# Unpopularity\n",
    "ax2 = ax1.twinx()\n",
    "line_unpop_base  = ax2.plot(bias_li, unpopularity_base,  label='Unpopularity - CML', color='tab:orange')\n",
    "line_unpop_mpcml = ax2.plot(bias_li, unpopularity_mpcml, label='Unpopularity - MPCML', marker='o', color='tab:orange')\n",
    "\n",
    "ax1.set_xticks(bias_li)\n",
    "ax1.tick_params(axis='y')\n",
    "ax2.tick_params(axis='y')\n",
    "ax1.set_xlabel('Bias (α)')\n",
    "ax1.set_ylabel('Recall')\n",
    "ax2.set_ylabel('Unpopularity')\n",
    "\n",
    "lines = [line_recall_base[0], line_recall_mpcml[0], line_unpop_base[0], line_unpop_mpcml[0]]\n",
    "labels = [line.get_label() for line in lines]\n",
    "fig.legend(lines, labels, bbox_to_anchor=(0.9, 0.6))\n",
    "\n",
    "plt.grid(axis='y')\n",
    "\n",
    "if out_to_file:\n",
    "    now = datetime.now()\n",
    "    file_name = now.strftime(\"tradeoff_%Y_%m_%d_%H%M.png\")\n",
    "    plt.savefig(out_dir + file_name, bbox_inches='tight')\n",
    "\n",
    "plt.show()"
   ]
  },
  {
   "cell_type": "markdown",
   "id": "f3b5e9b3-5018-4101-86a1-e08528bf5272",
   "metadata": {},
   "source": [
    "### Serendipity"
   ]
  },
  {
   "cell_type": "code",
   "execution_count": null,
   "id": "ad17bf55-def6-4218-b756-71cbd79c47f1",
   "metadata": {},
   "outputs": [],
   "source": [
    "plt.figure(figsize=(10, 6))\n",
    "# plt.plot(bias_li, serndipity_pre, label='Before training)\n",
    "plt.plot(bias_li, serndipity_base, label='CML')\n",
    "plt.plot(bias_li, serndipity_mpcml, label='MPCML', marker='o')\n",
    "\n",
    "plt.xticks(bias_li)\n",
    "plt.xlabel('Bias (α)')\n",
    "plt.ylabel('Serendipity')\n",
    "plt.legend()\n",
    "plt.grid(axis='y')\n",
    "\n",
    "if out_to_file:\n",
    "    now = datetime.now()\n",
    "    file_name = now.strftime(\"serendipity_%Y_%m_%d_%H%M.png\")\n",
    "    plt.savefig(out_dir + file_name, bbox_inches='tight')\n",
    "\n",
    "plt.show()"
   ]
  },
  {
   "cell_type": "markdown",
   "id": "61ccc35e-b3eb-4f99-a5da-3fe0e0c836e4",
   "metadata": {},
   "source": [
    "### Long-tail rate"
   ]
  },
  {
   "cell_type": "code",
   "execution_count": null,
   "id": "d778c275-6da5-4365-b137-e9ca942995e8",
   "metadata": {},
   "outputs": [],
   "source": [
    "plt.figure(figsize=(10, 6))\n",
    "# plt.plot(bias_li, longtale_pre, label='Before training')\n",
    "plt.plot(bias_li, longtale_base, label='CML')\n",
    "plt.plot(bias_li, longtale_mpcml, label='MPCML', marker='o')\n",
    "\n",
    "plt.xticks(bias_li)\n",
    "plt.xlabel('Bias (α)')\n",
    "plt.ylabel('Long-tail rate')\n",
    "plt.legend()\n",
    "plt.grid(axis='y')\n",
    "\n",
    "if out_to_file:\n",
    "    now = datetime.now()\n",
    "    file_name = now.strftime(\"longtail_%Y_%m_%d_%H%M.png\")\n",
    "    plt.savefig(out_dir + file_name, bbox_inches='tight')\n",
    "\n",
    "plt.show()"
   ]
  }
 ],
 "metadata": {
  "kernelspec": {
   "display_name": "bachelor2",
   "language": "python",
   "name": "bachelor2"
  },
  "language_info": {
   "codemirror_mode": {
    "name": "ipython",
    "version": 3
   },
   "file_extension": ".py",
   "mimetype": "text/x-python",
   "name": "python",
   "nbconvert_exporter": "python",
   "pygments_lexer": "ipython3",
   "version": "3.8.17"
  }
 },
 "nbformat": 4,
 "nbformat_minor": 5
}
