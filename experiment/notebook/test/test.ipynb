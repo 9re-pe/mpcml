{
 "cells": [
  {
   "cell_type": "code",
   "execution_count": 1,
   "id": "a8ae7784-e462-4737-bcdf-48cfbc491826",
   "metadata": {
    "tags": [],
    "ExecuteTime": {
     "end_time": "2024-03-14T10:05:23.856534Z",
     "start_time": "2024-03-14T10:05:18.719261Z"
    }
   },
   "outputs": [],
   "source": [
    "import sys\n",
    "import os\n",
    "from datetime import datetime\n",
    "\n",
    "root_dir = '../../../'\n",
    "if root_dir not in sys.path:\n",
    "    sys.path.append(root_dir)\n",
    "\n",
    "import torch\n",
    "from torch import optim\n",
    "import pandas as pd\n",
    "\n",
    "pd.set_option('display.max_columns', 100)\n",
    "\n",
    "from modules import losses, models, samplers, searches, evaluators, trainers, datasets, distributions"
   ]
  },
  {
   "cell_type": "code",
   "execution_count": 2,
   "id": "fd101d48-f229-4fcc-9e7d-a0c458da3fb9",
   "metadata": {
    "tags": [],
    "ExecuteTime": {
     "end_time": "2024-03-14T10:05:27.224722Z",
     "start_time": "2024-03-14T10:05:24.424702Z"
    }
   },
   "outputs": [],
   "source": [
    "dataset = datasets.ML100k()\n",
    "n_user = dataset.n_user\n",
    "n_item = dataset.n_item\n",
    "n_feedback = dataset.n_pos_pairs\n",
    "train_set, test_set = dataset.get_train_and_test_set(neg_pair_weight=10)"
   ]
  },
  {
   "cell_type": "code",
   "outputs": [],
   "source": [
    "device = torch.device(\"cuda:0\" if torch.cuda.is_available() else \"cpu\")\n",
    "train_set = torch.LongTensor(train_set).to(device)\n",
    "test_set = torch.FloatTensor(test_set).to(device)"
   ],
   "metadata": {
    "collapsed": false,
    "ExecuteTime": {
     "end_time": "2024-03-14T10:05:27.798832Z",
     "start_time": "2024-03-14T10:05:27.790402Z"
    }
   },
   "id": "d17b9410a24aab60",
   "execution_count": 3
  },
  {
   "cell_type": "code",
   "execution_count": 4,
   "id": "51d01c4e-69bc-4728-a8f0-227353137f9d",
   "metadata": {
    "tags": [],
    "ExecuteTime": {
     "end_time": "2024-03-14T10:05:28.675271Z",
     "start_time": "2024-03-14T10:05:28.667302Z"
    }
   },
   "outputs": [],
   "source": [
    "# The size of recommendation set (K)\n",
    "ks = [10]\n",
    "\n",
    "score_function_dict = {\n",
    "    \"Recall\"       : evaluators.recall,\n",
    "    \"Unpopularity\" : evaluators.unpopularity,\n",
    "    \"Serendipity\"  : evaluators.serendipity,\n",
    "    \"Long-tail rate\": evaluators.longtail_rate,\n",
    "}\n",
    "userwise = evaluators.UserwiseEvaluator(test_set, score_function_dict, ks)"
   ]
  },
  {
   "cell_type": "code",
   "execution_count": 5,
   "id": "81e30c11-a001-4ca2-95ff-878cbba30cbe",
   "metadata": {
    "tags": [],
    "ExecuteTime": {
     "end_time": "2024-03-14T10:05:29.539343Z",
     "start_time": "2024-03-14T10:05:29.526889Z"
    }
   },
   "outputs": [],
   "source": [
    "sampler = samplers.BaseSampler(train_set, n_user, n_item, device=device, strict_negative=False)"
   ]
  },
  {
   "cell_type": "code",
   "execution_count": 6,
   "id": "800a4df2-468c-43c2-b0c1-70231299903c",
   "metadata": {
    "tags": [],
    "ExecuteTime": {
     "end_time": "2024-03-14T10:05:30.257673Z",
     "start_time": "2024-03-14T10:05:30.236995Z"
    }
   },
   "outputs": [],
   "source": [
    "# Hyperparameters\n",
    "lr = 1e-3\n",
    "n_dim = 10\n",
    "n_batch = 256\n",
    "n_epoch = 10\n",
    "no_progressbar = False\n",
    "\n",
    "model = models.CollaborativeMetricLearning(n_user, n_item, n_dim).to(device)\n",
    "optimizer = optim.Adam(model.parameters(), lr=lr)\n",
    "feedback_num_df = dataset.feedback_num_train_data()\n",
    "criterion = losses.MinorTripletLoss(feedback_num_df, margin=1, a=1, b=0.5).to(device)\n",
    "trainer = trainers.BaseTrainer(model, optimizer, criterion, sampler, no_progressbar)"
   ]
  },
  {
   "cell_type": "code",
   "execution_count": 7,
   "id": "d7c67a27-64d1-450b-937c-90e5ed1bb4be",
   "metadata": {
    "tags": [],
    "ExecuteTime": {
     "end_time": "2024-03-14T10:06:13.389388Z",
     "start_time": "2024-03-14T10:05:31.314812Z"
    }
   },
   "outputs": [
    {
     "name": "stderr",
     "output_type": "stream",
     "text": [
      "epoch1 avg_loss:nan: 100%|██████████| 256/256 [00:04<00:00, 56.94it/s]\n",
      "epoch2 avg_loss:nan: 100%|██████████| 256/256 [00:04<00:00, 56.45it/s]\n",
      "epoch3 avg_loss:nan: 100%|██████████| 256/256 [00:04<00:00, 60.27it/s]\n",
      "epoch4 avg_loss:nan: 100%|██████████| 256/256 [00:04<00:00, 59.02it/s]\n",
      "epoch5 avg_loss:nan: 100%|██████████| 256/256 [00:04<00:00, 55.14it/s]\n",
      "epoch6 avg_loss:nan: 100%|██████████| 256/256 [00:04<00:00, 59.11it/s]\n",
      "epoch7 avg_loss:nan: 100%|██████████| 256/256 [00:04<00:00, 61.26it/s]\n",
      "epoch8 avg_loss:nan: 100%|██████████| 256/256 [00:03<00:00, 66.69it/s]\n",
      "epoch9 avg_loss:nan: 100%|██████████| 256/256 [00:03<00:00, 66.95it/s]\n",
      "epoch10 avg_loss:nan: 100%|██████████| 256/256 [00:03<00:00, 72.02it/s]\n"
     ]
    }
   ],
   "source": [
    "trainer.fit(n_batch, n_epoch)"
   ]
  },
  {
   "cell_type": "code",
   "execution_count": 8,
   "id": "1e9356a3-9039-4c70-b0b2-ce5b8b57c624",
   "metadata": {
    "tags": [],
    "ExecuteTime": {
     "end_time": "2024-03-14T10:21:50.960069Z",
     "start_time": "2024-03-14T10:21:50.953441Z"
    }
   },
   "outputs": [],
   "source": [
    "knn = searches.NearestNeighborhood(model)"
   ]
  },
  {
   "cell_type": "code",
   "execution_count": 9,
   "id": "2ce9ebaa-fda9-4afb-a73d-5fc3ee4562ef",
   "metadata": {
    "ExecuteTime": {
     "end_time": "2024-03-14T10:21:56.380091Z",
     "start_time": "2024-03-14T10:21:53.163230Z"
    }
   },
   "outputs": [
    {
     "name": "stderr",
     "output_type": "stream",
     "text": [
      "100%|██████████| 940/940 [00:03<00:00, 293.91it/s]\n"
     ]
    }
   ],
   "source": [
    "trainer.valid(knn, userwise)"
   ]
  },
  {
   "cell_type": "code",
   "outputs": [
    {
     "data": {
      "text/plain": "   Recall@10  Unpopularity@10  Serendipity@10  Long-tail rate@10\n0   0.136608       312.346732        3.504257           0.761702",
      "text/html": "<div>\n<style scoped>\n    .dataframe tbody tr th:only-of-type {\n        vertical-align: middle;\n    }\n\n    .dataframe tbody tr th {\n        vertical-align: top;\n    }\n\n    .dataframe thead th {\n        text-align: right;\n    }\n</style>\n<table border=\"1\" class=\"dataframe\">\n  <thead>\n    <tr style=\"text-align: right;\">\n      <th></th>\n      <th>Recall@10</th>\n      <th>Unpopularity@10</th>\n      <th>Serendipity@10</th>\n      <th>Long-tail rate@10</th>\n    </tr>\n  </thead>\n  <tbody>\n    <tr>\n      <th>0</th>\n      <td>0.136608</td>\n      <td>312.346732</td>\n      <td>3.504257</td>\n      <td>0.761702</td>\n    </tr>\n  </tbody>\n</table>\n</div>"
     },
     "execution_count": 10,
     "metadata": {},
     "output_type": "execute_result"
    }
   ],
   "source": [
    "trainer.valid_scores"
   ],
   "metadata": {
    "collapsed": false,
    "ExecuteTime": {
     "end_time": "2024-03-14T10:22:02.413201Z",
     "start_time": "2024-03-14T10:22:02.390706Z"
    }
   },
   "id": "ac29a5b4ae3f4c66",
   "execution_count": 10
  },
  {
   "cell_type": "code",
   "outputs": [],
   "source": [],
   "metadata": {
    "collapsed": false
   },
   "id": "4424b8fbde0fdbf4"
  }
 ],
 "metadata": {
  "kernelspec": {
   "display_name": "bachelor2",
   "language": "python",
   "name": "bachelor2"
  },
  "language_info": {
   "codemirror_mode": {
    "name": "ipython",
    "version": 3
   },
   "file_extension": ".py",
   "mimetype": "text/x-python",
   "name": "python",
   "nbconvert_exporter": "python",
   "pygments_lexer": "ipython3",
   "version": "3.8.17"
  }
 },
 "nbformat": 4,
 "nbformat_minor": 5
}
