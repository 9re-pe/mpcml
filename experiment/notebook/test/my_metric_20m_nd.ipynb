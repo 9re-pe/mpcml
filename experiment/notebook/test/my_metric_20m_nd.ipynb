{
 "cells": [
  {
   "cell_type": "markdown",
   "id": "160d601c-a6f2-4440-8e1a-9a375a30fc25",
   "metadata": {},
   "source": [
    "# Import"
   ]
  },
  {
   "cell_type": "code",
   "execution_count": 1,
   "id": "387c2ad0-d2c1-44b0-8ff1-c8e92f88d078",
   "metadata": {},
   "outputs": [],
   "source": [
    "import sys\n",
    "\n",
    "root_dir = '../../'\n",
    "if root_dir not in sys.path:\n",
    "    sys.path.append(root_dir)\n",
    "\n",
    "import torch\n",
    "from torch import nn, optim\n",
    "import numpy as np\n",
    "import matplotlib.pyplot as plt\n",
    "from sklearn.decomposition import TruncatedSVD\n",
    "import pandas as pd\n",
    "\n",
    "pd.set_option('display.max_columns', 100)\n",
    "\n",
    "from modules import losses, models, samplers, searches, regularizers, evaluators, trainers, datasets, distributions"
   ]
  },
  {
   "cell_type": "markdown",
   "id": "d30566f9-b33b-4c76-98a1-ab7019653adf",
   "metadata": {},
   "source": [
    "# Dataset"
   ]
  },
  {
   "cell_type": "code",
   "execution_count": 2,
   "id": "2697d3e6-7dee-46c4-9453-bbfff930513f",
   "metadata": {},
   "outputs": [],
   "source": [
    "dataset = datasets.ML20m()\n",
    "n_user = dataset.n_user\n",
    "n_item = dataset.n_item\n",
    "train_set, test_set = dataset.get_train_and_test_set(neg_pair_weight=10)\n",
    "\n",
    "# device setting\n",
    "device = torch.device(\"cuda:0\" if torch.cuda.is_available() else \"cpu\")\n",
    "train_set = torch.LongTensor(train_set).to(device)\n",
    "test_set = torch.FloatTensor(test_set).to(device)"
   ]
  },
  {
   "cell_type": "markdown",
   "id": "0061a9ff-841e-4639-8a89-9f72f9b1e181",
   "metadata": {},
   "source": [
    "# Evaluator"
   ]
  },
  {
   "cell_type": "code",
   "execution_count": 3,
   "id": "575b2685-9f0b-47c7-a800-0087f7f3a3f5",
   "metadata": {},
   "outputs": [],
   "source": [
    "# k\n",
    "ks = [5, 10, 50]\n",
    "\n",
    "score_function_dict = {\n",
    "    # \"Recall\"      : evaluators.recall,\n",
    "    # \"Unpopularity\": evaluators.unpopularity,\n",
    "    # \"Unpopularity2\": evaluators.unpopularity2,\n",
    "    # \"Unpopularity3\": evaluators.unpopularity3,\n",
    "    # \"F1-score\"    : evaluators.f1_score,\n",
    "    # \"F1-score2\"    : evaluators.f1_score2,\n",
    "    # \"F1-score3\"    : evaluators.f1_score3,\n",
    "    \"my_metric1\"   : evaluators.my_metric1,\n",
    "    \"my_metric2\"   : evaluators.my_metric2\n",
    "}\n",
    "userwise = evaluators.UserwiseEvaluator(test_set, score_function_dict, ks)\n",
    "# coverage = evaluators.CoverageEvaluator(test_set, ks)\n",
    "# hubness = evaluators.HubnessEvaluator(test_set, ks)"
   ]
  },
  {
   "cell_type": "markdown",
   "id": "81d6f448-448c-4bb5-86f2-83efa831648e",
   "metadata": {},
   "source": [
    "# Sampler"
   ]
  },
  {
   "cell_type": "code",
   "execution_count": 4,
   "id": "55a1e7ab-0a96-43ee-af45-5e6cc2bbf7d2",
   "metadata": {},
   "outputs": [],
   "source": [
    "sampler = samplers.BaseSampler(train_set, n_user, n_item, device=device, strict_negative=False)"
   ]
  },
  {
   "cell_type": "markdown",
   "id": "cfdb3f0c-fae2-45a6-86a7-b279fb824df6",
   "metadata": {},
   "source": [
    "# Model"
   ]
  },
  {
   "cell_type": "code",
   "execution_count": 5,
   "id": "9862b8c4-ce01-4df6-ac4a-1e040eb53ac1",
   "metadata": {},
   "outputs": [],
   "source": [
    "# Hyperparameters\n",
    "lr = 1e-3\n",
    "n_dim = 30\n",
    "n_batch = 256\n",
    "n_epoch = 50\n",
    "no_progressbar = True\n",
    "\n",
    "model = models.CollaborativeMetricLearning(n_user, n_item, n_dim).to(device)\n",
    "optimizer = optim.Adam(model.parameters(), lr=lr)\n",
    "criterion = losses.SumTripletLoss(margin=1).to(device)\n",
    "trainer = trainers.BaseTrainer(model, optimizer, criterion, sampler, no_progressbar)"
   ]
  },
  {
   "cell_type": "markdown",
   "id": "1539d643-72b3-4037-aeea-43d792ad4020",
   "metadata": {},
   "source": [
    "# No Training Result"
   ]
  },
  {
   "cell_type": "code",
   "execution_count": 6,
   "id": "664e2e46-0d93-4c04-9355-c23382f7edaa",
   "metadata": {},
   "outputs": [
    {
     "data": {
      "text/html": [
       "<div>\n",
       "<style scoped>\n",
       "    .dataframe tbody tr th:only-of-type {\n",
       "        vertical-align: middle;\n",
       "    }\n",
       "\n",
       "    .dataframe tbody tr th {\n",
       "        vertical-align: top;\n",
       "    }\n",
       "\n",
       "    .dataframe thead th {\n",
       "        text-align: right;\n",
       "    }\n",
       "</style>\n",
       "<table border=\"1\" class=\"dataframe\">\n",
       "  <thead>\n",
       "    <tr style=\"text-align: right;\">\n",
       "      <th></th>\n",
       "      <th>my_metric1@5</th>\n",
       "      <th>my_metric2@5</th>\n",
       "      <th>my_metric1@10</th>\n",
       "      <th>my_metric2@10</th>\n",
       "      <th>my_metric1@50</th>\n",
       "      <th>my_metric2@50</th>\n",
       "    </tr>\n",
       "  </thead>\n",
       "  <tbody>\n",
       "    <tr>\n",
       "      <th>0</th>\n",
       "      <td>2.159023</td>\n",
       "      <td>0.03563</td>\n",
       "      <td>2.093897</td>\n",
       "      <td>0.035669</td>\n",
       "      <td>2.168457</td>\n",
       "      <td>0.03408</td>\n",
       "    </tr>\n",
       "  </tbody>\n",
       "</table>\n",
       "</div>"
      ],
      "text/plain": [
       "   my_metric1@5  my_metric2@5  my_metric1@10  my_metric2@10  my_metric1@50  \\\n",
       "0      2.159023       0.03563       2.093897       0.035669       2.168457   \n",
       "\n",
       "   my_metric2@50  \n",
       "0        0.03408  "
      ]
     },
     "metadata": {},
     "output_type": "display_data"
    }
   ],
   "source": [
    "knn = searches.NearestNeighborhood(model)\n",
    "trainer.valid(knn, userwise)\n",
    "re_no_training = trainer.valid_scores.copy()\n",
    "display(re_no_training)"
   ]
  },
  {
   "cell_type": "markdown",
   "id": "5f4492de-ed6e-4180-a4b6-1bf856db8041",
   "metadata": {},
   "source": [
    "# Training"
   ]
  },
  {
   "cell_type": "code",
   "execution_count": 7,
   "id": "683643a0-937a-4b8a-a69c-40b342124a8d",
   "metadata": {},
   "outputs": [],
   "source": [
    "# only traing no validation\n",
    "trainer.fit(n_batch, n_epoch)"
   ]
  },
  {
   "cell_type": "markdown",
   "id": "10bcf196-4de3-4695-bd0b-45abbd524b7f",
   "metadata": {},
   "source": [
    "# Result"
   ]
  },
  {
   "cell_type": "markdown",
   "id": "05983378-9729-49d2-a54b-6a6cce969ac9",
   "metadata": {},
   "source": [
    "## Base CML"
   ]
  },
  {
   "cell_type": "code",
   "execution_count": 8,
   "id": "c45729fb-d91b-48e9-98eb-cdd203cc714c",
   "metadata": {},
   "outputs": [
    {
     "data": {
      "text/html": [
       "<div>\n",
       "<style scoped>\n",
       "    .dataframe tbody tr th:only-of-type {\n",
       "        vertical-align: middle;\n",
       "    }\n",
       "\n",
       "    .dataframe tbody tr th {\n",
       "        vertical-align: top;\n",
       "    }\n",
       "\n",
       "    .dataframe thead th {\n",
       "        text-align: right;\n",
       "    }\n",
       "</style>\n",
       "<table border=\"1\" class=\"dataframe\">\n",
       "  <thead>\n",
       "    <tr style=\"text-align: right;\">\n",
       "      <th></th>\n",
       "      <th>my_metric1@5</th>\n",
       "      <th>my_metric2@5</th>\n",
       "      <th>my_metric1@10</th>\n",
       "      <th>my_metric2@10</th>\n",
       "      <th>my_metric1@50</th>\n",
       "      <th>my_metric2@50</th>\n",
       "    </tr>\n",
       "  </thead>\n",
       "  <tbody>\n",
       "    <tr>\n",
       "      <th>0</th>\n",
       "      <td>1.846393</td>\n",
       "      <td>0.173142</td>\n",
       "      <td>1.907661</td>\n",
       "      <td>0.157618</td>\n",
       "      <td>1.975388</td>\n",
       "      <td>0.103465</td>\n",
       "    </tr>\n",
       "  </tbody>\n",
       "</table>\n",
       "</div>"
      ],
      "text/plain": [
       "   my_metric1@5  my_metric2@5  my_metric1@10  my_metric2@10  my_metric1@50  \\\n",
       "0      1.846393      0.173142       1.907661       0.157618       1.975388   \n",
       "\n",
       "   my_metric2@50  \n",
       "0       0.103465  "
      ]
     },
     "metadata": {},
     "output_type": "display_data"
    }
   ],
   "source": [
    "knn = searches.NearestNeighborhood(model)\n",
    "\n",
    "# Recall\n",
    "trainer.valid(knn, userwise)\n",
    "re_base = trainer.valid_scores.copy()\n",
    "display(re_base)"
   ]
  },
  {
   "cell_type": "markdown",
   "id": "44345bc1-6cfe-4671-9057-04c46b6a9051",
   "metadata": {},
   "source": [
    "## CML+MP"
   ]
  },
  {
   "cell_type": "code",
   "execution_count": 9,
   "id": "4d39d277-67d8-4751-b42e-fb45198f095a",
   "metadata": {},
   "outputs": [],
   "source": [
    "n_sample = 60\n",
    "bias_li = [0.0, 0.1, 0.2, 0.3, 0.4, 0.5, 0.6, 0.7, 0.8, 0.9, 1.0]\n",
    "gamma = distributions.Gamma()"
   ]
  },
  {
   "cell_type": "code",
   "execution_count": 10,
   "id": "4c84a7a1-62bb-4514-b645-48bf260e4195",
   "metadata": {},
   "outputs": [
    {
     "name": "stdout",
     "output_type": "stream",
     "text": [
      "bias=0.0\n"
     ]
    },
    {
     "data": {
      "text/html": [
       "<div>\n",
       "<style scoped>\n",
       "    .dataframe tbody tr th:only-of-type {\n",
       "        vertical-align: middle;\n",
       "    }\n",
       "\n",
       "    .dataframe tbody tr th {\n",
       "        vertical-align: top;\n",
       "    }\n",
       "\n",
       "    .dataframe thead th {\n",
       "        text-align: right;\n",
       "    }\n",
       "</style>\n",
       "<table border=\"1\" class=\"dataframe\">\n",
       "  <thead>\n",
       "    <tr style=\"text-align: right;\">\n",
       "      <th></th>\n",
       "      <th>my_metric1@5</th>\n",
       "      <th>my_metric2@5</th>\n",
       "      <th>my_metric1@10</th>\n",
       "      <th>my_metric2@10</th>\n",
       "      <th>my_metric1@50</th>\n",
       "      <th>my_metric2@50</th>\n",
       "    </tr>\n",
       "  </thead>\n",
       "  <tbody>\n",
       "    <tr>\n",
       "      <th>0</th>\n",
       "      <td>2.688042</td>\n",
       "      <td>0.064449</td>\n",
       "      <td>2.604722</td>\n",
       "      <td>0.070254</td>\n",
       "      <td>2.325308</td>\n",
       "      <td>0.075854</td>\n",
       "    </tr>\n",
       "  </tbody>\n",
       "</table>\n",
       "</div>"
      ],
      "text/plain": [
       "   my_metric1@5  my_metric2@5  my_metric1@10  my_metric2@10  my_metric1@50  \\\n",
       "0      2.688042      0.064449       2.604722       0.070254       2.325308   \n",
       "\n",
       "   my_metric2@50  \n",
       "0       0.075854  "
      ]
     },
     "metadata": {},
     "output_type": "display_data"
    },
    {
     "name": "stdout",
     "output_type": "stream",
     "text": [
      "bias=0.1\n"
     ]
    },
    {
     "data": {
      "text/html": [
       "<div>\n",
       "<style scoped>\n",
       "    .dataframe tbody tr th:only-of-type {\n",
       "        vertical-align: middle;\n",
       "    }\n",
       "\n",
       "    .dataframe tbody tr th {\n",
       "        vertical-align: top;\n",
       "    }\n",
       "\n",
       "    .dataframe thead th {\n",
       "        text-align: right;\n",
       "    }\n",
       "</style>\n",
       "<table border=\"1\" class=\"dataframe\">\n",
       "  <thead>\n",
       "    <tr style=\"text-align: right;\">\n",
       "      <th></th>\n",
       "      <th>my_metric1@5</th>\n",
       "      <th>my_metric2@5</th>\n",
       "      <th>my_metric1@10</th>\n",
       "      <th>my_metric2@10</th>\n",
       "      <th>my_metric1@50</th>\n",
       "      <th>my_metric2@50</th>\n",
       "    </tr>\n",
       "  </thead>\n",
       "  <tbody>\n",
       "    <tr>\n",
       "      <th>0</th>\n",
       "      <td>2.62541</td>\n",
       "      <td>0.093675</td>\n",
       "      <td>2.53474</td>\n",
       "      <td>0.094675</td>\n",
       "      <td>2.256386</td>\n",
       "      <td>0.086635</td>\n",
       "    </tr>\n",
       "  </tbody>\n",
       "</table>\n",
       "</div>"
      ],
      "text/plain": [
       "   my_metric1@5  my_metric2@5  my_metric1@10  my_metric2@10  my_metric1@50  \\\n",
       "0       2.62541      0.093675        2.53474       0.094675       2.256386   \n",
       "\n",
       "   my_metric2@50  \n",
       "0       0.086635  "
      ]
     },
     "metadata": {},
     "output_type": "display_data"
    },
    {
     "name": "stdout",
     "output_type": "stream",
     "text": [
      "bias=0.2\n"
     ]
    },
    {
     "data": {
      "text/html": [
       "<div>\n",
       "<style scoped>\n",
       "    .dataframe tbody tr th:only-of-type {\n",
       "        vertical-align: middle;\n",
       "    }\n",
       "\n",
       "    .dataframe tbody tr th {\n",
       "        vertical-align: top;\n",
       "    }\n",
       "\n",
       "    .dataframe thead th {\n",
       "        text-align: right;\n",
       "    }\n",
       "</style>\n",
       "<table border=\"1\" class=\"dataframe\">\n",
       "  <thead>\n",
       "    <tr style=\"text-align: right;\">\n",
       "      <th></th>\n",
       "      <th>my_metric1@5</th>\n",
       "      <th>my_metric2@5</th>\n",
       "      <th>my_metric1@10</th>\n",
       "      <th>my_metric2@10</th>\n",
       "      <th>my_metric1@50</th>\n",
       "      <th>my_metric2@50</th>\n",
       "    </tr>\n",
       "  </thead>\n",
       "  <tbody>\n",
       "    <tr>\n",
       "      <th>0</th>\n",
       "      <td>2.54389</td>\n",
       "      <td>0.110993</td>\n",
       "      <td>2.497361</td>\n",
       "      <td>0.110484</td>\n",
       "      <td>2.211762</td>\n",
       "      <td>0.092809</td>\n",
       "    </tr>\n",
       "  </tbody>\n",
       "</table>\n",
       "</div>"
      ],
      "text/plain": [
       "   my_metric1@5  my_metric2@5  my_metric1@10  my_metric2@10  my_metric1@50  \\\n",
       "0       2.54389      0.110993       2.497361       0.110484       2.211762   \n",
       "\n",
       "   my_metric2@50  \n",
       "0       0.092809  "
      ]
     },
     "metadata": {},
     "output_type": "display_data"
    },
    {
     "name": "stdout",
     "output_type": "stream",
     "text": [
      "bias=0.3\n"
     ]
    },
    {
     "data": {
      "text/html": [
       "<div>\n",
       "<style scoped>\n",
       "    .dataframe tbody tr th:only-of-type {\n",
       "        vertical-align: middle;\n",
       "    }\n",
       "\n",
       "    .dataframe tbody tr th {\n",
       "        vertical-align: top;\n",
       "    }\n",
       "\n",
       "    .dataframe thead th {\n",
       "        text-align: right;\n",
       "    }\n",
       "</style>\n",
       "<table border=\"1\" class=\"dataframe\">\n",
       "  <thead>\n",
       "    <tr style=\"text-align: right;\">\n",
       "      <th></th>\n",
       "      <th>my_metric1@5</th>\n",
       "      <th>my_metric2@5</th>\n",
       "      <th>my_metric1@10</th>\n",
       "      <th>my_metric2@10</th>\n",
       "      <th>my_metric1@50</th>\n",
       "      <th>my_metric2@50</th>\n",
       "    </tr>\n",
       "  </thead>\n",
       "  <tbody>\n",
       "    <tr>\n",
       "      <th>0</th>\n",
       "      <td>2.540668</td>\n",
       "      <td>0.124443</td>\n",
       "      <td>2.46046</td>\n",
       "      <td>0.122615</td>\n",
       "      <td>2.1691</td>\n",
       "      <td>0.096824</td>\n",
       "    </tr>\n",
       "  </tbody>\n",
       "</table>\n",
       "</div>"
      ],
      "text/plain": [
       "   my_metric1@5  my_metric2@5  my_metric1@10  my_metric2@10  my_metric1@50  \\\n",
       "0      2.540668      0.124443        2.46046       0.122615         2.1691   \n",
       "\n",
       "   my_metric2@50  \n",
       "0       0.096824  "
      ]
     },
     "metadata": {},
     "output_type": "display_data"
    },
    {
     "name": "stdout",
     "output_type": "stream",
     "text": [
      "bias=0.4\n"
     ]
    },
    {
     "data": {
      "text/html": [
       "<div>\n",
       "<style scoped>\n",
       "    .dataframe tbody tr th:only-of-type {\n",
       "        vertical-align: middle;\n",
       "    }\n",
       "\n",
       "    .dataframe tbody tr th {\n",
       "        vertical-align: top;\n",
       "    }\n",
       "\n",
       "    .dataframe thead th {\n",
       "        text-align: right;\n",
       "    }\n",
       "</style>\n",
       "<table border=\"1\" class=\"dataframe\">\n",
       "  <thead>\n",
       "    <tr style=\"text-align: right;\">\n",
       "      <th></th>\n",
       "      <th>my_metric1@5</th>\n",
       "      <th>my_metric2@5</th>\n",
       "      <th>my_metric1@10</th>\n",
       "      <th>my_metric2@10</th>\n",
       "      <th>my_metric1@50</th>\n",
       "      <th>my_metric2@50</th>\n",
       "    </tr>\n",
       "  </thead>\n",
       "  <tbody>\n",
       "    <tr>\n",
       "      <th>0</th>\n",
       "      <td>2.519989</td>\n",
       "      <td>0.136723</td>\n",
       "      <td>2.394056</td>\n",
       "      <td>0.132888</td>\n",
       "      <td>2.1218</td>\n",
       "      <td>0.099461</td>\n",
       "    </tr>\n",
       "  </tbody>\n",
       "</table>\n",
       "</div>"
      ],
      "text/plain": [
       "   my_metric1@5  my_metric2@5  my_metric1@10  my_metric2@10  my_metric1@50  \\\n",
       "0      2.519989      0.136723       2.394056       0.132888         2.1218   \n",
       "\n",
       "   my_metric2@50  \n",
       "0       0.099461  "
      ]
     },
     "metadata": {},
     "output_type": "display_data"
    },
    {
     "name": "stdout",
     "output_type": "stream",
     "text": [
      "bias=0.5\n"
     ]
    },
    {
     "data": {
      "text/html": [
       "<div>\n",
       "<style scoped>\n",
       "    .dataframe tbody tr th:only-of-type {\n",
       "        vertical-align: middle;\n",
       "    }\n",
       "\n",
       "    .dataframe tbody tr th {\n",
       "        vertical-align: top;\n",
       "    }\n",
       "\n",
       "    .dataframe thead th {\n",
       "        text-align: right;\n",
       "    }\n",
       "</style>\n",
       "<table border=\"1\" class=\"dataframe\">\n",
       "  <thead>\n",
       "    <tr style=\"text-align: right;\">\n",
       "      <th></th>\n",
       "      <th>my_metric1@5</th>\n",
       "      <th>my_metric2@5</th>\n",
       "      <th>my_metric1@10</th>\n",
       "      <th>my_metric2@10</th>\n",
       "      <th>my_metric1@50</th>\n",
       "      <th>my_metric2@50</th>\n",
       "    </tr>\n",
       "  </thead>\n",
       "  <tbody>\n",
       "    <tr>\n",
       "      <th>0</th>\n",
       "      <td>2.512459</td>\n",
       "      <td>0.146783</td>\n",
       "      <td>2.36802</td>\n",
       "      <td>0.141683</td>\n",
       "      <td>2.089601</td>\n",
       "      <td>0.101198</td>\n",
       "    </tr>\n",
       "  </tbody>\n",
       "</table>\n",
       "</div>"
      ],
      "text/plain": [
       "   my_metric1@5  my_metric2@5  my_metric1@10  my_metric2@10  my_metric1@50  \\\n",
       "0      2.512459      0.146783        2.36802       0.141683       2.089601   \n",
       "\n",
       "   my_metric2@50  \n",
       "0       0.101198  "
      ]
     },
     "metadata": {},
     "output_type": "display_data"
    },
    {
     "name": "stdout",
     "output_type": "stream",
     "text": [
      "bias=0.6\n"
     ]
    },
    {
     "data": {
      "text/html": [
       "<div>\n",
       "<style scoped>\n",
       "    .dataframe tbody tr th:only-of-type {\n",
       "        vertical-align: middle;\n",
       "    }\n",
       "\n",
       "    .dataframe tbody tr th {\n",
       "        vertical-align: top;\n",
       "    }\n",
       "\n",
       "    .dataframe thead th {\n",
       "        text-align: right;\n",
       "    }\n",
       "</style>\n",
       "<table border=\"1\" class=\"dataframe\">\n",
       "  <thead>\n",
       "    <tr style=\"text-align: right;\">\n",
       "      <th></th>\n",
       "      <th>my_metric1@5</th>\n",
       "      <th>my_metric2@5</th>\n",
       "      <th>my_metric1@10</th>\n",
       "      <th>my_metric2@10</th>\n",
       "      <th>my_metric1@50</th>\n",
       "      <th>my_metric2@50</th>\n",
       "    </tr>\n",
       "  </thead>\n",
       "  <tbody>\n",
       "    <tr>\n",
       "      <th>0</th>\n",
       "      <td>2.462094</td>\n",
       "      <td>0.155751</td>\n",
       "      <td>2.310849</td>\n",
       "      <td>0.148619</td>\n",
       "      <td>2.056787</td>\n",
       "      <td>0.102424</td>\n",
       "    </tr>\n",
       "  </tbody>\n",
       "</table>\n",
       "</div>"
      ],
      "text/plain": [
       "   my_metric1@5  my_metric2@5  my_metric1@10  my_metric2@10  my_metric1@50  \\\n",
       "0      2.462094      0.155751       2.310849       0.148619       2.056787   \n",
       "\n",
       "   my_metric2@50  \n",
       "0       0.102424  "
      ]
     },
     "metadata": {},
     "output_type": "display_data"
    },
    {
     "name": "stdout",
     "output_type": "stream",
     "text": [
      "bias=0.7\n"
     ]
    },
    {
     "data": {
      "text/html": [
       "<div>\n",
       "<style scoped>\n",
       "    .dataframe tbody tr th:only-of-type {\n",
       "        vertical-align: middle;\n",
       "    }\n",
       "\n",
       "    .dataframe tbody tr th {\n",
       "        vertical-align: top;\n",
       "    }\n",
       "\n",
       "    .dataframe thead th {\n",
       "        text-align: right;\n",
       "    }\n",
       "</style>\n",
       "<table border=\"1\" class=\"dataframe\">\n",
       "  <thead>\n",
       "    <tr style=\"text-align: right;\">\n",
       "      <th></th>\n",
       "      <th>my_metric1@5</th>\n",
       "      <th>my_metric2@5</th>\n",
       "      <th>my_metric1@10</th>\n",
       "      <th>my_metric2@10</th>\n",
       "      <th>my_metric1@50</th>\n",
       "      <th>my_metric2@50</th>\n",
       "    </tr>\n",
       "  </thead>\n",
       "  <tbody>\n",
       "    <tr>\n",
       "      <th>0</th>\n",
       "      <td>2.40404</td>\n",
       "      <td>0.164595</td>\n",
       "      <td>2.263952</td>\n",
       "      <td>0.155131</td>\n",
       "      <td>2.038923</td>\n",
       "      <td>0.103222</td>\n",
       "    </tr>\n",
       "  </tbody>\n",
       "</table>\n",
       "</div>"
      ],
      "text/plain": [
       "   my_metric1@5  my_metric2@5  my_metric1@10  my_metric2@10  my_metric1@50  \\\n",
       "0       2.40404      0.164595       2.263952       0.155131       2.038923   \n",
       "\n",
       "   my_metric2@50  \n",
       "0       0.103222  "
      ]
     },
     "metadata": {},
     "output_type": "display_data"
    },
    {
     "name": "stdout",
     "output_type": "stream",
     "text": [
      "bias=0.8\n"
     ]
    },
    {
     "data": {
      "text/html": [
       "<div>\n",
       "<style scoped>\n",
       "    .dataframe tbody tr th:only-of-type {\n",
       "        vertical-align: middle;\n",
       "    }\n",
       "\n",
       "    .dataframe tbody tr th {\n",
       "        vertical-align: top;\n",
       "    }\n",
       "\n",
       "    .dataframe thead th {\n",
       "        text-align: right;\n",
       "    }\n",
       "</style>\n",
       "<table border=\"1\" class=\"dataframe\">\n",
       "  <thead>\n",
       "    <tr style=\"text-align: right;\">\n",
       "      <th></th>\n",
       "      <th>my_metric1@5</th>\n",
       "      <th>my_metric2@5</th>\n",
       "      <th>my_metric1@10</th>\n",
       "      <th>my_metric2@10</th>\n",
       "      <th>my_metric1@50</th>\n",
       "      <th>my_metric2@50</th>\n",
       "    </tr>\n",
       "  </thead>\n",
       "  <tbody>\n",
       "    <tr>\n",
       "      <th>0</th>\n",
       "      <td>2.283359</td>\n",
       "      <td>0.172077</td>\n",
       "      <td>2.204335</td>\n",
       "      <td>0.160062</td>\n",
       "      <td>2.013417</td>\n",
       "      <td>0.103637</td>\n",
       "    </tr>\n",
       "  </tbody>\n",
       "</table>\n",
       "</div>"
      ],
      "text/plain": [
       "   my_metric1@5  my_metric2@5  my_metric1@10  my_metric2@10  my_metric1@50  \\\n",
       "0      2.283359      0.172077       2.204335       0.160062       2.013417   \n",
       "\n",
       "   my_metric2@50  \n",
       "0       0.103637  "
      ]
     },
     "metadata": {},
     "output_type": "display_data"
    },
    {
     "name": "stdout",
     "output_type": "stream",
     "text": [
      "bias=0.9\n"
     ]
    },
    {
     "data": {
      "text/html": [
       "<div>\n",
       "<style scoped>\n",
       "    .dataframe tbody tr th:only-of-type {\n",
       "        vertical-align: middle;\n",
       "    }\n",
       "\n",
       "    .dataframe tbody tr th {\n",
       "        vertical-align: top;\n",
       "    }\n",
       "\n",
       "    .dataframe thead th {\n",
       "        text-align: right;\n",
       "    }\n",
       "</style>\n",
       "<table border=\"1\" class=\"dataframe\">\n",
       "  <thead>\n",
       "    <tr style=\"text-align: right;\">\n",
       "      <th></th>\n",
       "      <th>my_metric1@5</th>\n",
       "      <th>my_metric2@5</th>\n",
       "      <th>my_metric1@10</th>\n",
       "      <th>my_metric2@10</th>\n",
       "      <th>my_metric1@50</th>\n",
       "      <th>my_metric2@50</th>\n",
       "    </tr>\n",
       "  </thead>\n",
       "  <tbody>\n",
       "    <tr>\n",
       "      <th>0</th>\n",
       "      <td>2.154548</td>\n",
       "      <td>0.179245</td>\n",
       "      <td>2.095032</td>\n",
       "      <td>0.16343</td>\n",
       "      <td>1.996912</td>\n",
       "      <td>0.103785</td>\n",
       "    </tr>\n",
       "  </tbody>\n",
       "</table>\n",
       "</div>"
      ],
      "text/plain": [
       "   my_metric1@5  my_metric2@5  my_metric1@10  my_metric2@10  my_metric1@50  \\\n",
       "0      2.154548      0.179245       2.095032        0.16343       1.996912   \n",
       "\n",
       "   my_metric2@50  \n",
       "0       0.103785  "
      ]
     },
     "metadata": {},
     "output_type": "display_data"
    },
    {
     "name": "stdout",
     "output_type": "stream",
     "text": [
      "bias=1.0\n"
     ]
    },
    {
     "data": {
      "text/html": [
       "<div>\n",
       "<style scoped>\n",
       "    .dataframe tbody tr th:only-of-type {\n",
       "        vertical-align: middle;\n",
       "    }\n",
       "\n",
       "    .dataframe tbody tr th {\n",
       "        vertical-align: top;\n",
       "    }\n",
       "\n",
       "    .dataframe thead th {\n",
       "        text-align: right;\n",
       "    }\n",
       "</style>\n",
       "<table border=\"1\" class=\"dataframe\">\n",
       "  <thead>\n",
       "    <tr style=\"text-align: right;\">\n",
       "      <th></th>\n",
       "      <th>my_metric1@5</th>\n",
       "      <th>my_metric2@5</th>\n",
       "      <th>my_metric1@10</th>\n",
       "      <th>my_metric2@10</th>\n",
       "      <th>my_metric1@50</th>\n",
       "      <th>my_metric2@50</th>\n",
       "    </tr>\n",
       "  </thead>\n",
       "  <tbody>\n",
       "    <tr>\n",
       "      <th>0</th>\n",
       "      <td>1.846372</td>\n",
       "      <td>0.173133</td>\n",
       "      <td>1.907666</td>\n",
       "      <td>0.157619</td>\n",
       "      <td>1.975388</td>\n",
       "      <td>0.103465</td>\n",
       "    </tr>\n",
       "  </tbody>\n",
       "</table>\n",
       "</div>"
      ],
      "text/plain": [
       "   my_metric1@5  my_metric2@5  my_metric1@10  my_metric2@10  my_metric1@50  \\\n",
       "0      1.846372      0.173133       1.907666       0.157619       1.975388   \n",
       "\n",
       "   my_metric2@50  \n",
       "0       0.103465  "
      ]
     },
     "metadata": {},
     "output_type": "display_data"
    }
   ],
   "source": [
    "re_mpcml_li = []\n",
    "for bias in bias_li:\n",
    "    print(f'bias={bias}')\n",
    "    mp = searches.NoDistinctionMutualProximity(model, gamma, n_sample, bias)\n",
    "    trainer.valid(mp, userwise)\n",
    "    re = trainer.valid_scores.copy()\n",
    "    display(re)\n",
    "    re_mpcml_li.append(re)"
   ]
  },
  {
   "cell_type": "code",
   "execution_count": 11,
   "id": "ab745d58-374c-46b2-a595-71745fa09c0f",
   "metadata": {},
   "outputs": [],
   "source": [
    "re_1 = []\n",
    "re_2 = []\n",
    "for re in re_mpcml_li:\n",
    "    re_1.append(re.iloc[-1, 2])\n",
    "    re_2.append(re.iloc[-1, 3])"
   ]
  },
  {
   "cell_type": "code",
   "execution_count": 12,
   "id": "18e38a58-d6d0-4f80-8ba3-fd7567d0aee2",
   "metadata": {},
   "outputs": [],
   "source": [
    "re_base_1 = []\n",
    "re_base_2 = []\n",
    "for _ in range(len(bias_li)):\n",
    "    re_base_1.append(re_base.iloc[-1, 2])\n",
    "    re_base_2.append(re_base.iloc[-1, 3])"
   ]
  },
  {
   "cell_type": "markdown",
   "id": "7314526d-7cd3-40f9-98d5-3bb9437e4fc2",
   "metadata": {},
   "source": [
    "## my_metric1"
   ]
  },
  {
   "cell_type": "code",
   "execution_count": 13,
   "id": "ecc4d161-f17a-4fa9-91ec-9110f698bc81",
   "metadata": {},
   "outputs": [
    {
     "data": {
      "image/png": "[encoded data removed]",
      "text/plain": [
       "<Figure size 1000x600 with 1 Axes>"
      ]
     },
     "metadata": {},
     "output_type": "display_data"
    }
   ],
   "source": [
    "# グラフの作成\n",
    "plt.figure(figsize=(10, 6))\n",
    "plt.plot(bias_li, re_base_1, label='BASE', marker='o')\n",
    "plt.plot(bias_li, re_1, label='MP', marker='s')\n",
    "\n",
    "# タイトルとラベルの追加\n",
    "plt.title('my_metric1-20m-k=10')\n",
    "plt.xlabel('bias')\n",
    "plt.ylabel('my_metric1')\n",
    "plt.legend()\n",
    "\n",
    "# グリッドを表示\n",
    "plt.grid(True)\n",
    "\n",
    "# グラフの表示\n",
    "plt.show()"
   ]
  },
  {
   "cell_type": "markdown",
   "id": "8d76744e-f514-47b1-81b9-6126f2111dbc",
   "metadata": {},
   "source": [
    "## me_metric2"
   ]
  },
  {
   "cell_type": "code",
   "execution_count": 14,
   "id": "1252b768-3736-4bbc-8951-8f3388ba7491",
   "metadata": {
    "tags": []
   },
   "outputs": [
    {
     "data": {
      "image/png": "[encoded data removed]",
      "text/plain": [
       "<Figure size 1000x600 with 1 Axes>"
      ]
     },
     "metadata": {},
     "output_type": "display_data"
    }
   ],
   "source": [
    "# グラフの作成\n",
    "plt.figure(figsize=(10, 6))\n",
    "plt.plot(bias_li, re_base_2, label='BASE', marker='o')\n",
    "plt.plot(bias_li, re_2, label='MP', marker='s')\n",
    "\n",
    "# タイトルとラベルの追加\n",
    "plt.title('my_metric2-20m-k=10')\n",
    "plt.xlabel('bias')\n",
    "plt.ylabel('my_metric2')\n",
    "plt.legend()\n",
    "\n",
    "# グリッドを表示\n",
    "plt.grid(True)\n",
    "\n",
    "# グラフの表示\n",
    "plt.show()"
   ]
  },
  {
   "cell_type": "code",
   "execution_count": null,
   "id": "4f8088bd-392f-4500-9c20-842e1b57366f",
   "metadata": {},
   "outputs": [],
   "source": []
  }
 ],
 "metadata": {
  "kernelspec": {
   "display_name": "bachelor2",
   "language": "python",
   "name": "bachelor2"
  },
  "language_info": {
   "codemirror_mode": {
    "name": "ipython",
    "version": 3
   },
   "file_extension": ".py",
   "mimetype": "text/x-python",
   "name": "python",
   "nbconvert_exporter": "python",
   "pygments_lexer": "ipython3",
   "version": "3.8.17"
  }
 },
 "nbformat": 4,
 "nbformat_minor": 5
}
