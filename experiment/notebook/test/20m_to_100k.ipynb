{
 "cells": [
  {
   "cell_type": "code",
   "execution_count": 1,
   "id": "a8ae7784-e462-4737-bcdf-48cfbc491826",
   "metadata": {
    "tags": []
   },
   "outputs": [],
   "source": [
    "import sys\n",
    "\n",
    "root_dir = '../../'\n",
    "if root_dir not in sys.path:\n",
    "    sys.path.append(root_dir)\n",
    "\n",
    "import torch\n",
    "from torch import nn, optim\n",
    "import numpy as np\n",
    "import matplotlib.pyplot as plt\n",
    "from sklearn.decomposition import TruncatedSVD\n",
    "from scipy.sparse import csr_matrix\n",
    "import pandas as pd\n",
    "\n",
    "pd.set_option('display.max_columns', 100)\n",
    "\n",
    "from modules import losses, models, samplers, searches, regularizers, evaluators, trainers, datasets, distributions"
   ]
  },
  {
   "cell_type": "markdown",
   "id": "7c57d0e5-a7d5-44d9-bbda-91ca6661e28b",
   "metadata": {},
   "source": [
    "# ML100k"
   ]
  },
  {
   "cell_type": "code",
   "execution_count": 2,
   "id": "fd101d48-f229-4fcc-9e7d-a0c458da3fb9",
   "metadata": {
    "tags": []
   },
   "outputs": [
    {
     "name": "stdout",
     "output_type": "stream",
     "text": [
      "n_user=940, n_item=1447\n"
     ]
    }
   ],
   "source": [
    "dataset = datasets.ML100k()\n",
    "n_user = dataset.n_user\n",
    "n_item = dataset.n_item\n",
    "print(f\"n_user={n_user}, n_item={n_item}\")\n",
    "train_set, test_set = dataset.get_train_and_test_set()\n",
    "\n",
    "# device setting\n",
    "device = torch.device(\"cuda:0\" if torch.cuda.is_available() else \"cpu\")\n",
    "train_set = torch.LongTensor(train_set).to(device)\n",
    "test_set = torch.FloatTensor(test_set).to(device)"
   ]
  },
  {
   "cell_type": "code",
   "execution_count": 3,
   "id": "51d01c4e-69bc-4728-a8f0-227353137f9d",
   "metadata": {
    "tags": []
   },
   "outputs": [],
   "source": [
    "# k\n",
    "ks = [5, 10, 50]\n",
    "\n",
    "score_function_dict = {\n",
    "    \"Recall\"       : evaluators.recall,\n",
    "    \"Unpopularity\" : evaluators.unpopularity,\n",
    "    \"Unpopularity2\": evaluators.unpopularity2,\n",
    "    \"Unpopularity3\": evaluators.unpopularity3,\n",
    "    \"F1-score\"     : evaluators.f1_score,\n",
    "    \"F1-score2\"    : evaluators.f1_score2,\n",
    "    \"F1-score3\"    : evaluators.f1_score3\n",
    "}\n",
    "userwise = evaluators.UserwiseEvaluator(test_set, score_function_dict, ks)\n",
    "# coverage = evaluators.CoverageEvaluator(test_set, ks)\n",
    "# hubness = evaluators.HubnessEvaluator(test_set, ks)"
   ]
  },
  {
   "cell_type": "code",
   "execution_count": 4,
   "id": "81e30c11-a001-4ca2-95ff-878cbba30cbe",
   "metadata": {
    "tags": []
   },
   "outputs": [],
   "source": [
    "sampler = samplers.BaseSampler(train_set, n_user, n_item, device=device, strict_negative=False)"
   ]
  },
  {
   "cell_type": "code",
   "execution_count": 5,
   "id": "800a4df2-468c-43c2-b0c1-70231299903c",
   "metadata": {
    "tags": []
   },
   "outputs": [],
   "source": [
    "# Hyperparameters\n",
    "lr = 1e-3\n",
    "n_dim = 10\n",
    "n_batch = 256\n",
    "n_epoch = 50\n",
    "valid_per_epoch = 10\n",
    "n_item_sample = 30\n",
    "n_user_sample = 30\n",
    "no_progressbar = True\n",
    "\n",
    "# models\n",
    "model = models.CollaborativeMetricLearning(n_user, n_item, n_dim).to(device)\n",
    "\n",
    "# distributiuons\n",
    "gaussian = distributions.Gaussian()\n",
    "gamma = distributions.Gamma()\n",
    "\n",
    "# search\n",
    "knn = searches.NearestNeighborhood(model)\n",
    "mp = searches.MutualProximity(model, gamma)\n",
    "\n",
    "# learning late optimizer\n",
    "optimizer = optim.Adam(model.parameters(), lr=lr)\n",
    "\n",
    "# loss function\n",
    "criterion = losses.SumTripletLoss(margin=1).to(device)\n",
    "\n",
    "# trainer\n",
    "trainer = trainers.BaseTrainer(model, optimizer, criterion, sampler, no_progressbar)"
   ]
  },
  {
   "cell_type": "code",
   "execution_count": 6,
   "id": "d7c67a27-64d1-450b-937c-90e5ed1bb4be",
   "metadata": {
    "tags": []
   },
   "outputs": [],
   "source": [
    "trainer.fit(n_batch, n_epoch)"
   ]
  },
  {
   "cell_type": "code",
   "execution_count": 7,
   "id": "c8bd8b9a-d88f-4090-92dd-f5879484851a",
   "metadata": {},
   "outputs": [
    {
     "name": "stdout",
     "output_type": "stream",
     "text": [
      "knn\n"
     ]
    },
    {
     "data": {
      "text/html": [
       "<div>\n",
       "<style scoped>\n",
       "    .dataframe tbody tr th:only-of-type {\n",
       "        vertical-align: middle;\n",
       "    }\n",
       "\n",
       "    .dataframe tbody tr th {\n",
       "        vertical-align: top;\n",
       "    }\n",
       "\n",
       "    .dataframe thead th {\n",
       "        text-align: right;\n",
       "    }\n",
       "</style>\n",
       "<table border=\"1\" class=\"dataframe\">\n",
       "  <thead>\n",
       "    <tr style=\"text-align: right;\">\n",
       "      <th></th>\n",
       "      <th>Recall@5</th>\n",
       "      <th>Unpopularity@5</th>\n",
       "      <th>Unpopularity2@5</th>\n",
       "      <th>Unpopularity3@5</th>\n",
       "      <th>F1-score@5</th>\n",
       "      <th>F1-score2@5</th>\n",
       "      <th>F1-score3@5</th>\n",
       "      <th>Recall@10</th>\n",
       "      <th>Unpopularity@10</th>\n",
       "      <th>Unpopularity2@10</th>\n",
       "      <th>Unpopularity3@10</th>\n",
       "      <th>F1-score@10</th>\n",
       "      <th>F1-score2@10</th>\n",
       "      <th>F1-score3@10</th>\n",
       "      <th>Recall@50</th>\n",
       "      <th>Unpopularity@50</th>\n",
       "      <th>Unpopularity2@50</th>\n",
       "      <th>Unpopularity3@50</th>\n",
       "      <th>F1-score@50</th>\n",
       "      <th>F1-score2@50</th>\n",
       "      <th>F1-score3@50</th>\n",
       "    </tr>\n",
       "  </thead>\n",
       "  <tbody>\n",
       "    <tr>\n",
       "      <th>0</th>\n",
       "      <td>0.398098</td>\n",
       "      <td>0.877321</td>\n",
       "      <td>3.318121</td>\n",
       "      <td>0.014806</td>\n",
       "      <td>0.491728</td>\n",
       "      <td>0.681867</td>\n",
       "      <td>0.025782</td>\n",
       "      <td>0.574217</td>\n",
       "      <td>0.891321</td>\n",
       "      <td>3.635276</td>\n",
       "      <td>0.050278</td>\n",
       "      <td>0.652257</td>\n",
       "      <td>0.968253</td>\n",
       "      <td>0.083014</td>\n",
       "      <td>0.889332</td>\n",
       "      <td>0.887826</td>\n",
       "      <td>4.74945</td>\n",
       "      <td>0.437967</td>\n",
       "      <td>0.872784</td>\n",
       "      <td>1.489182</td>\n",
       "      <td>0.513129</td>\n",
       "    </tr>\n",
       "  </tbody>\n",
       "</table>\n",
       "</div>"
      ],
      "text/plain": [
       "   Recall@5  Unpopularity@5  Unpopularity2@5  Unpopularity3@5  F1-score@5  \\\n",
       "0  0.398098        0.877321         3.318121         0.014806    0.491728   \n",
       "\n",
       "   F1-score2@5  F1-score3@5  Recall@10  Unpopularity@10  Unpopularity2@10  \\\n",
       "0     0.681867     0.025782   0.574217         0.891321          3.635276   \n",
       "\n",
       "   Unpopularity3@10  F1-score@10  F1-score2@10  F1-score3@10  Recall@50  \\\n",
       "0          0.050278     0.652257      0.968253      0.083014   0.889332   \n",
       "\n",
       "   Unpopularity@50  Unpopularity2@50  Unpopularity3@50  F1-score@50  \\\n",
       "0         0.887826           4.74945          0.437967     0.872784   \n",
       "\n",
       "   F1-score2@50  F1-score3@50  \n",
       "0      1.489182      0.513129  "
      ]
     },
     "metadata": {},
     "output_type": "display_data"
    }
   ],
   "source": [
    "print('knn')\n",
    "trainer.valid(knn, userwise)\n",
    "display(trainer.valid_scores)"
   ]
  },
  {
   "cell_type": "code",
   "execution_count": 8,
   "id": "1fbfd43d-641c-4ed7-9088-1b9b4ee4e5d2",
   "metadata": {},
   "outputs": [
    {
     "name": "stdout",
     "output_type": "stream",
     "text": [
      "mp\n"
     ]
    },
    {
     "data": {
      "text/html": [
       "<div>\n",
       "<style scoped>\n",
       "    .dataframe tbody tr th:only-of-type {\n",
       "        vertical-align: middle;\n",
       "    }\n",
       "\n",
       "    .dataframe tbody tr th {\n",
       "        vertical-align: top;\n",
       "    }\n",
       "\n",
       "    .dataframe thead th {\n",
       "        text-align: right;\n",
       "    }\n",
       "</style>\n",
       "<table border=\"1\" class=\"dataframe\">\n",
       "  <thead>\n",
       "    <tr style=\"text-align: right;\">\n",
       "      <th></th>\n",
       "      <th>Recall@5</th>\n",
       "      <th>Unpopularity@5</th>\n",
       "      <th>Unpopularity2@5</th>\n",
       "      <th>Unpopularity3@5</th>\n",
       "      <th>F1-score@5</th>\n",
       "      <th>F1-score2@5</th>\n",
       "      <th>F1-score3@5</th>\n",
       "      <th>Recall@10</th>\n",
       "      <th>Unpopularity@10</th>\n",
       "      <th>Unpopularity2@10</th>\n",
       "      <th>Unpopularity3@10</th>\n",
       "      <th>F1-score@10</th>\n",
       "      <th>F1-score2@10</th>\n",
       "      <th>F1-score3@10</th>\n",
       "      <th>Recall@50</th>\n",
       "      <th>Unpopularity@50</th>\n",
       "      <th>Unpopularity2@50</th>\n",
       "      <th>Unpopularity3@50</th>\n",
       "      <th>F1-score@50</th>\n",
       "      <th>F1-score2@50</th>\n",
       "      <th>F1-score3@50</th>\n",
       "    </tr>\n",
       "  </thead>\n",
       "  <tbody>\n",
       "    <tr>\n",
       "      <th>0</th>\n",
       "      <td>0.320669</td>\n",
       "      <td>0.925621</td>\n",
       "      <td>4.275788</td>\n",
       "      <td>0.035536</td>\n",
       "      <td>0.421298</td>\n",
       "      <td>0.570852</td>\n",
       "      <td>0.054792</td>\n",
       "      <td>0.487213</td>\n",
       "      <td>0.931345</td>\n",
       "      <td>4.55206</td>\n",
       "      <td>0.084522</td>\n",
       "      <td>0.584765</td>\n",
       "      <td>0.854416</td>\n",
       "      <td>0.130203</td>\n",
       "      <td>0.850493</td>\n",
       "      <td>0.899975</td>\n",
       "      <td>5.212485</td>\n",
       "      <td>0.473324</td>\n",
       "      <td>0.850957</td>\n",
       "      <td>1.448525</td>\n",
       "      <td>0.554126</td>\n",
       "    </tr>\n",
       "  </tbody>\n",
       "</table>\n",
       "</div>"
      ],
      "text/plain": [
       "   Recall@5  Unpopularity@5  Unpopularity2@5  Unpopularity3@5  F1-score@5  \\\n",
       "0  0.320669        0.925621         4.275788         0.035536    0.421298   \n",
       "\n",
       "   F1-score2@5  F1-score3@5  Recall@10  Unpopularity@10  Unpopularity2@10  \\\n",
       "0     0.570852     0.054792   0.487213         0.931345           4.55206   \n",
       "\n",
       "   Unpopularity3@10  F1-score@10  F1-score2@10  F1-score3@10  Recall@50  \\\n",
       "0          0.084522     0.584765      0.854416      0.130203   0.850493   \n",
       "\n",
       "   Unpopularity@50  Unpopularity2@50  Unpopularity3@50  F1-score@50  \\\n",
       "0         0.899975          5.212485          0.473324     0.850957   \n",
       "\n",
       "   F1-score2@50  F1-score3@50  \n",
       "0      1.448525      0.554126  "
      ]
     },
     "metadata": {},
     "output_type": "display_data"
    }
   ],
   "source": [
    "print('mp')\n",
    "trainer.valid(mp, userwise)\n",
    "display(trainer.valid_scores)"
   ]
  },
  {
   "cell_type": "markdown",
   "id": "edb2d2af-83e0-4605-a800-379499bd6fa4",
   "metadata": {
    "tags": []
   },
   "source": [
    "# ML200m\n",
    "ランダムに100kサンプリング"
   ]
  },
  {
   "cell_type": "code",
   "execution_count": 9,
   "id": "1bf8c6be-cfbb-433f-a5c4-2a74b20abba0",
   "metadata": {
    "tags": []
   },
   "outputs": [
    {
     "name": "stdout",
     "output_type": "stream",
     "text": [
      "n_user=1371, n_item=2974\n"
     ]
    }
   ],
   "source": [
    "dataset = datasets.ML20mTo100k()\n",
    "n_user = dataset.n_user\n",
    "n_item = dataset.n_item\n",
    "print(f\"n_user={n_user}, n_item={n_item}\")\n",
    "train_set, test_set = dataset.get_train_and_test_set()\n",
    "\n",
    "# device setting\n",
    "device = torch.device(\"cuda:0\" if torch.cuda.is_available() else \"cpu\")\n",
    "train_set = torch.LongTensor(train_set).to(device)\n",
    "test_set = torch.FloatTensor(test_set).to(device)"
   ]
  },
  {
   "cell_type": "code",
   "execution_count": 10,
   "id": "a42444b3-b4bd-45a7-8e13-95cbf638bcdd",
   "metadata": {
    "tags": []
   },
   "outputs": [],
   "source": [
    "# k\n",
    "ks = [5, 10, 50]\n",
    "\n",
    "score_function_dict = {\n",
    "    \"Recall\"       : evaluators.recall,\n",
    "    \"Unpopularity\" : evaluators.unpopularity,\n",
    "    \"Unpopularity2\": evaluators.unpopularity2,\n",
    "    \"Unpopularity3\": evaluators.unpopularity3,\n",
    "    \"F1-score\"     : evaluators.f1_score,\n",
    "    \"F1-score2\"    : evaluators.f1_score2,\n",
    "    \"F1-score3\"    : evaluators.f1_score3\n",
    "}\n",
    "userwise = evaluators.UserwiseEvaluator(test_set, score_function_dict, ks)\n",
    "# coverage = evaluators.CoverageEvaluator(test_set, ks)\n",
    "# hubness = evaluators.HubnessEvaluator(test_set, ks)"
   ]
  },
  {
   "cell_type": "code",
   "execution_count": 11,
   "id": "59c2d7c6-c4d3-4db1-8e66-7978d73d8050",
   "metadata": {
    "tags": []
   },
   "outputs": [],
   "source": [
    "sampler = samplers.BaseSampler(train_set, n_user, n_item, device=device, strict_negative=False)"
   ]
  },
  {
   "cell_type": "code",
   "execution_count": 12,
   "id": "91f21b32-2d26-4266-bbcb-e3dbe7955501",
   "metadata": {
    "tags": []
   },
   "outputs": [],
   "source": [
    "# Hyperparameters\n",
    "lr = 1e-3\n",
    "n_dim = 10\n",
    "n_batch = 256\n",
    "n_epoch = 50\n",
    "valid_per_epoch = 10\n",
    "n_item_sample = 30\n",
    "n_user_sample = 30\n",
    "no_progressbar = True\n",
    "\n",
    "# models\n",
    "model = models.CollaborativeMetricLearning(n_user, n_item, n_dim).to(device)\n",
    "\n",
    "# distributiuons\n",
    "gaussian = distributions.Gaussian()\n",
    "gamma = distributions.Gamma()\n",
    "\n",
    "# search\n",
    "knn = searches.NearestNeighborhood(model)\n",
    "mp = searches.MutualProximity(model, gamma)\n",
    "\n",
    "# learning late optimizer\n",
    "optimizer = optim.Adam(model.parameters(), lr=lr)\n",
    "\n",
    "# loss function\n",
    "criterion = losses.SumTripletLoss(margin=1).to(device)\n",
    "\n",
    "# trainer\n",
    "trainer = trainers.BaseTrainer(model, optimizer, criterion, sampler, no_progressbar)"
   ]
  },
  {
   "cell_type": "code",
   "execution_count": 13,
   "id": "a5ab00cd-4173-4bf8-9425-920fde9134b6",
   "metadata": {
    "tags": []
   },
   "outputs": [],
   "source": [
    "trainer.fit(n_batch, n_epoch)"
   ]
  },
  {
   "cell_type": "code",
   "execution_count": 14,
   "id": "e3800680-d827-4218-b867-5ed37fc8f93e",
   "metadata": {},
   "outputs": [
    {
     "name": "stdout",
     "output_type": "stream",
     "text": [
      "knn\n"
     ]
    },
    {
     "data": {
      "text/html": [
       "<div>\n",
       "<style scoped>\n",
       "    .dataframe tbody tr th:only-of-type {\n",
       "        vertical-align: middle;\n",
       "    }\n",
       "\n",
       "    .dataframe tbody tr th {\n",
       "        vertical-align: top;\n",
       "    }\n",
       "\n",
       "    .dataframe thead th {\n",
       "        text-align: right;\n",
       "    }\n",
       "</style>\n",
       "<table border=\"1\" class=\"dataframe\">\n",
       "  <thead>\n",
       "    <tr style=\"text-align: right;\">\n",
       "      <th></th>\n",
       "      <th>Recall@5</th>\n",
       "      <th>Unpopularity@5</th>\n",
       "      <th>Unpopularity2@5</th>\n",
       "      <th>Unpopularity3@5</th>\n",
       "      <th>F1-score@5</th>\n",
       "      <th>F1-score2@5</th>\n",
       "      <th>F1-score3@5</th>\n",
       "      <th>Recall@10</th>\n",
       "      <th>Unpopularity@10</th>\n",
       "      <th>Unpopularity2@10</th>\n",
       "      <th>Unpopularity3@10</th>\n",
       "      <th>F1-score@10</th>\n",
       "      <th>F1-score2@10</th>\n",
       "      <th>F1-score3@10</th>\n",
       "      <th>Recall@50</th>\n",
       "      <th>Unpopularity@50</th>\n",
       "      <th>Unpopularity2@50</th>\n",
       "      <th>Unpopularity3@50</th>\n",
       "      <th>F1-score@50</th>\n",
       "      <th>F1-score2@50</th>\n",
       "      <th>F1-score3@50</th>\n",
       "    </tr>\n",
       "  </thead>\n",
       "  <tbody>\n",
       "    <tr>\n",
       "      <th>0</th>\n",
       "      <td>0.387977</td>\n",
       "      <td>0.999068</td>\n",
       "      <td>10.55137</td>\n",
       "      <td>0.337375</td>\n",
       "      <td>0.415659</td>\n",
       "      <td>0.715</td>\n",
       "      <td>0.216151</td>\n",
       "      <td>0.720824</td>\n",
       "      <td>0.999139</td>\n",
       "      <td>10.646955</td>\n",
       "      <td>0.704452</td>\n",
       "      <td>0.757243</td>\n",
       "      <td>1.32679</td>\n",
       "      <td>0.651858</td>\n",
       "      <td>1.0</td>\n",
       "      <td>0.319635</td>\n",
       "      <td>3.421265</td>\n",
       "      <td>0.999915</td>\n",
       "      <td>0.471238</td>\n",
       "      <td>1.509032</td>\n",
       "      <td>0.999955</td>\n",
       "    </tr>\n",
       "  </tbody>\n",
       "</table>\n",
       "</div>"
      ],
      "text/plain": [
       "   Recall@5  Unpopularity@5  Unpopularity2@5  Unpopularity3@5  F1-score@5  \\\n",
       "0  0.387977        0.999068         10.55137         0.337375    0.415659   \n",
       "\n",
       "   F1-score2@5  F1-score3@5  Recall@10  Unpopularity@10  Unpopularity2@10  \\\n",
       "0        0.715     0.216151   0.720824         0.999139         10.646955   \n",
       "\n",
       "   Unpopularity3@10  F1-score@10  F1-score2@10  F1-score3@10  Recall@50  \\\n",
       "0          0.704452     0.757243       1.32679      0.651858        1.0   \n",
       "\n",
       "   Unpopularity@50  Unpopularity2@50  Unpopularity3@50  F1-score@50  \\\n",
       "0         0.319635          3.421265          0.999915     0.471238   \n",
       "\n",
       "   F1-score2@50  F1-score3@50  \n",
       "0      1.509032      0.999955  "
      ]
     },
     "metadata": {},
     "output_type": "display_data"
    }
   ],
   "source": [
    "print('knn')\n",
    "trainer.valid(knn, userwise)\n",
    "display(trainer.valid_scores)"
   ]
  },
  {
   "cell_type": "code",
   "execution_count": 15,
   "id": "be5f9327-f11c-4d93-b17c-9e3baac15c20",
   "metadata": {},
   "outputs": [
    {
     "name": "stdout",
     "output_type": "stream",
     "text": [
      "mp\n"
     ]
    },
    {
     "data": {
      "text/html": [
       "<div>\n",
       "<style scoped>\n",
       "    .dataframe tbody tr th:only-of-type {\n",
       "        vertical-align: middle;\n",
       "    }\n",
       "\n",
       "    .dataframe tbody tr th {\n",
       "        vertical-align: top;\n",
       "    }\n",
       "\n",
       "    .dataframe thead th {\n",
       "        text-align: right;\n",
       "    }\n",
       "</style>\n",
       "<table border=\"1\" class=\"dataframe\">\n",
       "  <thead>\n",
       "    <tr style=\"text-align: right;\">\n",
       "      <th></th>\n",
       "      <th>Recall@5</th>\n",
       "      <th>Unpopularity@5</th>\n",
       "      <th>Unpopularity2@5</th>\n",
       "      <th>Unpopularity3@5</th>\n",
       "      <th>F1-score@5</th>\n",
       "      <th>F1-score2@5</th>\n",
       "      <th>F1-score3@5</th>\n",
       "      <th>Recall@10</th>\n",
       "      <th>Unpopularity@10</th>\n",
       "      <th>Unpopularity2@10</th>\n",
       "      <th>Unpopularity3@10</th>\n",
       "      <th>F1-score@10</th>\n",
       "      <th>F1-score2@10</th>\n",
       "      <th>F1-score3@10</th>\n",
       "      <th>Recall@50</th>\n",
       "      <th>Unpopularity@50</th>\n",
       "      <th>Unpopularity2@50</th>\n",
       "      <th>Unpopularity3@50</th>\n",
       "      <th>F1-score@50</th>\n",
       "      <th>F1-score2@50</th>\n",
       "      <th>F1-score3@50</th>\n",
       "    </tr>\n",
       "  </thead>\n",
       "  <tbody>\n",
       "    <tr>\n",
       "      <th>0</th>\n",
       "      <td>0.379711</td>\n",
       "      <td>0.999117</td>\n",
       "      <td>10.61364</td>\n",
       "      <td>0.346623</td>\n",
       "      <td>0.406044</td>\n",
       "      <td>0.699928</td>\n",
       "      <td>0.215316</td>\n",
       "      <td>0.712157</td>\n",
       "      <td>0.999156</td>\n",
       "      <td>10.667319</td>\n",
       "      <td>0.708936</td>\n",
       "      <td>0.749131</td>\n",
       "      <td>1.311198</td>\n",
       "      <td>0.645854</td>\n",
       "      <td>1.0</td>\n",
       "      <td>0.319635</td>\n",
       "      <td>3.421265</td>\n",
       "      <td>0.999915</td>\n",
       "      <td>0.471238</td>\n",
       "      <td>1.509032</td>\n",
       "      <td>0.999955</td>\n",
       "    </tr>\n",
       "  </tbody>\n",
       "</table>\n",
       "</div>"
      ],
      "text/plain": [
       "   Recall@5  Unpopularity@5  Unpopularity2@5  Unpopularity3@5  F1-score@5  \\\n",
       "0  0.379711        0.999117         10.61364         0.346623    0.406044   \n",
       "\n",
       "   F1-score2@5  F1-score3@5  Recall@10  Unpopularity@10  Unpopularity2@10  \\\n",
       "0     0.699928     0.215316   0.712157         0.999156         10.667319   \n",
       "\n",
       "   Unpopularity3@10  F1-score@10  F1-score2@10  F1-score3@10  Recall@50  \\\n",
       "0          0.708936     0.749131      1.311198      0.645854        1.0   \n",
       "\n",
       "   Unpopularity@50  Unpopularity2@50  Unpopularity3@50  F1-score@50  \\\n",
       "0         0.319635          3.421265          0.999915     0.471238   \n",
       "\n",
       "   F1-score2@50  F1-score3@50  \n",
       "0      1.509032      0.999955  "
      ]
     },
     "metadata": {},
     "output_type": "display_data"
    }
   ],
   "source": [
    "print('mp')\n",
    "trainer.valid(mp, userwise)\n",
    "display(trainer.valid_scores)"
   ]
  },
  {
   "cell_type": "markdown",
   "id": "1a64a12a-e2b8-4bbc-b37f-d10296cec6ea",
   "metadata": {
    "tags": []
   },
   "source": [
    "# ML200m\n",
    "ユーザ数を1000にするようにサンプリング"
   ]
  },
  {
   "cell_type": "code",
   "execution_count": 16,
   "id": "e656d560-a7c5-4604-9f9b-4a050fff0d50",
   "metadata": {
    "tags": []
   },
   "outputs": [
    {
     "name": "stderr",
     "output_type": "stream",
     "text": [
      "/home/taichi-nakashima/project/mpcml/experiment/test/../../modules/datasets/BaseDataset.py:25: SettingWithCopyWarning: \n",
      "A value is trying to be set on a copy of a slice from a DataFrame.\n",
      "Try using .loc[row_indexer,col_indexer] = value instead\n",
      "\n",
      "See the caveats in the documentation: https://pandas.pydata.org/pandas-docs/stable/user_guide/indexing.html#returning-a-view-versus-a-copy\n",
      "  df_rating[\"rating\"] = (df_rating[\"rating\"] >= 4.0).astype(int)\n"
     ]
    },
    {
     "name": "stdout",
     "output_type": "stream",
     "text": [
      "n_user=995, n_item=6148\n"
     ]
    }
   ],
   "source": [
    "dataset = datasets.ML200mTo100kByUser()\n",
    "n_user = dataset.n_user\n",
    "n_item = dataset.n_item\n",
    "print(f\"n_user={n_user}, n_item={n_item}\")\n",
    "train_set, test_set = dataset.get_train_and_test_set()\n",
    "\n",
    "# device setting\n",
    "device = torch.device(\"cuda:0\" if torch.cuda.is_available() else \"cpu\")\n",
    "train_set = torch.LongTensor(train_set).to(device)\n",
    "test_set = torch.FloatTensor(test_set).to(device)"
   ]
  },
  {
   "cell_type": "code",
   "execution_count": 17,
   "id": "63695964-cb20-4fcc-9d81-61815e3cfc62",
   "metadata": {
    "tags": []
   },
   "outputs": [],
   "source": [
    "# k\n",
    "ks = [5, 10, 50]\n",
    "\n",
    "score_function_dict = {\n",
    "    \"Recall\"       : evaluators.recall,\n",
    "    \"Unpopularity\" : evaluators.unpopularity,\n",
    "    \"Unpopularity2\": evaluators.unpopularity2,\n",
    "    \"Unpopularity3\": evaluators.unpopularity3,\n",
    "    \"F1-score\"     : evaluators.f1_score,\n",
    "    \"F1-score2\"    : evaluators.f1_score2,\n",
    "    \"F1-score3\"    : evaluators.f1_score3\n",
    "}\n",
    "userwise = evaluators.UserwiseEvaluator(test_set, score_function_dict, ks)\n",
    "# coverage = evaluators.CoverageEvaluator(test_set, ks)\n",
    "# hubness = evaluators.HubnessEvaluator(test_set, ks)"
   ]
  },
  {
   "cell_type": "code",
   "execution_count": 18,
   "id": "4d750cd6-88f1-4ff0-9dfb-9ee3c025424f",
   "metadata": {
    "tags": []
   },
   "outputs": [],
   "source": [
    "sampler = samplers.BaseSampler(train_set, n_user, n_item, device=device, strict_negative=False)"
   ]
  },
  {
   "cell_type": "code",
   "execution_count": 19,
   "id": "f0ddf2c9-b16b-4dca-88a6-9ffabf08f4f7",
   "metadata": {
    "tags": []
   },
   "outputs": [],
   "source": [
    "# Hyperparameters\n",
    "lr = 1e-3\n",
    "n_dim = 10\n",
    "n_batch = 256\n",
    "n_epoch = 50\n",
    "valid_per_epoch = 10\n",
    "n_item_sample = 30\n",
    "n_user_sample = 30\n",
    "no_progressbar = True\n",
    "\n",
    "# models\n",
    "model = models.CollaborativeMetricLearning(n_user, n_item, n_dim).to(device)\n",
    "\n",
    "# distributiuons\n",
    "gaussian = distributions.Gaussian()\n",
    "gamma = distributions.Gamma()\n",
    "\n",
    "# search\n",
    "knn = searches.NearestNeighborhood(model)\n",
    "mp = searches.MutualProximity(model, gamma)\n",
    "\n",
    "# learning late optimizer\n",
    "optimizer = optim.Adam(model.parameters(), lr=lr)\n",
    "\n",
    "# loss function\n",
    "criterion = losses.SumTripletLoss(margin=1).to(device)\n",
    "\n",
    "# trainer\n",
    "trainer = trainers.BaseTrainer(model, optimizer, criterion, sampler, no_progressbar)"
   ]
  },
  {
   "cell_type": "code",
   "execution_count": 20,
   "id": "dd799a0a-48c9-4ba2-a566-387c7a169c0a",
   "metadata": {
    "tags": []
   },
   "outputs": [],
   "source": [
    "trainer.fit(n_batch, n_epoch, knn, userwise, valid_per_epoch)"
   ]
  },
  {
   "cell_type": "code",
   "execution_count": 21,
   "id": "a521cc78-3448-405f-b16a-fabf9e0a4ec6",
   "metadata": {},
   "outputs": [
    {
     "name": "stdout",
     "output_type": "stream",
     "text": [
      "knn\n"
     ]
    },
    {
     "data": {
      "text/html": [
       "<div>\n",
       "<style scoped>\n",
       "    .dataframe tbody tr th:only-of-type {\n",
       "        vertical-align: middle;\n",
       "    }\n",
       "\n",
       "    .dataframe tbody tr th {\n",
       "        vertical-align: top;\n",
       "    }\n",
       "\n",
       "    .dataframe thead th {\n",
       "        text-align: right;\n",
       "    }\n",
       "</style>\n",
       "<table border=\"1\" class=\"dataframe\">\n",
       "  <thead>\n",
       "    <tr style=\"text-align: right;\">\n",
       "      <th></th>\n",
       "      <th>Recall@5</th>\n",
       "      <th>Unpopularity@5</th>\n",
       "      <th>Unpopularity2@5</th>\n",
       "      <th>Unpopularity3@5</th>\n",
       "      <th>F1-score@5</th>\n",
       "      <th>F1-score2@5</th>\n",
       "      <th>F1-score3@5</th>\n",
       "      <th>Recall@10</th>\n",
       "      <th>Unpopularity@10</th>\n",
       "      <th>Unpopularity2@10</th>\n",
       "      <th>Unpopularity3@10</th>\n",
       "      <th>F1-score@10</th>\n",
       "      <th>F1-score2@10</th>\n",
       "      <th>F1-score3@10</th>\n",
       "      <th>Recall@50</th>\n",
       "      <th>Unpopularity@50</th>\n",
       "      <th>Unpopularity2@50</th>\n",
       "      <th>Unpopularity3@50</th>\n",
       "      <th>F1-score@50</th>\n",
       "      <th>F1-score2@50</th>\n",
       "      <th>F1-score3@50</th>\n",
       "    </tr>\n",
       "  </thead>\n",
       "  <tbody>\n",
       "    <tr>\n",
       "      <th>0</th>\n",
       "      <td>0.399427</td>\n",
       "      <td>0.981303</td>\n",
       "      <td>6.27172</td>\n",
       "      <td>0.009479</td>\n",
       "      <td>0.506492</td>\n",
       "      <td>0.727673</td>\n",
       "      <td>0.013546</td>\n",
       "      <td>0.573383</td>\n",
       "      <td>0.984145</td>\n",
       "      <td>6.732725</td>\n",
       "      <td>0.040357</td>\n",
       "      <td>0.671342</td>\n",
       "      <td>1.036375</td>\n",
       "      <td>0.060814</td>\n",
       "      <td>0.87222</td>\n",
       "      <td>0.92874</td>\n",
       "      <td>8.10471</td>\n",
       "      <td>0.433602</td>\n",
       "      <td>0.873317</td>\n",
       "      <td>1.563715</td>\n",
       "      <td>0.497408</td>\n",
       "    </tr>\n",
       "  </tbody>\n",
       "</table>\n",
       "</div>"
      ],
      "text/plain": [
       "   Recall@5  Unpopularity@5  Unpopularity2@5  Unpopularity3@5  F1-score@5  \\\n",
       "0  0.399427        0.981303          6.27172         0.009479    0.506492   \n",
       "\n",
       "   F1-score2@5  F1-score3@5  Recall@10  Unpopularity@10  Unpopularity2@10  \\\n",
       "0     0.727673     0.013546   0.573383         0.984145          6.732725   \n",
       "\n",
       "   Unpopularity3@10  F1-score@10  F1-score2@10  F1-score3@10  Recall@50  \\\n",
       "0          0.040357     0.671342      1.036375      0.060814    0.87222   \n",
       "\n",
       "   Unpopularity@50  Unpopularity2@50  Unpopularity3@50  F1-score@50  \\\n",
       "0          0.92874           8.10471          0.433602     0.873317   \n",
       "\n",
       "   F1-score2@50  F1-score3@50  \n",
       "0      1.563715      0.497408  "
      ]
     },
     "metadata": {},
     "output_type": "display_data"
    }
   ],
   "source": [
    "print('knn')\n",
    "trainer.valid(knn, userwise)\n",
    "display(trainer.valid_scores)"
   ]
  },
  {
   "cell_type": "code",
   "execution_count": 22,
   "id": "3df6ab02-d7d7-4c3a-a99f-403b4374043c",
   "metadata": {
    "tags": []
   },
   "outputs": [
    {
     "name": "stdout",
     "output_type": "stream",
     "text": [
      "mp\n"
     ]
    },
    {
     "data": {
      "text/html": [
       "<div>\n",
       "<style scoped>\n",
       "    .dataframe tbody tr th:only-of-type {\n",
       "        vertical-align: middle;\n",
       "    }\n",
       "\n",
       "    .dataframe tbody tr th {\n",
       "        vertical-align: top;\n",
       "    }\n",
       "\n",
       "    .dataframe thead th {\n",
       "        text-align: right;\n",
       "    }\n",
       "</style>\n",
       "<table border=\"1\" class=\"dataframe\">\n",
       "  <thead>\n",
       "    <tr style=\"text-align: right;\">\n",
       "      <th></th>\n",
       "      <th>Recall@5</th>\n",
       "      <th>Unpopularity@5</th>\n",
       "      <th>Unpopularity2@5</th>\n",
       "      <th>Unpopularity3@5</th>\n",
       "      <th>F1-score@5</th>\n",
       "      <th>F1-score2@5</th>\n",
       "      <th>F1-score3@5</th>\n",
       "      <th>Recall@10</th>\n",
       "      <th>Unpopularity@10</th>\n",
       "      <th>Unpopularity2@10</th>\n",
       "      <th>Unpopularity3@10</th>\n",
       "      <th>F1-score@10</th>\n",
       "      <th>F1-score2@10</th>\n",
       "      <th>F1-score3@10</th>\n",
       "      <th>Recall@50</th>\n",
       "      <th>Unpopularity@50</th>\n",
       "      <th>Unpopularity2@50</th>\n",
       "      <th>Unpopularity3@50</th>\n",
       "      <th>F1-score@50</th>\n",
       "      <th>F1-score2@50</th>\n",
       "      <th>F1-score3@50</th>\n",
       "    </tr>\n",
       "  </thead>\n",
       "  <tbody>\n",
       "    <tr>\n",
       "      <th>0</th>\n",
       "      <td>0.294365</td>\n",
       "      <td>0.991112</td>\n",
       "      <td>7.765634</td>\n",
       "      <td>0.028408</td>\n",
       "      <td>0.393002</td>\n",
       "      <td>0.5476</td>\n",
       "      <td>0.034638</td>\n",
       "      <td>0.446607</td>\n",
       "      <td>0.991967</td>\n",
       "      <td>8.115132</td>\n",
       "      <td>0.075512</td>\n",
       "      <td>0.552466</td>\n",
       "      <td>0.824885</td>\n",
       "      <td>0.103898</td>\n",
       "      <td>0.80659</td>\n",
       "      <td>0.930835</td>\n",
       "      <td>8.742991</td>\n",
       "      <td>0.472113</td>\n",
       "      <td>0.821775</td>\n",
       "      <td>1.457482</td>\n",
       "      <td>0.542009</td>\n",
       "    </tr>\n",
       "  </tbody>\n",
       "</table>\n",
       "</div>"
      ],
      "text/plain": [
       "   Recall@5  Unpopularity@5  Unpopularity2@5  Unpopularity3@5  F1-score@5  \\\n",
       "0  0.294365        0.991112         7.765634         0.028408    0.393002   \n",
       "\n",
       "   F1-score2@5  F1-score3@5  Recall@10  Unpopularity@10  Unpopularity2@10  \\\n",
       "0       0.5476     0.034638   0.446607         0.991967          8.115132   \n",
       "\n",
       "   Unpopularity3@10  F1-score@10  F1-score2@10  F1-score3@10  Recall@50  \\\n",
       "0          0.075512     0.552466      0.824885      0.103898    0.80659   \n",
       "\n",
       "   Unpopularity@50  Unpopularity2@50  Unpopularity3@50  F1-score@50  \\\n",
       "0         0.930835          8.742991          0.472113     0.821775   \n",
       "\n",
       "   F1-score2@50  F1-score3@50  \n",
       "0      1.457482      0.542009  "
      ]
     },
     "metadata": {},
     "output_type": "display_data"
    }
   ],
   "source": [
    "print('mp')\n",
    "trainer.valid(mp, userwise)\n",
    "display(trainer.valid_scores)"
   ]
  }
 ],
 "metadata": {
  "kernelspec": {
   "display_name": "bachelor2",
   "language": "python",
   "name": "bachelor2"
  },
  "language_info": {
   "codemirror_mode": {
    "name": "ipython",
    "version": 3
   },
   "file_extension": ".py",
   "mimetype": "text/x-python",
   "name": "python",
   "nbconvert_exporter": "python",
   "pygments_lexer": "ipython3",
   "version": "3.8.17"
  }
 },
 "nbformat": 4,
 "nbformat_minor": 5
}
