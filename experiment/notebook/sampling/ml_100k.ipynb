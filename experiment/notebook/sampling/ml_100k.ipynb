{
 "cells": [
  {
   "cell_type": "markdown",
   "id": "7dac18cb-d876-44b6-9e00-e36c9089d236",
   "metadata": {},
   "source": [
    "# Import"
   ]
  },
  {
   "cell_type": "code",
   "execution_count": 1,
   "id": "ed9d9c60-6620-49e8-81b9-ad22af579e8d",
   "metadata": {},
   "outputs": [],
   "source": [
    "import sys\n",
    "import os\n",
    "from datetime import datetime\n",
    "\n",
    "root_dir = '../../../'\n",
    "if root_dir not in sys.path:\n",
    "    sys.path.append(root_dir)\n",
    "\n",
    "import torch\n",
    "from torch import nn, optim\n",
    "import numpy as np\n",
    "import matplotlib.pyplot as plt\n",
    "from sklearn.decomposition import TruncatedSVD\n",
    "import pandas as pd\n",
    "\n",
    "pd.set_option('display.max_columns', 100)\n",
    "\n",
    "from modules import losses, models, samplers, searches, regularizers, evaluators, trainers, datasets, distributions"
   ]
  },
  {
   "cell_type": "markdown",
   "id": "5eefcce6-9e0c-4f5b-8c35-e33c6baccff9",
   "metadata": {},
   "source": [
    "# Output settings"
   ]
  },
  {
   "cell_type": "code",
   "execution_count": 2,
   "id": "67cec6f7-dd75-4344-b2c6-09890897b221",
   "metadata": {},
   "outputs": [],
   "source": [
    "out_to_file = True\n",
    "out_dir = '../../out/sampling/ml_100k/'\n",
    "\n",
    "if not os.path.exists(out_dir):\n",
    "    os.makedirs(out_dir)"
   ]
  },
  {
   "cell_type": "markdown",
   "id": "7d7072aa-f146-44e0-8377-cca8ff234bc0",
   "metadata": {},
   "source": [
    "# Dataset"
   ]
  },
  {
   "cell_type": "code",
   "execution_count": 3,
   "id": "e86ae9cc-2b94-447d-b915-152a9ba0494e",
   "metadata": {},
   "outputs": [],
   "source": [
    "dataset = datasets.ML100k()\n",
    "n_user = dataset.n_user\n",
    "n_item = dataset.n_item\n",
    "n_feedback = dataset.n_pos_pairs\n",
    "train_set, test_set = dataset.get_train_and_test_set(neg_pair_weight=10)"
   ]
  },
  {
   "cell_type": "code",
   "execution_count": 4,
   "id": "762c8805-9418-46ec-afe3-a7bae19f6f53",
   "metadata": {},
   "outputs": [
    {
     "name": "stdout",
     "output_type": "stream",
     "text": [
      "n_user = 940\n",
      "n_item = 1447\n",
      "n_feedback = 55369\n"
     ]
    }
   ],
   "source": [
    "print(f'n_user = {n_user}')\n",
    "print(f'n_item = {n_item}')\n",
    "print(f'n_feedback = {n_feedback}')"
   ]
  },
  {
   "cell_type": "markdown",
   "id": "1d53a576-4151-4151-9d3c-2f6f66cf277c",
   "metadata": {
    "tags": []
   },
   "source": [
    "# Device"
   ]
  },
  {
   "cell_type": "code",
   "execution_count": 5,
   "id": "06735b88-91af-4674-9a92-929e84aa01a1",
   "metadata": {},
   "outputs": [],
   "source": [
    "device = torch.device(\"cuda:0\" if torch.cuda.is_available() else \"cpu\")\n",
    "train_set = torch.LongTensor(train_set).to(device)\n",
    "test_set = torch.FloatTensor(test_set).to(device)"
   ]
  },
  {
   "cell_type": "code",
   "execution_count": 6,
   "id": "e205f050-0112-4e49-8823-81babbd785f1",
   "metadata": {},
   "outputs": [
    {
     "name": "stdout",
     "output_type": "stream",
     "text": [
      "cuda:0\n"
     ]
    }
   ],
   "source": [
    "print(device)"
   ]
  },
  {
   "cell_type": "markdown",
   "id": "781edec3-c706-43a5-9d91-e0cb2d60c024",
   "metadata": {},
   "source": [
    "# Evaluator"
   ]
  },
  {
   "cell_type": "code",
   "execution_count": 7,
   "id": "2c87126b-82cf-489b-9d0d-878d640e2d62",
   "metadata": {},
   "outputs": [],
   "source": [
    "# The size of recommendation set (K)\n",
    "ks = [10]\n",
    "\n",
    "score_function_dict = {\n",
    "    \"Recall\"        : evaluators.recall,\n",
    "    \"Unpopularity\"  : evaluators.unpopularity,\n",
    "    \"Serendipity\"   : evaluators.serendipity,\n",
    "    \"Long-tail rate\": evaluators.longtail_rate,\n",
    "}\n",
    "userwise = evaluators.UserwiseEvaluator(test_set, score_function_dict, ks)"
   ]
  },
  {
   "cell_type": "markdown",
   "id": "9d563e19-4dd3-453f-8958-79c49bead201",
   "metadata": {},
   "source": [
    "# Sampler"
   ]
  },
  {
   "cell_type": "code",
   "execution_count": 8,
   "id": "df3a8457-216e-420b-8abb-f71c139eb3a8",
   "metadata": {},
   "outputs": [],
   "source": [
    "sampler = samplers.BaseSampler(train_set, n_user, n_item, device=device, strict_negative=False)"
   ]
  },
  {
   "cell_type": "markdown",
   "id": "a17ecbab-925b-4978-a7b1-6762c98e266c",
   "metadata": {},
   "source": [
    "# Model"
   ]
  },
  {
   "cell_type": "code",
   "execution_count": 9,
   "id": "5661d266-bd6d-4cb1-a184-3706a52d8cbb",
   "metadata": {},
   "outputs": [],
   "source": [
    "# Hyperparameters\n",
    "lr = 1e-3\n",
    "n_dim = 10\n",
    "n_batch = 256\n",
    "n_epoch = 50\n",
    "no_progressbar = True\n",
    "\n",
    "model = models.CollaborativeMetricLearning(n_user, n_item, n_dim).to(device)\n",
    "optimizer = optim.Adam(model.parameters(), lr=lr)\n",
    "criterion = losses.SumTripletLoss(margin=1).to(device)\n",
    "trainer = trainers.BaseTrainer(model, optimizer, criterion, sampler, no_progressbar)"
   ]
  },
  {
   "cell_type": "markdown",
   "id": "a0c3d4d8-3b92-477e-b50c-f0d7138c2650",
   "metadata": {},
   "source": [
    "# Training"
   ]
  },
  {
   "cell_type": "code",
   "execution_count": 10,
   "id": "47856841-6278-4cc9-8597-ce4ec57e0fcd",
   "metadata": {},
   "outputs": [],
   "source": [
    "trainer.fit(n_batch, n_epoch)"
   ]
  },
  {
   "cell_type": "markdown",
   "id": "67498b1b-5d4b-4816-b7d0-3add393d05bf",
   "metadata": {},
   "source": [
    "# Result"
   ]
  },
  {
   "cell_type": "markdown",
   "id": "6fd9e697-f65d-4b27-9e66-8b76e889748c",
   "metadata": {
    "tags": []
   },
   "source": [
    "## CML (Base)"
   ]
  },
  {
   "cell_type": "code",
   "execution_count": 11,
   "id": "94d99df4-89d5-4aee-9cb0-ece45cf93e30",
   "metadata": {},
   "outputs": [],
   "source": [
    "knn = searches.NearestNeighborhood(model)"
   ]
  },
  {
   "cell_type": "code",
   "execution_count": 12,
   "id": "3e0fc666-f2fc-4bd3-adc2-c7fc7c5d61fa",
   "metadata": {},
   "outputs": [],
   "source": [
    "trainer.valid(knn, userwise)\n",
    "re_base = trainer.valid_scores.copy()"
   ]
  },
  {
   "cell_type": "code",
   "execution_count": 13,
   "id": "61534fc0-5321-40b0-8dfe-e8a429bb526c",
   "metadata": {},
   "outputs": [
    {
     "data": {
      "text/html": [
       "<div>\n",
       "<style scoped>\n",
       "    .dataframe tbody tr th:only-of-type {\n",
       "        vertical-align: middle;\n",
       "    }\n",
       "\n",
       "    .dataframe tbody tr th {\n",
       "        vertical-align: top;\n",
       "    }\n",
       "\n",
       "    .dataframe thead th {\n",
       "        text-align: right;\n",
       "    }\n",
       "</style>\n",
       "<table border=\"1\" class=\"dataframe\">\n",
       "  <thead>\n",
       "    <tr style=\"text-align: right;\">\n",
       "      <th></th>\n",
       "      <th>Recall@10</th>\n",
       "      <th>Unpopularity@10</th>\n",
       "      <th>Serendipity@10</th>\n",
       "      <th>Long-tail rate@10</th>\n",
       "    </tr>\n",
       "  </thead>\n",
       "  <tbody>\n",
       "    <tr>\n",
       "      <th>0</th>\n",
       "      <td>0.570142</td>\n",
       "      <td>27.815671</td>\n",
       "      <td>6.952736</td>\n",
       "      <td>0.175426</td>\n",
       "    </tr>\n",
       "  </tbody>\n",
       "</table>\n",
       "</div>"
      ],
      "text/plain": [
       "   Recall@10  Unpopularity@10  Serendipity@10  Long-tail rate@10\n",
       "0   0.570142        27.815671        6.952736           0.175426"
      ]
     },
     "metadata": {},
     "output_type": "display_data"
    }
   ],
   "source": [
    "if out_to_file:\n",
    "    now = datetime.now()\n",
    "    file_name = now.strftime(\"base_%Y_%m_%d_%H%M.csv\")\n",
    "    re_base.to_csv(out_dir + file_name, index=False)\n",
    "\n",
    "display(re_base)"
   ]
  },
  {
   "cell_type": "markdown",
   "id": "f361de71-d304-4316-b5e8-fbcb8833607a",
   "metadata": {
    "tags": []
   },
   "source": [
    "# MPCMP"
   ]
  },
  {
   "cell_type": "code",
   "execution_count": 14,
   "id": "289a0a72-c53d-4b0a-b594-f28c7f63cd0b",
   "metadata": {},
   "outputs": [],
   "source": [
    "# Hyperparameters\n",
    "n_sample_li = [10, 20, 30, 40, 50, 60, 70, 80, 90, 100]\n",
    "bias_1 = 0.5\n",
    "bias_2 = 0.8\n",
    "gamma = distributions.Gamma()"
   ]
  },
  {
   "cell_type": "code",
   "execution_count": 15,
   "id": "0712b293-6104-4598-9236-3218ce3c5dd1",
   "metadata": {},
   "outputs": [
    {
     "name": "stdout",
     "output_type": "stream",
     "text": [
      "Prosessing... [n_sample = 10]\n",
      "Prosessing... [n_sample = 20]\n",
      "Prosessing... [n_sample = 30]\n",
      "Prosessing... [n_sample = 40]\n",
      "Prosessing... [n_sample = 50]\n",
      "Prosessing... [n_sample = 60]\n",
      "Prosessing... [n_sample = 70]\n",
      "Prosessing... [n_sample = 80]\n",
      "Prosessing... [n_sample = 90]\n",
      "Prosessing... [n_sample = 100]\n"
     ]
    }
   ],
   "source": [
    "rows_1 = []\n",
    "rows_2 = []\n",
    "for n_sample in n_sample_li:\n",
    "    print(f'Prosessing... [n_sample = {n_sample}]')\n",
    "    \n",
    "    # α = 0.5\n",
    "    mp = searches.MutualProximity(model, gamma, n_sample, bias_1)\n",
    "    trainer.valid(mp, userwise)\n",
    "    row = trainer.valid_scores.copy()\n",
    "    row.insert(0, 'n_sample', n_sample)\n",
    "    rows_1.append(row)\n",
    "    \n",
    "    # α = 0.8\n",
    "    mp = searches.MutualProximity(model, gamma, n_sample, bias_2)\n",
    "    trainer.valid(mp, userwise)\n",
    "    row = trainer.valid_scores.copy()\n",
    "    row.insert(0, 'n_sample', n_sample)\n",
    "    rows_2.append(row)\n",
    "\n",
    "re_mpcml_1 = pd.concat(rows_1)\n",
    "re_mpcml_2 = pd.concat(rows_2)"
   ]
  },
  {
   "cell_type": "code",
   "execution_count": 16,
   "id": "7e75974b-f67e-4bdb-b787-3f73c4742cda",
   "metadata": {},
   "outputs": [
    {
     "data": {
      "text/html": [
       "<div>\n",
       "<style scoped>\n",
       "    .dataframe tbody tr th:only-of-type {\n",
       "        vertical-align: middle;\n",
       "    }\n",
       "\n",
       "    .dataframe tbody tr th {\n",
       "        vertical-align: top;\n",
       "    }\n",
       "\n",
       "    .dataframe thead th {\n",
       "        text-align: right;\n",
       "    }\n",
       "</style>\n",
       "<table border=\"1\" class=\"dataframe\">\n",
       "  <thead>\n",
       "    <tr style=\"text-align: right;\">\n",
       "      <th></th>\n",
       "      <th>n_sample</th>\n",
       "      <th>Recall@10</th>\n",
       "      <th>Unpopularity@10</th>\n",
       "      <th>Serendipity@10</th>\n",
       "      <th>Long-tail rate@10</th>\n",
       "    </tr>\n",
       "  </thead>\n",
       "  <tbody>\n",
       "    <tr>\n",
       "      <th>0</th>\n",
       "      <td>10</td>\n",
       "      <td>0.469868</td>\n",
       "      <td>68.979567</td>\n",
       "      <td>8.916179</td>\n",
       "      <td>0.414681</td>\n",
       "    </tr>\n",
       "    <tr>\n",
       "      <th>0</th>\n",
       "      <td>20</td>\n",
       "      <td>0.480012</td>\n",
       "      <td>65.173070</td>\n",
       "      <td>9.034169</td>\n",
       "      <td>0.406809</td>\n",
       "    </tr>\n",
       "    <tr>\n",
       "      <th>0</th>\n",
       "      <td>30</td>\n",
       "      <td>0.485174</td>\n",
       "      <td>66.167537</td>\n",
       "      <td>8.872491</td>\n",
       "      <td>0.404255</td>\n",
       "    </tr>\n",
       "    <tr>\n",
       "      <th>0</th>\n",
       "      <td>40</td>\n",
       "      <td>0.485741</td>\n",
       "      <td>65.136021</td>\n",
       "      <td>9.106276</td>\n",
       "      <td>0.405213</td>\n",
       "    </tr>\n",
       "    <tr>\n",
       "      <th>0</th>\n",
       "      <td>50</td>\n",
       "      <td>0.489787</td>\n",
       "      <td>64.469656</td>\n",
       "      <td>9.163572</td>\n",
       "      <td>0.399681</td>\n",
       "    </tr>\n",
       "    <tr>\n",
       "      <th>0</th>\n",
       "      <td>60</td>\n",
       "      <td>0.488947</td>\n",
       "      <td>63.209977</td>\n",
       "      <td>9.165809</td>\n",
       "      <td>0.398085</td>\n",
       "    </tr>\n",
       "    <tr>\n",
       "      <th>0</th>\n",
       "      <td>70</td>\n",
       "      <td>0.489378</td>\n",
       "      <td>64.321575</td>\n",
       "      <td>9.097948</td>\n",
       "      <td>0.403723</td>\n",
       "    </tr>\n",
       "    <tr>\n",
       "      <th>0</th>\n",
       "      <td>80</td>\n",
       "      <td>0.489816</td>\n",
       "      <td>63.422300</td>\n",
       "      <td>9.106388</td>\n",
       "      <td>0.401064</td>\n",
       "    </tr>\n",
       "    <tr>\n",
       "      <th>0</th>\n",
       "      <td>90</td>\n",
       "      <td>0.491187</td>\n",
       "      <td>63.572675</td>\n",
       "      <td>9.118474</td>\n",
       "      <td>0.397553</td>\n",
       "    </tr>\n",
       "    <tr>\n",
       "      <th>0</th>\n",
       "      <td>100</td>\n",
       "      <td>0.488375</td>\n",
       "      <td>63.968909</td>\n",
       "      <td>8.996473</td>\n",
       "      <td>0.400319</td>\n",
       "    </tr>\n",
       "  </tbody>\n",
       "</table>\n",
       "</div>"
      ],
      "text/plain": [
       "   n_sample  Recall@10  Unpopularity@10  Serendipity@10  Long-tail rate@10\n",
       "0        10   0.469868        68.979567        8.916179           0.414681\n",
       "0        20   0.480012        65.173070        9.034169           0.406809\n",
       "0        30   0.485174        66.167537        8.872491           0.404255\n",
       "0        40   0.485741        65.136021        9.106276           0.405213\n",
       "0        50   0.489787        64.469656        9.163572           0.399681\n",
       "0        60   0.488947        63.209977        9.165809           0.398085\n",
       "0        70   0.489378        64.321575        9.097948           0.403723\n",
       "0        80   0.489816        63.422300        9.106388           0.401064\n",
       "0        90   0.491187        63.572675        9.118474           0.397553\n",
       "0       100   0.488375        63.968909        8.996473           0.400319"
      ]
     },
     "metadata": {},
     "output_type": "display_data"
    }
   ],
   "source": [
    "if out_to_file:\n",
    "    now = datetime.now()\n",
    "    file_name = now.strftime(\"mpcml_bias1_%Y_%m_%d_%H%M.csv\")\n",
    "    re_mpcml_1.to_csv(out_dir + file_name, index=False)\n",
    "\n",
    "display(re_mpcml_1)"
   ]
  },
  {
   "cell_type": "code",
   "execution_count": 17,
   "id": "5016bcab-f8b6-4712-9e47-3f5b397bf66f",
   "metadata": {},
   "outputs": [
    {
     "data": {
      "text/html": [
       "<div>\n",
       "<style scoped>\n",
       "    .dataframe tbody tr th:only-of-type {\n",
       "        vertical-align: middle;\n",
       "    }\n",
       "\n",
       "    .dataframe tbody tr th {\n",
       "        vertical-align: top;\n",
       "    }\n",
       "\n",
       "    .dataframe thead th {\n",
       "        text-align: right;\n",
       "    }\n",
       "</style>\n",
       "<table border=\"1\" class=\"dataframe\">\n",
       "  <thead>\n",
       "    <tr style=\"text-align: right;\">\n",
       "      <th></th>\n",
       "      <th>n_sample</th>\n",
       "      <th>Recall@10</th>\n",
       "      <th>Unpopularity@10</th>\n",
       "      <th>Serendipity@10</th>\n",
       "      <th>Long-tail rate@10</th>\n",
       "    </tr>\n",
       "  </thead>\n",
       "  <tbody>\n",
       "    <tr>\n",
       "      <th>0</th>\n",
       "      <td>10</td>\n",
       "      <td>0.517541</td>\n",
       "      <td>47.637704</td>\n",
       "      <td>8.374599</td>\n",
       "      <td>0.321489</td>\n",
       "    </tr>\n",
       "    <tr>\n",
       "      <th>0</th>\n",
       "      <td>20</td>\n",
       "      <td>0.522274</td>\n",
       "      <td>44.660827</td>\n",
       "      <td>8.334203</td>\n",
       "      <td>0.315745</td>\n",
       "    </tr>\n",
       "    <tr>\n",
       "      <th>0</th>\n",
       "      <td>30</td>\n",
       "      <td>0.528040</td>\n",
       "      <td>43.663243</td>\n",
       "      <td>8.353682</td>\n",
       "      <td>0.306702</td>\n",
       "    </tr>\n",
       "    <tr>\n",
       "      <th>0</th>\n",
       "      <td>40</td>\n",
       "      <td>0.527666</td>\n",
       "      <td>42.483120</td>\n",
       "      <td>8.332580</td>\n",
       "      <td>0.301170</td>\n",
       "    </tr>\n",
       "    <tr>\n",
       "      <th>0</th>\n",
       "      <td>50</td>\n",
       "      <td>0.531237</td>\n",
       "      <td>42.200717</td>\n",
       "      <td>8.268990</td>\n",
       "      <td>0.300638</td>\n",
       "    </tr>\n",
       "    <tr>\n",
       "      <th>0</th>\n",
       "      <td>60</td>\n",
       "      <td>0.530852</td>\n",
       "      <td>42.519209</td>\n",
       "      <td>8.259911</td>\n",
       "      <td>0.296915</td>\n",
       "    </tr>\n",
       "    <tr>\n",
       "      <th>0</th>\n",
       "      <td>70</td>\n",
       "      <td>0.532032</td>\n",
       "      <td>42.418722</td>\n",
       "      <td>8.313102</td>\n",
       "      <td>0.296915</td>\n",
       "    </tr>\n",
       "    <tr>\n",
       "      <th>0</th>\n",
       "      <td>80</td>\n",
       "      <td>0.527995</td>\n",
       "      <td>41.952770</td>\n",
       "      <td>8.229262</td>\n",
       "      <td>0.298298</td>\n",
       "    </tr>\n",
       "    <tr>\n",
       "      <th>0</th>\n",
       "      <td>90</td>\n",
       "      <td>0.531059</td>\n",
       "      <td>41.892893</td>\n",
       "      <td>8.206223</td>\n",
       "      <td>0.295638</td>\n",
       "    </tr>\n",
       "    <tr>\n",
       "      <th>0</th>\n",
       "      <td>100</td>\n",
       "      <td>0.530928</td>\n",
       "      <td>42.408742</td>\n",
       "      <td>8.400142</td>\n",
       "      <td>0.297447</td>\n",
       "    </tr>\n",
       "  </tbody>\n",
       "</table>\n",
       "</div>"
      ],
      "text/plain": [
       "   n_sample  Recall@10  Unpopularity@10  Serendipity@10  Long-tail rate@10\n",
       "0        10   0.517541        47.637704        8.374599           0.321489\n",
       "0        20   0.522274        44.660827        8.334203           0.315745\n",
       "0        30   0.528040        43.663243        8.353682           0.306702\n",
       "0        40   0.527666        42.483120        8.332580           0.301170\n",
       "0        50   0.531237        42.200717        8.268990           0.300638\n",
       "0        60   0.530852        42.519209        8.259911           0.296915\n",
       "0        70   0.532032        42.418722        8.313102           0.296915\n",
       "0        80   0.527995        41.952770        8.229262           0.298298\n",
       "0        90   0.531059        41.892893        8.206223           0.295638\n",
       "0       100   0.530928        42.408742        8.400142           0.297447"
      ]
     },
     "metadata": {},
     "output_type": "display_data"
    }
   ],
   "source": [
    "if out_to_file:\n",
    "    now = datetime.now()\n",
    "    file_name = now.strftime(\"mpcml_bias2_%Y_%m_%d_%H%M.csv\")\n",
    "    re_mpcml_2.to_csv(out_dir + file_name, index=False)\n",
    "\n",
    "display(re_mpcml_2)"
   ]
  },
  {
   "cell_type": "markdown",
   "id": "1325e652-60c2-4cc5-9bcb-ef5bbad33d74",
   "metadata": {},
   "source": [
    "## Show"
   ]
  },
  {
   "cell_type": "code",
   "execution_count": 30,
   "id": "b2d6ab9a-9f07-400f-843d-211e9ed59a2c",
   "metadata": {},
   "outputs": [],
   "source": [
    "# df -> list\n",
    "\n",
    "k = 10\n",
    "n_n_sample = len(n_sample_li)\n",
    "\n",
    "# CML(Base)\n",
    "recall_base           = re_base[f'Recall@{k}'].tolist() * n_n_sample\n",
    "unpopularity_base     = re_base[f'Unpopularity@{k}'].tolist() * n_n_sample\n",
    "serendipity_base      = re_base[f'Serendipity@{k}'].tolist() * n_n_sample\n",
    "longtale_base         = re_base[f'Long-tail rate@{k}'].tolist() * n_n_sample\n",
    "\n",
    "# MPCML (α = 0.5)\n",
    "recall_mpcml_1        = re_mpcml_1[f'Recall@{k}'].tolist()\n",
    "unpopularity_mpcml_1  = re_mpcml_1[f'Unpopularity@{k}'].tolist()\n",
    "serendipity_mpcml_1   = re_mpcml_1[f'Serendipity@{k}'].tolist()\n",
    "longtale_mpcml_1      = re_mpcml_1[f'Long-tail rate@{k}'].tolist()\n",
    "\n",
    "# MPCML (α = 0.8)\n",
    "recall_mpcml_2        = re_mpcml_2[f'Recall@{k}'].tolist()\n",
    "unpopularity_mpcml_2  = re_mpcml_2[f'Unpopularity@{k}'].tolist()\n",
    "serendipity_mpcml_2   = re_mpcml_2[f'Serendipity@{k}'].tolist()\n",
    "longtale_mpcml_2      = re_mpcml_2[f'Long-tail rate@{k}'].tolist()"
   ]
  },
  {
   "cell_type": "markdown",
   "id": "3904efb5-721e-42f2-877d-2ebf7c7dff69",
   "metadata": {},
   "source": [
    "### Recall"
   ]
  },
  {
   "cell_type": "code",
   "execution_count": 31,
   "id": "d3a124b5-d411-4c69-ad5d-927a6dd3aab5",
   "metadata": {},
   "outputs": [
    {
     "data": {
      "image/png": "[encoded data removed]",
      "text/plain": [
       "<Figure size 1000x600 with 1 Axes>"
      ]
     },
     "metadata": {},
     "output_type": "display_data"
    }
   ],
   "source": [
    "plt.figure(figsize=(10, 6))\n",
    "plt.plot(n_sample_li, recall_base, label='CML')\n",
    "plt.plot(n_sample_li, recall_mpcml_1, label='MPCML(α=0.5)', marker='o')\n",
    "plt.plot(n_sample_li, recall_mpcml_2, label='MPCML(α=0.8)', marker='s')\n",
    "\n",
    "plt.xticks(n_sample_li)\n",
    "plt.xlabel('n_sample (S)')\n",
    "plt.ylabel('Recall')\n",
    "plt.legend()\n",
    "plt.grid(axis='y')\n",
    "\n",
    "if out_to_file:\n",
    "    now = datetime.now()\n",
    "    file_name = now.strftime(\"recall_%Y_%m_%d_%H%M.png\")\n",
    "    plt.savefig(out_dir + file_name, bbox_inches='tight')\n",
    "\n",
    "plt.show()"
   ]
  },
  {
   "cell_type": "markdown",
   "id": "852c79bf-ca42-43e2-a399-fb6196598206",
   "metadata": {},
   "source": [
    "### Unpopularity"
   ]
  },
  {
   "cell_type": "code",
   "execution_count": 32,
   "id": "0545604f-05a7-47e9-a402-ed52e62c30a5",
   "metadata": {},
   "outputs": [
    {
     "data": {
      "image/png": "[encoded data removed]",
      "text/plain": [
       "<Figure size 1000x600 with 1 Axes>"
      ]
     },
     "metadata": {},
     "output_type": "display_data"
    }
   ],
   "source": [
    "plt.figure(figsize=(10, 6))\n",
    "plt.plot(n_sample_li, unpopularity_base, label='CML')\n",
    "plt.plot(n_sample_li, unpopularity_mpcml_1, label='MPCML(α=0.5)', marker='o')\n",
    "plt.plot(n_sample_li, unpopularity_mpcml_2, label='MPCML(α=0.8)', marker='s')\n",
    "\n",
    "plt.xticks(n_sample_li)\n",
    "plt.xlabel('n_sample (S)')\n",
    "plt.ylabel('Unpopularity')\n",
    "plt.legend()\n",
    "plt.grid(axis='y')\n",
    "\n",
    "if out_to_file:\n",
    "    now = datetime.now()\n",
    "    file_name = now.strftime(\"unpopularity_%Y_%m_%d_%H%M.png\")\n",
    "    plt.savefig(out_dir + file_name, bbox_inches='tight')\n",
    "\n",
    "plt.show()"
   ]
  },
  {
   "cell_type": "markdown",
   "id": "f3b5e9b3-5018-4101-86a1-e08528bf5272",
   "metadata": {},
   "source": [
    "### Serendipity"
   ]
  },
  {
   "cell_type": "code",
   "execution_count": 33,
   "id": "ad17bf55-def6-4218-b756-71cbd79c47f1",
   "metadata": {},
   "outputs": [
    {
     "data": {
      "image/png": "[encoded data removed]",
      "text/plain": [
       "<Figure size 1000x600 with 1 Axes>"
      ]
     },
     "metadata": {},
     "output_type": "display_data"
    }
   ],
   "source": [
    "plt.figure(figsize=(10, 6))\n",
    "plt.plot(n_sample_li, serendipity_base, label='CML')\n",
    "plt.plot(n_sample_li, serendipity_mpcml_1, label='MPCML(α=0.5)', marker='o')\n",
    "plt.plot(n_sample_li, serendipity_mpcml_2, label='MPCML(α=0.8)', marker='s')\n",
    "\n",
    "plt.xticks(n_sample_li)\n",
    "plt.xlabel('n_sample (S)')\n",
    "plt.ylabel('Serendipity')\n",
    "plt.legend()\n",
    "plt.grid(axis='y')\n",
    "\n",
    "if out_to_file:\n",
    "    now = datetime.now()\n",
    "    file_name = now.strftime(\"serendipity_%Y_%m_%d_%H%M.png\")\n",
    "    plt.savefig(out_dir + file_name, bbox_inches='tight')\n",
    "\n",
    "plt.show()"
   ]
  },
  {
   "cell_type": "markdown",
   "id": "61ccc35e-b3eb-4f99-a5da-3fe0e0c836e4",
   "metadata": {},
   "source": [
    "### Long-tail rate"
   ]
  },
  {
   "cell_type": "code",
   "execution_count": 34,
   "id": "d778c275-6da5-4365-b137-e9ca942995e8",
   "metadata": {},
   "outputs": [
    {
     "data": {
      "image/png": "[encoded data removed]",
      "text/plain": [
       "<Figure size 1000x600 with 1 Axes>"
      ]
     },
     "metadata": {},
     "output_type": "display_data"
    }
   ],
   "source": [
    "plt.figure(figsize=(10, 6))\n",
    "plt.plot(n_sample_li, longtale_base, label='CML')\n",
    "plt.plot(n_sample_li, longtale_mpcml_1, label='MPCML(α=0.5)', marker='o')\n",
    "plt.plot(n_sample_li, longtale_mpcml_2, label='MPCML(α=0.8)', marker='s')\n",
    "\n",
    "plt.xticks(n_sample_li)\n",
    "plt.xlabel('n_sample (S)')\n",
    "plt.ylabel('Long-tail rate')\n",
    "plt.legend()\n",
    "plt.grid(axis='y')\n",
    "\n",
    "if out_to_file:\n",
    "    now = datetime.now()\n",
    "    file_name = now.strftime(\"longtail_%Y_%m_%d_%H%M.png\")\n",
    "    plt.savefig(out_dir + file_name, bbox_inches='tight')\n",
    "\n",
    "plt.show()"
   ]
  },
  {
   "cell_type": "code",
   "execution_count": null,
   "id": "7873b187-b246-4c2d-9b2c-b42defae6c9f",
   "metadata": {},
   "outputs": [],
   "source": []
  }
 ],
 "metadata": {
  "kernelspec": {
   "display_name": "bachelor2",
   "language": "python",
   "name": "bachelor2"
  },
  "language_info": {
   "codemirror_mode": {
    "name": "ipython",
    "version": 3
   },
   "file_extension": ".py",
   "mimetype": "text/x-python",
   "name": "python",
   "nbconvert_exporter": "python",
   "pygments_lexer": "ipython3",
   "version": "3.8.17"
  }
 },
 "nbformat": 4,
 "nbformat_minor": 5
}
