{
 "cells": [
  {
   "cell_type": "markdown",
   "id": "7dac18cb-d876-44b6-9e00-e36c9089d236",
   "metadata": {},
   "source": [
    "# Import"
   ]
  },
  {
   "cell_type": "code",
   "execution_count": 1,
   "id": "ed9d9c60-6620-49e8-81b9-ad22af579e8d",
   "metadata": {},
   "outputs": [],
   "source": [
    "import sys\n",
    "import os\n",
    "from datetime import datetime\n",
    "\n",
    "root_dir = '../../../'\n",
    "if root_dir not in sys.path:\n",
    "    sys.path.append(root_dir)\n",
    "\n",
    "import torch\n",
    "from torch import nn, optim\n",
    "import numpy as np\n",
    "import matplotlib.pyplot as plt\n",
    "from sklearn.decomposition import TruncatedSVD\n",
    "import pandas as pd\n",
    "\n",
    "pd.set_option('display.max_columns', 100)\n",
    "\n",
    "from modules import losses, models, samplers, searches, regularizers, evaluators, trainers, datasets, distributions"
   ]
  },
  {
   "cell_type": "markdown",
   "id": "5eefcce6-9e0c-4f5b-8c35-e33c6baccff9",
   "metadata": {},
   "source": [
    "# Output settings"
   ]
  },
  {
   "cell_type": "code",
   "execution_count": 2,
   "id": "67cec6f7-dd75-4344-b2c6-09890897b221",
   "metadata": {},
   "outputs": [],
   "source": [
    "out_to_file = True\n",
    "out_dir = '../../out/sampling/ml_20m/'\n",
    "\n",
    "if not os.path.exists(out_dir):\n",
    "    os.makedirs(out_dir)"
   ]
  },
  {
   "cell_type": "markdown",
   "id": "7d7072aa-f146-44e0-8377-cca8ff234bc0",
   "metadata": {},
   "source": [
    "# Dataset"
   ]
  },
  {
   "cell_type": "code",
   "execution_count": 3,
   "id": "e86ae9cc-2b94-447d-b915-152a9ba0494e",
   "metadata": {},
   "outputs": [],
   "source": [
    "dataset = datasets.ML20m()\n",
    "n_user = dataset.n_user\n",
    "n_item = dataset.n_item\n",
    "n_feedback = dataset.n_pos_pairs\n",
    "train_set, test_set = dataset.get_train_and_test_set(neg_pair_weight=10)"
   ]
  },
  {
   "cell_type": "code",
   "execution_count": 4,
   "id": "762c8805-9418-46ec-afe3-a7bae19f6f53",
   "metadata": {},
   "outputs": [
    {
     "name": "stdout",
     "output_type": "stream",
     "text": [
      "n_user = 137330\n",
      "n_item = 20720\n",
      "n_feedback = 9993294\n"
     ]
    }
   ],
   "source": [
    "print(f'n_user = {n_user}')\n",
    "print(f'n_item = {n_item}')\n",
    "print(f'n_feedback = {n_feedback}')"
   ]
  },
  {
   "cell_type": "markdown",
   "id": "1d53a576-4151-4151-9d3c-2f6f66cf277c",
   "metadata": {
    "tags": []
   },
   "source": [
    "# Device"
   ]
  },
  {
   "cell_type": "code",
   "execution_count": 5,
   "id": "06735b88-91af-4674-9a92-929e84aa01a1",
   "metadata": {},
   "outputs": [],
   "source": [
    "device = torch.device(\"cuda:0\" if torch.cuda.is_available() else \"cpu\")\n",
    "train_set = torch.LongTensor(train_set).to(device)\n",
    "test_set = torch.FloatTensor(test_set).to(device)"
   ]
  },
  {
   "cell_type": "code",
   "execution_count": 6,
   "id": "e205f050-0112-4e49-8823-81babbd785f1",
   "metadata": {},
   "outputs": [
    {
     "name": "stdout",
     "output_type": "stream",
     "text": [
      "cuda:0\n"
     ]
    }
   ],
   "source": [
    "print(device)"
   ]
  },
  {
   "cell_type": "markdown",
   "id": "781edec3-c706-43a5-9d91-e0cb2d60c024",
   "metadata": {},
   "source": [
    "# Evaluator"
   ]
  },
  {
   "cell_type": "code",
   "execution_count": 7,
   "id": "2c87126b-82cf-489b-9d0d-878d640e2d62",
   "metadata": {},
   "outputs": [],
   "source": [
    "# The size of recommendation set (K)\n",
    "ks = [10]\n",
    "\n",
    "score_function_dict = {\n",
    "    \"Recall\"        : evaluators.recall,\n",
    "    \"Unpopularity\"  : evaluators.unpopularity,\n",
    "    \"Serendipity\"   : evaluators.serendipity,\n",
    "    \"Long-tail rate\": evaluators.longtail_rate,\n",
    "}\n",
    "userwise = evaluators.UserwiseEvaluator(test_set, score_function_dict, ks)"
   ]
  },
  {
   "cell_type": "markdown",
   "id": "9d563e19-4dd3-453f-8958-79c49bead201",
   "metadata": {},
   "source": [
    "# Sampler"
   ]
  },
  {
   "cell_type": "code",
   "execution_count": 8,
   "id": "df3a8457-216e-420b-8abb-f71c139eb3a8",
   "metadata": {},
   "outputs": [],
   "source": [
    "sampler = samplers.BaseSampler(train_set, n_user, n_item, device=device, strict_negative=False)"
   ]
  },
  {
   "cell_type": "markdown",
   "id": "a17ecbab-925b-4978-a7b1-6762c98e266c",
   "metadata": {},
   "source": [
    "# Model"
   ]
  },
  {
   "cell_type": "code",
   "execution_count": 9,
   "id": "5661d266-bd6d-4cb1-a184-3706a52d8cbb",
   "metadata": {},
   "outputs": [],
   "source": [
    "# Hyperparameters\n",
    "lr = 1e-3\n",
    "n_dim = 10\n",
    "n_batch = 256\n",
    "n_epoch = 50\n",
    "no_progressbar = True\n",
    "\n",
    "model = models.CollaborativeMetricLearning(n_user, n_item, n_dim).to(device)\n",
    "optimizer = optim.Adam(model.parameters(), lr=lr)\n",
    "criterion = losses.SumTripletLoss(margin=1).to(device)\n",
    "trainer = trainers.BaseTrainer(model, optimizer, criterion, sampler, no_progressbar)"
   ]
  },
  {
   "cell_type": "markdown",
   "id": "a0c3d4d8-3b92-477e-b50c-f0d7138c2650",
   "metadata": {},
   "source": [
    "# Training"
   ]
  },
  {
   "cell_type": "code",
   "execution_count": 10,
   "id": "47856841-6278-4cc9-8597-ce4ec57e0fcd",
   "metadata": {},
   "outputs": [],
   "source": [
    "trainer.fit(n_batch, n_epoch)"
   ]
  },
  {
   "cell_type": "markdown",
   "id": "67498b1b-5d4b-4816-b7d0-3add393d05bf",
   "metadata": {},
   "source": [
    "# Result"
   ]
  },
  {
   "cell_type": "markdown",
   "id": "6fd9e697-f65d-4b27-9e66-8b76e889748c",
   "metadata": {
    "tags": []
   },
   "source": [
    "## CML (Base)"
   ]
  },
  {
   "cell_type": "code",
   "execution_count": 11,
   "id": "94d99df4-89d5-4aee-9cb0-ece45cf93e30",
   "metadata": {},
   "outputs": [],
   "source": [
    "knn = searches.NearestNeighborhood(model)"
   ]
  },
  {
   "cell_type": "code",
   "execution_count": 12,
   "id": "3e0fc666-f2fc-4bd3-adc2-c7fc7c5d61fa",
   "metadata": {},
   "outputs": [],
   "source": [
    "trainer.valid(knn, userwise)\n",
    "re_base = trainer.valid_scores.copy()"
   ]
  },
  {
   "cell_type": "code",
   "execution_count": 13,
   "id": "61534fc0-5321-40b0-8dfe-e8a429bb526c",
   "metadata": {},
   "outputs": [
    {
     "data": {
      "text/html": [
       "<div>\n",
       "<style scoped>\n",
       "    .dataframe tbody tr th:only-of-type {\n",
       "        vertical-align: middle;\n",
       "    }\n",
       "\n",
       "    .dataframe tbody tr th {\n",
       "        vertical-align: top;\n",
       "    }\n",
       "\n",
       "    .dataframe thead th {\n",
       "        text-align: right;\n",
       "    }\n",
       "</style>\n",
       "<table border=\"1\" class=\"dataframe\">\n",
       "  <thead>\n",
       "    <tr style=\"text-align: right;\">\n",
       "      <th></th>\n",
       "      <th>Recall@10</th>\n",
       "      <th>Unpopularity@10</th>\n",
       "      <th>Serendipity@10</th>\n",
       "      <th>Long-tail rate@10</th>\n",
       "    </tr>\n",
       "  </thead>\n",
       "  <tbody>\n",
       "    <tr>\n",
       "      <th>0</th>\n",
       "      <td>0.487402</td>\n",
       "      <td>910.025099</td>\n",
       "      <td>2.214775</td>\n",
       "      <td>0.13451</td>\n",
       "    </tr>\n",
       "  </tbody>\n",
       "</table>\n",
       "</div>"
      ],
      "text/plain": [
       "   Recall@10  Unpopularity@10  Serendipity@10  Long-tail rate@10\n",
       "0   0.487402       910.025099        2.214775            0.13451"
      ]
     },
     "metadata": {},
     "output_type": "display_data"
    }
   ],
   "source": [
    "if out_to_file:\n",
    "    now = datetime.now()\n",
    "    file_name = now.strftime(\"base_%Y_%m_%d_%H%M.csv\")\n",
    "    re_base.to_csv(out_dir + file_name, index=False)\n",
    "\n",
    "display(re_base)"
   ]
  },
  {
   "cell_type": "markdown",
   "id": "f361de71-d304-4316-b5e8-fbcb8833607a",
   "metadata": {
    "tags": []
   },
   "source": [
    "# MPCMP"
   ]
  },
  {
   "cell_type": "code",
   "execution_count": 14,
   "id": "289a0a72-c53d-4b0a-b594-f28c7f63cd0b",
   "metadata": {},
   "outputs": [],
   "source": [
    "# Hyperparameters\n",
    "n_sample_li = [100, 200, 300, 400, 500, 600, 700, 800, 900, 1000]\n",
    "bias_1 = 0.5\n",
    "bias_2 = 0.8\n",
    "gamma = distributions.Gamma()"
   ]
  },
  {
   "cell_type": "code",
   "execution_count": 15,
   "id": "0712b293-6104-4598-9236-3218ce3c5dd1",
   "metadata": {},
   "outputs": [
    {
     "name": "stdout",
     "output_type": "stream",
     "text": [
      "Prosessing... [n_sample = 100]\n",
      "Prosessing... [n_sample = 200]\n",
      "Prosessing... [n_sample = 300]\n"
     ]
    },
    {
     "ename": "KeyboardInterrupt",
     "evalue": "",
     "output_type": "error",
     "traceback": [
      "\u001b[0;31m---------------------------------------------------------------------------\u001b[0m",
      "\u001b[0;31mKeyboardInterrupt\u001b[0m                         Traceback (most recent call last)",
      "Cell \u001b[0;32mIn[15], line 8\u001b[0m\n\u001b[1;32m      6\u001b[0m \u001b[38;5;66;03m# α = 0.5\u001b[39;00m\n\u001b[1;32m      7\u001b[0m mp \u001b[38;5;241m=\u001b[39m searches\u001b[38;5;241m.\u001b[39mMutualProximity(model, gamma, n_sample, bias_1)\n\u001b[0;32m----> 8\u001b[0m \u001b[43mtrainer\u001b[49m\u001b[38;5;241;43m.\u001b[39;49m\u001b[43mvalid\u001b[49m\u001b[43m(\u001b[49m\u001b[43mmp\u001b[49m\u001b[43m,\u001b[49m\u001b[43m \u001b[49m\u001b[43muserwise\u001b[49m\u001b[43m)\u001b[49m\n\u001b[1;32m      9\u001b[0m row \u001b[38;5;241m=\u001b[39m trainer\u001b[38;5;241m.\u001b[39mvalid_scores\u001b[38;5;241m.\u001b[39mcopy()\n\u001b[1;32m     10\u001b[0m row\u001b[38;5;241m.\u001b[39minsert(\u001b[38;5;241m0\u001b[39m, \u001b[38;5;124m'\u001b[39m\u001b[38;5;124mn_sample\u001b[39m\u001b[38;5;124m'\u001b[39m, n_sample)\n",
      "File \u001b[0;32m~/project/mpcml/experiment/notebook/sampling/../../../modules/trainers/BaseTrainer.py:131\u001b[0m, in \u001b[0;36mBaseTrainer.valid\u001b[0;34m(self, search, valid_evaluator)\u001b[0m\n\u001b[1;32m    126\u001b[0m \u001b[38;5;28;01mdef\u001b[39;00m \u001b[38;5;21mvalid\u001b[39m(\n\u001b[1;32m    127\u001b[0m         \u001b[38;5;28mself\u001b[39m,\n\u001b[1;32m    128\u001b[0m         search: BaseSearch,\n\u001b[1;32m    129\u001b[0m         valid_evaluator: Optional[BaseEvaluator]\n\u001b[1;32m    130\u001b[0m ):\n\u001b[0;32m--> 131\u001b[0m     \u001b[38;5;28mself\u001b[39m\u001b[38;5;241m.\u001b[39mvalid_scores \u001b[38;5;241m=\u001b[39m \u001b[43mvalid_evaluator\u001b[49m\u001b[38;5;241;43m.\u001b[39;49m\u001b[43mscore\u001b[49m\u001b[43m(\u001b[49m\u001b[43msearch\u001b[49m\u001b[43m,\u001b[49m\u001b[43m \u001b[49m\u001b[43mno_progressbar\u001b[49m\u001b[38;5;241;43m=\u001b[39;49m\u001b[38;5;28;43mself\u001b[39;49m\u001b[38;5;241;43m.\u001b[39;49m\u001b[43mno_progressbar\u001b[49m\u001b[43m)\u001b[49m\n",
      "File \u001b[0;32m~/project/mpcml/experiment/notebook/sampling/../../../modules/evaluators/UserwiseEvaluator.py:117\u001b[0m, in \u001b[0;36mUserwiseEvaluator.score\u001b[0;34m(self, search, reduction, no_progressbar)\u001b[0m\n\u001b[1;32m    114\u001b[0m df_eval \u001b[38;5;241m=\u001b[39m pd\u001b[38;5;241m.\u001b[39mDataFrame({name: [] \u001b[38;5;28;01mfor\u001b[39;00m name \u001b[38;5;129;01min\u001b[39;00m \u001b[38;5;28mself\u001b[39m\u001b[38;5;241m.\u001b[39mmetrics_names})\n\u001b[1;32m    116\u001b[0m \u001b[38;5;28;01mfor\u001b[39;00m uid \u001b[38;5;129;01min\u001b[39;00m tqdm(users, disable\u001b[38;5;241m=\u001b[39mno_progressbar):\n\u001b[0;32m--> 117\u001b[0m     df_eval_sub \u001b[38;5;241m=\u001b[39m \u001b[38;5;28;43mself\u001b[39;49m\u001b[38;5;241;43m.\u001b[39;49m\u001b[43meval_user\u001b[49m\u001b[43m(\u001b[49m\u001b[43msearch\u001b[49m\u001b[43m,\u001b[49m\u001b[43m \u001b[49m\u001b[43muid\u001b[49m\u001b[43m)\u001b[49m\n\u001b[1;32m    118\u001b[0m     df_eval \u001b[38;5;241m=\u001b[39m pd\u001b[38;5;241m.\u001b[39mconcat([df_eval, df_eval_sub])\n\u001b[1;32m    120\u001b[0m \u001b[38;5;28;01mif\u001b[39;00m reduction \u001b[38;5;241m==\u001b[39m \u001b[38;5;124m\"\u001b[39m\u001b[38;5;124mmean\u001b[39m\u001b[38;5;124m\"\u001b[39m:\n",
      "File \u001b[0;32m~/project/mpcml/experiment/notebook/sampling/../../../modules/evaluators/UserwiseEvaluator.py:91\u001b[0m, in \u001b[0;36mUserwiseEvaluator.eval_user\u001b[0;34m(self, search, uid)\u001b[0m\n\u001b[1;32m     88\u001b[0m test_set_pair \u001b[38;5;241m=\u001b[39m \u001b[38;5;28mself\u001b[39m\u001b[38;5;241m.\u001b[39mtest_set[user_indices, :\u001b[38;5;241m2\u001b[39m]\u001b[38;5;241m.\u001b[39mlong()\n\u001b[1;32m     90\u001b[0m \u001b[38;5;66;03m# distance for each user and item pair size (n_pairs)\u001b[39;00m\n\u001b[0;32m---> 91\u001b[0m y_hat_user \u001b[38;5;241m=\u001b[39m \u001b[43msearch\u001b[49m\u001b[38;5;241;43m.\u001b[39;49m\u001b[43mpredict\u001b[49m\u001b[43m(\u001b[49m\u001b[43mtest_set_pair\u001b[49m\u001b[43m)\u001b[49m\u001b[38;5;241m.\u001b[39mto(\u001b[38;5;124m\"\u001b[39m\u001b[38;5;124mcpu\u001b[39m\u001b[38;5;124m\"\u001b[39m)\u001b[38;5;241m.\u001b[39mdetach()\u001b[38;5;241m.\u001b[39mnumpy()\n\u001b[1;32m     92\u001b[0m truth \u001b[38;5;241m=\u001b[39m \u001b[38;5;28mself\u001b[39m\u001b[38;5;241m.\u001b[39mtest_set[user_indices, \u001b[38;5;241m2\u001b[39m]\u001b[38;5;241m.\u001b[39mto(\u001b[38;5;124m\"\u001b[39m\u001b[38;5;124mcpu\u001b[39m\u001b[38;5;124m\"\u001b[39m)\u001b[38;5;241m.\u001b[39mdetach()\u001b[38;5;241m.\u001b[39mnumpy()\n\u001b[1;32m     93\u001b[0m popularity \u001b[38;5;241m=\u001b[39m \u001b[38;5;28mself\u001b[39m\u001b[38;5;241m.\u001b[39mtest_set[user_indices, \u001b[38;5;241m3\u001b[39m]\u001b[38;5;241m.\u001b[39mto(\u001b[38;5;124m\"\u001b[39m\u001b[38;5;124mcpu\u001b[39m\u001b[38;5;124m\"\u001b[39m)\u001b[38;5;241m.\u001b[39mdetach()\u001b[38;5;241m.\u001b[39mnumpy()\n",
      "File \u001b[0;32m~/project/mpcml/experiment/notebook/sampling/../../../modules/searches/MutualProximity.py:120\u001b[0m, in \u001b[0;36mMutualProximity.predict\u001b[0;34m(self, pairs)\u001b[0m\n\u001b[1;32m    118\u001b[0m n_pairs \u001b[38;5;241m=\u001b[39m pairs\u001b[38;5;241m.\u001b[39msize()[\u001b[38;5;241m0\u001b[39m]\n\u001b[1;32m    119\u001b[0m users_params \u001b[38;5;241m=\u001b[39m \u001b[38;5;28mself\u001b[39m\u001b[38;5;241m.\u001b[39mcompute_users_distribution_params(user, n_pairs)  \u001b[38;5;66;03m# [n_pairs]\u001b[39;00m\n\u001b[0;32m--> 120\u001b[0m items_params \u001b[38;5;241m=\u001b[39m \u001b[38;5;28;43mself\u001b[39;49m\u001b[38;5;241;43m.\u001b[39;49m\u001b[43mcompute_items_distribution_params\u001b[49m\u001b[43m(\u001b[49m\u001b[43mitems\u001b[49m\u001b[43m,\u001b[49m\u001b[43m \u001b[49m\u001b[43mn_pairs\u001b[49m\u001b[43m)\u001b[49m  \u001b[38;5;66;03m# [n_pairs]\u001b[39;00m\n\u001b[1;32m    121\u001b[0m mp \u001b[38;5;241m=\u001b[39m \u001b[38;5;28mself\u001b[39m\u001b[38;5;241m.\u001b[39mcompute_mp(distances, users_params, items_params)\n\u001b[1;32m    123\u001b[0m \u001b[38;5;28;01mreturn\u001b[39;00m mp\n",
      "File \u001b[0;32m~/project/mpcml/experiment/notebook/sampling/../../../modules/searches/MutualProximity.py:67\u001b[0m, in \u001b[0;36mMutualProximity.compute_items_distribution_params\u001b[0;34m(self, items, n_pairs)\u001b[0m\n\u001b[1;32m     65\u001b[0m sample_users \u001b[38;5;241m=\u001b[39m torch\u001b[38;5;241m.\u001b[39mzeros((n_pairs, \u001b[38;5;28mself\u001b[39m\u001b[38;5;241m.\u001b[39mn_sample), dtype\u001b[38;5;241m=\u001b[39mtorch\u001b[38;5;241m.\u001b[39mint64)\n\u001b[1;32m     66\u001b[0m \u001b[38;5;28;01mfor\u001b[39;00m i \u001b[38;5;129;01min\u001b[39;00m \u001b[38;5;28mrange\u001b[39m(n_pairs):\n\u001b[0;32m---> 67\u001b[0m     row \u001b[38;5;241m=\u001b[39m \u001b[38;5;28;43mself\u001b[39;49m\u001b[38;5;241;43m.\u001b[39;49m\u001b[43msample_ids\u001b[49m\u001b[43m(\u001b[49m\u001b[38;5;28;43mself\u001b[39;49m\u001b[38;5;241;43m.\u001b[39;49m\u001b[43mmodel\u001b[49m\u001b[38;5;241;43m.\u001b[39;49m\u001b[43mn_user\u001b[49m\u001b[43m,\u001b[49m\u001b[43m \u001b[49m\u001b[38;5;28;43mself\u001b[39;49m\u001b[38;5;241;43m.\u001b[39;49m\u001b[43mn_sample\u001b[49m\u001b[43m)\u001b[49m\n\u001b[1;32m     68\u001b[0m     sample_users[i] \u001b[38;5;241m=\u001b[39m torch\u001b[38;5;241m.\u001b[39mtensor(row)\n\u001b[1;32m     69\u001b[0m sample_users \u001b[38;5;241m=\u001b[39m sample_users\u001b[38;5;241m.\u001b[39mto(\u001b[38;5;28mself\u001b[39m\u001b[38;5;241m.\u001b[39mdevice)\n",
      "File \u001b[0;32m~/project/mpcml/experiment/notebook/sampling/../../../modules/searches/MutualProximity.py:135\u001b[0m, in \u001b[0;36mMutualProximity.sample_ids\u001b[0;34m(n_objects, n_sample)\u001b[0m\n\u001b[1;32m    125\u001b[0m \u001b[38;5;129m@staticmethod\u001b[39m\n\u001b[1;32m    126\u001b[0m \u001b[38;5;28;01mdef\u001b[39;00m \u001b[38;5;21msample_ids\u001b[39m(n_objects: \u001b[38;5;28mint\u001b[39m, n_sample: \u001b[38;5;28mint\u001b[39m):\n\u001b[1;32m    127\u001b[0m \u001b[38;5;250m    \u001b[39m\u001b[38;5;124;03m\"\"\"\u001b[39;00m\n\u001b[1;32m    128\u001b[0m \u001b[38;5;124;03m    Args:\u001b[39;00m\n\u001b[1;32m    129\u001b[0m \u001b[38;5;124;03m        n_objects : the number of all user of item\u001b[39;00m\n\u001b[0;32m   (...)\u001b[0m\n\u001b[1;32m    132\u001b[0m \u001b[38;5;124;03m        samples : the indices of sampled users or items\u001b[39;00m\n\u001b[1;32m    133\u001b[0m \u001b[38;5;124;03m    \"\"\"\u001b[39;00m\n\u001b[0;32m--> 135\u001b[0m     \u001b[38;5;28;01mreturn\u001b[39;00m \u001b[43mrandom\u001b[49m\u001b[38;5;241;43m.\u001b[39;49m\u001b[43msample\u001b[49m\u001b[43m(\u001b[49m\u001b[38;5;28;43mrange\u001b[39;49m\u001b[43m(\u001b[49m\u001b[43mn_objects\u001b[49m\u001b[43m)\u001b[49m\u001b[43m,\u001b[49m\u001b[43m \u001b[49m\u001b[43mn_sample\u001b[49m\u001b[43m)\u001b[49m\n",
      "File \u001b[0;32m~/anaconda3/envs/bachelor2/lib/python3.8/random.py:382\u001b[0m, in \u001b[0;36mRandom.sample\u001b[0;34m(self, population, k)\u001b[0m\n\u001b[1;32m    380\u001b[0m         \u001b[38;5;28;01mwhile\u001b[39;00m j \u001b[38;5;129;01min\u001b[39;00m selected:\n\u001b[1;32m    381\u001b[0m             j \u001b[38;5;241m=\u001b[39m randbelow(n)\n\u001b[0;32m--> 382\u001b[0m         \u001b[43mselected_add\u001b[49m\u001b[43m(\u001b[49m\u001b[43mj\u001b[49m\u001b[43m)\u001b[49m\n\u001b[1;32m    383\u001b[0m         result[i] \u001b[38;5;241m=\u001b[39m population[j]\n\u001b[1;32m    384\u001b[0m \u001b[38;5;28;01mreturn\u001b[39;00m result\n",
      "\u001b[0;31mKeyboardInterrupt\u001b[0m: "
     ]
    }
   ],
   "source": [
    "rows_1 = []\n",
    "rows_2 = []\n",
    "for n_sample in n_sample_li:\n",
    "    print(f'Prosessing... [n_sample = {n_sample}]')\n",
    "    \n",
    "    # α = 0.5\n",
    "    mp = searches.MutualProximity(model, gamma, n_sample, bias_1)\n",
    "    trainer.valid(mp, userwise)\n",
    "    row = trainer.valid_scores.copy()\n",
    "    row.insert(0, 'n_sample', n_sample)\n",
    "    rows_1.append(row)\n",
    "    \n",
    "    # α = 0.8\n",
    "    mp = searches.MutualProximity(model, gamma, n_sample, bias_2)\n",
    "    trainer.valid(mp, userwise)\n",
    "    row = trainer.valid_scores.copy()\n",
    "    row.insert(0, 'n_sample', n_sample)\n",
    "    rows_2.append(row)\n",
    "\n",
    "re_mpcml_1 = pd.concat(rows_1)\n",
    "re_mpcml_2 = pd.concat(rows_2)"
   ]
  },
  {
   "cell_type": "code",
   "execution_count": null,
   "id": "7e75974b-f67e-4bdb-b787-3f73c4742cda",
   "metadata": {},
   "outputs": [],
   "source": [
    "if out_to_file:\n",
    "    now = datetime.now()\n",
    "    file_name = now.strftime(\"mpcml_bias1_%Y_%m_%d_%H%M.csv\")\n",
    "    re_mpcml_1.to_csv(out_dir + file_name, index=False)\n",
    "\n",
    "display(re_mpcml_1)"
   ]
  },
  {
   "cell_type": "code",
   "execution_count": null,
   "id": "5016bcab-f8b6-4712-9e47-3f5b397bf66f",
   "metadata": {},
   "outputs": [],
   "source": [
    "if out_to_file:\n",
    "    now = datetime.now()\n",
    "    file_name = now.strftime(\"mpcml_bias2_%Y_%m_%d_%H%M.csv\")\n",
    "    re_mpcml_2.to_csv(out_dir + file_name, index=False)\n",
    "\n",
    "display(re_mpcml_2)"
   ]
  },
  {
   "cell_type": "markdown",
   "id": "1325e652-60c2-4cc5-9bcb-ef5bbad33d74",
   "metadata": {},
   "source": [
    "## Show"
   ]
  },
  {
   "cell_type": "code",
   "execution_count": null,
   "id": "b2d6ab9a-9f07-400f-843d-211e9ed59a2c",
   "metadata": {},
   "outputs": [],
   "source": [
    "# df -> list\n",
    "\n",
    "k = 10\n",
    "n_n_sample = len(n_sample_li)\n",
    "\n",
    "# CML(Base)\n",
    "recall_base           = re_base[f'Recall@{k}'].tolist() * n_n_sample\n",
    "unpopularity_base     = re_base[f'Unpopularity@{k}'].tolist() * n_n_sample\n",
    "serendipity_base      = re_base[f'Serendipity@{k}'].tolist() * n_n_sample\n",
    "longtale_base         = re_base[f'Long-tail rate@{k}'].tolist() * n_n_sample\n",
    "\n",
    "# MPCML (α = 0.5)\n",
    "recall_mpcml_1        = re_mpcml_1[f'Recall@{k}'].tolist()\n",
    "unpopularity_mpcml_1  = re_mpcml_1[f'Unpopularity@{k}'].tolist()\n",
    "serendipity_mpcml_1   = re_mpcml_1[f'Serendipity@{k}'].tolist()\n",
    "longtale_mpcml_1      = re_mpcml_1[f'Long-tail rate@{k}'].tolist()\n",
    "\n",
    "# MPCML (α = 0.8)\n",
    "recall_mpcml_2        = re_mpcml_2[f'Recall@{k}'].tolist()\n",
    "unpopularity_mpcml_2  = re_mpcml_2[f'Unpopularity@{k}'].tolist()\n",
    "serendipity_mpcml_2   = re_mpcml_2[f'Serendipity@{k}'].tolist()\n",
    "longtale_mpcml_2      = re_mpcml_2[f'Long-tail rate@{k}'].tolist()"
   ]
  },
  {
   "cell_type": "markdown",
   "id": "3904efb5-721e-42f2-877d-2ebf7c7dff69",
   "metadata": {},
   "source": [
    "### Recall"
   ]
  },
  {
   "cell_type": "code",
   "execution_count": null,
   "id": "d3a124b5-d411-4c69-ad5d-927a6dd3aab5",
   "metadata": {},
   "outputs": [],
   "source": [
    "plt.figure(figsize=(10, 6))\n",
    "plt.plot(n_sample_li, recall_base, label='CML')\n",
    "plt.plot(n_sample_li, recall_mpcml_1, label='MPCML(α=0.5)', marker='o')\n",
    "plt.plot(n_sample_li, recall_mpcml_2, label='MPCML(α=0.8)', marker='s')\n",
    "\n",
    "plt.xticks(n_sample_li)\n",
    "plt.xlabel('n_sample (S)')\n",
    "plt.ylabel('Recall')\n",
    "plt.legend()\n",
    "plt.grid(axis='y')\n",
    "\n",
    "if out_to_file:\n",
    "    now = datetime.now()\n",
    "    file_name = now.strftime(\"recall_%Y_%m_%d_%H%M.png\")\n",
    "    plt.savefig(out_dir + file_name, bbox_inches='tight')\n",
    "\n",
    "plt.show()"
   ]
  },
  {
   "cell_type": "markdown",
   "id": "852c79bf-ca42-43e2-a399-fb6196598206",
   "metadata": {},
   "source": [
    "### Unpopularity"
   ]
  },
  {
   "cell_type": "code",
   "execution_count": null,
   "id": "0545604f-05a7-47e9-a402-ed52e62c30a5",
   "metadata": {},
   "outputs": [],
   "source": [
    "plt.figure(figsize=(10, 6))\n",
    "plt.plot(n_sample_li, unpopularity_base, label='CML')\n",
    "plt.plot(n_sample_li, unpopularity_mpcml_1, label='MPCML(α=0.5)', marker='o')\n",
    "plt.plot(n_sample_li, unpopularity_mpcml_2, label='MPCML(α=0.8)', marker='s')\n",
    "\n",
    "plt.xticks(n_sample_li)\n",
    "plt.xlabel('n_sample (S)')\n",
    "plt.ylabel('Unpopularity')\n",
    "plt.legend()\n",
    "plt.grid(axis='y')\n",
    "\n",
    "if out_to_file:\n",
    "    now = datetime.now()\n",
    "    file_name = now.strftime(\"unpopularity_%Y_%m_%d_%H%M.png\")\n",
    "    plt.savefig(out_dir + file_name, bbox_inches='tight')\n",
    "\n",
    "plt.show()"
   ]
  },
  {
   "cell_type": "markdown",
   "id": "f3b5e9b3-5018-4101-86a1-e08528bf5272",
   "metadata": {},
   "source": [
    "### Serendipity"
   ]
  },
  {
   "cell_type": "code",
   "execution_count": null,
   "id": "ad17bf55-def6-4218-b756-71cbd79c47f1",
   "metadata": {},
   "outputs": [],
   "source": [
    "plt.figure(figsize=(10, 6))\n",
    "plt.plot(n_sample_li, serendipity_base, label='CML')\n",
    "plt.plot(n_sample_li, serendipity_mpcml_1, label='MPCML(α=0.5)', marker='o')\n",
    "plt.plot(n_sample_li, serendipity_mpcml_2, label='MPCML(α=0.8)', marker='s')\n",
    "\n",
    "plt.xticks(n_sample_li)\n",
    "plt.xlabel('n_sample (S)')\n",
    "plt.ylabel('Serendipity')\n",
    "plt.legend()\n",
    "plt.grid(axis='y')\n",
    "\n",
    "if out_to_file:\n",
    "    now = datetime.now()\n",
    "    file_name = now.strftime(\"serendipity_%Y_%m_%d_%H%M.png\")\n",
    "    plt.savefig(out_dir + file_name, bbox_inches='tight')\n",
    "\n",
    "plt.show()"
   ]
  },
  {
   "cell_type": "markdown",
   "id": "61ccc35e-b3eb-4f99-a5da-3fe0e0c836e4",
   "metadata": {},
   "source": [
    "### Long-tail rate"
   ]
  },
  {
   "cell_type": "code",
   "execution_count": null,
   "id": "d778c275-6da5-4365-b137-e9ca942995e8",
   "metadata": {},
   "outputs": [],
   "source": [
    "plt.figure(figsize=(10, 6))\n",
    "plt.plot(n_sample_li, longtale_base, label='CML')\n",
    "plt.plot(n_sample_li, longtale_mpcml_1, label='MPCML(α=0.5)', marker='o')\n",
    "plt.plot(n_sample_li, longtale_mpcml_2, label='MPCML(α=0.8)', marker='s')\n",
    "\n",
    "plt.xticks(n_sample_li)\n",
    "plt.xlabel('n_sample (S)')\n",
    "plt.ylabel('Long-tail rate')\n",
    "plt.legend()\n",
    "plt.grid(axis='y')\n",
    "\n",
    "if out_to_file:\n",
    "    now = datetime.now()\n",
    "    file_name = now.strftime(\"longtail_%Y_%m_%d_%H%M.png\")\n",
    "    plt.savefig(out_dir + file_name, bbox_inches='tight')\n",
    "\n",
    "plt.show()"
   ]
  },
  {
   "cell_type": "code",
   "execution_count": null,
   "id": "7873b187-b246-4c2d-9b2c-b42defae6c9f",
   "metadata": {},
   "outputs": [],
   "source": []
  }
 ],
 "metadata": {
  "kernelspec": {
   "display_name": "bachelor2",
   "language": "python",
   "name": "bachelor2"
  },
  "language_info": {
   "codemirror_mode": {
    "name": "ipython",
    "version": 3
   },
   "file_extension": ".py",
   "mimetype": "text/x-python",
   "name": "python",
   "nbconvert_exporter": "python",
   "pygments_lexer": "ipython3",
   "version": "3.8.17"
  }
 },
 "nbformat": 4,
 "nbformat_minor": 5
}
