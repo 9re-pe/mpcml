{
 "cells": [
  {
   "cell_type": "markdown",
   "id": "67cbdfd0-313a-4884-921d-01128e8062e6",
   "metadata": {
    "tags": []
   },
   "source": [
    "# Import"
   ]
  },
  {
   "cell_type": "code",
   "execution_count": 1,
   "id": "b1540c52-063a-4da4-8cdb-269b5e49518d",
   "metadata": {},
   "outputs": [],
   "source": [
    "import sys\n",
    "\n",
    "#TODO: 相対パス\n",
    "root_dir = '/Users/taichi/Library/CloudStorage/OneDrive-個人用/Documents/project/lab/bachelor/cml_pytorch2'\n",
    "if root_dir not in sys.path:\n",
    "    sys.path.append('/Users/taichi/Library/CloudStorage/OneDrive-個人用/Documents/project/lab/bachelor/cml_pytorch2')\n",
    "\n",
    "from modules import datasets"
   ]
  },
  {
   "cell_type": "markdown",
   "id": "f36fc2b5-b350-43b3-b5b8-cbc85ee56f02",
   "metadata": {},
   "source": [
    "# MovieLends 100K"
   ]
  },
  {
   "cell_type": "code",
   "execution_count": null,
   "id": "c501c97b-2bc5-4590-9fb9-d1a9a5a291ec",
   "metadata": {},
   "outputs": [],
   "source": [
    "dataset = datasets.ML100k()\n",
    "dataset.show_item_popularity_dist()"
   ]
  },
  {
   "cell_type": "markdown",
   "id": "89ae0a44-ee0f-473e-80c2-c6fa778c33b0",
   "metadata": {},
   "source": [
    "# MovieLends 200K"
   ]
  },
  {
   "cell_type": "code",
   "execution_count": null,
   "id": "41415899-d7df-434b-b7c3-2204f741d451",
   "metadata": {},
   "outputs": [],
   "source": [
    "dataset = datasets.ML100k()\n",
    "dataset.show_item_popularity_dist()"
   ]
  },
  {
   "cell_type": "markdown",
   "id": "dcde64e5-b69c-4015-b86b-800fef102d2a",
   "metadata": {},
   "source": [
    "# Yelp"
   ]
  },
  {
   "cell_type": "code",
   "execution_count": null,
   "id": "9ff377e0-558c-4ad8-9546-ee1527385d25",
   "metadata": {},
   "outputs": [],
   "source": [
    "dataset = datasets.ML100k()\n",
    "dataset.show_item_popularity_dist()"
   ]
  }
 ],
 "metadata": {
  "kernelspec": {
   "display_name": "bachelor2",
   "language": "python",
   "name": "bachelor2"
  },
  "language_info": {
   "codemirror_mode": {
    "name": "ipython",
    "version": 3
   },
   "file_extension": ".py",
   "mimetype": "text/x-python",
   "name": "python",
   "nbconvert_exporter": "python",
   "pygments_lexer": "ipython3",
   "version": "3.8.17"
  }
 },
 "nbformat": 4,
 "nbformat_minor": 5
}
